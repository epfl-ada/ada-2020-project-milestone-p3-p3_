{
 "cells": [
  {
   "cell_type": "code",
   "execution_count": 209,
   "metadata": {},
   "outputs": [],
   "source": [
    "import pandas as pd\n",
    "import numpy as np\n",
    "from tqdm import tqdm\n",
    "import itertools\n",
    "import networkx as nx\n",
    "import matplotlib.pyplot as plt\n",
    "import plotly\n",
    "import plotly.graph_objects as go\n",
    "import math"
   ]
  },
  {
   "cell_type": "markdown",
   "metadata": {},
   "source": [
    "load the data"
   ]
  },
  {
   "cell_type": "code",
   "execution_count": 149,
   "metadata": {},
   "outputs": [
    {
     "data": {
      "text/html": [
       "<div>\n",
       "<style scoped>\n",
       "    .dataframe tbody tr th:only-of-type {\n",
       "        vertical-align: middle;\n",
       "    }\n",
       "\n",
       "    .dataframe tbody tr th {\n",
       "        vertical-align: top;\n",
       "    }\n",
       "\n",
       "    .dataframe thead tr th {\n",
       "        text-align: left;\n",
       "    }\n",
       "\n",
       "    .dataframe thead tr:last-of-type th {\n",
       "        text-align: right;\n",
       "    }\n",
       "</style>\n",
       "<table border=\"1\" class=\"dataframe\">\n",
       "  <thead>\n",
       "    <tr>\n",
       "      <th></th>\n",
       "      <th>longitude</th>\n",
       "      <th>latitude</th>\n",
       "      <th>country</th>\n",
       "    </tr>\n",
       "    <tr>\n",
       "      <th></th>\n",
       "      <th>mean</th>\n",
       "      <th>mean</th>\n",
       "      <th></th>\n",
       "    </tr>\n",
       "    <tr>\n",
       "      <th>user_id</th>\n",
       "      <th></th>\n",
       "      <th></th>\n",
       "      <th></th>\n",
       "    </tr>\n",
       "  </thead>\n",
       "  <tbody>\n",
       "    <tr>\n",
       "      <th>0</th>\n",
       "      <td>-105.009140</td>\n",
       "      <td>39.756108</td>\n",
       "      <td>US</td>\n",
       "    </tr>\n",
       "    <tr>\n",
       "      <th>1</th>\n",
       "      <td>-122.353819</td>\n",
       "      <td>37.581821</td>\n",
       "      <td>US</td>\n",
       "    </tr>\n",
       "    <tr>\n",
       "      <th>2</th>\n",
       "      <td>-105.041977</td>\n",
       "      <td>39.771737</td>\n",
       "      <td>US</td>\n",
       "    </tr>\n",
       "    <tr>\n",
       "      <th>3</th>\n",
       "      <td>-122.424280</td>\n",
       "      <td>37.765768</td>\n",
       "      <td>US</td>\n",
       "    </tr>\n",
       "    <tr>\n",
       "      <th>4</th>\n",
       "      <td>24.937299</td>\n",
       "      <td>60.173985</td>\n",
       "      <td>FI</td>\n",
       "    </tr>\n",
       "    <tr>\n",
       "      <th>...</th>\n",
       "      <td>...</td>\n",
       "      <td>...</td>\n",
       "      <td>...</td>\n",
       "    </tr>\n",
       "    <tr>\n",
       "      <th>58222</th>\n",
       "      <td>35.833333</td>\n",
       "      <td>33.833333</td>\n",
       "      <td>LB</td>\n",
       "    </tr>\n",
       "    <tr>\n",
       "      <th>58224</th>\n",
       "      <td>35.833333</td>\n",
       "      <td>33.833333</td>\n",
       "      <td>LB</td>\n",
       "    </tr>\n",
       "    <tr>\n",
       "      <th>58225</th>\n",
       "      <td>35.833333</td>\n",
       "      <td>33.833333</td>\n",
       "      <td>LB</td>\n",
       "    </tr>\n",
       "    <tr>\n",
       "      <th>58226</th>\n",
       "      <td>35.833333</td>\n",
       "      <td>33.833333</td>\n",
       "      <td>LB</td>\n",
       "    </tr>\n",
       "    <tr>\n",
       "      <th>58227</th>\n",
       "      <td>35.833333</td>\n",
       "      <td>33.833333</td>\n",
       "      <td>LB</td>\n",
       "    </tr>\n",
       "  </tbody>\n",
       "</table>\n",
       "<p>50686 rows × 3 columns</p>\n",
       "</div>"
      ],
      "text/plain": [
       "          longitude   latitude country\n",
       "               mean       mean        \n",
       "user_id                               \n",
       "0       -105.009140  39.756108      US\n",
       "1       -122.353819  37.581821      US\n",
       "2       -105.041977  39.771737      US\n",
       "3       -122.424280  37.765768      US\n",
       "4         24.937299  60.173985      FI\n",
       "...             ...        ...     ...\n",
       "58222     35.833333  33.833333      LB\n",
       "58224     35.833333  33.833333      LB\n",
       "58225     35.833333  33.833333      LB\n",
       "58226     35.833333  33.833333      LB\n",
       "58227     35.833333  33.833333      LB\n",
       "\n",
       "[50686 rows x 3 columns]"
      ]
     },
     "execution_count": 149,
     "metadata": {},
     "output_type": "execute_result"
    }
   ],
   "source": [
    "homes_B = pd.read_pickle(\"data/B_homes.pickle\")\n",
    "homes_G = pd.read_pickle(\"data/G_homes.pickle\")\n",
    "\n",
    "names_edges = [\"from_id\", \"to_id\"]\n",
    "\n",
    "edges_B = pd.read_table(\"Brightkite_edges.txt\", names=names_edges).dropna()\n",
    "edges_G = pd.read_table(\"Gowalla_edges.txt\", names=names_edges).dropna()\n",
    "\n",
    "countries = pd.read_pickle(\"data/countries.pkl\")\n",
    "\n",
    "homes_B"
   ]
  },
  {
   "cell_type": "markdown",
   "metadata": {},
   "source": [
    "add religions"
   ]
  },
  {
   "cell_type": "code",
   "execution_count": null,
   "metadata": {},
   "outputs": [],
   "source": []
  },
  {
   "cell_type": "markdown",
   "metadata": {},
   "source": [
    "remove bidirection"
   ]
  },
  {
   "cell_type": "code",
   "execution_count": 150,
   "metadata": {},
   "outputs": [],
   "source": [
    "edges_B[[\"from_id\", \"to_id\"]] = np.sort(edges_B[[\"from_id\", \"to_id\"]].values, axis=1)\n",
    "edges_B = edges_B.drop_duplicates()\n",
    "edges_G[[\"from_id\", \"to_id\"]] = np.sort(edges_G[[\"from_id\", \"to_id\"]].values, axis=1)\n",
    "edges_G = edges_G.drop_duplicates()"
   ]
  },
  {
   "cell_type": "markdown",
   "metadata": {},
   "source": [
    "for each social network, add all the friends an their properties"
   ]
  },
  {
   "cell_type": "code",
   "execution_count": 151,
   "metadata": {},
   "outputs": [
    {
     "name": "stderr",
     "output_type": "stream",
     "text": [
      "/home/dcelik/.virtualenvs/ada/lib/python3.8/site-packages/pandas/core/reshape/merge.py:643: UserWarning: merging between different levels can give an unintended result (2 levels on the left,1 on the right)\n",
      "  warnings.warn(msg, UserWarning)\n"
     ]
    },
    {
     "data": {
      "text/html": [
       "<div>\n",
       "<style scoped>\n",
       "    .dataframe tbody tr th:only-of-type {\n",
       "        vertical-align: middle;\n",
       "    }\n",
       "\n",
       "    .dataframe tbody tr th {\n",
       "        vertical-align: top;\n",
       "    }\n",
       "\n",
       "    .dataframe thead th {\n",
       "        text-align: right;\n",
       "    }\n",
       "</style>\n",
       "<table border=\"1\" class=\"dataframe\">\n",
       "  <thead>\n",
       "    <tr style=\"text-align: right;\">\n",
       "      <th></th>\n",
       "      <th>country</th>\n",
       "      <th>languages</th>\n",
       "      <th>main_religion</th>\n",
       "      <th>friend_country</th>\n",
       "      <th>friend_languages</th>\n",
       "      <th>friend_main_religion</th>\n",
       "    </tr>\n",
       "  </thead>\n",
       "  <tbody>\n",
       "    <tr>\n",
       "      <th>0</th>\n",
       "      <td>US</td>\n",
       "      <td>[English, Spanish, Chinese]</td>\n",
       "      <td>Christianity</td>\n",
       "      <td>US</td>\n",
       "      <td>[English, Spanish, Chinese]</td>\n",
       "      <td>Christianity</td>\n",
       "    </tr>\n",
       "    <tr>\n",
       "      <th>1</th>\n",
       "      <td>US</td>\n",
       "      <td>[English, Spanish, Chinese]</td>\n",
       "      <td>Christianity</td>\n",
       "      <td>US</td>\n",
       "      <td>[English, Spanish, Chinese]</td>\n",
       "      <td>Christianity</td>\n",
       "    </tr>\n",
       "    <tr>\n",
       "      <th>2</th>\n",
       "      <td>US</td>\n",
       "      <td>[English, Spanish, Chinese]</td>\n",
       "      <td>Christianity</td>\n",
       "      <td>US</td>\n",
       "      <td>[English, Spanish, Chinese]</td>\n",
       "      <td>Christianity</td>\n",
       "    </tr>\n",
       "    <tr>\n",
       "      <th>3</th>\n",
       "      <td>US</td>\n",
       "      <td>[English, Spanish, Chinese]</td>\n",
       "      <td>Christianity</td>\n",
       "      <td>US</td>\n",
       "      <td>[English, Spanish, Chinese]</td>\n",
       "      <td>Christianity</td>\n",
       "    </tr>\n",
       "    <tr>\n",
       "      <th>4</th>\n",
       "      <td>US</td>\n",
       "      <td>[English, Spanish, Chinese]</td>\n",
       "      <td>Christianity</td>\n",
       "      <td>US</td>\n",
       "      <td>[English, Spanish, Chinese]</td>\n",
       "      <td>Christianity</td>\n",
       "    </tr>\n",
       "    <tr>\n",
       "      <th>...</th>\n",
       "      <td>...</td>\n",
       "      <td>...</td>\n",
       "      <td>...</td>\n",
       "      <td>...</td>\n",
       "      <td>...</td>\n",
       "      <td>...</td>\n",
       "    </tr>\n",
       "    <tr>\n",
       "      <th>205845</th>\n",
       "      <td>CA</td>\n",
       "      <td>[English, French, Punjabi]</td>\n",
       "      <td>Christianity</td>\n",
       "      <td>GN</td>\n",
       "      <td>[French, Pular, Maninka]</td>\n",
       "      <td>Islam</td>\n",
       "    </tr>\n",
       "    <tr>\n",
       "      <th>205846</th>\n",
       "      <td>CA</td>\n",
       "      <td>[English, French, Punjabi]</td>\n",
       "      <td>Christianity</td>\n",
       "      <td>GN</td>\n",
       "      <td>[French, Pular, Maninka]</td>\n",
       "      <td>Islam</td>\n",
       "    </tr>\n",
       "    <tr>\n",
       "      <th>205847</th>\n",
       "      <td>CA</td>\n",
       "      <td>[English, French, Punjabi]</td>\n",
       "      <td>Christianity</td>\n",
       "      <td>GN</td>\n",
       "      <td>[French, Pular, Maninka]</td>\n",
       "      <td>Islam</td>\n",
       "    </tr>\n",
       "    <tr>\n",
       "      <th>205848</th>\n",
       "      <td>CA</td>\n",
       "      <td>[English, French, Punjabi]</td>\n",
       "      <td>Christianity</td>\n",
       "      <td>GN</td>\n",
       "      <td>[French, Pular, Maninka]</td>\n",
       "      <td>Islam</td>\n",
       "    </tr>\n",
       "    <tr>\n",
       "      <th>205849</th>\n",
       "      <td>IE</td>\n",
       "      <td>[English, Irish]</td>\n",
       "      <td>Christianity</td>\n",
       "      <td>LT</td>\n",
       "      <td>[Lithuanian, Russian, Polish]</td>\n",
       "      <td>Christianity</td>\n",
       "    </tr>\n",
       "  </tbody>\n",
       "</table>\n",
       "<p>205850 rows × 6 columns</p>\n",
       "</div>"
      ],
      "text/plain": [
       "       country                    languages main_religion friend_country  \\\n",
       "0           US  [English, Spanish, Chinese]  Christianity             US   \n",
       "1           US  [English, Spanish, Chinese]  Christianity             US   \n",
       "2           US  [English, Spanish, Chinese]  Christianity             US   \n",
       "3           US  [English, Spanish, Chinese]  Christianity             US   \n",
       "4           US  [English, Spanish, Chinese]  Christianity             US   \n",
       "...        ...                          ...           ...            ...   \n",
       "205845      CA   [English, French, Punjabi]  Christianity             GN   \n",
       "205846      CA   [English, French, Punjabi]  Christianity             GN   \n",
       "205847      CA   [English, French, Punjabi]  Christianity             GN   \n",
       "205848      CA   [English, French, Punjabi]  Christianity             GN   \n",
       "205849      IE             [English, Irish]  Christianity             LT   \n",
       "\n",
       "                     friend_languages friend_main_religion  \n",
       "0         [English, Spanish, Chinese]         Christianity  \n",
       "1         [English, Spanish, Chinese]         Christianity  \n",
       "2         [English, Spanish, Chinese]         Christianity  \n",
       "3         [English, Spanish, Chinese]         Christianity  \n",
       "4         [English, Spanish, Chinese]         Christianity  \n",
       "...                               ...                  ...  \n",
       "205845       [French, Pular, Maninka]                Islam  \n",
       "205846       [French, Pular, Maninka]                Islam  \n",
       "205847       [French, Pular, Maninka]                Islam  \n",
       "205848       [French, Pular, Maninka]                Islam  \n",
       "205849  [Lithuanian, Russian, Polish]         Christianity  \n",
       "\n",
       "[205850 rows x 6 columns]"
      ]
     },
     "execution_count": 151,
     "metadata": {},
     "output_type": "execute_result"
    }
   ],
   "source": [
    "# add languages and religion to homes\n",
    "merged_B = pd.merge(homes_B, countries[[\"alpha_2\", \"languages\", \"main_religion\"]], how=\"inner\", left_on=\"country\", right_on=\"alpha_2\")\n",
    "merged_B.columns = [\"drop1\", \"drop2\", \"country\", \"drop3\", \"languages\", \"main_religion\"]\n",
    "merged_B = merged_B.drop(columns=[\"drop1\", \"drop2\", \"drop3\"])\n",
    "# add friend ids to home locations\n",
    "merged_B = pd.merge(merged_B, edges_B, how=\"inner\", left_index=True, right_on=\"from_id\").drop(columns=[\"to_id\"])\n",
    "merged_B.columns = [\"country\", \"languages\", \"main_religion\", \"friend\"]\n",
    "# add friend home country\n",
    "merged_B = pd.merge(merged_B, homes_B[\"country\"], how=\"inner\", left_on=\"friend\", right_index=True)\n",
    "merged_B.columns = [\"country\", \"languages\", \"main_religion\", \"friend\", \"friend_country\"]\n",
    "# add friend languages and religion\n",
    "merged_B = pd.merge(merged_B, countries[[\"alpha_2\", \"languages\", \"main_religion\"]], how=\"inner\", left_on=\"friend_country\", right_on=\"alpha_2\")\n",
    "merged_B.columns = [\"country\", \"languages\", \"main_religion\", \"friend\", \"friend_country\", \"drop1\", \"friend_languages\", \"friend_main_religion\"]\n",
    "merged_B = merged_B.drop(columns=[\"drop1\", \"friend\"])\n",
    "\n",
    "merged_B"
   ]
  },
  {
   "cell_type": "code",
   "execution_count": 152,
   "metadata": {},
   "outputs": [
    {
     "name": "stderr",
     "output_type": "stream",
     "text": [
      "/home/dcelik/.virtualenvs/ada/lib/python3.8/site-packages/pandas/core/reshape/merge.py:643: UserWarning: merging between different levels can give an unintended result (2 levels on the left,1 on the right)\n",
      "  warnings.warn(msg, UserWarning)\n"
     ]
    },
    {
     "data": {
      "text/html": [
       "<div>\n",
       "<style scoped>\n",
       "    .dataframe tbody tr th:only-of-type {\n",
       "        vertical-align: middle;\n",
       "    }\n",
       "\n",
       "    .dataframe tbody tr th {\n",
       "        vertical-align: top;\n",
       "    }\n",
       "\n",
       "    .dataframe thead th {\n",
       "        text-align: right;\n",
       "    }\n",
       "</style>\n",
       "<table border=\"1\" class=\"dataframe\">\n",
       "  <thead>\n",
       "    <tr style=\"text-align: right;\">\n",
       "      <th></th>\n",
       "      <th>country</th>\n",
       "      <th>languages</th>\n",
       "      <th>main_religion</th>\n",
       "      <th>friend_country</th>\n",
       "      <th>friend_languages</th>\n",
       "      <th>friend_main_religion</th>\n",
       "    </tr>\n",
       "  </thead>\n",
       "  <tbody>\n",
       "    <tr>\n",
       "      <th>0</th>\n",
       "      <td>US</td>\n",
       "      <td>[English, Spanish, Chinese]</td>\n",
       "      <td>Christianity</td>\n",
       "      <td>US</td>\n",
       "      <td>[English, Spanish, Chinese]</td>\n",
       "      <td>Christianity</td>\n",
       "    </tr>\n",
       "    <tr>\n",
       "      <th>1</th>\n",
       "      <td>US</td>\n",
       "      <td>[English, Spanish, Chinese]</td>\n",
       "      <td>Christianity</td>\n",
       "      <td>US</td>\n",
       "      <td>[English, Spanish, Chinese]</td>\n",
       "      <td>Christianity</td>\n",
       "    </tr>\n",
       "    <tr>\n",
       "      <th>2</th>\n",
       "      <td>US</td>\n",
       "      <td>[English, Spanish, Chinese]</td>\n",
       "      <td>Christianity</td>\n",
       "      <td>US</td>\n",
       "      <td>[English, Spanish, Chinese]</td>\n",
       "      <td>Christianity</td>\n",
       "    </tr>\n",
       "    <tr>\n",
       "      <th>3</th>\n",
       "      <td>US</td>\n",
       "      <td>[English, Spanish, Chinese]</td>\n",
       "      <td>Christianity</td>\n",
       "      <td>US</td>\n",
       "      <td>[English, Spanish, Chinese]</td>\n",
       "      <td>Christianity</td>\n",
       "    </tr>\n",
       "    <tr>\n",
       "      <th>4</th>\n",
       "      <td>US</td>\n",
       "      <td>[English, Spanish, Chinese]</td>\n",
       "      <td>Christianity</td>\n",
       "      <td>US</td>\n",
       "      <td>[English, Spanish, Chinese]</td>\n",
       "      <td>Christianity</td>\n",
       "    </tr>\n",
       "    <tr>\n",
       "      <th>...</th>\n",
       "      <td>...</td>\n",
       "      <td>...</td>\n",
       "      <td>...</td>\n",
       "      <td>...</td>\n",
       "      <td>...</td>\n",
       "      <td>...</td>\n",
       "    </tr>\n",
       "    <tr>\n",
       "      <th>656256</th>\n",
       "      <td>JO</td>\n",
       "      <td>[Arabic, English]</td>\n",
       "      <td>Islam</td>\n",
       "      <td>KZ</td>\n",
       "      <td>[Kazakh, Russian]</td>\n",
       "      <td>Islam</td>\n",
       "    </tr>\n",
       "    <tr>\n",
       "      <th>656257</th>\n",
       "      <td>JO</td>\n",
       "      <td>[Arabic, English]</td>\n",
       "      <td>Islam</td>\n",
       "      <td>KZ</td>\n",
       "      <td>[Kazakh, Russian]</td>\n",
       "      <td>Islam</td>\n",
       "    </tr>\n",
       "    <tr>\n",
       "      <th>656258</th>\n",
       "      <td>JO</td>\n",
       "      <td>[Arabic, English]</td>\n",
       "      <td>Islam</td>\n",
       "      <td>KZ</td>\n",
       "      <td>[Kazakh, Russian]</td>\n",
       "      <td>Islam</td>\n",
       "    </tr>\n",
       "    <tr>\n",
       "      <th>656259</th>\n",
       "      <td>JO</td>\n",
       "      <td>[Arabic, English]</td>\n",
       "      <td>Islam</td>\n",
       "      <td>KZ</td>\n",
       "      <td>[Kazakh, Russian]</td>\n",
       "      <td>Islam</td>\n",
       "    </tr>\n",
       "    <tr>\n",
       "      <th>656260</th>\n",
       "      <td>JO</td>\n",
       "      <td>[Arabic, English]</td>\n",
       "      <td>Islam</td>\n",
       "      <td>KZ</td>\n",
       "      <td>[Kazakh, Russian]</td>\n",
       "      <td>Islam</td>\n",
       "    </tr>\n",
       "  </tbody>\n",
       "</table>\n",
       "<p>656261 rows × 6 columns</p>\n",
       "</div>"
      ],
      "text/plain": [
       "       country                    languages main_religion friend_country  \\\n",
       "0           US  [English, Spanish, Chinese]  Christianity             US   \n",
       "1           US  [English, Spanish, Chinese]  Christianity             US   \n",
       "2           US  [English, Spanish, Chinese]  Christianity             US   \n",
       "3           US  [English, Spanish, Chinese]  Christianity             US   \n",
       "4           US  [English, Spanish, Chinese]  Christianity             US   \n",
       "...        ...                          ...           ...            ...   \n",
       "656256      JO            [Arabic, English]         Islam             KZ   \n",
       "656257      JO            [Arabic, English]         Islam             KZ   \n",
       "656258      JO            [Arabic, English]         Islam             KZ   \n",
       "656259      JO            [Arabic, English]         Islam             KZ   \n",
       "656260      JO            [Arabic, English]         Islam             KZ   \n",
       "\n",
       "                   friend_languages friend_main_religion  \n",
       "0       [English, Spanish, Chinese]         Christianity  \n",
       "1       [English, Spanish, Chinese]         Christianity  \n",
       "2       [English, Spanish, Chinese]         Christianity  \n",
       "3       [English, Spanish, Chinese]         Christianity  \n",
       "4       [English, Spanish, Chinese]         Christianity  \n",
       "...                             ...                  ...  \n",
       "656256            [Kazakh, Russian]                Islam  \n",
       "656257            [Kazakh, Russian]                Islam  \n",
       "656258            [Kazakh, Russian]                Islam  \n",
       "656259            [Kazakh, Russian]                Islam  \n",
       "656260            [Kazakh, Russian]                Islam  \n",
       "\n",
       "[656261 rows x 6 columns]"
      ]
     },
     "execution_count": 152,
     "metadata": {},
     "output_type": "execute_result"
    }
   ],
   "source": [
    "# add languages and religion to homes\n",
    "merged_G = pd.merge(homes_G, countries[[\"alpha_2\", \"languages\", \"main_religion\"]], how=\"inner\", left_on=\"country\", right_on=\"alpha_2\")\n",
    "merged_G.columns = [\"drop1\", \"drop2\", \"country\", \"drop3\", \"languages\", \"main_religion\"]\n",
    "merged_G = merged_G.drop(columns=[\"drop1\", \"drop2\", \"drop3\"])\n",
    "# add friend ids to home locations\n",
    "merged_G = pd.merge(merged_G, edges_G, how=\"inner\", left_index=True, right_on=\"from_id\").drop(columns=[\"to_id\"])\n",
    "merged_G.columns = [\"country\", \"languages\", \"main_religion\", \"friend\"]\n",
    "# add friend home country\n",
    "merged_G = pd.merge(merged_G, homes_G[\"country\"], how=\"inner\", left_on=\"friend\", right_index=True)\n",
    "merged_G.columns = [\"country\", \"languages\", \"main_religion\", \"friend\", \"friend_country\"]\n",
    "# add friend languages and religion\n",
    "merged_G = pd.merge(merged_G, countries[[\"alpha_2\", \"languages\", \"main_religion\"]], how=\"inner\", left_on=\"friend_country\", right_on=\"alpha_2\")\n",
    "merged_G.columns = [\"country\", \"languages\", \"main_religion\", \"friend\", \"friend_country\", \"drop1\", \"friend_languages\", \"friend_main_religion\"]\n",
    "merged_G = merged_G.drop(columns=[\"drop1\", \"friend\"])\n",
    "merged_G"
   ]
  },
  {
   "cell_type": "markdown",
   "metadata": {},
   "source": [
    "append them"
   ]
  },
  {
   "cell_type": "code",
   "execution_count": 153,
   "metadata": {},
   "outputs": [
    {
     "data": {
      "text/html": [
       "<div>\n",
       "<style scoped>\n",
       "    .dataframe tbody tr th:only-of-type {\n",
       "        vertical-align: middle;\n",
       "    }\n",
       "\n",
       "    .dataframe tbody tr th {\n",
       "        vertical-align: top;\n",
       "    }\n",
       "\n",
       "    .dataframe thead th {\n",
       "        text-align: right;\n",
       "    }\n",
       "</style>\n",
       "<table border=\"1\" class=\"dataframe\">\n",
       "  <thead>\n",
       "    <tr style=\"text-align: right;\">\n",
       "      <th></th>\n",
       "      <th>country</th>\n",
       "      <th>languages</th>\n",
       "      <th>main_religion</th>\n",
       "      <th>friend_country</th>\n",
       "      <th>friend_languages</th>\n",
       "      <th>friend_main_religion</th>\n",
       "    </tr>\n",
       "  </thead>\n",
       "  <tbody>\n",
       "    <tr>\n",
       "      <th>0</th>\n",
       "      <td>US</td>\n",
       "      <td>[English, Spanish, Chinese]</td>\n",
       "      <td>Christianity</td>\n",
       "      <td>US</td>\n",
       "      <td>[English, Spanish, Chinese]</td>\n",
       "      <td>Christianity</td>\n",
       "    </tr>\n",
       "    <tr>\n",
       "      <th>1</th>\n",
       "      <td>US</td>\n",
       "      <td>[English, Spanish, Chinese]</td>\n",
       "      <td>Christianity</td>\n",
       "      <td>US</td>\n",
       "      <td>[English, Spanish, Chinese]</td>\n",
       "      <td>Christianity</td>\n",
       "    </tr>\n",
       "    <tr>\n",
       "      <th>2</th>\n",
       "      <td>US</td>\n",
       "      <td>[English, Spanish, Chinese]</td>\n",
       "      <td>Christianity</td>\n",
       "      <td>US</td>\n",
       "      <td>[English, Spanish, Chinese]</td>\n",
       "      <td>Christianity</td>\n",
       "    </tr>\n",
       "    <tr>\n",
       "      <th>3</th>\n",
       "      <td>US</td>\n",
       "      <td>[English, Spanish, Chinese]</td>\n",
       "      <td>Christianity</td>\n",
       "      <td>US</td>\n",
       "      <td>[English, Spanish, Chinese]</td>\n",
       "      <td>Christianity</td>\n",
       "    </tr>\n",
       "    <tr>\n",
       "      <th>4</th>\n",
       "      <td>US</td>\n",
       "      <td>[English, Spanish, Chinese]</td>\n",
       "      <td>Christianity</td>\n",
       "      <td>US</td>\n",
       "      <td>[English, Spanish, Chinese]</td>\n",
       "      <td>Christianity</td>\n",
       "    </tr>\n",
       "    <tr>\n",
       "      <th>...</th>\n",
       "      <td>...</td>\n",
       "      <td>...</td>\n",
       "      <td>...</td>\n",
       "      <td>...</td>\n",
       "      <td>...</td>\n",
       "      <td>...</td>\n",
       "    </tr>\n",
       "    <tr>\n",
       "      <th>862106</th>\n",
       "      <td>JO</td>\n",
       "      <td>[Arabic, English]</td>\n",
       "      <td>Islam</td>\n",
       "      <td>KZ</td>\n",
       "      <td>[Kazakh, Russian]</td>\n",
       "      <td>Islam</td>\n",
       "    </tr>\n",
       "    <tr>\n",
       "      <th>862107</th>\n",
       "      <td>JO</td>\n",
       "      <td>[Arabic, English]</td>\n",
       "      <td>Islam</td>\n",
       "      <td>KZ</td>\n",
       "      <td>[Kazakh, Russian]</td>\n",
       "      <td>Islam</td>\n",
       "    </tr>\n",
       "    <tr>\n",
       "      <th>862108</th>\n",
       "      <td>JO</td>\n",
       "      <td>[Arabic, English]</td>\n",
       "      <td>Islam</td>\n",
       "      <td>KZ</td>\n",
       "      <td>[Kazakh, Russian]</td>\n",
       "      <td>Islam</td>\n",
       "    </tr>\n",
       "    <tr>\n",
       "      <th>862109</th>\n",
       "      <td>JO</td>\n",
       "      <td>[Arabic, English]</td>\n",
       "      <td>Islam</td>\n",
       "      <td>KZ</td>\n",
       "      <td>[Kazakh, Russian]</td>\n",
       "      <td>Islam</td>\n",
       "    </tr>\n",
       "    <tr>\n",
       "      <th>862110</th>\n",
       "      <td>JO</td>\n",
       "      <td>[Arabic, English]</td>\n",
       "      <td>Islam</td>\n",
       "      <td>KZ</td>\n",
       "      <td>[Kazakh, Russian]</td>\n",
       "      <td>Islam</td>\n",
       "    </tr>\n",
       "  </tbody>\n",
       "</table>\n",
       "<p>862111 rows × 6 columns</p>\n",
       "</div>"
      ],
      "text/plain": [
       "       country                    languages main_religion friend_country  \\\n",
       "0           US  [English, Spanish, Chinese]  Christianity             US   \n",
       "1           US  [English, Spanish, Chinese]  Christianity             US   \n",
       "2           US  [English, Spanish, Chinese]  Christianity             US   \n",
       "3           US  [English, Spanish, Chinese]  Christianity             US   \n",
       "4           US  [English, Spanish, Chinese]  Christianity             US   \n",
       "...        ...                          ...           ...            ...   \n",
       "862106      JO            [Arabic, English]         Islam             KZ   \n",
       "862107      JO            [Arabic, English]         Islam             KZ   \n",
       "862108      JO            [Arabic, English]         Islam             KZ   \n",
       "862109      JO            [Arabic, English]         Islam             KZ   \n",
       "862110      JO            [Arabic, English]         Islam             KZ   \n",
       "\n",
       "                   friend_languages friend_main_religion  \n",
       "0       [English, Spanish, Chinese]         Christianity  \n",
       "1       [English, Spanish, Chinese]         Christianity  \n",
       "2       [English, Spanish, Chinese]         Christianity  \n",
       "3       [English, Spanish, Chinese]         Christianity  \n",
       "4       [English, Spanish, Chinese]         Christianity  \n",
       "...                             ...                  ...  \n",
       "862106            [Kazakh, Russian]                Islam  \n",
       "862107            [Kazakh, Russian]                Islam  \n",
       "862108            [Kazakh, Russian]                Islam  \n",
       "862109            [Kazakh, Russian]                Islam  \n",
       "862110            [Kazakh, Russian]                Islam  \n",
       "\n",
       "[862111 rows x 6 columns]"
      ]
     },
     "execution_count": 153,
     "metadata": {},
     "output_type": "execute_result"
    }
   ],
   "source": [
    "merged = merged_B.append(merged_G, ignore_index=True)\n",
    "merged"
   ]
  },
  {
   "cell_type": "markdown",
   "metadata": {},
   "source": [
    "get a dataframe without entries in the same country"
   ]
  },
  {
   "cell_type": "code",
   "execution_count": 154,
   "metadata": {},
   "outputs": [
    {
     "data": {
      "text/html": [
       "<div>\n",
       "<style scoped>\n",
       "    .dataframe tbody tr th:only-of-type {\n",
       "        vertical-align: middle;\n",
       "    }\n",
       "\n",
       "    .dataframe tbody tr th {\n",
       "        vertical-align: top;\n",
       "    }\n",
       "\n",
       "    .dataframe thead th {\n",
       "        text-align: right;\n",
       "    }\n",
       "</style>\n",
       "<table border=\"1\" class=\"dataframe\">\n",
       "  <thead>\n",
       "    <tr style=\"text-align: right;\">\n",
       "      <th></th>\n",
       "      <th>country</th>\n",
       "      <th>languages</th>\n",
       "      <th>main_religion</th>\n",
       "      <th>friend_country</th>\n",
       "      <th>friend_languages</th>\n",
       "      <th>friend_main_religion</th>\n",
       "    </tr>\n",
       "  </thead>\n",
       "  <tbody>\n",
       "    <tr>\n",
       "      <th>124237</th>\n",
       "      <td>FI</td>\n",
       "      <td>[Finnish, Swedish, Russian]</td>\n",
       "      <td>Christianity</td>\n",
       "      <td>US</td>\n",
       "      <td>[English, Spanish, Chinese]</td>\n",
       "      <td>Christianity</td>\n",
       "    </tr>\n",
       "    <tr>\n",
       "      <th>124238</th>\n",
       "      <td>FI</td>\n",
       "      <td>[Finnish, Swedish, Russian]</td>\n",
       "      <td>Christianity</td>\n",
       "      <td>US</td>\n",
       "      <td>[English, Spanish, Chinese]</td>\n",
       "      <td>Christianity</td>\n",
       "    </tr>\n",
       "    <tr>\n",
       "      <th>124239</th>\n",
       "      <td>FI</td>\n",
       "      <td>[Finnish, Swedish, Russian]</td>\n",
       "      <td>Christianity</td>\n",
       "      <td>US</td>\n",
       "      <td>[English, Spanish, Chinese]</td>\n",
       "      <td>Christianity</td>\n",
       "    </tr>\n",
       "    <tr>\n",
       "      <th>124240</th>\n",
       "      <td>FI</td>\n",
       "      <td>[Finnish, Swedish, Russian]</td>\n",
       "      <td>Christianity</td>\n",
       "      <td>US</td>\n",
       "      <td>[English, Spanish, Chinese]</td>\n",
       "      <td>Christianity</td>\n",
       "    </tr>\n",
       "    <tr>\n",
       "      <th>124241</th>\n",
       "      <td>FI</td>\n",
       "      <td>[Finnish, Swedish, Russian]</td>\n",
       "      <td>Christianity</td>\n",
       "      <td>US</td>\n",
       "      <td>[English, Spanish, Chinese]</td>\n",
       "      <td>Christianity</td>\n",
       "    </tr>\n",
       "    <tr>\n",
       "      <th>...</th>\n",
       "      <td>...</td>\n",
       "      <td>...</td>\n",
       "      <td>...</td>\n",
       "      <td>...</td>\n",
       "      <td>...</td>\n",
       "      <td>...</td>\n",
       "    </tr>\n",
       "    <tr>\n",
       "      <th>862106</th>\n",
       "      <td>JO</td>\n",
       "      <td>[Arabic, English]</td>\n",
       "      <td>Islam</td>\n",
       "      <td>KZ</td>\n",
       "      <td>[Kazakh, Russian]</td>\n",
       "      <td>Islam</td>\n",
       "    </tr>\n",
       "    <tr>\n",
       "      <th>862107</th>\n",
       "      <td>JO</td>\n",
       "      <td>[Arabic, English]</td>\n",
       "      <td>Islam</td>\n",
       "      <td>KZ</td>\n",
       "      <td>[Kazakh, Russian]</td>\n",
       "      <td>Islam</td>\n",
       "    </tr>\n",
       "    <tr>\n",
       "      <th>862108</th>\n",
       "      <td>JO</td>\n",
       "      <td>[Arabic, English]</td>\n",
       "      <td>Islam</td>\n",
       "      <td>KZ</td>\n",
       "      <td>[Kazakh, Russian]</td>\n",
       "      <td>Islam</td>\n",
       "    </tr>\n",
       "    <tr>\n",
       "      <th>862109</th>\n",
       "      <td>JO</td>\n",
       "      <td>[Arabic, English]</td>\n",
       "      <td>Islam</td>\n",
       "      <td>KZ</td>\n",
       "      <td>[Kazakh, Russian]</td>\n",
       "      <td>Islam</td>\n",
       "    </tr>\n",
       "    <tr>\n",
       "      <th>862110</th>\n",
       "      <td>JO</td>\n",
       "      <td>[Arabic, English]</td>\n",
       "      <td>Islam</td>\n",
       "      <td>KZ</td>\n",
       "      <td>[Kazakh, Russian]</td>\n",
       "      <td>Islam</td>\n",
       "    </tr>\n",
       "  </tbody>\n",
       "</table>\n",
       "<p>378303 rows × 6 columns</p>\n",
       "</div>"
      ],
      "text/plain": [
       "       country                    languages main_religion friend_country  \\\n",
       "124237      FI  [Finnish, Swedish, Russian]  Christianity             US   \n",
       "124238      FI  [Finnish, Swedish, Russian]  Christianity             US   \n",
       "124239      FI  [Finnish, Swedish, Russian]  Christianity             US   \n",
       "124240      FI  [Finnish, Swedish, Russian]  Christianity             US   \n",
       "124241      FI  [Finnish, Swedish, Russian]  Christianity             US   \n",
       "...        ...                          ...           ...            ...   \n",
       "862106      JO            [Arabic, English]         Islam             KZ   \n",
       "862107      JO            [Arabic, English]         Islam             KZ   \n",
       "862108      JO            [Arabic, English]         Islam             KZ   \n",
       "862109      JO            [Arabic, English]         Islam             KZ   \n",
       "862110      JO            [Arabic, English]         Islam             KZ   \n",
       "\n",
       "                   friend_languages friend_main_religion  \n",
       "124237  [English, Spanish, Chinese]         Christianity  \n",
       "124238  [English, Spanish, Chinese]         Christianity  \n",
       "124239  [English, Spanish, Chinese]         Christianity  \n",
       "124240  [English, Spanish, Chinese]         Christianity  \n",
       "124241  [English, Spanish, Chinese]         Christianity  \n",
       "...                             ...                  ...  \n",
       "862106            [Kazakh, Russian]                Islam  \n",
       "862107            [Kazakh, Russian]                Islam  \n",
       "862108            [Kazakh, Russian]                Islam  \n",
       "862109            [Kazakh, Russian]                Islam  \n",
       "862110            [Kazakh, Russian]                Islam  \n",
       "\n",
       "[378303 rows x 6 columns]"
      ]
     },
     "execution_count": 154,
     "metadata": {},
     "output_type": "execute_result"
    }
   ],
   "source": [
    "merged_international = merged[merged[\"country\"] != merged[\"friend_country\"]]\n",
    "merged_international"
   ]
  },
  {
   "cell_type": "code",
   "execution_count": 155,
   "metadata": {},
   "outputs": [
    {
     "data": {
      "text/plain": [
       "363709"
      ]
     },
     "execution_count": 155,
     "metadata": {},
     "output_type": "execute_result"
    }
   ],
   "source": [
    "len(merged_international[merged_international[\"main_religion\"] == \"Christianity\"])"
   ]
  },
  {
   "cell_type": "markdown",
   "metadata": {},
   "source": [
    "add religions and langauges to homes"
   ]
  },
  {
   "cell_type": "code",
   "execution_count": 156,
   "metadata": {},
   "outputs": [
    {
     "name": "stderr",
     "output_type": "stream",
     "text": [
      "/home/dcelik/.virtualenvs/ada/lib/python3.8/site-packages/pandas/core/reshape/merge.py:643: UserWarning: merging between different levels can give an unintended result (2 levels on the left,1 on the right)\n",
      "  warnings.warn(msg, UserWarning)\n"
     ]
    },
    {
     "data": {
      "text/html": [
       "<div>\n",
       "<style scoped>\n",
       "    .dataframe tbody tr th:only-of-type {\n",
       "        vertical-align: middle;\n",
       "    }\n",
       "\n",
       "    .dataframe tbody tr th {\n",
       "        vertical-align: top;\n",
       "    }\n",
       "\n",
       "    .dataframe thead th {\n",
       "        text-align: right;\n",
       "    }\n",
       "</style>\n",
       "<table border=\"1\" class=\"dataframe\">\n",
       "  <thead>\n",
       "    <tr style=\"text-align: right;\">\n",
       "      <th></th>\n",
       "      <th>country</th>\n",
       "      <th>languages</th>\n",
       "      <th>main_religion</th>\n",
       "    </tr>\n",
       "  </thead>\n",
       "  <tbody>\n",
       "    <tr>\n",
       "      <th>0</th>\n",
       "      <td>US</td>\n",
       "      <td>[English, Spanish, Chinese]</td>\n",
       "      <td>Christianity</td>\n",
       "    </tr>\n",
       "    <tr>\n",
       "      <th>1</th>\n",
       "      <td>US</td>\n",
       "      <td>[English, Spanish, Chinese]</td>\n",
       "      <td>Christianity</td>\n",
       "    </tr>\n",
       "    <tr>\n",
       "      <th>2</th>\n",
       "      <td>US</td>\n",
       "      <td>[English, Spanish, Chinese]</td>\n",
       "      <td>Christianity</td>\n",
       "    </tr>\n",
       "    <tr>\n",
       "      <th>3</th>\n",
       "      <td>US</td>\n",
       "      <td>[English, Spanish, Chinese]</td>\n",
       "      <td>Christianity</td>\n",
       "    </tr>\n",
       "    <tr>\n",
       "      <th>4</th>\n",
       "      <td>US</td>\n",
       "      <td>[English, Spanish, Chinese]</td>\n",
       "      <td>Christianity</td>\n",
       "    </tr>\n",
       "    <tr>\n",
       "      <th>...</th>\n",
       "      <td>...</td>\n",
       "      <td>...</td>\n",
       "      <td>...</td>\n",
       "    </tr>\n",
       "    <tr>\n",
       "      <th>50470</th>\n",
       "      <td>LB</td>\n",
       "      <td>[Arabic, French, English]</td>\n",
       "      <td>Islam</td>\n",
       "    </tr>\n",
       "    <tr>\n",
       "      <th>50471</th>\n",
       "      <td>LB</td>\n",
       "      <td>[Arabic, French, English]</td>\n",
       "      <td>Islam</td>\n",
       "    </tr>\n",
       "    <tr>\n",
       "      <th>50472</th>\n",
       "      <td>SN</td>\n",
       "      <td>[French, Wolof, Pular]</td>\n",
       "      <td>Islam</td>\n",
       "    </tr>\n",
       "    <tr>\n",
       "      <th>50473</th>\n",
       "      <td>MR</td>\n",
       "      <td>[Arabic, Pular, Soninke]</td>\n",
       "      <td>Islam</td>\n",
       "    </tr>\n",
       "    <tr>\n",
       "      <th>50474</th>\n",
       "      <td>SR</td>\n",
       "      <td>[Dutch, English, Sranang]</td>\n",
       "      <td>Hinduism</td>\n",
       "    </tr>\n",
       "  </tbody>\n",
       "</table>\n",
       "<p>50475 rows × 3 columns</p>\n",
       "</div>"
      ],
      "text/plain": [
       "      country                    languages main_religion\n",
       "0          US  [English, Spanish, Chinese]  Christianity\n",
       "1          US  [English, Spanish, Chinese]  Christianity\n",
       "2          US  [English, Spanish, Chinese]  Christianity\n",
       "3          US  [English, Spanish, Chinese]  Christianity\n",
       "4          US  [English, Spanish, Chinese]  Christianity\n",
       "...       ...                          ...           ...\n",
       "50470      LB    [Arabic, French, English]         Islam\n",
       "50471      LB    [Arabic, French, English]         Islam\n",
       "50472      SN       [French, Wolof, Pular]         Islam\n",
       "50473      MR     [Arabic, Pular, Soninke]         Islam\n",
       "50474      SR    [Dutch, English, Sranang]      Hinduism\n",
       "\n",
       "[50475 rows x 3 columns]"
      ]
     },
     "execution_count": 156,
     "metadata": {},
     "output_type": "execute_result"
    }
   ],
   "source": [
    "homes_B = pd.merge(homes_B, countries[[\"alpha_2\", \"languages\", \"main_religion\"]], how=\"inner\", left_on=\"country\", right_on=\"alpha_2\")\n",
    "homes_G = pd.merge(homes_G, countries[[\"alpha_2\", \"languages\", \"main_religion\"]], how=\"inner\", left_on=\"country\", right_on=\"alpha_2\")\n",
    "\n",
    "homes_B.columns = [\"drop1\", \"drop2\", \"country\", \"drop3\", \"languages\", \"main_religion\"]\n",
    "homes_G.columns = [\"drop1\", \"drop2\", \"country\", \"drop3\", \"languages\", \"main_religion\"]\n",
    "\n",
    "homes_B = homes_B.drop(columns=[\"drop1\", \"drop2\", \"drop3\"], axis=1)\n",
    "homes_G = homes_G.drop(columns=[\"drop1\", \"drop2\", \"drop3\"], axis=1)\n",
    "\n",
    "homes_B"
   ]
  },
  {
   "cell_type": "markdown",
   "metadata": {},
   "source": [
    "# Religions"
   ]
  },
  {
   "cell_type": "code",
   "execution_count": 157,
   "metadata": {},
   "outputs": [
    {
     "data": {
      "text/html": [
       "<div>\n",
       "<style scoped>\n",
       "    .dataframe tbody tr th:only-of-type {\n",
       "        vertical-align: middle;\n",
       "    }\n",
       "\n",
       "    .dataframe tbody tr th {\n",
       "        vertical-align: top;\n",
       "    }\n",
       "\n",
       "    .dataframe thead th {\n",
       "        text-align: right;\n",
       "    }\n",
       "</style>\n",
       "<table border=\"1\" class=\"dataframe\">\n",
       "  <thead>\n",
       "    <tr style=\"text-align: right;\">\n",
       "      <th></th>\n",
       "      <th>from_religion</th>\n",
       "      <th>to_religion</th>\n",
       "      <th>count</th>\n",
       "    </tr>\n",
       "  </thead>\n",
       "  <tbody>\n",
       "    <tr>\n",
       "      <th>4</th>\n",
       "      <td>Christianity</td>\n",
       "      <td>Christianity</td>\n",
       "      <td>294429</td>\n",
       "    </tr>\n",
       "    <tr>\n",
       "      <th>1</th>\n",
       "      <td>Buddhism</td>\n",
       "      <td>Christianity</td>\n",
       "      <td>49022</td>\n",
       "    </tr>\n",
       "    <tr>\n",
       "      <th>6</th>\n",
       "      <td>Christianity</td>\n",
       "      <td>Islam</td>\n",
       "      <td>32722</td>\n",
       "    </tr>\n",
       "    <tr>\n",
       "      <th>5</th>\n",
       "      <td>Christianity</td>\n",
       "      <td>Hinduism</td>\n",
       "      <td>1271</td>\n",
       "    </tr>\n",
       "    <tr>\n",
       "      <th>3</th>\n",
       "      <td>Buddhism</td>\n",
       "      <td>Islam</td>\n",
       "      <td>646</td>\n",
       "    </tr>\n",
       "    <tr>\n",
       "      <th>0</th>\n",
       "      <td>Buddhism</td>\n",
       "      <td>Buddhism</td>\n",
       "      <td>128</td>\n",
       "    </tr>\n",
       "    <tr>\n",
       "      <th>8</th>\n",
       "      <td>Islam</td>\n",
       "      <td>Islam</td>\n",
       "      <td>75</td>\n",
       "    </tr>\n",
       "    <tr>\n",
       "      <th>2</th>\n",
       "      <td>Buddhism</td>\n",
       "      <td>Hinduism</td>\n",
       "      <td>8</td>\n",
       "    </tr>\n",
       "    <tr>\n",
       "      <th>7</th>\n",
       "      <td>Hinduism</td>\n",
       "      <td>Islam</td>\n",
       "      <td>2</td>\n",
       "    </tr>\n",
       "  </tbody>\n",
       "</table>\n",
       "</div>"
      ],
      "text/plain": [
       "  from_religion   to_religion   count\n",
       "4  Christianity  Christianity  294429\n",
       "1      Buddhism  Christianity   49022\n",
       "6  Christianity         Islam   32722\n",
       "5  Christianity      Hinduism    1271\n",
       "3      Buddhism         Islam     646\n",
       "0      Buddhism      Buddhism     128\n",
       "8         Islam         Islam      75\n",
       "2      Buddhism      Hinduism       8\n",
       "7      Hinduism         Islam       2"
      ]
     },
     "execution_count": 157,
     "metadata": {},
     "output_type": "execute_result"
    }
   ],
   "source": [
    "from_list = []\n",
    "to_list = []\n",
    "count_list = []\n",
    "religion_count_international = merged_international.groupby(['main_religion', 'friend_main_religion']).size().sort_values(ascending=False)\n",
    "for (form_r, to_r), count in religion_count_international.iteritems():\n",
    "    [from_r, to_r] = sorted([form_r, to_r])\n",
    "    from_list.append(from_r)\n",
    "    to_list.append(to_r)\n",
    "    count_list.append(count)\n",
    "religion_count_international_df = pd.DataFrame(zip(from_list, to_list, count_list),\n",
    "                                     columns =['from_religion', \"to_religion\", \"count\"]) \n",
    "\n",
    "from_list = []\n",
    "to_list = []\n",
    "count_list = []\n",
    "religion_count_international = religion_count_international_df.groupby([\"from_religion\", \"to_religion\"])['count'].sum()\n",
    "for (form_r, to_r), count in religion_count_international.iteritems():\n",
    "    [from_r, to_r] = sorted([form_r, to_r])\n",
    "    from_list.append(from_r)\n",
    "    to_list.append(to_r)\n",
    "    count_list.append(count)\n",
    "religion_count_international_df = pd.DataFrame(zip(from_list, to_list, count_list),\n",
    "                                     columns =['from_religion', \"to_religion\", \"count\"]).sort_values(\"count\", ascending=False)\n",
    "\n",
    "religion_count_international_df"
   ]
  },
  {
   "cell_type": "markdown",
   "metadata": {},
   "source": [
    "divide by possible friendships"
   ]
  },
  {
   "cell_type": "code",
   "execution_count": 161,
   "metadata": {},
   "outputs": [
    {
     "data": {
      "text/html": [
       "<div>\n",
       "<style scoped>\n",
       "    .dataframe tbody tr th:only-of-type {\n",
       "        vertical-align: middle;\n",
       "    }\n",
       "\n",
       "    .dataframe tbody tr th {\n",
       "        vertical-align: top;\n",
       "    }\n",
       "\n",
       "    .dataframe thead th {\n",
       "        text-align: right;\n",
       "    }\n",
       "</style>\n",
       "<table border=\"1\" class=\"dataframe\">\n",
       "  <thead>\n",
       "    <tr style=\"text-align: right;\">\n",
       "      <th></th>\n",
       "      <th>from_religion</th>\n",
       "      <th>to_religion</th>\n",
       "      <th>count</th>\n",
       "      <th>relative_count</th>\n",
       "    </tr>\n",
       "  </thead>\n",
       "  <tbody>\n",
       "    <tr>\n",
       "      <th>6</th>\n",
       "      <td>Christianity</td>\n",
       "      <td>Islam</td>\n",
       "      <td>32722</td>\n",
       "      <td>0.000056</td>\n",
       "    </tr>\n",
       "    <tr>\n",
       "      <th>1</th>\n",
       "      <td>Buddhism</td>\n",
       "      <td>Christianity</td>\n",
       "      <td>49022</td>\n",
       "      <td>0.000044</td>\n",
       "    </tr>\n",
       "    <tr>\n",
       "      <th>5</th>\n",
       "      <td>Christianity</td>\n",
       "      <td>Hinduism</td>\n",
       "      <td>1271</td>\n",
       "      <td>0.000023</td>\n",
       "    </tr>\n",
       "    <tr>\n",
       "      <th>3</th>\n",
       "      <td>Buddhism</td>\n",
       "      <td>Islam</td>\n",
       "      <td>646</td>\n",
       "      <td>0.000021</td>\n",
       "    </tr>\n",
       "    <tr>\n",
       "      <th>4</th>\n",
       "      <td>Christianity</td>\n",
       "      <td>Christianity</td>\n",
       "      <td>294429</td>\n",
       "      <td>0.000014</td>\n",
       "    </tr>\n",
       "    <tr>\n",
       "      <th>8</th>\n",
       "      <td>Islam</td>\n",
       "      <td>Islam</td>\n",
       "      <td>75</td>\n",
       "      <td>0.000005</td>\n",
       "    </tr>\n",
       "    <tr>\n",
       "      <th>2</th>\n",
       "      <td>Buddhism</td>\n",
       "      <td>Hinduism</td>\n",
       "      <td>8</td>\n",
       "      <td>0.000003</td>\n",
       "    </tr>\n",
       "    <tr>\n",
       "      <th>0</th>\n",
       "      <td>Buddhism</td>\n",
       "      <td>Buddhism</td>\n",
       "      <td>128</td>\n",
       "      <td>0.000002</td>\n",
       "    </tr>\n",
       "    <tr>\n",
       "      <th>7</th>\n",
       "      <td>Hinduism</td>\n",
       "      <td>Islam</td>\n",
       "      <td>2</td>\n",
       "      <td>0.000001</td>\n",
       "    </tr>\n",
       "  </tbody>\n",
       "</table>\n",
       "</div>"
      ],
      "text/plain": [
       "  from_religion   to_religion   count  relative_count\n",
       "6  Christianity         Islam   32722        0.000056\n",
       "1      Buddhism  Christianity   49022        0.000044\n",
       "5  Christianity      Hinduism    1271        0.000023\n",
       "3      Buddhism         Islam     646        0.000021\n",
       "4  Christianity  Christianity  294429        0.000014\n",
       "8         Islam         Islam      75        0.000005\n",
       "2      Buddhism      Hinduism       8        0.000003\n",
       "0      Buddhism      Buddhism     128        0.000002\n",
       "7      Hinduism         Islam       2        0.000001"
      ]
     },
     "execution_count": 161,
     "metadata": {},
     "output_type": "execute_result"
    }
   ],
   "source": [
    "relative_count = []\n",
    "\n",
    "for indx, row in religion_count_international_df.iterrows():\n",
    "    all_homes = homes_B.append(homes_G, ignore_index=True)\n",
    "    total = len(all_homes[all_homes[\"main_religion\"] == row[\"from_religion\"]]) * len(all_homes[all_homes[\"main_religion\"] == row[\"to_religion\"]])\n",
    "    relative_count.append(row[\"count\"] / (total))\n",
    "    \n",
    "religion_count_international_df[\"relative_count\"] = relative_count\n",
    "religion_count_international_df = religion_count_international_df.sort_values(\"relative_count\", ascending=False)\n",
    "religion_count_international_df"
   ]
  },
  {
   "cell_type": "markdown",
   "metadata": {},
   "source": [
    "###### Graph"
   ]
  },
  {
   "cell_type": "code",
   "execution_count": 331,
   "metadata": {},
   "outputs": [],
   "source": [
    "def edge_thickness(value, values, mini=1.0, maxi=5.0):\n",
    "    return mini + maxi * math.log(1+value)/math.log(1+max(values))\n",
    "    "
   ]
  },
  {
   "cell_type": "code",
   "execution_count": 338,
   "metadata": {},
   "outputs": [],
   "source": [
    "religion_graph = nx.Graph()# Add node for each character\n",
    "\n",
    "node_list = set(religion_count_international_df[\"from_religion\"].to_list() + religion_count_international_df[\"to_religion\"].to_list())\n",
    "node_dic = {key:len(all_homes[all_homes[\"main_religion\"] == key]) for key in node_list}\n",
    "\n",
    "\n",
    "# nodes\n",
    "for r, count in node_dic.items():\n",
    "    religion_graph.add_node(r, size=edge_thickness(count, node_dic.values(), maxi=15.0))\n",
    "\n",
    "\n",
    "# edges\n",
    "for indx, row in religion_count_international_df.iterrows():\n",
    "    religion_graph.add_edge(row[\"from_religion\"], \n",
    "                            row[\"to_religion\"], \n",
    "                            weight = edge_thickness(row[\"relative_count\"], religion_count_international_df[\"relative_count\"].to_list(), maxi=5.0))\n",
    "\n",
    "pos_ = nx.spring_layout(religion_graph)"
   ]
  },
  {
   "cell_type": "code",
   "execution_count": 339,
   "metadata": {},
   "outputs": [],
   "source": [
    "def make_edge(x, y, text, width):\n",
    "    return  go.Scatter(x         = x,\n",
    "                       y         = y,\n",
    "                       line      = dict(width = width,\n",
    "                                   color = 'cornflowerblue'),\n",
    "                       hoverinfo = 'text',\n",
    "                       text      = ([text]),\n",
    "                       mode      = 'lines')"
   ]
  },
  {
   "cell_type": "code",
   "execution_count": 340,
   "metadata": {},
   "outputs": [],
   "source": [
    "# For each edge, make an edge_trace, append to list\n",
    "edge_trace = []\n",
    "for edge in religion_graph.edges():\n",
    "    \n",
    "    if religion_graph.edges()[edge]['weight'] > 0:\n",
    "        char_1 = edge[0]\n",
    "        char_2 = edge[1]\n",
    "        x0, y0 = pos_[char_1] \n",
    "        x1, y1 = pos_[char_2]\n",
    " \n",
    "    char_1, char_2 = sorted([char_1, char_2])\n",
    "\n",
    "    text   = \"<b>\" + str(int(religion_count_international_df[(religion_count_international_df[\"from_religion\"]==char_1) & (religion_count_international_df[\"to_religion\"]==char_2)][\"count\"])) + '</b>'\n",
    "\n",
    "    trace  = make_edge([x0, x1, None], [y0, y1, None], text, width = 0.25*religion_graph.edges()[edge]['weight']**1.75)\n",
    "    edge_trace.append(trace)"
   ]
  },
  {
   "cell_type": "code",
   "execution_count": 341,
   "metadata": {},
   "outputs": [],
   "source": [
    "# Make a node trace\n",
    "node_trace = go.Scatter(x         = [],\n",
    "                        y         = [],\n",
    "                        text      = [],\n",
    "                        textposition = \"top center\",\n",
    "                        textfont_size = 10,\n",
    "                        #mode      = 'markers+text',\n",
    "                        mode      = 'markers',\n",
    "                        hoverinfo = 'text',\n",
    "                        marker    = dict(color = [],\n",
    "                                         size  = [],\n",
    "                                         line  = None))\n",
    "# For each node in midsummer, get the position and size and add to the node_trace\n",
    "for node in religion_graph.nodes():\n",
    "    x, y = pos_[node]\n",
    "    node_trace['x'] += tuple([x])\n",
    "    node_trace['y'] += tuple([y])\n",
    "    node_trace['marker']['color'] += tuple(['cornflowerblue'])\n",
    "    node_trace['marker']['size'] += tuple([5*religion_graph.nodes()[node]['size']])\n",
    "    node_trace['text'] += tuple(['<b>' + node + '</b>' + \"<br>\" + \"# of Practitioners: \"+ str(len(all_homes[all_homes[\"main_religion\"]==node]))])"
   ]
  },
  {
   "cell_type": "code",
   "execution_count": 342,
   "metadata": {},
   "outputs": [
    {
     "data": {
      "application/vnd.plotly.v1+json": {
       "config": {
        "plotlyServerURL": "https://plot.ly"
       },
       "data": [
        {
         "hoverinfo": "text",
         "line": {
          "color": "cornflowerblue",
          "width": 4.098836115462152
         },
         "mode": "lines",
         "text": [
          "<b>49022</b>"
         ],
         "type": "scatter",
         "x": [
          0.6816091867680255,
          -0.08938756545096666,
          null
         ],
         "y": [
          0.4515205922130901,
          -0.06083088963592641,
          null
         ]
        },
        {
         "hoverinfo": "text",
         "line": {
          "color": "cornflowerblue",
          "width": 1.5721784610937297
         },
         "mode": "lines",
         "text": [
          "<b>646</b>"
         ],
         "type": "scatter",
         "x": [
          0.6816091867680255,
          0.407778378682941,
          null
         ],
         "y": [
          0.4515205922130901,
          -0.7517646992350053,
          null
         ]
        },
        {
         "hoverinfo": "text",
         "line": {
          "color": "cornflowerblue",
          "width": 0.36354070337653516
         },
         "mode": "lines",
         "text": [
          "<b>8</b>"
         ],
         "type": "scatter",
         "x": [
          0.6816091867680255,
          -1,
          null
         ],
         "y": [
          0.4515205922130901,
          0.36107499665784015,
          null
         ]
        },
        {
         "hoverinfo": "text",
         "line": {
          "color": "cornflowerblue",
          "width": 0.34097690924999824
         },
         "mode": "lines",
         "text": [
          "<b>128</b>"
         ],
         "type": "scatter",
         "x": [
          0.6816091867680255,
          0.6816091867680255,
          null
         ],
         "y": [
          0.4515205922130901,
          0.4515205922130901,
          null
         ]
        },
        {
         "hoverinfo": "text",
         "line": {
          "color": "cornflowerblue",
          "width": 5.750487938216453
         },
         "mode": "lines",
         "text": [
          "<b>32722</b>"
         ],
         "type": "scatter",
         "x": [
          0.407778378682941,
          -0.08938756545096666,
          null
         ],
         "y": [
          -0.7517646992350053,
          -0.06083088963592641,
          null
         ]
        },
        {
         "hoverinfo": "text",
         "line": {
          "color": "cornflowerblue",
          "width": 0.4561244330146867
         },
         "mode": "lines",
         "text": [
          "<b>75</b>"
         ],
         "type": "scatter",
         "x": [
          0.407778378682941,
          0.407778378682941,
          null
         ],
         "y": [
          -0.7517646992350053,
          -0.7517646992350053,
          null
         ]
        },
        {
         "hoverinfo": "text",
         "line": {
          "color": "cornflowerblue",
          "width": 0.3016382199024697
         },
         "mode": "lines",
         "text": [
          "<b>2</b>"
         ],
         "type": "scatter",
         "x": [
          0.407778378682941,
          -1,
          null
         ],
         "y": [
          -0.7517646992350053,
          0.36107499665784015,
          null
         ]
        },
        {
         "hoverinfo": "text",
         "line": {
          "color": "cornflowerblue",
          "width": 1.7214848282266646
         },
         "mode": "lines",
         "text": [
          "<b>1271</b>"
         ],
         "type": "scatter",
         "x": [
          -0.08938756545096666,
          -1,
          null
         ],
         "y": [
          -0.06083088963592641,
          0.36107499665784015,
          null
         ]
        },
        {
         "hoverinfo": "text",
         "line": {
          "color": "cornflowerblue",
          "width": 1.0394401573476348
         },
         "mode": "lines",
         "text": [
          "<b>294429</b>"
         ],
         "type": "scatter",
         "x": [
          -0.08938756545096666,
          -0.08938756545096666,
          null
         ],
         "y": [
          -0.06083088963592641,
          -0.06083088963592641,
          null
         ]
        },
        {
         "hoverinfo": "text",
         "marker": {
          "color": [
           "cornflowerblue",
           "cornflowerblue",
           "cornflowerblue",
           "cornflowerblue"
          ],
          "size": [
           61.467681065776134,
           57.42004800156015,
           80,
           42.67709694556305
          ]
         },
         "mode": "markers",
         "text": [
          "<b>Buddhism</b><br># of Practitioners: 7672",
          "<b>Islam</b><br># of Practitioners: 4040",
          "<b>Christianity</b><br># of Practitioners: 144538",
          "<b>Hinduism</b><br># of Practitioners: 390"
         ],
         "textfont": {
          "size": 10
         },
         "textposition": "top center",
         "type": "scatter",
         "x": [
          0.6816091867680255,
          0.407778378682941,
          -0.08938756545096666,
          -1
         ],
         "y": [
          0.4515205922130901,
          -0.7517646992350053,
          -0.06083088963592641,
          0.36107499665784015
         ]
        }
       ],
       "layout": {
        "paper_bgcolor": "rgba(0,0,0,0)",
        "plot_bgcolor": "rgba(0,0,0,0)",
        "showlegend": false,
        "template": {
         "data": {
          "bar": [
           {
            "error_x": {
             "color": "#2a3f5f"
            },
            "error_y": {
             "color": "#2a3f5f"
            },
            "marker": {
             "line": {
              "color": "#E5ECF6",
              "width": 0.5
             }
            },
            "type": "bar"
           }
          ],
          "barpolar": [
           {
            "marker": {
             "line": {
              "color": "#E5ECF6",
              "width": 0.5
             }
            },
            "type": "barpolar"
           }
          ],
          "carpet": [
           {
            "aaxis": {
             "endlinecolor": "#2a3f5f",
             "gridcolor": "white",
             "linecolor": "white",
             "minorgridcolor": "white",
             "startlinecolor": "#2a3f5f"
            },
            "baxis": {
             "endlinecolor": "#2a3f5f",
             "gridcolor": "white",
             "linecolor": "white",
             "minorgridcolor": "white",
             "startlinecolor": "#2a3f5f"
            },
            "type": "carpet"
           }
          ],
          "choropleth": [
           {
            "colorbar": {
             "outlinewidth": 0,
             "ticks": ""
            },
            "type": "choropleth"
           }
          ],
          "contour": [
           {
            "colorbar": {
             "outlinewidth": 0,
             "ticks": ""
            },
            "colorscale": [
             [
              0,
              "#0d0887"
             ],
             [
              0.1111111111111111,
              "#46039f"
             ],
             [
              0.2222222222222222,
              "#7201a8"
             ],
             [
              0.3333333333333333,
              "#9c179e"
             ],
             [
              0.4444444444444444,
              "#bd3786"
             ],
             [
              0.5555555555555556,
              "#d8576b"
             ],
             [
              0.6666666666666666,
              "#ed7953"
             ],
             [
              0.7777777777777778,
              "#fb9f3a"
             ],
             [
              0.8888888888888888,
              "#fdca26"
             ],
             [
              1,
              "#f0f921"
             ]
            ],
            "type": "contour"
           }
          ],
          "contourcarpet": [
           {
            "colorbar": {
             "outlinewidth": 0,
             "ticks": ""
            },
            "type": "contourcarpet"
           }
          ],
          "heatmap": [
           {
            "colorbar": {
             "outlinewidth": 0,
             "ticks": ""
            },
            "colorscale": [
             [
              0,
              "#0d0887"
             ],
             [
              0.1111111111111111,
              "#46039f"
             ],
             [
              0.2222222222222222,
              "#7201a8"
             ],
             [
              0.3333333333333333,
              "#9c179e"
             ],
             [
              0.4444444444444444,
              "#bd3786"
             ],
             [
              0.5555555555555556,
              "#d8576b"
             ],
             [
              0.6666666666666666,
              "#ed7953"
             ],
             [
              0.7777777777777778,
              "#fb9f3a"
             ],
             [
              0.8888888888888888,
              "#fdca26"
             ],
             [
              1,
              "#f0f921"
             ]
            ],
            "type": "heatmap"
           }
          ],
          "heatmapgl": [
           {
            "colorbar": {
             "outlinewidth": 0,
             "ticks": ""
            },
            "colorscale": [
             [
              0,
              "#0d0887"
             ],
             [
              0.1111111111111111,
              "#46039f"
             ],
             [
              0.2222222222222222,
              "#7201a8"
             ],
             [
              0.3333333333333333,
              "#9c179e"
             ],
             [
              0.4444444444444444,
              "#bd3786"
             ],
             [
              0.5555555555555556,
              "#d8576b"
             ],
             [
              0.6666666666666666,
              "#ed7953"
             ],
             [
              0.7777777777777778,
              "#fb9f3a"
             ],
             [
              0.8888888888888888,
              "#fdca26"
             ],
             [
              1,
              "#f0f921"
             ]
            ],
            "type": "heatmapgl"
           }
          ],
          "histogram": [
           {
            "marker": {
             "colorbar": {
              "outlinewidth": 0,
              "ticks": ""
             }
            },
            "type": "histogram"
           }
          ],
          "histogram2d": [
           {
            "colorbar": {
             "outlinewidth": 0,
             "ticks": ""
            },
            "colorscale": [
             [
              0,
              "#0d0887"
             ],
             [
              0.1111111111111111,
              "#46039f"
             ],
             [
              0.2222222222222222,
              "#7201a8"
             ],
             [
              0.3333333333333333,
              "#9c179e"
             ],
             [
              0.4444444444444444,
              "#bd3786"
             ],
             [
              0.5555555555555556,
              "#d8576b"
             ],
             [
              0.6666666666666666,
              "#ed7953"
             ],
             [
              0.7777777777777778,
              "#fb9f3a"
             ],
             [
              0.8888888888888888,
              "#fdca26"
             ],
             [
              1,
              "#f0f921"
             ]
            ],
            "type": "histogram2d"
           }
          ],
          "histogram2dcontour": [
           {
            "colorbar": {
             "outlinewidth": 0,
             "ticks": ""
            },
            "colorscale": [
             [
              0,
              "#0d0887"
             ],
             [
              0.1111111111111111,
              "#46039f"
             ],
             [
              0.2222222222222222,
              "#7201a8"
             ],
             [
              0.3333333333333333,
              "#9c179e"
             ],
             [
              0.4444444444444444,
              "#bd3786"
             ],
             [
              0.5555555555555556,
              "#d8576b"
             ],
             [
              0.6666666666666666,
              "#ed7953"
             ],
             [
              0.7777777777777778,
              "#fb9f3a"
             ],
             [
              0.8888888888888888,
              "#fdca26"
             ],
             [
              1,
              "#f0f921"
             ]
            ],
            "type": "histogram2dcontour"
           }
          ],
          "mesh3d": [
           {
            "colorbar": {
             "outlinewidth": 0,
             "ticks": ""
            },
            "type": "mesh3d"
           }
          ],
          "parcoords": [
           {
            "line": {
             "colorbar": {
              "outlinewidth": 0,
              "ticks": ""
             }
            },
            "type": "parcoords"
           }
          ],
          "pie": [
           {
            "automargin": true,
            "type": "pie"
           }
          ],
          "scatter": [
           {
            "marker": {
             "colorbar": {
              "outlinewidth": 0,
              "ticks": ""
             }
            },
            "type": "scatter"
           }
          ],
          "scatter3d": [
           {
            "line": {
             "colorbar": {
              "outlinewidth": 0,
              "ticks": ""
             }
            },
            "marker": {
             "colorbar": {
              "outlinewidth": 0,
              "ticks": ""
             }
            },
            "type": "scatter3d"
           }
          ],
          "scattercarpet": [
           {
            "marker": {
             "colorbar": {
              "outlinewidth": 0,
              "ticks": ""
             }
            },
            "type": "scattercarpet"
           }
          ],
          "scattergeo": [
           {
            "marker": {
             "colorbar": {
              "outlinewidth": 0,
              "ticks": ""
             }
            },
            "type": "scattergeo"
           }
          ],
          "scattergl": [
           {
            "marker": {
             "colorbar": {
              "outlinewidth": 0,
              "ticks": ""
             }
            },
            "type": "scattergl"
           }
          ],
          "scattermapbox": [
           {
            "marker": {
             "colorbar": {
              "outlinewidth": 0,
              "ticks": ""
             }
            },
            "type": "scattermapbox"
           }
          ],
          "scatterpolar": [
           {
            "marker": {
             "colorbar": {
              "outlinewidth": 0,
              "ticks": ""
             }
            },
            "type": "scatterpolar"
           }
          ],
          "scatterpolargl": [
           {
            "marker": {
             "colorbar": {
              "outlinewidth": 0,
              "ticks": ""
             }
            },
            "type": "scatterpolargl"
           }
          ],
          "scatterternary": [
           {
            "marker": {
             "colorbar": {
              "outlinewidth": 0,
              "ticks": ""
             }
            },
            "type": "scatterternary"
           }
          ],
          "surface": [
           {
            "colorbar": {
             "outlinewidth": 0,
             "ticks": ""
            },
            "colorscale": [
             [
              0,
              "#0d0887"
             ],
             [
              0.1111111111111111,
              "#46039f"
             ],
             [
              0.2222222222222222,
              "#7201a8"
             ],
             [
              0.3333333333333333,
              "#9c179e"
             ],
             [
              0.4444444444444444,
              "#bd3786"
             ],
             [
              0.5555555555555556,
              "#d8576b"
             ],
             [
              0.6666666666666666,
              "#ed7953"
             ],
             [
              0.7777777777777778,
              "#fb9f3a"
             ],
             [
              0.8888888888888888,
              "#fdca26"
             ],
             [
              1,
              "#f0f921"
             ]
            ],
            "type": "surface"
           }
          ],
          "table": [
           {
            "cells": {
             "fill": {
              "color": "#EBF0F8"
             },
             "line": {
              "color": "white"
             }
            },
            "header": {
             "fill": {
              "color": "#C8D4E3"
             },
             "line": {
              "color": "white"
             }
            },
            "type": "table"
           }
          ]
         },
         "layout": {
          "annotationdefaults": {
           "arrowcolor": "#2a3f5f",
           "arrowhead": 0,
           "arrowwidth": 1
          },
          "autotypenumbers": "strict",
          "coloraxis": {
           "colorbar": {
            "outlinewidth": 0,
            "ticks": ""
           }
          },
          "colorscale": {
           "diverging": [
            [
             0,
             "#8e0152"
            ],
            [
             0.1,
             "#c51b7d"
            ],
            [
             0.2,
             "#de77ae"
            ],
            [
             0.3,
             "#f1b6da"
            ],
            [
             0.4,
             "#fde0ef"
            ],
            [
             0.5,
             "#f7f7f7"
            ],
            [
             0.6,
             "#e6f5d0"
            ],
            [
             0.7,
             "#b8e186"
            ],
            [
             0.8,
             "#7fbc41"
            ],
            [
             0.9,
             "#4d9221"
            ],
            [
             1,
             "#276419"
            ]
           ],
           "sequential": [
            [
             0,
             "#0d0887"
            ],
            [
             0.1111111111111111,
             "#46039f"
            ],
            [
             0.2222222222222222,
             "#7201a8"
            ],
            [
             0.3333333333333333,
             "#9c179e"
            ],
            [
             0.4444444444444444,
             "#bd3786"
            ],
            [
             0.5555555555555556,
             "#d8576b"
            ],
            [
             0.6666666666666666,
             "#ed7953"
            ],
            [
             0.7777777777777778,
             "#fb9f3a"
            ],
            [
             0.8888888888888888,
             "#fdca26"
            ],
            [
             1,
             "#f0f921"
            ]
           ],
           "sequentialminus": [
            [
             0,
             "#0d0887"
            ],
            [
             0.1111111111111111,
             "#46039f"
            ],
            [
             0.2222222222222222,
             "#7201a8"
            ],
            [
             0.3333333333333333,
             "#9c179e"
            ],
            [
             0.4444444444444444,
             "#bd3786"
            ],
            [
             0.5555555555555556,
             "#d8576b"
            ],
            [
             0.6666666666666666,
             "#ed7953"
            ],
            [
             0.7777777777777778,
             "#fb9f3a"
            ],
            [
             0.8888888888888888,
             "#fdca26"
            ],
            [
             1,
             "#f0f921"
            ]
           ]
          },
          "colorway": [
           "#636efa",
           "#EF553B",
           "#00cc96",
           "#ab63fa",
           "#FFA15A",
           "#19d3f3",
           "#FF6692",
           "#B6E880",
           "#FF97FF",
           "#FECB52"
          ],
          "font": {
           "color": "#2a3f5f"
          },
          "geo": {
           "bgcolor": "white",
           "lakecolor": "white",
           "landcolor": "#E5ECF6",
           "showlakes": true,
           "showland": true,
           "subunitcolor": "white"
          },
          "hoverlabel": {
           "align": "left"
          },
          "hovermode": "closest",
          "mapbox": {
           "style": "light"
          },
          "paper_bgcolor": "white",
          "plot_bgcolor": "#E5ECF6",
          "polar": {
           "angularaxis": {
            "gridcolor": "white",
            "linecolor": "white",
            "ticks": ""
           },
           "bgcolor": "#E5ECF6",
           "radialaxis": {
            "gridcolor": "white",
            "linecolor": "white",
            "ticks": ""
           }
          },
          "scene": {
           "xaxis": {
            "backgroundcolor": "#E5ECF6",
            "gridcolor": "white",
            "gridwidth": 2,
            "linecolor": "white",
            "showbackground": true,
            "ticks": "",
            "zerolinecolor": "white"
           },
           "yaxis": {
            "backgroundcolor": "#E5ECF6",
            "gridcolor": "white",
            "gridwidth": 2,
            "linecolor": "white",
            "showbackground": true,
            "ticks": "",
            "zerolinecolor": "white"
           },
           "zaxis": {
            "backgroundcolor": "#E5ECF6",
            "gridcolor": "white",
            "gridwidth": 2,
            "linecolor": "white",
            "showbackground": true,
            "ticks": "",
            "zerolinecolor": "white"
           }
          },
          "shapedefaults": {
           "line": {
            "color": "#2a3f5f"
           }
          },
          "ternary": {
           "aaxis": {
            "gridcolor": "white",
            "linecolor": "white",
            "ticks": ""
           },
           "baxis": {
            "gridcolor": "white",
            "linecolor": "white",
            "ticks": ""
           },
           "bgcolor": "#E5ECF6",
           "caxis": {
            "gridcolor": "white",
            "linecolor": "white",
            "ticks": ""
           }
          },
          "title": {
           "x": 0.05
          },
          "xaxis": {
           "automargin": true,
           "gridcolor": "white",
           "linecolor": "white",
           "ticks": "",
           "title": {
            "standoff": 15
           },
           "zerolinecolor": "white",
           "zerolinewidth": 2
          },
          "yaxis": {
           "automargin": true,
           "gridcolor": "white",
           "linecolor": "white",
           "ticks": "",
           "title": {
            "standoff": 15
           },
           "zerolinecolor": "white",
           "zerolinewidth": 2
          }
         }
        },
        "xaxis": {
         "showgrid": false,
         "showticklabels": false,
         "zeroline": false
        },
        "yaxis": {
         "showgrid": false,
         "showticklabels": false,
         "zeroline": false
        }
       }
      },
      "text/html": [
       "<div>                            <div id=\"638fc7c4-e711-43d2-951b-8fdf73187a6b\" class=\"plotly-graph-div\" style=\"height:525px; width:100%;\"></div>            <script type=\"text/javascript\">                require([\"plotly\"], function(Plotly) {                    window.PLOTLYENV=window.PLOTLYENV || {};                                    if (document.getElementById(\"638fc7c4-e711-43d2-951b-8fdf73187a6b\")) {                    Plotly.newPlot(                        \"638fc7c4-e711-43d2-951b-8fdf73187a6b\",                        [{\"hoverinfo\": \"text\", \"line\": {\"color\": \"cornflowerblue\", \"width\": 4.098836115462152}, \"mode\": \"lines\", \"text\": [\"<b>49022</b>\"], \"type\": \"scatter\", \"x\": [0.6816091867680255, -0.08938756545096666, null], \"y\": [0.4515205922130901, -0.06083088963592641, null]}, {\"hoverinfo\": \"text\", \"line\": {\"color\": \"cornflowerblue\", \"width\": 1.5721784610937297}, \"mode\": \"lines\", \"text\": [\"<b>646</b>\"], \"type\": \"scatter\", \"x\": [0.6816091867680255, 0.407778378682941, null], \"y\": [0.4515205922130901, -0.7517646992350053, null]}, {\"hoverinfo\": \"text\", \"line\": {\"color\": \"cornflowerblue\", \"width\": 0.36354070337653516}, \"mode\": \"lines\", \"text\": [\"<b>8</b>\"], \"type\": \"scatter\", \"x\": [0.6816091867680255, -1.0, null], \"y\": [0.4515205922130901, 0.36107499665784015, null]}, {\"hoverinfo\": \"text\", \"line\": {\"color\": \"cornflowerblue\", \"width\": 0.34097690924999824}, \"mode\": \"lines\", \"text\": [\"<b>128</b>\"], \"type\": \"scatter\", \"x\": [0.6816091867680255, 0.6816091867680255, null], \"y\": [0.4515205922130901, 0.4515205922130901, null]}, {\"hoverinfo\": \"text\", \"line\": {\"color\": \"cornflowerblue\", \"width\": 5.750487938216453}, \"mode\": \"lines\", \"text\": [\"<b>32722</b>\"], \"type\": \"scatter\", \"x\": [0.407778378682941, -0.08938756545096666, null], \"y\": [-0.7517646992350053, -0.06083088963592641, null]}, {\"hoverinfo\": \"text\", \"line\": {\"color\": \"cornflowerblue\", \"width\": 0.4561244330146867}, \"mode\": \"lines\", \"text\": [\"<b>75</b>\"], \"type\": \"scatter\", \"x\": [0.407778378682941, 0.407778378682941, null], \"y\": [-0.7517646992350053, -0.7517646992350053, null]}, {\"hoverinfo\": \"text\", \"line\": {\"color\": \"cornflowerblue\", \"width\": 0.3016382199024697}, \"mode\": \"lines\", \"text\": [\"<b>2</b>\"], \"type\": \"scatter\", \"x\": [0.407778378682941, -1.0, null], \"y\": [-0.7517646992350053, 0.36107499665784015, null]}, {\"hoverinfo\": \"text\", \"line\": {\"color\": \"cornflowerblue\", \"width\": 1.7214848282266646}, \"mode\": \"lines\", \"text\": [\"<b>1271</b>\"], \"type\": \"scatter\", \"x\": [-0.08938756545096666, -1.0, null], \"y\": [-0.06083088963592641, 0.36107499665784015, null]}, {\"hoverinfo\": \"text\", \"line\": {\"color\": \"cornflowerblue\", \"width\": 1.0394401573476348}, \"mode\": \"lines\", \"text\": [\"<b>294429</b>\"], \"type\": \"scatter\", \"x\": [-0.08938756545096666, -0.08938756545096666, null], \"y\": [-0.06083088963592641, -0.06083088963592641, null]}, {\"hoverinfo\": \"text\", \"marker\": {\"color\": [\"cornflowerblue\", \"cornflowerblue\", \"cornflowerblue\", \"cornflowerblue\"], \"size\": [61.467681065776134, 57.42004800156015, 80.0, 42.67709694556305]}, \"mode\": \"markers\", \"text\": [\"<b>Buddhism</b><br># of Practitioners: 7672\", \"<b>Islam</b><br># of Practitioners: 4040\", \"<b>Christianity</b><br># of Practitioners: 144538\", \"<b>Hinduism</b><br># of Practitioners: 390\"], \"textfont\": {\"size\": 10}, \"textposition\": \"top center\", \"type\": \"scatter\", \"x\": [0.6816091867680255, 0.407778378682941, -0.08938756545096666, -1.0], \"y\": [0.4515205922130901, -0.7517646992350053, -0.06083088963592641, 0.36107499665784015]}],                        {\"paper_bgcolor\": \"rgba(0,0,0,0)\", \"plot_bgcolor\": \"rgba(0,0,0,0)\", \"showlegend\": false, \"template\": {\"data\": {\"bar\": [{\"error_x\": {\"color\": \"#2a3f5f\"}, \"error_y\": {\"color\": \"#2a3f5f\"}, \"marker\": {\"line\": {\"color\": \"#E5ECF6\", \"width\": 0.5}}, \"type\": \"bar\"}], \"barpolar\": [{\"marker\": {\"line\": {\"color\": \"#E5ECF6\", \"width\": 0.5}}, \"type\": \"barpolar\"}], \"carpet\": [{\"aaxis\": {\"endlinecolor\": \"#2a3f5f\", \"gridcolor\": \"white\", \"linecolor\": \"white\", \"minorgridcolor\": \"white\", \"startlinecolor\": \"#2a3f5f\"}, \"baxis\": {\"endlinecolor\": \"#2a3f5f\", \"gridcolor\": \"white\", \"linecolor\": \"white\", \"minorgridcolor\": \"white\", \"startlinecolor\": \"#2a3f5f\"}, \"type\": \"carpet\"}], \"choropleth\": [{\"colorbar\": {\"outlinewidth\": 0, \"ticks\": \"\"}, \"type\": \"choropleth\"}], \"contour\": [{\"colorbar\": {\"outlinewidth\": 0, \"ticks\": \"\"}, \"colorscale\": [[0.0, \"#0d0887\"], [0.1111111111111111, \"#46039f\"], [0.2222222222222222, \"#7201a8\"], [0.3333333333333333, \"#9c179e\"], [0.4444444444444444, \"#bd3786\"], [0.5555555555555556, \"#d8576b\"], [0.6666666666666666, \"#ed7953\"], [0.7777777777777778, \"#fb9f3a\"], [0.8888888888888888, \"#fdca26\"], [1.0, \"#f0f921\"]], \"type\": \"contour\"}], \"contourcarpet\": [{\"colorbar\": {\"outlinewidth\": 0, \"ticks\": \"\"}, \"type\": \"contourcarpet\"}], \"heatmap\": [{\"colorbar\": {\"outlinewidth\": 0, \"ticks\": \"\"}, \"colorscale\": [[0.0, \"#0d0887\"], [0.1111111111111111, \"#46039f\"], [0.2222222222222222, \"#7201a8\"], [0.3333333333333333, \"#9c179e\"], [0.4444444444444444, \"#bd3786\"], [0.5555555555555556, \"#d8576b\"], [0.6666666666666666, \"#ed7953\"], [0.7777777777777778, \"#fb9f3a\"], [0.8888888888888888, \"#fdca26\"], [1.0, \"#f0f921\"]], \"type\": \"heatmap\"}], \"heatmapgl\": [{\"colorbar\": {\"outlinewidth\": 0, \"ticks\": \"\"}, \"colorscale\": [[0.0, \"#0d0887\"], [0.1111111111111111, \"#46039f\"], [0.2222222222222222, \"#7201a8\"], [0.3333333333333333, \"#9c179e\"], [0.4444444444444444, \"#bd3786\"], [0.5555555555555556, \"#d8576b\"], [0.6666666666666666, \"#ed7953\"], [0.7777777777777778, \"#fb9f3a\"], [0.8888888888888888, \"#fdca26\"], [1.0, \"#f0f921\"]], \"type\": \"heatmapgl\"}], \"histogram\": [{\"marker\": {\"colorbar\": {\"outlinewidth\": 0, \"ticks\": \"\"}}, \"type\": \"histogram\"}], \"histogram2d\": [{\"colorbar\": {\"outlinewidth\": 0, \"ticks\": \"\"}, \"colorscale\": [[0.0, \"#0d0887\"], [0.1111111111111111, \"#46039f\"], [0.2222222222222222, \"#7201a8\"], [0.3333333333333333, \"#9c179e\"], [0.4444444444444444, \"#bd3786\"], [0.5555555555555556, \"#d8576b\"], [0.6666666666666666, \"#ed7953\"], [0.7777777777777778, \"#fb9f3a\"], [0.8888888888888888, \"#fdca26\"], [1.0, \"#f0f921\"]], \"type\": \"histogram2d\"}], \"histogram2dcontour\": [{\"colorbar\": {\"outlinewidth\": 0, \"ticks\": \"\"}, \"colorscale\": [[0.0, \"#0d0887\"], [0.1111111111111111, \"#46039f\"], [0.2222222222222222, \"#7201a8\"], [0.3333333333333333, \"#9c179e\"], [0.4444444444444444, \"#bd3786\"], [0.5555555555555556, \"#d8576b\"], [0.6666666666666666, \"#ed7953\"], [0.7777777777777778, \"#fb9f3a\"], [0.8888888888888888, \"#fdca26\"], [1.0, \"#f0f921\"]], \"type\": \"histogram2dcontour\"}], \"mesh3d\": [{\"colorbar\": {\"outlinewidth\": 0, \"ticks\": \"\"}, \"type\": \"mesh3d\"}], \"parcoords\": [{\"line\": {\"colorbar\": {\"outlinewidth\": 0, \"ticks\": \"\"}}, \"type\": \"parcoords\"}], \"pie\": [{\"automargin\": true, \"type\": \"pie\"}], \"scatter\": [{\"marker\": {\"colorbar\": {\"outlinewidth\": 0, \"ticks\": \"\"}}, \"type\": \"scatter\"}], \"scatter3d\": [{\"line\": {\"colorbar\": {\"outlinewidth\": 0, \"ticks\": \"\"}}, \"marker\": {\"colorbar\": {\"outlinewidth\": 0, \"ticks\": \"\"}}, \"type\": \"scatter3d\"}], \"scattercarpet\": [{\"marker\": {\"colorbar\": {\"outlinewidth\": 0, \"ticks\": \"\"}}, \"type\": \"scattercarpet\"}], \"scattergeo\": [{\"marker\": {\"colorbar\": {\"outlinewidth\": 0, \"ticks\": \"\"}}, \"type\": \"scattergeo\"}], \"scattergl\": [{\"marker\": {\"colorbar\": {\"outlinewidth\": 0, \"ticks\": \"\"}}, \"type\": \"scattergl\"}], \"scattermapbox\": [{\"marker\": {\"colorbar\": {\"outlinewidth\": 0, \"ticks\": \"\"}}, \"type\": \"scattermapbox\"}], \"scatterpolar\": [{\"marker\": {\"colorbar\": {\"outlinewidth\": 0, \"ticks\": \"\"}}, \"type\": \"scatterpolar\"}], \"scatterpolargl\": [{\"marker\": {\"colorbar\": {\"outlinewidth\": 0, \"ticks\": \"\"}}, \"type\": \"scatterpolargl\"}], \"scatterternary\": [{\"marker\": {\"colorbar\": {\"outlinewidth\": 0, \"ticks\": \"\"}}, \"type\": \"scatterternary\"}], \"surface\": [{\"colorbar\": {\"outlinewidth\": 0, \"ticks\": \"\"}, \"colorscale\": [[0.0, \"#0d0887\"], [0.1111111111111111, \"#46039f\"], [0.2222222222222222, \"#7201a8\"], [0.3333333333333333, \"#9c179e\"], [0.4444444444444444, \"#bd3786\"], [0.5555555555555556, \"#d8576b\"], [0.6666666666666666, \"#ed7953\"], [0.7777777777777778, \"#fb9f3a\"], [0.8888888888888888, \"#fdca26\"], [1.0, \"#f0f921\"]], \"type\": \"surface\"}], \"table\": [{\"cells\": {\"fill\": {\"color\": \"#EBF0F8\"}, \"line\": {\"color\": \"white\"}}, \"header\": {\"fill\": {\"color\": \"#C8D4E3\"}, \"line\": {\"color\": \"white\"}}, \"type\": \"table\"}]}, \"layout\": {\"annotationdefaults\": {\"arrowcolor\": \"#2a3f5f\", \"arrowhead\": 0, \"arrowwidth\": 1}, \"autotypenumbers\": \"strict\", \"coloraxis\": {\"colorbar\": {\"outlinewidth\": 0, \"ticks\": \"\"}}, \"colorscale\": {\"diverging\": [[0, \"#8e0152\"], [0.1, \"#c51b7d\"], [0.2, \"#de77ae\"], [0.3, \"#f1b6da\"], [0.4, \"#fde0ef\"], [0.5, \"#f7f7f7\"], [0.6, \"#e6f5d0\"], [0.7, \"#b8e186\"], [0.8, \"#7fbc41\"], [0.9, \"#4d9221\"], [1, \"#276419\"]], \"sequential\": [[0.0, \"#0d0887\"], [0.1111111111111111, \"#46039f\"], [0.2222222222222222, \"#7201a8\"], [0.3333333333333333, \"#9c179e\"], [0.4444444444444444, \"#bd3786\"], [0.5555555555555556, \"#d8576b\"], [0.6666666666666666, \"#ed7953\"], [0.7777777777777778, \"#fb9f3a\"], [0.8888888888888888, \"#fdca26\"], [1.0, \"#f0f921\"]], \"sequentialminus\": [[0.0, \"#0d0887\"], [0.1111111111111111, \"#46039f\"], [0.2222222222222222, \"#7201a8\"], [0.3333333333333333, \"#9c179e\"], [0.4444444444444444, \"#bd3786\"], [0.5555555555555556, \"#d8576b\"], [0.6666666666666666, \"#ed7953\"], [0.7777777777777778, \"#fb9f3a\"], [0.8888888888888888, \"#fdca26\"], [1.0, \"#f0f921\"]]}, \"colorway\": [\"#636efa\", \"#EF553B\", \"#00cc96\", \"#ab63fa\", \"#FFA15A\", \"#19d3f3\", \"#FF6692\", \"#B6E880\", \"#FF97FF\", \"#FECB52\"], \"font\": {\"color\": \"#2a3f5f\"}, \"geo\": {\"bgcolor\": \"white\", \"lakecolor\": \"white\", \"landcolor\": \"#E5ECF6\", \"showlakes\": true, \"showland\": true, \"subunitcolor\": \"white\"}, \"hoverlabel\": {\"align\": \"left\"}, \"hovermode\": \"closest\", \"mapbox\": {\"style\": \"light\"}, \"paper_bgcolor\": \"white\", \"plot_bgcolor\": \"#E5ECF6\", \"polar\": {\"angularaxis\": {\"gridcolor\": \"white\", \"linecolor\": \"white\", \"ticks\": \"\"}, \"bgcolor\": \"#E5ECF6\", \"radialaxis\": {\"gridcolor\": \"white\", \"linecolor\": \"white\", \"ticks\": \"\"}}, \"scene\": {\"xaxis\": {\"backgroundcolor\": \"#E5ECF6\", \"gridcolor\": \"white\", \"gridwidth\": 2, \"linecolor\": \"white\", \"showbackground\": true, \"ticks\": \"\", \"zerolinecolor\": \"white\"}, \"yaxis\": {\"backgroundcolor\": \"#E5ECF6\", \"gridcolor\": \"white\", \"gridwidth\": 2, \"linecolor\": \"white\", \"showbackground\": true, \"ticks\": \"\", \"zerolinecolor\": \"white\"}, \"zaxis\": {\"backgroundcolor\": \"#E5ECF6\", \"gridcolor\": \"white\", \"gridwidth\": 2, \"linecolor\": \"white\", \"showbackground\": true, \"ticks\": \"\", \"zerolinecolor\": \"white\"}}, \"shapedefaults\": {\"line\": {\"color\": \"#2a3f5f\"}}, \"ternary\": {\"aaxis\": {\"gridcolor\": \"white\", \"linecolor\": \"white\", \"ticks\": \"\"}, \"baxis\": {\"gridcolor\": \"white\", \"linecolor\": \"white\", \"ticks\": \"\"}, \"bgcolor\": \"#E5ECF6\", \"caxis\": {\"gridcolor\": \"white\", \"linecolor\": \"white\", \"ticks\": \"\"}}, \"title\": {\"x\": 0.05}, \"xaxis\": {\"automargin\": true, \"gridcolor\": \"white\", \"linecolor\": \"white\", \"ticks\": \"\", \"title\": {\"standoff\": 15}, \"zerolinecolor\": \"white\", \"zerolinewidth\": 2}, \"yaxis\": {\"automargin\": true, \"gridcolor\": \"white\", \"linecolor\": \"white\", \"ticks\": \"\", \"title\": {\"standoff\": 15}, \"zerolinecolor\": \"white\", \"zerolinewidth\": 2}}}, \"xaxis\": {\"showgrid\": false, \"showticklabels\": false, \"zeroline\": false}, \"yaxis\": {\"showgrid\": false, \"showticklabels\": false, \"zeroline\": false}},                        {\"responsive\": true}                    ).then(function(){\n",
       "                            \n",
       "var gd = document.getElementById('638fc7c4-e711-43d2-951b-8fdf73187a6b');\n",
       "var x = new MutationObserver(function (mutations, observer) {{\n",
       "        var display = window.getComputedStyle(gd).display;\n",
       "        if (!display || display === 'none') {{\n",
       "            console.log([gd, 'removed!']);\n",
       "            Plotly.purge(gd);\n",
       "            observer.disconnect();\n",
       "        }}\n",
       "}});\n",
       "\n",
       "// Listen for the removal of the full notebook cells\n",
       "var notebookContainer = gd.closest('#notebook-container');\n",
       "if (notebookContainer) {{\n",
       "    x.observe(notebookContainer, {childList: true});\n",
       "}}\n",
       "\n",
       "// Listen for the clearing of the current output cell\n",
       "var outputEl = gd.closest('.output');\n",
       "if (outputEl) {{\n",
       "    x.observe(outputEl, {childList: true});\n",
       "}}\n",
       "\n",
       "                        })                };                });            </script>        </div>"
      ]
     },
     "metadata": {},
     "output_type": "display_data"
    }
   ],
   "source": [
    "# Customize layout\n",
    "layout = go.Layout(\n",
    "    paper_bgcolor='rgba(0,0,0,0)', # transparent background\n",
    "    plot_bgcolor='rgba(0,0,0,0)', # transparent 2nd background\n",
    "    xaxis =  {'showgrid': False, 'zeroline': False}, # no gridlines\n",
    "    yaxis = {'showgrid': False, 'zeroline': False}, # no gridlines\n",
    ")# Create figure\n",
    "fig = go.Figure(layout = layout)# Add all edge traces\n",
    "for trace in edge_trace:\n",
    "    fig.add_trace(trace)# Add node trace\n",
    "fig.add_trace(node_trace)# Remove legend\n",
    "fig.update_layout(showlegend = False)# Remove tick labels\n",
    "fig.update_xaxes(showticklabels = False)\n",
    "fig.update_yaxes(showticklabels = False)# Show figure\n",
    "fig.show()"
   ]
  },
  {
   "cell_type": "code",
   "execution_count": null,
   "metadata": {},
   "outputs": [],
   "source": []
  },
  {
   "cell_type": "markdown",
   "metadata": {},
   "source": [
    "### Languages"
   ]
  },
  {
   "cell_type": "markdown",
   "metadata": {},
   "source": [
    "spit lists into ultiple entries"
   ]
  },
  {
   "cell_type": "code",
   "execution_count": 25,
   "metadata": {},
   "outputs": [
    {
     "data": {
      "text/html": [
       "<div>\n",
       "<style scoped>\n",
       "    .dataframe tbody tr th:only-of-type {\n",
       "        vertical-align: middle;\n",
       "    }\n",
       "\n",
       "    .dataframe tbody tr th {\n",
       "        vertical-align: top;\n",
       "    }\n",
       "\n",
       "    .dataframe thead th {\n",
       "        text-align: right;\n",
       "    }\n",
       "</style>\n",
       "<table border=\"1\" class=\"dataframe\">\n",
       "  <thead>\n",
       "    <tr style=\"text-align: right;\">\n",
       "      <th></th>\n",
       "      <th>country</th>\n",
       "      <th>languages</th>\n",
       "      <th>main_religion</th>\n",
       "      <th>friend_country</th>\n",
       "      <th>friend_languages</th>\n",
       "      <th>friend_main_religion</th>\n",
       "    </tr>\n",
       "  </thead>\n",
       "  <tbody>\n",
       "    <tr>\n",
       "      <th>0</th>\n",
       "      <td>FI</td>\n",
       "      <td>Finnish</td>\n",
       "      <td>Christianity</td>\n",
       "      <td>US</td>\n",
       "      <td>English</td>\n",
       "      <td>Christianity</td>\n",
       "    </tr>\n",
       "    <tr>\n",
       "      <th>1</th>\n",
       "      <td>FI</td>\n",
       "      <td>Finnish</td>\n",
       "      <td>Christianity</td>\n",
       "      <td>US</td>\n",
       "      <td>Spanish</td>\n",
       "      <td>Christianity</td>\n",
       "    </tr>\n",
       "    <tr>\n",
       "      <th>2</th>\n",
       "      <td>FI</td>\n",
       "      <td>Finnish</td>\n",
       "      <td>Christianity</td>\n",
       "      <td>US</td>\n",
       "      <td>Chinese</td>\n",
       "      <td>Christianity</td>\n",
       "    </tr>\n",
       "    <tr>\n",
       "      <th>3</th>\n",
       "      <td>FI</td>\n",
       "      <td>Swedish</td>\n",
       "      <td>Christianity</td>\n",
       "      <td>US</td>\n",
       "      <td>English</td>\n",
       "      <td>Christianity</td>\n",
       "    </tr>\n",
       "    <tr>\n",
       "      <th>4</th>\n",
       "      <td>FI</td>\n",
       "      <td>Swedish</td>\n",
       "      <td>Christianity</td>\n",
       "      <td>US</td>\n",
       "      <td>Spanish</td>\n",
       "      <td>Christianity</td>\n",
       "    </tr>\n",
       "    <tr>\n",
       "      <th>...</th>\n",
       "      <td>...</td>\n",
       "      <td>...</td>\n",
       "      <td>...</td>\n",
       "      <td>...</td>\n",
       "      <td>...</td>\n",
       "      <td>...</td>\n",
       "    </tr>\n",
       "    <tr>\n",
       "      <th>3187785</th>\n",
       "      <td>JO</td>\n",
       "      <td>Arabic</td>\n",
       "      <td>Islam</td>\n",
       "      <td>KZ</td>\n",
       "      <td>Russian</td>\n",
       "      <td>Islam</td>\n",
       "    </tr>\n",
       "    <tr>\n",
       "      <th>3187786</th>\n",
       "      <td>JO</td>\n",
       "      <td>English</td>\n",
       "      <td>Islam</td>\n",
       "      <td>KZ</td>\n",
       "      <td>Kazakh</td>\n",
       "      <td>Islam</td>\n",
       "    </tr>\n",
       "    <tr>\n",
       "      <th>3187787</th>\n",
       "      <td>JO</td>\n",
       "      <td>English</td>\n",
       "      <td>Islam</td>\n",
       "      <td>KZ</td>\n",
       "      <td>Russian</td>\n",
       "      <td>Islam</td>\n",
       "    </tr>\n",
       "    <tr>\n",
       "      <th>3187788</th>\n",
       "      <td>KW</td>\n",
       "      <td>Arabic</td>\n",
       "      <td>Islam</td>\n",
       "      <td>SM</td>\n",
       "      <td>Italian</td>\n",
       "      <td>Christianity</td>\n",
       "    </tr>\n",
       "    <tr>\n",
       "      <th>3187789</th>\n",
       "      <td>KW</td>\n",
       "      <td>English</td>\n",
       "      <td>Islam</td>\n",
       "      <td>SM</td>\n",
       "      <td>Italian</td>\n",
       "      <td>Christianity</td>\n",
       "    </tr>\n",
       "  </tbody>\n",
       "</table>\n",
       "<p>3187790 rows × 6 columns</p>\n",
       "</div>"
      ],
      "text/plain": [
       "        country languages main_religion friend_country friend_languages  \\\n",
       "0            FI   Finnish  Christianity             US          English   \n",
       "1            FI   Finnish  Christianity             US          Spanish   \n",
       "2            FI   Finnish  Christianity             US          Chinese   \n",
       "3            FI   Swedish  Christianity             US          English   \n",
       "4            FI   Swedish  Christianity             US          Spanish   \n",
       "...         ...       ...           ...            ...              ...   \n",
       "3187785      JO    Arabic         Islam             KZ          Russian   \n",
       "3187786      JO   English         Islam             KZ           Kazakh   \n",
       "3187787      JO   English         Islam             KZ          Russian   \n",
       "3187788      KW    Arabic         Islam             SM          Italian   \n",
       "3187789      KW   English         Islam             SM          Italian   \n",
       "\n",
       "        friend_main_religion  \n",
       "0               Christianity  \n",
       "1               Christianity  \n",
       "2               Christianity  \n",
       "3               Christianity  \n",
       "4               Christianity  \n",
       "...                      ...  \n",
       "3187785                Islam  \n",
       "3187786                Islam  \n",
       "3187787                Islam  \n",
       "3187788         Christianity  \n",
       "3187789         Christianity  \n",
       "\n",
       "[3187790 rows x 6 columns]"
      ]
     },
     "execution_count": 25,
     "metadata": {},
     "output_type": "execute_result"
    }
   ],
   "source": [
    "merged_international_extended = pd.DataFrame([\n",
    "    [c1, l1, r1, c2, l2, r2] for c1, L1, r1, c2, L2, r2 in merged_international.values\n",
    "    for l1 in L1 for l2 in L2\n",
    "], columns=merged_international.columns)\n",
    "\n",
    "merged_international_extended"
   ]
  },
  {
   "cell_type": "code",
   "execution_count": null,
   "metadata": {},
   "outputs": [],
   "source": []
  }
 ],
 "metadata": {
  "kernelspec": {
   "display_name": "Python 3",
   "language": "python",
   "name": "python3"
  },
  "language_info": {
   "codemirror_mode": {
    "name": "ipython",
    "version": 3
   },
   "file_extension": ".py",
   "mimetype": "text/x-python",
   "name": "python",
   "nbconvert_exporter": "python",
   "pygments_lexer": "ipython3",
   "version": "3.8.5"
  }
 },
 "nbformat": 4,
 "nbformat_minor": 4
}
