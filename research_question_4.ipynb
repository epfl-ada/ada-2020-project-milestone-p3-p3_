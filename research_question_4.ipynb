{
 "cells": [
  {
   "cell_type": "code",
   "execution_count": 5,
   "metadata": {},
   "outputs": [],
   "source": [
    "import pandas as pd\n",
    "import numpy as np\n",
    "from tqdm import tqdm\n",
    "import itertools"
   ]
  },
  {
   "cell_type": "code",
   "execution_count": 6,
   "metadata": {},
   "outputs": [
    {
     "data": {
      "text/html": [
       "<div>\n",
       "<style scoped>\n",
       "    .dataframe tbody tr th:only-of-type {\n",
       "        vertical-align: middle;\n",
       "    }\n",
       "\n",
       "    .dataframe tbody tr th {\n",
       "        vertical-align: top;\n",
       "    }\n",
       "\n",
       "    .dataframe thead tr th {\n",
       "        text-align: left;\n",
       "    }\n",
       "\n",
       "    .dataframe thead tr:last-of-type th {\n",
       "        text-align: right;\n",
       "    }\n",
       "</style>\n",
       "<table border=\"1\" class=\"dataframe\">\n",
       "  <thead>\n",
       "    <tr>\n",
       "      <th></th>\n",
       "      <th>longitude</th>\n",
       "      <th>latitude</th>\n",
       "      <th>country</th>\n",
       "    </tr>\n",
       "    <tr>\n",
       "      <th></th>\n",
       "      <th>mean</th>\n",
       "      <th>mean</th>\n",
       "      <th></th>\n",
       "    </tr>\n",
       "    <tr>\n",
       "      <th>user_id</th>\n",
       "      <th></th>\n",
       "      <th></th>\n",
       "      <th></th>\n",
       "    </tr>\n",
       "  </thead>\n",
       "  <tbody>\n",
       "    <tr>\n",
       "      <th>0</th>\n",
       "      <td>-105.009140</td>\n",
       "      <td>39.756108</td>\n",
       "      <td>US</td>\n",
       "    </tr>\n",
       "    <tr>\n",
       "      <th>1</th>\n",
       "      <td>-122.353819</td>\n",
       "      <td>37.581821</td>\n",
       "      <td>US</td>\n",
       "    </tr>\n",
       "    <tr>\n",
       "      <th>2</th>\n",
       "      <td>-105.041977</td>\n",
       "      <td>39.771737</td>\n",
       "      <td>US</td>\n",
       "    </tr>\n",
       "    <tr>\n",
       "      <th>3</th>\n",
       "      <td>-122.424280</td>\n",
       "      <td>37.765768</td>\n",
       "      <td>US</td>\n",
       "    </tr>\n",
       "    <tr>\n",
       "      <th>4</th>\n",
       "      <td>24.937299</td>\n",
       "      <td>60.173985</td>\n",
       "      <td>FI</td>\n",
       "    </tr>\n",
       "    <tr>\n",
       "      <th>...</th>\n",
       "      <td>...</td>\n",
       "      <td>...</td>\n",
       "      <td>...</td>\n",
       "    </tr>\n",
       "    <tr>\n",
       "      <th>58222</th>\n",
       "      <td>35.833333</td>\n",
       "      <td>33.833333</td>\n",
       "      <td>LB</td>\n",
       "    </tr>\n",
       "    <tr>\n",
       "      <th>58224</th>\n",
       "      <td>35.833333</td>\n",
       "      <td>33.833333</td>\n",
       "      <td>LB</td>\n",
       "    </tr>\n",
       "    <tr>\n",
       "      <th>58225</th>\n",
       "      <td>35.833333</td>\n",
       "      <td>33.833333</td>\n",
       "      <td>LB</td>\n",
       "    </tr>\n",
       "    <tr>\n",
       "      <th>58226</th>\n",
       "      <td>35.833333</td>\n",
       "      <td>33.833333</td>\n",
       "      <td>LB</td>\n",
       "    </tr>\n",
       "    <tr>\n",
       "      <th>58227</th>\n",
       "      <td>35.833333</td>\n",
       "      <td>33.833333</td>\n",
       "      <td>LB</td>\n",
       "    </tr>\n",
       "  </tbody>\n",
       "</table>\n",
       "<p>50686 rows × 3 columns</p>\n",
       "</div>"
      ],
      "text/plain": [
       "          longitude   latitude country\n",
       "               mean       mean        \n",
       "user_id                               \n",
       "0       -105.009140  39.756108      US\n",
       "1       -122.353819  37.581821      US\n",
       "2       -105.041977  39.771737      US\n",
       "3       -122.424280  37.765768      US\n",
       "4         24.937299  60.173985      FI\n",
       "...             ...        ...     ...\n",
       "58222     35.833333  33.833333      LB\n",
       "58224     35.833333  33.833333      LB\n",
       "58225     35.833333  33.833333      LB\n",
       "58226     35.833333  33.833333      LB\n",
       "58227     35.833333  33.833333      LB\n",
       "\n",
       "[50686 rows x 3 columns]"
      ]
     },
     "execution_count": 6,
     "metadata": {},
     "output_type": "execute_result"
    }
   ],
   "source": [
    "homes_B = pd.read_pickle(\"data/B_homes.pickle\")\n",
    "homes_G = pd.read_pickle(\"data/G_homes.pickle\")\n",
    "\n",
    "names_edges = [\"from_id\", \"to_id\"]\n",
    "\n",
    "edges_B = pd.read_table(\"Brightkite_edges.txt\", names=names_edges).dropna()\n",
    "edges_G = pd.read_table(\"Gowalla_edges.txt\", names=names_edges).dropna()\n",
    "\n",
    "homes_B"
   ]
  },
  {
   "cell_type": "markdown",
   "metadata": {},
   "source": [
    "# Go through the edges dataframe and replace user id's with corresponding country codes"
   ]
  },
  {
   "cell_type": "code",
   "execution_count": 7,
   "metadata": {},
   "outputs": [
    {
     "name": "stderr",
     "output_type": "stream",
     "text": [
      "428156it [06:56, 1028.04it/s]\n"
     ]
    }
   ],
   "source": [
    "from_country = []\n",
    "to_country = []\n",
    "for row in tqdm(edges_B.iterrows()):\n",
    "    from_id = row[1][\"from_id\"]\n",
    "    to_id = row[1][\"to_id\"]\n",
    "    if from_id in homes_B.index and to_id in homes_B.index: # TODO leave out if no home addresses\n",
    "        from_country.append(homes_B.loc[from_id][\"country\"][0])\n",
    "        to_country.append(homes_B.loc[to_id][\"country\"][0])"
   ]
  },
  {
   "cell_type": "markdown",
   "metadata": {},
   "source": [
    "### Build Dataframe and Count Occurrences"
   ]
  },
  {
   "cell_type": "code",
   "execution_count": 8,
   "metadata": {},
   "outputs": [
    {
     "data": {
      "text/html": [
       "<div>\n",
       "<style scoped>\n",
       "    .dataframe tbody tr th:only-of-type {\n",
       "        vertical-align: middle;\n",
       "    }\n",
       "\n",
       "    .dataframe tbody tr th {\n",
       "        vertical-align: top;\n",
       "    }\n",
       "\n",
       "    .dataframe thead th {\n",
       "        text-align: right;\n",
       "    }\n",
       "</style>\n",
       "<table border=\"1\" class=\"dataframe\">\n",
       "  <thead>\n",
       "    <tr style=\"text-align: right;\">\n",
       "      <th></th>\n",
       "      <th>from_country</th>\n",
       "      <th>to_country</th>\n",
       "      <th>Count</th>\n",
       "    </tr>\n",
       "  </thead>\n",
       "  <tbody>\n",
       "    <tr>\n",
       "      <th>1</th>\n",
       "      <td>AE</td>\n",
       "      <td>AT</td>\n",
       "      <td>3</td>\n",
       "    </tr>\n",
       "    <tr>\n",
       "      <th>2</th>\n",
       "      <td>AE</td>\n",
       "      <td>AU</td>\n",
       "      <td>3</td>\n",
       "    </tr>\n",
       "    <tr>\n",
       "      <th>3</th>\n",
       "      <td>AE</td>\n",
       "      <td>BH</td>\n",
       "      <td>1</td>\n",
       "    </tr>\n",
       "    <tr>\n",
       "      <th>4</th>\n",
       "      <td>AE</td>\n",
       "      <td>BR</td>\n",
       "      <td>4</td>\n",
       "    </tr>\n",
       "    <tr>\n",
       "      <th>5</th>\n",
       "      <td>AE</td>\n",
       "      <td>CA</td>\n",
       "      <td>2</td>\n",
       "    </tr>\n",
       "    <tr>\n",
       "      <th>...</th>\n",
       "      <td>...</td>\n",
       "      <td>...</td>\n",
       "      <td>...</td>\n",
       "    </tr>\n",
       "    <tr>\n",
       "      <th>2461</th>\n",
       "      <td>ZA</td>\n",
       "      <td>TH</td>\n",
       "      <td>1</td>\n",
       "    </tr>\n",
       "    <tr>\n",
       "      <th>2462</th>\n",
       "      <td>ZA</td>\n",
       "      <td>US</td>\n",
       "      <td>93</td>\n",
       "    </tr>\n",
       "    <tr>\n",
       "      <th>2464</th>\n",
       "      <td>ZA</td>\n",
       "      <td>ZM</td>\n",
       "      <td>3</td>\n",
       "    </tr>\n",
       "    <tr>\n",
       "      <th>2465</th>\n",
       "      <td>ZM</td>\n",
       "      <td>ZA</td>\n",
       "      <td>3</td>\n",
       "    </tr>\n",
       "    <tr>\n",
       "      <th>2466</th>\n",
       "      <td>ZW</td>\n",
       "      <td>JP</td>\n",
       "      <td>1</td>\n",
       "    </tr>\n",
       "  </tbody>\n",
       "</table>\n",
       "<p>2376 rows × 3 columns</p>\n",
       "</div>"
      ],
      "text/plain": [
       "     from_country to_country  Count\n",
       "1              AE         AT      3\n",
       "2              AE         AU      3\n",
       "3              AE         BH      1\n",
       "4              AE         BR      4\n",
       "5              AE         CA      2\n",
       "...           ...        ...    ...\n",
       "2461           ZA         TH      1\n",
       "2462           ZA         US     93\n",
       "2464           ZA         ZM      3\n",
       "2465           ZM         ZA      3\n",
       "2466           ZW         JP      1\n",
       "\n",
       "[2376 rows x 3 columns]"
      ]
     },
     "execution_count": 8,
     "metadata": {},
     "output_type": "execute_result"
    }
   ],
   "source": [
    "edges_countries = pd.DataFrame(list(zip(from_country, to_country)), \n",
    "                                   columns =[\"from_country\", \"to_country\"]) \n",
    "# count \n",
    "edges_countries = edges_countries.groupby([\"from_country\", \"to_country\"]).size().reset_index(name='Count')\n",
    "# remove country to oneself\n",
    "edges_countries = edges_countries[edges_countries['from_country'] != edges_countries['to_country']]\n",
    "edges_countries"
   ]
  },
  {
   "cell_type": "code",
   "execution_count": 9,
   "metadata": {},
   "outputs": [
    {
     "data": {
      "text/html": [
       "<div>\n",
       "<style scoped>\n",
       "    .dataframe tbody tr th:only-of-type {\n",
       "        vertical-align: middle;\n",
       "    }\n",
       "\n",
       "    .dataframe tbody tr th {\n",
       "        vertical-align: top;\n",
       "    }\n",
       "\n",
       "    .dataframe thead th {\n",
       "        text-align: right;\n",
       "    }\n",
       "</style>\n",
       "<table border=\"1\" class=\"dataframe\">\n",
       "  <thead>\n",
       "    <tr style=\"text-align: right;\">\n",
       "      <th></th>\n",
       "      <th>from_country</th>\n",
       "      <th>to_country</th>\n",
       "      <th>Count</th>\n",
       "    </tr>\n",
       "  </thead>\n",
       "  <tbody>\n",
       "    <tr>\n",
       "      <th>2268</th>\n",
       "      <td>US</td>\n",
       "      <td>GB</td>\n",
       "      <td>4489</td>\n",
       "    </tr>\n",
       "    <tr>\n",
       "      <th>2247</th>\n",
       "      <td>US</td>\n",
       "      <td>CA</td>\n",
       "      <td>3221</td>\n",
       "    </tr>\n",
       "    <tr>\n",
       "      <th>2291</th>\n",
       "      <td>US</td>\n",
       "      <td>JP</td>\n",
       "      <td>2599</td>\n",
       "    </tr>\n",
       "    <tr>\n",
       "      <th>2233</th>\n",
       "      <td>US</td>\n",
       "      <td>AU</td>\n",
       "      <td>2058</td>\n",
       "    </tr>\n",
       "    <tr>\n",
       "      <th>2318</th>\n",
       "      <td>US</td>\n",
       "      <td>NL</td>\n",
       "      <td>1065</td>\n",
       "    </tr>\n",
       "    <tr>\n",
       "      <th>...</th>\n",
       "      <td>...</td>\n",
       "      <td>...</td>\n",
       "      <td>...</td>\n",
       "    </tr>\n",
       "    <tr>\n",
       "      <th>2288</th>\n",
       "      <td>US</td>\n",
       "      <td>JE</td>\n",
       "      <td>1</td>\n",
       "    </tr>\n",
       "    <tr>\n",
       "      <th>2338</th>\n",
       "      <td>US</td>\n",
       "      <td>SD</td>\n",
       "      <td>1</td>\n",
       "    </tr>\n",
       "    <tr>\n",
       "      <th>2304</th>\n",
       "      <td>US</td>\n",
       "      <td>MD</td>\n",
       "      <td>1</td>\n",
       "    </tr>\n",
       "    <tr>\n",
       "      <th>2299</th>\n",
       "      <td>US</td>\n",
       "      <td>LT</td>\n",
       "      <td>1</td>\n",
       "    </tr>\n",
       "    <tr>\n",
       "      <th>2346</th>\n",
       "      <td>US</td>\n",
       "      <td>SY</td>\n",
       "      <td>1</td>\n",
       "    </tr>\n",
       "  </tbody>\n",
       "</table>\n",
       "<p>136 rows × 3 columns</p>\n",
       "</div>"
      ],
      "text/plain": [
       "     from_country to_country  Count\n",
       "2268           US         GB   4489\n",
       "2247           US         CA   3221\n",
       "2291           US         JP   2599\n",
       "2233           US         AU   2058\n",
       "2318           US         NL   1065\n",
       "...           ...        ...    ...\n",
       "2288           US         JE      1\n",
       "2338           US         SD      1\n",
       "2304           US         MD      1\n",
       "2299           US         LT      1\n",
       "2346           US         SY      1\n",
       "\n",
       "[136 rows x 3 columns]"
      ]
     },
     "execution_count": 9,
     "metadata": {},
     "output_type": "execute_result"
    }
   ],
   "source": [
    "edges_countries[edges_countries[\"from_country\"] == \"US\"].sort_values([\"Count\"], ascending=False)"
   ]
  },
  {
   "cell_type": "markdown",
   "metadata": {},
   "source": [
    "# Religions & Languages"
   ]
  },
  {
   "cell_type": "code",
   "execution_count": 10,
   "metadata": {},
   "outputs": [
    {
     "data": {
      "text/html": [
       "<div>\n",
       "<style scoped>\n",
       "    .dataframe tbody tr th:only-of-type {\n",
       "        vertical-align: middle;\n",
       "    }\n",
       "\n",
       "    .dataframe tbody tr th {\n",
       "        vertical-align: top;\n",
       "    }\n",
       "\n",
       "    .dataframe thead th {\n",
       "        text-align: right;\n",
       "    }\n",
       "</style>\n",
       "<table border=\"1\" class=\"dataframe\">\n",
       "  <thead>\n",
       "    <tr style=\"text-align: right;\">\n",
       "      <th></th>\n",
       "      <th>name</th>\n",
       "      <th>alpha_2</th>\n",
       "      <th>alpha_3</th>\n",
       "      <th>languages</th>\n",
       "      <th>main_religion</th>\n",
       "    </tr>\n",
       "  </thead>\n",
       "  <tbody>\n",
       "    <tr>\n",
       "      <th>0</th>\n",
       "      <td>Afghanistan</td>\n",
       "      <td>AF</td>\n",
       "      <td>AFG</td>\n",
       "      <td>[Afghan, Pashto, Uzbek]</td>\n",
       "      <td>Islam</td>\n",
       "    </tr>\n",
       "    <tr>\n",
       "      <th>1</th>\n",
       "      <td>Albania</td>\n",
       "      <td>AL</td>\n",
       "      <td>ALB</td>\n",
       "      <td>[Albanian, Greek]</td>\n",
       "      <td>Islam</td>\n",
       "    </tr>\n",
       "    <tr>\n",
       "      <th>2</th>\n",
       "      <td>Algeria</td>\n",
       "      <td>DZ</td>\n",
       "      <td>DZA</td>\n",
       "      <td>[Arabic, French, Berber]</td>\n",
       "      <td>Islam</td>\n",
       "    </tr>\n",
       "    <tr>\n",
       "      <th>3</th>\n",
       "      <td>Andorra</td>\n",
       "      <td>AD</td>\n",
       "      <td>AND</td>\n",
       "      <td>[Catalan, French, Castilian]</td>\n",
       "      <td>Christianity</td>\n",
       "    </tr>\n",
       "    <tr>\n",
       "      <th>4</th>\n",
       "      <td>Angola</td>\n",
       "      <td>AO</td>\n",
       "      <td>AGO</td>\n",
       "      <td>[Portuguese, Umbundu, Kikongo]</td>\n",
       "      <td>Christianity</td>\n",
       "    </tr>\n",
       "    <tr>\n",
       "      <th>...</th>\n",
       "      <td>...</td>\n",
       "      <td>...</td>\n",
       "      <td>...</td>\n",
       "      <td>...</td>\n",
       "      <td>...</td>\n",
       "    </tr>\n",
       "    <tr>\n",
       "      <th>192</th>\n",
       "      <td>Korea, Democratic People's Republic of</td>\n",
       "      <td>KP</td>\n",
       "      <td>PRK</td>\n",
       "      <td>[Korean]</td>\n",
       "      <td>Buddhism</td>\n",
       "    </tr>\n",
       "    <tr>\n",
       "      <th>193</th>\n",
       "      <td>Korea, Republic of</td>\n",
       "      <td>KR</td>\n",
       "      <td>KOR</td>\n",
       "      <td>[Korean, English, junior]</td>\n",
       "      <td>Christianity</td>\n",
       "    </tr>\n",
       "    <tr>\n",
       "      <th>194</th>\n",
       "      <td>Lao People's Democratic Republic</td>\n",
       "      <td>LA</td>\n",
       "      <td>LAO</td>\n",
       "      <td>[Lao, French, English]</td>\n",
       "      <td>Buddhism</td>\n",
       "    </tr>\n",
       "    <tr>\n",
       "      <th>195</th>\n",
       "      <td>Palestine, State of</td>\n",
       "      <td>PS</td>\n",
       "      <td>PSE</td>\n",
       "      <td>[Palauan, English]</td>\n",
       "      <td>Islam</td>\n",
       "    </tr>\n",
       "    <tr>\n",
       "      <th>196</th>\n",
       "      <td>Sao Tome and Principe</td>\n",
       "      <td>ST</td>\n",
       "      <td>STP</td>\n",
       "      <td>[Portuguese, Forro, Cabo]</td>\n",
       "      <td>Christianity</td>\n",
       "    </tr>\n",
       "  </tbody>\n",
       "</table>\n",
       "<p>197 rows × 5 columns</p>\n",
       "</div>"
      ],
      "text/plain": [
       "                                       name alpha_2 alpha_3  \\\n",
       "0                               Afghanistan      AF     AFG   \n",
       "1                                   Albania      AL     ALB   \n",
       "2                                   Algeria      DZ     DZA   \n",
       "3                                   Andorra      AD     AND   \n",
       "4                                    Angola      AO     AGO   \n",
       "..                                      ...     ...     ...   \n",
       "192  Korea, Democratic People's Republic of      KP     PRK   \n",
       "193                      Korea, Republic of      KR     KOR   \n",
       "194        Lao People's Democratic Republic      LA     LAO   \n",
       "195                     Palestine, State of      PS     PSE   \n",
       "196                   Sao Tome and Principe      ST     STP   \n",
       "\n",
       "                          languages main_religion  \n",
       "0           [Afghan, Pashto, Uzbek]         Islam  \n",
       "1                 [Albanian, Greek]         Islam  \n",
       "2          [Arabic, French, Berber]         Islam  \n",
       "3      [Catalan, French, Castilian]  Christianity  \n",
       "4    [Portuguese, Umbundu, Kikongo]  Christianity  \n",
       "..                              ...           ...  \n",
       "192                        [Korean]      Buddhism  \n",
       "193       [Korean, English, junior]  Christianity  \n",
       "194          [Lao, French, English]      Buddhism  \n",
       "195              [Palauan, English]         Islam  \n",
       "196       [Portuguese, Forro, Cabo]  Christianity  \n",
       "\n",
       "[197 rows x 5 columns]"
      ]
     },
     "execution_count": 10,
     "metadata": {},
     "output_type": "execute_result"
    }
   ],
   "source": [
    "countries = pd.read_pickle(\"data/countries.pkl\")\n",
    "countries"
   ]
  },
  {
   "cell_type": "markdown",
   "metadata": {},
   "source": [
    "### Religions - Looking at Home Locations"
   ]
  },
  {
   "cell_type": "markdown",
   "metadata": {},
   "source": [
    "## Brightkite"
   ]
  },
  {
   "cell_type": "code",
   "execution_count": 11,
   "metadata": {},
   "outputs": [
    {
     "name": "stderr",
     "output_type": "stream",
     "text": [
      "100%|██████████| 50686/50686 [00:25<00:00, 2017.71it/s]\n"
     ]
    },
    {
     "data": {
      "text/plain": [
       "{'Hinduism': 0.005247997474647831,\n",
       " 'Islam': 0.01594128556208815,\n",
       " 'Buddhism': 0.07374817503847216,\n",
       " 'Christianity': 0.9008996567099397}"
      ]
     },
     "execution_count": 11,
     "metadata": {},
     "output_type": "execute_result"
    }
   ],
   "source": [
    "# check how many likelihood of living in a country for a given religion\n",
    "unique_religions = list(set(countries[\"main_religion\"]))\n",
    "count_religions = {religion:0 for religion in unique_religions}\n",
    "for country in tqdm(list(homes_B[\"country\"])):\n",
    "    for religion in countries[countries[\"alpha_2\"]==country][\"main_religion\"]:\n",
    "        count_religions[religion] += 1\n",
    "count_religions = {k: v/len(homes_B) for k, v in sorted(count_religions.items(), key=lambda item: item[1])}\n",
    "count_religions"
   ]
  },
  {
   "cell_type": "markdown",
   "metadata": {},
   "source": [
    "## Gowalla"
   ]
  },
  {
   "cell_type": "code",
   "execution_count": 12,
   "metadata": {},
   "outputs": [
    {
     "name": "stderr",
     "output_type": "stream",
     "text": [
      "100%|██████████| 107092/107092 [00:51<00:00, 2072.43it/s]\n"
     ]
    },
    {
     "data": {
      "text/plain": [
       "{'Hinduism': 0.0011578829417696933,\n",
       " 'Islam': 0.03017965861128749,\n",
       " 'Buddhism': 0.03673477010420947,\n",
       " 'Christianity': 0.9232715795764389}"
      ]
     },
     "execution_count": 12,
     "metadata": {},
     "output_type": "execute_result"
    }
   ],
   "source": [
    "# check how many likelihood of living in a country for a given religion\n",
    "unique_religions = list(set(countries[\"main_religion\"]))\n",
    "count_religions = {religion:0 for religion in unique_religions}\n",
    "for country in tqdm(list(homes_G[\"country\"])):\n",
    "    for religion in countries[countries[\"alpha_2\"]==country][\"main_religion\"]:\n",
    "        count_religions[religion] += 1\n",
    "count_religions = {k: v/len(homes_G) for k, v in sorted(count_religions.items(), key=lambda item: item[1])}\n",
    "count_religions"
   ]
  },
  {
   "cell_type": "markdown",
   "metadata": {},
   "source": [
    "# For each user, check how many of his friends have what religion"
   ]
  },
  {
   "cell_type": "markdown",
   "metadata": {},
   "source": [
    "We will create a dataframe here, we for each friendship, we will have the information of both friends"
   ]
  },
  {
   "cell_type": "code",
   "execution_count": 13,
   "metadata": {},
   "outputs": [
    {
     "name": "stderr",
     "output_type": "stream",
     "text": [
      "/home/dcelik/.virtualenvs/ada/lib/python3.8/site-packages/pandas/core/reshape/merge.py:643: UserWarning: merging between different levels can give an unintended result (2 levels on the left,1 on the right)\n",
      "  warnings.warn(msg, UserWarning)\n"
     ]
    },
    {
     "data": {
      "text/html": [
       "<div>\n",
       "<style scoped>\n",
       "    .dataframe tbody tr th:only-of-type {\n",
       "        vertical-align: middle;\n",
       "    }\n",
       "\n",
       "    .dataframe tbody tr th {\n",
       "        vertical-align: top;\n",
       "    }\n",
       "\n",
       "    .dataframe thead th {\n",
       "        text-align: right;\n",
       "    }\n",
       "</style>\n",
       "<table border=\"1\" class=\"dataframe\">\n",
       "  <thead>\n",
       "    <tr style=\"text-align: right;\">\n",
       "      <th></th>\n",
       "      <th>country</th>\n",
       "      <th>languages</th>\n",
       "      <th>main_religion</th>\n",
       "      <th>friend_country</th>\n",
       "      <th>friend_languages</th>\n",
       "      <th>friend_main_religion</th>\n",
       "    </tr>\n",
       "  </thead>\n",
       "  <tbody>\n",
       "    <tr>\n",
       "      <th>0</th>\n",
       "      <td>US</td>\n",
       "      <td>[English, Spanish, Chinese]</td>\n",
       "      <td>Christianity</td>\n",
       "      <td>US</td>\n",
       "      <td>[English, Spanish, Chinese]</td>\n",
       "      <td>Christianity</td>\n",
       "    </tr>\n",
       "    <tr>\n",
       "      <th>1</th>\n",
       "      <td>US</td>\n",
       "      <td>[English, Spanish, Chinese]</td>\n",
       "      <td>Christianity</td>\n",
       "      <td>US</td>\n",
       "      <td>[English, Spanish, Chinese]</td>\n",
       "      <td>Christianity</td>\n",
       "    </tr>\n",
       "    <tr>\n",
       "      <th>2</th>\n",
       "      <td>US</td>\n",
       "      <td>[English, Spanish, Chinese]</td>\n",
       "      <td>Christianity</td>\n",
       "      <td>US</td>\n",
       "      <td>[English, Spanish, Chinese]</td>\n",
       "      <td>Christianity</td>\n",
       "    </tr>\n",
       "    <tr>\n",
       "      <th>3</th>\n",
       "      <td>US</td>\n",
       "      <td>[English, Spanish, Chinese]</td>\n",
       "      <td>Christianity</td>\n",
       "      <td>US</td>\n",
       "      <td>[English, Spanish, Chinese]</td>\n",
       "      <td>Christianity</td>\n",
       "    </tr>\n",
       "    <tr>\n",
       "      <th>4</th>\n",
       "      <td>US</td>\n",
       "      <td>[English, Spanish, Chinese]</td>\n",
       "      <td>Christianity</td>\n",
       "      <td>US</td>\n",
       "      <td>[English, Spanish, Chinese]</td>\n",
       "      <td>Christianity</td>\n",
       "    </tr>\n",
       "    <tr>\n",
       "      <th>...</th>\n",
       "      <td>...</td>\n",
       "      <td>...</td>\n",
       "      <td>...</td>\n",
       "      <td>...</td>\n",
       "      <td>...</td>\n",
       "      <td>...</td>\n",
       "    </tr>\n",
       "    <tr>\n",
       "      <th>395732</th>\n",
       "      <td>IE</td>\n",
       "      <td>[English, Irish]</td>\n",
       "      <td>Christianity</td>\n",
       "      <td>LT</td>\n",
       "      <td>[Lithuanian, Russian, Polish]</td>\n",
       "      <td>Christianity</td>\n",
       "    </tr>\n",
       "    <tr>\n",
       "      <th>395733</th>\n",
       "      <td>IT</td>\n",
       "      <td>[Italian, German, French]</td>\n",
       "      <td>Christianity</td>\n",
       "      <td>SC</td>\n",
       "      <td>[Seychellois, English, French]</td>\n",
       "      <td>Christianity</td>\n",
       "    </tr>\n",
       "    <tr>\n",
       "      <th>395734</th>\n",
       "      <td>DK</td>\n",
       "      <td>[Danish, Faroese, Greenlandic]</td>\n",
       "      <td>Christianity</td>\n",
       "      <td>AL</td>\n",
       "      <td>[Albanian, Greek]</td>\n",
       "      <td>Islam</td>\n",
       "    </tr>\n",
       "    <tr>\n",
       "      <th>395735</th>\n",
       "      <td>DK</td>\n",
       "      <td>[Danish, Faroese, Greenlandic]</td>\n",
       "      <td>Christianity</td>\n",
       "      <td>AL</td>\n",
       "      <td>[Albanian, Greek]</td>\n",
       "      <td>Islam</td>\n",
       "    </tr>\n",
       "    <tr>\n",
       "      <th>395736</th>\n",
       "      <td>DK</td>\n",
       "      <td>[Danish, Faroese, Greenlandic]</td>\n",
       "      <td>Christianity</td>\n",
       "      <td>SO</td>\n",
       "      <td>[Somali, according, Arabic]</td>\n",
       "      <td>Islam</td>\n",
       "    </tr>\n",
       "  </tbody>\n",
       "</table>\n",
       "<p>395737 rows × 6 columns</p>\n",
       "</div>"
      ],
      "text/plain": [
       "       country                       languages main_religion friend_country  \\\n",
       "0           US     [English, Spanish, Chinese]  Christianity             US   \n",
       "1           US     [English, Spanish, Chinese]  Christianity             US   \n",
       "2           US     [English, Spanish, Chinese]  Christianity             US   \n",
       "3           US     [English, Spanish, Chinese]  Christianity             US   \n",
       "4           US     [English, Spanish, Chinese]  Christianity             US   \n",
       "...        ...                             ...           ...            ...   \n",
       "395732      IE                [English, Irish]  Christianity             LT   \n",
       "395733      IT       [Italian, German, French]  Christianity             SC   \n",
       "395734      DK  [Danish, Faroese, Greenlandic]  Christianity             AL   \n",
       "395735      DK  [Danish, Faroese, Greenlandic]  Christianity             AL   \n",
       "395736      DK  [Danish, Faroese, Greenlandic]  Christianity             SO   \n",
       "\n",
       "                      friend_languages friend_main_religion  \n",
       "0          [English, Spanish, Chinese]         Christianity  \n",
       "1          [English, Spanish, Chinese]         Christianity  \n",
       "2          [English, Spanish, Chinese]         Christianity  \n",
       "3          [English, Spanish, Chinese]         Christianity  \n",
       "4          [English, Spanish, Chinese]         Christianity  \n",
       "...                                ...                  ...  \n",
       "395732   [Lithuanian, Russian, Polish]         Christianity  \n",
       "395733  [Seychellois, English, French]         Christianity  \n",
       "395734               [Albanian, Greek]                Islam  \n",
       "395735               [Albanian, Greek]                Islam  \n",
       "395736     [Somali, according, Arabic]                Islam  \n",
       "\n",
       "[395737 rows x 6 columns]"
      ]
     },
     "execution_count": 13,
     "metadata": {},
     "output_type": "execute_result"
    }
   ],
   "source": [
    "# add languages and religion to homes\n",
    "merged = pd.merge(homes_B, countries[[\"alpha_2\", \"languages\", \"main_religion\"]], how=\"inner\", left_on=\"country\", right_on=\"alpha_2\")\n",
    "merged.columns = [\"drop1\", \"drop2\", \"country\", \"drop3\", \"languages\", \"main_religion\"]\n",
    "merged = merged.drop(columns=[\"drop1\", \"drop2\", \"drop3\"])\n",
    "# add friend ids to home locations\n",
    "merged = pd.merge(merged, edges_B, how=\"inner\", left_index=True, right_on=\"from_id\").drop(columns=[\"to_id\"])\n",
    "merged.columns = [\"country\", \"languages\", \"main_religion\", \"friend\"]\n",
    "# add friend home country\n",
    "merged = pd.merge(merged, homes_B[\"country\"], how=\"inner\", left_on=\"friend\", right_index=True)\n",
    "merged.columns = [\"country\", \"languages\", \"main_religion\", \"friend\", \"friend_country\"]\n",
    "# add friend languages and religion\n",
    "merged = pd.merge(merged, countries[[\"alpha_2\", \"languages\", \"main_religion\"]], how=\"inner\", left_on=\"friend_country\", right_on=\"alpha_2\")\n",
    "merged.columns = [\"country\", \"languages\", \"main_religion\", \"friend\", \"friend_country\", \"drop1\", \"friend_languages\", \"friend_main_religion\"]\n",
    "merged = merged.drop(columns=[\"drop1\", \"friend\"])\n",
    "merged"
   ]
  },
  {
   "cell_type": "markdown",
   "metadata": {},
   "source": [
    "#### percentage of friendships in same country"
   ]
  },
  {
   "cell_type": "code",
   "execution_count": 14,
   "metadata": {},
   "outputs": [
    {
     "data": {
      "text/plain": [
       "0.5623962379054777"
      ]
     },
     "execution_count": 14,
     "metadata": {},
     "output_type": "execute_result"
    }
   ],
   "source": [
    "len(merged[merged[\"country\"] == merged[\"friend_country\"]])/len(merged)"
   ]
  },
  {
   "cell_type": "markdown",
   "metadata": {},
   "source": [
    "##### percentage of friendships with same religion"
   ]
  },
  {
   "cell_type": "code",
   "execution_count": 15,
   "metadata": {},
   "outputs": [
    {
     "data": {
      "text/plain": [
       "0.8340791990640248"
      ]
     },
     "execution_count": 15,
     "metadata": {},
     "output_type": "execute_result"
    }
   ],
   "source": [
    "len(merged[merged[\"main_religion\"] == merged[\"friend_main_religion\"]])/len(merged)"
   ]
  },
  {
   "cell_type": "code",
   "execution_count": 16,
   "metadata": {},
   "outputs": [
    {
     "data": {
      "text/plain": [
       "main_religion  friend_main_religion\n",
       "Christianity   Christianity            329473\n",
       "               Buddhism                 52212\n",
       "Buddhism       Christianity              7285\n",
       "Christianity   Islam                     3054\n",
       "               Hinduism                  1338\n",
       "Islam          Christianity              1028\n",
       "Buddhism       Buddhism                   577\n",
       "Hinduism       Christianity               415\n",
       "Islam          Buddhism                   145\n",
       "Buddhism       Islam                      123\n",
       "               Hinduism                    39\n",
       "Islam          Islam                       19\n",
       "               Hinduism                     8\n",
       "Hinduism       Islam                        8\n",
       "               Hinduism                     7\n",
       "               Buddhism                     6\n",
       "dtype: int64"
      ]
     },
     "execution_count": 16,
     "metadata": {},
     "output_type": "execute_result"
    }
   ],
   "source": [
    "merged.groupby(['main_religion', 'friend_main_religion']).size().sort_values(ascending=False)"
   ]
  },
  {
   "cell_type": "markdown",
   "metadata": {},
   "source": [
    "What if we dont consider friendships in the same country"
   ]
  },
  {
   "cell_type": "code",
   "execution_count": 17,
   "metadata": {},
   "outputs": [
    {
     "data": {
      "text/plain": [
       "main_religion  friend_main_religion\n",
       "Christianity   Christianity            107283\n",
       "               Buddhism                 52212\n",
       "Buddhism       Christianity              7285\n",
       "Christianity   Islam                     3054\n",
       "               Hinduism                  1338\n",
       "Islam          Christianity              1028\n",
       "Hinduism       Christianity               415\n",
       "Buddhism       Buddhism                   213\n",
       "Islam          Buddhism                   145\n",
       "Buddhism       Islam                      123\n",
       "               Hinduism                    39\n",
       "Islam          Islam                       19\n",
       "               Hinduism                     8\n",
       "Hinduism       Islam                        8\n",
       "               Buddhism                     6\n",
       "dtype: int64"
      ]
     },
     "execution_count": 17,
     "metadata": {},
     "output_type": "execute_result"
    }
   ],
   "source": [
    "merged[merged[\"country\"] != merged[\"friend_country\"]].groupby(['main_religion', 'friend_main_religion']).size().sort_values(ascending=False)"
   ]
  },
  {
   "cell_type": "markdown",
   "metadata": {},
   "source": [
    "##### percentage friends that have common language"
   ]
  },
  {
   "cell_type": "code",
   "execution_count": 18,
   "metadata": {},
   "outputs": [
    {
     "data": {
      "text/html": [
       "<div>\n",
       "<style scoped>\n",
       "    .dataframe tbody tr th:only-of-type {\n",
       "        vertical-align: middle;\n",
       "    }\n",
       "\n",
       "    .dataframe tbody tr th {\n",
       "        vertical-align: top;\n",
       "    }\n",
       "\n",
       "    .dataframe thead th {\n",
       "        text-align: right;\n",
       "    }\n",
       "</style>\n",
       "<table border=\"1\" class=\"dataframe\">\n",
       "  <thead>\n",
       "    <tr style=\"text-align: right;\">\n",
       "      <th></th>\n",
       "      <th>country</th>\n",
       "      <th>languages</th>\n",
       "      <th>main_religion</th>\n",
       "      <th>friend_country</th>\n",
       "      <th>friend_languages</th>\n",
       "      <th>friend_main_religion</th>\n",
       "      <th>common_language</th>\n",
       "    </tr>\n",
       "  </thead>\n",
       "  <tbody>\n",
       "    <tr>\n",
       "      <th>0</th>\n",
       "      <td>US</td>\n",
       "      <td>[English, Spanish, Chinese]</td>\n",
       "      <td>Christianity</td>\n",
       "      <td>US</td>\n",
       "      <td>[English, Spanish, Chinese]</td>\n",
       "      <td>Christianity</td>\n",
       "      <td>3</td>\n",
       "    </tr>\n",
       "    <tr>\n",
       "      <th>1</th>\n",
       "      <td>US</td>\n",
       "      <td>[English, Spanish, Chinese]</td>\n",
       "      <td>Christianity</td>\n",
       "      <td>US</td>\n",
       "      <td>[English, Spanish, Chinese]</td>\n",
       "      <td>Christianity</td>\n",
       "      <td>3</td>\n",
       "    </tr>\n",
       "    <tr>\n",
       "      <th>2</th>\n",
       "      <td>US</td>\n",
       "      <td>[English, Spanish, Chinese]</td>\n",
       "      <td>Christianity</td>\n",
       "      <td>US</td>\n",
       "      <td>[English, Spanish, Chinese]</td>\n",
       "      <td>Christianity</td>\n",
       "      <td>3</td>\n",
       "    </tr>\n",
       "    <tr>\n",
       "      <th>3</th>\n",
       "      <td>US</td>\n",
       "      <td>[English, Spanish, Chinese]</td>\n",
       "      <td>Christianity</td>\n",
       "      <td>US</td>\n",
       "      <td>[English, Spanish, Chinese]</td>\n",
       "      <td>Christianity</td>\n",
       "      <td>3</td>\n",
       "    </tr>\n",
       "    <tr>\n",
       "      <th>4</th>\n",
       "      <td>US</td>\n",
       "      <td>[English, Spanish, Chinese]</td>\n",
       "      <td>Christianity</td>\n",
       "      <td>US</td>\n",
       "      <td>[English, Spanish, Chinese]</td>\n",
       "      <td>Christianity</td>\n",
       "      <td>3</td>\n",
       "    </tr>\n",
       "    <tr>\n",
       "      <th>...</th>\n",
       "      <td>...</td>\n",
       "      <td>...</td>\n",
       "      <td>...</td>\n",
       "      <td>...</td>\n",
       "      <td>...</td>\n",
       "      <td>...</td>\n",
       "      <td>...</td>\n",
       "    </tr>\n",
       "    <tr>\n",
       "      <th>395732</th>\n",
       "      <td>IE</td>\n",
       "      <td>[English, Irish]</td>\n",
       "      <td>Christianity</td>\n",
       "      <td>LT</td>\n",
       "      <td>[Lithuanian, Russian, Polish]</td>\n",
       "      <td>Christianity</td>\n",
       "      <td>0</td>\n",
       "    </tr>\n",
       "    <tr>\n",
       "      <th>395733</th>\n",
       "      <td>IT</td>\n",
       "      <td>[Italian, German, French]</td>\n",
       "      <td>Christianity</td>\n",
       "      <td>SC</td>\n",
       "      <td>[Seychellois, English, French]</td>\n",
       "      <td>Christianity</td>\n",
       "      <td>1</td>\n",
       "    </tr>\n",
       "    <tr>\n",
       "      <th>395734</th>\n",
       "      <td>DK</td>\n",
       "      <td>[Danish, Faroese, Greenlandic]</td>\n",
       "      <td>Christianity</td>\n",
       "      <td>AL</td>\n",
       "      <td>[Albanian, Greek]</td>\n",
       "      <td>Islam</td>\n",
       "      <td>0</td>\n",
       "    </tr>\n",
       "    <tr>\n",
       "      <th>395735</th>\n",
       "      <td>DK</td>\n",
       "      <td>[Danish, Faroese, Greenlandic]</td>\n",
       "      <td>Christianity</td>\n",
       "      <td>AL</td>\n",
       "      <td>[Albanian, Greek]</td>\n",
       "      <td>Islam</td>\n",
       "      <td>0</td>\n",
       "    </tr>\n",
       "    <tr>\n",
       "      <th>395736</th>\n",
       "      <td>DK</td>\n",
       "      <td>[Danish, Faroese, Greenlandic]</td>\n",
       "      <td>Christianity</td>\n",
       "      <td>SO</td>\n",
       "      <td>[Somali, according, Arabic]</td>\n",
       "      <td>Islam</td>\n",
       "      <td>0</td>\n",
       "    </tr>\n",
       "  </tbody>\n",
       "</table>\n",
       "<p>395737 rows × 7 columns</p>\n",
       "</div>"
      ],
      "text/plain": [
       "       country                       languages main_religion friend_country  \\\n",
       "0           US     [English, Spanish, Chinese]  Christianity             US   \n",
       "1           US     [English, Spanish, Chinese]  Christianity             US   \n",
       "2           US     [English, Spanish, Chinese]  Christianity             US   \n",
       "3           US     [English, Spanish, Chinese]  Christianity             US   \n",
       "4           US     [English, Spanish, Chinese]  Christianity             US   \n",
       "...        ...                             ...           ...            ...   \n",
       "395732      IE                [English, Irish]  Christianity             LT   \n",
       "395733      IT       [Italian, German, French]  Christianity             SC   \n",
       "395734      DK  [Danish, Faroese, Greenlandic]  Christianity             AL   \n",
       "395735      DK  [Danish, Faroese, Greenlandic]  Christianity             AL   \n",
       "395736      DK  [Danish, Faroese, Greenlandic]  Christianity             SO   \n",
       "\n",
       "                      friend_languages friend_main_religion  common_language  \n",
       "0          [English, Spanish, Chinese]         Christianity                3  \n",
       "1          [English, Spanish, Chinese]         Christianity                3  \n",
       "2          [English, Spanish, Chinese]         Christianity                3  \n",
       "3          [English, Spanish, Chinese]         Christianity                3  \n",
       "4          [English, Spanish, Chinese]         Christianity                3  \n",
       "...                                ...                  ...              ...  \n",
       "395732   [Lithuanian, Russian, Polish]         Christianity                0  \n",
       "395733  [Seychellois, English, French]         Christianity                1  \n",
       "395734               [Albanian, Greek]                Islam                0  \n",
       "395735               [Albanian, Greek]                Islam                0  \n",
       "395736     [Somali, according, Arabic]                Islam                0  \n",
       "\n",
       "[395737 rows x 7 columns]"
      ]
     },
     "execution_count": 18,
     "metadata": {},
     "output_type": "execute_result"
    }
   ],
   "source": [
    "merged[\"common_language\"] = merged.apply(lambda row: sum(x in row[4] for x in row[1]), axis=1)\n",
    "merged"
   ]
  },
  {
   "cell_type": "markdown",
   "metadata": {},
   "source": [
    "Count amount of common languages, given that it is not the same country"
   ]
  },
  {
   "cell_type": "code",
   "execution_count": 19,
   "metadata": {},
   "outputs": [
    {
     "data": {
      "text/plain": [
       "common_language\n",
       "0    120679\n",
       "1     49854\n",
       "2      2631\n",
       "3        12\n",
       "dtype: int64"
      ]
     },
     "execution_count": 19,
     "metadata": {},
     "output_type": "execute_result"
    }
   ],
   "source": [
    "merged[merged[\"country\"] != merged[\"friend_country\"]].value_counts(\"common_language\")"
   ]
  },
  {
   "cell_type": "markdown",
   "metadata": {},
   "source": [
    "### Plots"
   ]
  },
  {
   "cell_type": "code",
   "execution_count": 77,
   "metadata": {},
   "outputs": [],
   "source": [
    "G = nx.Graph()\n",
    "\n",
    "node_list = set(merged[\"main_religion\"].to_list() + merged[\"friend_main_religion\"].to_list())\n",
    "\n",
    "for r in node_list:\n",
    "    G.add_node(r)"
   ]
  },
  {
   "cell_type": "code",
   "execution_count": 78,
   "metadata": {},
   "outputs": [
    {
     "data": {
      "text/plain": [
       "NodeView(('Buddhism', 'Hinduism', 'Christianity', 'Islam'))"
      ]
     },
     "execution_count": 78,
     "metadata": {},
     "output_type": "execute_result"
    }
   ],
   "source": [
    "G.nodes()"
   ]
  },
  {
   "cell_type": "code",
   "execution_count": 79,
   "metadata": {},
   "outputs": [],
   "source": [
    "for i,j in merged.iterrows():\n",
    "    G.add_edges_from([(j[\"main_religion\"],j[\"friend_main_religion\"])])"
   ]
  },
  {
   "cell_type": "code",
   "execution_count": 80,
   "metadata": {},
   "outputs": [],
   "source": [
    "pos = nx.spring_layout(G, k=1.5, iterations=50)"
   ]
  },
  {
   "cell_type": "code",
   "execution_count": 81,
   "metadata": {},
   "outputs": [],
   "source": [
    "for n, p in pos.items():\n",
    "    G.nodes[n]['pos'] = p"
   ]
  },
  {
   "cell_type": "code",
   "execution_count": 82,
   "metadata": {},
   "outputs": [],
   "source": [
    "import plotly\n",
    "import plotly.graph_objects as go\n",
    "\n",
    "edge_trace = go.Scatter(\n",
    "    x=[],\n",
    "    y=[],\n",
    "    line=dict(width=5.5,color='#888'),\n",
    "    hoverinfo='none',\n",
    "    mode='lines')\n",
    "\n",
    "for edge in G.edges():\n",
    "    x0, y0 = G.nodes[edge[0]]['pos']\n",
    "    x1, y1 = G.nodes[edge[1]]['pos']\n",
    "    edge_trace['x'] += tuple([x0, x1, None])\n",
    "    edge_trace['y'] += tuple([y0, y1, None])"
   ]
  },
  {
   "cell_type": "code",
   "execution_count": 83,
   "metadata": {},
   "outputs": [],
   "source": [
    "node_trace = go.Scatter(\n",
    "    x=[],\n",
    "    y=[],\n",
    "    text=[],\n",
    "    mode='markers',\n",
    "    hoverinfo='text',\n",
    "    marker=dict(\n",
    "        showscale=True,\n",
    "        colorscale='RdBu',\n",
    "        reversescale=True,\n",
    "        color=[],\n",
    "        size=40,\n",
    "        colorbar=dict(\n",
    "            thickness=10,\n",
    "            title='Node Connections',\n",
    "            xanchor='left',\n",
    "            titleside='right'\n",
    "        ),\n",
    "        line=dict(width=0)))\n",
    "\n",
    "for node in G.nodes():\n",
    "    x, y = G.nodes[node]['pos']\n",
    "    node_trace['x'] += tuple([x])\n",
    "    node_trace['y'] += tuple([y])"
   ]
  },
  {
   "cell_type": "code",
   "execution_count": null,
   "metadata": {},
   "outputs": [],
   "source": [
    "for node, adjacencies in enumerate(G.adjacency()):\n",
    "    node_trace['marker']['color']+=tuple([len(adjacencies[1])])\n",
    "    node_info = adjacencies[0] +' # of connections: '+str(len(adjacencies[1]))\n",
    "    node_trace['text']+=tuple([node_info])\n"
   ]
  },
  {
   "cell_type": "code",
   "execution_count": null,
   "metadata": {},
   "outputs": [],
   "source": [
    "#import plotly.offline.iplot as iplot\n",
    "fig = go.Figure(data=[edge_trace, node_trace],\n",
    "             layout=go.Layout(\n",
    "                title='<br>AT&T network connections',\n",
    "                titlefont=dict(size=16),\n",
    "                showlegend=False,\n",
    "                hovermode='closest',\n",
    "                margin=dict(b=20,l=5,r=5,t=40),\n",
    "                annotations=[ dict(\n",
    "                    text=\"No. of connections\",\n",
    "                    showarrow=False,\n",
    "                    xref=\"paper\", yref=\"paper\") ],\n",
    "                xaxis=dict(showgrid=False, zeroline=False, showticklabels=False),\n",
    "                yaxis=dict(showgrid=False, zeroline=False, showticklabels=False)))\n",
    "\n",
    "\n",
    "fig"
   ]
  },
  {
   "cell_type": "code",
   "execution_count": null,
   "metadata": {},
   "outputs": [],
   "source": []
  },
  {
   "cell_type": "code",
   "execution_count": null,
   "metadata": {},
   "outputs": [],
   "source": []
  }
 ],
 "metadata": {
  "kernelspec": {
   "display_name": "Python 3",
   "language": "python",
   "name": "python3"
  },
  "language_info": {
   "codemirror_mode": {
    "name": "ipython",
    "version": 3
   },
   "file_extension": ".py",
   "mimetype": "text/x-python",
   "name": "python",
   "nbconvert_exporter": "python",
   "pygments_lexer": "ipython3",
   "version": "3.8.5"
  }
 },
 "nbformat": 4,
 "nbformat_minor": 4
}
