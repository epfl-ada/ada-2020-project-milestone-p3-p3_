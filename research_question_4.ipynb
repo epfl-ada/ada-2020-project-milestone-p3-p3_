{
 "cells": [
  {
   "cell_type": "code",
   "execution_count": 361,
   "metadata": {},
   "outputs": [],
   "source": [
    "import pandas as pd\n",
    "import numpy as np\n",
    "from tqdm import tqdm\n",
    "import itertools\n",
    "import networkx as nx\n",
    "import matplotlib.pyplot as plt\n",
    "import plotly\n",
    "import plotly.graph_objects as go\n",
    "import math\n",
    "from plotly.offline import plot"
   ]
  },
  {
   "cell_type": "markdown",
   "metadata": {},
   "source": [
    "### load the data"
   ]
  },
  {
   "cell_type": "code",
   "execution_count": 340,
   "metadata": {
    "scrolled": false
   },
   "outputs": [
    {
     "data": {
      "text/html": [
       "<div>\n",
       "<style scoped>\n",
       "    .dataframe tbody tr th:only-of-type {\n",
       "        vertical-align: middle;\n",
       "    }\n",
       "\n",
       "    .dataframe tbody tr th {\n",
       "        vertical-align: top;\n",
       "    }\n",
       "\n",
       "    .dataframe thead th {\n",
       "        text-align: right;\n",
       "    }\n",
       "</style>\n",
       "<table border=\"1\" class=\"dataframe\">\n",
       "  <thead>\n",
       "    <tr style=\"text-align: right;\">\n",
       "      <th></th>\n",
       "      <th>country</th>\n",
       "    </tr>\n",
       "    <tr>\n",
       "      <th>user_id</th>\n",
       "      <th></th>\n",
       "    </tr>\n",
       "  </thead>\n",
       "  <tbody>\n",
       "    <tr>\n",
       "      <th>0</th>\n",
       "      <td>US</td>\n",
       "    </tr>\n",
       "    <tr>\n",
       "      <th>1</th>\n",
       "      <td>US</td>\n",
       "    </tr>\n",
       "    <tr>\n",
       "      <th>2</th>\n",
       "      <td>US</td>\n",
       "    </tr>\n",
       "    <tr>\n",
       "      <th>3</th>\n",
       "      <td>US</td>\n",
       "    </tr>\n",
       "    <tr>\n",
       "      <th>4</th>\n",
       "      <td>FI</td>\n",
       "    </tr>\n",
       "    <tr>\n",
       "      <th>...</th>\n",
       "      <td>...</td>\n",
       "    </tr>\n",
       "    <tr>\n",
       "      <th>58222</th>\n",
       "      <td>LB</td>\n",
       "    </tr>\n",
       "    <tr>\n",
       "      <th>58224</th>\n",
       "      <td>LB</td>\n",
       "    </tr>\n",
       "    <tr>\n",
       "      <th>58225</th>\n",
       "      <td>LB</td>\n",
       "    </tr>\n",
       "    <tr>\n",
       "      <th>58226</th>\n",
       "      <td>LB</td>\n",
       "    </tr>\n",
       "    <tr>\n",
       "      <th>58227</th>\n",
       "      <td>LB</td>\n",
       "    </tr>\n",
       "  </tbody>\n",
       "</table>\n",
       "<p>50686 rows × 1 columns</p>\n",
       "</div>"
      ],
      "text/plain": [
       "        country\n",
       "user_id        \n",
       "0            US\n",
       "1            US\n",
       "2            US\n",
       "3            US\n",
       "4            FI\n",
       "...         ...\n",
       "58222        LB\n",
       "58224        LB\n",
       "58225        LB\n",
       "58226        LB\n",
       "58227        LB\n",
       "\n",
       "[50686 rows x 1 columns]"
      ]
     },
     "execution_count": 340,
     "metadata": {},
     "output_type": "execute_result"
    }
   ],
   "source": [
    "# get home location\n",
    "homes_B = pd.read_pickle(\"data/B_homes.pickle\")\n",
    "homes_G = pd.read_pickle(\"data/G_homes.pickle\")\n",
    "homes_B.columns = [\"longitude\", \"latitude\", \"country\"]\n",
    "homes_G.columns = [\"longitude\", \"latitude\", \"country\"]\n",
    "\n",
    "# drop coordinates\n",
    "homes_B = homes_B.drop(columns=[\"longitude\", \"latitude\"])\n",
    "homes_G = homes_G.drop(columns=[\"longitude\", \"latitude\"])\n",
    "\n",
    "# edges\n",
    "names_edges = [\"from_id\", \"to_id\"]\n",
    "edges_B = pd.read_table(\"Brightkite_edges.txt\", names=names_edges).dropna()\n",
    "edges_G = pd.read_table(\"Gowalla_edges.txt\", names=names_edges).dropna()\n",
    "\n",
    "# country meta data\n",
    "countries = pd.read_pickle(\"data/countries.pkl\")\n",
    "\n",
    "homes_B"
   ]
  },
  {
   "cell_type": "markdown",
   "metadata": {},
   "source": [
    "### go through the homes and add ones religion and language to it"
   ]
  },
  {
   "cell_type": "code",
   "execution_count": 341,
   "metadata": {},
   "outputs": [
    {
     "data": {
      "text/html": [
       "<div>\n",
       "<style scoped>\n",
       "    .dataframe tbody tr th:only-of-type {\n",
       "        vertical-align: middle;\n",
       "    }\n",
       "\n",
       "    .dataframe tbody tr th {\n",
       "        vertical-align: top;\n",
       "    }\n",
       "\n",
       "    .dataframe thead th {\n",
       "        text-align: right;\n",
       "    }\n",
       "</style>\n",
       "<table border=\"1\" class=\"dataframe\">\n",
       "  <thead>\n",
       "    <tr style=\"text-align: right;\">\n",
       "      <th></th>\n",
       "      <th>user_id</th>\n",
       "      <th>country</th>\n",
       "      <th>languages</th>\n",
       "      <th>main_religion</th>\n",
       "    </tr>\n",
       "  </thead>\n",
       "  <tbody>\n",
       "    <tr>\n",
       "      <th>0</th>\n",
       "      <td>0</td>\n",
       "      <td>US</td>\n",
       "      <td>English</td>\n",
       "      <td>Protestant</td>\n",
       "    </tr>\n",
       "    <tr>\n",
       "      <th>1</th>\n",
       "      <td>1</td>\n",
       "      <td>US</td>\n",
       "      <td>English</td>\n",
       "      <td>Protestant</td>\n",
       "    </tr>\n",
       "    <tr>\n",
       "      <th>2</th>\n",
       "      <td>2</td>\n",
       "      <td>US</td>\n",
       "      <td>English</td>\n",
       "      <td>Protestant</td>\n",
       "    </tr>\n",
       "    <tr>\n",
       "      <th>3</th>\n",
       "      <td>3</td>\n",
       "      <td>US</td>\n",
       "      <td>English</td>\n",
       "      <td>Protestant</td>\n",
       "    </tr>\n",
       "    <tr>\n",
       "      <th>4</th>\n",
       "      <td>5</td>\n",
       "      <td>US</td>\n",
       "      <td>English</td>\n",
       "      <td>Protestant</td>\n",
       "    </tr>\n",
       "    <tr>\n",
       "      <th>...</th>\n",
       "      <td>...</td>\n",
       "      <td>...</td>\n",
       "      <td>...</td>\n",
       "      <td>...</td>\n",
       "    </tr>\n",
       "    <tr>\n",
       "      <th>50470</th>\n",
       "      <td>58226</td>\n",
       "      <td>LB</td>\n",
       "      <td>Arabic</td>\n",
       "      <td>Islam</td>\n",
       "    </tr>\n",
       "    <tr>\n",
       "      <th>50471</th>\n",
       "      <td>58227</td>\n",
       "      <td>LB</td>\n",
       "      <td>Arabic</td>\n",
       "      <td>Islam</td>\n",
       "    </tr>\n",
       "    <tr>\n",
       "      <th>50472</th>\n",
       "      <td>52716</td>\n",
       "      <td>SN</td>\n",
       "      <td>French</td>\n",
       "      <td>Islam</td>\n",
       "    </tr>\n",
       "    <tr>\n",
       "      <th>50473</th>\n",
       "      <td>53215</td>\n",
       "      <td>MR</td>\n",
       "      <td>Arabic</td>\n",
       "      <td>Islam</td>\n",
       "    </tr>\n",
       "    <tr>\n",
       "      <th>50474</th>\n",
       "      <td>54134</td>\n",
       "      <td>SR</td>\n",
       "      <td>Dutch</td>\n",
       "      <td>Hinduism</td>\n",
       "    </tr>\n",
       "  </tbody>\n",
       "</table>\n",
       "<p>50475 rows × 4 columns</p>\n",
       "</div>"
      ],
      "text/plain": [
       "       user_id country languages main_religion\n",
       "0            0      US   English    Protestant\n",
       "1            1      US   English    Protestant\n",
       "2            2      US   English    Protestant\n",
       "3            3      US   English    Protestant\n",
       "4            5      US   English    Protestant\n",
       "...        ...     ...       ...           ...\n",
       "50470    58226      LB    Arabic         Islam\n",
       "50471    58227      LB    Arabic         Islam\n",
       "50472    52716      SN    French         Islam\n",
       "50473    53215      MR    Arabic         Islam\n",
       "50474    54134      SR     Dutch      Hinduism\n",
       "\n",
       "[50475 rows x 4 columns]"
      ]
     },
     "execution_count": 341,
     "metadata": {},
     "output_type": "execute_result"
    }
   ],
   "source": [
    "# get the indexes (user_ids) as a column so it wont get lost when merging later\n",
    "homes_B = homes_B.reset_index()\n",
    "homes_G = homes_G.reset_index()\n",
    "\n",
    "# add languages and religions\n",
    "homes_B = homes_B.merge(countries[[\"alpha_2\", \"languages\", \"main_religion\"]], how=\"inner\", left_on=\"country\", right_on=\"alpha_2\").drop(columns=[\"alpha_2\"], axis=1)\n",
    "homes_G = homes_G.merge(countries[[\"alpha_2\", \"languages\", \"main_religion\"]], how=\"inner\", left_on=\"country\", right_on=\"alpha_2\").drop(columns=[\"alpha_2\"], axis=1)\n",
    "\n",
    "homes_B"
   ]
  },
  {
   "cell_type": "markdown",
   "metadata": {},
   "source": [
    "### remove bidirectional edges, i.e. remove double edges"
   ]
  },
  {
   "cell_type": "code",
   "execution_count": 342,
   "metadata": {},
   "outputs": [
    {
     "data": {
      "text/html": [
       "<div>\n",
       "<style scoped>\n",
       "    .dataframe tbody tr th:only-of-type {\n",
       "        vertical-align: middle;\n",
       "    }\n",
       "\n",
       "    .dataframe tbody tr th {\n",
       "        vertical-align: top;\n",
       "    }\n",
       "\n",
       "    .dataframe thead th {\n",
       "        text-align: right;\n",
       "    }\n",
       "</style>\n",
       "<table border=\"1\" class=\"dataframe\">\n",
       "  <thead>\n",
       "    <tr style=\"text-align: right;\">\n",
       "      <th></th>\n",
       "      <th>from_id</th>\n",
       "      <th>to_id</th>\n",
       "    </tr>\n",
       "  </thead>\n",
       "  <tbody>\n",
       "    <tr>\n",
       "      <th>0</th>\n",
       "      <td>0</td>\n",
       "      <td>1</td>\n",
       "    </tr>\n",
       "    <tr>\n",
       "      <th>1</th>\n",
       "      <td>0</td>\n",
       "      <td>2</td>\n",
       "    </tr>\n",
       "    <tr>\n",
       "      <th>2</th>\n",
       "      <td>0</td>\n",
       "      <td>3</td>\n",
       "    </tr>\n",
       "    <tr>\n",
       "      <th>3</th>\n",
       "      <td>0</td>\n",
       "      <td>4</td>\n",
       "    </tr>\n",
       "    <tr>\n",
       "      <th>4</th>\n",
       "      <td>0</td>\n",
       "      <td>5</td>\n",
       "    </tr>\n",
       "    <tr>\n",
       "      <th>...</th>\n",
       "      <td>...</td>\n",
       "      <td>...</td>\n",
       "    </tr>\n",
       "    <tr>\n",
       "      <th>428142</th>\n",
       "      <td>58219</td>\n",
       "      <td>58224</td>\n",
       "    </tr>\n",
       "    <tr>\n",
       "      <th>428144</th>\n",
       "      <td>58220</td>\n",
       "      <td>58225</td>\n",
       "    </tr>\n",
       "    <tr>\n",
       "      <th>428145</th>\n",
       "      <td>58220</td>\n",
       "      <td>58226</td>\n",
       "    </tr>\n",
       "    <tr>\n",
       "      <th>428151</th>\n",
       "      <td>58225</td>\n",
       "      <td>58226</td>\n",
       "    </tr>\n",
       "    <tr>\n",
       "      <th>428152</th>\n",
       "      <td>58225</td>\n",
       "      <td>58227</td>\n",
       "    </tr>\n",
       "  </tbody>\n",
       "</table>\n",
       "<p>214078 rows × 2 columns</p>\n",
       "</div>"
      ],
      "text/plain": [
       "        from_id  to_id\n",
       "0             0      1\n",
       "1             0      2\n",
       "2             0      3\n",
       "3             0      4\n",
       "4             0      5\n",
       "...         ...    ...\n",
       "428142    58219  58224\n",
       "428144    58220  58225\n",
       "428145    58220  58226\n",
       "428151    58225  58226\n",
       "428152    58225  58227\n",
       "\n",
       "[214078 rows x 2 columns]"
      ]
     },
     "execution_count": 342,
     "metadata": {},
     "output_type": "execute_result"
    }
   ],
   "source": [
    "edges_B[[\"from_id\", \"to_id\"]] = np.sort(edges_B[[\"from_id\", \"to_id\"]].values, axis=1)\n",
    "edges_B = edges_B.drop_duplicates()\n",
    "edges_G[[\"from_id\", \"to_id\"]] = np.sort(edges_G[[\"from_id\", \"to_id\"]].values, axis=1)\n",
    "edges_G = edges_G.drop_duplicates()\n",
    "\n",
    "edges_B"
   ]
  },
  {
   "cell_type": "markdown",
   "metadata": {},
   "source": [
    "Create a dataframe that has one entry for each edge between friends with their metainformation"
   ]
  },
  {
   "cell_type": "code",
   "execution_count": 343,
   "metadata": {},
   "outputs": [
    {
     "data": {
      "text/html": [
       "<div>\n",
       "<style scoped>\n",
       "    .dataframe tbody tr th:only-of-type {\n",
       "        vertical-align: middle;\n",
       "    }\n",
       "\n",
       "    .dataframe tbody tr th {\n",
       "        vertical-align: top;\n",
       "    }\n",
       "\n",
       "    .dataframe thead th {\n",
       "        text-align: right;\n",
       "    }\n",
       "</style>\n",
       "<table border=\"1\" class=\"dataframe\">\n",
       "  <thead>\n",
       "    <tr style=\"text-align: right;\">\n",
       "      <th></th>\n",
       "      <th>id</th>\n",
       "      <th>country</th>\n",
       "      <th>language</th>\n",
       "      <th>religion</th>\n",
       "      <th>friend_id</th>\n",
       "      <th>friend_country</th>\n",
       "      <th>friend_language</th>\n",
       "      <th>friend_religion</th>\n",
       "    </tr>\n",
       "  </thead>\n",
       "  <tbody>\n",
       "    <tr>\n",
       "      <th>0</th>\n",
       "      <td>0</td>\n",
       "      <td>US</td>\n",
       "      <td>English</td>\n",
       "      <td>Protestant</td>\n",
       "      <td>1</td>\n",
       "      <td>US</td>\n",
       "      <td>English</td>\n",
       "      <td>Protestant</td>\n",
       "    </tr>\n",
       "    <tr>\n",
       "      <th>1</th>\n",
       "      <td>0</td>\n",
       "      <td>US</td>\n",
       "      <td>English</td>\n",
       "      <td>Protestant</td>\n",
       "      <td>2</td>\n",
       "      <td>US</td>\n",
       "      <td>English</td>\n",
       "      <td>Protestant</td>\n",
       "    </tr>\n",
       "    <tr>\n",
       "      <th>2</th>\n",
       "      <td>0</td>\n",
       "      <td>US</td>\n",
       "      <td>English</td>\n",
       "      <td>Protestant</td>\n",
       "      <td>3</td>\n",
       "      <td>US</td>\n",
       "      <td>English</td>\n",
       "      <td>Protestant</td>\n",
       "    </tr>\n",
       "    <tr>\n",
       "      <th>3</th>\n",
       "      <td>1</td>\n",
       "      <td>US</td>\n",
       "      <td>English</td>\n",
       "      <td>Protestant</td>\n",
       "      <td>3</td>\n",
       "      <td>US</td>\n",
       "      <td>English</td>\n",
       "      <td>Protestant</td>\n",
       "    </tr>\n",
       "    <tr>\n",
       "      <th>4</th>\n",
       "      <td>0</td>\n",
       "      <td>US</td>\n",
       "      <td>English</td>\n",
       "      <td>Protestant</td>\n",
       "      <td>4</td>\n",
       "      <td>FI</td>\n",
       "      <td>Finnish</td>\n",
       "      <td>Evangelical</td>\n",
       "    </tr>\n",
       "    <tr>\n",
       "      <th>...</th>\n",
       "      <td>...</td>\n",
       "      <td>...</td>\n",
       "      <td>...</td>\n",
       "      <td>...</td>\n",
       "      <td>...</td>\n",
       "      <td>...</td>\n",
       "      <td>...</td>\n",
       "      <td>...</td>\n",
       "    </tr>\n",
       "    <tr>\n",
       "      <th>193126</th>\n",
       "      <td>58220</td>\n",
       "      <td>LB</td>\n",
       "      <td>Arabic</td>\n",
       "      <td>Islam</td>\n",
       "      <td>58225</td>\n",
       "      <td>LB</td>\n",
       "      <td>Arabic</td>\n",
       "      <td>Islam</td>\n",
       "    </tr>\n",
       "    <tr>\n",
       "      <th>193127</th>\n",
       "      <td>58220</td>\n",
       "      <td>LB</td>\n",
       "      <td>Arabic</td>\n",
       "      <td>Islam</td>\n",
       "      <td>58226</td>\n",
       "      <td>LB</td>\n",
       "      <td>Arabic</td>\n",
       "      <td>Islam</td>\n",
       "    </tr>\n",
       "    <tr>\n",
       "      <th>193128</th>\n",
       "      <td>58225</td>\n",
       "      <td>LB</td>\n",
       "      <td>Arabic</td>\n",
       "      <td>Islam</td>\n",
       "      <td>58226</td>\n",
       "      <td>LB</td>\n",
       "      <td>Arabic</td>\n",
       "      <td>Islam</td>\n",
       "    </tr>\n",
       "    <tr>\n",
       "      <th>193129</th>\n",
       "      <td>58225</td>\n",
       "      <td>LB</td>\n",
       "      <td>Arabic</td>\n",
       "      <td>Islam</td>\n",
       "      <td>58227</td>\n",
       "      <td>LB</td>\n",
       "      <td>Arabic</td>\n",
       "      <td>Islam</td>\n",
       "    </tr>\n",
       "    <tr>\n",
       "      <th>193130</th>\n",
       "      <td>52716</td>\n",
       "      <td>SN</td>\n",
       "      <td>French</td>\n",
       "      <td>Islam</td>\n",
       "      <td>57225</td>\n",
       "      <td>US</td>\n",
       "      <td>English</td>\n",
       "      <td>Protestant</td>\n",
       "    </tr>\n",
       "  </tbody>\n",
       "</table>\n",
       "<p>193131 rows × 8 columns</p>\n",
       "</div>"
      ],
      "text/plain": [
       "           id country language    religion  friend_id friend_country  \\\n",
       "0           0      US  English  Protestant          1             US   \n",
       "1           0      US  English  Protestant          2             US   \n",
       "2           0      US  English  Protestant          3             US   \n",
       "3           1      US  English  Protestant          3             US   \n",
       "4           0      US  English  Protestant          4             FI   \n",
       "...       ...     ...      ...         ...        ...            ...   \n",
       "193126  58220      LB   Arabic       Islam      58225             LB   \n",
       "193127  58220      LB   Arabic       Islam      58226             LB   \n",
       "193128  58225      LB   Arabic       Islam      58226             LB   \n",
       "193129  58225      LB   Arabic       Islam      58227             LB   \n",
       "193130  52716      SN   French       Islam      57225             US   \n",
       "\n",
       "       friend_language friend_religion  \n",
       "0              English      Protestant  \n",
       "1              English      Protestant  \n",
       "2              English      Protestant  \n",
       "3              English      Protestant  \n",
       "4              Finnish     Evangelical  \n",
       "...                ...             ...  \n",
       "193126          Arabic           Islam  \n",
       "193127          Arabic           Islam  \n",
       "193128          Arabic           Islam  \n",
       "193129          Arabic           Islam  \n",
       "193130         English      Protestant  \n",
       "\n",
       "[193131 rows x 8 columns]"
      ]
     },
     "execution_count": 343,
     "metadata": {},
     "output_type": "execute_result"
    }
   ],
   "source": [
    "# add friend ids to home locations\n",
    "merged_B = pd.merge(homes_B, edges_B, how=\"inner\", left_on=\"user_id\", right_on=\"from_id\").drop(columns=[\"from_id\"], axis=1)\n",
    "merged_G = pd.merge(homes_G, edges_G, how=\"inner\", left_on=\"user_id\", right_on=\"from_id\").drop(columns=[\"from_id\"], axis=1)\n",
    "\n",
    "# add friend information\n",
    "merged_B = pd.merge(merged_B, homes_B, how=\"inner\", left_on=\"to_id\", right_on=\"user_id\").drop(columns=[\"to_id\"], axis=1)\n",
    "merged_G = pd.merge(merged_G, homes_G, how=\"inner\", left_on=\"to_id\", right_on=\"user_id\").drop(columns=[\"to_id\"], axis=1)\n",
    "\n",
    "# add new column names\n",
    "merged_B.columns = [\"id\", \"country\", \"language\", \"religion\", \"friend_id\", \"friend_country\", \"friend_language\", \"friend_religion\" ]\n",
    "merged_G.columns = [\"id\", \"country\", \"language\", \"religion\", \"friend_id\", \"friend_country\", \"friend_language\", \"friend_religion\" ]\n",
    "\n",
    "merged_B"
   ]
  },
  {
   "cell_type": "markdown",
   "metadata": {},
   "source": [
    "And now, get only international friends, i.e., where the countries are different."
   ]
  },
  {
   "cell_type": "code",
   "execution_count": 344,
   "metadata": {},
   "outputs": [
    {
     "data": {
      "text/html": [
       "<div>\n",
       "<style scoped>\n",
       "    .dataframe tbody tr th:only-of-type {\n",
       "        vertical-align: middle;\n",
       "    }\n",
       "\n",
       "    .dataframe tbody tr th {\n",
       "        vertical-align: top;\n",
       "    }\n",
       "\n",
       "    .dataframe thead th {\n",
       "        text-align: right;\n",
       "    }\n",
       "</style>\n",
       "<table border=\"1\" class=\"dataframe\">\n",
       "  <thead>\n",
       "    <tr style=\"text-align: right;\">\n",
       "      <th></th>\n",
       "      <th>id</th>\n",
       "      <th>country</th>\n",
       "      <th>language</th>\n",
       "      <th>religion</th>\n",
       "      <th>friend_id</th>\n",
       "      <th>friend_country</th>\n",
       "      <th>friend_language</th>\n",
       "      <th>friend_religion</th>\n",
       "    </tr>\n",
       "  </thead>\n",
       "  <tbody>\n",
       "    <tr>\n",
       "      <th>4</th>\n",
       "      <td>0</td>\n",
       "      <td>US</td>\n",
       "      <td>English</td>\n",
       "      <td>Protestant</td>\n",
       "      <td>4</td>\n",
       "      <td>FI</td>\n",
       "      <td>Finnish</td>\n",
       "      <td>Evangelical</td>\n",
       "    </tr>\n",
       "    <tr>\n",
       "      <th>5</th>\n",
       "      <td>1</td>\n",
       "      <td>US</td>\n",
       "      <td>English</td>\n",
       "      <td>Protestant</td>\n",
       "      <td>4</td>\n",
       "      <td>FI</td>\n",
       "      <td>Finnish</td>\n",
       "      <td>Evangelical</td>\n",
       "    </tr>\n",
       "    <tr>\n",
       "      <th>6</th>\n",
       "      <td>3</td>\n",
       "      <td>US</td>\n",
       "      <td>English</td>\n",
       "      <td>Protestant</td>\n",
       "      <td>4</td>\n",
       "      <td>FI</td>\n",
       "      <td>Finnish</td>\n",
       "      <td>Evangelical</td>\n",
       "    </tr>\n",
       "    <tr>\n",
       "      <th>9</th>\n",
       "      <td>4</td>\n",
       "      <td>FI</td>\n",
       "      <td>Finnish</td>\n",
       "      <td>Evangelical</td>\n",
       "      <td>5</td>\n",
       "      <td>US</td>\n",
       "      <td>English</td>\n",
       "      <td>Protestant</td>\n",
       "    </tr>\n",
       "    <tr>\n",
       "      <th>16</th>\n",
       "      <td>4</td>\n",
       "      <td>FI</td>\n",
       "      <td>Finnish</td>\n",
       "      <td>Evangelical</td>\n",
       "      <td>7</td>\n",
       "      <td>US</td>\n",
       "      <td>English</td>\n",
       "      <td>Protestant</td>\n",
       "    </tr>\n",
       "    <tr>\n",
       "      <th>...</th>\n",
       "      <td>...</td>\n",
       "      <td>...</td>\n",
       "      <td>...</td>\n",
       "      <td>...</td>\n",
       "      <td>...</td>\n",
       "      <td>...</td>\n",
       "      <td>...</td>\n",
       "      <td>...</td>\n",
       "    </tr>\n",
       "    <tr>\n",
       "      <th>193087</th>\n",
       "      <td>42108</td>\n",
       "      <td>KI</td>\n",
       "      <td>I-Kiribati</td>\n",
       "      <td>Roman Catholic</td>\n",
       "      <td>55105</td>\n",
       "      <td>IT</td>\n",
       "      <td>Italian</td>\n",
       "      <td>Roman Catholic</td>\n",
       "    </tr>\n",
       "    <tr>\n",
       "      <th>193088</th>\n",
       "      <td>42847</td>\n",
       "      <td>GN</td>\n",
       "      <td>French</td>\n",
       "      <td>Islam</td>\n",
       "      <td>55313</td>\n",
       "      <td>PT</td>\n",
       "      <td>Portuguese</td>\n",
       "      <td>Roman Catholic</td>\n",
       "    </tr>\n",
       "    <tr>\n",
       "      <th>193089</th>\n",
       "      <td>44750</td>\n",
       "      <td>LT</td>\n",
       "      <td>Lithuanian</td>\n",
       "      <td>Roman Catholic</td>\n",
       "      <td>55790</td>\n",
       "      <td>CY</td>\n",
       "      <td>Greek</td>\n",
       "      <td>Orthodox</td>\n",
       "    </tr>\n",
       "    <tr>\n",
       "      <th>193107</th>\n",
       "      <td>58152</td>\n",
       "      <td>LB</td>\n",
       "      <td>Arabic</td>\n",
       "      <td>Islam</td>\n",
       "      <td>58205</td>\n",
       "      <td>US</td>\n",
       "      <td>English</td>\n",
       "      <td>Protestant</td>\n",
       "    </tr>\n",
       "    <tr>\n",
       "      <th>193130</th>\n",
       "      <td>52716</td>\n",
       "      <td>SN</td>\n",
       "      <td>French</td>\n",
       "      <td>Islam</td>\n",
       "      <td>57225</td>\n",
       "      <td>US</td>\n",
       "      <td>English</td>\n",
       "      <td>Protestant</td>\n",
       "    </tr>\n",
       "  </tbody>\n",
       "</table>\n",
       "<p>30078 rows × 8 columns</p>\n",
       "</div>"
      ],
      "text/plain": [
       "           id country    language        religion  friend_id friend_country  \\\n",
       "4           0      US     English      Protestant          4             FI   \n",
       "5           1      US     English      Protestant          4             FI   \n",
       "6           3      US     English      Protestant          4             FI   \n",
       "9           4      FI     Finnish     Evangelical          5             US   \n",
       "16          4      FI     Finnish     Evangelical          7             US   \n",
       "...       ...     ...         ...             ...        ...            ...   \n",
       "193087  42108      KI  I-Kiribati  Roman Catholic      55105             IT   \n",
       "193088  42847      GN      French           Islam      55313             PT   \n",
       "193089  44750      LT  Lithuanian  Roman Catholic      55790             CY   \n",
       "193107  58152      LB      Arabic           Islam      58205             US   \n",
       "193130  52716      SN      French           Islam      57225             US   \n",
       "\n",
       "       friend_language friend_religion  \n",
       "4              Finnish     Evangelical  \n",
       "5              Finnish     Evangelical  \n",
       "6              Finnish     Evangelical  \n",
       "9              English      Protestant  \n",
       "16             English      Protestant  \n",
       "...                ...             ...  \n",
       "193087         Italian  Roman Catholic  \n",
       "193088      Portuguese  Roman Catholic  \n",
       "193089           Greek        Orthodox  \n",
       "193107         English      Protestant  \n",
       "193130         English      Protestant  \n",
       "\n",
       "[30078 rows x 8 columns]"
      ]
     },
     "execution_count": 344,
     "metadata": {},
     "output_type": "execute_result"
    }
   ],
   "source": [
    "international_B = merged_B[merged_B.country != merged_B.friend_country]\n",
    "international_G = merged_G[merged_G.country != merged_G.friend_country]\n",
    "\n",
    "international_B"
   ]
  },
  {
   "cell_type": "markdown",
   "metadata": {},
   "source": [
    "Append them to one big one"
   ]
  },
  {
   "cell_type": "code",
   "execution_count": 345,
   "metadata": {},
   "outputs": [
    {
     "data": {
      "text/html": [
       "<div>\n",
       "<style scoped>\n",
       "    .dataframe tbody tr th:only-of-type {\n",
       "        vertical-align: middle;\n",
       "    }\n",
       "\n",
       "    .dataframe tbody tr th {\n",
       "        vertical-align: top;\n",
       "    }\n",
       "\n",
       "    .dataframe thead th {\n",
       "        text-align: right;\n",
       "    }\n",
       "</style>\n",
       "<table border=\"1\" class=\"dataframe\">\n",
       "  <thead>\n",
       "    <tr style=\"text-align: right;\">\n",
       "      <th></th>\n",
       "      <th>id</th>\n",
       "      <th>country</th>\n",
       "      <th>language</th>\n",
       "      <th>religion</th>\n",
       "      <th>friend_id</th>\n",
       "      <th>friend_country</th>\n",
       "      <th>friend_language</th>\n",
       "      <th>friend_religion</th>\n",
       "    </tr>\n",
       "  </thead>\n",
       "  <tbody>\n",
       "    <tr>\n",
       "      <th>4</th>\n",
       "      <td>0</td>\n",
       "      <td>US</td>\n",
       "      <td>English</td>\n",
       "      <td>Protestant</td>\n",
       "      <td>4</td>\n",
       "      <td>FI</td>\n",
       "      <td>Finnish</td>\n",
       "      <td>Evangelical</td>\n",
       "    </tr>\n",
       "    <tr>\n",
       "      <th>5</th>\n",
       "      <td>1</td>\n",
       "      <td>US</td>\n",
       "      <td>English</td>\n",
       "      <td>Protestant</td>\n",
       "      <td>4</td>\n",
       "      <td>FI</td>\n",
       "      <td>Finnish</td>\n",
       "      <td>Evangelical</td>\n",
       "    </tr>\n",
       "    <tr>\n",
       "      <th>6</th>\n",
       "      <td>3</td>\n",
       "      <td>US</td>\n",
       "      <td>English</td>\n",
       "      <td>Protestant</td>\n",
       "      <td>4</td>\n",
       "      <td>FI</td>\n",
       "      <td>Finnish</td>\n",
       "      <td>Evangelical</td>\n",
       "    </tr>\n",
       "    <tr>\n",
       "      <th>9</th>\n",
       "      <td>4</td>\n",
       "      <td>FI</td>\n",
       "      <td>Finnish</td>\n",
       "      <td>Evangelical</td>\n",
       "      <td>5</td>\n",
       "      <td>US</td>\n",
       "      <td>English</td>\n",
       "      <td>Protestant</td>\n",
       "    </tr>\n",
       "    <tr>\n",
       "      <th>16</th>\n",
       "      <td>4</td>\n",
       "      <td>FI</td>\n",
       "      <td>Finnish</td>\n",
       "      <td>Evangelical</td>\n",
       "      <td>7</td>\n",
       "      <td>US</td>\n",
       "      <td>English</td>\n",
       "      <td>Protestant</td>\n",
       "    </tr>\n",
       "    <tr>\n",
       "      <th>...</th>\n",
       "      <td>...</td>\n",
       "      <td>...</td>\n",
       "      <td>...</td>\n",
       "      <td>...</td>\n",
       "      <td>...</td>\n",
       "      <td>...</td>\n",
       "      <td>...</td>\n",
       "      <td>...</td>\n",
       "    </tr>\n",
       "    <tr>\n",
       "      <th>452969</th>\n",
       "      <td>42114</td>\n",
       "      <td>LT</td>\n",
       "      <td>Lithuanian</td>\n",
       "      <td>Roman Catholic</td>\n",
       "      <td>135702</td>\n",
       "      <td>RS</td>\n",
       "      <td>Serbian</td>\n",
       "      <td>Roman Catholic</td>\n",
       "    </tr>\n",
       "    <tr>\n",
       "      <th>452970</th>\n",
       "      <td>42114</td>\n",
       "      <td>LT</td>\n",
       "      <td>Lithuanian</td>\n",
       "      <td>Roman Catholic</td>\n",
       "      <td>135703</td>\n",
       "      <td>RS</td>\n",
       "      <td>Serbian</td>\n",
       "      <td>Roman Catholic</td>\n",
       "    </tr>\n",
       "    <tr>\n",
       "      <th>452971</th>\n",
       "      <td>42114</td>\n",
       "      <td>LT</td>\n",
       "      <td>Lithuanian</td>\n",
       "      <td>Roman Catholic</td>\n",
       "      <td>135704</td>\n",
       "      <td>BA</td>\n",
       "      <td>Bosnian</td>\n",
       "      <td>Islam</td>\n",
       "    </tr>\n",
       "    <tr>\n",
       "      <th>452974</th>\n",
       "      <td>85229</td>\n",
       "      <td>SN</td>\n",
       "      <td>French</td>\n",
       "      <td>Islam</td>\n",
       "      <td>146217</td>\n",
       "      <td>FR</td>\n",
       "      <td>French</td>\n",
       "      <td>Roman Catholic</td>\n",
       "    </tr>\n",
       "    <tr>\n",
       "      <th>452975</th>\n",
       "      <td>93276</td>\n",
       "      <td>MA</td>\n",
       "      <td>Arabic</td>\n",
       "      <td>Islam</td>\n",
       "      <td>167642</td>\n",
       "      <td>PT</td>\n",
       "      <td>Portuguese</td>\n",
       "      <td>Roman Catholic</td>\n",
       "    </tr>\n",
       "  </tbody>\n",
       "</table>\n",
       "<p>103075 rows × 8 columns</p>\n",
       "</div>"
      ],
      "text/plain": [
       "           id country    language        religion  friend_id friend_country  \\\n",
       "4           0      US     English      Protestant          4             FI   \n",
       "5           1      US     English      Protestant          4             FI   \n",
       "6           3      US     English      Protestant          4             FI   \n",
       "9           4      FI     Finnish     Evangelical          5             US   \n",
       "16          4      FI     Finnish     Evangelical          7             US   \n",
       "...       ...     ...         ...             ...        ...            ...   \n",
       "452969  42114      LT  Lithuanian  Roman Catholic     135702             RS   \n",
       "452970  42114      LT  Lithuanian  Roman Catholic     135703             RS   \n",
       "452971  42114      LT  Lithuanian  Roman Catholic     135704             BA   \n",
       "452974  85229      SN      French           Islam     146217             FR   \n",
       "452975  93276      MA      Arabic           Islam     167642             PT   \n",
       "\n",
       "       friend_language friend_religion  \n",
       "4              Finnish     Evangelical  \n",
       "5              Finnish     Evangelical  \n",
       "6              Finnish     Evangelical  \n",
       "9              English      Protestant  \n",
       "16             English      Protestant  \n",
       "...                ...             ...  \n",
       "452969         Serbian  Roman Catholic  \n",
       "452970         Serbian  Roman Catholic  \n",
       "452971         Bosnian           Islam  \n",
       "452974          French  Roman Catholic  \n",
       "452975      Portuguese  Roman Catholic  \n",
       "\n",
       "[103075 rows x 8 columns]"
      ]
     },
     "execution_count": 345,
     "metadata": {},
     "output_type": "execute_result"
    }
   ],
   "source": [
    "international = international_B.append(international_G)\n",
    "\n",
    "international"
   ]
  },
  {
   "cell_type": "markdown",
   "metadata": {},
   "source": [
    "### Religion Information DataFrame"
   ]
  },
  {
   "cell_type": "code",
   "execution_count": 346,
   "metadata": {},
   "outputs": [
    {
     "data": {
      "text/html": [
       "<div>\n",
       "<style scoped>\n",
       "    .dataframe tbody tr th:only-of-type {\n",
       "        vertical-align: middle;\n",
       "    }\n",
       "\n",
       "    .dataframe tbody tr th {\n",
       "        vertical-align: top;\n",
       "    }\n",
       "\n",
       "    .dataframe thead th {\n",
       "        text-align: right;\n",
       "    }\n",
       "</style>\n",
       "<table border=\"1\" class=\"dataframe\">\n",
       "  <thead>\n",
       "    <tr style=\"text-align: right;\">\n",
       "      <th></th>\n",
       "      <th>from_religion</th>\n",
       "      <th>to_religion</th>\n",
       "      <th>count</th>\n",
       "    </tr>\n",
       "  </thead>\n",
       "  <tbody>\n",
       "    <tr>\n",
       "      <th>0</th>\n",
       "      <td>Protestant</td>\n",
       "      <td>Roman Catholic</td>\n",
       "      <td>32212</td>\n",
       "    </tr>\n",
       "    <tr>\n",
       "      <th>1</th>\n",
       "      <td>Christianity</td>\n",
       "      <td>Protestant</td>\n",
       "      <td>23500</td>\n",
       "    </tr>\n",
       "    <tr>\n",
       "      <th>2</th>\n",
       "      <td>Buddhism</td>\n",
       "      <td>Protestant</td>\n",
       "      <td>7215</td>\n",
       "    </tr>\n",
       "    <tr>\n",
       "      <th>3</th>\n",
       "      <td>Christianity</td>\n",
       "      <td>Roman Catholic</td>\n",
       "      <td>6322</td>\n",
       "    </tr>\n",
       "    <tr>\n",
       "      <th>4</th>\n",
       "      <td>Protestant</td>\n",
       "      <td>Protestant</td>\n",
       "      <td>5674</td>\n",
       "    </tr>\n",
       "    <tr>\n",
       "      <th>5</th>\n",
       "      <td>Roman Catholic</td>\n",
       "      <td>Roman Catholic</td>\n",
       "      <td>4690</td>\n",
       "    </tr>\n",
       "    <tr>\n",
       "      <th>6</th>\n",
       "      <td>Islam</td>\n",
       "      <td>Protestant</td>\n",
       "      <td>3766</td>\n",
       "    </tr>\n",
       "    <tr>\n",
       "      <th>7</th>\n",
       "      <td>Evangelical</td>\n",
       "      <td>Protestant</td>\n",
       "      <td>3339</td>\n",
       "    </tr>\n",
       "    <tr>\n",
       "      <th>8</th>\n",
       "      <td>Christianity</td>\n",
       "      <td>Evangelical</td>\n",
       "      <td>2303</td>\n",
       "    </tr>\n",
       "    <tr>\n",
       "      <th>9</th>\n",
       "      <td>Buddhism</td>\n",
       "      <td>Roman Catholic</td>\n",
       "      <td>1838</td>\n",
       "    </tr>\n",
       "    <tr>\n",
       "      <th>10</th>\n",
       "      <td>Buddhism</td>\n",
       "      <td>Christianity</td>\n",
       "      <td>1173</td>\n",
       "    </tr>\n",
       "    <tr>\n",
       "      <th>11</th>\n",
       "      <td>Christianity</td>\n",
       "      <td>Islam</td>\n",
       "      <td>1144</td>\n",
       "    </tr>\n",
       "    <tr>\n",
       "      <th>12</th>\n",
       "      <td>Evangelical</td>\n",
       "      <td>Roman Catholic</td>\n",
       "      <td>1119</td>\n",
       "    </tr>\n",
       "    <tr>\n",
       "      <th>13</th>\n",
       "      <td>Christianity</td>\n",
       "      <td>Christianity</td>\n",
       "      <td>1046</td>\n",
       "    </tr>\n",
       "    <tr>\n",
       "      <th>14</th>\n",
       "      <td>Islam</td>\n",
       "      <td>Islam</td>\n",
       "      <td>974</td>\n",
       "    </tr>\n",
       "    <tr>\n",
       "      <th>15</th>\n",
       "      <td>Orthodox</td>\n",
       "      <td>Protestant</td>\n",
       "      <td>915</td>\n",
       "    </tr>\n",
       "    <tr>\n",
       "      <th>16</th>\n",
       "      <td>Buddhism</td>\n",
       "      <td>Buddhism</td>\n",
       "      <td>877</td>\n",
       "    </tr>\n",
       "    <tr>\n",
       "      <th>17</th>\n",
       "      <td>Hinduism</td>\n",
       "      <td>Protestant</td>\n",
       "      <td>849</td>\n",
       "    </tr>\n",
       "    <tr>\n",
       "      <th>18</th>\n",
       "      <td>Islam</td>\n",
       "      <td>Roman Catholic</td>\n",
       "      <td>832</td>\n",
       "    </tr>\n",
       "    <tr>\n",
       "      <th>19</th>\n",
       "      <td>Anglican</td>\n",
       "      <td>Protestant</td>\n",
       "      <td>676</td>\n",
       "    </tr>\n",
       "    <tr>\n",
       "      <th>20</th>\n",
       "      <td>Buddhism</td>\n",
       "      <td>Islam</td>\n",
       "      <td>380</td>\n",
       "    </tr>\n",
       "    <tr>\n",
       "      <th>21</th>\n",
       "      <td>Orthodox</td>\n",
       "      <td>Roman Catholic</td>\n",
       "      <td>286</td>\n",
       "    </tr>\n",
       "    <tr>\n",
       "      <th>22</th>\n",
       "      <td>Christianity</td>\n",
       "      <td>Orthodox</td>\n",
       "      <td>250</td>\n",
       "    </tr>\n",
       "    <tr>\n",
       "      <th>23</th>\n",
       "      <td>Evangelical</td>\n",
       "      <td>Evangelical</td>\n",
       "      <td>220</td>\n",
       "    </tr>\n",
       "    <tr>\n",
       "      <th>24</th>\n",
       "      <td>Hinduism</td>\n",
       "      <td>Roman Catholic</td>\n",
       "      <td>207</td>\n",
       "    </tr>\n",
       "    <tr>\n",
       "      <th>25</th>\n",
       "      <td>Anglican</td>\n",
       "      <td>Roman Catholic</td>\n",
       "      <td>170</td>\n",
       "    </tr>\n",
       "    <tr>\n",
       "      <th>26</th>\n",
       "      <td>Buddhism</td>\n",
       "      <td>Evangelical</td>\n",
       "      <td>168</td>\n",
       "    </tr>\n",
       "    <tr>\n",
       "      <th>27</th>\n",
       "      <td>Christianity</td>\n",
       "      <td>Hinduism</td>\n",
       "      <td>136</td>\n",
       "    </tr>\n",
       "    <tr>\n",
       "      <th>28</th>\n",
       "      <td>Anglican</td>\n",
       "      <td>Christianity</td>\n",
       "      <td>98</td>\n",
       "    </tr>\n",
       "    <tr>\n",
       "      <th>29</th>\n",
       "      <td>Buddhism</td>\n",
       "      <td>Orthodox</td>\n",
       "      <td>87</td>\n",
       "    </tr>\n",
       "    <tr>\n",
       "      <th>30</th>\n",
       "      <td>Orthodox</td>\n",
       "      <td>Orthodox</td>\n",
       "      <td>77</td>\n",
       "    </tr>\n",
       "    <tr>\n",
       "      <th>31</th>\n",
       "      <td>Evangelical</td>\n",
       "      <td>Islam</td>\n",
       "      <td>74</td>\n",
       "    </tr>\n",
       "    <tr>\n",
       "      <th>32</th>\n",
       "      <td>Anglican</td>\n",
       "      <td>Islam</td>\n",
       "      <td>70</td>\n",
       "    </tr>\n",
       "    <tr>\n",
       "      <th>33</th>\n",
       "      <td>Catholic</td>\n",
       "      <td>Protestant</td>\n",
       "      <td>67</td>\n",
       "    </tr>\n",
       "    <tr>\n",
       "      <th>34</th>\n",
       "      <td>Buddhism</td>\n",
       "      <td>Hinduism</td>\n",
       "      <td>62</td>\n",
       "    </tr>\n",
       "    <tr>\n",
       "      <th>35</th>\n",
       "      <td>Evangelical</td>\n",
       "      <td>Orthodox</td>\n",
       "      <td>57</td>\n",
       "    </tr>\n",
       "    <tr>\n",
       "      <th>36</th>\n",
       "      <td>Catholic</td>\n",
       "      <td>Roman Catholic</td>\n",
       "      <td>55</td>\n",
       "    </tr>\n",
       "    <tr>\n",
       "      <th>37</th>\n",
       "      <td>Islam</td>\n",
       "      <td>Orthodox</td>\n",
       "      <td>36</td>\n",
       "    </tr>\n",
       "    <tr>\n",
       "      <th>38</th>\n",
       "      <td>Hinduism</td>\n",
       "      <td>Islam</td>\n",
       "      <td>30</td>\n",
       "    </tr>\n",
       "    <tr>\n",
       "      <th>39</th>\n",
       "      <td>Anglican</td>\n",
       "      <td>Buddhism</td>\n",
       "      <td>22</td>\n",
       "    </tr>\n",
       "    <tr>\n",
       "      <th>40</th>\n",
       "      <td>Evangelical</td>\n",
       "      <td>Hinduism</td>\n",
       "      <td>17</td>\n",
       "    </tr>\n",
       "    <tr>\n",
       "      <th>41</th>\n",
       "      <td>Catholic</td>\n",
       "      <td>Christianity</td>\n",
       "      <td>13</td>\n",
       "    </tr>\n",
       "    <tr>\n",
       "      <th>42</th>\n",
       "      <td>Hinduism</td>\n",
       "      <td>Orthodox</td>\n",
       "      <td>7</td>\n",
       "    </tr>\n",
       "    <tr>\n",
       "      <th>43</th>\n",
       "      <td>Anglican</td>\n",
       "      <td>Hinduism</td>\n",
       "      <td>5</td>\n",
       "    </tr>\n",
       "    <tr>\n",
       "      <th>44</th>\n",
       "      <td>Anglican</td>\n",
       "      <td>Evangelical</td>\n",
       "      <td>5</td>\n",
       "    </tr>\n",
       "    <tr>\n",
       "      <th>45</th>\n",
       "      <td>Anglican</td>\n",
       "      <td>Orthodox</td>\n",
       "      <td>4</td>\n",
       "    </tr>\n",
       "    <tr>\n",
       "      <th>46</th>\n",
       "      <td>Buddhism</td>\n",
       "      <td>Catholic</td>\n",
       "      <td>3</td>\n",
       "    </tr>\n",
       "    <tr>\n",
       "      <th>47</th>\n",
       "      <td>Catholic</td>\n",
       "      <td>Orthodox</td>\n",
       "      <td>3</td>\n",
       "    </tr>\n",
       "    <tr>\n",
       "      <th>48</th>\n",
       "      <td>Catholic</td>\n",
       "      <td>Evangelical</td>\n",
       "      <td>1</td>\n",
       "    </tr>\n",
       "    <tr>\n",
       "      <th>49</th>\n",
       "      <td>Catholic</td>\n",
       "      <td>Islam</td>\n",
       "      <td>1</td>\n",
       "    </tr>\n",
       "  </tbody>\n",
       "</table>\n",
       "</div>"
      ],
      "text/plain": [
       "     from_religion     to_religion  count\n",
       "0       Protestant  Roman Catholic  32212\n",
       "1     Christianity      Protestant  23500\n",
       "2         Buddhism      Protestant   7215\n",
       "3     Christianity  Roman Catholic   6322\n",
       "4       Protestant      Protestant   5674\n",
       "5   Roman Catholic  Roman Catholic   4690\n",
       "6            Islam      Protestant   3766\n",
       "7      Evangelical      Protestant   3339\n",
       "8     Christianity     Evangelical   2303\n",
       "9         Buddhism  Roman Catholic   1838\n",
       "10        Buddhism    Christianity   1173\n",
       "11    Christianity           Islam   1144\n",
       "12     Evangelical  Roman Catholic   1119\n",
       "13    Christianity    Christianity   1046\n",
       "14           Islam           Islam    974\n",
       "15        Orthodox      Protestant    915\n",
       "16        Buddhism        Buddhism    877\n",
       "17        Hinduism      Protestant    849\n",
       "18           Islam  Roman Catholic    832\n",
       "19        Anglican      Protestant    676\n",
       "20        Buddhism           Islam    380\n",
       "21        Orthodox  Roman Catholic    286\n",
       "22    Christianity        Orthodox    250\n",
       "23     Evangelical     Evangelical    220\n",
       "24        Hinduism  Roman Catholic    207\n",
       "25        Anglican  Roman Catholic    170\n",
       "26        Buddhism     Evangelical    168\n",
       "27    Christianity        Hinduism    136\n",
       "28        Anglican    Christianity     98\n",
       "29        Buddhism        Orthodox     87\n",
       "30        Orthodox        Orthodox     77\n",
       "31     Evangelical           Islam     74\n",
       "32        Anglican           Islam     70\n",
       "33        Catholic      Protestant     67\n",
       "34        Buddhism        Hinduism     62\n",
       "35     Evangelical        Orthodox     57\n",
       "36        Catholic  Roman Catholic     55\n",
       "37           Islam        Orthodox     36\n",
       "38        Hinduism           Islam     30\n",
       "39        Anglican        Buddhism     22\n",
       "40     Evangelical        Hinduism     17\n",
       "41        Catholic    Christianity     13\n",
       "42        Hinduism        Orthodox      7\n",
       "43        Anglican        Hinduism      5\n",
       "44        Anglican     Evangelical      5\n",
       "45        Anglican        Orthodox      4\n",
       "46        Buddhism        Catholic      3\n",
       "47        Catholic        Orthodox      3\n",
       "48        Catholic     Evangelical      1\n",
       "49        Catholic           Islam      1"
      ]
     },
     "execution_count": 346,
     "metadata": {},
     "output_type": "execute_result"
    }
   ],
   "source": [
    "# for creating a dataframe\n",
    "from_list = []\n",
    "to_list = []\n",
    "count_list = []\n",
    "\n",
    "# make it so we get the count of all combinations by using groupby\n",
    "rel_count = international.groupby(['religion', 'friend_religion']).size()\n",
    "\n",
    "# go through the religions and sort them so that (a,b) and (b,a) get mapped to the same value\n",
    "# we dont care for order\n",
    "for (form_r, to_r), count in rel_count.iteritems():\n",
    "    [from_r, to_r] = sorted([form_r, to_r])\n",
    "    from_list.append(from_r)\n",
    "    to_list.append(to_r)\n",
    "    count_list.append(count)\n",
    "rel_count_df = pd.DataFrame(zip(from_list, to_list, count_list),\n",
    "                                     columns =['from_religion', \"to_religion\", \"count\"]) \n",
    "\n",
    "# do it once more in order to get the ifnal values\n",
    "from_list = []\n",
    "to_list = []\n",
    "count_list = []\n",
    "rel_count_df = rel_count_df.groupby([\"from_religion\", \"to_religion\"])['count'].sum()\n",
    "for (form_r, to_r), count in rel_count_df.iteritems():\n",
    "    [from_r, to_r] = sorted([form_r, to_r])\n",
    "    from_list.append(from_r)\n",
    "    to_list.append(to_r)\n",
    "    count_list.append(count)\n",
    "rel_count_df = pd.DataFrame(zip(from_list, to_list, count_list),\n",
    "                                     columns =['from_religion', \"to_religion\", \"count\"]).sort_values(\"count\", ascending=False)\n",
    "\n",
    "rel_count_df = rel_count_df.reset_index(drop = True)\n",
    "\n",
    "rel_count_df"
   ]
  },
  {
   "cell_type": "markdown",
   "metadata": {},
   "source": [
    "calculate the relative amount, by dividing between all possible friendships between two values"
   ]
  },
  {
   "cell_type": "code",
   "execution_count": 347,
   "metadata": {},
   "outputs": [
    {
     "data": {
      "text/html": [
       "<div>\n",
       "<style scoped>\n",
       "    .dataframe tbody tr th:only-of-type {\n",
       "        vertical-align: middle;\n",
       "    }\n",
       "\n",
       "    .dataframe tbody tr th {\n",
       "        vertical-align: top;\n",
       "    }\n",
       "\n",
       "    .dataframe thead th {\n",
       "        text-align: right;\n",
       "    }\n",
       "</style>\n",
       "<table border=\"1\" class=\"dataframe\">\n",
       "  <thead>\n",
       "    <tr style=\"text-align: right;\">\n",
       "      <th></th>\n",
       "      <th>from_religion</th>\n",
       "      <th>to_religion</th>\n",
       "      <th>count</th>\n",
       "      <th>relative_count</th>\n",
       "    </tr>\n",
       "  </thead>\n",
       "  <tbody>\n",
       "    <tr>\n",
       "      <th>0</th>\n",
       "      <td>Protestant</td>\n",
       "      <td>Roman Catholic</td>\n",
       "      <td>32212</td>\n",
       "      <td>0.000032</td>\n",
       "    </tr>\n",
       "    <tr>\n",
       "      <th>1</th>\n",
       "      <td>Christianity</td>\n",
       "      <td>Protestant</td>\n",
       "      <td>23500</td>\n",
       "      <td>0.000016</td>\n",
       "    </tr>\n",
       "    <tr>\n",
       "      <th>2</th>\n",
       "      <td>Buddhism</td>\n",
       "      <td>Protestant</td>\n",
       "      <td>7215</td>\n",
       "      <td>0.000021</td>\n",
       "    </tr>\n",
       "    <tr>\n",
       "      <th>3</th>\n",
       "      <td>Christianity</td>\n",
       "      <td>Roman Catholic</td>\n",
       "      <td>6322</td>\n",
       "      <td>0.000017</td>\n",
       "    </tr>\n",
       "    <tr>\n",
       "      <th>4</th>\n",
       "      <td>Protestant</td>\n",
       "      <td>Protestant</td>\n",
       "      <td>5674</td>\n",
       "      <td>0.000001</td>\n",
       "    </tr>\n",
       "    <tr>\n",
       "      <th>5</th>\n",
       "      <td>Roman Catholic</td>\n",
       "      <td>Roman Catholic</td>\n",
       "      <td>4690</td>\n",
       "      <td>0.000019</td>\n",
       "    </tr>\n",
       "    <tr>\n",
       "      <th>6</th>\n",
       "      <td>Islam</td>\n",
       "      <td>Protestant</td>\n",
       "      <td>3766</td>\n",
       "      <td>0.000019</td>\n",
       "    </tr>\n",
       "    <tr>\n",
       "      <th>7</th>\n",
       "      <td>Evangelical</td>\n",
       "      <td>Protestant</td>\n",
       "      <td>3339</td>\n",
       "      <td>0.000011</td>\n",
       "    </tr>\n",
       "    <tr>\n",
       "      <th>8</th>\n",
       "      <td>Christianity</td>\n",
       "      <td>Evangelical</td>\n",
       "      <td>2303</td>\n",
       "      <td>0.000020</td>\n",
       "    </tr>\n",
       "    <tr>\n",
       "      <th>9</th>\n",
       "      <td>Buddhism</td>\n",
       "      <td>Roman Catholic</td>\n",
       "      <td>1838</td>\n",
       "      <td>0.000022</td>\n",
       "    </tr>\n",
       "    <tr>\n",
       "      <th>10</th>\n",
       "      <td>Buddhism</td>\n",
       "      <td>Christianity</td>\n",
       "      <td>1173</td>\n",
       "      <td>0.000010</td>\n",
       "    </tr>\n",
       "    <tr>\n",
       "      <th>11</th>\n",
       "      <td>Christianity</td>\n",
       "      <td>Islam</td>\n",
       "      <td>1144</td>\n",
       "      <td>0.000015</td>\n",
       "    </tr>\n",
       "    <tr>\n",
       "      <th>12</th>\n",
       "      <td>Evangelical</td>\n",
       "      <td>Roman Catholic</td>\n",
       "      <td>1119</td>\n",
       "      <td>0.000016</td>\n",
       "    </tr>\n",
       "    <tr>\n",
       "      <th>13</th>\n",
       "      <td>Christianity</td>\n",
       "      <td>Christianity</td>\n",
       "      <td>1046</td>\n",
       "      <td>0.000002</td>\n",
       "    </tr>\n",
       "    <tr>\n",
       "      <th>14</th>\n",
       "      <td>Islam</td>\n",
       "      <td>Islam</td>\n",
       "      <td>974</td>\n",
       "      <td>0.000095</td>\n",
       "    </tr>\n",
       "    <tr>\n",
       "      <th>15</th>\n",
       "      <td>Orthodox</td>\n",
       "      <td>Protestant</td>\n",
       "      <td>915</td>\n",
       "      <td>0.000026</td>\n",
       "    </tr>\n",
       "    <tr>\n",
       "      <th>16</th>\n",
       "      <td>Buddhism</td>\n",
       "      <td>Buddhism</td>\n",
       "      <td>877</td>\n",
       "      <td>0.000030</td>\n",
       "    </tr>\n",
       "    <tr>\n",
       "      <th>17</th>\n",
       "      <td>Hinduism</td>\n",
       "      <td>Protestant</td>\n",
       "      <td>849</td>\n",
       "      <td>0.000055</td>\n",
       "    </tr>\n",
       "    <tr>\n",
       "      <th>18</th>\n",
       "      <td>Islam</td>\n",
       "      <td>Roman Catholic</td>\n",
       "      <td>832</td>\n",
       "      <td>0.000017</td>\n",
       "    </tr>\n",
       "    <tr>\n",
       "      <th>19</th>\n",
       "      <td>Anglican</td>\n",
       "      <td>Protestant</td>\n",
       "      <td>676</td>\n",
       "      <td>0.000066</td>\n",
       "    </tr>\n",
       "    <tr>\n",
       "      <th>20</th>\n",
       "      <td>Buddhism</td>\n",
       "      <td>Islam</td>\n",
       "      <td>380</td>\n",
       "      <td>0.000025</td>\n",
       "    </tr>\n",
       "    <tr>\n",
       "      <th>21</th>\n",
       "      <td>Orthodox</td>\n",
       "      <td>Roman Catholic</td>\n",
       "      <td>286</td>\n",
       "      <td>0.000033</td>\n",
       "    </tr>\n",
       "    <tr>\n",
       "      <th>22</th>\n",
       "      <td>Christianity</td>\n",
       "      <td>Orthodox</td>\n",
       "      <td>250</td>\n",
       "      <td>0.000021</td>\n",
       "    </tr>\n",
       "    <tr>\n",
       "      <th>23</th>\n",
       "      <td>Evangelical</td>\n",
       "      <td>Evangelical</td>\n",
       "      <td>220</td>\n",
       "      <td>0.000010</td>\n",
       "    </tr>\n",
       "    <tr>\n",
       "      <th>24</th>\n",
       "      <td>Hinduism</td>\n",
       "      <td>Roman Catholic</td>\n",
       "      <td>207</td>\n",
       "      <td>0.000056</td>\n",
       "    </tr>\n",
       "    <tr>\n",
       "      <th>25</th>\n",
       "      <td>Anglican</td>\n",
       "      <td>Roman Catholic</td>\n",
       "      <td>170</td>\n",
       "      <td>0.000069</td>\n",
       "    </tr>\n",
       "    <tr>\n",
       "      <th>26</th>\n",
       "      <td>Buddhism</td>\n",
       "      <td>Evangelical</td>\n",
       "      <td>168</td>\n",
       "      <td>0.000008</td>\n",
       "    </tr>\n",
       "    <tr>\n",
       "      <th>27</th>\n",
       "      <td>Christianity</td>\n",
       "      <td>Hinduism</td>\n",
       "      <td>136</td>\n",
       "      <td>0.000033</td>\n",
       "    </tr>\n",
       "    <tr>\n",
       "      <th>28</th>\n",
       "      <td>Anglican</td>\n",
       "      <td>Christianity</td>\n",
       "      <td>98</td>\n",
       "      <td>0.000033</td>\n",
       "    </tr>\n",
       "    <tr>\n",
       "      <th>29</th>\n",
       "      <td>Buddhism</td>\n",
       "      <td>Orthodox</td>\n",
       "      <td>87</td>\n",
       "      <td>0.000028</td>\n",
       "    </tr>\n",
       "    <tr>\n",
       "      <th>30</th>\n",
       "      <td>Orthodox</td>\n",
       "      <td>Orthodox</td>\n",
       "      <td>77</td>\n",
       "      <td>0.000239</td>\n",
       "    </tr>\n",
       "    <tr>\n",
       "      <th>31</th>\n",
       "      <td>Evangelical</td>\n",
       "      <td>Islam</td>\n",
       "      <td>74</td>\n",
       "      <td>0.000005</td>\n",
       "    </tr>\n",
       "    <tr>\n",
       "      <th>32</th>\n",
       "      <td>Anglican</td>\n",
       "      <td>Islam</td>\n",
       "      <td>70</td>\n",
       "      <td>0.000169</td>\n",
       "    </tr>\n",
       "    <tr>\n",
       "      <th>33</th>\n",
       "      <td>Catholic</td>\n",
       "      <td>Protestant</td>\n",
       "      <td>67</td>\n",
       "      <td>0.000018</td>\n",
       "    </tr>\n",
       "    <tr>\n",
       "      <th>34</th>\n",
       "      <td>Buddhism</td>\n",
       "      <td>Hinduism</td>\n",
       "      <td>62</td>\n",
       "      <td>0.000042</td>\n",
       "    </tr>\n",
       "    <tr>\n",
       "      <th>35</th>\n",
       "      <td>Evangelical</td>\n",
       "      <td>Orthodox</td>\n",
       "      <td>57</td>\n",
       "      <td>0.000024</td>\n",
       "    </tr>\n",
       "    <tr>\n",
       "      <th>36</th>\n",
       "      <td>Catholic</td>\n",
       "      <td>Roman Catholic</td>\n",
       "      <td>55</td>\n",
       "      <td>0.000060</td>\n",
       "    </tr>\n",
       "    <tr>\n",
       "      <th>37</th>\n",
       "      <td>Islam</td>\n",
       "      <td>Orthodox</td>\n",
       "      <td>36</td>\n",
       "      <td>0.000023</td>\n",
       "    </tr>\n",
       "    <tr>\n",
       "      <th>38</th>\n",
       "      <td>Hinduism</td>\n",
       "      <td>Islam</td>\n",
       "      <td>30</td>\n",
       "      <td>0.000051</td>\n",
       "    </tr>\n",
       "    <tr>\n",
       "      <th>39</th>\n",
       "      <td>Anglican</td>\n",
       "      <td>Buddhism</td>\n",
       "      <td>22</td>\n",
       "      <td>0.000023</td>\n",
       "    </tr>\n",
       "    <tr>\n",
       "      <th>40</th>\n",
       "      <td>Evangelical</td>\n",
       "      <td>Hinduism</td>\n",
       "      <td>17</td>\n",
       "      <td>0.000019</td>\n",
       "    </tr>\n",
       "    <tr>\n",
       "      <th>41</th>\n",
       "      <td>Catholic</td>\n",
       "      <td>Christianity</td>\n",
       "      <td>13</td>\n",
       "      <td>0.000009</td>\n",
       "    </tr>\n",
       "    <tr>\n",
       "      <th>42</th>\n",
       "      <td>Hinduism</td>\n",
       "      <td>Orthodox</td>\n",
       "      <td>7</td>\n",
       "      <td>0.000046</td>\n",
       "    </tr>\n",
       "    <tr>\n",
       "      <th>43</th>\n",
       "      <td>Anglican</td>\n",
       "      <td>Hinduism</td>\n",
       "      <td>5</td>\n",
       "      <td>0.000097</td>\n",
       "    </tr>\n",
       "    <tr>\n",
       "      <th>44</th>\n",
       "      <td>Anglican</td>\n",
       "      <td>Evangelical</td>\n",
       "      <td>5</td>\n",
       "      <td>0.000008</td>\n",
       "    </tr>\n",
       "    <tr>\n",
       "      <th>45</th>\n",
       "      <td>Anglican</td>\n",
       "      <td>Orthodox</td>\n",
       "      <td>4</td>\n",
       "      <td>0.000041</td>\n",
       "    </tr>\n",
       "    <tr>\n",
       "      <th>46</th>\n",
       "      <td>Buddhism</td>\n",
       "      <td>Catholic</td>\n",
       "      <td>3</td>\n",
       "      <td>0.000010</td>\n",
       "    </tr>\n",
       "    <tr>\n",
       "      <th>47</th>\n",
       "      <td>Catholic</td>\n",
       "      <td>Orthodox</td>\n",
       "      <td>3</td>\n",
       "      <td>0.000095</td>\n",
       "    </tr>\n",
       "    <tr>\n",
       "      <th>48</th>\n",
       "      <td>Catholic</td>\n",
       "      <td>Evangelical</td>\n",
       "      <td>1</td>\n",
       "      <td>0.000004</td>\n",
       "    </tr>\n",
       "    <tr>\n",
       "      <th>49</th>\n",
       "      <td>Catholic</td>\n",
       "      <td>Islam</td>\n",
       "      <td>1</td>\n",
       "      <td>0.000005</td>\n",
       "    </tr>\n",
       "  </tbody>\n",
       "</table>\n",
       "</div>"
      ],
      "text/plain": [
       "     from_religion     to_religion  count  relative_count\n",
       "0       Protestant  Roman Catholic  32212        0.000032\n",
       "1     Christianity      Protestant  23500        0.000016\n",
       "2         Buddhism      Protestant   7215        0.000021\n",
       "3     Christianity  Roman Catholic   6322        0.000017\n",
       "4       Protestant      Protestant   5674        0.000001\n",
       "5   Roman Catholic  Roman Catholic   4690        0.000019\n",
       "6            Islam      Protestant   3766        0.000019\n",
       "7      Evangelical      Protestant   3339        0.000011\n",
       "8     Christianity     Evangelical   2303        0.000020\n",
       "9         Buddhism  Roman Catholic   1838        0.000022\n",
       "10        Buddhism    Christianity   1173        0.000010\n",
       "11    Christianity           Islam   1144        0.000015\n",
       "12     Evangelical  Roman Catholic   1119        0.000016\n",
       "13    Christianity    Christianity   1046        0.000002\n",
       "14           Islam           Islam    974        0.000095\n",
       "15        Orthodox      Protestant    915        0.000026\n",
       "16        Buddhism        Buddhism    877        0.000030\n",
       "17        Hinduism      Protestant    849        0.000055\n",
       "18           Islam  Roman Catholic    832        0.000017\n",
       "19        Anglican      Protestant    676        0.000066\n",
       "20        Buddhism           Islam    380        0.000025\n",
       "21        Orthodox  Roman Catholic    286        0.000033\n",
       "22    Christianity        Orthodox    250        0.000021\n",
       "23     Evangelical     Evangelical    220        0.000010\n",
       "24        Hinduism  Roman Catholic    207        0.000056\n",
       "25        Anglican  Roman Catholic    170        0.000069\n",
       "26        Buddhism     Evangelical    168        0.000008\n",
       "27    Christianity        Hinduism    136        0.000033\n",
       "28        Anglican    Christianity     98        0.000033\n",
       "29        Buddhism        Orthodox     87        0.000028\n",
       "30        Orthodox        Orthodox     77        0.000239\n",
       "31     Evangelical           Islam     74        0.000005\n",
       "32        Anglican           Islam     70        0.000169\n",
       "33        Catholic      Protestant     67        0.000018\n",
       "34        Buddhism        Hinduism     62        0.000042\n",
       "35     Evangelical        Orthodox     57        0.000024\n",
       "36        Catholic  Roman Catholic     55        0.000060\n",
       "37           Islam        Orthodox     36        0.000023\n",
       "38        Hinduism           Islam     30        0.000051\n",
       "39        Anglican        Buddhism     22        0.000023\n",
       "40     Evangelical        Hinduism     17        0.000019\n",
       "41        Catholic    Christianity     13        0.000009\n",
       "42        Hinduism        Orthodox      7        0.000046\n",
       "43        Anglican        Hinduism      5        0.000097\n",
       "44        Anglican     Evangelical      5        0.000008\n",
       "45        Anglican        Orthodox      4        0.000041\n",
       "46        Buddhism        Catholic      3        0.000010\n",
       "47        Catholic        Orthodox      3        0.000095\n",
       "48        Catholic     Evangelical      1        0.000004\n",
       "49        Catholic           Islam      1        0.000005"
      ]
     },
     "execution_count": 347,
     "metadata": {},
     "output_type": "execute_result"
    }
   ],
   "source": [
    "relative = []\n",
    "\n",
    "# get the (theoretical) maximum number of connections between two religions my multiplying the amount \n",
    "# of people that speak them\n",
    "for indx, row in rel_count_df.iterrows():\n",
    "    # possible friendships of both network\n",
    "    total_possible_B = len(homes_B[homes_B.main_religion == row[\"from_religion\"]]) * len(homes_B[homes_B.main_religion == row[\"to_religion\"]])\n",
    "    total_possible_G = len(homes_G[homes_G.main_religion == row[\"from_religion\"]]) * len(homes_G[homes_G.main_religion == row[\"to_religion\"]])\n",
    "    # add them up\n",
    "    total = total_possible_B + total_possible_G\n",
    "    # divide by it\n",
    "    relative.append(row[\"count\"]/total)\n",
    "\n",
    "rel_count_df[\"relative_count\"] = relative\n",
    "\n",
    "rel_count_df"
   ]
  },
  {
   "cell_type": "markdown",
   "metadata": {},
   "source": [
    "now take this linear scale and map it to a logarithmic one"
   ]
  },
  {
   "cell_type": "code",
   "execution_count": 348,
   "metadata": {},
   "outputs": [
    {
     "data": {
      "text/html": [
       "<div>\n",
       "<style scoped>\n",
       "    .dataframe tbody tr th:only-of-type {\n",
       "        vertical-align: middle;\n",
       "    }\n",
       "\n",
       "    .dataframe tbody tr th {\n",
       "        vertical-align: top;\n",
       "    }\n",
       "\n",
       "    .dataframe thead th {\n",
       "        text-align: right;\n",
       "    }\n",
       "</style>\n",
       "<table border=\"1\" class=\"dataframe\">\n",
       "  <thead>\n",
       "    <tr style=\"text-align: right;\">\n",
       "      <th></th>\n",
       "      <th>from_religion</th>\n",
       "      <th>to_religion</th>\n",
       "      <th>count</th>\n",
       "      <th>relative_count</th>\n",
       "      <th>scaled_relative_count</th>\n",
       "    </tr>\n",
       "  </thead>\n",
       "  <tbody>\n",
       "    <tr>\n",
       "      <th>0</th>\n",
       "      <td>Protestant</td>\n",
       "      <td>Roman Catholic</td>\n",
       "      <td>32212</td>\n",
       "      <td>0.000032</td>\n",
       "      <td>1.400784</td>\n",
       "    </tr>\n",
       "    <tr>\n",
       "      <th>1</th>\n",
       "      <td>Christianity</td>\n",
       "      <td>Protestant</td>\n",
       "      <td>23500</td>\n",
       "      <td>0.000016</td>\n",
       "      <td>1.197323</td>\n",
       "    </tr>\n",
       "    <tr>\n",
       "      <th>2</th>\n",
       "      <td>Buddhism</td>\n",
       "      <td>Protestant</td>\n",
       "      <td>7215</td>\n",
       "      <td>0.000021</td>\n",
       "      <td>1.267096</td>\n",
       "    </tr>\n",
       "    <tr>\n",
       "      <th>3</th>\n",
       "      <td>Christianity</td>\n",
       "      <td>Roman Catholic</td>\n",
       "      <td>6322</td>\n",
       "      <td>0.000017</td>\n",
       "      <td>1.216297</td>\n",
       "    </tr>\n",
       "    <tr>\n",
       "      <th>4</th>\n",
       "      <td>Protestant</td>\n",
       "      <td>Protestant</td>\n",
       "      <td>5674</td>\n",
       "      <td>0.000001</td>\n",
       "      <td>1.017200</td>\n",
       "    </tr>\n",
       "    <tr>\n",
       "      <th>5</th>\n",
       "      <td>Roman Catholic</td>\n",
       "      <td>Roman Catholic</td>\n",
       "      <td>4690</td>\n",
       "      <td>0.000019</td>\n",
       "      <td>1.239407</td>\n",
       "    </tr>\n",
       "    <tr>\n",
       "      <th>6</th>\n",
       "      <td>Islam</td>\n",
       "      <td>Protestant</td>\n",
       "      <td>3766</td>\n",
       "      <td>0.000019</td>\n",
       "      <td>1.239451</td>\n",
       "    </tr>\n",
       "    <tr>\n",
       "      <th>7</th>\n",
       "      <td>Evangelical</td>\n",
       "      <td>Protestant</td>\n",
       "      <td>3339</td>\n",
       "      <td>0.000011</td>\n",
       "      <td>1.143930</td>\n",
       "    </tr>\n",
       "    <tr>\n",
       "      <th>8</th>\n",
       "      <td>Christianity</td>\n",
       "      <td>Evangelical</td>\n",
       "      <td>2303</td>\n",
       "      <td>0.000020</td>\n",
       "      <td>1.251489</td>\n",
       "    </tr>\n",
       "    <tr>\n",
       "      <th>9</th>\n",
       "      <td>Buddhism</td>\n",
       "      <td>Roman Catholic</td>\n",
       "      <td>1838</td>\n",
       "      <td>0.000022</td>\n",
       "      <td>1.280676</td>\n",
       "    </tr>\n",
       "    <tr>\n",
       "      <th>10</th>\n",
       "      <td>Buddhism</td>\n",
       "      <td>Christianity</td>\n",
       "      <td>1173</td>\n",
       "      <td>0.000010</td>\n",
       "      <td>1.131741</td>\n",
       "    </tr>\n",
       "    <tr>\n",
       "      <th>11</th>\n",
       "      <td>Christianity</td>\n",
       "      <td>Islam</td>\n",
       "      <td>1144</td>\n",
       "      <td>0.000015</td>\n",
       "      <td>1.182564</td>\n",
       "    </tr>\n",
       "    <tr>\n",
       "      <th>12</th>\n",
       "      <td>Evangelical</td>\n",
       "      <td>Roman Catholic</td>\n",
       "      <td>1119</td>\n",
       "      <td>0.000016</td>\n",
       "      <td>1.196923</td>\n",
       "    </tr>\n",
       "    <tr>\n",
       "      <th>13</th>\n",
       "      <td>Christianity</td>\n",
       "      <td>Christianity</td>\n",
       "      <td>1046</td>\n",
       "      <td>0.000002</td>\n",
       "      <td>1.021577</td>\n",
       "    </tr>\n",
       "    <tr>\n",
       "      <th>14</th>\n",
       "      <td>Islam</td>\n",
       "      <td>Islam</td>\n",
       "      <td>974</td>\n",
       "      <td>0.000095</td>\n",
       "      <td>2.198061</td>\n",
       "    </tr>\n",
       "    <tr>\n",
       "      <th>15</th>\n",
       "      <td>Orthodox</td>\n",
       "      <td>Protestant</td>\n",
       "      <td>915</td>\n",
       "      <td>0.000026</td>\n",
       "      <td>1.321496</td>\n",
       "    </tr>\n",
       "    <tr>\n",
       "      <th>16</th>\n",
       "      <td>Buddhism</td>\n",
       "      <td>Buddhism</td>\n",
       "      <td>877</td>\n",
       "      <td>0.000030</td>\n",
       "      <td>1.374269</td>\n",
       "    </tr>\n",
       "    <tr>\n",
       "      <th>17</th>\n",
       "      <td>Hinduism</td>\n",
       "      <td>Protestant</td>\n",
       "      <td>849</td>\n",
       "      <td>0.000055</td>\n",
       "      <td>1.690669</td>\n",
       "    </tr>\n",
       "    <tr>\n",
       "      <th>18</th>\n",
       "      <td>Islam</td>\n",
       "      <td>Roman Catholic</td>\n",
       "      <td>832</td>\n",
       "      <td>0.000017</td>\n",
       "      <td>1.215843</td>\n",
       "    </tr>\n",
       "    <tr>\n",
       "      <th>19</th>\n",
       "      <td>Anglican</td>\n",
       "      <td>Protestant</td>\n",
       "      <td>676</td>\n",
       "      <td>0.000066</td>\n",
       "      <td>1.833589</td>\n",
       "    </tr>\n",
       "    <tr>\n",
       "      <th>20</th>\n",
       "      <td>Buddhism</td>\n",
       "      <td>Islam</td>\n",
       "      <td>380</td>\n",
       "      <td>0.000025</td>\n",
       "      <td>1.317509</td>\n",
       "    </tr>\n",
       "    <tr>\n",
       "      <th>21</th>\n",
       "      <td>Orthodox</td>\n",
       "      <td>Roman Catholic</td>\n",
       "      <td>286</td>\n",
       "      <td>0.000033</td>\n",
       "      <td>1.414260</td>\n",
       "    </tr>\n",
       "    <tr>\n",
       "      <th>22</th>\n",
       "      <td>Christianity</td>\n",
       "      <td>Orthodox</td>\n",
       "      <td>250</td>\n",
       "      <td>0.000021</td>\n",
       "      <td>1.263323</td>\n",
       "    </tr>\n",
       "    <tr>\n",
       "      <th>23</th>\n",
       "      <td>Evangelical</td>\n",
       "      <td>Evangelical</td>\n",
       "      <td>220</td>\n",
       "      <td>0.000010</td>\n",
       "      <td>1.126214</td>\n",
       "    </tr>\n",
       "    <tr>\n",
       "      <th>24</th>\n",
       "      <td>Hinduism</td>\n",
       "      <td>Roman Catholic</td>\n",
       "      <td>207</td>\n",
       "      <td>0.000056</td>\n",
       "      <td>1.701299</td>\n",
       "    </tr>\n",
       "    <tr>\n",
       "      <th>25</th>\n",
       "      <td>Anglican</td>\n",
       "      <td>Roman Catholic</td>\n",
       "      <td>170</td>\n",
       "      <td>0.000069</td>\n",
       "      <td>1.869532</td>\n",
       "    </tr>\n",
       "    <tr>\n",
       "      <th>26</th>\n",
       "      <td>Buddhism</td>\n",
       "      <td>Evangelical</td>\n",
       "      <td>168</td>\n",
       "      <td>0.000008</td>\n",
       "      <td>1.094457</td>\n",
       "    </tr>\n",
       "    <tr>\n",
       "      <th>27</th>\n",
       "      <td>Christianity</td>\n",
       "      <td>Hinduism</td>\n",
       "      <td>136</td>\n",
       "      <td>0.000033</td>\n",
       "      <td>1.409440</td>\n",
       "    </tr>\n",
       "    <tr>\n",
       "      <th>28</th>\n",
       "      <td>Anglican</td>\n",
       "      <td>Christianity</td>\n",
       "      <td>98</td>\n",
       "      <td>0.000033</td>\n",
       "      <td>1.409533</td>\n",
       "    </tr>\n",
       "    <tr>\n",
       "      <th>29</th>\n",
       "      <td>Buddhism</td>\n",
       "      <td>Orthodox</td>\n",
       "      <td>87</td>\n",
       "      <td>0.000028</td>\n",
       "      <td>1.354905</td>\n",
       "    </tr>\n",
       "    <tr>\n",
       "      <th>30</th>\n",
       "      <td>Orthodox</td>\n",
       "      <td>Orthodox</td>\n",
       "      <td>77</td>\n",
       "      <td>0.000239</td>\n",
       "      <td>4.000000</td>\n",
       "    </tr>\n",
       "    <tr>\n",
       "      <th>31</th>\n",
       "      <td>Evangelical</td>\n",
       "      <td>Islam</td>\n",
       "      <td>74</td>\n",
       "      <td>0.000005</td>\n",
       "      <td>1.062185</td>\n",
       "    </tr>\n",
       "    <tr>\n",
       "      <th>32</th>\n",
       "      <td>Anglican</td>\n",
       "      <td>Islam</td>\n",
       "      <td>70</td>\n",
       "      <td>0.000169</td>\n",
       "      <td>3.126112</td>\n",
       "    </tr>\n",
       "    <tr>\n",
       "      <th>33</th>\n",
       "      <td>Catholic</td>\n",
       "      <td>Protestant</td>\n",
       "      <td>67</td>\n",
       "      <td>0.000018</td>\n",
       "      <td>1.222958</td>\n",
       "    </tr>\n",
       "    <tr>\n",
       "      <th>34</th>\n",
       "      <td>Buddhism</td>\n",
       "      <td>Hinduism</td>\n",
       "      <td>62</td>\n",
       "      <td>0.000042</td>\n",
       "      <td>1.525729</td>\n",
       "    </tr>\n",
       "    <tr>\n",
       "      <th>35</th>\n",
       "      <td>Evangelical</td>\n",
       "      <td>Orthodox</td>\n",
       "      <td>57</td>\n",
       "      <td>0.000024</td>\n",
       "      <td>1.301580</td>\n",
       "    </tr>\n",
       "    <tr>\n",
       "      <th>36</th>\n",
       "      <td>Catholic</td>\n",
       "      <td>Roman Catholic</td>\n",
       "      <td>55</td>\n",
       "      <td>0.000060</td>\n",
       "      <td>1.749047</td>\n",
       "    </tr>\n",
       "    <tr>\n",
       "      <th>37</th>\n",
       "      <td>Islam</td>\n",
       "      <td>Orthodox</td>\n",
       "      <td>36</td>\n",
       "      <td>0.000023</td>\n",
       "      <td>1.282775</td>\n",
       "    </tr>\n",
       "    <tr>\n",
       "      <th>38</th>\n",
       "      <td>Hinduism</td>\n",
       "      <td>Islam</td>\n",
       "      <td>30</td>\n",
       "      <td>0.000051</td>\n",
       "      <td>1.643424</td>\n",
       "    </tr>\n",
       "    <tr>\n",
       "      <th>39</th>\n",
       "      <td>Anglican</td>\n",
       "      <td>Buddhism</td>\n",
       "      <td>22</td>\n",
       "      <td>0.000023</td>\n",
       "      <td>1.294588</td>\n",
       "    </tr>\n",
       "    <tr>\n",
       "      <th>40</th>\n",
       "      <td>Evangelical</td>\n",
       "      <td>Hinduism</td>\n",
       "      <td>17</td>\n",
       "      <td>0.000019</td>\n",
       "      <td>1.241079</td>\n",
       "    </tr>\n",
       "    <tr>\n",
       "      <th>41</th>\n",
       "      <td>Catholic</td>\n",
       "      <td>Christianity</td>\n",
       "      <td>13</td>\n",
       "      <td>0.000009</td>\n",
       "      <td>1.114073</td>\n",
       "    </tr>\n",
       "    <tr>\n",
       "      <th>42</th>\n",
       "      <td>Hinduism</td>\n",
       "      <td>Orthodox</td>\n",
       "      <td>7</td>\n",
       "      <td>0.000046</td>\n",
       "      <td>1.573993</td>\n",
       "    </tr>\n",
       "    <tr>\n",
       "      <th>43</th>\n",
       "      <td>Anglican</td>\n",
       "      <td>Hinduism</td>\n",
       "      <td>5</td>\n",
       "      <td>0.000097</td>\n",
       "      <td>2.216335</td>\n",
       "    </tr>\n",
       "    <tr>\n",
       "      <th>44</th>\n",
       "      <td>Anglican</td>\n",
       "      <td>Evangelical</td>\n",
       "      <td>5</td>\n",
       "      <td>0.000008</td>\n",
       "      <td>1.101218</td>\n",
       "    </tr>\n",
       "    <tr>\n",
       "      <th>45</th>\n",
       "      <td>Anglican</td>\n",
       "      <td>Orthodox</td>\n",
       "      <td>4</td>\n",
       "      <td>0.000041</td>\n",
       "      <td>1.515586</td>\n",
       "    </tr>\n",
       "    <tr>\n",
       "      <th>46</th>\n",
       "      <td>Buddhism</td>\n",
       "      <td>Catholic</td>\n",
       "      <td>3</td>\n",
       "      <td>0.000010</td>\n",
       "      <td>1.126263</td>\n",
       "    </tr>\n",
       "    <tr>\n",
       "      <th>47</th>\n",
       "      <td>Catholic</td>\n",
       "      <td>Orthodox</td>\n",
       "      <td>3</td>\n",
       "      <td>0.000095</td>\n",
       "      <td>2.193019</td>\n",
       "    </tr>\n",
       "    <tr>\n",
       "      <th>48</th>\n",
       "      <td>Catholic</td>\n",
       "      <td>Evangelical</td>\n",
       "      <td>1</td>\n",
       "      <td>0.000004</td>\n",
       "      <td>1.045633</td>\n",
       "    </tr>\n",
       "    <tr>\n",
       "      <th>49</th>\n",
       "      <td>Catholic</td>\n",
       "      <td>Islam</td>\n",
       "      <td>1</td>\n",
       "      <td>0.000005</td>\n",
       "      <td>1.067049</td>\n",
       "    </tr>\n",
       "  </tbody>\n",
       "</table>\n",
       "</div>"
      ],
      "text/plain": [
       "     from_religion     to_religion  count  relative_count  \\\n",
       "0       Protestant  Roman Catholic  32212        0.000032   \n",
       "1     Christianity      Protestant  23500        0.000016   \n",
       "2         Buddhism      Protestant   7215        0.000021   \n",
       "3     Christianity  Roman Catholic   6322        0.000017   \n",
       "4       Protestant      Protestant   5674        0.000001   \n",
       "5   Roman Catholic  Roman Catholic   4690        0.000019   \n",
       "6            Islam      Protestant   3766        0.000019   \n",
       "7      Evangelical      Protestant   3339        0.000011   \n",
       "8     Christianity     Evangelical   2303        0.000020   \n",
       "9         Buddhism  Roman Catholic   1838        0.000022   \n",
       "10        Buddhism    Christianity   1173        0.000010   \n",
       "11    Christianity           Islam   1144        0.000015   \n",
       "12     Evangelical  Roman Catholic   1119        0.000016   \n",
       "13    Christianity    Christianity   1046        0.000002   \n",
       "14           Islam           Islam    974        0.000095   \n",
       "15        Orthodox      Protestant    915        0.000026   \n",
       "16        Buddhism        Buddhism    877        0.000030   \n",
       "17        Hinduism      Protestant    849        0.000055   \n",
       "18           Islam  Roman Catholic    832        0.000017   \n",
       "19        Anglican      Protestant    676        0.000066   \n",
       "20        Buddhism           Islam    380        0.000025   \n",
       "21        Orthodox  Roman Catholic    286        0.000033   \n",
       "22    Christianity        Orthodox    250        0.000021   \n",
       "23     Evangelical     Evangelical    220        0.000010   \n",
       "24        Hinduism  Roman Catholic    207        0.000056   \n",
       "25        Anglican  Roman Catholic    170        0.000069   \n",
       "26        Buddhism     Evangelical    168        0.000008   \n",
       "27    Christianity        Hinduism    136        0.000033   \n",
       "28        Anglican    Christianity     98        0.000033   \n",
       "29        Buddhism        Orthodox     87        0.000028   \n",
       "30        Orthodox        Orthodox     77        0.000239   \n",
       "31     Evangelical           Islam     74        0.000005   \n",
       "32        Anglican           Islam     70        0.000169   \n",
       "33        Catholic      Protestant     67        0.000018   \n",
       "34        Buddhism        Hinduism     62        0.000042   \n",
       "35     Evangelical        Orthodox     57        0.000024   \n",
       "36        Catholic  Roman Catholic     55        0.000060   \n",
       "37           Islam        Orthodox     36        0.000023   \n",
       "38        Hinduism           Islam     30        0.000051   \n",
       "39        Anglican        Buddhism     22        0.000023   \n",
       "40     Evangelical        Hinduism     17        0.000019   \n",
       "41        Catholic    Christianity     13        0.000009   \n",
       "42        Hinduism        Orthodox      7        0.000046   \n",
       "43        Anglican        Hinduism      5        0.000097   \n",
       "44        Anglican     Evangelical      5        0.000008   \n",
       "45        Anglican        Orthodox      4        0.000041   \n",
       "46        Buddhism        Catholic      3        0.000010   \n",
       "47        Catholic        Orthodox      3        0.000095   \n",
       "48        Catholic     Evangelical      1        0.000004   \n",
       "49        Catholic           Islam      1        0.000005   \n",
       "\n",
       "    scaled_relative_count  \n",
       "0                1.400784  \n",
       "1                1.197323  \n",
       "2                1.267096  \n",
       "3                1.216297  \n",
       "4                1.017200  \n",
       "5                1.239407  \n",
       "6                1.239451  \n",
       "7                1.143930  \n",
       "8                1.251489  \n",
       "9                1.280676  \n",
       "10               1.131741  \n",
       "11               1.182564  \n",
       "12               1.196923  \n",
       "13               1.021577  \n",
       "14               2.198061  \n",
       "15               1.321496  \n",
       "16               1.374269  \n",
       "17               1.690669  \n",
       "18               1.215843  \n",
       "19               1.833589  \n",
       "20               1.317509  \n",
       "21               1.414260  \n",
       "22               1.263323  \n",
       "23               1.126214  \n",
       "24               1.701299  \n",
       "25               1.869532  \n",
       "26               1.094457  \n",
       "27               1.409440  \n",
       "28               1.409533  \n",
       "29               1.354905  \n",
       "30               4.000000  \n",
       "31               1.062185  \n",
       "32               3.126112  \n",
       "33               1.222958  \n",
       "34               1.525729  \n",
       "35               1.301580  \n",
       "36               1.749047  \n",
       "37               1.282775  \n",
       "38               1.643424  \n",
       "39               1.294588  \n",
       "40               1.241079  \n",
       "41               1.114073  \n",
       "42               1.573993  \n",
       "43               2.216335  \n",
       "44               1.101218  \n",
       "45               1.515586  \n",
       "46               1.126263  \n",
       "47               2.193019  \n",
       "48               1.045633  \n",
       "49               1.067049  "
      ]
     },
     "execution_count": 348,
     "metadata": {},
     "output_type": "execute_result"
    }
   ],
   "source": [
    "scaled_relative = []\n",
    "# get the current mini and maximum\n",
    "mini = rel_count_df.relative_count.min()\n",
    "maxi = rel_count_df.relative_count.max()\n",
    "\n",
    "# the new ones\n",
    "new_mini = 1.\n",
    "new_maxi = 4.\n",
    "\n",
    "# scale them\n",
    "for indx, row in rel_count_df.iterrows():\n",
    "    scaled_relative.append((new_maxi-new_mini) * row[\"relative_count\"] / maxi + new_mini)\n",
    "\n",
    "# add them to df\n",
    "rel_count_df[\"scaled_relative_count\"] = scaled_relative\n",
    "\n",
    "rel_count_df"
   ]
  },
  {
   "cell_type": "markdown",
   "metadata": {},
   "source": [
    "Add number of users who belong to this religion"
   ]
  },
  {
   "cell_type": "code",
   "execution_count": 349,
   "metadata": {},
   "outputs": [
    {
     "data": {
      "text/plain": [
       "{'Anglican': 1.008396668638784,\n",
       " 'Christianity': 1.9783142948163657,\n",
       " 'Roman Catholic': 1.7268579620443272,\n",
       " 'Hinduism': 1.0133117917444137,\n",
       " 'Evangelical': 1.1960246666363263,\n",
       " 'Protestant': 4.0,\n",
       " 'Buddhism': 1.2618668365721568,\n",
       " 'Orthodox': 1.0273745050744094,\n",
       " 'Catholic': 1.002628225549538,\n",
       " 'Islam': 1.1317867382696947}"
      ]
     },
     "execution_count": 349,
     "metadata": {},
     "output_type": "execute_result"
    }
   ],
   "source": [
    "# get list of unique religoins\n",
    "unique_religions = set(rel_count_df[\"from_religion\"].to_list() + rel_count_df[\"to_religion\"].to_list())\n",
    "# count them\n",
    "nr_users_religion_og = {r: len(homes_B[homes_B.main_religion == r]) + len(homes_G[homes_G.main_religion == r]) for r in unique_religions}\n",
    "\n",
    "nr_users_religion = {}\n",
    "\n",
    "maxi = max(nr_users_religion_og.values())\n",
    "\n",
    "# scale them\n",
    "for k, v in nr_users_religion_og.items():\n",
    "    nr_users_religion[k] = (new_maxi-new_mini) * v / maxi + new_mini\n",
    "\n",
    "\n",
    "nr_users_religion"
   ]
  },
  {
   "cell_type": "markdown",
   "metadata": {},
   "source": [
    "### Language Information DataFrame"
   ]
  },
  {
   "cell_type": "code",
   "execution_count": 350,
   "metadata": {},
   "outputs": [
    {
     "data": {
      "text/html": [
       "<div>\n",
       "<style scoped>\n",
       "    .dataframe tbody tr th:only-of-type {\n",
       "        vertical-align: middle;\n",
       "    }\n",
       "\n",
       "    .dataframe tbody tr th {\n",
       "        vertical-align: top;\n",
       "    }\n",
       "\n",
       "    .dataframe thead th {\n",
       "        text-align: right;\n",
       "    }\n",
       "</style>\n",
       "<table border=\"1\" class=\"dataframe\">\n",
       "  <thead>\n",
       "    <tr style=\"text-align: right;\">\n",
       "      <th></th>\n",
       "      <th>from_language</th>\n",
       "      <th>to_language</th>\n",
       "      <th>count</th>\n",
       "    </tr>\n",
       "  </thead>\n",
       "  <tbody>\n",
       "    <tr>\n",
       "      <th>0</th>\n",
       "      <td>English</td>\n",
       "      <td>English</td>\n",
       "      <td>34503</td>\n",
       "    </tr>\n",
       "    <tr>\n",
       "      <th>1</th>\n",
       "      <td>English</td>\n",
       "      <td>German</td>\n",
       "      <td>8853</td>\n",
       "    </tr>\n",
       "    <tr>\n",
       "      <th>2</th>\n",
       "      <td>English</td>\n",
       "      <td>Swedish</td>\n",
       "      <td>5881</td>\n",
       "    </tr>\n",
       "    <tr>\n",
       "      <th>3</th>\n",
       "      <td>Dutch</td>\n",
       "      <td>English</td>\n",
       "      <td>5034</td>\n",
       "    </tr>\n",
       "    <tr>\n",
       "      <th>4</th>\n",
       "      <td>English</td>\n",
       "      <td>Japanese</td>\n",
       "      <td>4277</td>\n",
       "    </tr>\n",
       "    <tr>\n",
       "      <th>...</th>\n",
       "      <td>...</td>\n",
       "      <td>...</td>\n",
       "      <td>...</td>\n",
       "    </tr>\n",
       "    <tr>\n",
       "      <th>672</th>\n",
       "      <td>Dhivehi</td>\n",
       "      <td>Russian</td>\n",
       "      <td>1</td>\n",
       "    </tr>\n",
       "    <tr>\n",
       "      <th>673</th>\n",
       "      <td>Dhivehi</td>\n",
       "      <td>Italian</td>\n",
       "      <td>1</td>\n",
       "    </tr>\n",
       "    <tr>\n",
       "      <th>674</th>\n",
       "      <td>Danish</td>\n",
       "      <td>Yue</td>\n",
       "      <td>1</td>\n",
       "    </tr>\n",
       "    <tr>\n",
       "      <th>675</th>\n",
       "      <td>Japanese</td>\n",
       "      <td>Serbian</td>\n",
       "      <td>1</td>\n",
       "    </tr>\n",
       "    <tr>\n",
       "      <th>676</th>\n",
       "      <td>Afghan</td>\n",
       "      <td>Croatian</td>\n",
       "      <td>1</td>\n",
       "    </tr>\n",
       "  </tbody>\n",
       "</table>\n",
       "<p>677 rows × 3 columns</p>\n",
       "</div>"
      ],
      "text/plain": [
       "    from_language to_language  count\n",
       "0         English     English  34503\n",
       "1         English      German   8853\n",
       "2         English     Swedish   5881\n",
       "3           Dutch     English   5034\n",
       "4         English    Japanese   4277\n",
       "..            ...         ...    ...\n",
       "672       Dhivehi     Russian      1\n",
       "673       Dhivehi     Italian      1\n",
       "674        Danish         Yue      1\n",
       "675      Japanese     Serbian      1\n",
       "676        Afghan    Croatian      1\n",
       "\n",
       "[677 rows x 3 columns]"
      ]
     },
     "execution_count": 350,
     "metadata": {},
     "output_type": "execute_result"
    }
   ],
   "source": [
    "from_list = []\n",
    "to_list = []\n",
    "count_list = []\n",
    "\n",
    "lang_count = international.groupby(['language', 'friend_language']).size()\n",
    "for (form_r, to_r), count in lang_count.iteritems():\n",
    "    [from_r, to_r] = sorted([form_r, to_r])\n",
    "    from_list.append(from_r)\n",
    "    to_list.append(to_r)\n",
    "    count_list.append(count)\n",
    "lang_count_df = pd.DataFrame(zip(from_list, to_list, count_list),\n",
    "                                     columns =['from_language', \"to_language\", \"count\"]) \n",
    "\n",
    "from_list = []\n",
    "to_list = []\n",
    "count_list = []\n",
    "lang_count_df = lang_count_df.groupby([\"from_language\", \"to_language\"])['count'].sum()\n",
    "for (form_r, to_r), count in lang_count_df.iteritems():\n",
    "    [from_r, to_r] = sorted([form_r, to_r])\n",
    "    from_list.append(from_r)\n",
    "    to_list.append(to_r)\n",
    "    count_list.append(count)\n",
    "lang_count_df = pd.DataFrame(zip(from_list, to_list, count_list),\n",
    "                                     columns =['from_language', \"to_language\", \"count\"]).sort_values(\"count\", ascending=False)\n",
    "\n",
    "lang_count_df = lang_count_df.reset_index(drop = True)\n",
    "\n",
    "lang_count_df"
   ]
  },
  {
   "cell_type": "markdown",
   "metadata": {},
   "source": [
    "###### calculate the relative amount, by dividing between all possible friendships between two values"
   ]
  },
  {
   "cell_type": "code",
   "execution_count": 351,
   "metadata": {},
   "outputs": [
    {
     "data": {
      "text/html": [
       "<div>\n",
       "<style scoped>\n",
       "    .dataframe tbody tr th:only-of-type {\n",
       "        vertical-align: middle;\n",
       "    }\n",
       "\n",
       "    .dataframe tbody tr th {\n",
       "        vertical-align: top;\n",
       "    }\n",
       "\n",
       "    .dataframe thead th {\n",
       "        text-align: right;\n",
       "    }\n",
       "</style>\n",
       "<table border=\"1\" class=\"dataframe\">\n",
       "  <thead>\n",
       "    <tr style=\"text-align: right;\">\n",
       "      <th></th>\n",
       "      <th>from_language</th>\n",
       "      <th>to_language</th>\n",
       "      <th>count</th>\n",
       "      <th>relative_count</th>\n",
       "    </tr>\n",
       "  </thead>\n",
       "  <tbody>\n",
       "    <tr>\n",
       "      <th>0</th>\n",
       "      <td>English</td>\n",
       "      <td>English</td>\n",
       "      <td>34503</td>\n",
       "      <td>0.000007</td>\n",
       "    </tr>\n",
       "    <tr>\n",
       "      <th>1</th>\n",
       "      <td>English</td>\n",
       "      <td>German</td>\n",
       "      <td>8853</td>\n",
       "      <td>0.000019</td>\n",
       "    </tr>\n",
       "    <tr>\n",
       "      <th>2</th>\n",
       "      <td>English</td>\n",
       "      <td>Swedish</td>\n",
       "      <td>5881</td>\n",
       "      <td>0.000005</td>\n",
       "    </tr>\n",
       "    <tr>\n",
       "      <th>3</th>\n",
       "      <td>Dutch</td>\n",
       "      <td>English</td>\n",
       "      <td>5034</td>\n",
       "      <td>0.000024</td>\n",
       "    </tr>\n",
       "    <tr>\n",
       "      <th>4</th>\n",
       "      <td>English</td>\n",
       "      <td>Japanese</td>\n",
       "      <td>4277</td>\n",
       "      <td>0.000027</td>\n",
       "    </tr>\n",
       "    <tr>\n",
       "      <th>...</th>\n",
       "      <td>...</td>\n",
       "      <td>...</td>\n",
       "      <td>...</td>\n",
       "      <td>...</td>\n",
       "    </tr>\n",
       "    <tr>\n",
       "      <th>672</th>\n",
       "      <td>Dhivehi</td>\n",
       "      <td>Russian</td>\n",
       "      <td>1</td>\n",
       "      <td>0.000490</td>\n",
       "    </tr>\n",
       "    <tr>\n",
       "      <th>673</th>\n",
       "      <td>Dhivehi</td>\n",
       "      <td>Italian</td>\n",
       "      <td>1</td>\n",
       "      <td>0.000108</td>\n",
       "    </tr>\n",
       "    <tr>\n",
       "      <th>674</th>\n",
       "      <td>Danish</td>\n",
       "      <td>Yue</td>\n",
       "      <td>1</td>\n",
       "      <td>0.000004</td>\n",
       "    </tr>\n",
       "    <tr>\n",
       "      <th>675</th>\n",
       "      <td>Japanese</td>\n",
       "      <td>Serbian</td>\n",
       "      <td>1</td>\n",
       "      <td>0.000012</td>\n",
       "    </tr>\n",
       "    <tr>\n",
       "      <th>676</th>\n",
       "      <td>Afghan</td>\n",
       "      <td>Croatian</td>\n",
       "      <td>1</td>\n",
       "      <td>0.005682</td>\n",
       "    </tr>\n",
       "  </tbody>\n",
       "</table>\n",
       "<p>677 rows × 4 columns</p>\n",
       "</div>"
      ],
      "text/plain": [
       "    from_language to_language  count  relative_count\n",
       "0         English     English  34503        0.000007\n",
       "1         English      German   8853        0.000019\n",
       "2         English     Swedish   5881        0.000005\n",
       "3           Dutch     English   5034        0.000024\n",
       "4         English    Japanese   4277        0.000027\n",
       "..            ...         ...    ...             ...\n",
       "672       Dhivehi     Russian      1        0.000490\n",
       "673       Dhivehi     Italian      1        0.000108\n",
       "674        Danish         Yue      1        0.000004\n",
       "675      Japanese     Serbian      1        0.000012\n",
       "676        Afghan    Croatian      1        0.005682\n",
       "\n",
       "[677 rows x 4 columns]"
      ]
     },
     "execution_count": 351,
     "metadata": {},
     "output_type": "execute_result"
    }
   ],
   "source": [
    "relative = []\n",
    "\n",
    "for indx, row in lang_count_df.iterrows():\n",
    "    # possible friendships of both network\n",
    "    total_possible_B = len(homes_B[homes_B.languages == row[\"from_language\"]]) * len(homes_B[homes_B.languages == row[\"to_language\"]])\n",
    "    total_possible_G = len(homes_G[homes_G.languages == row[\"from_language\"]]) * len(homes_G[homes_G.languages == row[\"to_language\"]])\n",
    "    # add them up\n",
    "    total = total_possible_B + total_possible_G\n",
    "    # divide by it\n",
    "    relative.append(row[\"count\"]/total)\n",
    "\n",
    "lang_count_df[\"relative_count\"] = relative\n",
    "\n",
    "lang_count_df"
   ]
  },
  {
   "cell_type": "markdown",
   "metadata": {},
   "source": [
    "now take this linear scale and map it to a logarithmic one"
   ]
  },
  {
   "cell_type": "code",
   "execution_count": 352,
   "metadata": {},
   "outputs": [
    {
     "data": {
      "text/html": [
       "<div>\n",
       "<style scoped>\n",
       "    .dataframe tbody tr th:only-of-type {\n",
       "        vertical-align: middle;\n",
       "    }\n",
       "\n",
       "    .dataframe tbody tr th {\n",
       "        vertical-align: top;\n",
       "    }\n",
       "\n",
       "    .dataframe thead th {\n",
       "        text-align: right;\n",
       "    }\n",
       "</style>\n",
       "<table border=\"1\" class=\"dataframe\">\n",
       "  <thead>\n",
       "    <tr style=\"text-align: right;\">\n",
       "      <th></th>\n",
       "      <th>from_language</th>\n",
       "      <th>to_language</th>\n",
       "      <th>count</th>\n",
       "      <th>relative_count</th>\n",
       "      <th>scaled_relative_count</th>\n",
       "    </tr>\n",
       "  </thead>\n",
       "  <tbody>\n",
       "    <tr>\n",
       "      <th>0</th>\n",
       "      <td>English</td>\n",
       "      <td>English</td>\n",
       "      <td>34503</td>\n",
       "      <td>0.000007</td>\n",
       "      <td>1.000340</td>\n",
       "    </tr>\n",
       "    <tr>\n",
       "      <th>1</th>\n",
       "      <td>English</td>\n",
       "      <td>German</td>\n",
       "      <td>8853</td>\n",
       "      <td>0.000019</td>\n",
       "      <td>1.000921</td>\n",
       "    </tr>\n",
       "    <tr>\n",
       "      <th>2</th>\n",
       "      <td>English</td>\n",
       "      <td>Swedish</td>\n",
       "      <td>5881</td>\n",
       "      <td>0.000005</td>\n",
       "      <td>1.000260</td>\n",
       "    </tr>\n",
       "    <tr>\n",
       "      <th>3</th>\n",
       "      <td>Dutch</td>\n",
       "      <td>English</td>\n",
       "      <td>5034</td>\n",
       "      <td>0.000024</td>\n",
       "      <td>1.001181</td>\n",
       "    </tr>\n",
       "    <tr>\n",
       "      <th>4</th>\n",
       "      <td>English</td>\n",
       "      <td>Japanese</td>\n",
       "      <td>4277</td>\n",
       "      <td>0.000027</td>\n",
       "      <td>1.001335</td>\n",
       "    </tr>\n",
       "    <tr>\n",
       "      <th>...</th>\n",
       "      <td>...</td>\n",
       "      <td>...</td>\n",
       "      <td>...</td>\n",
       "      <td>...</td>\n",
       "      <td>...</td>\n",
       "    </tr>\n",
       "    <tr>\n",
       "      <th>672</th>\n",
       "      <td>Dhivehi</td>\n",
       "      <td>Russian</td>\n",
       "      <td>1</td>\n",
       "      <td>0.000490</td>\n",
       "      <td>1.024183</td>\n",
       "    </tr>\n",
       "    <tr>\n",
       "      <th>673</th>\n",
       "      <td>Dhivehi</td>\n",
       "      <td>Italian</td>\n",
       "      <td>1</td>\n",
       "      <td>0.000108</td>\n",
       "      <td>1.005325</td>\n",
       "    </tr>\n",
       "    <tr>\n",
       "      <th>674</th>\n",
       "      <td>Danish</td>\n",
       "      <td>Yue</td>\n",
       "      <td>1</td>\n",
       "      <td>0.000004</td>\n",
       "      <td>1.000174</td>\n",
       "    </tr>\n",
       "    <tr>\n",
       "      <th>675</th>\n",
       "      <td>Japanese</td>\n",
       "      <td>Serbian</td>\n",
       "      <td>1</td>\n",
       "      <td>0.000012</td>\n",
       "      <td>1.000589</td>\n",
       "    </tr>\n",
       "    <tr>\n",
       "      <th>676</th>\n",
       "      <td>Afghan</td>\n",
       "      <td>Croatian</td>\n",
       "      <td>1</td>\n",
       "      <td>0.005682</td>\n",
       "      <td>1.280303</td>\n",
       "    </tr>\n",
       "  </tbody>\n",
       "</table>\n",
       "<p>677 rows × 5 columns</p>\n",
       "</div>"
      ],
      "text/plain": [
       "    from_language to_language  count  relative_count  scaled_relative_count\n",
       "0         English     English  34503        0.000007               1.000340\n",
       "1         English      German   8853        0.000019               1.000921\n",
       "2         English     Swedish   5881        0.000005               1.000260\n",
       "3           Dutch     English   5034        0.000024               1.001181\n",
       "4         English    Japanese   4277        0.000027               1.001335\n",
       "..            ...         ...    ...             ...                    ...\n",
       "672       Dhivehi     Russian      1        0.000490               1.024183\n",
       "673       Dhivehi     Italian      1        0.000108               1.005325\n",
       "674        Danish         Yue      1        0.000004               1.000174\n",
       "675      Japanese     Serbian      1        0.000012               1.000589\n",
       "676        Afghan    Croatian      1        0.005682               1.280303\n",
       "\n",
       "[677 rows x 5 columns]"
      ]
     },
     "execution_count": 352,
     "metadata": {},
     "output_type": "execute_result"
    }
   ],
   "source": [
    "scaled_relative = []\n",
    "mini = lang_count_df.relative_count.min()\n",
    "maxi = lang_count_df.relative_count.max()\n",
    "\n",
    "new_mini = 1.\n",
    "new_maxi = 5.\n",
    "\n",
    "for indx, row in lang_count_df.iterrows():\n",
    "    scaled_relative.append((new_maxi-new_mini) * row[\"relative_count\"] / maxi + new_mini)\n",
    "lang_count_df[\"scaled_relative_count\"] = scaled_relative\n",
    "\n",
    "lang_count_df"
   ]
  },
  {
   "cell_type": "markdown",
   "metadata": {},
   "source": [
    "Add number of users who belong to this language"
   ]
  },
  {
   "cell_type": "code",
   "execution_count": 353,
   "metadata": {},
   "outputs": [
    {
     "data": {
      "text/plain": [
       "{'Vietnamese': 1.004720563183712,\n",
       " 'Macedonian': 1.0002052418775527,\n",
       " 'Luxembourgish': 1.0085791104817028,\n",
       " 'Tajik': 1.0000410483755104,\n",
       " 'Bosnian': 1.000451532130616,\n",
       " 'Danish': 1.0332491841635367,\n",
       " 'Italian': 1.0633786917882724,\n",
       " 'Bangla': 1.0002462902530633,\n",
       " 'Ukrainian': 1.003119676538801,\n",
       " 'Punjabi': 1.0016419350204215,\n",
       " 'Seychellois': 1.000082096751021,\n",
       " 'Finnish': 1.0235617675430495,\n",
       " 'Afghan': 1.0001231451265316,\n",
       " 'Hindi': 1.015598382694005,\n",
       " 'Kyrgyz': 1.0001231451265316,\n",
       " 'English': 5.0,\n",
       " 'Slovene': 1.0029965314122693,\n",
       " 'Asante': 1.0016419350204215,\n",
       " 'Persian': 1.0009441126367424,\n",
       " 'Serbian': 1.0023808057796113,\n",
       " 'Kinyarwanda': 1.0000410483755104,\n",
       " 'Nepali': 1.0002052418775527,\n",
       " 'Khmer': 1.0002052418775527,\n",
       " 'Arabic': 1.1073825503355705,\n",
       " 'Icelandic': 1.000697822383679,\n",
       " 'Slovak': 1.00303757978778,\n",
       " 'Thai': 1.0706442542536379,\n",
       " 'Hungarian': 1.0105494325062085,\n",
       " 'Creole': 1.0001641935020422,\n",
       " 'Setswana': 1.000082096751021,\n",
       " 'Sinhala': 1.0002873386285738,\n",
       " 'Malay': 1.0068550787102601,\n",
       " 'Hebrew': 1.0073476592163866,\n",
       " 'Romanian': 1.0060751595755597,\n",
       " 'German': 1.349896352851836,\n",
       " 'Mongolian': 1.0000410483755104,\n",
       " 'Shona': 1.0000410483755104,\n",
       " 'Dutch': 1.1601297128666133,\n",
       " 'Korean': 1.02512160581245,\n",
       " 'Bemba': 1.0001231451265316,\n",
       " 'Croatian': 1.0066498368327073,\n",
       " 'Estonian': 1.0039406440490117,\n",
       " 'Makhuwa': 1.001149354514295,\n",
       " 'Kazakh': 1.0000410483755104,\n",
       " 'Lithuanian': 1.0002462902530633,\n",
       " 'Bahasa': 1.048888615233052,\n",
       " 'Sharchhopka': 1.0000410483755104,\n",
       " 'Greek': 1.03197668452271,\n",
       " 'Oshiwambo': 1.0001231451265316,\n",
       " 'Kiswahili': 1.000082096751021,\n",
       " 'Albanian': 1.000082096751021,\n",
       " 'Somali': 1.0000410483755104,\n",
       " 'Lao': 1.0000410483755104,\n",
       " 'Polish': 1.0097695133715083,\n",
       " 'Tok': 1.0000410483755104,\n",
       " 'Yue': 1.0283644274777826,\n",
       " 'Mandarin': 1.0159267696980891,\n",
       " 'Georgian': 1.0001231451265316,\n",
       " 'isiZulu': 1.0107957227592719,\n",
       " 'Portuguese': 1.0544711943024856,\n",
       " 'Maltese': 1.0006567740081687,\n",
       " 'French': 1.050161114873879,\n",
       " 'Uzbek': 1.0001231451265316,\n",
       " 'Catalan': 1.0000410483755104,\n",
       " 'Moldovan/Romanian': 1.0001641935020422,\n",
       " 'Latvian': 1.0012314512653162,\n",
       " 'Bokmal': 1.1749892248014284,\n",
       " 'Cebuano': 1.0138743509225623,\n",
       " 'Bulgarian': 1.001600886644911,\n",
       " 'Spanish': 1.1130882745315354,\n",
       " 'Palauan': 1.000451532130616,\n",
       " 'Dhivehi': 1.0004925805061264,\n",
       " 'Turkish': 1.008209675102108,\n",
       " 'I-Kiribati': 1.0000410483755104,\n",
       " 'Japanese': 1.1525357633971636,\n",
       " 'Swedish': 1.7731051043654946,\n",
       " 'Russian': 1.0139564476735834,\n",
       " 'Azerbaijani': 1.0002873386285738}"
      ]
     },
     "execution_count": 353,
     "metadata": {},
     "output_type": "execute_result"
    }
   ],
   "source": [
    "unique_languages = set(lang_count_df[\"from_language\"].to_list() + lang_count_df[\"to_language\"].to_list())\n",
    "nr_users_language_og = {l: len(homes_B[homes_B.languages == l]) + len(homes_G[homes_G.languages == l]) for l in unique_languages}\n",
    "\n",
    "nr_users_language = {}\n",
    "\n",
    "maxi = max(nr_users_language_og.values())\n",
    "\n",
    "# scale\n",
    "for k, v in nr_users_language_og.items():\n",
    "    nr_users_language[k] = (new_maxi-new_mini) * v / maxi + new_mini\n",
    "\n",
    "\n",
    "nr_users_language"
   ]
  },
  {
   "cell_type": "markdown",
   "metadata": {},
   "source": [
    "## Generating a network Graph for Religions"
   ]
  },
  {
   "cell_type": "code",
   "execution_count": 367,
   "metadata": {},
   "outputs": [
    {
     "data": {
      "application/vnd.plotly.v1+json": {
       "config": {
        "plotlyServerURL": "https://plot.ly"
       },
       "data": [
        {
         "hoverinfo": "text",
         "line": {
          "color": "peru",
          "width": 1.5471396944080222
         },
         "mode": "lines",
         "text": [
          "<b>676</b>"
         ],
         "type": "scatter",
         "x": [
          0.22064574790094693,
          -0.10529113205191454,
          null
         ],
         "y": [
          1,
          -0.7366752898732973,
          null
         ]
        },
        {
         "hoverinfo": "text",
         "line": {
          "color": "peru",
          "width": 1.5816466449470479
         },
         "mode": "lines",
         "text": [
          "<b>170</b>"
         ],
         "type": "scatter",
         "x": [
          0.22064574790094693,
          -0.3751289652353157,
          null
         ],
         "y": [
          1,
          0.6828089808224568,
          null
         ]
        },
        {
         "hoverinfo": "text",
         "line": {
          "color": "peru",
          "width": 1.1649910890237092
         },
         "mode": "lines",
         "text": [
          "<b>98</b>"
         ],
         "type": "scatter",
         "x": [
          0.22064574790094693,
          0.26130447887295555,
          null
         ],
         "y": [
          1,
          0.1298568477662383,
          null
         ]
        },
        {
         "hoverinfo": "text",
         "line": {
          "color": "peru",
          "width": 2.9863233713569426
         },
         "mode": "lines",
         "text": [
          "<b>70</b>"
         ],
         "type": "scatter",
         "x": [
          0.22064574790094693,
          -0.8272675554301347,
          null
         ],
         "y": [
          1,
          0.35045410583796305,
          null
         ]
        },
        {
         "hoverinfo": "text",
         "line": {
          "color": "peru",
          "width": 1.0694815227449666
         },
         "mode": "lines",
         "text": [
          "<b>22</b>"
         ],
         "type": "scatter",
         "x": [
          0.22064574790094693,
          0.860543414839318,
          null
         ],
         "y": [
          1,
          -0.19755394749005334,
          null
         ]
        },
        {
         "hoverinfo": "text",
         "line": {
          "color": "peru",
          "width": 1.931177985508028
         },
         "mode": "lines",
         "text": [
          "<b>5</b>"
         ],
         "type": "scatter",
         "x": [
          0.22064574790094693,
          0.872108302665888,
          null
         ],
         "y": [
          1,
          0.6312177971707107,
          null
         ]
        },
        {
         "hoverinfo": "text",
         "line": {
          "color": "peru",
          "width": 0.9167783901230476
         },
         "mode": "lines",
         "text": [
          "<b>5</b>"
         ],
         "type": "scatter",
         "x": [
          0.22064574790094693,
          0.5257243848773876,
          null
         ],
         "y": [
          1,
          -0.7802393124547236,
          null
         ]
        },
        {
         "hoverinfo": "text",
         "line": {
          "color": "peru",
          "width": 1.2561991709362923
         },
         "mode": "lines",
         "text": [
          "<b>4</b>"
         ],
         "type": "scatter",
         "x": [
          0.22064574790094693,
          -0.4572116068612718,
          null
         ],
         "y": [
          1,
          -0.18900695373702386,
          null
         ]
        },
        {
         "hoverinfo": "text",
         "line": {
          "color": "peru",
          "width": 0.9914122196657636
         },
         "mode": "lines",
         "text": [
          "<b>23500</b>"
         ],
         "type": "scatter",
         "x": [
          0.26130447887295555,
          -0.10529113205191454,
          null
         ],
         "y": [
          0.1298568477662383,
          -0.7366752898732973,
          null
         ]
        },
        {
         "hoverinfo": "text",
         "line": {
          "color": "peru",
          "width": 1.0064425266508454
         },
         "mode": "lines",
         "text": [
          "<b>6322</b>"
         ],
         "type": "scatter",
         "x": [
          0.26130447887295555,
          -0.3751289652353157,
          null
         ],
         "y": [
          0.1298568477662383,
          0.6828089808224568,
          null
         ]
        },
        {
         "hoverinfo": "text",
         "line": {
          "color": "peru",
          "width": 1.0345754918037264
         },
         "mode": "lines",
         "text": [
          "<b>2303</b>"
         ],
         "type": "scatter",
         "x": [
          0.26130447887295555,
          0.5257243848773876,
          null
         ],
         "y": [
          0.1298568477662383,
          -0.7802393124547236,
          null
         ]
        },
        {
         "hoverinfo": "text",
         "line": {
          "color": "peru",
          "width": 0.9402112458167278
         },
         "mode": "lines",
         "text": [
          "<b>1173</b>"
         ],
         "type": "scatter",
         "x": [
          0.26130447887295555,
          0.860543414839318,
          null
         ],
         "y": [
          0.1298568477662383,
          -0.19755394749005334,
          null
         ]
        },
        {
         "hoverinfo": "text",
         "line": {
          "color": "peru",
          "width": 0.9797883359011517
         },
         "mode": "lines",
         "text": [
          "<b>1144</b>"
         ],
         "type": "scatter",
         "x": [
          0.26130447887295555,
          -0.8272675554301347,
          null
         ],
         "y": [
          0.1298568477662383,
          0.35045410583796305,
          null
         ]
        },
        {
         "hoverinfo": "text",
         "line": {
          "color": "peru",
          "width": 0.8568369061416451
         },
         "mode": "lines",
         "text": [
          "<b>1046</b>"
         ],
         "type": "scatter",
         "x": [
          0.26130447887295555,
          0.26130447887295555,
          null
         ],
         "y": [
          0.1298568477662383,
          0.1298568477662383,
          null
         ]
        },
        {
         "hoverinfo": "text",
         "line": {
          "color": "peru",
          "width": 1.0441105206913959
         },
         "mode": "lines",
         "text": [
          "<b>250</b>"
         ],
         "type": "scatter",
         "x": [
          0.26130447887295555,
          -0.4572116068612718,
          null
         ],
         "y": [
          0.1298568477662383,
          -0.18900695373702386,
          null
         ]
        },
        {
         "hoverinfo": "text",
         "line": {
          "color": "peru",
          "width": 1.1649123556449463
         },
         "mode": "lines",
         "text": [
          "<b>136</b>"
         ],
         "type": "scatter",
         "x": [
          0.26130447887295555,
          0.872108302665888,
          null
         ],
         "y": [
          0.1298568477662383,
          0.6312177971707107,
          null
         ]
        },
        {
         "hoverinfo": "text",
         "line": {
          "color": "peru",
          "width": 0.9266166452662122
         },
         "mode": "lines",
         "text": [
          "<b>13</b>"
         ],
         "type": "scatter",
         "x": [
          0.26130447887295555,
          -0.9754270695778628,
          null
         ],
         "y": [
          0.1298568477662383,
          -0.8908622280422714,
          null
         ]
        },
        {
         "hoverinfo": "text",
         "line": {
          "color": "peru",
          "width": 1.1575987805326582
         },
         "mode": "lines",
         "text": [
          "<b>32212</b>"
         ],
         "type": "scatter",
         "x": [
          -0.3751289652353157,
          -0.10529113205191454,
          null
         ],
         "y": [
          0.6828089808224568,
          -0.7366752898732973,
          null
         ]
        },
        {
         "hoverinfo": "text",
         "line": {
          "color": "peru",
          "width": 1.0248797647694508
         },
         "mode": "lines",
         "text": [
          "<b>4690</b>"
         ],
         "type": "scatter",
         "x": [
          -0.3751289652353157,
          -0.3751289652353157,
          null
         ],
         "y": [
          0.6828089808224568,
          0.6828089808224568,
          null
         ]
        },
        {
         "hoverinfo": "text",
         "line": {
          "color": "peru",
          "width": 1.0581598650200026
         },
         "mode": "lines",
         "text": [
          "<b>1838</b>"
         ],
         "type": "scatter",
         "x": [
          -0.3751289652353157,
          0.860543414839318,
          null
         ],
         "y": [
          0.6828089808224568,
          -0.19755394749005334,
          null
         ]
        },
        {
         "hoverinfo": "text",
         "line": {
          "color": "peru",
          "width": 0.9910963915014497
         },
         "mode": "lines",
         "text": [
          "<b>1119</b>"
         ],
         "type": "scatter",
         "x": [
          -0.3751289652353157,
          0.5257243848773876,
          null
         ],
         "y": [
          0.6828089808224568,
          -0.7802393124547236,
          null
         ]
        },
        {
         "hoverinfo": "text",
         "line": {
          "color": "peru",
          "width": 1.0060818164619152
         },
         "mode": "lines",
         "text": [
          "<b>832</b>"
         ],
         "type": "scatter",
         "x": [
          -0.3751289652353157,
          -0.8272675554301347,
          null
         ],
         "y": [
          0.6828089808224568,
          0.35045410583796305,
          null
         ]
        },
        {
         "hoverinfo": "text",
         "line": {
          "color": "peru",
          "width": 1.1689936997372592
         },
         "mode": "lines",
         "text": [
          "<b>286</b>"
         ],
         "type": "scatter",
         "x": [
          -0.3751289652353157,
          -0.4572116068612718,
          null
         ],
         "y": [
          0.6828089808224568,
          -0.18900695373702386,
          null
         ]
        },
        {
         "hoverinfo": "text",
         "line": {
          "color": "peru",
          "width": 1.422957806585172
         },
         "mode": "lines",
         "text": [
          "<b>207</b>"
         ],
         "type": "scatter",
         "x": [
          -0.3751289652353157,
          0.872108302665888,
          null
         ],
         "y": [
          0.6828089808224568,
          0.6312177971707107,
          null
         ]
        },
        {
         "hoverinfo": "text",
         "line": {
          "color": "peru",
          "width": 1.4672659177825287
         },
         "mode": "lines",
         "text": [
          "<b>55</b>"
         ],
         "type": "scatter",
         "x": [
          -0.3751289652353157,
          -0.9754270695778628,
          null
         ],
         "y": [
          0.6828089808224568,
          -0.8908622280422714,
          null
         ]
        },
        {
         "hoverinfo": "text",
         "line": {
          "color": "peru",
          "width": 1.4131733668519184
         },
         "mode": "lines",
         "text": [
          "<b>849</b>"
         ],
         "type": "scatter",
         "x": [
          0.872108302665888,
          -0.10529113205191454,
          null
         ],
         "y": [
          0.6312177971707107,
          -0.7366752898732973,
          null
         ]
        },
        {
         "hoverinfo": "text",
         "line": {
          "color": "peru",
          "width": 1.265076301682503
         },
         "mode": "lines",
         "text": [
          "<b>62</b>"
         ],
         "type": "scatter",
         "x": [
          0.872108302665888,
          0.860543414839318,
          null
         ],
         "y": [
          0.6312177971707107,
          -0.19755394749005334,
          null
         ]
        },
        {
         "hoverinfo": "text",
         "line": {
          "color": "peru",
          "width": 1.3700361453755354
         },
         "mode": "lines",
         "text": [
          "<b>30</b>"
         ],
         "type": "scatter",
         "x": [
          0.872108302665888,
          -0.8272675554301347,
          null
         ],
         "y": [
          0.6312177971707107,
          0.35045410583796305,
          null
         ]
        },
        {
         "hoverinfo": "text",
         "line": {
          "color": "peru",
          "width": 1.0262192343136622
         },
         "mode": "lines",
         "text": [
          "<b>17</b>"
         ],
         "type": "scatter",
         "x": [
          0.872108302665888,
          0.5257243848773876,
          null
         ],
         "y": [
          0.6312177971707107,
          -0.7802393124547236,
          null
         ]
        },
        {
         "hoverinfo": "text",
         "line": {
          "color": "peru",
          "width": 1.3076843910814522
         },
         "mode": "lines",
         "text": [
          "<b>7</b>"
         ],
         "type": "scatter",
         "x": [
          0.872108302665888,
          -0.4572116068612718,
          null
         ],
         "y": [
          0.6312177971707107,
          -0.18900695373702386,
          null
         ]
        },
        {
         "hoverinfo": "text",
         "line": {
          "color": "peru",
          "width": 0.9496389450554769
         },
         "mode": "lines",
         "text": [
          "<b>3339</b>"
         ],
         "type": "scatter",
         "x": [
          0.5257243848773876,
          -0.10529113205191454,
          null
         ],
         "y": [
          -0.7802393124547236,
          -0.7366752898732973,
          null
         ]
        },
        {
         "hoverinfo": "text",
         "line": {
          "color": "peru",
          "width": 0.9359489103546265
         },
         "mode": "lines",
         "text": [
          "<b>220</b>"
         ],
         "type": "scatter",
         "x": [
          0.5257243848773876,
          0.5257243848773876,
          null
         ],
         "y": [
          -0.7802393124547236,
          -0.7802393124547236,
          null
         ]
        },
        {
         "hoverinfo": "text",
         "line": {
          "color": "peru",
          "width": 0.9116225680631708
         },
         "mode": "lines",
         "text": [
          "<b>168</b>"
         ],
         "type": "scatter",
         "x": [
          0.5257243848773876,
          0.860543414839318,
          null
         ],
         "y": [
          -0.7802393124547236,
          -0.19755394749005334,
          null
         ]
        },
        {
         "hoverinfo": "text",
         "line": {
          "color": "peru",
          "width": 0.8871834578330301
         },
         "mode": "lines",
         "text": [
          "<b>74</b>"
         ],
         "type": "scatter",
         "x": [
          0.5257243848773876,
          -0.8272675554301347,
          null
         ],
         "y": [
          -0.7802393124547236,
          0.35045410583796305,
          null
         ]
        },
        {
         "hoverinfo": "text",
         "line": {
          "color": "peru",
          "width": 1.075191120001753
         },
         "mode": "lines",
         "text": [
          "<b>57</b>"
         ],
         "type": "scatter",
         "x": [
          0.5257243848773876,
          -0.4572116068612718,
          null
         ],
         "y": [
          -0.7802393124547236,
          -0.18900695373702386,
          null
         ]
        },
        {
         "hoverinfo": "text",
         "line": {
          "color": "peru",
          "width": 0.8747592436509988
         },
         "mode": "lines",
         "text": [
          "<b>1</b>"
         ],
         "type": "scatter",
         "x": [
          0.5257243848773876,
          -0.9754270695778628,
          null
         ],
         "y": [
          -0.7802393124547236,
          -0.8908622280422714,
          null
         ]
        },
        {
         "hoverinfo": "text",
         "line": {
          "color": "peru",
          "width": 1.0471586744949297
         },
         "mode": "lines",
         "text": [
          "<b>7215</b>"
         ],
         "type": "scatter",
         "x": [
          -0.10529113205191454,
          0.860543414839318,
          null
         ],
         "y": [
          -0.7366752898732973,
          -0.19755394749005334,
          null
         ]
        },
        {
         "hoverinfo": "text",
         "line": {
          "color": "peru",
          "width": 0.8535926989715327
         },
         "mode": "lines",
         "text": [
          "<b>5674</b>"
         ],
         "type": "scatter",
         "x": [
          -0.10529113205191454,
          -0.10529113205191454,
          null
         ],
         "y": [
          -0.7366752898732973,
          -0.7366752898732973,
          null
         ]
        },
        {
         "hoverinfo": "text",
         "line": {
          "color": "peru",
          "width": 1.0249150052710991
         },
         "mode": "lines",
         "text": [
          "<b>3766</b>"
         ],
         "type": "scatter",
         "x": [
          -0.10529113205191454,
          -0.8272675554301347,
          null
         ],
         "y": [
          -0.7366752898732973,
          0.35045410583796305,
          null
         ]
        },
        {
         "hoverinfo": "text",
         "line": {
          "color": "peru",
          "width": 1.0915256762888472
         },
         "mode": "lines",
         "text": [
          "<b>915</b>"
         ],
         "type": "scatter",
         "x": [
          -0.10529113205191454,
          -0.4572116068612718,
          null
         ],
         "y": [
          -0.7366752898732973,
          -0.18900695373702386,
          null
         ]
        },
        {
         "hoverinfo": "text",
         "line": {
          "color": "peru",
          "width": 1.0117420587926584
         },
         "mode": "lines",
         "text": [
          "<b>67</b>"
         ],
         "type": "scatter",
         "x": [
          -0.10529113205191454,
          -0.9754270695778628,
          null
         ],
         "y": [
          -0.7366752898732973,
          -0.8908622280422714,
          null
         ]
        },
        {
         "hoverinfo": "text",
         "line": {
          "color": "peru",
          "width": 1.135317380220841
         },
         "mode": "lines",
         "text": [
          "<b>877</b>"
         ],
         "type": "scatter",
         "x": [
          0.860543414839318,
          0.860543414839318,
          null
         ],
         "y": [
          -0.19755394749005334,
          -0.19755394749005334,
          null
         ]
        },
        {
         "hoverinfo": "text",
         "line": {
          "color": "peru",
          "width": 1.0882469272188056
         },
         "mode": "lines",
         "text": [
          "<b>380</b>"
         ],
         "type": "scatter",
         "x": [
          0.860543414839318,
          -0.8272675554301347,
          null
         ],
         "y": [
          -0.19755394749005334,
          0.35045410583796305,
          null
         ]
        },
        {
         "hoverinfo": "text",
         "line": {
          "color": "peru",
          "width": 1.1191635231244788
         },
         "mode": "lines",
         "text": [
          "<b>87</b>"
         ],
         "type": "scatter",
         "x": [
          0.860543414839318,
          -0.4572116068612718,
          null
         ],
         "y": [
          -0.19755394749005334,
          -0.18900695373702386,
          null
         ]
        },
        {
         "hoverinfo": "text",
         "line": {
          "color": "peru",
          "width": 0.935987058319944
         },
         "mode": "lines",
         "text": [
          "<b>3</b>"
         ],
         "type": "scatter",
         "x": [
          0.860543414839318,
          -0.9754270695778628,
          null
         ],
         "y": [
          -0.19755394749005334,
          -0.8908622280422714,
          null
         ]
        },
        {
         "hoverinfo": "text",
         "line": {
          "color": "peru",
          "width": 4.179626906102637
         },
         "mode": "lines",
         "text": [
          "<b>77</b>"
         ],
         "type": "scatter",
         "x": [
          -0.4572116068612718,
          -0.4572116068612718,
          null
         ],
         "y": [
          -0.18900695373702386,
          -0.18900695373702386,
          null
         ]
        },
        {
         "hoverinfo": "text",
         "line": {
          "color": "peru",
          "width": 1.0598650781220098
         },
         "mode": "lines",
         "text": [
          "<b>36</b>"
         ],
         "type": "scatter",
         "x": [
          -0.4572116068612718,
          -0.8272675554301347,
          null
         ],
         "y": [
          -0.18900695373702386,
          0.35045410583796305,
          null
         ]
        },
        {
         "hoverinfo": "text",
         "line": {
          "color": "peru",
          "width": 1.9067453480352816
         },
         "mode": "lines",
         "text": [
          "<b>3</b>"
         ],
         "type": "scatter",
         "x": [
          -0.4572116068612718,
          -0.9754270695778628,
          null
         ],
         "y": [
          -0.18900695373702386,
          -0.8908622280422714,
          null
         ]
        },
        {
         "hoverinfo": "text",
         "line": {
          "color": "peru",
          "width": 0.8908485039714656
         },
         "mode": "lines",
         "text": [
          "<b>1</b>"
         ],
         "type": "scatter",
         "x": [
          -0.9754270695778628,
          -0.8272675554301347,
          null
         ],
         "y": [
          -0.8908622280422714,
          0.35045410583796305,
          null
         ]
        },
        {
         "hoverinfo": "text",
         "line": {
          "color": "peru",
          "width": 1.9120173857180658
         },
         "mode": "lines",
         "text": [
          "<b>974</b>"
         ],
         "type": "scatter",
         "x": [
          -0.8272675554301347,
          -0.8272675554301347,
          null
         ],
         "y": [
          0.35045410583796305,
          0.35045410583796305,
          null
         ]
        },
        {
         "hoverinfo": "text",
         "marker": {
          "color": [
           "peru",
           "peru",
           "peru",
           "peru",
           "peru",
           "peru",
           "peru",
           "peru",
           "peru",
           "peru"
          ],
          "size": [
           15.04198334319392,
           19.89157147408183,
           18.634289810221635,
           15.06655895872207,
           15.98012333318163,
           30,
           16.309334182860784,
           15.136872525372047,
           15.013141127747689,
           15.658933691348473
          ]
         },
         "mode": "markers",
         "text": [
          "<b>Anglican</b><br># of Practitioners: 246",
          "<b>Christianity</b><br># of Practitioners: 28662",
          "<b>Roman Catholic</b><br># of Practitioners: 21295",
          "<b>Hinduism</b><br># of Practitioners: 390",
          "<b>Evangelical</b><br># of Practitioners: 5743",
          "<b>Protestant</b><br># of Practitioners: 87892",
          "<b>Buddhism</b><br># of Practitioners: 7672",
          "<b>Orthodox</b><br># of Practitioners: 802",
          "<b>Catholic</b><br># of Practitioners: 77",
          "<b>Islam</b><br># of Practitioners: 3861"
         ],
         "textfont": {
          "size": 10
         },
         "textposition": "top center",
         "type": "scatter",
         "x": [
          0.22064574790094693,
          0.26130447887295555,
          -0.3751289652353157,
          0.872108302665888,
          0.5257243848773876,
          -0.10529113205191454,
          0.860543414839318,
          -0.4572116068612718,
          -0.9754270695778628,
          -0.8272675554301347
         ],
         "y": [
          1,
          0.1298568477662383,
          0.6828089808224568,
          0.6312177971707107,
          -0.7802393124547236,
          -0.7366752898732973,
          -0.19755394749005334,
          -0.18900695373702386,
          -0.8908622280422714,
          0.35045410583796305
         ]
        }
       ],
       "layout": {
        "paper_bgcolor": "rgba(0,0,0,0)",
        "plot_bgcolor": "seashell",
        "showlegend": false,
        "template": {
         "data": {
          "bar": [
           {
            "error_x": {
             "color": "#2a3f5f"
            },
            "error_y": {
             "color": "#2a3f5f"
            },
            "marker": {
             "line": {
              "color": "#E5ECF6",
              "width": 0.5
             }
            },
            "type": "bar"
           }
          ],
          "barpolar": [
           {
            "marker": {
             "line": {
              "color": "#E5ECF6",
              "width": 0.5
             }
            },
            "type": "barpolar"
           }
          ],
          "carpet": [
           {
            "aaxis": {
             "endlinecolor": "#2a3f5f",
             "gridcolor": "white",
             "linecolor": "white",
             "minorgridcolor": "white",
             "startlinecolor": "#2a3f5f"
            },
            "baxis": {
             "endlinecolor": "#2a3f5f",
             "gridcolor": "white",
             "linecolor": "white",
             "minorgridcolor": "white",
             "startlinecolor": "#2a3f5f"
            },
            "type": "carpet"
           }
          ],
          "choropleth": [
           {
            "colorbar": {
             "outlinewidth": 0,
             "ticks": ""
            },
            "type": "choropleth"
           }
          ],
          "contour": [
           {
            "colorbar": {
             "outlinewidth": 0,
             "ticks": ""
            },
            "colorscale": [
             [
              0,
              "#0d0887"
             ],
             [
              0.1111111111111111,
              "#46039f"
             ],
             [
              0.2222222222222222,
              "#7201a8"
             ],
             [
              0.3333333333333333,
              "#9c179e"
             ],
             [
              0.4444444444444444,
              "#bd3786"
             ],
             [
              0.5555555555555556,
              "#d8576b"
             ],
             [
              0.6666666666666666,
              "#ed7953"
             ],
             [
              0.7777777777777778,
              "#fb9f3a"
             ],
             [
              0.8888888888888888,
              "#fdca26"
             ],
             [
              1,
              "#f0f921"
             ]
            ],
            "type": "contour"
           }
          ],
          "contourcarpet": [
           {
            "colorbar": {
             "outlinewidth": 0,
             "ticks": ""
            },
            "type": "contourcarpet"
           }
          ],
          "heatmap": [
           {
            "colorbar": {
             "outlinewidth": 0,
             "ticks": ""
            },
            "colorscale": [
             [
              0,
              "#0d0887"
             ],
             [
              0.1111111111111111,
              "#46039f"
             ],
             [
              0.2222222222222222,
              "#7201a8"
             ],
             [
              0.3333333333333333,
              "#9c179e"
             ],
             [
              0.4444444444444444,
              "#bd3786"
             ],
             [
              0.5555555555555556,
              "#d8576b"
             ],
             [
              0.6666666666666666,
              "#ed7953"
             ],
             [
              0.7777777777777778,
              "#fb9f3a"
             ],
             [
              0.8888888888888888,
              "#fdca26"
             ],
             [
              1,
              "#f0f921"
             ]
            ],
            "type": "heatmap"
           }
          ],
          "heatmapgl": [
           {
            "colorbar": {
             "outlinewidth": 0,
             "ticks": ""
            },
            "colorscale": [
             [
              0,
              "#0d0887"
             ],
             [
              0.1111111111111111,
              "#46039f"
             ],
             [
              0.2222222222222222,
              "#7201a8"
             ],
             [
              0.3333333333333333,
              "#9c179e"
             ],
             [
              0.4444444444444444,
              "#bd3786"
             ],
             [
              0.5555555555555556,
              "#d8576b"
             ],
             [
              0.6666666666666666,
              "#ed7953"
             ],
             [
              0.7777777777777778,
              "#fb9f3a"
             ],
             [
              0.8888888888888888,
              "#fdca26"
             ],
             [
              1,
              "#f0f921"
             ]
            ],
            "type": "heatmapgl"
           }
          ],
          "histogram": [
           {
            "marker": {
             "colorbar": {
              "outlinewidth": 0,
              "ticks": ""
             }
            },
            "type": "histogram"
           }
          ],
          "histogram2d": [
           {
            "colorbar": {
             "outlinewidth": 0,
             "ticks": ""
            },
            "colorscale": [
             [
              0,
              "#0d0887"
             ],
             [
              0.1111111111111111,
              "#46039f"
             ],
             [
              0.2222222222222222,
              "#7201a8"
             ],
             [
              0.3333333333333333,
              "#9c179e"
             ],
             [
              0.4444444444444444,
              "#bd3786"
             ],
             [
              0.5555555555555556,
              "#d8576b"
             ],
             [
              0.6666666666666666,
              "#ed7953"
             ],
             [
              0.7777777777777778,
              "#fb9f3a"
             ],
             [
              0.8888888888888888,
              "#fdca26"
             ],
             [
              1,
              "#f0f921"
             ]
            ],
            "type": "histogram2d"
           }
          ],
          "histogram2dcontour": [
           {
            "colorbar": {
             "outlinewidth": 0,
             "ticks": ""
            },
            "colorscale": [
             [
              0,
              "#0d0887"
             ],
             [
              0.1111111111111111,
              "#46039f"
             ],
             [
              0.2222222222222222,
              "#7201a8"
             ],
             [
              0.3333333333333333,
              "#9c179e"
             ],
             [
              0.4444444444444444,
              "#bd3786"
             ],
             [
              0.5555555555555556,
              "#d8576b"
             ],
             [
              0.6666666666666666,
              "#ed7953"
             ],
             [
              0.7777777777777778,
              "#fb9f3a"
             ],
             [
              0.8888888888888888,
              "#fdca26"
             ],
             [
              1,
              "#f0f921"
             ]
            ],
            "type": "histogram2dcontour"
           }
          ],
          "mesh3d": [
           {
            "colorbar": {
             "outlinewidth": 0,
             "ticks": ""
            },
            "type": "mesh3d"
           }
          ],
          "parcoords": [
           {
            "line": {
             "colorbar": {
              "outlinewidth": 0,
              "ticks": ""
             }
            },
            "type": "parcoords"
           }
          ],
          "pie": [
           {
            "automargin": true,
            "type": "pie"
           }
          ],
          "scatter": [
           {
            "marker": {
             "colorbar": {
              "outlinewidth": 0,
              "ticks": ""
             }
            },
            "type": "scatter"
           }
          ],
          "scatter3d": [
           {
            "line": {
             "colorbar": {
              "outlinewidth": 0,
              "ticks": ""
             }
            },
            "marker": {
             "colorbar": {
              "outlinewidth": 0,
              "ticks": ""
             }
            },
            "type": "scatter3d"
           }
          ],
          "scattercarpet": [
           {
            "marker": {
             "colorbar": {
              "outlinewidth": 0,
              "ticks": ""
             }
            },
            "type": "scattercarpet"
           }
          ],
          "scattergeo": [
           {
            "marker": {
             "colorbar": {
              "outlinewidth": 0,
              "ticks": ""
             }
            },
            "type": "scattergeo"
           }
          ],
          "scattergl": [
           {
            "marker": {
             "colorbar": {
              "outlinewidth": 0,
              "ticks": ""
             }
            },
            "type": "scattergl"
           }
          ],
          "scattermapbox": [
           {
            "marker": {
             "colorbar": {
              "outlinewidth": 0,
              "ticks": ""
             }
            },
            "type": "scattermapbox"
           }
          ],
          "scatterpolar": [
           {
            "marker": {
             "colorbar": {
              "outlinewidth": 0,
              "ticks": ""
             }
            },
            "type": "scatterpolar"
           }
          ],
          "scatterpolargl": [
           {
            "marker": {
             "colorbar": {
              "outlinewidth": 0,
              "ticks": ""
             }
            },
            "type": "scatterpolargl"
           }
          ],
          "scatterternary": [
           {
            "marker": {
             "colorbar": {
              "outlinewidth": 0,
              "ticks": ""
             }
            },
            "type": "scatterternary"
           }
          ],
          "surface": [
           {
            "colorbar": {
             "outlinewidth": 0,
             "ticks": ""
            },
            "colorscale": [
             [
              0,
              "#0d0887"
             ],
             [
              0.1111111111111111,
              "#46039f"
             ],
             [
              0.2222222222222222,
              "#7201a8"
             ],
             [
              0.3333333333333333,
              "#9c179e"
             ],
             [
              0.4444444444444444,
              "#bd3786"
             ],
             [
              0.5555555555555556,
              "#d8576b"
             ],
             [
              0.6666666666666666,
              "#ed7953"
             ],
             [
              0.7777777777777778,
              "#fb9f3a"
             ],
             [
              0.8888888888888888,
              "#fdca26"
             ],
             [
              1,
              "#f0f921"
             ]
            ],
            "type": "surface"
           }
          ],
          "table": [
           {
            "cells": {
             "fill": {
              "color": "#EBF0F8"
             },
             "line": {
              "color": "white"
             }
            },
            "header": {
             "fill": {
              "color": "#C8D4E3"
             },
             "line": {
              "color": "white"
             }
            },
            "type": "table"
           }
          ]
         },
         "layout": {
          "annotationdefaults": {
           "arrowcolor": "#2a3f5f",
           "arrowhead": 0,
           "arrowwidth": 1
          },
          "autotypenumbers": "strict",
          "coloraxis": {
           "colorbar": {
            "outlinewidth": 0,
            "ticks": ""
           }
          },
          "colorscale": {
           "diverging": [
            [
             0,
             "#8e0152"
            ],
            [
             0.1,
             "#c51b7d"
            ],
            [
             0.2,
             "#de77ae"
            ],
            [
             0.3,
             "#f1b6da"
            ],
            [
             0.4,
             "#fde0ef"
            ],
            [
             0.5,
             "#f7f7f7"
            ],
            [
             0.6,
             "#e6f5d0"
            ],
            [
             0.7,
             "#b8e186"
            ],
            [
             0.8,
             "#7fbc41"
            ],
            [
             0.9,
             "#4d9221"
            ],
            [
             1,
             "#276419"
            ]
           ],
           "sequential": [
            [
             0,
             "#0d0887"
            ],
            [
             0.1111111111111111,
             "#46039f"
            ],
            [
             0.2222222222222222,
             "#7201a8"
            ],
            [
             0.3333333333333333,
             "#9c179e"
            ],
            [
             0.4444444444444444,
             "#bd3786"
            ],
            [
             0.5555555555555556,
             "#d8576b"
            ],
            [
             0.6666666666666666,
             "#ed7953"
            ],
            [
             0.7777777777777778,
             "#fb9f3a"
            ],
            [
             0.8888888888888888,
             "#fdca26"
            ],
            [
             1,
             "#f0f921"
            ]
           ],
           "sequentialminus": [
            [
             0,
             "#0d0887"
            ],
            [
             0.1111111111111111,
             "#46039f"
            ],
            [
             0.2222222222222222,
             "#7201a8"
            ],
            [
             0.3333333333333333,
             "#9c179e"
            ],
            [
             0.4444444444444444,
             "#bd3786"
            ],
            [
             0.5555555555555556,
             "#d8576b"
            ],
            [
             0.6666666666666666,
             "#ed7953"
            ],
            [
             0.7777777777777778,
             "#fb9f3a"
            ],
            [
             0.8888888888888888,
             "#fdca26"
            ],
            [
             1,
             "#f0f921"
            ]
           ]
          },
          "colorway": [
           "#636efa",
           "#EF553B",
           "#00cc96",
           "#ab63fa",
           "#FFA15A",
           "#19d3f3",
           "#FF6692",
           "#B6E880",
           "#FF97FF",
           "#FECB52"
          ],
          "font": {
           "color": "#2a3f5f"
          },
          "geo": {
           "bgcolor": "white",
           "lakecolor": "white",
           "landcolor": "#E5ECF6",
           "showlakes": true,
           "showland": true,
           "subunitcolor": "white"
          },
          "hoverlabel": {
           "align": "left"
          },
          "hovermode": "closest",
          "mapbox": {
           "style": "light"
          },
          "paper_bgcolor": "white",
          "plot_bgcolor": "#E5ECF6",
          "polar": {
           "angularaxis": {
            "gridcolor": "white",
            "linecolor": "white",
            "ticks": ""
           },
           "bgcolor": "#E5ECF6",
           "radialaxis": {
            "gridcolor": "white",
            "linecolor": "white",
            "ticks": ""
           }
          },
          "scene": {
           "xaxis": {
            "backgroundcolor": "#E5ECF6",
            "gridcolor": "white",
            "gridwidth": 2,
            "linecolor": "white",
            "showbackground": true,
            "ticks": "",
            "zerolinecolor": "white"
           },
           "yaxis": {
            "backgroundcolor": "#E5ECF6",
            "gridcolor": "white",
            "gridwidth": 2,
            "linecolor": "white",
            "showbackground": true,
            "ticks": "",
            "zerolinecolor": "white"
           },
           "zaxis": {
            "backgroundcolor": "#E5ECF6",
            "gridcolor": "white",
            "gridwidth": 2,
            "linecolor": "white",
            "showbackground": true,
            "ticks": "",
            "zerolinecolor": "white"
           }
          },
          "shapedefaults": {
           "line": {
            "color": "#2a3f5f"
           }
          },
          "ternary": {
           "aaxis": {
            "gridcolor": "white",
            "linecolor": "white",
            "ticks": ""
           },
           "baxis": {
            "gridcolor": "white",
            "linecolor": "white",
            "ticks": ""
           },
           "bgcolor": "#E5ECF6",
           "caxis": {
            "gridcolor": "white",
            "linecolor": "white",
            "ticks": ""
           }
          },
          "title": {
           "x": 0.05
          },
          "xaxis": {
           "automargin": true,
           "gridcolor": "white",
           "linecolor": "white",
           "ticks": "",
           "title": {
            "standoff": 15
           },
           "zerolinecolor": "white",
           "zerolinewidth": 2
          },
          "yaxis": {
           "automargin": true,
           "gridcolor": "white",
           "linecolor": "white",
           "ticks": "",
           "title": {
            "standoff": 15
           },
           "zerolinecolor": "white",
           "zerolinewidth": 2
          }
         }
        },
        "title": {
         "text": "Friendships between religions"
        },
        "xaxis": {
         "showgrid": false,
         "showticklabels": false,
         "zeroline": false
        },
        "yaxis": {
         "showgrid": false,
         "showticklabels": false,
         "zeroline": false
        }
       }
      },
      "text/html": [
       "<div>                            <div id=\"43f739b1-bd48-4d7a-9dfe-2b5ff0674274\" class=\"plotly-graph-div\" style=\"height:525px; width:100%;\"></div>            <script type=\"text/javascript\">                require([\"plotly\"], function(Plotly) {                    window.PLOTLYENV=window.PLOTLYENV || {};                                    if (document.getElementById(\"43f739b1-bd48-4d7a-9dfe-2b5ff0674274\")) {                    Plotly.newPlot(                        \"43f739b1-bd48-4d7a-9dfe-2b5ff0674274\",                        [{\"hoverinfo\": \"text\", \"line\": {\"color\": \"peru\", \"width\": 1.5471396944080222}, \"mode\": \"lines\", \"text\": [\"<b>676</b>\"], \"type\": \"scatter\", \"x\": [0.22064574790094693, -0.10529113205191454, null], \"y\": [1.0, -0.7366752898732973, null]}, {\"hoverinfo\": \"text\", \"line\": {\"color\": \"peru\", \"width\": 1.5816466449470479}, \"mode\": \"lines\", \"text\": [\"<b>170</b>\"], \"type\": \"scatter\", \"x\": [0.22064574790094693, -0.3751289652353157, null], \"y\": [1.0, 0.6828089808224568, null]}, {\"hoverinfo\": \"text\", \"line\": {\"color\": \"peru\", \"width\": 1.1649910890237092}, \"mode\": \"lines\", \"text\": [\"<b>98</b>\"], \"type\": \"scatter\", \"x\": [0.22064574790094693, 0.26130447887295555, null], \"y\": [1.0, 0.1298568477662383, null]}, {\"hoverinfo\": \"text\", \"line\": {\"color\": \"peru\", \"width\": 2.9863233713569426}, \"mode\": \"lines\", \"text\": [\"<b>70</b>\"], \"type\": \"scatter\", \"x\": [0.22064574790094693, -0.8272675554301347, null], \"y\": [1.0, 0.35045410583796305, null]}, {\"hoverinfo\": \"text\", \"line\": {\"color\": \"peru\", \"width\": 1.0694815227449666}, \"mode\": \"lines\", \"text\": [\"<b>22</b>\"], \"type\": \"scatter\", \"x\": [0.22064574790094693, 0.860543414839318, null], \"y\": [1.0, -0.19755394749005334, null]}, {\"hoverinfo\": \"text\", \"line\": {\"color\": \"peru\", \"width\": 1.931177985508028}, \"mode\": \"lines\", \"text\": [\"<b>5</b>\"], \"type\": \"scatter\", \"x\": [0.22064574790094693, 0.872108302665888, null], \"y\": [1.0, 0.6312177971707107, null]}, {\"hoverinfo\": \"text\", \"line\": {\"color\": \"peru\", \"width\": 0.9167783901230476}, \"mode\": \"lines\", \"text\": [\"<b>5</b>\"], \"type\": \"scatter\", \"x\": [0.22064574790094693, 0.5257243848773876, null], \"y\": [1.0, -0.7802393124547236, null]}, {\"hoverinfo\": \"text\", \"line\": {\"color\": \"peru\", \"width\": 1.2561991709362923}, \"mode\": \"lines\", \"text\": [\"<b>4</b>\"], \"type\": \"scatter\", \"x\": [0.22064574790094693, -0.4572116068612718, null], \"y\": [1.0, -0.18900695373702386, null]}, {\"hoverinfo\": \"text\", \"line\": {\"color\": \"peru\", \"width\": 0.9914122196657636}, \"mode\": \"lines\", \"text\": [\"<b>23500</b>\"], \"type\": \"scatter\", \"x\": [0.26130447887295555, -0.10529113205191454, null], \"y\": [0.1298568477662383, -0.7366752898732973, null]}, {\"hoverinfo\": \"text\", \"line\": {\"color\": \"peru\", \"width\": 1.0064425266508454}, \"mode\": \"lines\", \"text\": [\"<b>6322</b>\"], \"type\": \"scatter\", \"x\": [0.26130447887295555, -0.3751289652353157, null], \"y\": [0.1298568477662383, 0.6828089808224568, null]}, {\"hoverinfo\": \"text\", \"line\": {\"color\": \"peru\", \"width\": 1.0345754918037264}, \"mode\": \"lines\", \"text\": [\"<b>2303</b>\"], \"type\": \"scatter\", \"x\": [0.26130447887295555, 0.5257243848773876, null], \"y\": [0.1298568477662383, -0.7802393124547236, null]}, {\"hoverinfo\": \"text\", \"line\": {\"color\": \"peru\", \"width\": 0.9402112458167278}, \"mode\": \"lines\", \"text\": [\"<b>1173</b>\"], \"type\": \"scatter\", \"x\": [0.26130447887295555, 0.860543414839318, null], \"y\": [0.1298568477662383, -0.19755394749005334, null]}, {\"hoverinfo\": \"text\", \"line\": {\"color\": \"peru\", \"width\": 0.9797883359011517}, \"mode\": \"lines\", \"text\": [\"<b>1144</b>\"], \"type\": \"scatter\", \"x\": [0.26130447887295555, -0.8272675554301347, null], \"y\": [0.1298568477662383, 0.35045410583796305, null]}, {\"hoverinfo\": \"text\", \"line\": {\"color\": \"peru\", \"width\": 0.8568369061416451}, \"mode\": \"lines\", \"text\": [\"<b>1046</b>\"], \"type\": \"scatter\", \"x\": [0.26130447887295555, 0.26130447887295555, null], \"y\": [0.1298568477662383, 0.1298568477662383, null]}, {\"hoverinfo\": \"text\", \"line\": {\"color\": \"peru\", \"width\": 1.0441105206913959}, \"mode\": \"lines\", \"text\": [\"<b>250</b>\"], \"type\": \"scatter\", \"x\": [0.26130447887295555, -0.4572116068612718, null], \"y\": [0.1298568477662383, -0.18900695373702386, null]}, {\"hoverinfo\": \"text\", \"line\": {\"color\": \"peru\", \"width\": 1.1649123556449463}, \"mode\": \"lines\", \"text\": [\"<b>136</b>\"], \"type\": \"scatter\", \"x\": [0.26130447887295555, 0.872108302665888, null], \"y\": [0.1298568477662383, 0.6312177971707107, null]}, {\"hoverinfo\": \"text\", \"line\": {\"color\": \"peru\", \"width\": 0.9266166452662122}, \"mode\": \"lines\", \"text\": [\"<b>13</b>\"], \"type\": \"scatter\", \"x\": [0.26130447887295555, -0.9754270695778628, null], \"y\": [0.1298568477662383, -0.8908622280422714, null]}, {\"hoverinfo\": \"text\", \"line\": {\"color\": \"peru\", \"width\": 1.1575987805326582}, \"mode\": \"lines\", \"text\": [\"<b>32212</b>\"], \"type\": \"scatter\", \"x\": [-0.3751289652353157, -0.10529113205191454, null], \"y\": [0.6828089808224568, -0.7366752898732973, null]}, {\"hoverinfo\": \"text\", \"line\": {\"color\": \"peru\", \"width\": 1.0248797647694508}, \"mode\": \"lines\", \"text\": [\"<b>4690</b>\"], \"type\": \"scatter\", \"x\": [-0.3751289652353157, -0.3751289652353157, null], \"y\": [0.6828089808224568, 0.6828089808224568, null]}, {\"hoverinfo\": \"text\", \"line\": {\"color\": \"peru\", \"width\": 1.0581598650200026}, \"mode\": \"lines\", \"text\": [\"<b>1838</b>\"], \"type\": \"scatter\", \"x\": [-0.3751289652353157, 0.860543414839318, null], \"y\": [0.6828089808224568, -0.19755394749005334, null]}, {\"hoverinfo\": \"text\", \"line\": {\"color\": \"peru\", \"width\": 0.9910963915014497}, \"mode\": \"lines\", \"text\": [\"<b>1119</b>\"], \"type\": \"scatter\", \"x\": [-0.3751289652353157, 0.5257243848773876, null], \"y\": [0.6828089808224568, -0.7802393124547236, null]}, {\"hoverinfo\": \"text\", \"line\": {\"color\": \"peru\", \"width\": 1.0060818164619152}, \"mode\": \"lines\", \"text\": [\"<b>832</b>\"], \"type\": \"scatter\", \"x\": [-0.3751289652353157, -0.8272675554301347, null], \"y\": [0.6828089808224568, 0.35045410583796305, null]}, {\"hoverinfo\": \"text\", \"line\": {\"color\": \"peru\", \"width\": 1.1689936997372592}, \"mode\": \"lines\", \"text\": [\"<b>286</b>\"], \"type\": \"scatter\", \"x\": [-0.3751289652353157, -0.4572116068612718, null], \"y\": [0.6828089808224568, -0.18900695373702386, null]}, {\"hoverinfo\": \"text\", \"line\": {\"color\": \"peru\", \"width\": 1.422957806585172}, \"mode\": \"lines\", \"text\": [\"<b>207</b>\"], \"type\": \"scatter\", \"x\": [-0.3751289652353157, 0.872108302665888, null], \"y\": [0.6828089808224568, 0.6312177971707107, null]}, {\"hoverinfo\": \"text\", \"line\": {\"color\": \"peru\", \"width\": 1.4672659177825287}, \"mode\": \"lines\", \"text\": [\"<b>55</b>\"], \"type\": \"scatter\", \"x\": [-0.3751289652353157, -0.9754270695778628, null], \"y\": [0.6828089808224568, -0.8908622280422714, null]}, {\"hoverinfo\": \"text\", \"line\": {\"color\": \"peru\", \"width\": 1.4131733668519184}, \"mode\": \"lines\", \"text\": [\"<b>849</b>\"], \"type\": \"scatter\", \"x\": [0.872108302665888, -0.10529113205191454, null], \"y\": [0.6312177971707107, -0.7366752898732973, null]}, {\"hoverinfo\": \"text\", \"line\": {\"color\": \"peru\", \"width\": 1.265076301682503}, \"mode\": \"lines\", \"text\": [\"<b>62</b>\"], \"type\": \"scatter\", \"x\": [0.872108302665888, 0.860543414839318, null], \"y\": [0.6312177971707107, -0.19755394749005334, null]}, {\"hoverinfo\": \"text\", \"line\": {\"color\": \"peru\", \"width\": 1.3700361453755354}, \"mode\": \"lines\", \"text\": [\"<b>30</b>\"], \"type\": \"scatter\", \"x\": [0.872108302665888, -0.8272675554301347, null], \"y\": [0.6312177971707107, 0.35045410583796305, null]}, {\"hoverinfo\": \"text\", \"line\": {\"color\": \"peru\", \"width\": 1.0262192343136622}, \"mode\": \"lines\", \"text\": [\"<b>17</b>\"], \"type\": \"scatter\", \"x\": [0.872108302665888, 0.5257243848773876, null], \"y\": [0.6312177971707107, -0.7802393124547236, null]}, {\"hoverinfo\": \"text\", \"line\": {\"color\": \"peru\", \"width\": 1.3076843910814522}, \"mode\": \"lines\", \"text\": [\"<b>7</b>\"], \"type\": \"scatter\", \"x\": [0.872108302665888, -0.4572116068612718, null], \"y\": [0.6312177971707107, -0.18900695373702386, null]}, {\"hoverinfo\": \"text\", \"line\": {\"color\": \"peru\", \"width\": 0.9496389450554769}, \"mode\": \"lines\", \"text\": [\"<b>3339</b>\"], \"type\": \"scatter\", \"x\": [0.5257243848773876, -0.10529113205191454, null], \"y\": [-0.7802393124547236, -0.7366752898732973, null]}, {\"hoverinfo\": \"text\", \"line\": {\"color\": \"peru\", \"width\": 0.9359489103546265}, \"mode\": \"lines\", \"text\": [\"<b>220</b>\"], \"type\": \"scatter\", \"x\": [0.5257243848773876, 0.5257243848773876, null], \"y\": [-0.7802393124547236, -0.7802393124547236, null]}, {\"hoverinfo\": \"text\", \"line\": {\"color\": \"peru\", \"width\": 0.9116225680631708}, \"mode\": \"lines\", \"text\": [\"<b>168</b>\"], \"type\": \"scatter\", \"x\": [0.5257243848773876, 0.860543414839318, null], \"y\": [-0.7802393124547236, -0.19755394749005334, null]}, {\"hoverinfo\": \"text\", \"line\": {\"color\": \"peru\", \"width\": 0.8871834578330301}, \"mode\": \"lines\", \"text\": [\"<b>74</b>\"], \"type\": \"scatter\", \"x\": [0.5257243848773876, -0.8272675554301347, null], \"y\": [-0.7802393124547236, 0.35045410583796305, null]}, {\"hoverinfo\": \"text\", \"line\": {\"color\": \"peru\", \"width\": 1.075191120001753}, \"mode\": \"lines\", \"text\": [\"<b>57</b>\"], \"type\": \"scatter\", \"x\": [0.5257243848773876, -0.4572116068612718, null], \"y\": [-0.7802393124547236, -0.18900695373702386, null]}, {\"hoverinfo\": \"text\", \"line\": {\"color\": \"peru\", \"width\": 0.8747592436509988}, \"mode\": \"lines\", \"text\": [\"<b>1</b>\"], \"type\": \"scatter\", \"x\": [0.5257243848773876, -0.9754270695778628, null], \"y\": [-0.7802393124547236, -0.8908622280422714, null]}, {\"hoverinfo\": \"text\", \"line\": {\"color\": \"peru\", \"width\": 1.0471586744949297}, \"mode\": \"lines\", \"text\": [\"<b>7215</b>\"], \"type\": \"scatter\", \"x\": [-0.10529113205191454, 0.860543414839318, null], \"y\": [-0.7366752898732973, -0.19755394749005334, null]}, {\"hoverinfo\": \"text\", \"line\": {\"color\": \"peru\", \"width\": 0.8535926989715327}, \"mode\": \"lines\", \"text\": [\"<b>5674</b>\"], \"type\": \"scatter\", \"x\": [-0.10529113205191454, -0.10529113205191454, null], \"y\": [-0.7366752898732973, -0.7366752898732973, null]}, {\"hoverinfo\": \"text\", \"line\": {\"color\": \"peru\", \"width\": 1.0249150052710991}, \"mode\": \"lines\", \"text\": [\"<b>3766</b>\"], \"type\": \"scatter\", \"x\": [-0.10529113205191454, -0.8272675554301347, null], \"y\": [-0.7366752898732973, 0.35045410583796305, null]}, {\"hoverinfo\": \"text\", \"line\": {\"color\": \"peru\", \"width\": 1.0915256762888472}, \"mode\": \"lines\", \"text\": [\"<b>915</b>\"], \"type\": \"scatter\", \"x\": [-0.10529113205191454, -0.4572116068612718, null], \"y\": [-0.7366752898732973, -0.18900695373702386, null]}, {\"hoverinfo\": \"text\", \"line\": {\"color\": \"peru\", \"width\": 1.0117420587926584}, \"mode\": \"lines\", \"text\": [\"<b>67</b>\"], \"type\": \"scatter\", \"x\": [-0.10529113205191454, -0.9754270695778628, null], \"y\": [-0.7366752898732973, -0.8908622280422714, null]}, {\"hoverinfo\": \"text\", \"line\": {\"color\": \"peru\", \"width\": 1.135317380220841}, \"mode\": \"lines\", \"text\": [\"<b>877</b>\"], \"type\": \"scatter\", \"x\": [0.860543414839318, 0.860543414839318, null], \"y\": [-0.19755394749005334, -0.19755394749005334, null]}, {\"hoverinfo\": \"text\", \"line\": {\"color\": \"peru\", \"width\": 1.0882469272188056}, \"mode\": \"lines\", \"text\": [\"<b>380</b>\"], \"type\": \"scatter\", \"x\": [0.860543414839318, -0.8272675554301347, null], \"y\": [-0.19755394749005334, 0.35045410583796305, null]}, {\"hoverinfo\": \"text\", \"line\": {\"color\": \"peru\", \"width\": 1.1191635231244788}, \"mode\": \"lines\", \"text\": [\"<b>87</b>\"], \"type\": \"scatter\", \"x\": [0.860543414839318, -0.4572116068612718, null], \"y\": [-0.19755394749005334, -0.18900695373702386, null]}, {\"hoverinfo\": \"text\", \"line\": {\"color\": \"peru\", \"width\": 0.935987058319944}, \"mode\": \"lines\", \"text\": [\"<b>3</b>\"], \"type\": \"scatter\", \"x\": [0.860543414839318, -0.9754270695778628, null], \"y\": [-0.19755394749005334, -0.8908622280422714, null]}, {\"hoverinfo\": \"text\", \"line\": {\"color\": \"peru\", \"width\": 4.179626906102637}, \"mode\": \"lines\", \"text\": [\"<b>77</b>\"], \"type\": \"scatter\", \"x\": [-0.4572116068612718, -0.4572116068612718, null], \"y\": [-0.18900695373702386, -0.18900695373702386, null]}, {\"hoverinfo\": \"text\", \"line\": {\"color\": \"peru\", \"width\": 1.0598650781220098}, \"mode\": \"lines\", \"text\": [\"<b>36</b>\"], \"type\": \"scatter\", \"x\": [-0.4572116068612718, -0.8272675554301347, null], \"y\": [-0.18900695373702386, 0.35045410583796305, null]}, {\"hoverinfo\": \"text\", \"line\": {\"color\": \"peru\", \"width\": 1.9067453480352816}, \"mode\": \"lines\", \"text\": [\"<b>3</b>\"], \"type\": \"scatter\", \"x\": [-0.4572116068612718, -0.9754270695778628, null], \"y\": [-0.18900695373702386, -0.8908622280422714, null]}, {\"hoverinfo\": \"text\", \"line\": {\"color\": \"peru\", \"width\": 0.8908485039714656}, \"mode\": \"lines\", \"text\": [\"<b>1</b>\"], \"type\": \"scatter\", \"x\": [-0.9754270695778628, -0.8272675554301347, null], \"y\": [-0.8908622280422714, 0.35045410583796305, null]}, {\"hoverinfo\": \"text\", \"line\": {\"color\": \"peru\", \"width\": 1.9120173857180658}, \"mode\": \"lines\", \"text\": [\"<b>974</b>\"], \"type\": \"scatter\", \"x\": [-0.8272675554301347, -0.8272675554301347, null], \"y\": [0.35045410583796305, 0.35045410583796305, null]}, {\"hoverinfo\": \"text\", \"marker\": {\"color\": [\"peru\", \"peru\", \"peru\", \"peru\", \"peru\", \"peru\", \"peru\", \"peru\", \"peru\", \"peru\"], \"size\": [15.04198334319392, 19.89157147408183, 18.634289810221635, 15.06655895872207, 15.98012333318163, 30.0, 16.309334182860784, 15.136872525372047, 15.013141127747689, 15.658933691348473]}, \"mode\": \"markers\", \"text\": [\"<b>Anglican</b><br># of Practitioners: 246\", \"<b>Christianity</b><br># of Practitioners: 28662\", \"<b>Roman Catholic</b><br># of Practitioners: 21295\", \"<b>Hinduism</b><br># of Practitioners: 390\", \"<b>Evangelical</b><br># of Practitioners: 5743\", \"<b>Protestant</b><br># of Practitioners: 87892\", \"<b>Buddhism</b><br># of Practitioners: 7672\", \"<b>Orthodox</b><br># of Practitioners: 802\", \"<b>Catholic</b><br># of Practitioners: 77\", \"<b>Islam</b><br># of Practitioners: 3861\"], \"textfont\": {\"size\": 10}, \"textposition\": \"top center\", \"type\": \"scatter\", \"x\": [0.22064574790094693, 0.26130447887295555, -0.3751289652353157, 0.872108302665888, 0.5257243848773876, -0.10529113205191454, 0.860543414839318, -0.4572116068612718, -0.9754270695778628, -0.8272675554301347], \"y\": [1.0, 0.1298568477662383, 0.6828089808224568, 0.6312177971707107, -0.7802393124547236, -0.7366752898732973, -0.19755394749005334, -0.18900695373702386, -0.8908622280422714, 0.35045410583796305]}],                        {\"paper_bgcolor\": \"rgba(0,0,0,0)\", \"plot_bgcolor\": \"seashell\", \"showlegend\": false, \"template\": {\"data\": {\"bar\": [{\"error_x\": {\"color\": \"#2a3f5f\"}, \"error_y\": {\"color\": \"#2a3f5f\"}, \"marker\": {\"line\": {\"color\": \"#E5ECF6\", \"width\": 0.5}}, \"type\": \"bar\"}], \"barpolar\": [{\"marker\": {\"line\": {\"color\": \"#E5ECF6\", \"width\": 0.5}}, \"type\": \"barpolar\"}], \"carpet\": [{\"aaxis\": {\"endlinecolor\": \"#2a3f5f\", \"gridcolor\": \"white\", \"linecolor\": \"white\", \"minorgridcolor\": \"white\", \"startlinecolor\": \"#2a3f5f\"}, \"baxis\": {\"endlinecolor\": \"#2a3f5f\", \"gridcolor\": \"white\", \"linecolor\": \"white\", \"minorgridcolor\": \"white\", \"startlinecolor\": \"#2a3f5f\"}, \"type\": \"carpet\"}], \"choropleth\": [{\"colorbar\": {\"outlinewidth\": 0, \"ticks\": \"\"}, \"type\": \"choropleth\"}], \"contour\": [{\"colorbar\": {\"outlinewidth\": 0, \"ticks\": \"\"}, \"colorscale\": [[0.0, \"#0d0887\"], [0.1111111111111111, \"#46039f\"], [0.2222222222222222, \"#7201a8\"], [0.3333333333333333, \"#9c179e\"], [0.4444444444444444, \"#bd3786\"], [0.5555555555555556, \"#d8576b\"], [0.6666666666666666, \"#ed7953\"], [0.7777777777777778, \"#fb9f3a\"], [0.8888888888888888, \"#fdca26\"], [1.0, \"#f0f921\"]], \"type\": \"contour\"}], \"contourcarpet\": [{\"colorbar\": {\"outlinewidth\": 0, \"ticks\": \"\"}, \"type\": \"contourcarpet\"}], \"heatmap\": [{\"colorbar\": {\"outlinewidth\": 0, \"ticks\": \"\"}, \"colorscale\": [[0.0, \"#0d0887\"], [0.1111111111111111, \"#46039f\"], [0.2222222222222222, \"#7201a8\"], [0.3333333333333333, \"#9c179e\"], [0.4444444444444444, \"#bd3786\"], [0.5555555555555556, \"#d8576b\"], [0.6666666666666666, \"#ed7953\"], [0.7777777777777778, \"#fb9f3a\"], [0.8888888888888888, \"#fdca26\"], [1.0, \"#f0f921\"]], \"type\": \"heatmap\"}], \"heatmapgl\": [{\"colorbar\": {\"outlinewidth\": 0, \"ticks\": \"\"}, \"colorscale\": [[0.0, \"#0d0887\"], [0.1111111111111111, \"#46039f\"], [0.2222222222222222, \"#7201a8\"], [0.3333333333333333, \"#9c179e\"], [0.4444444444444444, \"#bd3786\"], [0.5555555555555556, \"#d8576b\"], [0.6666666666666666, \"#ed7953\"], [0.7777777777777778, \"#fb9f3a\"], [0.8888888888888888, \"#fdca26\"], [1.0, \"#f0f921\"]], \"type\": \"heatmapgl\"}], \"histogram\": [{\"marker\": {\"colorbar\": {\"outlinewidth\": 0, \"ticks\": \"\"}}, \"type\": \"histogram\"}], \"histogram2d\": [{\"colorbar\": {\"outlinewidth\": 0, \"ticks\": \"\"}, \"colorscale\": [[0.0, \"#0d0887\"], [0.1111111111111111, \"#46039f\"], [0.2222222222222222, \"#7201a8\"], [0.3333333333333333, \"#9c179e\"], [0.4444444444444444, \"#bd3786\"], [0.5555555555555556, \"#d8576b\"], [0.6666666666666666, \"#ed7953\"], [0.7777777777777778, \"#fb9f3a\"], [0.8888888888888888, \"#fdca26\"], [1.0, \"#f0f921\"]], \"type\": \"histogram2d\"}], \"histogram2dcontour\": [{\"colorbar\": {\"outlinewidth\": 0, \"ticks\": \"\"}, \"colorscale\": [[0.0, \"#0d0887\"], [0.1111111111111111, \"#46039f\"], [0.2222222222222222, \"#7201a8\"], [0.3333333333333333, \"#9c179e\"], [0.4444444444444444, \"#bd3786\"], [0.5555555555555556, \"#d8576b\"], [0.6666666666666666, \"#ed7953\"], [0.7777777777777778, \"#fb9f3a\"], [0.8888888888888888, \"#fdca26\"], [1.0, \"#f0f921\"]], \"type\": \"histogram2dcontour\"}], \"mesh3d\": [{\"colorbar\": {\"outlinewidth\": 0, \"ticks\": \"\"}, \"type\": \"mesh3d\"}], \"parcoords\": [{\"line\": {\"colorbar\": {\"outlinewidth\": 0, \"ticks\": \"\"}}, \"type\": \"parcoords\"}], \"pie\": [{\"automargin\": true, \"type\": \"pie\"}], \"scatter\": [{\"marker\": {\"colorbar\": {\"outlinewidth\": 0, \"ticks\": \"\"}}, \"type\": \"scatter\"}], \"scatter3d\": [{\"line\": {\"colorbar\": {\"outlinewidth\": 0, \"ticks\": \"\"}}, \"marker\": {\"colorbar\": {\"outlinewidth\": 0, \"ticks\": \"\"}}, \"type\": \"scatter3d\"}], \"scattercarpet\": [{\"marker\": {\"colorbar\": {\"outlinewidth\": 0, \"ticks\": \"\"}}, \"type\": \"scattercarpet\"}], \"scattergeo\": [{\"marker\": {\"colorbar\": {\"outlinewidth\": 0, \"ticks\": \"\"}}, \"type\": \"scattergeo\"}], \"scattergl\": [{\"marker\": {\"colorbar\": {\"outlinewidth\": 0, \"ticks\": \"\"}}, \"type\": \"scattergl\"}], \"scattermapbox\": [{\"marker\": {\"colorbar\": {\"outlinewidth\": 0, \"ticks\": \"\"}}, \"type\": \"scattermapbox\"}], \"scatterpolar\": [{\"marker\": {\"colorbar\": {\"outlinewidth\": 0, \"ticks\": \"\"}}, \"type\": \"scatterpolar\"}], \"scatterpolargl\": [{\"marker\": {\"colorbar\": {\"outlinewidth\": 0, \"ticks\": \"\"}}, \"type\": \"scatterpolargl\"}], \"scatterternary\": [{\"marker\": {\"colorbar\": {\"outlinewidth\": 0, \"ticks\": \"\"}}, \"type\": \"scatterternary\"}], \"surface\": [{\"colorbar\": {\"outlinewidth\": 0, \"ticks\": \"\"}, \"colorscale\": [[0.0, \"#0d0887\"], [0.1111111111111111, \"#46039f\"], [0.2222222222222222, \"#7201a8\"], [0.3333333333333333, \"#9c179e\"], [0.4444444444444444, \"#bd3786\"], [0.5555555555555556, \"#d8576b\"], [0.6666666666666666, \"#ed7953\"], [0.7777777777777778, \"#fb9f3a\"], [0.8888888888888888, \"#fdca26\"], [1.0, \"#f0f921\"]], \"type\": \"surface\"}], \"table\": [{\"cells\": {\"fill\": {\"color\": \"#EBF0F8\"}, \"line\": {\"color\": \"white\"}}, \"header\": {\"fill\": {\"color\": \"#C8D4E3\"}, \"line\": {\"color\": \"white\"}}, \"type\": \"table\"}]}, \"layout\": {\"annotationdefaults\": {\"arrowcolor\": \"#2a3f5f\", \"arrowhead\": 0, \"arrowwidth\": 1}, \"autotypenumbers\": \"strict\", \"coloraxis\": {\"colorbar\": {\"outlinewidth\": 0, \"ticks\": \"\"}}, \"colorscale\": {\"diverging\": [[0, \"#8e0152\"], [0.1, \"#c51b7d\"], [0.2, \"#de77ae\"], [0.3, \"#f1b6da\"], [0.4, \"#fde0ef\"], [0.5, \"#f7f7f7\"], [0.6, \"#e6f5d0\"], [0.7, \"#b8e186\"], [0.8, \"#7fbc41\"], [0.9, \"#4d9221\"], [1, \"#276419\"]], \"sequential\": [[0.0, \"#0d0887\"], [0.1111111111111111, \"#46039f\"], [0.2222222222222222, \"#7201a8\"], [0.3333333333333333, \"#9c179e\"], [0.4444444444444444, \"#bd3786\"], [0.5555555555555556, \"#d8576b\"], [0.6666666666666666, \"#ed7953\"], [0.7777777777777778, \"#fb9f3a\"], [0.8888888888888888, \"#fdca26\"], [1.0, \"#f0f921\"]], \"sequentialminus\": [[0.0, \"#0d0887\"], [0.1111111111111111, \"#46039f\"], [0.2222222222222222, \"#7201a8\"], [0.3333333333333333, \"#9c179e\"], [0.4444444444444444, \"#bd3786\"], [0.5555555555555556, \"#d8576b\"], [0.6666666666666666, \"#ed7953\"], [0.7777777777777778, \"#fb9f3a\"], [0.8888888888888888, \"#fdca26\"], [1.0, \"#f0f921\"]]}, \"colorway\": [\"#636efa\", \"#EF553B\", \"#00cc96\", \"#ab63fa\", \"#FFA15A\", \"#19d3f3\", \"#FF6692\", \"#B6E880\", \"#FF97FF\", \"#FECB52\"], \"font\": {\"color\": \"#2a3f5f\"}, \"geo\": {\"bgcolor\": \"white\", \"lakecolor\": \"white\", \"landcolor\": \"#E5ECF6\", \"showlakes\": true, \"showland\": true, \"subunitcolor\": \"white\"}, \"hoverlabel\": {\"align\": \"left\"}, \"hovermode\": \"closest\", \"mapbox\": {\"style\": \"light\"}, \"paper_bgcolor\": \"white\", \"plot_bgcolor\": \"#E5ECF6\", \"polar\": {\"angularaxis\": {\"gridcolor\": \"white\", \"linecolor\": \"white\", \"ticks\": \"\"}, \"bgcolor\": \"#E5ECF6\", \"radialaxis\": {\"gridcolor\": \"white\", \"linecolor\": \"white\", \"ticks\": \"\"}}, \"scene\": {\"xaxis\": {\"backgroundcolor\": \"#E5ECF6\", \"gridcolor\": \"white\", \"gridwidth\": 2, \"linecolor\": \"white\", \"showbackground\": true, \"ticks\": \"\", \"zerolinecolor\": \"white\"}, \"yaxis\": {\"backgroundcolor\": \"#E5ECF6\", \"gridcolor\": \"white\", \"gridwidth\": 2, \"linecolor\": \"white\", \"showbackground\": true, \"ticks\": \"\", \"zerolinecolor\": \"white\"}, \"zaxis\": {\"backgroundcolor\": \"#E5ECF6\", \"gridcolor\": \"white\", \"gridwidth\": 2, \"linecolor\": \"white\", \"showbackground\": true, \"ticks\": \"\", \"zerolinecolor\": \"white\"}}, \"shapedefaults\": {\"line\": {\"color\": \"#2a3f5f\"}}, \"ternary\": {\"aaxis\": {\"gridcolor\": \"white\", \"linecolor\": \"white\", \"ticks\": \"\"}, \"baxis\": {\"gridcolor\": \"white\", \"linecolor\": \"white\", \"ticks\": \"\"}, \"bgcolor\": \"#E5ECF6\", \"caxis\": {\"gridcolor\": \"white\", \"linecolor\": \"white\", \"ticks\": \"\"}}, \"title\": {\"x\": 0.05}, \"xaxis\": {\"automargin\": true, \"gridcolor\": \"white\", \"linecolor\": \"white\", \"ticks\": \"\", \"title\": {\"standoff\": 15}, \"zerolinecolor\": \"white\", \"zerolinewidth\": 2}, \"yaxis\": {\"automargin\": true, \"gridcolor\": \"white\", \"linecolor\": \"white\", \"ticks\": \"\", \"title\": {\"standoff\": 15}, \"zerolinecolor\": \"white\", \"zerolinewidth\": 2}}}, \"title\": {\"text\": \"Friendships between religions\"}, \"xaxis\": {\"showgrid\": false, \"showticklabels\": false, \"zeroline\": false}, \"yaxis\": {\"showgrid\": false, \"showticklabels\": false, \"zeroline\": false}},                        {\"responsive\": true}                    ).then(function(){\n",
       "                            \n",
       "var gd = document.getElementById('43f739b1-bd48-4d7a-9dfe-2b5ff0674274');\n",
       "var x = new MutationObserver(function (mutations, observer) {{\n",
       "        var display = window.getComputedStyle(gd).display;\n",
       "        if (!display || display === 'none') {{\n",
       "            console.log([gd, 'removed!']);\n",
       "            Plotly.purge(gd);\n",
       "            observer.disconnect();\n",
       "        }}\n",
       "}});\n",
       "\n",
       "// Listen for the removal of the full notebook cells\n",
       "var notebookContainer = gd.closest('#notebook-container');\n",
       "if (notebookContainer) {{\n",
       "    x.observe(notebookContainer, {childList: true});\n",
       "}}\n",
       "\n",
       "// Listen for the clearing of the current output cell\n",
       "var outputEl = gd.closest('.output');\n",
       "if (outputEl) {{\n",
       "    x.observe(outputEl, {childList: true});\n",
       "}}\n",
       "\n",
       "                        })                };                });            </script>        </div>"
      ]
     },
     "metadata": {},
     "output_type": "display_data"
    }
   ],
   "source": [
    "def make_edge(x, y, text, width):\n",
    "    \"\"\"\n",
    "    For making plotly network edges\n",
    "    \"\"\"\n",
    "    return  go.Scatter(x         = x,\n",
    "                       y         = y,\n",
    "                       line      = dict(width = width,\n",
    "                                   color = 'peru'),\n",
    "                       hoverinfo = 'text',\n",
    "                       text      = ([text]),\n",
    "                       mode      = 'lines')\n",
    "\n",
    "# create a graph\n",
    "religion_graph = nx.Graph()\n",
    "\n",
    "# nodes\n",
    "for r, count in nr_users_religion.items():\n",
    "    religion_graph.add_node(r, size=count + 2)\n",
    "\n",
    "\n",
    "# edges\n",
    "for indx, row in rel_count_df.iterrows():\n",
    "    religion_graph.add_edge(row[\"from_religion\"], \n",
    "                            row[\"to_religion\"], \n",
    "                            weight = row[\"scaled_relative_count\"] + 1)\n",
    "\n",
    "# positions of edges\n",
    "pos_ = nx.spring_layout(religion_graph)\n",
    "\n",
    "\n",
    "# for each edge, make an edge_trace, append to list\n",
    "edge_trace = []\n",
    "for edge in religion_graph.edges():\n",
    "    # fill in the properties\n",
    "    if religion_graph.edges()[edge]['weight'] > 0:\n",
    "        char_1 = edge[0]\n",
    "        char_2 = edge[1]\n",
    "        x0, y0 = pos_[char_1] \n",
    "        x1, y1 = pos_[char_2]\n",
    " \n",
    "    char_1, char_2 = sorted([char_1, char_2])\n",
    "\n",
    "    text   = \"<b>\" + str(int(rel_count_df[(rel_count_df[\"from_religion\"]==char_1) & (rel_count_df[\"to_religion\"]==char_2)][\"count\"])) + '</b>'\n",
    "\n",
    "    trace  = make_edge([x0, x1, None], [y0, y1, None], text, width = 0.25*religion_graph.edges()[edge]['weight']**1.75)\n",
    "    edge_trace.append(trace)\n",
    "\n",
    "    \n",
    "# make a node trace for collecting the nodes\n",
    "node_trace = go.Scatter(x         = [],\n",
    "                        y         = [],\n",
    "                        text      = [],\n",
    "                        textposition = \"top center\",\n",
    "                        textfont_size = 10,\n",
    "                        #mode      = 'markers+text',\n",
    "                        mode      = 'markers',\n",
    "                        hoverinfo = 'text',\n",
    "                        marker    = dict(color = [],\n",
    "                                         size  = [],\n",
    "                                         line  = None))\n",
    "\n",
    "# for each node, get the position and size and add to the node_trace\n",
    "for node in religion_graph.nodes():\n",
    "    x, y = pos_[node]\n",
    "    node_trace['x'] += tuple([x])\n",
    "    node_trace['y'] += tuple([y])\n",
    "    node_trace['marker']['color'] += tuple(['peru'])\n",
    "    node_trace['marker']['size'] += tuple([5*religion_graph.nodes()[node]['size']])\n",
    "    node_trace['text'] += tuple(['<b>' + node + '</b>' + \"<br>\" + \"# of Practitioners: \"+ str(nr_users_religion_og[node])])\n",
    "    \n",
    "# customize layout\n",
    "layout = go.Layout(\n",
    "    paper_bgcolor='rgba(0,0,0,0)', # transparent background\n",
    "    plot_bgcolor='rgba(0,0,0,0)', # transparent 2nd background\n",
    "    xaxis =  {'showgrid': False, 'zeroline': False}, # no gridlines\n",
    "    yaxis = {'showgrid': False, 'zeroline': False}, # no gridlines\n",
    ")\n",
    "\n",
    "# create figure\n",
    "fig = go.Figure(layout = layout)\n",
    "for trace in edge_trace:\n",
    "    # add node trace\n",
    "    fig.add_trace(trace)\n",
    "# remove legend\n",
    "fig.add_trace(node_trace)\n",
    "# set view\n",
    "fig.update_layout(showlegend = False, plot_bgcolor=\"seashell\", title=\"Friendships between religions\")# Remove tick labels\n",
    "fig.update_xaxes(showticklabels = False)\n",
    "fig.update_yaxes(showticklabels = False)# Show figure\n",
    "fig.show()\n",
    "\n",
    "# save it\n",
    "html = plot(fig, auto_open=False, output_type='div')\n",
    "with open(\"./friendships_religions.html\", 'w') as file:\n",
    "    file.write(html)"
   ]
  },
  {
   "cell_type": "markdown",
   "metadata": {},
   "source": [
    "### Generating a network Graph for Languages"
   ]
  },
  {
   "cell_type": "code",
   "execution_count": 366,
   "metadata": {},
   "outputs": [
    {
     "data": {
      "application/vnd.plotly.v1+json": {
       "config": {
        "plotlyServerURL": "https://plot.ly"
       },
       "data": [
        {
         "hoverinfo": "text",
         "line": {
          "color": "peru",
          "width": 0.2504148493552403
         },
         "mode": "lines",
         "text": [
          "<b>122</b>"
         ],
         "type": "scatter",
         "x": [
          -0.08157381426554647,
          0.037794014098991364,
          null
         ],
         "y": [
          0.1682352956082638,
          0.12434741897055317,
          null
         ]
        },
        {
         "hoverinfo": "text",
         "line": {
          "color": "peru",
          "width": 0.2502893969760772
         },
         "mode": "lines",
         "text": [
          "<b>22</b>"
         ],
         "type": "scatter",
         "x": [
          -0.08157381426554647,
          -0.008620714316374366,
          null
         ],
         "y": [
          0.1682352956082638,
          -0.2384014836653278,
          null
         ]
        },
        {
         "hoverinfo": "text",
         "line": {
          "color": "peru",
          "width": 0.25094006037754524
         },
         "mode": "lines",
         "text": [
          "<b>15</b>"
         ],
         "type": "scatter",
         "x": [
          -0.08157381426554647,
          0.0021476759594681615,
          null
         ],
         "y": [
          0.1682352956082638,
          -0.14325253494920223,
          null
         ]
        },
        {
         "hoverinfo": "text",
         "line": {
          "color": "peru",
          "width": 0.251747008779938
         },
         "mode": "lines",
         "text": [
          "<b>12</b>"
         ],
         "type": "scatter",
         "x": [
          -0.08157381426554647,
          -0.1565613973253825,
          null
         ],
         "y": [
          0.1682352956082638,
          -0.04805573240281369,
          null
         ]
        },
        {
         "hoverinfo": "text",
         "line": {
          "color": "peru",
          "width": 0.25071485711495906
         },
         "mode": "lines",
         "text": [
          "<b>5</b>"
         ],
         "type": "scatter",
         "x": [
          -0.08157381426554647,
          -0.034520369679783496,
          null
         ],
         "y": [
          0.1682352956082638,
          -0.20641756411669696,
          null
         ]
        },
        {
         "hoverinfo": "text",
         "line": {
          "color": "peru",
          "width": 0.2504821985764446
         },
         "mode": "lines",
         "text": [
          "<b>4</b>"
         ],
         "type": "scatter",
         "x": [
          -0.08157381426554647,
          -0.03799795302862708,
          null
         ],
         "y": [
          0.1682352956082638,
          -0.10046936690130284,
          null
         ]
        },
        {
         "hoverinfo": "text",
         "line": {
          "color": "peru",
          "width": 0.2508916945493223
         },
         "mode": "lines",
         "text": [
          "<b>3</b>"
         ],
         "type": "scatter",
         "x": [
          -0.08157381426554647,
          0.037112341418509734,
          null
         ],
         "y": [
          0.1682352956082638,
          -0.06476133803077848,
          null
         ]
        },
        {
         "hoverinfo": "text",
         "line": {
          "color": "peru",
          "width": 0.2531212821257572
         },
         "mode": "lines",
         "text": [
          "<b>3</b>"
         ],
         "type": "scatter",
         "x": [
          -0.08157381426554647,
          0.08602385684170852,
          null
         ],
         "y": [
          0.1682352956082638,
          -0.09889936429271984,
          null
         ]
        },
        {
         "hoverinfo": "text",
         "line": {
          "color": "peru",
          "width": 0.25185678482119667
         },
         "mode": "lines",
         "text": [
          "<b>2</b>"
         ],
         "type": "scatter",
         "x": [
          -0.08157381426554647,
          -0.060870871982170276,
          null
         ],
         "y": [
          0.1682352956082638,
          0.05847561375370165,
          null
         ]
        },
        {
         "hoverinfo": "text",
         "line": {
          "color": "peru",
          "width": 0.2505106485818479
         },
         "mode": "lines",
         "text": [
          "<b>2</b>"
         ],
         "type": "scatter",
         "x": [
          -0.08157381426554647,
          -0.009709271081250317,
          null
         ],
         "y": [
          0.1682352956082638,
          0.0046491559004002,
          null
         ]
        },
        {
         "hoverinfo": "text",
         "line": {
          "color": "peru",
          "width": 0.25006566241179246
         },
         "mode": "lines",
         "text": [
          "<b>2</b>"
         ],
         "type": "scatter",
         "x": [
          -0.08157381426554647,
          -0.0264655059238801,
          null
         ],
         "y": [
          0.1682352956082638,
          -0.06257900558246596,
          null
         ]
        },
        {
         "hoverinfo": "text",
         "line": {
          "color": "peru",
          "width": 0.2503615813105933
         },
         "mode": "lines",
         "text": [
          "<b>1</b>"
         ],
         "type": "scatter",
         "x": [
          -0.08157381426554647,
          -0.13921754181663373,
          null
         ],
         "y": [
          0.1682352956082638,
          -0.2230008879936063,
          null
         ]
        },
        {
         "hoverinfo": "text",
         "line": {
          "color": "peru",
          "width": 0.25007668443691794
         },
         "mode": "lines",
         "text": [
          "<b>1</b>"
         ],
         "type": "scatter",
         "x": [
          -0.08157381426554647,
          0.03097250257589602,
          null
         ],
         "y": [
          0.1682352956082638,
          -0.02726580821300639,
          null
         ]
        },
        {
         "hoverinfo": "text",
         "line": {
          "color": "peru",
          "width": 0.25022099012852156
         },
         "mode": "lines",
         "text": [
          "<b>1</b>"
         ],
         "type": "scatter",
         "x": [
          -0.08157381426554647,
          -0.17466140068503105,
          null
         ],
         "y": [
          0.1682352956082638,
          -0.008713263447703267,
          null
         ]
        },
        {
         "hoverinfo": "text",
         "line": {
          "color": "peru",
          "width": 0.2510099328417814
         },
         "mode": "lines",
         "text": [
          "<b>13</b>"
         ],
         "type": "scatter",
         "x": [
          0.09032264831847737,
          0.037794014098991364,
          null
         ],
         "y": [
          0.22758249541221023,
          0.12434741897055317,
          null
         ]
        },
        {
         "hoverinfo": "text",
         "line": {
          "color": "peru",
          "width": 0.2511863033251935
         },
         "mode": "lines",
         "text": [
          "<b>4</b>"
         ],
         "type": "scatter",
         "x": [
          0.09032264831847737,
          -0.008620714316374366,
          null
         ],
         "y": [
          0.22758249541221023,
          -0.2384014836653278,
          null
         ]
        },
        {
         "hoverinfo": "text",
         "line": {
          "color": "peru",
          "width": 0.2527584109751347
         },
         "mode": "lines",
         "text": [
          "<b>1</b>"
         ],
         "type": "scatter",
         "x": [
          0.09032264831847737,
          -0.03799795302862708,
          null
         ],
         "y": [
          0.22758249541221023,
          -0.10046936690130284,
          null
         ]
        },
        {
         "hoverinfo": "text",
         "line": {
          "color": "peru",
          "width": 0.25222748723844507
         },
         "mode": "lines",
         "text": [
          "<b>1</b>"
         ],
         "type": "scatter",
         "x": [
          0.09032264831847737,
          -0.11708530833598096,
          null
         ],
         "y": [
          0.22758249541221023,
          -0.14061218669955314,
          null
         ]
        },
        {
         "hoverinfo": "text",
         "line": {
          "color": "peru",
          "width": 0.2959887522762022
         },
         "mode": "lines",
         "text": [
          "<b>1</b>"
         ],
         "type": "scatter",
         "x": [
          0.09032264831847737,
          -0.23436239491697763,
          null
         ],
         "y": [
          0.22758249541221023,
          0.02962341723103683,
          null
         ]
        },
        {
         "hoverinfo": "text",
         "line": {
          "color": "peru",
          "width": 0.38117717739724527
         },
         "mode": "lines",
         "text": [
          "<b>1</b>"
         ],
         "type": "scatter",
         "x": [
          0.09032264831847737,
          0.225258502357332,
          null
         ],
         "y": [
          0.22758249541221023,
          -0.04718966706519001,
          null
         ]
        },
        {
         "hoverinfo": "text",
         "line": {
          "color": "peru",
          "width": 0.2507439062031093
         },
         "mode": "lines",
         "text": [
          "<b>1</b>"
         ],
         "type": "scatter",
         "x": [
          0.09032264831847737,
          -0.0264655059238801,
          null
         ],
         "y": [
          0.22758249541221023,
          -0.06257900558246596,
          null
         ]
        },
        {
         "hoverinfo": "text",
         "line": {
          "color": "peru",
          "width": 0.25174445540994633
         },
         "mode": "lines",
         "text": [
          "<b>1</b>"
         ],
         "type": "scatter",
         "x": [
          0.09032264831847737,
          0.03097250257589602,
          null
         ],
         "y": [
          0.22758249541221023,
          -0.02726580821300639,
          null
         ]
        },
        {
         "hoverinfo": "text",
         "line": {
          "color": "peru",
          "width": 0.25016622859207316
         },
         "mode": "lines",
         "text": [
          "<b>90</b>"
         ],
         "type": "scatter",
         "x": [
          -0.2787052282098417,
          0.037794014098991364,
          null
         ],
         "y": [
          -0.1423897501743019,
          0.12434741897055317,
          null
         ]
        },
        {
         "hoverinfo": "text",
         "line": {
          "color": "peru",
          "width": 0.2507738870092325
         },
         "mode": "lines",
         "text": [
          "<b>44</b>"
         ],
         "type": "scatter",
         "x": [
          -0.2787052282098417,
          -0.0264655059238801,
          null
         ],
         "y": [
          -0.1423897501743019,
          -0.06257900558246596,
          null
         ]
        },
        {
         "hoverinfo": "text",
         "line": {
          "color": "peru",
          "width": 0.25205002940349164
         },
         "mode": "lines",
         "text": [
          "<b>17</b>"
         ],
         "type": "scatter",
         "x": [
          -0.2787052282098417,
          -0.17466140068503105,
          null
         ],
         "y": [
          -0.1423897501743019,
          -0.008713263447703267,
          null
         ]
        },
        {
         "hoverinfo": "text",
         "line": {
          "color": "peru",
          "width": 0.25261120022654815
         },
         "mode": "lines",
         "text": [
          "<b>16</b>"
         ],
         "type": "scatter",
         "x": [
          -0.2787052282098417,
          0.037112341418509734,
          null
         ],
         "y": [
          -0.1423897501743019,
          -0.06476133803077848,
          null
         ]
        },
        {
         "hoverinfo": "text",
         "line": {
          "color": "peru",
          "width": 0.25045424200127575
         },
         "mode": "lines",
         "text": [
          "<b>11</b>"
         ],
         "type": "scatter",
         "x": [
          -0.2787052282098417,
          0.03097250257589602,
          null
         ],
         "y": [
          -0.1423897501743019,
          -0.02726580821300639,
          null
         ]
        },
        {
         "hoverinfo": "text",
         "line": {
          "color": "peru",
          "width": 0.25007675990705097
         },
         "mode": "lines",
         "text": [
          "<b>11</b>"
         ],
         "type": "scatter",
         "x": [
          -0.2787052282098417,
          -0.008620714316374366,
          null
         ],
         "y": [
          -0.1423897501743019,
          -0.2384014836653278,
          null
         ]
        },
        {
         "hoverinfo": "text",
         "line": {
          "color": "peru",
          "width": 0.250458534756845
         },
         "mode": "lines",
         "text": [
          "<b>7</b>"
         ],
         "type": "scatter",
         "x": [
          -0.2787052282098417,
          -0.03799795302862708,
          null
         ],
         "y": [
          -0.1423897501743019,
          -0.10046936690130284,
          null
         ]
        },
        {
         "hoverinfo": "text",
         "line": {
          "color": "peru",
          "width": 0.2555397189582841
         },
         "mode": "lines",
         "text": [
          "<b>6</b>"
         ],
         "type": "scatter",
         "x": [
          -0.2787052282098417,
          -0.20084994632269787,
          null
         ],
         "y": [
          -0.1423897501743019,
          -0.19226855649186103,
          null
         ]
        },
        {
         "hoverinfo": "text",
         "line": {
          "color": "peru",
          "width": 0.2501572928588116
         },
         "mode": "lines",
         "text": [
          "<b>3</b>"
         ],
         "type": "scatter",
         "x": [
          -0.2787052282098417,
          -0.11708530833598096,
          null
         ],
         "y": [
          -0.1423897501743019,
          -0.14061218669955314,
          null
         ]
        },
        {
         "hoverinfo": "text",
         "line": {
          "color": "peru",
          "width": 0.25131294597212084
         },
         "mode": "lines",
         "text": [
          "<b>3</b>"
         ],
         "type": "scatter",
         "x": [
          -0.2787052282098417,
          -0.15914794116645503,
          null
         ],
         "y": [
          -0.1423897501743019,
          -0.1121283159934214,
          null
         ]
        },
        {
         "hoverinfo": "text",
         "line": {
          "color": "peru",
          "width": 0.25210178674416683
         },
         "mode": "lines",
         "text": [
          "<b>2</b>"
         ],
         "type": "scatter",
         "x": [
          -0.2787052282098417,
          -0.23436239491697763,
          null
         ],
         "y": [
          -0.1423897501743019,
          0.02962341723103683,
          null
         ]
        },
        {
         "hoverinfo": "text",
         "line": {
          "color": "peru",
          "width": 0.2501375930854948
         },
         "mode": "lines",
         "text": [
          "<b>1</b>"
         ],
         "type": "scatter",
         "x": [
          -0.2787052282098417,
          -0.009709271081250317,
          null
         ],
         "y": [
          -0.1423897501743019,
          0.0046491559004002,
          null
         ]
        },
        {
         "hoverinfo": "text",
         "line": {
          "color": "peru",
          "width": 0.250294961039832
         },
         "mode": "lines",
         "text": [
          "<b>1</b>"
         ],
         "type": "scatter",
         "x": [
          -0.2787052282098417,
          0.1383800971725734,
          null
         ],
         "y": [
          -0.1423897501743019,
          -0.017831327287119475,
          null
         ]
        },
        {
         "hoverinfo": "text",
         "line": {
          "color": "peru",
          "width": 0.2512932263401258
         },
         "mode": "lines",
         "text": [
          "<b>1</b>"
         ],
         "type": "scatter",
         "x": [
          -0.2787052282098417,
          0.076044024846554,
          null
         ],
         "y": [
          -0.1423897501743019,
          -0.2285230196945629,
          null
         ]
        },
        {
         "hoverinfo": "text",
         "line": {
          "color": "peru",
          "width": 0.25023980281229674
         },
         "mode": "lines",
         "text": [
          "<b>1</b>"
         ],
         "type": "scatter",
         "x": [
          -0.2787052282098417,
          -0.11764096428606644,
          null
         ],
         "y": [
          -0.1423897501743019,
          0.018569149606881274,
          null
         ]
        },
        {
         "hoverinfo": "text",
         "line": {
          "color": "peru",
          "width": 0.2500840110980149
         },
         "mode": "lines",
         "text": [
          "<b>1</b>"
         ],
         "type": "scatter",
         "x": [
          -0.2787052282098417,
          -0.1565613973253825,
          null
         ],
         "y": [
          -0.1423897501743019,
          -0.04805573240281369,
          null
         ]
        },
        {
         "hoverinfo": "text",
         "line": {
          "color": "peru",
          "width": 0.25817038057026753
         },
         "mode": "lines",
         "text": [
          "<b>14</b>"
         ],
         "type": "scatter",
         "x": [
          0.7096164289417278,
          0.037794014098991364,
          null
         ],
         "y": [
          0.5492891864379245,
          0.12434741897055317,
          null
         ]
        },
        {
         "hoverinfo": "text",
         "line": {
          "color": "peru",
          "width": 0.2508007829525924
         },
         "mode": "lines",
         "text": [
          "<b>22</b>"
         ],
         "type": "scatter",
         "x": [
          0.3503438466787676,
          0.037794014098991364,
          null
         ],
         "y": [
          -0.2042185469656828,
          0.12434741897055317,
          null
         ]
        },
        {
         "hoverinfo": "text",
         "line": {
          "color": "peru",
          "width": 1.4145555997290908
         },
         "mode": "lines",
         "text": [
          "<b>13</b>"
         ],
         "type": "scatter",
         "x": [
          0.3503438466787676,
          0.225258502357332,
          null
         ],
         "y": [
          -0.2042185469656828,
          -0.04718966706519001,
          null
         ]
        },
        {
         "hoverinfo": "text",
         "line": {
          "color": "peru",
          "width": 0.38596795772454556
         },
         "mode": "lines",
         "text": [
          "<b>7</b>"
         ],
         "type": "scatter",
         "x": [
          0.3503438466787676,
          0.1782997712493181,
          null
         ],
         "y": [
          -0.2042185469656828,
          -0.1274569078232588,
          null
         ]
        },
        {
         "hoverinfo": "text",
         "line": {
          "color": "peru",
          "width": 0.25662141269603805
         },
         "mode": "lines",
         "text": [
          "<b>6</b>"
         ],
         "type": "scatter",
         "x": [
          0.3503438466787676,
          -0.11708530833598096,
          null
         ],
         "y": [
          -0.2042185469656828,
          -0.14061218669955314,
          null
         ]
        },
        {
         "hoverinfo": "text",
         "line": {
          "color": "peru",
          "width": 2.0141353102382373
         },
         "mode": "lines",
         "text": [
          "<b>2</b>"
         ],
         "type": "scatter",
         "x": [
          0.3503438466787676,
          0.26434180886269315,
          null
         ],
         "y": [
          -0.2042185469656828,
          -0.1966470007508575,
          null
         ]
        },
        {
         "hoverinfo": "text",
         "line": {
          "color": "peru",
          "width": 0.2562840522532576
         },
         "mode": "lines",
         "text": [
          "<b>2</b>"
         ],
         "type": "scatter",
         "x": [
          0.3503438466787676,
          0.037112341418509734,
          null
         ],
         "y": [
          -0.2042185469656828,
          -0.06476133803077848,
          null
         ]
        },
        {
         "hoverinfo": "text",
         "line": {
          "color": "peru",
          "width": 0.25029467310603365
         },
         "mode": "lines",
         "text": [
          "<b>2</b>"
         ],
         "type": "scatter",
         "x": [
          0.3503438466787676,
          -0.008620714316374366,
          null
         ],
         "y": [
          -0.2042185469656828,
          -0.2384014836653278,
          null
         ]
        },
        {
         "hoverinfo": "text",
         "line": {
          "color": "peru",
          "width": 0.2977142379003754
         },
         "mode": "lines",
         "text": [
          "<b>2</b>"
         ],
         "type": "scatter",
         "x": [
          0.3503438466787676,
          0.076044024846554,
          null
         ],
         "y": [
          -0.2042185469656828,
          -0.2285230196945629,
          null
         ]
        },
        {
         "hoverinfo": "text",
         "line": {
          "color": "peru",
          "width": 0.2503613270745032
         },
         "mode": "lines",
         "text": [
          "<b>1</b>"
         ],
         "type": "scatter",
         "x": [
          0.3503438466787676,
          -0.0264655059238801,
          null
         ],
         "y": [
          -0.2042185469656828,
          -0.06257900558246596,
          null
         ]
        },
        {
         "hoverinfo": "text",
         "line": {
          "color": "peru",
          "width": 0.2503675221835978
         },
         "mode": "lines",
         "text": [
          "<b>750</b>"
         ],
         "type": "scatter",
         "x": [
          -0.06126495757639816,
          0.037794014098991364,
          null
         ],
         "y": [
          -0.15295407143200532,
          0.12434741897055317,
          null
         ]
        },
        {
         "hoverinfo": "text",
         "line": {
          "color": "peru",
          "width": 0.2508180219361152
         },
         "mode": "lines",
         "text": [
          "<b>419</b>"
         ],
         "type": "scatter",
         "x": [
          -0.06126495757639816,
          -0.008620714316374366,
          null
         ],
         "y": [
          -0.15295407143200532,
          -0.2384014836653278,
          null
         ]
        },
        {
         "hoverinfo": "text",
         "line": {
          "color": "peru",
          "width": 0.25165399495602736
         },
         "mode": "lines",
         "text": [
          "<b>179</b>"
         ],
         "type": "scatter",
         "x": [
          -0.06126495757639816,
          0.0021476759594681615,
          null
         ],
         "y": [
          -0.15295407143200532,
          -0.14325253494920223,
          null
         ]
        },
        {
         "hoverinfo": "text",
         "line": {
          "color": "peru",
          "width": 0.2503323815185275
         },
         "mode": "lines",
         "text": [
          "<b>69</b>"
         ],
         "type": "scatter",
         "x": [
          -0.06126495757639816,
          -0.0264655059238801,
          null
         ],
         "y": [
          -0.15295407143200532,
          -0.06257900558246596,
          null
         ]
        },
        {
         "hoverinfo": "text",
         "line": {
          "color": "peru",
          "width": 0.2505141937701456
         },
         "mode": "lines",
         "text": [
          "<b>46</b>"
         ],
         "type": "scatter",
         "x": [
          -0.06126495757639816,
          0.03097250257589602,
          null
         ],
         "y": [
          -0.15295407143200532,
          -0.02726580821300639,
          null
         ]
        },
        {
         "hoverinfo": "text",
         "line": {
          "color": "peru",
          "width": 0.2506350371615284
         },
         "mode": "lines",
         "text": [
          "<b>20</b>"
         ],
         "type": "scatter",
         "x": [
          -0.06126495757639816,
          -0.17466140068503105,
          null
         ],
         "y": [
          -0.15295407143200532,
          -0.008713263447703267,
          null
         ]
        },
        {
         "hoverinfo": "text",
         "line": {
          "color": "peru",
          "width": 0.25027784950056053
         },
         "mode": "lines",
         "text": [
          "<b>16</b>"
         ],
         "type": "scatter",
         "x": [
          -0.06126495757639816,
          -0.03799795302862708,
          null
         ],
         "y": [
          -0.15295407143200532,
          -0.10046936690130284,
          null
         ]
        },
        {
         "hoverinfo": "text",
         "line": {
          "color": "peru",
          "width": 0.250593121951525
         },
         "mode": "lines",
         "text": [
          "<b>14</b>"
         ],
         "type": "scatter",
         "x": [
          -0.06126495757639816,
          0.037112341418509734,
          null
         ],
         "y": [
          -0.15295407143200532,
          -0.06476133803077848,
          null
         ]
        },
        {
         "hoverinfo": "text",
         "line": {
          "color": "peru",
          "width": 0.25011733590270213
         },
         "mode": "lines",
         "text": [
          "<b>6</b>"
         ],
         "type": "scatter",
         "x": [
          -0.06126495757639816,
          -0.1565613973253825,
          null
         ],
         "y": [
          -0.15295407143200532,
          -0.04805573240281369,
          null
         ]
        },
        {
         "hoverinfo": "text",
         "line": {
          "color": "peru",
          "width": 0.25017727801758916
         },
         "mode": "lines",
         "text": [
          "<b>5</b>"
         ],
         "type": "scatter",
         "x": [
          -0.06126495757639816,
          0.03914642094439085,
          null
         ],
         "y": [
          -0.15295407143200532,
          -0.16815542693602434,
          null
         ]
        },
        {
         "hoverinfo": "text",
         "line": {
          "color": "peru",
          "width": 0.25094748857381743
         },
         "mode": "lines",
         "text": [
          "<b>5</b>"
         ],
         "type": "scatter",
         "x": [
          -0.06126495757639816,
          -0.06926016718356055,
          null
         ],
         "y": [
          -0.15295407143200532,
          -0.30758311375772085,
          null
         ]
        },
        {
         "hoverinfo": "text",
         "line": {
          "color": "peru",
          "width": 0.2500728287059736
         },
         "mode": "lines",
         "text": [
          "<b>5</b>"
         ],
         "type": "scatter",
         "x": [
          -0.06126495757639816,
          -0.11708530833598096,
          null
         ],
         "y": [
          -0.15295407143200532,
          -0.14061218669955314,
          null
         ]
        },
        {
         "hoverinfo": "text",
         "line": {
          "color": "peru",
          "width": 0.25053964390232353
         },
         "mode": "lines",
         "text": [
          "<b>5</b>"
         ],
         "type": "scatter",
         "x": [
          -0.06126495757639816,
          -0.15914794116645503,
          null
         ],
         "y": [
          -0.15295407143200532,
          -0.1121283159934214,
          null
         ]
        },
        {
         "hoverinfo": "text",
         "line": {
          "color": "peru",
          "width": 0.2509349903145894
         },
         "mode": "lines",
         "text": [
          "<b>4</b>"
         ],
         "type": "scatter",
         "x": [
          -0.06126495757639816,
          0.1782997712493181,
          null
         ],
         "y": [
          -0.15295407143200532,
          -0.1274569078232588,
          null
         ]
        },
        {
         "hoverinfo": "text",
         "line": {
          "color": "peru",
          "width": 0.25114400169753676
         },
         "mode": "lines",
         "text": [
          "<b>4</b>"
         ],
         "type": "scatter",
         "x": [
          -0.06126495757639816,
          -0.23436239491697763,
          null
         ],
         "y": [
          -0.15295407143200532,
          0.02962341723103683,
          null
         ]
        },
        {
         "hoverinfo": "text",
         "line": {
          "color": "peru",
          "width": 0.25053663394323866
         },
         "mode": "lines",
         "text": [
          "<b>3</b>"
         ],
         "type": "scatter",
         "x": [
          -0.06126495757639816,
          0.026589664548724874,
          null
         ],
         "y": [
          -0.15295407143200532,
          -0.30952614571382137,
          null
         ]
        },
        {
         "hoverinfo": "text",
         "line": {
          "color": "peru",
          "width": 0.25006363326773257
         },
         "mode": "lines",
         "text": [
          "<b>3</b>"
         ],
         "type": "scatter",
         "x": [
          -0.06126495757639816,
          -0.034520369679783496,
          null
         ],
         "y": [
          -0.15295407143200532,
          -0.20641756411669696,
          null
         ]
        },
        {
         "hoverinfo": "text",
         "line": {
          "color": "peru",
          "width": 0.2501977675863552
         },
         "mode": "lines",
         "text": [
          "<b>3</b>"
         ],
         "type": "scatter",
         "x": [
          -0.06126495757639816,
          -0.11764096428606644,
          null
         ],
         "y": [
          -0.15295407143200532,
          0.018569149606881274,
          null
         ]
        },
        {
         "hoverinfo": "text",
         "line": {
          "color": "peru",
          "width": 0.2507439147498664
         },
         "mode": "lines",
         "text": [
          "<b>3</b>"
         ],
         "type": "scatter",
         "x": [
          -0.06126495757639816,
          -0.20084994632269787,
          null
         ],
         "y": [
          -0.15295407143200532,
          -0.19226855649186103,
          null
         ]
        },
        {
         "hoverinfo": "text",
         "line": {
          "color": "peru",
          "width": 0.2503258771321274
         },
         "mode": "lines",
         "text": [
          "<b>2</b>"
         ],
         "type": "scatter",
         "x": [
          -0.06126495757639816,
          -0.21382146535799829,
          null
         ],
         "y": [
          -0.15295407143200532,
          -0.0743844082798468,
          null
         ]
        },
        {
         "hoverinfo": "text",
         "line": {
          "color": "peru",
          "width": 0.2503418789521809
         },
         "mode": "lines",
         "text": [
          "<b>2</b>"
         ],
         "type": "scatter",
         "x": [
          -0.06126495757639816,
          -0.13847531594110257,
          null
         ],
         "y": [
          -0.15295407143200532,
          -0.18547852485274133,
          null
         ]
        },
        {
         "hoverinfo": "text",
         "line": {
          "color": "peru",
          "width": 0.25424736527359953
         },
         "mode": "lines",
         "text": [
          "<b>2</b>"
         ],
         "type": "scatter",
         "x": [
          -0.06126495757639816,
          -0.1360693385956396,
          null
         ],
         "y": [
          -0.15295407143200532,
          0.14614193275385035,
          null
         ]
        },
        {
         "hoverinfo": "text",
         "line": {
          "color": "peru",
          "width": 0.2500742565453899
         },
         "mode": "lines",
         "text": [
          "<b>2</b>"
         ],
         "type": "scatter",
         "x": [
          -0.06126495757639816,
          -0.009709271081250317,
          null
         ],
         "y": [
          -0.15295407143200532,
          0.0046491559004002,
          null
         ]
        },
        {
         "hoverinfo": "text",
         "line": {
          "color": "peru",
          "width": 0.2510910856260215
         },
         "mode": "lines",
         "text": [
          "<b>1</b>"
         ],
         "type": "scatter",
         "x": [
          -0.06126495757639816,
          0.18890539387121066,
          null
         ],
         "y": [
          -0.15295407143200532,
          -0.25721437611247694,
          null
         ]
        },
        {
         "hoverinfo": "text",
         "line": {
          "color": "peru",
          "width": 0.2501485723827843
         },
         "mode": "lines",
         "text": [
          "<b>1</b>"
         ],
         "type": "scatter",
         "x": [
          -0.06126495757639816,
          0.08602385684170852,
          null
         ],
         "y": [
          -0.15295407143200532,
          -0.09889936429271984,
          null
         ]
        },
        {
         "hoverinfo": "text",
         "line": {
          "color": "peru",
          "width": 0.25031655700435496
         },
         "mode": "lines",
         "text": [
          "<b>1</b>"
         ],
         "type": "scatter",
         "x": [
          -0.06126495757639816,
          0.076044024846554,
          null
         ],
         "y": [
          -0.15295407143200532,
          -0.2285230196945629,
          null
         ]
        },
        {
         "hoverinfo": "text",
         "line": {
          "color": "peru",
          "width": 0.25060378851849335
         },
         "mode": "lines",
         "text": [
          "<b>1</b>"
         ],
         "type": "scatter",
         "x": [
          -0.06126495757639816,
          0.12380093032622776,
          null
         ],
         "y": [
          -0.15295407143200532,
          0.055414571222401655,
          null
         ]
        },
        {
         "hoverinfo": "text",
         "line": {
          "color": "peru",
          "width": 0.250514482872093
         },
         "mode": "lines",
         "text": [
          "<b>1</b>"
         ],
         "type": "scatter",
         "x": [
          -0.06126495757639816,
          -0.3216013916991431,
          null
         ],
         "y": [
          -0.15295407143200532,
          -0.10395182662034332,
          null
         ]
        },
        {
         "hoverinfo": "text",
         "line": {
          "color": "peru",
          "width": 0.2501323144588183
         },
         "mode": "lines",
         "text": [
          "<b>1</b>"
         ],
         "type": "scatter",
         "x": [
          -0.06126495757639816,
          -0.060870871982170276,
          null
         ],
         "y": [
          -0.15295407143200532,
          0.05847561375370165,
          null
         ]
        },
        {
         "hoverinfo": "text",
         "line": {
          "color": "peru",
          "width": 0.2567203704174408
         },
         "mode": "lines",
         "text": [
          "<b>1</b>"
         ],
         "type": "scatter",
         "x": [
          -0.06126495757639816,
          0.26434180886269315,
          null
         ],
         "y": [
          -0.15295407143200532,
          -0.1966470007508575,
          null
         ]
        },
        {
         "hoverinfo": "text",
         "line": {
          "color": "peru",
          "width": 0.25005299430062605
         },
         "mode": "lines",
         "text": [
          "<b>1</b>"
         ],
         "type": "scatter",
         "x": [
          -0.06126495757639816,
          -0.13921754181663373,
          null
         ],
         "y": [
          -0.15295407143200532,
          -0.2230008879936063,
          null
         ]
        },
        {
         "hoverinfo": "text",
         "line": {
          "color": "peru",
          "width": 0.2505855249161469
         },
         "mode": "lines",
         "text": [
          "<b>1</b>"
         ],
         "type": "scatter",
         "x": [
          -0.06126495757639816,
          -0.014496133191631221,
          null
         ],
         "y": [
          -0.15295407143200532,
          0.14458655088238995,
          null
         ]
        },
        {
         "hoverinfo": "text",
         "line": {
          "color": "peru",
          "width": 0.25068384976259667
         },
         "mode": "lines",
         "text": [
          "<b>1</b>"
         ],
         "type": "scatter",
         "x": [
          -0.06126495757639816,
          -0.28703581271306317,
          null
         ],
         "y": [
          -0.15295407143200532,
          -0.2371482169447177,
          null
         ]
        },
        {
         "hoverinfo": "text",
         "line": {
          "color": "peru",
          "width": 0.2500763102825148
         },
         "mode": "lines",
         "text": [
          "<b>1</b>"
         ],
         "type": "scatter",
         "x": [
          -0.06126495757639816,
          0.1383800971725734,
          null
         ],
         "y": [
          -0.15295407143200532,
          -0.017831327287119475,
          null
         ]
        },
        {
         "hoverinfo": "text",
         "line": {
          "color": "peru",
          "width": 0.2504465725502858
         },
         "mode": "lines",
         "text": [
          "<b>1621</b>"
         ],
         "type": "scatter",
         "x": [
          -0.17466140068503105,
          0.037794014098991364,
          null
         ],
         "y": [
          -0.008713263447703267,
          0.12434741897055317,
          null
         ]
        },
        {
         "hoverinfo": "text",
         "line": {
          "color": "peru",
          "width": 0.254528931311638
         },
         "mode": "lines",
         "text": [
          "<b>257</b>"
         ],
         "type": "scatter",
         "x": [
          -0.17466140068503105,
          -0.17466140068503105,
          null
         ],
         "y": [
          -0.008713263447703267,
          -0.008713263447703267,
          null
         ]
        },
        {
         "hoverinfo": "text",
         "line": {
          "color": "peru",
          "width": 0.2505987080222815
         },
         "mode": "lines",
         "text": [
          "<b>202</b>"
         ],
         "type": "scatter",
         "x": [
          -0.17466140068503105,
          -0.0264655059238801,
          null
         ],
         "y": [
          -0.008713263447703267,
          -0.06257900558246596,
          null
         ]
        },
        {
         "hoverinfo": "text",
         "line": {
          "color": "peru",
          "width": 0.25024536086617655
         },
         "mode": "lines",
         "text": [
          "<b>192</b>"
         ],
         "type": "scatter",
         "x": [
          -0.17466140068503105,
          -0.008620714316374366,
          null
         ],
         "y": [
          -0.008713263447703267,
          -0.2384014836653278,
          null
         ]
        },
        {
         "hoverinfo": "text",
         "line": {
          "color": "peru",
          "width": 0.25100490810331466
         },
         "mode": "lines",
         "text": [
          "<b>103</b>"
         ],
         "type": "scatter",
         "x": [
          -0.17466140068503105,
          -0.03799795302862708,
          null
         ],
         "y": [
          -0.008713263447703267,
          -0.10046936690130284,
          null
         ]
        },
        {
         "hoverinfo": "text",
         "line": {
          "color": "peru",
          "width": 0.25054701325795503
         },
         "mode": "lines",
         "text": [
          "<b>94</b>"
         ],
         "type": "scatter",
         "x": [
          -0.17466140068503105,
          0.0021476759594681615,
          null
         ],
         "y": [
          -0.008713263447703267,
          -0.14325253494920223,
          null
         ]
        },
        {
         "hoverinfo": "text",
         "line": {
          "color": "peru",
          "width": 0.25213160467313583
         },
         "mode": "lines",
         "text": [
          "<b>94</b>"
         ],
         "type": "scatter",
         "x": [
          -0.17466140068503105,
          0.037112341418509734,
          null
         ],
         "y": [
          -0.008713263447703267,
          -0.06476133803077848,
          null
         ]
        },
        {
         "hoverinfo": "text",
         "line": {
          "color": "peru",
          "width": 0.25045140951391354
         },
         "mode": "lines",
         "text": [
          "<b>68</b>"
         ],
         "type": "scatter",
         "x": [
          -0.17466140068503105,
          0.03097250257589602,
          null
         ],
         "y": [
          -0.008713263447703267,
          -0.02726580821300639,
          null
         ]
        },
        {
         "hoverinfo": "text",
         "line": {
          "color": "peru",
          "width": 0.25036622602011505
         },
         "mode": "lines",
         "text": [
          "<b>44</b>"
         ],
         "type": "scatter",
         "x": [
          -0.17466140068503105,
          -0.1565613973253825,
          null
         ],
         "y": [
          -0.008713263447703267,
          -0.04805573240281369,
          null
         ]
        },
        {
         "hoverinfo": "text",
         "line": {
          "color": "peru",
          "width": 0.2504155201431199
         },
         "mode": "lines",
         "text": [
          "<b>19</b>"
         ],
         "type": "scatter",
         "x": [
          -0.17466140068503105,
          -0.009709271081250317,
          null
         ],
         "y": [
          -0.008713263447703267,
          0.0046491559004002,
          null
         ]
        },
        {
         "hoverinfo": "text",
         "line": {
          "color": "peru",
          "width": 0.25036206217433205
         },
         "mode": "lines",
         "text": [
          "<b>18</b>"
         ],
         "type": "scatter",
         "x": [
          -0.17466140068503105,
          0.03914642094439085,
          null
         ],
         "y": [
          -0.008713263447703267,
          -0.16815542693602434,
          null
         ]
        },
        {
         "hoverinfo": "text",
         "line": {
          "color": "peru",
          "width": 0.25087232383755054
         },
         "mode": "lines",
         "text": [
          "<b>17</b>"
         ],
         "type": "scatter",
         "x": [
          -0.17466140068503105,
          -0.15914794116645503,
          null
         ],
         "y": [
          -0.008713263447703267,
          -0.1121283159934214,
          null
         ]
        },
        {
         "hoverinfo": "text",
         "line": {
          "color": "peru",
          "width": 0.25237609120153065
         },
         "mode": "lines",
         "text": [
          "<b>16</b>"
         ],
         "type": "scatter",
         "x": [
          -0.17466140068503105,
          0.076044024846554,
          null
         ],
         "y": [
          -0.008713263447703267,
          -0.2285230196945629,
          null
         ]
        },
        {
         "hoverinfo": "text",
         "line": {
          "color": "peru",
          "width": 0.25052009977715806
         },
         "mode": "lines",
         "text": [
          "<b>16</b>"
         ],
         "type": "scatter",
         "x": [
          -0.17466140068503105,
          -0.13921754181663373,
          null
         ],
         "y": [
          -0.008713263447703267,
          -0.2230008879936063,
          null
         ]
        },
        {
         "hoverinfo": "text",
         "line": {
          "color": "peru",
          "width": 0.25011218560830745
         },
         "mode": "lines",
         "text": [
          "<b>12</b>"
         ],
         "type": "scatter",
         "x": [
          -0.17466140068503105,
          -0.11708530833598096,
          null
         ],
         "y": [
          -0.008713263447703267,
          -0.14061218669955314,
          null
         ]
        },
        {
         "hoverinfo": "text",
         "line": {
          "color": "peru",
          "width": 0.2504435177890067
         },
         "mode": "lines",
         "text": [
          "<b>11</b>"
         ],
         "type": "scatter",
         "x": [
          -0.17466140068503105,
          0.1383800971725734,
          null
         ],
         "y": [
          -0.008713263447703267,
          -0.017831327287119475,
          null
         ]
        },
        {
         "hoverinfo": "text",
         "line": {
          "color": "peru",
          "width": 0.25086569215798277
         },
         "mode": "lines",
         "text": [
          "<b>11</b>"
         ],
         "type": "scatter",
         "x": [
          -0.17466140068503105,
          -0.13847531594110257,
          null
         ],
         "y": [
          -0.008713263447703267,
          -0.18547852485274133,
          null
         ]
        },
        {
         "hoverinfo": "text",
         "line": {
          "color": "peru",
          "width": 0.2508341927728205
         },
         "mode": "lines",
         "text": [
          "<b>10</b>"
         ],
         "type": "scatter",
         "x": [
          -0.17466140068503105,
          -0.21382146535799829,
          null
         ],
         "y": [
          -0.008713263447703267,
          -0.0743844082798468,
          null
         ]
        },
        {
         "hoverinfo": "text",
         "line": {
          "color": "peru",
          "width": 0.2501254799144956
         },
         "mode": "lines",
         "text": [
          "<b>9</b>"
         ],
         "type": "scatter",
         "x": [
          -0.17466140068503105,
          -0.034520369679783496,
          null
         ],
         "y": [
          -0.008713263447703267,
          -0.20641756411669696,
          null
         ]
        },
        {
         "hoverinfo": "text",
         "line": {
          "color": "peru",
          "width": 0.25328935837874583
         },
         "mode": "lines",
         "text": [
          "<b>9</b>"
         ],
         "type": "scatter",
         "x": [
          -0.17466140068503105,
          -0.28703581271306317,
          null
         ],
         "y": [
          -0.008713263447703267,
          -0.2371482169447177,
          null
         ]
        },
        {
         "hoverinfo": "text",
         "line": {
          "color": "peru",
          "width": 0.2515567926280841
         },
         "mode": "lines",
         "text": [
          "<b>9</b>"
         ],
         "type": "scatter",
         "x": [
          -0.17466140068503105,
          -0.23436239491697763,
          null
         ],
         "y": [
          -0.008713263447703267,
          0.02962341723103683,
          null
         ]
        },
        {
         "hoverinfo": "text",
         "line": {
          "color": "peru",
          "width": 0.2507741055888044
         },
         "mode": "lines",
         "text": [
          "<b>8</b>"
         ],
         "type": "scatter",
         "x": [
          -0.17466140068503105,
          -0.17699050553477794,
          null
         ],
         "y": [
          -0.008713263447703267,
          0.08436261288959324,
          null
         ]
        },
        {
         "hoverinfo": "text",
         "line": {
          "color": "peru",
          "width": 0.25049777623210306
         },
         "mode": "lines",
         "text": [
          "<b>7</b>"
         ],
         "type": "scatter",
         "x": [
          -0.17466140068503105,
          -0.060870871982170276,
          null
         ],
         "y": [
          -0.008713263447703267,
          0.05847561375370165,
          null
         ]
        },
        {
         "hoverinfo": "text",
         "line": {
          "color": "peru",
          "width": 0.2504047924335412
         },
         "mode": "lines",
         "text": [
          "<b>5</b>"
         ],
         "type": "scatter",
         "x": [
          -0.17466140068503105,
          0.08602385684170852,
          null
         ],
         "y": [
          -0.008713263447703267,
          -0.09889936429271984,
          null
         ]
        },
        {
         "hoverinfo": "text",
         "line": {
          "color": "peru",
          "width": 0.25020481528685035
         },
         "mode": "lines",
         "text": [
          "<b>5</b>"
         ],
         "type": "scatter",
         "x": [
          -0.17466140068503105,
          -0.11764096428606644,
          null
         ],
         "y": [
          -0.008713263447703267,
          0.018569149606881274,
          null
         ]
        },
        {
         "hoverinfo": "text",
         "line": {
          "color": "peru",
          "width": 0.4439854391301469
         },
         "mode": "lines",
         "text": [
          "<b>5</b>"
         ],
         "type": "scatter",
         "x": [
          -0.17466140068503105,
          -0.870476139107894,
          null
         ],
         "y": [
          -0.008713263447703267,
          0.05021963589959825,
          null
         ]
        },
        {
         "hoverinfo": "text",
         "line": {
          "color": "peru",
          "width": 0.2507529267304642
         },
         "mode": "lines",
         "text": [
          "<b>5</b>"
         ],
         "type": "scatter",
         "x": [
          -0.17466140068503105,
          0.1782997712493181,
          null
         ],
         "y": [
          -0.008713263447703267,
          -0.1274569078232588,
          null
         ]
        },
        {
         "hoverinfo": "text",
         "line": {
          "color": "peru",
          "width": 0.2517989806905452
         },
         "mode": "lines",
         "text": [
          "<b>4</b>"
         ],
         "type": "scatter",
         "x": [
          -0.17466140068503105,
          0.225258502357332,
          null
         ],
         "y": [
          -0.008713263447703267,
          -0.04718966706519001,
          null
         ]
        },
        {
         "hoverinfo": "text",
         "line": {
          "color": "peru",
          "width": 0.2511880500931713
         },
         "mode": "lines",
         "text": [
          "<b>4</b>"
         ],
         "type": "scatter",
         "x": [
          -0.17466140068503105,
          -0.014496133191631221,
          null
         ],
         "y": [
          -0.008713263447703267,
          0.14458655088238995,
          null
         ]
        },
        {
         "hoverinfo": "text",
         "line": {
          "color": "peru",
          "width": 0.250405913425567
         },
         "mode": "lines",
         "text": [
          "<b>4</b>"
         ],
         "type": "scatter",
         "x": [
          -0.17466140068503105,
          0.026589664548724874,
          null
         ],
         "y": [
          -0.008713263447703267,
          -0.30952614571382137,
          null
         ]
        },
        {
         "hoverinfo": "text",
         "line": {
          "color": "peru",
          "width": 0.25194499274259197
         },
         "mode": "lines",
         "text": [
          "<b>3</b>"
         ],
         "type": "scatter",
         "x": [
          -0.17466140068503105,
          0.18890539387121066,
          null
         ],
         "y": [
          -0.008713263447703267,
          -0.25721437611247694,
          null
         ]
        },
        {
         "hoverinfo": "text",
         "line": {
          "color": "peru",
          "width": 0.2504371056439013
         },
         "mode": "lines",
         "text": [
          "<b>3</b>"
         ],
         "type": "scatter",
         "x": [
          -0.17466140068503105,
          -0.20084994632269787,
          null
         ],
         "y": [
          -0.008713263447703267,
          -0.19226855649186103,
          null
         ]
        },
        {
         "hoverinfo": "text",
         "line": {
          "color": "peru",
          "width": 0.2503308018363547
         },
         "mode": "lines",
         "text": [
          "<b>3</b>"
         ],
         "type": "scatter",
         "x": [
          -0.17466140068503105,
          -0.06926016718356055,
          null
         ],
         "y": [
          -0.008713263447703267,
          -0.30758311375772085,
          null
         ]
        },
        {
         "hoverinfo": "text",
         "line": {
          "color": "peru",
          "width": 0.25072058503578637
         },
         "mode": "lines",
         "text": [
          "<b>1</b>"
         ],
         "type": "scatter",
         "x": [
          -0.17466140068503105,
          -0.15761049738613608,
          null
         ],
         "y": [
          -0.008713263447703267,
          -0.3150798978482202,
          null
         ]
        },
        {
         "hoverinfo": "text",
         "line": {
          "color": "peru",
          "width": 0.25390820092341854
         },
         "mode": "lines",
         "text": [
          "<b>1</b>"
         ],
         "type": "scatter",
         "x": [
          -0.17466140068503105,
          -0.45566646999102844,
          null
         ],
         "y": [
          -0.008713263447703267,
          -0.3086962806174099,
          null
         ]
        },
        {
         "hoverinfo": "text",
         "line": {
          "color": "peru",
          "width": 0.25418153584376774
         },
         "mode": "lines",
         "text": [
          "<b>1</b>"
         ],
         "type": "scatter",
         "x": [
          -0.17466140068503105,
          0.26434180886269315,
          null
         ],
         "y": [
          -0.008713263447703267,
          -0.1966470007508575,
          null
         ]
        },
        {
         "hoverinfo": "text",
         "line": {
          "color": "peru",
          "width": 0.2599890938040017
         },
         "mode": "lines",
         "text": [
          "<b>1</b>"
         ],
         "type": "scatter",
         "x": [
          -0.17466140068503105,
          0.30041709745930495,
          null
         ],
         "y": [
          -0.008713263447703267,
          0.3296958791155544,
          null
         ]
        },
        {
         "hoverinfo": "text",
         "line": {
          "color": "peru",
          "width": 0.25250661543082953
         },
         "mode": "lines",
         "text": [
          "<b>1</b>"
         ],
         "type": "scatter",
         "x": [
          -0.17466140068503105,
          -0.4907078785290733,
          null
         ],
         "y": [
          -0.008713263447703267,
          -0.10678684678237646,
          null
         ]
        },
        {
         "hoverinfo": "text",
         "line": {
          "color": "peru",
          "width": 0.2641458938621897
         },
         "mode": "lines",
         "text": [
          "<b>1</b>"
         ],
         "type": "scatter",
         "x": [
          -0.17466140068503105,
          -0.49909233227621014,
          null
         ],
         "y": [
          -0.008713263447703267,
          0.4580884985480045,
          null
         ]
        },
        {
         "hoverinfo": "text",
         "line": {
          "color": "peru",
          "width": 0.250356251695984
         },
         "mode": "lines",
         "text": [
          "<b>1</b>"
         ],
         "type": "scatter",
         "x": [
          -0.17466140068503105,
          0.12380093032622776,
          null
         ],
         "y": [
          -0.008713263447703267,
          0.055414571222401655,
          null
         ]
        },
        {
         "hoverinfo": "text",
         "line": {
          "color": "peru",
          "width": 0.25233445765003365
         },
         "mode": "lines",
         "text": [
          "<b>1</b>"
         ],
         "type": "scatter",
         "x": [
          -0.17466140068503105,
          0.14140656101499638,
          null
         ],
         "y": [
          -0.008713263447703267,
          0.1534315269562114,
          null
         ]
        },
        {
         "hoverinfo": "text",
         "line": {
          "color": "peru",
          "width": 0.25106351974719165
         },
         "mode": "lines",
         "text": [
          "<b>11</b>"
         ],
         "type": "scatter",
         "x": [
          0.5841165607900559,
          0.037794014098991364,
          null
         ],
         "y": [
          0.09611893168005317,
          0.12434741897055317,
          null
         ]
        },
        {
         "hoverinfo": "text",
         "line": {
          "color": "peru",
          "width": 0.2607395594612555
         },
         "mode": "lines",
         "text": [
          "<b>1</b>"
         ],
         "type": "scatter",
         "x": [
          0.5841165607900559,
          0.1383800971725734,
          null
         ],
         "y": [
          0.09611893168005317,
          -0.017831327287119475,
          null
         ]
        },
        {
         "hoverinfo": "text",
         "line": {
          "color": "peru",
          "width": 0.2533684143428795
         },
         "mode": "lines",
         "text": [
          "<b>1</b>"
         ],
         "type": "scatter",
         "x": [
          0.5841165607900559,
          0.03097250257589602,
          null
         ],
         "y": [
          0.09611893168005317,
          -0.02726580821300639,
          null
         ]
        },
        {
         "hoverinfo": "text",
         "line": {
          "color": "peru",
          "width": 0.2504204324698329
         },
         "mode": "lines",
         "text": [
          "<b>73</b>"
         ],
         "type": "scatter",
         "x": [
          -0.28703581271306317,
          0.037794014098991364,
          null
         ],
         "y": [
          -0.2371482169447177,
          0.12434741897055317,
          null
         ]
        },
        {
         "hoverinfo": "text",
         "line": {
          "color": "peru",
          "width": 0.36308994814566065
         },
         "mode": "lines",
         "text": [
          "<b>62</b>"
         ],
         "type": "scatter",
         "x": [
          -0.28703581271306317,
          -0.21382146535799829,
          null
         ],
         "y": [
          -0.2371482169447177,
          -0.0743844082798468,
          null
         ]
        },
        {
         "hoverinfo": "text",
         "line": {
          "color": "peru",
          "width": 0.2531548304625179
         },
         "mode": "lines",
         "text": [
          "<b>20</b>"
         ],
         "type": "scatter",
         "x": [
          -0.28703581271306317,
          -0.1565613973253825,
          null
         ],
         "y": [
          -0.2371482169447177,
          -0.04805573240281369,
          null
         ]
        },
        {
         "hoverinfo": "text",
         "line": {
          "color": "peru",
          "width": 0.25096951230052505
         },
         "mode": "lines",
         "text": [
          "<b>15</b>"
         ],
         "type": "scatter",
         "x": [
          -0.28703581271306317,
          -0.0264655059238801,
          null
         ],
         "y": [
          -0.2371482169447177,
          -0.06257900558246596,
          null
         ]
        },
        {
         "hoverinfo": "text",
         "line": {
          "color": "peru",
          "width": 0.25025904229464335
         },
         "mode": "lines",
         "text": [
          "<b>9</b>"
         ],
         "type": "scatter",
         "x": [
          -0.28703581271306317,
          -0.008620714316374366,
          null
         ],
         "y": [
          -0.2371482169447177,
          -0.2384014836653278,
          null
         ]
        },
        {
         "hoverinfo": "text",
         "line": {
          "color": "peru",
          "width": 0.2505137480980976
         },
         "mode": "lines",
         "text": [
          "<b>4</b>"
         ],
         "type": "scatter",
         "x": [
          -0.28703581271306317,
          0.0021476759594681615,
          null
         ],
         "y": [
          -0.2371482169447177,
          -0.14325253494920223,
          null
         ]
        },
        {
         "hoverinfo": "text",
         "line": {
          "color": "peru",
          "width": 0.25056917306105814
         },
         "mode": "lines",
         "text": [
          "<b>4</b>"
         ],
         "type": "scatter",
         "x": [
          -0.28703581271306317,
          0.03097250257589602,
          null
         ],
         "y": [
          -0.2371482169447177,
          -0.02726580821300639,
          null
         ]
        },
        {
         "hoverinfo": "text",
         "line": {
          "color": "peru",
          "width": 0.30783717709273223
         },
         "mode": "lines",
         "text": [
          "<b>3</b>"
         ],
         "type": "scatter",
         "x": [
          -0.28703581271306317,
          -0.2830525026756416,
          null
         ],
         "y": [
          -0.2371482169447177,
          -0.376171070009455,
          null
         ]
        },
        {
         "hoverinfo": "text",
         "line": {
          "color": "peru",
          "width": 0.26130976094642167
         },
         "mode": "lines",
         "text": [
          "<b>3</b>"
         ],
         "type": "scatter",
         "x": [
          -0.28703581271306317,
          -0.23436239491697763,
          null
         ],
         "y": [
          -0.2371482169447177,
          0.02962341723103683,
          null
         ]
        },
        {
         "hoverinfo": "text",
         "line": {
          "color": "peru",
          "width": 0.2562458650170804
         },
         "mode": "lines",
         "text": [
          "<b>2</b>"
         ],
         "type": "scatter",
         "x": [
          -0.28703581271306317,
          -0.20084994632269787,
          null
         ],
         "y": [
          -0.2371482169447177,
          -0.19226855649186103,
          null
         ]
        },
        {
         "hoverinfo": "text",
         "line": {
          "color": "peru",
          "width": 0.25201233090904207
         },
         "mode": "lines",
         "text": [
          "<b>2</b>"
         ],
         "type": "scatter",
         "x": [
          -0.28703581271306317,
          -0.15914794116645503,
          null
         ],
         "y": [
          -0.2371482169447177,
          -0.1121283159934214,
          null
         ]
        },
        {
         "hoverinfo": "text",
         "line": {
          "color": "peru",
          "width": 0.25020830618107404
         },
         "mode": "lines",
         "text": [
          "<b>1</b>"
         ],
         "type": "scatter",
         "x": [
          -0.28703581271306317,
          -0.11708530833598096,
          null
         ],
         "y": [
          -0.2371482169447177,
          -0.14061218669955314,
          null
         ]
        },
        {
         "hoverinfo": "text",
         "line": {
          "color": "peru",
          "width": 0.25020372108800576
         },
         "mode": "lines",
         "text": [
          "<b>1</b>"
         ],
         "type": "scatter",
         "x": [
          -0.28703581271306317,
          -0.03799795302862708,
          null
         ],
         "y": [
          -0.2371482169447177,
          -0.10046936690130284,
          null
         ]
        },
        {
         "hoverinfo": "text",
         "line": {
          "color": "peru",
          "width": 0.25234562051816756
         },
         "mode": "lines",
         "text": [
          "<b>1</b>"
         ],
         "type": "scatter",
         "x": [
          -0.28703581271306317,
          -0.06926016718356055,
          null
         ],
         "y": [
          -0.2371482169447177,
          -0.30758311375772085,
          null
         ]
        },
        {
         "hoverinfo": "text",
         "line": {
          "color": "peru",
          "width": 0.25046350472288387
         },
         "mode": "lines",
         "text": [
          "<b>1</b>"
         ],
         "type": "scatter",
         "x": [
          -0.28703581271306317,
          0.037112341418509734,
          null
         ],
         "y": [
          -0.2371482169447177,
          -0.06476133803077848,
          null
         ]
        },
        {
         "hoverinfo": "text",
         "line": {
          "color": "peru",
          "width": 0.25044409603074086
         },
         "mode": "lines",
         "text": [
          "<b>33</b>"
         ],
         "type": "scatter",
         "x": [
          -0.1360693385956396,
          0.037794014098991364,
          null
         ],
         "y": [
          0.14614193275385035,
          0.12434741897055317,
          null
         ]
        },
        {
         "hoverinfo": "text",
         "line": {
          "color": "peru",
          "width": 0.2573657921180443
         },
         "mode": "lines",
         "text": [
          "<b>7</b>"
         ],
         "type": "scatter",
         "x": [
          -0.1360693385956396,
          -0.11708530833598096,
          null
         ],
         "y": [
          0.14614193275385035,
          -0.14061218669955314,
          null
         ]
        },
        {
         "hoverinfo": "text",
         "line": {
          "color": "peru",
          "width": 0.2509072623388163
         },
         "mode": "lines",
         "text": [
          "<b>5</b>"
         ],
         "type": "scatter",
         "x": [
          -0.1360693385956396,
          -0.008620714316374366,
          null
         ],
         "y": [
          0.14614193275385035,
          -0.2384014836653278,
          null
         ]
        },
        {
         "hoverinfo": "text",
         "line": {
          "color": "peru",
          "width": 0.2504135807157211
         },
         "mode": "lines",
         "text": [
          "<b>2</b>"
         ],
         "type": "scatter",
         "x": [
          -0.1360693385956396,
          -0.1565613973253825,
          null
         ],
         "y": [
          0.14614193275385035,
          -0.04805573240281369,
          null
         ]
        },
        {
         "hoverinfo": "text",
         "line": {
          "color": "peru",
          "width": 0.25046304729909263
         },
         "mode": "lines",
         "text": [
          "<b>2</b>"
         ],
         "type": "scatter",
         "x": [
          -0.1360693385956396,
          -0.0264655059238801,
          null
         ],
         "y": [
          0.14614193275385035,
          -0.06257900558246596,
          null
         ]
        },
        {
         "hoverinfo": "text",
         "line": {
          "color": "peru",
          "width": 0.2513179433796937
         },
         "mode": "lines",
         "text": [
          "<b>1</b>"
         ],
         "type": "scatter",
         "x": [
          -0.1360693385956396,
          -0.009709271081250317,
          null
         ],
         "y": [
          0.14614193275385035,
          0.0046491559004002,
          null
         ]
        },
        {
         "hoverinfo": "text",
         "line": {
          "color": "peru",
          "width": 0.25101969211832637
         },
         "mode": "lines",
         "text": [
          "<b>1</b>"
         ],
         "type": "scatter",
         "x": [
          -0.1360693385956396,
          0.03914642094439085,
          null
         ],
         "y": [
          0.14614193275385035,
          -0.16815542693602434,
          null
         ]
        },
        {
         "hoverinfo": "text",
         "line": {
          "color": "peru",
          "width": 0.2504740827645767
         },
         "mode": "lines",
         "text": [
          "<b>1</b>"
         ],
         "type": "scatter",
         "x": [
          -0.1360693385956396,
          -0.03799795302862708,
          null
         ],
         "y": [
          0.14614193275385035,
          -0.10046936690130284,
          null
         ]
        },
        {
         "hoverinfo": "text",
         "line": {
          "color": "peru",
          "width": 0.2505492429985657
         },
         "mode": "lines",
         "text": [
          "<b>1</b>"
         ],
         "type": "scatter",
         "x": [
          -0.1360693385956396,
          0.0021476759594681615,
          null
         ],
         "y": [
          0.14614193275385035,
          -0.14325253494920223,
          null
         ]
        },
        {
         "hoverinfo": "text",
         "line": {
          "color": "peru",
          "width": 0.3588711826272366
         },
         "mode": "lines",
         "text": [
          "<b>1</b>"
         ],
         "type": "scatter",
         "x": [
          -0.1360693385956396,
          0.12187876408755381,
          null
         ],
         "y": [
          0.14614193275385035,
          0.40402596435716875,
          null
         ]
        },
        {
         "hoverinfo": "text",
         "line": {
          "color": "peru",
          "width": 0.25155370454541115
         },
         "mode": "lines",
         "text": [
          "<b>1</b>"
         ],
         "type": "scatter",
         "x": [
          -0.1360693385956396,
          -0.15914794116645503,
          null
         ],
         "y": [
          0.14614193275385035,
          -0.1121283159934214,
          null
         ]
        },
        {
         "hoverinfo": "text",
         "line": {
          "color": "peru",
          "width": 0.2589681287862938
         },
         "mode": "lines",
         "text": [
          "<b>1</b>"
         ],
         "type": "scatter",
         "x": [
          -0.1360693385956396,
          -0.17699050553477794,
          null
         ],
         "y": [
          0.14614193275385035,
          0.08436261288959324,
          null
         ]
        },
        {
         "hoverinfo": "text",
         "line": {
          "color": "peru",
          "width": 0.25223625724946885
         },
         "mode": "lines",
         "text": [
          "<b>1</b>"
         ],
         "type": "scatter",
         "x": [
          -0.1360693385956396,
          -0.13847531594110257,
          null
         ],
         "y": [
          0.14614193275385035,
          -0.18547852485274133,
          null
         ]
        },
        {
         "hoverinfo": "text",
         "line": {
          "color": "peru",
          "width": 0.25092586563499336
         },
         "mode": "lines",
         "text": [
          "<b>1</b>"
         ],
         "type": "scatter",
         "x": [
          -0.1360693385956396,
          0.037112341418509734,
          null
         ],
         "y": [
          0.14614193275385035,
          -0.06476133803077848,
          null
         ]
        },
        {
         "hoverinfo": "text",
         "line": {
          "color": "peru",
          "width": 0.25353155416983175
         },
         "mode": "lines",
         "text": [
          "<b>1</b>"
         ],
         "type": "scatter",
         "x": [
          -0.1360693385956396,
          0.08602385684170852,
          null
         ],
         "y": [
          0.14614193275385035,
          -0.09889936429271984,
          null
         ]
        },
        {
         "hoverinfo": "text",
         "line": {
          "color": "peru",
          "width": 0.2502215322407185
         },
         "mode": "lines",
         "text": [
          "<b>1</b>"
         ],
         "type": "scatter",
         "x": [
          -0.49909233227621014,
          0.037794014098991364,
          null
         ],
         "y": [
          0.4580884985480045,
          0.12434741897055317,
          null
         ]
        },
        {
         "hoverinfo": "text",
         "line": {
          "color": "peru",
          "width": 0.2505194197498775
         },
         "mode": "lines",
         "text": [
          "<b>628</b>"
         ],
         "type": "scatter",
         "x": [
          -0.15914794116645503,
          0.037794014098991364,
          null
         ],
         "y": [
          -0.1121283159934214,
          0.12434741897055317,
          null
         ]
        },
        {
         "hoverinfo": "text",
         "line": {
          "color": "peru",
          "width": 0.2506832630342498
         },
         "mode": "lines",
         "text": [
          "<b>127</b>"
         ],
         "type": "scatter",
         "x": [
          -0.15914794116645503,
          -0.008620714316374366,
          null
         ],
         "y": [
          -0.1121283159934214,
          -0.2384014836653278,
          null
         ]
        },
        {
         "hoverinfo": "text",
         "line": {
          "color": "peru",
          "width": 0.25065976293110687
         },
         "mode": "lines",
         "text": [
          "<b>62</b>"
         ],
         "type": "scatter",
         "x": [
          -0.15914794116645503,
          -0.0264655059238801,
          null
         ],
         "y": [
          -0.1121283159934214,
          -0.06257900558246596,
          null
         ]
        },
        {
         "hoverinfo": "text",
         "line": {
          "color": "peru",
          "width": 0.2505622552445448
         },
         "mode": "lines",
         "text": [
          "<b>32</b>"
         ],
         "type": "scatter",
         "x": [
          -0.15914794116645503,
          -0.1565613973253825,
          null
         ],
         "y": [
          -0.1121283159934214,
          -0.04805573240281369,
          null
         ]
        },
        {
         "hoverinfo": "text",
         "line": {
          "color": "peru",
          "width": 0.25068516068983954
         },
         "mode": "lines",
         "text": [
          "<b>31</b>"
         ],
         "type": "scatter",
         "x": [
          -0.15914794116645503,
          0.03097250257589602,
          null
         ],
         "y": [
          -0.1121283159934214,
          -0.02726580821300639,
          null
         ]
        },
        {
         "hoverinfo": "text",
         "line": {
          "color": "peru",
          "width": 0.25061357811527035
         },
         "mode": "lines",
         "text": [
          "<b>21</b>"
         ],
         "type": "scatter",
         "x": [
          -0.15914794116645503,
          -0.03799795302862708,
          null
         ],
         "y": [
          -0.1121283159934214,
          -0.10046936690130284,
          null
         ]
        },
        {
         "hoverinfo": "text",
         "line": {
          "color": "peru",
          "width": 0.25125356776266017
         },
         "mode": "lines",
         "text": [
          "<b>20</b>"
         ],
         "type": "scatter",
         "x": [
          -0.15914794116645503,
          0.037112341418509734,
          null
         ],
         "y": [
          -0.1121283159934214,
          -0.06476133803077848,
          null
         ]
        },
        {
         "hoverinfo": "text",
         "line": {
          "color": "peru",
          "width": 0.2539102463667733
         },
         "mode": "lines",
         "text": [
          "<b>18</b>"
         ],
         "type": "scatter",
         "x": [
          -0.15914794116645503,
          -0.21382146535799829,
          null
         ],
         "y": [
          -0.1121283159934214,
          -0.0743844082798468,
          null
         ]
        },
        {
         "hoverinfo": "text",
         "line": {
          "color": "peru",
          "width": 0.2503320170259109
         },
         "mode": "lines",
         "text": [
          "<b>15</b>"
         ],
         "type": "scatter",
         "x": [
          -0.15914794116645503,
          0.0021476759594681615,
          null
         ],
         "y": [
          -0.1121283159934214,
          -0.14325253494920223,
          null
         ]
        },
        {
         "hoverinfo": "text",
         "line": {
          "color": "peru",
          "width": 0.2599766635436528
         },
         "mode": "lines",
         "text": [
          "<b>13</b>"
         ],
         "type": "scatter",
         "x": [
          -0.15914794116645503,
          -0.014496133191631221,
          null
         ],
         "y": [
          -0.1121283159934214,
          0.14458655088238995,
          null
         ]
        },
        {
         "hoverinfo": "text",
         "line": {
          "color": "peru",
          "width": 0.2508766846457004
         },
         "mode": "lines",
         "text": [
          "<b>8</b>"
         ],
         "type": "scatter",
         "x": [
          -0.15914794116645503,
          0.1383800971725734,
          null
         ],
         "y": [
          -0.1121283159934214,
          -0.017831327287119475,
          null
         ]
        },
        {
         "hoverinfo": "text",
         "line": {
          "color": "peru",
          "width": 0.2518475661205085
         },
         "mode": "lines",
         "text": [
          "<b>8</b>"
         ],
         "type": "scatter",
         "x": [
          -0.15914794116645503,
          0.08602385684170852,
          null
         ],
         "y": [
          -0.1121283159934214,
          -0.09889936429271984,
          null
         ]
        },
        {
         "hoverinfo": "text",
         "line": {
          "color": "peru",
          "width": 0.2514378078695685
         },
         "mode": "lines",
         "text": [
          "<b>8</b>"
         ],
         "type": "scatter",
         "x": [
          -0.15914794116645503,
          -0.13847531594110257,
          null
         ],
         "y": [
          -0.1121283159934214,
          -0.18547852485274133,
          null
         ]
        },
        {
         "hoverinfo": "text",
         "line": {
          "color": "peru",
          "width": 0.25092708854767787
         },
         "mode": "lines",
         "text": [
          "<b>8</b>"
         ],
         "type": "scatter",
         "x": [
          -0.15914794116645503,
          -0.13921754181663373,
          null
         ],
         "y": [
          -0.1121283159934214,
          -0.2230008879936063,
          null
         ]
        },
        {
         "hoverinfo": "text",
         "line": {
          "color": "peru",
          "width": 0.25030672126795217
         },
         "mode": "lines",
         "text": [
          "<b>5</b>"
         ],
         "type": "scatter",
         "x": [
          -0.15914794116645503,
          0.03914642094439085,
          null
         ],
         "y": [
          -0.1121283159934214,
          -0.16815542693602434,
          null
         ]
        },
        {
         "hoverinfo": "text",
         "line": {
          "color": "peru",
          "width": 0.2517666445439205
         },
         "mode": "lines",
         "text": [
          "<b>5</b>"
         ],
         "type": "scatter",
         "x": [
          -0.15914794116645503,
          -0.06926016718356055,
          null
         ],
         "y": [
          -0.1121283159934214,
          -0.30758311375772085,
          null
         ]
        },
        {
         "hoverinfo": "text",
         "line": {
          "color": "peru",
          "width": 0.25011170254392784
         },
         "mode": "lines",
         "text": [
          "<b>3</b>"
         ],
         "type": "scatter",
         "x": [
          -0.15914794116645503,
          -0.11708530833598096,
          null
         ],
         "y": [
          -0.1121283159934214,
          -0.14061218669955314,
          null
         ]
        },
        {
         "hoverinfo": "text",
         "line": {
          "color": "peru",
          "width": 0.3068244460856711
         },
         "mode": "lines",
         "text": [
          "<b>3</b>"
         ],
         "type": "scatter",
         "x": [
          -0.15914794116645503,
          -0.2621886351080779,
          null
         ],
         "y": [
          -0.1121283159934214,
          0.22722651728137752,
          null
         ]
        },
        {
         "hoverinfo": "text",
         "line": {
          "color": "peru",
          "width": 0.2509503254238261
         },
         "mode": "lines",
         "text": [
          "<b>2</b>"
         ],
         "type": "scatter",
         "x": [
          -0.15914794116645503,
          -0.20084994632269787,
          null
         ],
         "y": [
          -0.1121283159934214,
          -0.19226855649186103,
          null
         ]
        },
        {
         "hoverinfo": "text",
         "line": {
          "color": "peru",
          "width": 0.25593174642713523
         },
         "mode": "lines",
         "text": [
          "<b>2</b>"
         ],
         "type": "scatter",
         "x": [
          -0.15914794116645503,
          -0.2830525026756416,
          null
         ],
         "y": [
          -0.1121283159934214,
          -0.376171070009455,
          null
         ]
        },
        {
         "hoverinfo": "text",
         "line": {
          "color": "peru",
          "width": 0.25191757472700355
         },
         "mode": "lines",
         "text": [
          "<b>1</b>"
         ],
         "type": "scatter",
         "x": [
          -0.15914794116645503,
          -0.15761049738613608,
          null
         ],
         "y": [
          -0.1121283159934214,
          -0.3150798978482202,
          null
         ]
        },
        {
         "hoverinfo": "text",
         "line": {
          "color": "peru",
          "width": 0.25019818040605507
         },
         "mode": "lines",
         "text": [
          "<b>1</b>"
         ],
         "type": "scatter",
         "x": [
          -0.15914794116645503,
          -0.060870871982170276,
          null
         ],
         "y": [
          -0.1121283159934214,
          0.05847561375370165,
          null
         ]
        },
        {
         "hoverinfo": "text",
         "line": {
          "color": "peru",
          "width": 0.2503096093395876
         },
         "mode": "lines",
         "text": [
          "<b>1</b>"
         ],
         "type": "scatter",
         "x": [
          -0.15914794116645503,
          0.026589664548724874,
          null
         ],
         "y": [
          -0.1121283159934214,
          -0.30952614571382137,
          null
         ]
        },
        {
         "hoverinfo": "text",
         "line": {
          "color": "peru",
          "width": 0.25059722260764206
         },
         "mode": "lines",
         "text": [
          "<b>1</b>"
         ],
         "type": "scatter",
         "x": [
          -0.15914794116645503,
          -0.23436239491697763,
          null
         ],
         "y": [
          -0.1121283159934214,
          0.02962341723103683,
          null
         ]
        },
        {
         "hoverinfo": "text",
         "line": {
          "color": "peru",
          "width": 0.254674155672198
         },
         "mode": "lines",
         "text": [
          "<b>1</b>"
         ],
         "type": "scatter",
         "x": [
          -0.15914794116645503,
          0.2384114147397721,
          null
         ],
         "y": [
          -0.1121283159934214,
          -0.34719956689021464,
          null
         ]
        },
        {
         "hoverinfo": "text",
         "line": {
          "color": "peru",
          "width": 0.2546657240192905
         },
         "mode": "lines",
         "text": [
          "<b>29</b>"
         ],
         "type": "scatter",
         "x": [
          0.5381362796161994,
          0.037794014098991364,
          null
         ],
         "y": [
          0.1553144902997429,
          0.12434741897055317,
          null
         ]
        },
        {
         "hoverinfo": "text",
         "line": {
          "color": "peru",
          "width": 0.6054956921177835
         },
         "mode": "lines",
         "text": [
          "<b>1</b>"
         ],
         "type": "scatter",
         "x": [
          0.5381362796161994,
          0.225258502357332,
          null
         ],
         "y": [
          0.1553144902997429,
          -0.04718966706519001,
          null
         ]
        },
        {
         "hoverinfo": "text",
         "line": {
          "color": "peru",
          "width": 0.38524531163282255
         },
         "mode": "lines",
         "text": [
          "<b>1</b>"
         ],
         "type": "scatter",
         "x": [
          0.5381362796161994,
          0.1782997712493181,
          null
         ],
         "y": [
          0.1553144902997429,
          -0.1274569078232588,
          null
         ]
        },
        {
         "hoverinfo": "text",
         "line": {
          "color": "peru",
          "width": 0.25131074069229004
         },
         "mode": "lines",
         "text": [
          "<b>1027</b>"
         ],
         "type": "scatter",
         "x": [
          -0.13847531594110257,
          0.037794014098991364,
          null
         ],
         "y": [
          -0.18547852485274133,
          0.12434741897055317,
          null
         ]
        },
        {
         "hoverinfo": "text",
         "line": {
          "color": "peru",
          "width": 0.25090544978088886
         },
         "mode": "lines",
         "text": [
          "<b>53</b>"
         ],
         "type": "scatter",
         "x": [
          -0.13847531594110257,
          -0.0264655059238801,
          null
         ],
         "y": [
          -0.18547852485274133,
          -0.06257900558246596,
          null
         ]
        },
        {
         "hoverinfo": "text",
         "line": {
          "color": "peru",
          "width": 0.2510455950380904
         },
         "mode": "lines",
         "text": [
          "<b>30</b>"
         ],
         "type": "scatter",
         "x": [
          -0.13847531594110257,
          0.03097250257589602,
          null
         ],
         "y": [
          -0.18547852485274133,
          -0.02726580821300639,
          null
         ]
        },
        {
         "hoverinfo": "text",
         "line": {
          "color": "peru",
          "width": 0.2506137365967324
         },
         "mode": "lines",
         "text": [
          "<b>24</b>"
         ],
         "type": "scatter",
         "x": [
          -0.13847531594110257,
          -0.1565613973253825,
          null
         ],
         "y": [
          -0.18547852485274133,
          -0.04805573240281369,
          null
         ]
        },
        {
         "hoverinfo": "text",
         "line": {
          "color": "peru",
          "width": 0.2514147474382321
         },
         "mode": "lines",
         "text": [
          "<b>23</b>"
         ],
         "type": "scatter",
         "x": [
          -0.13847531594110257,
          -0.11708530833598096,
          null
         ],
         "y": [
          -0.18547852485274133,
          -0.14061218669955314,
          null
         ]
        },
        {
         "hoverinfo": "text",
         "line": {
          "color": "peru",
          "width": 0.2506305146063841
         },
         "mode": "lines",
         "text": [
          "<b>14</b>"
         ],
         "type": "scatter",
         "x": [
          -0.13847531594110257,
          -0.03799795302862708,
          null
         ],
         "y": [
          -0.18547852485274133,
          -0.10046936690130284,
          null
         ]
        },
        {
         "hoverinfo": "text",
         "line": {
          "color": "peru",
          "width": 0.25113958727821106
         },
         "mode": "lines",
         "text": [
          "<b>12</b>"
         ],
         "type": "scatter",
         "x": [
          -0.13847531594110257,
          0.03914642094439085,
          null
         ],
         "y": [
          -0.18547852485274133,
          -0.16815542693602434,
          null
         ]
        },
        {
         "hoverinfo": "text",
         "line": {
          "color": "peru",
          "width": 0.2500992083174397
         },
         "mode": "lines",
         "text": [
          "<b>11</b>"
         ],
         "type": "scatter",
         "x": [
          -0.13847531594110257,
          -0.008620714316374366,
          null
         ],
         "y": [
          -0.18547852485274133,
          -0.2384014836653278,
          null
         ]
        },
        {
         "hoverinfo": "text",
         "line": {
          "color": "peru",
          "width": 0.2509512720241369
         },
         "mode": "lines",
         "text": [
          "<b>10</b>"
         ],
         "type": "scatter",
         "x": [
          -0.13847531594110257,
          0.037112341418509734,
          null
         ],
         "y": [
          -0.18547852485274133,
          -0.06476133803077848,
          null
         ]
        },
        {
         "hoverinfo": "text",
         "line": {
          "color": "peru",
          "width": 0.2507868693837699
         },
         "mode": "lines",
         "text": [
          "<b>7</b>"
         ],
         "type": "scatter",
         "x": [
          -0.13847531594110257,
          -0.009709271081250317,
          null
         ],
         "y": [
          -0.18547852485274133,
          0.0046491559004002,
          null
         ]
        },
        {
         "hoverinfo": "text",
         "line": {
          "color": "peru",
          "width": 0.2502524393743495
         },
         "mode": "lines",
         "text": [
          "<b>7</b>"
         ],
         "type": "scatter",
         "x": [
          -0.13847531594110257,
          0.0021476759594681615,
          null
         ],
         "y": [
          -0.18547852485274133,
          -0.14325253494920223,
          null
         ]
        },
        {
         "hoverinfo": "text",
         "line": {
          "color": "peru",
          "width": 0.25523790974446653
         },
         "mode": "lines",
         "text": [
          "<b>7</b>"
         ],
         "type": "scatter",
         "x": [
          -0.13847531594110257,
          -0.20084994632269787,
          null
         ],
         "y": [
          -0.18547852485274133,
          -0.19226855649186103,
          null
         ]
        },
        {
         "hoverinfo": "text",
         "line": {
          "color": "peru",
          "width": 0.2524689710404505
         },
         "mode": "lines",
         "text": [
          "<b>7</b>"
         ],
         "type": "scatter",
         "x": [
          -0.13847531594110257,
          0.08602385684170852,
          null
         ],
         "y": [
          -0.18547852485274133,
          -0.09889936429271984,
          null
         ]
        },
        {
         "hoverinfo": "text",
         "line": {
          "color": "peru",
          "width": 0.25239928213457613
         },
         "mode": "lines",
         "text": [
          "<b>5</b>"
         ],
         "type": "scatter",
         "x": [
          -0.13847531594110257,
          0.026589664548724874,
          null
         ],
         "y": [
          -0.18547852485274133,
          -0.30952614571382137,
          null
         ]
        },
        {
         "hoverinfo": "text",
         "line": {
          "color": "peru",
          "width": 0.25150810812185614
         },
         "mode": "lines",
         "text": [
          "<b>5</b>"
         ],
         "type": "scatter",
         "x": [
          -0.13847531594110257,
          -0.060870871982170276,
          null
         ],
         "y": [
          -0.18547852485274133,
          0.05847561375370165,
          null
         ]
        },
        {
         "hoverinfo": "text",
         "line": {
          "color": "peru",
          "width": 0.25066317895301937
         },
         "mode": "lines",
         "text": [
          "<b>4</b>"
         ],
         "type": "scatter",
         "x": [
          -0.13847531594110257,
          0.1383800971725734,
          null
         ],
         "y": [
          -0.18547852485274133,
          -0.017831327287119475,
          null
         ]
        },
        {
         "hoverinfo": "text",
         "line": {
          "color": "peru",
          "width": 0.2507425561488915
         },
         "mode": "lines",
         "text": [
          "<b>4</b>"
         ],
         "type": "scatter",
         "x": [
          -0.13847531594110257,
          -0.13921754181663373,
          null
         ],
         "y": [
          -0.18547852485274133,
          -0.2230008879936063,
          null
         ]
        },
        {
         "hoverinfo": "text",
         "line": {
          "color": "peru",
          "width": 0.25101858530244436
         },
         "mode": "lines",
         "text": [
          "<b>2</b>"
         ],
         "type": "scatter",
         "x": [
          -0.13847531594110257,
          0.076044024846554,
          null
         ],
         "y": [
          -0.18547852485274133,
          -0.2285230196945629,
          null
         ]
        },
        {
         "hoverinfo": "text",
         "line": {
          "color": "peru",
          "width": 0.25065052142629696
         },
         "mode": "lines",
         "text": [
          "<b>2</b>"
         ],
         "type": "scatter",
         "x": [
          -0.13847531594110257,
          -0.21382146535799829,
          null
         ],
         "y": [
          -0.18547852485274133,
          -0.0743844082798468,
          null
         ]
        },
        {
         "hoverinfo": "text",
         "line": {
          "color": "peru",
          "width": 0.2519015253531532
         },
         "mode": "lines",
         "text": [
          "<b>2</b>"
         ],
         "type": "scatter",
         "x": [
          -0.13847531594110257,
          -0.23436239491697763,
          null
         ],
         "y": [
          -0.18547852485274133,
          0.02962341723103683,
          null
         ]
        },
        {
         "hoverinfo": "text",
         "line": {
          "color": "peru",
          "width": 0.25230947840522977
         },
         "mode": "lines",
         "text": [
          "<b>1</b>"
         ],
         "type": "scatter",
         "x": [
          -0.13847531594110257,
          0.225258502357332,
          null
         ],
         "y": [
          -0.18547852485274133,
          -0.04718966706519001,
          null
         ]
        },
        {
         "hoverinfo": "text",
         "line": {
          "color": "peru",
          "width": 0.2521797951465846
         },
         "mode": "lines",
         "text": [
          "<b>1</b>"
         ],
         "type": "scatter",
         "x": [
          -0.13847531594110257,
          -0.3216013916991431,
          null
         ],
         "y": [
          -0.18547852485274133,
          -0.10395182662034332,
          null
         ]
        },
        {
         "hoverinfo": "text",
         "line": {
          "color": "peru",
          "width": 0.25009975450288985
         },
         "mode": "lines",
         "text": [
          "<b>1</b>"
         ],
         "type": "scatter",
         "x": [
          -0.13847531594110257,
          -0.034520369679783496,
          null
         ],
         "y": [
          -0.18547852485274133,
          -0.20641756411669696,
          null
         ]
        },
        {
         "hoverinfo": "text",
         "line": {
          "color": "peru",
          "width": 0.2946586337754089
         },
         "mode": "lines",
         "text": [
          "<b>1</b>"
         ],
         "type": "scatter",
         "x": [
          -0.13847531594110257,
          -0.41973072647800724,
          null
         ],
         "y": [
          -0.18547852485274133,
          0.060744149500660975,
          null
         ]
        },
        {
         "hoverinfo": "text",
         "line": {
          "color": "peru",
          "width": 0.2505515871003516
         },
         "mode": "lines",
         "text": [
          "<b>1</b>"
         ],
         "type": "scatter",
         "x": [
          -0.13847531594110257,
          -0.06926016718356055,
          null
         ],
         "y": [
          -0.18547852485274133,
          -0.30758311375772085,
          null
         ]
        },
        {
         "hoverinfo": "text",
         "line": {
          "color": "peru",
          "width": 0.2561532739590349
         },
         "mode": "lines",
         "text": [
          "<b>1</b>"
         ],
         "type": "scatter",
         "x": [
          -0.13847531594110257,
          0.09091248396374722,
          null
         ],
         "y": [
          -0.18547852485274133,
          -0.3834819239965121,
          null
         ]
        },
        {
         "hoverinfo": "text",
         "line": {
          "color": "peru",
          "width": 0.25400687359888896
         },
         "mode": "lines",
         "text": [
          "<b>1</b>"
         ],
         "type": "scatter",
         "x": [
          -0.13847531594110257,
          0.003196803672617761,
          null
         ],
         "y": [
          -0.18547852485274133,
          -0.5189873829406744,
          null
         ]
        },
        {
         "hoverinfo": "text",
         "line": {
          "color": "peru",
          "width": 0.25096228788799113
         },
         "mode": "lines",
         "text": [
          "<b>6</b>"
         ],
         "type": "scatter",
         "x": [
          -0.3028277493714289,
          0.037794014098991364,
          null
         ],
         "y": [
          0.84732232673226,
          0.12434741897055317,
          null
         ]
        },
        {
         "hoverinfo": "text",
         "line": {
          "color": "peru",
          "width": 0.25014861273095695
         },
         "mode": "lines",
         "text": [
          "<b>34503</b>"
         ],
         "type": "scatter",
         "x": [
          0.037794014098991364,
          0.037794014098991364,
          null
         ],
         "y": [
          0.12434741897055317,
          0.12434741897055317,
          null
         ]
        },
        {
         "hoverinfo": "text",
         "line": {
          "color": "peru",
          "width": 0.2504028907854588
         },
         "mode": "lines",
         "text": [
          "<b>8853</b>"
         ],
         "type": "scatter",
         "x": [
          0.037794014098991364,
          -0.0264655059238801,
          null
         ],
         "y": [
          0.12434741897055317,
          -0.06257900558246596,
          null
         ]
        },
        {
         "hoverinfo": "text",
         "line": {
          "color": "peru",
          "width": 0.25011386324741847
         },
         "mode": "lines",
         "text": [
          "<b>5881</b>"
         ],
         "type": "scatter",
         "x": [
          0.037794014098991364,
          -0.008620714316374366,
          null
         ],
         "y": [
          0.12434741897055317,
          -0.2384014836653278,
          null
         ]
        },
        {
         "hoverinfo": "text",
         "line": {
          "color": "peru",
          "width": 0.2505169551433662
         },
         "mode": "lines",
         "text": [
          "<b>5034</b>"
         ],
         "type": "scatter",
         "x": [
          0.037794014098991364,
          0.03097250257589602,
          null
         ],
         "y": [
          0.12434741897055317,
          -0.02726580821300639,
          null
         ]
        },
        {
         "hoverinfo": "text",
         "line": {
          "color": "peru",
          "width": 0.2505844720216942
         },
         "mode": "lines",
         "text": [
          "<b>4277</b>"
         ],
         "type": "scatter",
         "x": [
          0.037794014098991364,
          -0.1565613973253825,
          null
         ],
         "y": [
          0.12434741897055317,
          -0.04805573240281369,
          null
         ]
        },
        {
         "hoverinfo": "text",
         "line": {
          "color": "peru",
          "width": 0.2505277596112213
         },
         "mode": "lines",
         "text": [
          "<b>3708</b>"
         ],
         "type": "scatter",
         "x": [
          0.037794014098991364,
          -0.11708530833598096,
          null
         ],
         "y": [
          0.12434741897055317,
          -0.14061218669955314,
          null
         ]
        },
        {
         "hoverinfo": "text",
         "line": {
          "color": "peru",
          "width": 0.25051088653381914
         },
         "mode": "lines",
         "text": [
          "<b>3349</b>"
         ],
         "type": "scatter",
         "x": [
          0.037794014098991364,
          -0.03799795302862708,
          null
         ],
         "y": [
          0.12434741897055317,
          -0.10046936690130284,
          null
         ]
        },
        {
         "hoverinfo": "text",
         "line": {
          "color": "peru",
          "width": 0.25108071525114345
         },
         "mode": "lines",
         "text": [
          "<b>3021</b>"
         ],
         "type": "scatter",
         "x": [
          0.037794014098991364,
          0.037112341418509734,
          null
         ],
         "y": [
          0.12434741897055317,
          -0.06476133803077848,
          null
         ]
        },
        {
         "hoverinfo": "text",
         "line": {
          "color": "peru",
          "width": 0.2502174924632478
         },
         "mode": "lines",
         "text": [
          "<b>2447</b>"
         ],
         "type": "scatter",
         "x": [
          0.037794014098991364,
          0.0021476759594681615,
          null
         ],
         "y": [
          0.12434741897055317,
          -0.14325253494920223,
          null
         ]
        },
        {
         "hoverinfo": "text",
         "line": {
          "color": "peru",
          "width": 0.2506406034821874
         },
         "mode": "lines",
         "text": [
          "<b>1890</b>"
         ],
         "type": "scatter",
         "x": [
          0.037794014098991364,
          -0.009709271081250317,
          null
         ],
         "y": [
          0.12434741897055317,
          0.0046491559004002,
          null
         ]
        },
        {
         "hoverinfo": "text",
         "line": {
          "color": "peru",
          "width": 0.25049054479328914
         },
         "mode": "lines",
         "text": [
          "<b>1562</b>"
         ],
         "type": "scatter",
         "x": [
          0.037794014098991364,
          0.03914642094439085,
          null
         ],
         "y": [
          0.12434741897055317,
          -0.16815542693602434,
          null
         ]
        },
        {
         "hoverinfo": "text",
         "line": {
          "color": "peru",
          "width": 0.2505366434677305
         },
         "mode": "lines",
         "text": [
          "<b>841</b>"
         ],
         "type": "scatter",
         "x": [
          0.037794014098991364,
          0.1383800971725734,
          null
         ],
         "y": [
          0.12434741897055317,
          -0.017831327287119475,
          null
         ]
        },
        {
         "hoverinfo": "text",
         "line": {
          "color": "peru",
          "width": 0.2509952974647612
         },
         "mode": "lines",
         "text": [
          "<b>781</b>"
         ],
         "type": "scatter",
         "x": [
          0.037794014098991364,
          0.08602385684170852,
          null
         ],
         "y": [
          0.12434741897055317,
          -0.09889936429271984,
          null
         ]
        },
        {
         "hoverinfo": "text",
         "line": {
          "color": "peru",
          "width": 0.2501640199888685
         },
         "mode": "lines",
         "text": [
          "<b>777</b>"
         ],
         "type": "scatter",
         "x": [
          0.037794014098991364,
          -0.034520369679783496,
          null
         ],
         "y": [
          0.12434741897055317,
          -0.20641756411669696,
          null
         ]
        },
        {
         "hoverinfo": "text",
         "line": {
          "color": "peru",
          "width": 0.25149880653195533
         },
         "mode": "lines",
         "text": [
          "<b>663</b>"
         ],
         "type": "scatter",
         "x": [
          0.037794014098991364,
          -0.20084994632269787,
          null
         ],
         "y": [
          0.12434741897055317,
          -0.19226855649186103,
          null
         ]
        },
        {
         "hoverinfo": "text",
         "line": {
          "color": "peru",
          "width": 0.2502756868137267
         },
         "mode": "lines",
         "text": [
          "<b>552</b>"
         ],
         "type": "scatter",
         "x": [
          0.037794014098991364,
          -0.13921754181663373,
          null
         ],
         "y": [
          0.12434741897055317,
          -0.2230008879936063,
          null
         ]
        },
        {
         "hoverinfo": "text",
         "line": {
          "color": "peru",
          "width": 0.25052050106119605
         },
         "mode": "lines",
         "text": [
          "<b>464</b>"
         ],
         "type": "scatter",
         "x": [
          0.037794014098991364,
          -0.060870871982170276,
          null
         ],
         "y": [
          0.12434741897055317,
          0.05847561375370165,
          null
         ]
        },
        {
         "hoverinfo": "text",
         "line": {
          "color": "peru",
          "width": 0.2502636635134006
         },
         "mode": "lines",
         "text": [
          "<b>420</b>"
         ],
         "type": "scatter",
         "x": [
          0.037794014098991364,
          -0.11764096428606644,
          null
         ],
         "y": [
          0.12434741897055317,
          0.018569149606881274,
          null
         ]
        },
        {
         "hoverinfo": "text",
         "line": {
          "color": "peru",
          "width": 0.25063377650893714
         },
         "mode": "lines",
         "text": [
          "<b>400</b>"
         ],
         "type": "scatter",
         "x": [
          0.037794014098991364,
          0.026589664548724874,
          null
         ],
         "y": [
          0.12434741897055317,
          -0.30952614571382137,
          null
         ]
        },
        {
         "hoverinfo": "text",
         "line": {
          "color": "peru",
          "width": 0.2509446178215903
         },
         "mode": "lines",
         "text": [
          "<b>394</b>"
         ],
         "type": "scatter",
         "x": [
          0.037794014098991364,
          0.076044024846554,
          null
         ],
         "y": [
          0.12434741897055317,
          -0.2285230196945629,
          null
         ]
        },
        {
         "hoverinfo": "text",
         "line": {
          "color": "peru",
          "width": 0.25089259044609713
         },
         "mode": "lines",
         "text": [
          "<b>335</b>"
         ],
         "type": "scatter",
         "x": [
          0.037794014098991364,
          -0.23436239491697763,
          null
         ],
         "y": [
          0.12434741897055317,
          0.02962341723103683,
          null
         ]
        },
        {
         "hoverinfo": "text",
         "line": {
          "color": "peru",
          "width": 0.2503530344139625
         },
         "mode": "lines",
         "text": [
          "<b>266</b>"
         ],
         "type": "scatter",
         "x": [
          0.037794014098991364,
          -0.21382146535799829,
          null
         ],
         "y": [
          0.12434741897055317,
          -0.0743844082798468,
          null
         ]
        },
        {
         "hoverinfo": "text",
         "line": {
          "color": "peru",
          "width": 0.2503082538460497
         },
         "mode": "lines",
         "text": [
          "<b>180</b>"
         ],
         "type": "scatter",
         "x": [
          0.037794014098991364,
          -0.06926016718356055,
          null
         ],
         "y": [
          0.12434741897055317,
          -0.30758311375772085,
          null
         ]
        },
        {
         "hoverinfo": "text",
         "line": {
          "color": "peru",
          "width": 0.2504074678209999
         },
         "mode": "lines",
         "text": [
          "<b>178</b>"
         ],
         "type": "scatter",
         "x": [
          0.037794014098991364,
          0.1782997712493181,
          null
         ],
         "y": [
          0.12434741897055317,
          -0.1274569078232588,
          null
         ]
        },
        {
         "hoverinfo": "text",
         "line": {
          "color": "peru",
          "width": 0.2502291794556885
         },
         "mode": "lines",
         "text": [
          "<b>155</b>"
         ],
         "type": "scatter",
         "x": [
          0.037794014098991364,
          -0.17699050553477794,
          null
         ],
         "y": [
          0.12434741897055317,
          0.08436261288959324,
          null
         ]
        },
        {
         "hoverinfo": "text",
         "line": {
          "color": "peru",
          "width": 0.251395824062099
         },
         "mode": "lines",
         "text": [
          "<b>122</b>"
         ],
         "type": "scatter",
         "x": [
          0.037794014098991364,
          -0.15761049738613608,
          null
         ],
         "y": [
          0.12434741897055317,
          -0.3150798978482202,
          null
         ]
        },
        {
         "hoverinfo": "text",
         "line": {
          "color": "peru",
          "width": 0.25089180328731453
         },
         "mode": "lines",
         "text": [
          "<b>89</b>"
         ],
         "type": "scatter",
         "x": [
          0.037794014098991364,
          0.18890539387121066,
          null
         ],
         "y": [
          0.12434741897055317,
          -0.25721437611247694,
          null
         ]
        },
        {
         "hoverinfo": "text",
         "line": {
          "color": "peru",
          "width": 0.25041385806698413
         },
         "mode": "lines",
         "text": [
          "<b>75</b>"
         ],
         "type": "scatter",
         "x": [
          0.037794014098991364,
          0.12380093032622776,
          null
         ],
         "y": [
          0.12434741897055317,
          0.055414571222401655,
          null
         ]
        },
        {
         "hoverinfo": "text",
         "line": {
          "color": "peru",
          "width": 0.25050822379838533
         },
         "mode": "lines",
         "text": [
          "<b>73</b>"
         ],
         "type": "scatter",
         "x": [
          0.037794014098991364,
          0.225258502357332,
          null
         ],
         "y": [
          0.12434741897055317,
          -0.04718966706519001,
          null
         ]
        },
        {
         "hoverinfo": "text",
         "line": {
          "color": "peru",
          "width": 0.2507923232767004
         },
         "mode": "lines",
         "text": [
          "<b>61</b>"
         ],
         "type": "scatter",
         "x": [
          0.037794014098991364,
          0.09091248396374722,
          null
         ],
         "y": [
          0.12434741897055317,
          -0.3834819239965121,
          null
         ]
        },
        {
         "hoverinfo": "text",
         "line": {
          "color": "peru",
          "width": 0.2502886326451492
         },
         "mode": "lines",
         "text": [
          "<b>61</b>"
         ],
         "type": "scatter",
         "x": [
          0.037794014098991364,
          -0.014496133191631221,
          null
         ],
         "y": [
          0.12434741897055317,
          0.14458655088238995,
          null
         ]
        },
        {
         "hoverinfo": "text",
         "line": {
          "color": "peru",
          "width": 0.25221910512070567
         },
         "mode": "lines",
         "text": [
          "<b>60</b>"
         ],
         "type": "scatter",
         "x": [
          0.037794014098991364,
          0.14140656101499638,
          null
         ],
         "y": [
          0.12434741897055317,
          0.1534315269562114,
          null
         ]
        },
        {
         "hoverinfo": "text",
         "line": {
          "color": "peru",
          "width": 0.25025637360304714
         },
         "mode": "lines",
         "text": [
          "<b>51</b>"
         ],
         "type": "scatter",
         "x": [
          0.037794014098991364,
          -0.3216013916991431,
          null
         ],
         "y": [
          0.12434741897055317,
          -0.10395182662034332,
          null
         ]
        },
        {
         "hoverinfo": "text",
         "line": {
          "color": "peru",
          "width": 0.2535873031451519
         },
         "mode": "lines",
         "text": [
          "<b>47</b>"
         ],
         "type": "scatter",
         "x": [
          0.037794014098991364,
          0.12187876408755381,
          null
         ],
         "y": [
          0.12434741897055317,
          0.40402596435716875,
          null
         ]
        },
        {
         "hoverinfo": "text",
         "line": {
          "color": "peru",
          "width": 0.2501027444965211
         },
         "mode": "lines",
         "text": [
          "<b>46</b>"
         ],
         "type": "scatter",
         "x": [
          0.037794014098991364,
          0.304566913755434,
          null
         ],
         "y": [
          0.12434741897055317,
          -0.018188746815965686,
          null
         ]
        },
        {
         "hoverinfo": "text",
         "line": {
          "color": "peru",
          "width": 0.2513025159173338
         },
         "mode": "lines",
         "text": [
          "<b>33</b>"
         ],
         "type": "scatter",
         "x": [
          0.037794014098991364,
          -0.4907078785290733,
          null
         ],
         "y": [
          0.12434741897055317,
          -0.10678684678237646,
          null
         ]
        },
        {
         "hoverinfo": "text",
         "line": {
          "color": "peru",
          "width": 0.2506758552414274
         },
         "mode": "lines",
         "text": [
          "<b>27</b>"
         ],
         "type": "scatter",
         "x": [
          0.037794014098991364,
          0.2384114147397721,
          null
         ],
         "y": [
          0.12434741897055317,
          -0.34719956689021464,
          null
         ]
        },
        {
         "hoverinfo": "text",
         "line": {
          "color": "peru",
          "width": 0.2503017744008539
         },
         "mode": "lines",
         "text": [
          "<b>23</b>"
         ],
         "type": "scatter",
         "x": [
          0.037794014098991364,
          -0.2830525026756416,
          null
         ],
         "y": [
          0.12434741897055317,
          -0.376171070009455,
          null
         ]
        },
        {
         "hoverinfo": "text",
         "line": {
          "color": "peru",
          "width": 0.25085773299285197
         },
         "mode": "lines",
         "text": [
          "<b>14</b>"
         ],
         "type": "scatter",
         "x": [
          0.037794014098991364,
          -0.45566646999102844,
          null
         ],
         "y": [
          0.12434741897055317,
          -0.3086962806174099,
          null
         ]
        },
        {
         "hoverinfo": "text",
         "line": {
          "color": "peru",
          "width": 0.25083005524673974
         },
         "mode": "lines",
         "text": [
          "<b>13</b>"
         ],
         "type": "scatter",
         "x": [
          0.037794014098991364,
          0.26434180886269315,
          null
         ],
         "y": [
          0.12434741897055317,
          -0.1966470007508575,
          null
         ]
        },
        {
         "hoverinfo": "text",
         "line": {
          "color": "peru",
          "width": 0.251645171648271
         },
         "mode": "lines",
         "text": [
          "<b>12</b>"
         ],
         "type": "scatter",
         "x": [
          0.037794014098991364,
          -0.41973072647800724,
          null
         ],
         "y": [
          0.12434741897055317,
          0.060744149500660975,
          null
         ]
        },
        {
         "hoverinfo": "text",
         "line": {
          "color": "peru",
          "width": 0.2507767165442208
         },
         "mode": "lines",
         "text": [
          "<b>10</b>"
         ],
         "type": "scatter",
         "x": [
          0.037794014098991364,
          -0.2621886351080779,
          null
         ],
         "y": [
          0.12434741897055317,
          0.22722651728137752,
          null
         ]
        },
        {
         "hoverinfo": "text",
         "line": {
          "color": "peru",
          "width": 0.25099755721139766
         },
         "mode": "lines",
         "text": [
          "<b>9</b>"
         ],
         "type": "scatter",
         "x": [
          0.037794014098991364,
          0.5252622617720751,
          null
         ],
         "y": [
          0.12434741897055317,
          -0.034926880980845794,
          null
         ]
        },
        {
         "hoverinfo": "text",
         "line": {
          "color": "peru",
          "width": 0.2501820924975718
         },
         "mode": "lines",
         "text": [
          "<b>8</b>"
         ],
         "type": "scatter",
         "x": [
          0.037794014098991364,
          0.003196803672617761,
          null
         ],
         "y": [
          0.12434741897055317,
          -0.5189873829406744,
          null
         ]
        },
        {
         "hoverinfo": "text",
         "line": {
          "color": "peru",
          "width": 0.250178093632694
         },
         "mode": "lines",
         "text": [
          "<b>7</b>"
         ],
         "type": "scatter",
         "x": [
          0.037794014098991364,
          -0.10814385694596838,
          null
         ],
         "y": [
          0.12434741897055317,
          -0.5098678491586572,
          null
         ]
        },
        {
         "hoverinfo": "text",
         "line": {
          "color": "peru",
          "width": 0.2506413492221079
         },
         "mode": "lines",
         "text": [
          "<b>4</b>"
         ],
         "type": "scatter",
         "x": [
          0.037794014098991364,
          0.30041709745930495,
          null
         ],
         "y": [
          0.12434741897055317,
          0.3296958791155544,
          null
         ]
        },
        {
         "hoverinfo": "text",
         "line": {
          "color": "peru",
          "width": 0.2504128963333256
         },
         "mode": "lines",
         "text": [
          "<b>4</b>"
         ],
         "type": "scatter",
         "x": [
          0.037794014098991364,
          -0.1313219761498052,
          null
         ],
         "y": [
          0.12434741897055317,
          0.43169933745576405,
          null
         ]
        },
        {
         "hoverinfo": "text",
         "line": {
          "color": "peru",
          "width": 0.25116029929313444
         },
         "mode": "lines",
         "text": [
          "<b>4</b>"
         ],
         "type": "scatter",
         "x": [
          0.037794014098991364,
          -0.11560680098750302,
          null
         ],
         "y": [
          0.12434741897055317,
          0.8968952254375414,
          null
         ]
        },
        {
         "hoverinfo": "text",
         "line": {
          "color": "peru",
          "width": 0.250664848977401
         },
         "mode": "lines",
         "text": [
          "<b>3</b>"
         ],
         "type": "scatter",
         "x": [
          0.037794014098991364,
          0.5507856787496299,
          null
         ],
         "y": [
          0.12434741897055317,
          0.7297058186385333,
          null
         ]
        },
        {
         "hoverinfo": "text",
         "line": {
          "color": "peru",
          "width": 0.2502972876567734
         },
         "mode": "lines",
         "text": [
          "<b>3</b>"
         ],
         "type": "scatter",
         "x": [
          0.037794014098991364,
          -0.4106235388170116,
          null
         ],
         "y": [
          0.12434741897055317,
          0.5541072673739492,
          null
         ]
        },
        {
         "hoverinfo": "text",
         "line": {
          "color": "peru",
          "width": 0.25116029929313444
         },
         "mode": "lines",
         "text": [
          "<b>2</b>"
         ],
         "type": "scatter",
         "x": [
          0.037794014098991364,
          0.05586488337274385,
          null
         ],
         "y": [
          0.12434741897055317,
          0.9120552394933666,
          null
         ]
        },
        {
         "hoverinfo": "text",
         "line": {
          "color": "peru",
          "width": 0.2507174233699186
         },
         "mode": "lines",
         "text": [
          "<b>2</b>"
         ],
         "type": "scatter",
         "x": [
          0.037794014098991364,
          0.7236503798389048,
          null
         ],
         "y": [
          0.12434741897055317,
          -0.3261551059557146,
          null
         ]
        },
        {
         "hoverinfo": "text",
         "line": {
          "color": "peru",
          "width": 0.2503205865820425
         },
         "mode": "lines",
         "text": [
          "<b>2</b>"
         ],
         "type": "scatter",
         "x": [
          0.037794014098991364,
          0.4387262903185144,
          null
         ],
         "y": [
          0.12434741897055317,
          0.46263474844595576,
          null
         ]
        },
        {
         "hoverinfo": "text",
         "line": {
          "color": "peru",
          "width": 0.25044314857006356
         },
         "mode": "lines",
         "text": [
          "<b>2</b>"
         ],
         "type": "scatter",
         "x": [
          0.037794014098991364,
          -0.5868292045207596,
          null
         ],
         "y": [
          0.12434741897055317,
          0.3740844462328424,
          null
         ]
        },
        {
         "hoverinfo": "text",
         "line": {
          "color": "peru",
          "width": 0.2505798618224476
         },
         "mode": "lines",
         "text": [
          "<b>1</b>"
         ],
         "type": "scatter",
         "x": [
          0.037794014098991364,
          0.3854463345743704,
          null
         ],
         "y": [
          0.12434741897055317,
          0.8305255077209299,
          null
         ]
        },
        {
         "hoverinfo": "text",
         "line": {
          "color": "peru",
          "width": 0.2505798618224476
         },
         "mode": "lines",
         "text": [
          "<b>1</b>"
         ],
         "type": "scatter",
         "x": [
          0.037794014098991364,
          0.047650137857219846,
          null
         ],
         "y": [
          0.12434741897055317,
          0.4343129528769831,
          null
         ]
        },
        {
         "hoverinfo": "text",
         "line": {
          "color": "peru",
          "width": 0.2505798618224476
         },
         "mode": "lines",
         "text": [
          "<b>1</b>"
         ],
         "type": "scatter",
         "x": [
          0.037794014098991364,
          0.22649338975796107,
          null
         ],
         "y": [
          0.12434741897055317,
          0.8904981803794328,
          null
         ]
        },
        {
         "hoverinfo": "text",
         "line": {
          "color": "peru",
          "width": 0.31839110962763484
         },
         "mode": "lines",
         "text": [
          "<b>24</b>"
         ],
         "type": "scatter",
         "x": [
          0.12380093032622776,
          0.1782997712493181,
          null
         ],
         "y": [
          0.055414571222401655,
          -0.1274569078232588,
          null
         ]
        },
        {
         "hoverinfo": "text",
         "line": {
          "color": "peru",
          "width": 0.2506629158529863
         },
         "mode": "lines",
         "text": [
          "<b>12</b>"
         ],
         "type": "scatter",
         "x": [
          0.12380093032622776,
          -0.0264655059238801,
          null
         ],
         "y": [
          0.055414571222401655,
          -0.06257900558246596,
          null
         ]
        },
        {
         "hoverinfo": "text",
         "line": {
          "color": "peru",
          "width": 0.2857105429190563
         },
         "mode": "lines",
         "text": [
          "<b>4</b>"
         ],
         "type": "scatter",
         "x": [
          0.12380093032622776,
          0.225258502357332,
          null
         ],
         "y": [
          0.055414571222401655,
          -0.04718966706519001,
          null
         ]
        },
        {
         "hoverinfo": "text",
         "line": {
          "color": "peru",
          "width": 0.25050910980416063
         },
         "mode": "lines",
         "text": [
          "<b>4</b>"
         ],
         "type": "scatter",
         "x": [
          0.12380093032622776,
          0.03097250257589602,
          null
         ],
         "y": [
          0.055414571222401655,
          -0.02726580821300639,
          null
         ]
        },
        {
         "hoverinfo": "text",
         "line": {
          "color": "peru",
          "width": 0.25141701700604
         },
         "mode": "lines",
         "text": [
          "<b>3</b>"
         ],
         "type": "scatter",
         "x": [
          0.12380093032622776,
          0.037112341418509734,
          null
         ],
         "y": [
          0.055414571222401655,
          -0.06476133803077848,
          null
         ]
        },
        {
         "hoverinfo": "text",
         "line": {
          "color": "peru",
          "width": 0.2565660202513399
         },
         "mode": "lines",
         "text": [
          "<b>2</b>"
         ],
         "type": "scatter",
         "x": [
          0.12380093032622776,
          -0.23436239491697763,
          null
         ],
         "y": [
          0.055414571222401655,
          0.02962341723103683,
          null
         ]
        },
        {
         "hoverinfo": "text",
         "line": {
          "color": "peru",
          "width": 0.2500452655391045
         },
         "mode": "lines",
         "text": [
          "<b>2</b>"
         ],
         "type": "scatter",
         "x": [
          0.12380093032622776,
          -0.008620714316374366,
          null
         ],
         "y": [
          0.055414571222401655,
          -0.2384014836653278,
          null
         ]
        },
        {
         "hoverinfo": "text",
         "line": {
          "color": "peru",
          "width": 0.2504221636929151
         },
         "mode": "lines",
         "text": [
          "<b>1</b>"
         ],
         "type": "scatter",
         "x": [
          0.12380093032622776,
          -0.009709271081250317,
          null
         ],
         "y": [
          0.055414571222401655,
          0.0046491559004002,
          null
         ]
        },
        {
         "hoverinfo": "text",
         "line": {
          "color": "peru",
          "width": 0.25180033121250467
         },
         "mode": "lines",
         "text": [
          "<b>1</b>"
         ],
         "type": "scatter",
         "x": [
          0.12380093032622776,
          -0.21382146535799829,
          null
         ],
         "y": [
          0.055414571222401655,
          -0.0743844082798468,
          null
         ]
        },
        {
         "hoverinfo": "text",
         "line": {
          "color": "peru",
          "width": 0.25024625997248623
         },
         "mode": "lines",
         "text": [
          "<b>1</b>"
         ],
         "type": "scatter",
         "x": [
          0.12380093032622776,
          -0.034520369679783496,
          null
         ],
         "y": [
          0.055414571222401655,
          -0.20641756411669696,
          null
         ]
        },
        {
         "hoverinfo": "text",
         "line": {
          "color": "peru",
          "width": 0.25202062018638893
         },
         "mode": "lines",
         "text": [
          "<b>1</b>"
         ],
         "type": "scatter",
         "x": [
          0.12380093032622776,
          0.026589664548724874,
          null
         ],
         "y": [
          0.055414571222401655,
          -0.30952614571382137,
          null
         ]
        },
        {
         "hoverinfo": "text",
         "line": {
          "color": "peru",
          "width": 0.25075761525618623
         },
         "mode": "lines",
         "text": [
          "<b>1</b>"
         ],
         "type": "scatter",
         "x": [
          0.12380093032622776,
          -0.11764096428606644,
          null
         ],
         "y": [
          0.055414571222401655,
          0.018569149606881274,
          null
         ]
        },
        {
         "hoverinfo": "text",
         "line": {
          "color": "peru",
          "width": 0.250206494606494
         },
         "mode": "lines",
         "text": [
          "<b>1</b>"
         ],
         "type": "scatter",
         "x": [
          0.12380093032622776,
          -0.1565613973253825,
          null
         ],
         "y": [
          0.055414571222401655,
          -0.04805573240281369,
          null
         ]
        },
        {
         "hoverinfo": "text",
         "line": {
          "color": "peru",
          "width": 0.2515149250716529
         },
         "mode": "lines",
         "text": [
          "<b>5</b>"
         ],
         "type": "scatter",
         "x": [
          0.18890539387121066,
          -0.11708530833598096,
          null
         ],
         "y": [
          -0.25721437611247694,
          -0.14061218669955314,
          null
         ]
        },
        {
         "hoverinfo": "text",
         "line": {
          "color": "peru",
          "width": 0.25069033133071184
         },
         "mode": "lines",
         "text": [
          "<b>3</b>"
         ],
         "type": "scatter",
         "x": [
          0.18890539387121066,
          0.03097250257589602,
          null
         ],
         "y": [
          -0.25721437611247694,
          -0.02726580821300639,
          null
         ]
        },
        {
         "hoverinfo": "text",
         "line": {
          "color": "peru",
          "width": 0.25258476331980495
         },
         "mode": "lines",
         "text": [
          "<b>3</b>"
         ],
         "type": "scatter",
         "x": [
          0.18890539387121066,
          0.037112341418509734,
          null
         ],
         "y": [
          -0.25721437611247694,
          -0.06476133803077848,
          null
         ]
        },
        {
         "hoverinfo": "text",
         "line": {
          "color": "peru",
          "width": 0.25152866974865506
         },
         "mode": "lines",
         "text": [
          "<b>2</b>"
         ],
         "type": "scatter",
         "x": [
          0.18890539387121066,
          -0.009709271081250317,
          null
         ],
         "y": [
          -0.25721437611247694,
          0.0046491559004002,
          null
         ]
        },
        {
         "hoverinfo": "text",
         "line": {
          "color": "peru",
          "width": 0.25736345878048555
         },
         "mode": "lines",
         "text": [
          "<b>2</b>"
         ],
         "type": "scatter",
         "x": [
          0.18890539387121066,
          0.026589664548724874,
          null
         ],
         "y": [
          -0.25721437611247694,
          -0.30952614571382137,
          null
         ]
        },
        {
         "hoverinfo": "text",
         "line": {
          "color": "peru",
          "width": 0.25303155506537284
         },
         "mode": "lines",
         "text": [
          "<b>1</b>"
         ],
         "type": "scatter",
         "x": [
          0.18890539387121066,
          0.08602385684170852,
          null
         ],
         "y": [
          -0.25721437611247694,
          -0.09889936429271984,
          null
         ]
        },
        {
         "hoverinfo": "text",
         "line": {
          "color": "peru",
          "width": 0.2500995571045316
         },
         "mode": "lines",
         "text": [
          "<b>1</b>"
         ],
         "type": "scatter",
         "x": [
          0.18890539387121066,
          -0.0264655059238801,
          null
         ],
         "y": [
          -0.25721437611247694,
          -0.06257900558246596,
          null
         ]
        },
        {
         "hoverinfo": "text",
         "line": {
          "color": "peru",
          "width": 0.256337561185509
         },
         "mode": "lines",
         "text": [
          "<b>1</b>"
         ],
         "type": "scatter",
         "x": [
          0.18890539387121066,
          0.076044024846554,
          null
         ],
         "y": [
          -0.25721437611247694,
          -0.2285230196945629,
          null
         ]
        },
        {
         "hoverinfo": "text",
         "line": {
          "color": "peru",
          "width": 0.25035490435494656
         },
         "mode": "lines",
         "text": [
          "<b>1</b>"
         ],
         "type": "scatter",
         "x": [
          0.18890539387121066,
          -0.03799795302862708,
          null
         ],
         "y": [
          -0.25721437611247694,
          -0.10046936690130284,
          null
         ]
        },
        {
         "hoverinfo": "text",
         "line": {
          "color": "peru",
          "width": 0.25154868776183603
         },
         "mode": "lines",
         "text": [
          "<b>1</b>"
         ],
         "type": "scatter",
         "x": [
          0.18890539387121066,
          0.1383800971725734,
          null
         ],
         "y": [
          -0.25721437611247694,
          -0.017831327287119475,
          null
         ]
        },
        {
         "hoverinfo": "text",
         "line": {
          "color": "peru",
          "width": 0.26379631932678704
         },
         "mode": "lines",
         "text": [
          "<b>9</b>"
         ],
         "type": "scatter",
         "x": [
          0.003196803672617761,
          -0.11708530833598096,
          null
         ],
         "y": [
          -0.5189873829406744,
          -0.14061218669955314,
          null
         ]
        },
        {
         "hoverinfo": "text",
         "line": {
          "color": "peru",
          "width": 0.2992353797379691
         },
         "mode": "lines",
         "text": [
          "<b>1</b>"
         ],
         "type": "scatter",
         "x": [
          0.003196803672617761,
          -0.15761049738613608,
          null
         ],
         "y": [
          -0.5189873829406744,
          -0.3150798978482202,
          null
         ]
        },
        {
         "hoverinfo": "text",
         "line": {
          "color": "peru",
          "width": 0.2578153784874864
         },
         "mode": "lines",
         "text": [
          "<b>1</b>"
         ],
         "type": "scatter",
         "x": [
          0.003196803672617761,
          0.076044024846554,
          null
         ],
         "y": [
          -0.5189873829406744,
          -0.2285230196945629,
          null
         ]
        },
        {
         "hoverinfo": "text",
         "line": {
          "color": "peru",
          "width": 0.25082905948236234
         },
         "mode": "lines",
         "text": [
          "<b>1</b>"
         ],
         "type": "scatter",
         "x": [
          0.003196803672617761,
          0.0021476759594681615,
          null
         ],
         "y": [
          -0.5189873829406744,
          -0.14325253494920223,
          null
         ]
        },
        {
         "hoverinfo": "text",
         "line": {
          "color": "peru",
          "width": 0.4281144000175784
         },
         "mode": "lines",
         "text": [
          "<b>46</b>"
         ],
         "type": "scatter",
         "x": [
          0.225258502357332,
          0.1782997712493181,
          null
         ],
         "y": [
          -0.04718966706519001,
          -0.1274569078232588,
          null
         ]
        },
        {
         "hoverinfo": "text",
         "line": {
          "color": "peru",
          "width": 0.25153884052548414
         },
         "mode": "lines",
         "text": [
          "<b>22</b>"
         ],
         "type": "scatter",
         "x": [
          0.225258502357332,
          -0.0264655059238801,
          null
         ],
         "y": [
          -0.04718966706519001,
          -0.06257900558246596,
          null
         ]
        },
        {
         "hoverinfo": "text",
         "line": {
          "color": "peru",
          "width": 0.26139797786294494
         },
         "mode": "lines",
         "text": [
          "<b>19</b>"
         ],
         "type": "scatter",
         "x": [
          0.225258502357332,
          0.037112341418509734,
          null
         ],
         "y": [
          -0.04718966706519001,
          -0.06476133803077848,
          null
         ]
        },
        {
         "hoverinfo": "text",
         "line": {
          "color": "peru",
          "width": 4.179626906102637
         },
         "mode": "lines",
         "text": [
          "<b>18</b>"
         ],
         "type": "scatter",
         "x": [
          0.225258502357332,
          0.26434180886269315,
          null
         ],
         "y": [
          -0.04718966706519001,
          -0.1966470007508575,
          null
         ]
        },
        {
         "hoverinfo": "text",
         "line": {
          "color": "peru",
          "width": 0.25043050680954376
         },
         "mode": "lines",
         "text": [
          "<b>15</b>"
         ],
         "type": "scatter",
         "x": [
          0.225258502357332,
          -0.008620714316374366,
          null
         ],
         "y": [
          -0.04718966706519001,
          -0.2384014836653278,
          null
         ]
        },
        {
         "hoverinfo": "text",
         "line": {
          "color": "peru",
          "width": 0.299072846459717
         },
         "mode": "lines",
         "text": [
          "<b>11</b>"
         ],
         "type": "scatter",
         "x": [
          0.225258502357332,
          0.076044024846554,
          null
         ],
         "y": [
          -0.04718966706519001,
          -0.2285230196945629,
          null
         ]
        },
        {
         "hoverinfo": "text",
         "line": {
          "color": "peru",
          "width": 0.25172844976139946
         },
         "mode": "lines",
         "text": [
          "<b>7</b>"
         ],
         "type": "scatter",
         "x": [
          0.225258502357332,
          -0.03799795302862708,
          null
         ],
         "y": [
          -0.04718966706519001,
          -0.10046936690130284,
          null
         ]
        },
        {
         "hoverinfo": "text",
         "line": {
          "color": "peru",
          "width": 0.25080448027352387
         },
         "mode": "lines",
         "text": [
          "<b>5</b>"
         ],
         "type": "scatter",
         "x": [
          0.225258502357332,
          0.03097250257589602,
          null
         ],
         "y": [
          -0.04718966706519001,
          -0.02726580821300639,
          null
         ]
        },
        {
         "hoverinfo": "text",
         "line": {
          "color": "peru",
          "width": 0.2515159820371473
         },
         "mode": "lines",
         "text": [
          "<b>3</b>"
         ],
         "type": "scatter",
         "x": [
          0.225258502357332,
          0.03914642094439085,
          null
         ],
         "y": [
          -0.04718966706519001,
          -0.16815542693602434,
          null
         ]
        },
        {
         "hoverinfo": "text",
         "line": {
          "color": "peru",
          "width": 0.25021329616661775
         },
         "mode": "lines",
         "text": [
          "<b>1</b>"
         ],
         "type": "scatter",
         "x": [
          0.225258502357332,
          -0.11708530833598096,
          null
         ],
         "y": [
          -0.04718966706519001,
          -0.14061218669955314,
          null
         ]
        },
        {
         "hoverinfo": "text",
         "line": {
          "color": "peru",
          "width": 0.25106845430832386
         },
         "mode": "lines",
         "text": [
          "<b>1</b>"
         ],
         "type": "scatter",
         "x": [
          0.225258502357332,
          0.1383800971725734,
          null
         ],
         "y": [
          -0.04718966706519001,
          -0.017831327287119475,
          null
         ]
        },
        {
         "hoverinfo": "text",
         "line": {
          "color": "peru",
          "width": 0.2501345892200727
         },
         "mode": "lines",
         "text": [
          "<b>1</b>"
         ],
         "type": "scatter",
         "x": [
          0.225258502357332,
          0.0021476759594681615,
          null
         ],
         "y": [
          -0.04718966706519001,
          -0.14325253494920223,
          null
         ]
        },
        {
         "hoverinfo": "text",
         "line": {
          "color": "peru",
          "width": 0.25815802838484897
         },
         "mode": "lines",
         "text": [
          "<b>1</b>"
         ],
         "type": "scatter",
         "x": [
          0.225258502357332,
          -0.014496133191631221,
          null
         ],
         "y": [
          -0.04718966706519001,
          0.14458655088238995,
          null
         ]
        },
        {
         "hoverinfo": "text",
         "line": {
          "color": "peru",
          "width": 0.250257947044697
         },
         "mode": "lines",
         "text": [
          "<b>1</b>"
         ],
         "type": "scatter",
         "x": [
          0.225258502357332,
          -0.1565613973253825,
          null
         ],
         "y": [
          -0.04718966706519001,
          -0.04805573240281369,
          null
         ]
        },
        {
         "hoverinfo": "text",
         "line": {
          "color": "peru",
          "width": 0.2642075737433876
         },
         "mode": "lines",
         "text": [
          "<b>8</b>"
         ],
         "type": "scatter",
         "x": [
          -0.1313219761498052,
          -0.1565613973253825,
          null
         ],
         "y": [
          0.43169933745576405,
          -0.04805573240281369,
          null
         ]
        },
        {
         "hoverinfo": "text",
         "line": {
          "color": "peru",
          "width": 0.2758645064622203
         },
         "mode": "lines",
         "text": [
          "<b>2</b>"
         ],
         "type": "scatter",
         "x": [
          -0.1313219761498052,
          0.1383800971725734,
          null
         ],
         "y": [
          0.43169933745576405,
          -0.017831327287119475,
          null
         ]
        },
        {
         "hoverinfo": "text",
         "line": {
          "color": "peru",
          "width": 0.27379795968741466
         },
         "mode": "lines",
         "text": [
          "<b>1</b>"
         ],
         "type": "scatter",
         "x": [
          -0.1313219761498052,
          -0.060870871982170276,
          null
         ],
         "y": [
          0.43169933745576405,
          0.05847561375370165,
          null
         ]
        },
        {
         "hoverinfo": "text",
         "line": {
          "color": "peru",
          "width": 0.3027235983693088
         },
         "mode": "lines",
         "text": [
          "<b>68</b>"
         ],
         "type": "scatter",
         "x": [
          -0.2621886351080779,
          -0.0264655059238801,
          null
         ],
         "y": [
          0.22722651728137752,
          -0.06257900558246596,
          null
         ]
        },
        {
         "hoverinfo": "text",
         "line": {
          "color": "peru",
          "width": 0.2568570085326388
         },
         "mode": "lines",
         "text": [
          "<b>1</b>"
         ],
         "type": "scatter",
         "x": [
          -0.2621886351080779,
          0.037112341418509734,
          null
         ],
         "y": [
          0.22722651728137752,
          -0.06476133803077848,
          null
         ]
        },
        {
         "hoverinfo": "text",
         "line": {
          "color": "peru",
          "width": 0.2502963501779095
         },
         "mode": "lines",
         "text": [
          "<b>1</b>"
         ],
         "type": "scatter",
         "x": [
          -0.2621886351080779,
          -0.008620714316374366,
          null
         ],
         "y": [
          0.22722651728137752,
          -0.2384014836653278,
          null
         ]
        },
        {
         "hoverinfo": "text",
         "line": {
          "color": "peru",
          "width": 0.25174445540994633
         },
         "mode": "lines",
         "text": [
          "<b>1</b>"
         ],
         "type": "scatter",
         "x": [
          -0.2621886351080779,
          0.03097250257589602,
          null
         ],
         "y": [
          0.22722651728137752,
          -0.02726580821300639,
          null
         ]
        },
        {
         "hoverinfo": "text",
         "line": {
          "color": "peru",
          "width": 0.2534469543452299
         },
         "mode": "lines",
         "text": [
          "<b>900</b>"
         ],
         "type": "scatter",
         "x": [
          -0.11708530833598096,
          -0.11708530833598096,
          null
         ],
         "y": [
          -0.14061218669955314,
          -0.14061218669955314,
          null
         ]
        },
        {
         "hoverinfo": "text",
         "line": {
          "color": "peru",
          "width": 0.25017700682757393
         },
         "mode": "lines",
         "text": [
          "<b>136</b>"
         ],
         "type": "scatter",
         "x": [
          -0.11708530833598096,
          -0.0264655059238801,
          null
         ],
         "y": [
          -0.14061218669955314,
          -0.06257900558246596,
          null
         ]
        },
        {
         "hoverinfo": "text",
         "line": {
          "color": "peru",
          "width": 0.25005046268464254
         },
         "mode": "lines",
         "text": [
          "<b>100</b>"
         ],
         "type": "scatter",
         "x": [
          -0.11708530833598096,
          -0.008620714316374366,
          null
         ],
         "y": [
          -0.14061218669955314,
          -0.2384014836653278,
          null
         ]
        },
        {
         "hoverinfo": "text",
         "line": {
          "color": "peru",
          "width": 0.2505812259320654
         },
         "mode": "lines",
         "text": [
          "<b>56</b>"
         ],
         "type": "scatter",
         "x": [
          -0.11708530833598096,
          -0.009709271081250317,
          null
         ],
         "y": [
          -0.14061218669955314,
          0.0046491559004002,
          null
         ]
        },
        {
         "hoverinfo": "text",
         "line": {
          "color": "peru",
          "width": 0.2503936743544508
         },
         "mode": "lines",
         "text": [
          "<b>50</b>"
         ],
         "type": "scatter",
         "x": [
          -0.11708530833598096,
          -0.1565613973253825,
          null
         ],
         "y": [
          -0.14061218669955314,
          -0.04805573240281369,
          null
         ]
        },
        {
         "hoverinfo": "text",
         "line": {
          "color": "peru",
          "width": 0.2506440495855041
         },
         "mode": "lines",
         "text": [
          "<b>50</b>"
         ],
         "type": "scatter",
         "x": [
          -0.11708530833598096,
          0.037112341418509734,
          null
         ],
         "y": [
          -0.14061218669955314,
          -0.06476133803077848,
          null
         ]
        },
        {
         "hoverinfo": "text",
         "line": {
          "color": "peru",
          "width": 0.25010289729866303
         },
         "mode": "lines",
         "text": [
          "<b>42</b>"
         ],
         "type": "scatter",
         "x": [
          -0.11708530833598096,
          0.0021476759594681615,
          null
         ],
         "y": [
          -0.14061218669955314,
          -0.14325253494920223,
          null
         ]
        },
        {
         "hoverinfo": "text",
         "line": {
          "color": "peru",
          "width": 0.2501463901211927
         },
         "mode": "lines",
         "text": [
          "<b>29</b>"
         ],
         "type": "scatter",
         "x": [
          -0.11708530833598096,
          -0.03799795302862708,
          null
         ],
         "y": [
          -0.14061218669955314,
          -0.10046936690130284,
          null
         ]
        },
        {
         "hoverinfo": "text",
         "line": {
          "color": "peru",
          "width": 0.2501532550305584
         },
         "mode": "lines",
         "text": [
          "<b>28</b>"
         ],
         "type": "scatter",
         "x": [
          -0.11708530833598096,
          -0.034520369679783496,
          null
         ],
         "y": [
          -0.14061218669955314,
          -0.20641756411669696,
          null
         ]
        },
        {
         "hoverinfo": "text",
         "line": {
          "color": "peru",
          "width": 0.25027589603970923
         },
         "mode": "lines",
         "text": [
          "<b>27</b>"
         ],
         "type": "scatter",
         "x": [
          -0.11708530833598096,
          0.03914642094439085,
          null
         ],
         "y": [
          -0.14061218669955314,
          -0.16815542693602434,
          null
         ]
        },
        {
         "hoverinfo": "text",
         "line": {
          "color": "peru",
          "width": 0.2500744299067735
         },
         "mode": "lines",
         "text": [
          "<b>24</b>"
         ],
         "type": "scatter",
         "x": [
          -0.11708530833598096,
          0.03097250257589602,
          null
         ],
         "y": [
          -0.14061218669955314,
          -0.02726580821300639,
          null
         ]
        },
        {
         "hoverinfo": "text",
         "line": {
          "color": "peru",
          "width": 0.2503991028632931
         },
         "mode": "lines",
         "text": [
          "<b>17</b>"
         ],
         "type": "scatter",
         "x": [
          -0.11708530833598096,
          0.1383800971725734,
          null
         ],
         "y": [
          -0.14061218669955314,
          -0.017831327287119475,
          null
         ]
        },
        {
         "hoverinfo": "text",
         "line": {
          "color": "peru",
          "width": 0.25066590742136724
         },
         "mode": "lines",
         "text": [
          "<b>15</b>"
         ],
         "type": "scatter",
         "x": [
          -0.11708530833598096,
          0.08602385684170852,
          null
         ],
         "y": [
          -0.14061218669955314,
          -0.09889936429271984,
          null
         ]
        },
        {
         "hoverinfo": "text",
         "line": {
          "color": "peru",
          "width": 0.2502009919372917
         },
         "mode": "lines",
         "text": [
          "<b>14</b>"
         ],
         "type": "scatter",
         "x": [
          -0.11708530833598096,
          -0.13921754181663373,
          null
         ],
         "y": [
          -0.14061218669955314,
          -0.2230008879936063,
          null
         ]
        },
        {
         "hoverinfo": "text",
         "line": {
          "color": "peru",
          "width": 0.2512249795422884
         },
         "mode": "lines",
         "text": [
          "<b>11</b>"
         ],
         "type": "scatter",
         "x": [
          -0.11708530833598096,
          0.076044024846554,
          null
         ],
         "y": [
          -0.14061218669955314,
          -0.2285230196945629,
          null
         ]
        },
        {
         "hoverinfo": "text",
         "line": {
          "color": "peru",
          "width": 0.2903007115651724
         },
         "mode": "lines",
         "text": [
          "<b>9</b>"
         ],
         "type": "scatter",
         "x": [
          -0.11708530833598096,
          -0.41973072647800724,
          null
         ],
         "y": [
          -0.14061218669955314,
          0.060744149500660975,
          null
         ]
        },
        {
         "hoverinfo": "text",
         "line": {
          "color": "peru",
          "width": 0.2503685080238584
         },
         "mode": "lines",
         "text": [
          "<b>9</b>"
         ],
         "type": "scatter",
         "x": [
          -0.11708530833598096,
          -0.17699050553477794,
          null
         ],
         "y": [
          -0.14061218669955314,
          0.08436261288959324,
          null
         ]
        },
        {
         "hoverinfo": "text",
         "line": {
          "color": "peru",
          "width": 0.25032032489623646
         },
         "mode": "lines",
         "text": [
          "<b>8</b>"
         ],
         "type": "scatter",
         "x": [
          -0.11708530833598096,
          -0.060870871982170276,
          null
         ],
         "y": [
          -0.14061218669955314,
          0.05847561375370165,
          null
         ]
        },
        {
         "hoverinfo": "text",
         "line": {
          "color": "peru",
          "width": 0.2509441373096191
         },
         "mode": "lines",
         "text": [
          "<b>7</b>"
         ],
         "type": "scatter",
         "x": [
          -0.11708530833598096,
          -0.3216013916991431,
          null
         ],
         "y": [
          -0.14061218669955314,
          -0.10395182662034332,
          null
         ]
        },
        {
         "hoverinfo": "text",
         "line": {
          "color": "peru",
          "width": 0.25034685669063705
         },
         "mode": "lines",
         "text": [
          "<b>5</b>"
         ],
         "type": "scatter",
         "x": [
          -0.11708530833598096,
          -0.20084994632269787,
          null
         ],
         "y": [
          -0.14061218669955314,
          -0.19226855649186103,
          null
         ]
        },
        {
         "hoverinfo": "text",
         "line": {
          "color": "peru",
          "width": 0.250257626833549
         },
         "mode": "lines",
         "text": [
          "<b>5</b>"
         ],
         "type": "scatter",
         "x": [
          -0.11708530833598096,
          0.026589664548724874,
          null
         ],
         "y": [
          -0.14061218669955314,
          -0.30952614571382137,
          null
         ]
        },
        {
         "hoverinfo": "text",
         "line": {
          "color": "peru",
          "width": 0.2500530420972693
         },
         "mode": "lines",
         "text": [
          "<b>3</b>"
         ],
         "type": "scatter",
         "x": [
          -0.11708530833598096,
          -0.11764096428606644,
          null
         ],
         "y": [
          -0.14061218669955314,
          0.018569149606881274,
          null
         ]
        },
        {
         "hoverinfo": "text",
         "line": {
          "color": "peru",
          "width": 0.250160202284171
         },
         "mode": "lines",
         "text": [
          "<b>3</b>"
         ],
         "type": "scatter",
         "x": [
          -0.11708530833598096,
          -0.06926016718356055,
          null
         ],
         "y": [
          -0.14061218669955314,
          -0.30758311375772085,
          null
         ]
        },
        {
         "hoverinfo": "text",
         "line": {
          "color": "peru",
          "width": 0.25015519817693066
         },
         "mode": "lines",
         "text": [
          "<b>3</b>"
         ],
         "type": "scatter",
         "x": [
          -0.11708530833598096,
          -0.21382146535799829,
          null
         ],
         "y": [
          -0.14061218669955314,
          -0.0743844082798468,
          null
         ]
        },
        {
         "hoverinfo": "text",
         "line": {
          "color": "peru",
          "width": 0.25086473362310785
         },
         "mode": "lines",
         "text": [
          "<b>2</b>"
         ],
         "type": "scatter",
         "x": [
          -0.11708530833598096,
          -0.15761049738613608,
          null
         ],
         "y": [
          -0.14061218669955314,
          -0.3150798978482202,
          null
         ]
        },
        {
         "hoverinfo": "text",
         "line": {
          "color": "peru",
          "width": 0.25280173713826914
         },
         "mode": "lines",
         "text": [
          "<b>2</b>"
         ],
         "type": "scatter",
         "x": [
          -0.11708530833598096,
          -0.4907078785290733,
          null
         ],
         "y": [
          -0.14061218669955314,
          -0.10678684678237646,
          null
         ]
        },
        {
         "hoverinfo": "text",
         "line": {
          "color": "peru",
          "width": 0.25211735388344625
         },
         "mode": "lines",
         "text": [
          "<b>1</b>"
         ],
         "type": "scatter",
         "x": [
          -0.11708530833598096,
          -0.45566646999102844,
          null
         ],
         "y": [
          -0.14061218669955314,
          -0.3086962806174099,
          null
         ]
        },
        {
         "hoverinfo": "text",
         "line": {
          "color": "peru",
          "width": 0.250078219328986
         },
         "mode": "lines",
         "text": [
          "<b>1</b>"
         ],
         "type": "scatter",
         "x": [
          -0.11708530833598096,
          -0.23436239491697763,
          null
         ],
         "y": [
          -0.14061218669955314,
          0.02962341723103683,
          null
         ]
        },
        {
         "hoverinfo": "text",
         "line": {
          "color": "peru",
          "width": 0.2516174320460459
         },
         "mode": "lines",
         "text": [
          "<b>6</b>"
         ],
         "type": "scatter",
         "x": [
          0.2384114147397721,
          -0.0264655059238801,
          null
         ],
         "y": [
          -0.34719956689021464,
          -0.06257900558246596,
          null
         ]
        },
        {
         "hoverinfo": "text",
         "line": {
          "color": "peru",
          "width": 0.25046470977132623
         },
         "mode": "lines",
         "text": [
          "<b>4</b>"
         ],
         "type": "scatter",
         "x": [
          0.2384114147397721,
          -0.008620714316374366,
          null
         ],
         "y": [
          -0.34719956689021464,
          -0.2384014836653278,
          null
         ]
        },
        {
         "hoverinfo": "text",
         "line": {
          "color": "peru",
          "width": 0.25620041101184754
         },
         "mode": "lines",
         "text": [
          "<b>3</b>"
         ],
         "type": "scatter",
         "x": [
          0.2384114147397721,
          0.037112341418509734,
          null
         ],
         "y": [
          -0.34719956689021464,
          -0.06476133803077848,
          null
         ]
        },
        {
         "hoverinfo": "text",
         "line": {
          "color": "peru",
          "width": 0.2512071199754236
         },
         "mode": "lines",
         "text": [
          "<b>2</b>"
         ],
         "type": "scatter",
         "x": [
          0.2384114147397721,
          0.03097250257589602,
          null
         ],
         "y": [
          -0.34719956689021464,
          -0.02726580821300639,
          null
         ]
        },
        {
         "hoverinfo": "text",
         "line": {
          "color": "peru",
          "width": 0.2505288540709963
         },
         "mode": "lines",
         "text": [
          "<b>1</b>"
         ],
         "type": "scatter",
         "x": [
          0.2384114147397721,
          0.0021476759594681615,
          null
         ],
         "y": [
          -0.34719956689021464,
          -0.14325253494920223,
          null
         ]
        },
        {
         "hoverinfo": "text",
         "line": {
          "color": "peru",
          "width": 0.26361074582731636
         },
         "mode": "lines",
         "text": [
          "<b>1</b>"
         ],
         "type": "scatter",
         "x": [
          0.2384114147397721,
          0.076044024846554,
          null
         ],
         "y": [
          -0.34719956689021464,
          -0.2285230196945629,
          null
         ]
        },
        {
         "hoverinfo": "text",
         "line": {
          "color": "peru",
          "width": 0.3286119254387696
         },
         "mode": "lines",
         "text": [
          "<b>146</b>"
         ],
         "type": "scatter",
         "x": [
          -0.3216013916991431,
          -0.13921754181663373,
          null
         ],
         "y": [
          -0.10395182662034332,
          -0.2230008879936063,
          null
         ]
        },
        {
         "hoverinfo": "text",
         "line": {
          "color": "peru",
          "width": 0.2543465125615911
         },
         "mode": "lines",
         "text": [
          "<b>12</b>"
         ],
         "type": "scatter",
         "x": [
          -0.3216013916991431,
          0.03914642094439085,
          null
         ],
         "y": [
          -0.10395182662034332,
          -0.16815542693602434,
          null
         ]
        },
        {
         "hoverinfo": "text",
         "line": {
          "color": "peru",
          "width": 0.2510960334600552
         },
         "mode": "lines",
         "text": [
          "<b>10</b>"
         ],
         "type": "scatter",
         "x": [
          -0.3216013916991431,
          0.03097250257589602,
          null
         ],
         "y": [
          -0.10395182662034332,
          -0.02726580821300639,
          null
         ]
        },
        {
         "hoverinfo": "text",
         "line": {
          "color": "peru",
          "width": 0.2602008506106944
         },
         "mode": "lines",
         "text": [
          "<b>7</b>"
         ],
         "type": "scatter",
         "x": [
          -0.3216013916991431,
          -0.17699050553477794,
          null
         ],
         "y": [
          -0.10395182662034332,
          0.08436261288959324,
          null
         ]
        },
        {
         "hoverinfo": "text",
         "line": {
          "color": "peru",
          "width": 0.2531938178870753
         },
         "mode": "lines",
         "text": [
          "<b>7</b>"
         ],
         "type": "scatter",
         "x": [
          -0.3216013916991431,
          0.037112341418509734,
          null
         ],
         "y": [
          -0.10395182662034332,
          -0.06476133803077848,
          null
         ]
        },
        {
         "hoverinfo": "text",
         "line": {
          "color": "peru",
          "width": 0.2503216602124673
         },
         "mode": "lines",
         "text": [
          "<b>7</b>"
         ],
         "type": "scatter",
         "x": [
          -0.3216013916991431,
          -0.0264655059238801,
          null
         ],
         "y": [
          -0.10395182662034332,
          -0.06257900558246596,
          null
         ]
        },
        {
         "hoverinfo": "text",
         "line": {
          "color": "peru",
          "width": 0.25008903681082817
         },
         "mode": "lines",
         "text": [
          "<b>5</b>"
         ],
         "type": "scatter",
         "x": [
          -0.3216013916991431,
          -0.008620714316374366,
          null
         ],
         "y": [
          -0.10395182662034332,
          -0.2384014836653278,
          null
         ]
        },
        {
         "hoverinfo": "text",
         "line": {
          "color": "peru",
          "width": 0.2555489762448875
         },
         "mode": "lines",
         "text": [
          "<b>2</b>"
         ],
         "type": "scatter",
         "x": [
          -0.3216013916991431,
          -0.23436239491697763,
          null
         ],
         "y": [
          -0.10395182662034332,
          0.02962341723103683,
          null
         ]
        },
        {
         "hoverinfo": "text",
         "line": {
          "color": "peru",
          "width": 0.26547424226802635
         },
         "mode": "lines",
         "text": [
          "<b>1</b>"
         ],
         "type": "scatter",
         "x": [
          -0.3216013916991431,
          -0.15761049738613608,
          null
         ],
         "y": [
          -0.10395182662034332,
          -0.3150798978482202,
          null
         ]
        },
        {
         "hoverinfo": "text",
         "line": {
          "color": "peru",
          "width": 0.2501783355935863
         },
         "mode": "lines",
         "text": [
          "<b>1</b>"
         ],
         "type": "scatter",
         "x": [
          -0.3216013916991431,
          -0.03799795302862708,
          null
         ],
         "y": [
          -0.10395182662034332,
          -0.10046936690130284,
          null
         ]
        },
        {
         "hoverinfo": "text",
         "line": {
          "color": "peru",
          "width": 0.2501931420342164
         },
         "mode": "lines",
         "text": [
          "<b>1</b>"
         ],
         "type": "scatter",
         "x": [
          -0.3216013916991431,
          -0.034520369679783496,
          null
         ],
         "y": [
          -0.10395182662034332,
          -0.20641756411669696,
          null
         ]
        },
        {
         "hoverinfo": "text",
         "line": {
          "color": "peru",
          "width": 0.25027923864002743
         },
         "mode": "lines",
         "text": [
          "<b>1</b>"
         ],
         "type": "scatter",
         "x": [
          -0.3216013916991431,
          -0.1565613973253825,
          null
         ],
         "y": [
          -0.10395182662034332,
          -0.04805573240281369,
          null
         ]
        },
        {
         "hoverinfo": "text",
         "line": {
          "color": "peru",
          "width": 0.25004680754697606
         },
         "mode": "lines",
         "text": [
          "<b>65</b>"
         ],
         "type": "scatter",
         "x": [
          -0.034520369679783496,
          -0.008620714316374366,
          null
         ],
         "y": [
          -0.20641756411669696,
          -0.2384014836653278,
          null
         ]
        },
        {
         "hoverinfo": "text",
         "line": {
          "color": "peru",
          "width": 0.2506380111703563
         },
         "mode": "lines",
         "text": [
          "<b>42</b>"
         ],
         "type": "scatter",
         "x": [
          -0.034520369679783496,
          -0.009709271081250317,
          null
         ],
         "y": [
          -0.20641756411669696,
          0.0046491559004002,
          null
         ]
        },
        {
         "hoverinfo": "text",
         "line": {
          "color": "peru",
          "width": 0.25007909951634616
         },
         "mode": "lines",
         "text": [
          "<b>42</b>"
         ],
         "type": "scatter",
         "x": [
          -0.034520369679783496,
          -0.0264655059238801,
          null
         ],
         "y": [
          -0.20641756411669696,
          -0.06257900558246596,
          null
         ]
        },
        {
         "hoverinfo": "text",
         "line": {
          "color": "peru",
          "width": 0.25099626909321804
         },
         "mode": "lines",
         "text": [
          "<b>39</b>"
         ],
         "type": "scatter",
         "x": [
          -0.034520369679783496,
          -0.11764096428606644,
          null
         ],
         "y": [
          -0.20641756411669696,
          0.018569149606881274,
          null
         ]
        },
        {
         "hoverinfo": "text",
         "line": {
          "color": "peru",
          "width": 0.2505025302626838
         },
         "mode": "lines",
         "text": [
          "<b>37</b>"
         ],
         "type": "scatter",
         "x": [
          -0.034520369679783496,
          -0.1565613973253825,
          null
         ],
         "y": [
          -0.20641756411669696,
          -0.04805573240281369,
          null
         ]
        },
        {
         "hoverinfo": "text",
         "line": {
          "color": "peru",
          "width": 0.25285248786201797
         },
         "mode": "lines",
         "text": [
          "<b>33</b>"
         ],
         "type": "scatter",
         "x": [
          -0.034520369679783496,
          0.304566913755434,
          null
         ],
         "y": [
          -0.20641756411669696,
          -0.018188746815965686,
          null
         ]
        },
        {
         "hoverinfo": "text",
         "line": {
          "color": "peru",
          "width": 0.2606631150384474
         },
         "mode": "lines",
         "text": [
          "<b>22</b>"
         ],
         "type": "scatter",
         "x": [
          -0.034520369679783496,
          0.09091248396374722,
          null
         ],
         "y": [
          -0.20641756411669696,
          -0.3834819239965121,
          null
         ]
        },
        {
         "hoverinfo": "text",
         "line": {
          "color": "peru",
          "width": 0.2503692812168625
         },
         "mode": "lines",
         "text": [
          "<b>19</b>"
         ],
         "type": "scatter",
         "x": [
          -0.034520369679783496,
          0.037112341418509734,
          null
         ],
         "y": [
          -0.20641756411669696,
          -0.06476133803077848,
          null
         ]
        },
        {
         "hoverinfo": "text",
         "line": {
          "color": "peru",
          "width": 0.2500588668244571
         },
         "mode": "lines",
         "text": [
          "<b>13</b>"
         ],
         "type": "scatter",
         "x": [
          -0.034520369679783496,
          0.03097250257589602,
          null
         ],
         "y": [
          -0.20641756411669696,
          -0.02726580821300639,
          null
         ]
        },
        {
         "hoverinfo": "text",
         "line": {
          "color": "peru",
          "width": 0.2500898989966094
         },
         "mode": "lines",
         "text": [
          "<b>12</b>"
         ],
         "type": "scatter",
         "x": [
          -0.034520369679783496,
          -0.03799795302862708,
          null
         ],
         "y": [
          -0.20641756411669696,
          -0.10046936690130284,
          null
         ]
        },
        {
         "hoverinfo": "text",
         "line": {
          "color": "peru",
          "width": 0.2500422989460187
         },
         "mode": "lines",
         "text": [
          "<b>12</b>"
         ],
         "type": "scatter",
         "x": [
          -0.034520369679783496,
          0.0021476759594681615,
          null
         ],
         "y": [
          -0.20641756411669696,
          -0.14325253494920223,
          null
         ]
        },
        {
         "hoverinfo": "text",
         "line": {
          "color": "peru",
          "width": 0.2503203005996529
         },
         "mode": "lines",
         "text": [
          "<b>9</b>"
         ],
         "type": "scatter",
         "x": [
          -0.034520369679783496,
          0.1383800971725734,
          null
         ],
         "y": [
          -0.20641756411669696,
          -0.017831327287119475,
          null
         ]
        },
        {
         "hoverinfo": "text",
         "line": {
          "color": "peru",
          "width": 0.2505323236326404
         },
         "mode": "lines",
         "text": [
          "<b>8</b>"
         ],
         "type": "scatter",
         "x": [
          -0.034520369679783496,
          0.08602385684170852,
          null
         ],
         "y": [
          -0.20641756411669696,
          -0.09889936429271984,
          null
         ]
        },
        {
         "hoverinfo": "text",
         "line": {
          "color": "peru",
          "width": 0.2502286672739546
         },
         "mode": "lines",
         "text": [
          "<b>3</b>"
         ],
         "type": "scatter",
         "x": [
          -0.034520369679783496,
          0.026589664548724874,
          null
         ],
         "y": [
          -0.20641756411669696,
          -0.30952614571382137,
          null
         ]
        },
        {
         "hoverinfo": "text",
         "line": {
          "color": "peru",
          "width": 0.2503047295183115
         },
         "mode": "lines",
         "text": [
          "<b>3</b>"
         ],
         "type": "scatter",
         "x": [
          -0.034520369679783496,
          -0.20084994632269787,
          null
         ],
         "y": [
          -0.20641756411669696,
          -0.19226855649186103,
          null
         ]
        },
        {
         "hoverinfo": "text",
         "line": {
          "color": "peru",
          "width": 0.25018093490422255
         },
         "mode": "lines",
         "text": [
          "<b>3</b>"
         ],
         "type": "scatter",
         "x": [
          -0.034520369679783496,
          -0.060870871982170276,
          null
         ],
         "y": [
          -0.20641756411669696,
          0.05847561375370165,
          null
         ]
        },
        {
         "hoverinfo": "text",
         "line": {
          "color": "peru",
          "width": 0.2502352188872042
         },
         "mode": "lines",
         "text": [
          "<b>3</b>"
         ],
         "type": "scatter",
         "x": [
          -0.034520369679783496,
          -0.06926016718356055,
          null
         ],
         "y": [
          -0.20641756411669696,
          -0.30758311375772085,
          null
         ]
        },
        {
         "hoverinfo": "text",
         "line": {
          "color": "peru",
          "width": 0.2503574375592498
         },
         "mode": "lines",
         "text": [
          "<b>2</b>"
         ],
         "type": "scatter",
         "x": [
          -0.034520369679783496,
          0.076044024846554,
          null
         ],
         "y": [
          -0.20641756411669696,
          -0.2285230196945629,
          null
         ]
        },
        {
         "hoverinfo": "text",
         "line": {
          "color": "peru",
          "width": 0.250227391640398
         },
         "mode": "lines",
         "text": [
          "<b>2</b>"
         ],
         "type": "scatter",
         "x": [
          -0.034520369679783496,
          -0.23436239491697763,
          null
         ],
         "y": [
          -0.20641756411669696,
          0.02962341723103683,
          null
         ]
        },
        {
         "hoverinfo": "text",
         "line": {
          "color": "peru",
          "width": 0.2500302291391847
         },
         "mode": "lines",
         "text": [
          "<b>2</b>"
         ],
         "type": "scatter",
         "x": [
          -0.034520369679783496,
          0.03914642094439085,
          null
         ],
         "y": [
          -0.20641756411669696,
          -0.16815542693602434,
          null
         ]
        },
        {
         "hoverinfo": "text",
         "line": {
          "color": "peru",
          "width": 0.25063627762576557
         },
         "mode": "lines",
         "text": [
          "<b>46</b>"
         ],
         "type": "scatter",
         "x": [
          -0.17699050553477794,
          -0.0264655059238801,
          null
         ],
         "y": [
          0.08436261288959324,
          -0.06257900558246596,
          null
         ]
        },
        {
         "hoverinfo": "text",
         "line": {
          "color": "peru",
          "width": 0.2533049927606236
         },
         "mode": "lines",
         "text": [
          "<b>25</b>"
         ],
         "type": "scatter",
         "x": [
          -0.17699050553477794,
          0.037112341418509734,
          null
         ],
         "y": [
          0.08436261288959324,
          -0.06476133803077848,
          null
         ]
        },
        {
         "hoverinfo": "text",
         "line": {
          "color": "peru",
          "width": 0.2500380134780665
         },
         "mode": "lines",
         "text": [
          "<b>7</b>"
         ],
         "type": "scatter",
         "x": [
          -0.17699050553477794,
          -0.008620714316374366,
          null
         ],
         "y": [
          0.08436261288959324,
          -0.2384014836653278,
          null
         ]
        },
        {
         "hoverinfo": "text",
         "line": {
          "color": "peru",
          "width": 0.2543902016541001
         },
         "mode": "lines",
         "text": [
          "<b>6</b>"
         ],
         "type": "scatter",
         "x": [
          -0.17699050553477794,
          -0.20084994632269787,
          null
         ],
         "y": [
          0.08436261288959324,
          -0.19226855649186103,
          null
         ]
        },
        {
         "hoverinfo": "text",
         "line": {
          "color": "peru",
          "width": 0.25019610603889963
         },
         "mode": "lines",
         "text": [
          "<b>6</b>"
         ],
         "type": "scatter",
         "x": [
          -0.17699050553477794,
          0.03097250257589602,
          null
         ],
         "y": [
          0.08436261288959324,
          -0.02726580821300639,
          null
         ]
        },
        {
         "hoverinfo": "text",
         "line": {
          "color": "peru",
          "width": 0.2504573207556634
         },
         "mode": "lines",
         "text": [
          "<b>3</b>"
         ],
         "type": "scatter",
         "x": [
          -0.17699050553477794,
          -0.13921754181663373,
          null
         ],
         "y": [
          0.08436261288959324,
          -0.2230008879936063,
          null
         ]
        },
        {
         "hoverinfo": "text",
         "line": {
          "color": "peru",
          "width": 0.2500784904137346
         },
         "mode": "lines",
         "text": [
          "<b>3</b>"
         ],
         "type": "scatter",
         "x": [
          -0.17699050553477794,
          0.0021476759594681615,
          null
         ],
         "y": [
          0.08436261288959324,
          -0.14325253494920223,
          null
         ]
        },
        {
         "hoverinfo": "text",
         "line": {
          "color": "peru",
          "width": 0.25021286282384864
         },
         "mode": "lines",
         "text": [
          "<b>2</b>"
         ],
         "type": "scatter",
         "x": [
          -0.17699050553477794,
          0.03914642094439085,
          null
         ],
         "y": [
          0.08436261288959324,
          -0.16815542693602434,
          null
         ]
        },
        {
         "hoverinfo": "text",
         "line": {
          "color": "peru",
          "width": 0.25107422411987157
         },
         "mode": "lines",
         "text": [
          "<b>2</b>"
         ],
         "type": "scatter",
         "x": [
          -0.17699050553477794,
          0.026589664548724874,
          null
         ],
         "y": [
          0.08436261288959324,
          -0.30952614571382137,
          null
         ]
        },
        {
         "hoverinfo": "text",
         "line": {
          "color": "peru",
          "width": 0.25165770201618964
         },
         "mode": "lines",
         "text": [
          "<b>2</b>"
         ],
         "type": "scatter",
         "x": [
          -0.17699050553477794,
          -0.23436239491697763,
          null
         ],
         "y": [
          0.08436261288959324,
          0.02962341723103683,
          null
         ]
        },
        {
         "hoverinfo": "text",
         "line": {
          "color": "peru",
          "width": 0.33993586866618325
         },
         "mode": "lines",
         "text": [
          "<b>1</b>"
         ],
         "type": "scatter",
         "x": [
          -0.17699050553477794,
          -0.5868292045207596,
          null
         ],
         "y": [
          0.08436261288959324,
          0.3740844462328424,
          null
         ]
        },
        {
         "hoverinfo": "text",
         "line": {
          "color": "peru",
          "width": 0.30026545377164526
         },
         "mode": "lines",
         "text": [
          "<b>1</b>"
         ],
         "type": "scatter",
         "x": [
          -0.17699050553477794,
          0.12187876408755381,
          null
         ],
         "y": [
          0.08436261288959324,
          0.40402596435716875,
          null
         ]
        },
        {
         "hoverinfo": "text",
         "line": {
          "color": "peru",
          "width": 0.2500524315908151
         },
         "mode": "lines",
         "text": [
          "<b>1</b>"
         ],
         "type": "scatter",
         "x": [
          -0.17699050553477794,
          -0.03799795302862708,
          null
         ],
         "y": [
          0.08436261288959324,
          -0.10046936690130284,
          null
         ]
        },
        {
         "hoverinfo": "text",
         "line": {
          "color": "peru",
          "width": 0.2510851610427721
         },
         "mode": "lines",
         "text": [
          "<b>1</b>"
         ],
         "type": "scatter",
         "x": [
          -0.17699050553477794,
          0.076044024846554,
          null
         ],
         "y": [
          0.08436261288959324,
          -0.2285230196945629,
          null
         ]
        },
        {
         "hoverinfo": "text",
         "line": {
          "color": "peru",
          "width": 0.2502394622608107
         },
         "mode": "lines",
         "text": [
          "<b>1</b>"
         ],
         "type": "scatter",
         "x": [
          -0.17699050553477794,
          0.1383800971725734,
          null
         ],
         "y": [
          0.08436261288959324,
          -0.017831327287119475,
          null
         ]
        },
        {
         "hoverinfo": "text",
         "line": {
          "color": "peru",
          "width": 0.25065552003815017
         },
         "mode": "lines",
         "text": [
          "<b>1</b>"
         ],
         "type": "scatter",
         "x": [
          -0.17699050553477794,
          0.1782997712493181,
          null
         ],
         "y": [
          0.08436261288959324,
          -0.1274569078232588,
          null
         ]
        },
        {
         "hoverinfo": "text",
         "line": {
          "color": "peru",
          "width": 0.25253755912818443
         },
         "mode": "lines",
         "text": [
          "<b>2</b>"
         ],
         "type": "scatter",
         "x": [
          0.5252622617720751,
          -0.0264655059238801,
          null
         ],
         "y": [
          -0.034926880980845794,
          -0.06257900558246596,
          null
         ]
        },
        {
         "hoverinfo": "text",
         "line": {
          "color": "peru",
          "width": 0.258897887286336
         },
         "mode": "lines",
         "text": [
          "<b>1</b>"
         ],
         "type": "scatter",
         "x": [
          0.5252622617720751,
          0.037112341418509734,
          null
         ],
         "y": [
          -0.034926880980845794,
          -0.06476133803077848,
          null
         ]
        },
        {
         "hoverinfo": "text",
         "line": {
          "color": "peru",
          "width": 0.26064423330226905
         },
         "mode": "lines",
         "text": [
          "<b>2</b>"
         ],
         "type": "scatter",
         "x": [
          0.12187876408755381,
          0.037112341418509734,
          null
         ],
         "y": [
          0.40402596435716875,
          -0.06476133803077848,
          null
         ]
        },
        {
         "hoverinfo": "text",
         "line": {
          "color": "peru",
          "width": 0.9735427785392133
         },
         "mode": "lines",
         "text": [
          "<b>1</b>"
         ],
         "type": "scatter",
         "x": [
          0.12187876408755381,
          0.14140656101499638,
          null
         ],
         "y": [
          0.40402596435716875,
          0.1534315269562114,
          null
         ]
        },
        {
         "hoverinfo": "text",
         "line": {
          "color": "peru",
          "width": 0.2506525965316144
         },
         "mode": "lines",
         "text": [
          "<b>4</b>"
         ],
         "type": "scatter",
         "x": [
          0.304566913755434,
          -0.009709271081250317,
          null
         ],
         "y": [
          -0.018188746815965686,
          0.0046491559004002,
          null
         ]
        },
        {
         "hoverinfo": "text",
         "line": {
          "color": "peru",
          "width": 0.25014627759932195
         },
         "mode": "lines",
         "text": [
          "<b>3</b>"
         ],
         "type": "scatter",
         "x": [
          0.304566913755434,
          0.03097250257589602,
          null
         ],
         "y": [
          -0.018188746815965686,
          -0.02726580821300639,
          null
         ]
        },
        {
         "hoverinfo": "text",
         "line": {
          "color": "peru",
          "width": 0.2502440863124593
         },
         "mode": "lines",
         "text": [
          "<b>2</b>"
         ],
         "type": "scatter",
         "x": [
          0.304566913755434,
          -0.1565613973253825,
          null
         ],
         "y": [
          -0.018188746815965686,
          -0.04805573240281369,
          null
         ]
        },
        {
         "hoverinfo": "text",
         "line": {
          "color": "peru",
          "width": 0.2501584877176055
         },
         "mode": "lines",
         "text": [
          "<b>2</b>"
         ],
         "type": "scatter",
         "x": [
          0.304566913755434,
          -0.03799795302862708,
          null
         ],
         "y": [
          -0.018188746815965686,
          -0.10046936690130284,
          null
         ]
        },
        {
         "hoverinfo": "text",
         "line": {
          "color": "peru",
          "width": 0.25139341462330606
         },
         "mode": "lines",
         "text": [
          "<b>2</b>"
         ],
         "type": "scatter",
         "x": [
          0.304566913755434,
          0.08602385684170852,
          null
         ],
         "y": [
          -0.018188746815965686,
          -0.09889936429271984,
          null
         ]
        },
        {
         "hoverinfo": "text",
         "line": {
          "color": "peru",
          "width": 0.25000795017627553
         },
         "mode": "lines",
         "text": [
          "<b>1</b>"
         ],
         "type": "scatter",
         "x": [
          0.304566913755434,
          -0.008620714316374366,
          null
         ],
         "y": [
          -0.018188746815965686,
          -0.2384014836653278,
          null
         ]
        },
        {
         "hoverinfo": "text",
         "line": {
          "color": "peru",
          "width": 0.2500204760402582
         },
         "mode": "lines",
         "text": [
          "<b>1</b>"
         ],
         "type": "scatter",
         "x": [
          0.304566913755434,
          -0.0264655059238801,
          null
         ],
         "y": [
          -0.018188746815965686,
          -0.06257900558246596,
          null
         ]
        },
        {
         "hoverinfo": "text",
         "line": {
          "color": "peru",
          "width": 0.26304575834858257
         },
         "mode": "lines",
         "text": [
          "<b>67</b>"
         ],
         "type": "scatter",
         "x": [
          -0.20084994632269787,
          0.037112341418509734,
          null
         ],
         "y": [
          -0.19226855649186103,
          -0.06476133803077848,
          null
         ]
        },
        {
         "hoverinfo": "text",
         "line": {
          "color": "peru",
          "width": 0.250613226872406
         },
         "mode": "lines",
         "text": [
          "<b>27</b>"
         ],
         "type": "scatter",
         "x": [
          -0.20084994632269787,
          -0.0264655059238801,
          null
         ],
         "y": [
          -0.19226855649186103,
          -0.06257900558246596,
          null
         ]
        },
        {
         "hoverinfo": "text",
         "line": {
          "color": "peru",
          "width": 0.25120221599699954
         },
         "mode": "lines",
         "text": [
          "<b>23</b>"
         ],
         "type": "scatter",
         "x": [
          -0.20084994632269787,
          0.03097250257589602,
          null
         ],
         "y": [
          -0.19226855649186103,
          -0.02726580821300639,
          null
         ]
        },
        {
         "hoverinfo": "text",
         "line": {
          "color": "peru",
          "width": 0.25128125503410353
         },
         "mode": "lines",
         "text": [
          "<b>16</b>"
         ],
         "type": "scatter",
         "x": [
          -0.20084994632269787,
          -0.03799795302862708,
          null
         ],
         "y": [
          -0.19226855649186103,
          -0.10046936690130284,
          null
         ]
        },
        {
         "hoverinfo": "text",
         "line": {
          "color": "peru",
          "width": 0.2540071525628537
         },
         "mode": "lines",
         "text": [
          "<b>16</b>"
         ],
         "type": "scatter",
         "x": [
          -0.20084994632269787,
          -0.13921754181663373,
          null
         ],
         "y": [
          -0.19226855649186103,
          -0.2230008879936063,
          null
         ]
        },
        {
         "hoverinfo": "text",
         "line": {
          "color": "peru",
          "width": 0.25010267272616077
         },
         "mode": "lines",
         "text": [
          "<b>11</b>"
         ],
         "type": "scatter",
         "x": [
          -0.20084994632269787,
          -0.008620714316374366,
          null
         ],
         "y": [
          -0.19226855649186103,
          -0.2384014836653278,
          null
         ]
        },
        {
         "hoverinfo": "text",
         "line": {
          "color": "peru",
          "width": 0.25081938431649725
         },
         "mode": "lines",
         "text": [
          "<b>5</b>"
         ],
         "type": "scatter",
         "x": [
          -0.20084994632269787,
          0.03914642094439085,
          null
         ],
         "y": [
          -0.19226855649186103,
          -0.16815542693602434,
          null
         ]
        },
        {
         "hoverinfo": "text",
         "line": {
          "color": "peru",
          "width": 0.34059297145027023
         },
         "mode": "lines",
         "text": [
          "<b>4</b>"
         ],
         "type": "scatter",
         "x": [
          -0.20084994632269787,
          -0.4907078785290733,
          null
         ],
         "y": [
          -0.19226855649186103,
          -0.10678684678237646,
          null
         ]
        },
        {
         "hoverinfo": "text",
         "line": {
          "color": "peru",
          "width": 0.2503329617713998
         },
         "mode": "lines",
         "text": [
          "<b>4</b>"
         ],
         "type": "scatter",
         "x": [
          -0.20084994632269787,
          -0.1565613973253825,
          null
         ],
         "y": [
          -0.19226855649186103,
          -0.04805573240281369,
          null
         ]
        },
        {
         "hoverinfo": "text",
         "line": {
          "color": "peru",
          "width": 0.25220046285372866
         },
         "mode": "lines",
         "text": [
          "<b>3</b>"
         ],
         "type": "scatter",
         "x": [
          -0.20084994632269787,
          -0.21382146535799829,
          null
         ],
         "y": [
          -0.19226855649186103,
          -0.0743844082798468,
          null
         ]
        },
        {
         "hoverinfo": "text",
         "line": {
          "color": "peru",
          "width": 0.2524832554115514
         },
         "mode": "lines",
         "text": [
          "<b>3</b>"
         ],
         "type": "scatter",
         "x": [
          -0.20084994632269787,
          0.026589664548724874,
          null
         ],
         "y": [
          -0.19226855649186103,
          -0.30952614571382137,
          null
         ]
        },
        {
         "hoverinfo": "text",
         "line": {
          "color": "peru",
          "width": 0.250935078080979
         },
         "mode": "lines",
         "text": [
          "<b>3</b>"
         ],
         "type": "scatter",
         "x": [
          -0.20084994632269787,
          -0.11764096428606644,
          null
         ],
         "y": [
          -0.19226855649186103,
          0.018569149606881274,
          null
         ]
        },
        {
         "hoverinfo": "text",
         "line": {
          "color": "peru",
          "width": 0.2520407444045378
         },
         "mode": "lines",
         "text": [
          "<b>3</b>"
         ],
         "type": "scatter",
         "x": [
          -0.20084994632269787,
          0.08602385684170852,
          null
         ],
         "y": [
          -0.19226855649186103,
          -0.09889936429271984,
          null
         ]
        },
        {
         "hoverinfo": "text",
         "line": {
          "color": "peru",
          "width": 0.2505196356876767
         },
         "mode": "lines",
         "text": [
          "<b>3</b>"
         ],
         "type": "scatter",
         "x": [
          -0.20084994632269787,
          -0.009709271081250317,
          null
         ],
         "y": [
          -0.19226855649186103,
          0.0046491559004002,
          null
         ]
        },
        {
         "hoverinfo": "text",
         "line": {
          "color": "peru",
          "width": 0.2500437512267329
         },
         "mode": "lines",
         "text": [
          "<b>1</b>"
         ],
         "type": "scatter",
         "x": [
          -0.20084994632269787,
          0.0021476759594681615,
          null
         ],
         "y": [
          -0.19226855649186103,
          -0.14325253494920223,
          null
         ]
        },
        {
         "hoverinfo": "text",
         "line": {
          "color": "peru",
          "width": 0.25628039526782725
         },
         "mode": "lines",
         "text": [
          "<b>1</b>"
         ],
         "type": "scatter",
         "x": [
          -0.20084994632269787,
          0.09091248396374722,
          null
         ],
         "y": [
          -0.19226855649186103,
          -0.3834819239965121,
          null
         ]
        },
        {
         "hoverinfo": "text",
         "line": {
          "color": "peru",
          "width": 0.2506028441113991
         },
         "mode": "lines",
         "text": [
          "<b>1</b>"
         ],
         "type": "scatter",
         "x": [
          -0.20084994632269787,
          -0.060870871982170276,
          null
         ],
         "y": [
          -0.19226855649186103,
          0.05847561375370165,
          null
         ]
        },
        {
         "hoverinfo": "text",
         "line": {
          "color": "peru",
          "width": 0.25134270418898347
         },
         "mode": "lines",
         "text": [
          "<b>1</b>"
         ],
         "type": "scatter",
         "x": [
          -0.20084994632269787,
          -0.23436239491697763,
          null
         ],
         "y": [
          -0.19226855649186103,
          0.02962341723103683,
          null
         ]
        },
        {
         "hoverinfo": "text",
         "line": {
          "color": "peru",
          "width": 0.25138839510322586
         },
         "mode": "lines",
         "text": [
          "<b>1</b>"
         ],
         "type": "scatter",
         "x": [
          -0.20084994632269787,
          0.076044024846554,
          null
         ],
         "y": [
          -0.19226855649186103,
          -0.2285230196945629,
          null
         ]
        },
        {
         "hoverinfo": "text",
         "line": {
          "color": "peru",
          "width": 0.2503460336683732
         },
         "mode": "lines",
         "text": [
          "<b>1</b>"
         ],
         "type": "scatter",
         "x": [
          -0.20084994632269787,
          0.1383800971725734,
          null
         ],
         "y": [
          -0.19226855649186103,
          -0.017831327287119475,
          null
         ]
        },
        {
         "hoverinfo": "text",
         "line": {
          "color": "peru",
          "width": 0.25077918784820596
         },
         "mode": "lines",
         "text": [
          "<b>30</b>"
         ],
         "type": "scatter",
         "x": [
          -0.23436239491697763,
          -0.0264655059238801,
          null
         ],
         "y": [
          0.02962341723103683,
          -0.06257900558246596,
          null
         ]
        },
        {
         "hoverinfo": "text",
         "line": {
          "color": "peru",
          "width": 0.2509673763546344
         },
         "mode": "lines",
         "text": [
          "<b>16</b>"
         ],
         "type": "scatter",
         "x": [
          -0.23436239491697763,
          0.03097250257589602,
          null
         ],
         "y": [
          0.02962341723103683,
          -0.02726580821300639,
          null
         ]
        },
        {
         "hoverinfo": "text",
         "line": {
          "color": "peru",
          "width": 0.2501569086417744
         },
         "mode": "lines",
         "text": [
          "<b>15</b>"
         ],
         "type": "scatter",
         "x": [
          -0.23436239491697763,
          -0.008620714316374366,
          null
         ],
         "y": [
          0.02962341723103683,
          -0.2384014836653278,
          null
         ]
        },
        {
         "hoverinfo": "text",
         "line": {
          "color": "peru",
          "width": 0.2511335225538455
         },
         "mode": "lines",
         "text": [
          "<b>12</b>"
         ],
         "type": "scatter",
         "x": [
          -0.23436239491697763,
          -0.03799795302862708,
          null
         ],
         "y": [
          0.02962341723103683,
          -0.10046936690130284,
          null
         ]
        },
        {
         "hoverinfo": "text",
         "line": {
          "color": "peru",
          "width": 0.2512079398836698
         },
         "mode": "lines",
         "text": [
          "<b>11</b>"
         ],
         "type": "scatter",
         "x": [
          -0.23436239491697763,
          -0.1565613973253825,
          null
         ],
         "y": [
          0.02962341723103683,
          -0.04805573240281369,
          null
         ]
        },
        {
         "hoverinfo": "text",
         "line": {
          "color": "peru",
          "width": 0.2523175627050754
         },
         "mode": "lines",
         "text": [
          "<b>10</b>"
         ],
         "type": "scatter",
         "x": [
          -0.23436239491697763,
          0.037112341418509734,
          null
         ],
         "y": [
          0.02962341723103683,
          -0.06476133803077848,
          null
         ]
        },
        {
         "hoverinfo": "text",
         "line": {
          "color": "peru",
          "width": 0.29724503416827575
         },
         "mode": "lines",
         "text": [
          "<b>6</b>"
         ],
         "type": "scatter",
         "x": [
          -0.23436239491697763,
          -0.15761049738613608,
          null
         ],
         "y": [
          0.02962341723103683,
          -0.3150798978482202,
          null
         ]
        },
        {
         "hoverinfo": "text",
         "line": {
          "color": "peru",
          "width": 0.25080411012236226
         },
         "mode": "lines",
         "text": [
          "<b>4</b>"
         ],
         "type": "scatter",
         "x": [
          -0.23436239491697763,
          -0.009709271081250317,
          null
         ],
         "y": [
          0.02962341723103683,
          0.0046491559004002,
          null
         ]
        },
        {
         "hoverinfo": "text",
         "line": {
          "color": "peru",
          "width": 0.25019853816941384
         },
         "mode": "lines",
         "text": [
          "<b>4</b>"
         ],
         "type": "scatter",
         "x": [
          -0.23436239491697763,
          0.0021476759594681615,
          null
         ],
         "y": [
          0.02962341723103683,
          -0.14325253494920223,
          null
         ]
        },
        {
         "hoverinfo": "text",
         "line": {
          "color": "peru",
          "width": 0.25071029317523214
         },
         "mode": "lines",
         "text": [
          "<b>2</b>"
         ],
         "type": "scatter",
         "x": [
          -0.23436239491697763,
          -0.11764096428606644,
          null
         ],
         "y": [
          0.02962341723103683,
          0.018569149606881274,
          null
         ]
        },
        {
         "hoverinfo": "text",
         "line": {
          "color": "peru",
          "width": 0.2520548628393033
         },
         "mode": "lines",
         "text": [
          "<b>2</b>"
         ],
         "type": "scatter",
         "x": [
          -0.23436239491697763,
          -0.06926016718356055,
          null
         ],
         "y": [
          0.02962341723103683,
          -0.30758311375772085,
          null
         ]
        },
        {
         "hoverinfo": "text",
         "line": {
          "color": "peru",
          "width": 0.2516220104842283
         },
         "mode": "lines",
         "text": [
          "<b>2</b>"
         ],
         "type": "scatter",
         "x": [
          -0.23436239491697763,
          0.08602385684170852,
          null
         ],
         "y": [
          0.02962341723103683,
          -0.09889936429271984,
          null
         ]
        },
        {
         "hoverinfo": "text",
         "line": {
          "color": "peru",
          "width": 0.2505716680441474
         },
         "mode": "lines",
         "text": [
          "<b>2</b>"
         ],
         "type": "scatter",
         "x": [
          -0.23436239491697763,
          -0.13921754181663373,
          null
         ],
         "y": [
          0.02962341723103683,
          -0.2230008879936063,
          null
         ]
        },
        {
         "hoverinfo": "text",
         "line": {
          "color": "peru",
          "width": 0.3105339022053523
         },
         "mode": "lines",
         "text": [
          "<b>1</b>"
         ],
         "type": "scatter",
         "x": [
          -0.23436239491697763,
          -0.4106235388170116,
          null
         ],
         "y": [
          0.02962341723103683,
          0.5541072673739492,
          null
         ]
        },
        {
         "hoverinfo": "text",
         "line": {
          "color": "peru",
          "width": 0.25072273254054106
         },
         "mode": "lines",
         "text": [
          "<b>1</b>"
         ],
         "type": "scatter",
         "x": [
          -0.23436239491697763,
          -0.060870871982170276,
          null
         ],
         "y": [
          0.02962341723103683,
          0.05847561375370165,
          null
         ]
        },
        {
         "hoverinfo": "text",
         "line": {
          "color": "peru",
          "width": 0.2508945525998097
         },
         "mode": "lines",
         "text": [
          "<b>1</b>"
         ],
         "type": "scatter",
         "x": [
          -0.23436239491697763,
          -0.21382146535799829,
          null
         ],
         "y": [
          0.02962341723103683,
          -0.0743844082798468,
          null
         ]
        },
        {
         "hoverinfo": "text",
         "line": {
          "color": "peru",
          "width": 0.2507309263959233
         },
         "mode": "lines",
         "text": [
          "<b>1678</b>"
         ],
         "type": "scatter",
         "x": [
          -0.0264655059238801,
          -0.0264655059238801,
          null
         ],
         "y": [
          -0.06257900558246596,
          -0.06257900558246596,
          null
         ]
        },
        {
         "hoverinfo": "text",
         "line": {
          "color": "peru",
          "width": 0.250100919279199
         },
         "mode": "lines",
         "text": [
          "<b>582</b>"
         ],
         "type": "scatter",
         "x": [
          -0.0264655059238801,
          -0.008620714316374366,
          null
         ],
         "y": [
          -0.06257900558246596,
          -0.2384014836653278,
          null
         ]
        },
        {
         "hoverinfo": "text",
         "line": {
          "color": "peru",
          "width": 0.25036334298774054
         },
         "mode": "lines",
         "text": [
          "<b>356</b>"
         ],
         "type": "scatter",
         "x": [
          -0.0264655059238801,
          0.03097250257589602,
          null
         ],
         "y": [
          -0.06257900558246596,
          -0.02726580821300639,
          null
         ]
        },
        {
         "hoverinfo": "text",
         "line": {
          "color": "peru",
          "width": 0.25139694247619354
         },
         "mode": "lines",
         "text": [
          "<b>349</b>"
         ],
         "type": "scatter",
         "x": [
          -0.0264655059238801,
          0.037112341418509734,
          null
         ],
         "y": [
          -0.06257900558246596,
          -0.06476133803077848,
          null
         ]
        },
        {
         "hoverinfo": "text",
         "line": {
          "color": "peru",
          "width": 0.2501938865382152
         },
         "mode": "lines",
         "text": [
          "<b>234</b>"
         ],
         "type": "scatter",
         "x": [
          -0.0264655059238801,
          0.0021476759594681615,
          null
         ],
         "y": [
          -0.06257900558246596,
          -0.14325253494920223,
          null
         ]
        },
        {
         "hoverinfo": "text",
         "line": {
          "color": "peru",
          "width": 0.2503614081058507
         },
         "mode": "lines",
         "text": [
          "<b>224</b>"
         ],
         "type": "scatter",
         "x": [
          -0.0264655059238801,
          -0.03799795302862708,
          null
         ],
         "y": [
          -0.06257900558246596,
          -0.10046936690130284,
          null
         ]
        },
        {
         "hoverinfo": "text",
         "line": {
          "color": "peru",
          "width": 0.25043894319820215
         },
         "mode": "lines",
         "text": [
          "<b>217</b>"
         ],
         "type": "scatter",
         "x": [
          -0.0264655059238801,
          -0.1565613973253825,
          null
         ],
         "y": [
          -0.06257900558246596,
          -0.04805573240281369,
          null
         ]
        },
        {
         "hoverinfo": "text",
         "line": {
          "color": "peru",
          "width": 0.25035793929835715
         },
         "mode": "lines",
         "text": [
          "<b>109</b>"
         ],
         "type": "scatter",
         "x": [
          -0.0264655059238801,
          0.03914642094439085,
          null
         ],
         "y": [
          -0.06257900558246596,
          -0.16815542693602434,
          null
         ]
        },
        {
         "hoverinfo": "text",
         "line": {
          "color": "peru",
          "width": 0.2504364744791846
         },
         "mode": "lines",
         "text": [
          "<b>91</b>"
         ],
         "type": "scatter",
         "x": [
          -0.0264655059238801,
          -0.13921754181663373,
          null
         ],
         "y": [
          -0.06257900558246596,
          -0.2230008879936063,
          null
         ]
        },
        {
         "hoverinfo": "text",
         "line": {
          "color": "peru",
          "width": 0.2501767673934007
         },
         "mode": "lines",
         "text": [
          "<b>52</b>"
         ],
         "type": "scatter",
         "x": [
          -0.0264655059238801,
          -0.009709271081250317,
          null
         ],
         "y": [
          -0.06257900558246596,
          0.0046491559004002,
          null
         ]
        },
        {
         "hoverinfo": "text",
         "line": {
          "color": "peru",
          "width": 0.25073099439127583
         },
         "mode": "lines",
         "text": [
          "<b>42</b>"
         ],
         "type": "scatter",
         "x": [
          -0.0264655059238801,
          -0.06926016718356055,
          null
         ],
         "y": [
          -0.06257900558246596,
          -0.30758311375772085,
          null
         ]
        },
        {
         "hoverinfo": "text",
         "line": {
          "color": "peru",
          "width": 0.25029666382550175
         },
         "mode": "lines",
         "text": [
          "<b>41</b>"
         ],
         "type": "scatter",
         "x": [
          -0.0264655059238801,
          0.1383800971725734,
          null
         ],
         "y": [
          -0.06257900558246596,
          -0.017831327287119475,
          null
         ]
        },
        {
         "hoverinfo": "text",
         "line": {
          "color": "peru",
          "width": 0.2504879899570126
         },
         "mode": "lines",
         "text": [
          "<b>35</b>"
         ],
         "type": "scatter",
         "x": [
          -0.0264655059238801,
          0.08602385684170852,
          null
         ],
         "y": [
          -0.06257900558246596,
          -0.09889936429271984,
          null
         ]
        },
        {
         "hoverinfo": "text",
         "line": {
          "color": "peru",
          "width": 0.25051554569153534
         },
         "mode": "lines",
         "text": [
          "<b>33</b>"
         ],
         "type": "scatter",
         "x": [
          -0.0264655059238801,
          -0.21382146535799829,
          null
         ],
         "y": [
          -0.06257900558246596,
          -0.0743844082798468,
          null
         ]
        },
        {
         "hoverinfo": "text",
         "line": {
          "color": "peru",
          "width": 0.2503617305119466
         },
         "mode": "lines",
         "text": [
          "<b>29</b>"
         ],
         "type": "scatter",
         "x": [
          -0.0264655059238801,
          -0.060870871982170276,
          null
         ],
         "y": [
          -0.06257900558246596,
          0.05847561375370165,
          null
         ]
        },
        {
         "hoverinfo": "text",
         "line": {
          "color": "peru",
          "width": 0.25091091711675656
         },
         "mode": "lines",
         "text": [
          "<b>29</b>"
         ],
         "type": "scatter",
         "x": [
          -0.0264655059238801,
          0.076044024846554,
          null
         ],
         "y": [
          -0.06257900558246596,
          -0.2285230196945629,
          null
         ]
        },
        {
         "hoverinfo": "text",
         "line": {
          "color": "peru",
          "width": 0.25036434466429297
         },
         "mode": "lines",
         "text": [
          "<b>22</b>"
         ],
         "type": "scatter",
         "x": [
          -0.0264655059238801,
          0.026589664548724874,
          null
         ],
         "y": [
          -0.06257900558246596,
          -0.30952614571382137,
          null
         ]
        },
        {
         "hoverinfo": "text",
         "line": {
          "color": "peru",
          "width": 0.252378884674779
         },
         "mode": "lines",
         "text": [
          "<b>18</b>"
         ],
         "type": "scatter",
         "x": [
          -0.0264655059238801,
          -0.15761049738613608,
          null
         ],
         "y": [
          -0.06257900558246596,
          -0.3150798978482202,
          null
         ]
        },
        {
         "hoverinfo": "text",
         "line": {
          "color": "peru",
          "width": 0.25010100991933637
         },
         "mode": "lines",
         "text": [
          "<b>17</b>"
         ],
         "type": "scatter",
         "x": [
          -0.0264655059238801,
          -0.11764096428606644,
          null
         ],
         "y": [
          -0.06257900558246596,
          0.018569149606881274,
          null
         ]
        },
        {
         "hoverinfo": "text",
         "line": {
          "color": "peru",
          "width": 0.25012509067691047
         },
         "mode": "lines",
         "text": [
          "<b>6</b>"
         ],
         "type": "scatter",
         "x": [
          -0.0264655059238801,
          0.1782997712493181,
          null
         ],
         "y": [
          -0.06257900558246596,
          -0.1274569078232588,
          null
         ]
        },
        {
         "hoverinfo": "text",
         "line": {
          "color": "peru",
          "width": 0.2505109387057806
         },
         "mode": "lines",
         "text": [
          "<b>4</b>"
         ],
         "type": "scatter",
         "x": [
          -0.0264655059238801,
          -0.2830525026756416,
          null
         ],
         "y": [
          -0.06257900558246596,
          -0.376171070009455,
          null
         ]
        },
        {
         "hoverinfo": "text",
         "line": {
          "color": "peru",
          "width": 0.250844632615109
         },
         "mode": "lines",
         "text": [
          "<b>2</b>"
         ],
         "type": "scatter",
         "x": [
          -0.0264655059238801,
          0.14140656101499638,
          null
         ],
         "y": [
          -0.06257900558246596,
          0.1534315269562114,
          null
         ]
        },
        {
         "hoverinfo": "text",
         "line": {
          "color": "peru",
          "width": 0.25011259645562534
         },
         "mode": "lines",
         "text": [
          "<b>2</b>"
         ],
         "type": "scatter",
         "x": [
          -0.0264655059238801,
          -0.014496133191631221,
          null
         ],
         "y": [
          -0.06257900558246596,
          0.14458655088238995,
          null
         ]
        },
        {
         "hoverinfo": "text",
         "line": {
          "color": "peru",
          "width": 0.252817095919347
         },
         "mode": "lines",
         "text": [
          "<b>2</b>"
         ],
         "type": "scatter",
         "x": [
          -0.0264655059238801,
          -0.41973072647800724,
          null
         ],
         "y": [
          -0.06257900558246596,
          0.060744149500660975,
          null
         ]
        },
        {
         "hoverinfo": "text",
         "line": {
          "color": "peru",
          "width": 0.25087348261081727
         },
         "mode": "lines",
         "text": [
          "<b>2</b>"
         ],
         "type": "scatter",
         "x": [
          -0.0264655059238801,
          -0.4907078785290733,
          null
         ],
         "y": [
          -0.06257900558246596,
          -0.10678684678237646,
          null
         ]
        },
        {
         "hoverinfo": "text",
         "line": {
          "color": "peru",
          "width": 0.26292613128783854
         },
         "mode": "lines",
         "text": [
          "<b>1</b>"
         ],
         "type": "scatter",
         "x": [
          -0.0264655059238801,
          0.047650137857219846,
          null
         ],
         "y": [
          -0.06257900558246596,
          0.4343129528769831,
          null
         ]
        },
        {
         "hoverinfo": "text",
         "line": {
          "color": "peru",
          "width": 0.25025811979600837
         },
         "mode": "lines",
         "text": [
          "<b>1</b>"
         ],
         "type": "scatter",
         "x": [
          -0.0264655059238801,
          -0.10814385694596838,
          null
         ],
         "y": [
          -0.06257900558246596,
          -0.5098678491586572,
          null
         ]
        },
        {
         "hoverinfo": "text",
         "line": {
          "color": "peru",
          "width": 0.2501158889563986
         },
         "mode": "lines",
         "text": [
          "<b>1</b>"
         ],
         "type": "scatter",
         "x": [
          -0.0264655059238801,
          0.09091248396374722,
          null
         ],
         "y": [
          -0.06257900558246596,
          -0.3834819239965121,
          null
         ]
        },
        {
         "hoverinfo": "text",
         "line": {
          "color": "peru",
          "width": 0.2506020537613297
         },
         "mode": "lines",
         "text": [
          "<b>1</b>"
         ],
         "type": "scatter",
         "x": [
          -0.0264655059238801,
          0.26434180886269315,
          null
         ],
         "y": [
          -0.06257900558246596,
          -0.1966470007508575,
          null
         ]
        },
        {
         "hoverinfo": "text",
         "line": {
          "color": "peru",
          "width": 0.3173104036377579
         },
         "mode": "lines",
         "text": [
          "<b>1</b>"
         ],
         "type": "scatter",
         "x": [
          0.047650137857219846,
          0.1383800971725734,
          null
         ],
         "y": [
          0.4343129528769831,
          -0.017831327287119475,
          null
         ]
        },
        {
         "hoverinfo": "text",
         "line": {
          "color": "peru",
          "width": 0.3152808429164709
         },
         "mode": "lines",
         "text": [
          "<b>1</b>"
         ],
         "type": "scatter",
         "x": [
          0.047650137857219846,
          -0.009709271081250317,
          null
         ],
         "y": [
          0.4343129528769831,
          0.0046491559004002,
          null
         ]
        },
        {
         "hoverinfo": "text",
         "line": {
          "color": "peru",
          "width": 0.2575926939993617
         },
         "mode": "lines",
         "text": [
          "<b>1</b>"
         ],
         "type": "scatter",
         "x": [
          -0.9171341356793465,
          -0.1565613973253825,
          null
         ],
         "y": [
          -0.2892427237564671,
          -0.04805573240281369,
          null
         ]
        },
        {
         "hoverinfo": "text",
         "line": {
          "color": "peru",
          "width": 0.25093423904206835
         },
         "mode": "lines",
         "text": [
          "<b>396</b>"
         ],
         "type": "scatter",
         "x": [
          0.03097250257589602,
          0.03097250257589602,
          null
         ],
         "y": [
          -0.02726580821300639,
          -0.02726580821300639,
          null
         ]
        },
        {
         "hoverinfo": "text",
         "line": {
          "color": "peru",
          "width": 0.2501090884040473
         },
         "mode": "lines",
         "text": [
          "<b>262</b>"
         ],
         "type": "scatter",
         "x": [
          0.03097250257589602,
          -0.008620714316374366,
          null
         ],
         "y": [
          -0.02726580821300639,
          -0.2384014836653278,
          null
         ]
        },
        {
         "hoverinfo": "text",
         "line": {
          "color": "peru",
          "width": 0.2521104877505266
         },
         "mode": "lines",
         "text": [
          "<b>239</b>"
         ],
         "type": "scatter",
         "x": [
          0.03097250257589602,
          0.037112341418509734,
          null
         ],
         "y": [
          -0.02726580821300639,
          -0.06476133803077848,
          null
         ]
        },
        {
         "hoverinfo": "text",
         "line": {
          "color": "peru",
          "width": 0.25065872494887587
         },
         "mode": "lines",
         "text": [
          "<b>181</b>"
         ],
         "type": "scatter",
         "x": [
          0.03097250257589602,
          -0.03799795302862708,
          null
         ],
         "y": [
          -0.02726580821300639,
          -0.10046936690130284,
          null
         ]
        },
        {
         "hoverinfo": "text",
         "line": {
          "color": "peru",
          "width": 0.25061431551971114
         },
         "mode": "lines",
         "text": [
          "<b>156</b>"
         ],
         "type": "scatter",
         "x": [
          0.03097250257589602,
          -0.1565613973253825,
          null
         ],
         "y": [
          -0.02726580821300639,
          -0.04805573240281369,
          null
         ]
        },
        {
         "hoverinfo": "text",
         "line": {
          "color": "peru",
          "width": 0.25014509775965726
         },
         "mode": "lines",
         "text": [
          "<b>74</b>"
         ],
         "type": "scatter",
         "x": [
          0.03097250257589602,
          0.0021476759594681615,
          null
         ],
         "y": [
          -0.02726580821300639,
          -0.14325253494920223,
          null
         ]
        },
        {
         "hoverinfo": "text",
         "line": {
          "color": "peru",
          "width": 0.25040171696760466
         },
         "mode": "lines",
         "text": [
          "<b>54</b>"
         ],
         "type": "scatter",
         "x": [
          0.03097250257589602,
          0.03914642094439085,
          null
         ],
         "y": [
          -0.02726580821300639,
          -0.16815542693602434,
          null
         ]
        },
        {
         "hoverinfo": "text",
         "line": {
          "color": "peru",
          "width": 0.250226957241228
         },
         "mode": "lines",
         "text": [
          "<b>29</b>"
         ],
         "type": "scatter",
         "x": [
          0.03097250257589602,
          -0.009709271081250317,
          null
         ],
         "y": [
          -0.02726580821300639,
          0.0046491559004002,
          null
         ]
        },
        {
         "hoverinfo": "text",
         "line": {
          "color": "peru",
          "width": 0.2503031003367287
         },
         "mode": "lines",
         "text": [
          "<b>27</b>"
         ],
         "type": "scatter",
         "x": [
          0.03097250257589602,
          -0.13921754181663373,
          null
         ],
         "y": [
          -0.02726580821300639,
          -0.2230008879936063,
          null
         ]
        },
        {
         "hoverinfo": "text",
         "line": {
          "color": "peru",
          "width": 0.25038073001139716
         },
         "mode": "lines",
         "text": [
          "<b>24</b>"
         ],
         "type": "scatter",
         "x": [
          0.03097250257589602,
          0.1383800971725734,
          null
         ],
         "y": [
          -0.02726580821300639,
          -0.017831327287119475,
          null
         ]
        },
        {
         "hoverinfo": "text",
         "line": {
          "color": "peru",
          "width": 0.25071309568820876
         },
         "mode": "lines",
         "text": [
          "<b>19</b>"
         ],
         "type": "scatter",
         "x": [
          0.03097250257589602,
          0.026589664548724874,
          null
         ],
         "y": [
          -0.02726580821300639,
          -0.30952614571382137,
          null
         ]
        },
        {
         "hoverinfo": "text",
         "line": {
          "color": "peru",
          "width": 0.2505272596671299
         },
         "mode": "lines",
         "text": [
          "<b>17</b>"
         ],
         "type": "scatter",
         "x": [
          0.03097250257589602,
          0.08602385684170852,
          null
         ],
         "y": [
          -0.02726580821300639,
          -0.09889936429271984,
          null
         ]
        },
        {
         "hoverinfo": "text",
         "line": {
          "color": "peru",
          "width": 0.2506969187224001
         },
         "mode": "lines",
         "text": [
          "<b>14</b>"
         ],
         "type": "scatter",
         "x": [
          0.03097250257589602,
          0.1782997712493181,
          null
         ],
         "y": [
          -0.02726580821300639,
          -0.1274569078232588,
          null
         ]
        },
        {
         "hoverinfo": "text",
         "line": {
          "color": "peru",
          "width": 0.25064692981181164
         },
         "mode": "lines",
         "text": [
          "<b>10</b>"
         ],
         "type": "scatter",
         "x": [
          0.03097250257589602,
          0.076044024846554,
          null
         ],
         "y": [
          -0.02726580821300639,
          -0.2285230196945629,
          null
         ]
        },
        {
         "hoverinfo": "text",
         "line": {
          "color": "peru",
          "width": 0.25035875984062317
         },
         "mode": "lines",
         "text": [
          "<b>9</b>"
         ],
         "type": "scatter",
         "x": [
          0.03097250257589602,
          -0.06926016718356055,
          null
         ],
         "y": [
          -0.02726580821300639,
          -0.30758311375772085,
          null
         ]
        },
        {
         "hoverinfo": "text",
         "line": {
          "color": "peru",
          "width": 0.25019294224475574
         },
         "mode": "lines",
         "text": [
          "<b>7</b>"
         ],
         "type": "scatter",
         "x": [
          0.03097250257589602,
          -0.060870871982170276,
          null
         ],
         "y": [
          -0.02726580821300639,
          0.05847561375370165,
          null
         ]
        },
        {
         "hoverinfo": "text",
         "line": {
          "color": "peru",
          "width": 0.25060504781739434
         },
         "mode": "lines",
         "text": [
          "<b>5</b>"
         ],
         "type": "scatter",
         "x": [
          0.03097250257589602,
          -0.014496133191631221,
          null
         ],
         "y": [
          -0.02726580821300639,
          0.14458655088238995,
          null
         ]
        },
        {
         "hoverinfo": "text",
         "line": {
          "color": "peru",
          "width": 0.2500699098575446
         },
         "mode": "lines",
         "text": [
          "<b>5</b>"
         ],
         "type": "scatter",
         "x": [
          0.03097250257589602,
          -0.11764096428606644,
          null
         ],
         "y": [
          -0.02726580821300639,
          0.018569149606881274,
          null
         ]
        },
        {
         "hoverinfo": "text",
         "line": {
          "color": "peru",
          "width": 0.2501685643454991
         },
         "mode": "lines",
         "text": [
          "<b>5</b>"
         ],
         "type": "scatter",
         "x": [
          0.03097250257589602,
          -0.21382146535799829,
          null
         ],
         "y": [
          -0.02726580821300639,
          -0.0743844082798468,
          null
         ]
        },
        {
         "hoverinfo": "text",
         "line": {
          "color": "peru",
          "width": 0.2511905896005399
         },
         "mode": "lines",
         "text": [
          "<b>4</b>"
         ],
         "type": "scatter",
         "x": [
          0.03097250257589602,
          -0.2830525026756416,
          null
         ],
         "y": [
          -0.02726580821300639,
          -0.376171070009455,
          null
         ]
        },
        {
         "hoverinfo": "text",
         "line": {
          "color": "peru",
          "width": 0.25086178728670433
         },
         "mode": "lines",
         "text": [
          "<b>3</b>"
         ],
         "type": "scatter",
         "x": [
          0.03097250257589602,
          -0.15761049738613608,
          null
         ],
         "y": [
          -0.02726580821300639,
          -0.3150798978482202,
          null
         ]
        },
        {
         "hoverinfo": "text",
         "line": {
          "color": "peru",
          "width": 0.25184717082014046
         },
         "mode": "lines",
         "text": [
          "<b>2</b>"
         ],
         "type": "scatter",
         "x": [
          0.03097250257589602,
          0.14140656101499638,
          null
         ],
         "y": [
          -0.02726580821300639,
          0.1534315269562114,
          null
         ]
        },
        {
         "hoverinfo": "text",
         "line": {
          "color": "peru",
          "width": 0.25321536450507737
         },
         "mode": "lines",
         "text": [
          "<b>1</b>"
         ],
         "type": "scatter",
         "x": [
          0.03097250257589602,
          -0.41973072647800724,
          null
         ],
         "y": [
          -0.02726580821300639,
          0.060744149500660975,
          null
         ]
        },
        {
         "hoverinfo": "text",
         "line": {
          "color": "peru",
          "width": 0.2543571148821095
         },
         "mode": "lines",
         "text": [
          "<b>1</b>"
         ],
         "type": "scatter",
         "x": [
          0.03097250257589602,
          0.4387262903185144,
          null
         ],
         "y": [
          -0.02726580821300639,
          0.46263474844595576,
          null
         ]
        },
        {
         "hoverinfo": "text",
         "line": {
          "color": "peru",
          "width": 0.25027862942494167
         },
         "mode": "lines",
         "text": [
          "<b>1</b>"
         ],
         "type": "scatter",
         "x": [
          0.03097250257589602,
          0.09091248396374722,
          null
         ],
         "y": [
          -0.02726580821300639,
          -0.3834819239965121,
          null
         ]
        },
        {
         "hoverinfo": "text",
         "line": {
          "color": "peru",
          "width": 0.25390315799028107
         },
         "mode": "lines",
         "text": [
          "<b>133</b>"
         ],
         "type": "scatter",
         "x": [
          -0.11764096428606644,
          -0.1565613973253825,
          null
         ],
         "y": [
          0.018569149606881274,
          -0.04805573240281369,
          null
         ]
        },
        {
         "hoverinfo": "text",
         "line": {
          "color": "peru",
          "width": 0.2501152011202149
         },
         "mode": "lines",
         "text": [
          "<b>49</b>"
         ],
         "type": "scatter",
         "x": [
          -0.11764096428606644,
          -0.008620714316374366,
          null
         ],
         "y": [
          0.018569149606881274,
          -0.2384014836653278,
          null
         ]
        },
        {
         "hoverinfo": "text",
         "line": {
          "color": "peru",
          "width": 0.2503561984142471
         },
         "mode": "lines",
         "text": [
          "<b>16</b>"
         ],
         "type": "scatter",
         "x": [
          -0.11764096428606644,
          -0.03799795302862708,
          null
         ],
         "y": [
          0.018569149606881274,
          -0.10046936690130284,
          null
         ]
        },
        {
         "hoverinfo": "text",
         "line": {
          "color": "peru",
          "width": 0.2501240543613551
         },
         "mode": "lines",
         "text": [
          "<b>11</b>"
         ],
         "type": "scatter",
         "x": [
          -0.11764096428606644,
          0.0021476759594681615,
          null
         ],
         "y": [
          0.018569149606881274,
          -0.14325253494920223,
          null
         ]
        },
        {
         "hoverinfo": "text",
         "line": {
          "color": "peru",
          "width": 0.25155984290653377
         },
         "mode": "lines",
         "text": [
          "<b>9</b>"
         ],
         "type": "scatter",
         "x": [
          -0.11764096428606644,
          -0.060870871982170276,
          null
         ],
         "y": [
          0.018569149606881274,
          0.05847561375370165,
          null
         ]
        },
        {
         "hoverinfo": "text",
         "line": {
          "color": "peru",
          "width": 0.2505000108276102
         },
         "mode": "lines",
         "text": [
          "<b>9</b>"
         ],
         "type": "scatter",
         "x": [
          -0.11764096428606644,
          0.037112341418509734,
          null
         ],
         "y": [
          0.018569149606881274,
          -0.06476133803077848,
          null
         ]
        },
        {
         "hoverinfo": "text",
         "line": {
          "color": "peru",
          "width": 0.25080578751537536
         },
         "mode": "lines",
         "text": [
          "<b>8</b>"
         ],
         "type": "scatter",
         "x": [
          -0.11764096428606644,
          0.1383800971725734,
          null
         ],
         "y": [
          0.018569149606881274,
          -0.017831327287119475,
          null
         ]
        },
        {
         "hoverinfo": "text",
         "line": {
          "color": "peru",
          "width": 0.25077282017243974
         },
         "mode": "lines",
         "text": [
          "<b>4</b>"
         ],
         "type": "scatter",
         "x": [
          -0.11764096428606644,
          0.08602385684170852,
          null
         ],
         "y": [
          0.018569149606881274,
          -0.09889936429271984,
          null
         ]
        },
        {
         "hoverinfo": "text",
         "line": {
          "color": "peru",
          "width": 0.25045645192553717
         },
         "mode": "lines",
         "text": [
          "<b>2</b>"
         ],
         "type": "scatter",
         "x": [
          -0.11764096428606644,
          0.026589664548724874,
          null
         ],
         "y": [
          0.018569149606881274,
          -0.30952614571382137,
          null
         ]
        },
        {
         "hoverinfo": "text",
         "line": {
          "color": "peru",
          "width": 0.25009324986137743
         },
         "mode": "lines",
         "text": [
          "<b>2</b>"
         ],
         "type": "scatter",
         "x": [
          -0.11764096428606644,
          -0.009709271081250317,
          null
         ],
         "y": [
          0.018569149606881274,
          0.0046491559004002,
          null
         ]
        },
        {
         "hoverinfo": "text",
         "line": {
          "color": "peru",
          "width": 0.2500452398743072
         },
         "mode": "lines",
         "text": [
          "<b>1</b>"
         ],
         "type": "scatter",
         "x": [
          -0.11764096428606644,
          0.03914642094439085,
          null
         ],
         "y": [
          0.018569149606881274,
          -0.16815542693602434,
          null
         ]
        },
        {
         "hoverinfo": "text",
         "line": {
          "color": "peru",
          "width": 0.2502183498056068
         },
         "mode": "lines",
         "text": [
          "<b>1</b>"
         ],
         "type": "scatter",
         "x": [
          -0.11764096428606644,
          -0.21382146535799829,
          null
         ],
         "y": [
          0.018569149606881274,
          -0.0743844082798468,
          null
         ]
        },
        {
         "hoverinfo": "text",
         "line": {
          "color": "peru",
          "width": 0.5165406578591681
         },
         "mode": "lines",
         "text": [
          "<b>3</b>"
         ],
         "type": "scatter",
         "x": [
          0.15693580918562272,
          0.026589664548724874,
          null
         ],
         "y": [
          -0.942265318717752,
          -0.30952614571382137,
          null
         ]
        },
        {
         "hoverinfo": "text",
         "line": {
          "color": "peru",
          "width": 0.25920811108153324
         },
         "mode": "lines",
         "text": [
          "<b>44</b>"
         ],
         "type": "scatter",
         "x": [
          0.1782997712493181,
          0.037112341418509734,
          null
         ],
         "y": [
          -0.1274569078232588,
          -0.06476133803077848,
          null
         ]
        },
        {
         "hoverinfo": "text",
         "line": {
          "color": "peru",
          "width": 0.25006451939132357
         },
         "mode": "lines",
         "text": [
          "<b>8</b>"
         ],
         "type": "scatter",
         "x": [
          0.1782997712493181,
          -0.008620714316374366,
          null
         ],
         "y": [
          -0.1274569078232588,
          -0.2384014836653278,
          null
         ]
        },
        {
         "hoverinfo": "text",
         "line": {
          "color": "peru",
          "width": 0.41024817851348694
         },
         "mode": "lines",
         "text": [
          "<b>5</b>"
         ],
         "type": "scatter",
         "x": [
          0.1782997712493181,
          0.26434180886269315,
          null
         ],
         "y": [
          -0.1274569078232588,
          -0.1966470007508575,
          null
         ]
        },
        {
         "hoverinfo": "text",
         "line": {
          "color": "peru",
          "width": 0.25049295576252
         },
         "mode": "lines",
         "text": [
          "<b>3</b>"
         ],
         "type": "scatter",
         "x": [
          0.1782997712493181,
          0.03914642094439085,
          null
         ],
         "y": [
          -0.1274569078232588,
          -0.16815542693602434,
          null
         ]
        },
        {
         "hoverinfo": "text",
         "line": {
          "color": "peru",
          "width": 0.25011762707438434
         },
         "mode": "lines",
         "text": [
          "<b>3</b>"
         ],
         "type": "scatter",
         "x": [
          0.1782997712493181,
          0.0021476759594681615,
          null
         ],
         "y": [
          -0.1274569078232588,
          -0.14325253494920223,
          null
         ]
        },
        {
         "hoverinfo": "text",
         "line": {
          "color": "peru",
          "width": 0.2536350448989048
         },
         "mode": "lines",
         "text": [
          "<b>2</b>"
         ],
         "type": "scatter",
         "x": [
          0.1782997712493181,
          0.076044024846554,
          null
         ],
         "y": [
          -0.1274569078232588,
          -0.2285230196945629,
          null
         ]
        },
        {
         "hoverinfo": "text",
         "line": {
          "color": "peru",
          "width": 0.25025917051858765
         },
         "mode": "lines",
         "text": [
          "<b>2</b>"
         ],
         "type": "scatter",
         "x": [
          0.1782997712493181,
          -0.1565613973253825,
          null
         ],
         "y": [
          -0.1274569078232588,
          -0.04805573240281369,
          null
         ]
        },
        {
         "hoverinfo": "text",
         "line": {
          "color": "peru",
          "width": 0.25171725157141067
         },
         "mode": "lines",
         "text": [
          "<b>2</b>"
         ],
         "type": "scatter",
         "x": [
          0.1782997712493181,
          -0.06926016718356055,
          null
         ],
         "y": [
          -0.1274569078232588,
          -0.30758311375772085,
          null
         ]
        },
        {
         "hoverinfo": "text",
         "line": {
          "color": "peru",
          "width": 0.25016240463829403
         },
         "mode": "lines",
         "text": [
          "<b>2</b>"
         ],
         "type": "scatter",
         "x": [
          0.1782997712493181,
          -0.03799795302862708,
          null
         ],
         "y": [
          -0.1274569078232588,
          -0.10046936690130284,
          null
         ]
        },
        {
         "hoverinfo": "text",
         "line": {
          "color": "peru",
          "width": 0.25702208910204516
         },
         "mode": "lines",
         "text": [
          "<b>1</b>"
         ],
         "type": "scatter",
         "x": [
          0.1782997712493181,
          -0.15761049738613608,
          null
         ],
         "y": [
          -0.1274569078232588,
          -0.3150798978482202,
          null
         ]
        },
        {
         "hoverinfo": "text",
         "line": {
          "color": "peru",
          "width": 0.2507153072540789
         },
         "mode": "lines",
         "text": [
          "<b>1</b>"
         ],
         "type": "scatter",
         "x": [
          0.1782997712493181,
          0.08602385684170852,
          null
         ],
         "y": [
          -0.1274569078232588,
          -0.09889936429271984,
          null
         ]
        },
        {
         "hoverinfo": "text",
         "line": {
          "color": "peru",
          "width": 0.25082880479397285
         },
         "mode": "lines",
         "text": [
          "<b>1</b>"
         ],
         "type": "scatter",
         "x": [
          0.1782997712493181,
          0.026589664548724874,
          null
         ],
         "y": [
          -0.1274569078232588,
          -0.30952614571382137,
          null
         ]
        },
        {
         "hoverinfo": "text",
         "line": {
          "color": "peru",
          "width": 0.25064583028651016
         },
         "mode": "lines",
         "text": [
          "<b>1</b>"
         ],
         "type": "scatter",
         "x": [
          0.1782997712493181,
          -0.060870871982170276,
          null
         ],
         "y": [
          -0.1274569078232588,
          0.05847561375370165,
          null
         ]
        },
        {
         "hoverinfo": "text",
         "line": {
          "color": "peru",
          "width": 0.2502300173425098
         },
         "mode": "lines",
         "text": [
          "<b>1</b>"
         ],
         "type": "scatter",
         "x": [
          0.1782997712493181,
          -0.13921754181663373,
          null
         ],
         "y": [
          -0.1274569078232588,
          -0.2230008879936063,
          null
         ]
        },
        {
         "hoverinfo": "text",
         "line": {
          "color": "peru",
          "width": 0.25092405129088047
         },
         "mode": "lines",
         "text": [
          "<b>35</b>"
         ],
         "type": "scatter",
         "x": [
          -0.014496133191631221,
          -0.008620714316374366,
          null
         ],
         "y": [
          0.14458655088238995,
          -0.2384014836653278,
          null
         ]
        },
        {
         "hoverinfo": "text",
         "line": {
          "color": "peru",
          "width": 0.2587804685252544
         },
         "mode": "lines",
         "text": [
          "<b>25</b>"
         ],
         "type": "scatter",
         "x": [
          -0.014496133191631221,
          0.03914642094439085,
          null
         ],
         "y": [
          0.14458655088238995,
          -0.16815542693602434,
          null
         ]
        },
        {
         "hoverinfo": "text",
         "line": {
          "color": "peru",
          "width": 0.2507986237776454
         },
         "mode": "lines",
         "text": [
          "<b>7</b>"
         ],
         "type": "scatter",
         "x": [
          -0.014496133191631221,
          0.0021476759594681615,
          null
         ],
         "y": [
          0.14458655088238995,
          -0.14325253494920223,
          null
         ]
        },
        {
         "hoverinfo": "text",
         "line": {
          "color": "peru",
          "width": 0.25263001279187003
         },
         "mode": "lines",
         "text": [
          "<b>2</b>"
         ],
         "type": "scatter",
         "x": [
          -0.014496133191631221,
          -0.21382146535799829,
          null
         ],
         "y": [
          0.14458655088238995,
          -0.0743844082798468,
          null
         ]
        },
        {
         "hoverinfo": "text",
         "line": {
          "color": "peru",
          "width": 0.2503345786039967
         },
         "mode": "lines",
         "text": [
          "<b>2</b>"
         ],
         "type": "scatter",
         "x": [
          -0.014496133191631221,
          -0.03799795302862708,
          null
         ],
         "y": [
          0.14458655088238995,
          -0.10046936690130284,
          null
         ]
        },
        {
         "hoverinfo": "text",
         "line": {
          "color": "peru",
          "width": 0.25065256693497506
         },
         "mode": "lines",
         "text": [
          "<b>1</b>"
         ],
         "type": "scatter",
         "x": [
          -0.014496133191631221,
          0.1383800971725734,
          null
         ],
         "y": [
          0.14458655088238995,
          -0.017831327287119475,
          null
         ]
        },
        {
         "hoverinfo": "text",
         "line": {
          "color": "peru",
          "width": 0.2501145736827997
         },
         "mode": "lines",
         "text": [
          "<b>1</b>"
         ],
         "type": "scatter",
         "x": [
          -0.014496133191631221,
          -0.1565613973253825,
          null
         ],
         "y": [
          0.14458655088238995,
          -0.04805573240281369,
          null
         ]
        },
        {
         "hoverinfo": "text",
         "line": {
          "color": "peru",
          "width": 0.25037041799761534
         },
         "mode": "lines",
         "text": [
          "<b>1</b>"
         ],
         "type": "scatter",
         "x": [
          -0.014496133191631221,
          0.037112341418509734,
          null
         ],
         "y": [
          0.14458655088238995,
          -0.06476133803077848,
          null
         ]
        },
        {
         "hoverinfo": "text",
         "line": {
          "color": "peru",
          "width": 0.25657444875768554
         },
         "mode": "lines",
         "text": [
          "<b>7</b>"
         ],
         "type": "scatter",
         "x": [
          0.09091248396374722,
          -0.009709271081250317,
          null
         ],
         "y": [
          -0.3834819239965121,
          0.0046491559004002,
          null
         ]
        },
        {
         "hoverinfo": "text",
         "line": {
          "color": "peru",
          "width": 0.25277062713435683
         },
         "mode": "lines",
         "text": [
          "<b>6</b>"
         ],
         "type": "scatter",
         "x": [
          0.09091248396374722,
          -0.03799795302862708,
          null
         ],
         "y": [
          -0.3834819239965121,
          -0.10046936690130284,
          null
         ]
        },
        {
         "hoverinfo": "text",
         "line": {
          "color": "peru",
          "width": 0.2500443239198129
         },
         "mode": "lines",
         "text": [
          "<b>1</b>"
         ],
         "type": "scatter",
         "x": [
          0.09091248396374722,
          -0.008620714316374366,
          null
         ],
         "y": [
          -0.3834819239965121,
          -0.2384014836653278,
          null
         ]
        },
        {
         "hoverinfo": "text",
         "line": {
          "color": "peru",
          "width": 0.25119565164627394
         },
         "mode": "lines",
         "text": [
          "<b>1</b>"
         ],
         "type": "scatter",
         "x": [
          0.09091248396374722,
          0.037112341418509734,
          null
         ],
         "y": [
          -0.3834819239965121,
          -0.06476133803077848,
          null
         ]
        },
        {
         "hoverinfo": "text",
         "line": {
          "color": "peru",
          "width": 0.2633348165242308
         },
         "mode": "lines",
         "text": [
          "<b>11</b>"
         ],
         "type": "scatter",
         "x": [
          0.5644930158846561,
          -0.008620714316374366,
          null
         ],
         "y": [
          -0.7638620637946426,
          -0.2384014836653278,
          null
         ]
        },
        {
         "hoverinfo": "text",
         "line": {
          "color": "peru",
          "width": 0.2504753147309175
         },
         "mode": "lines",
         "text": [
          "<b>2</b>"
         ],
         "type": "scatter",
         "x": [
          0.26434180886269315,
          -0.008620714316374366,
          null
         ],
         "y": [
          -0.1966470007508575,
          -0.2384014836653278,
          null
         ]
        },
        {
         "hoverinfo": "text",
         "line": {
          "color": "peru",
          "width": 0.25568639538302435
         },
         "mode": "lines",
         "text": [
          "<b>1</b>"
         ],
         "type": "scatter",
         "x": [
          0.26434180886269315,
          0.037112341418509734,
          null
         ],
         "y": [
          -0.1966470007508575,
          -0.06476133803077848,
          null
         ]
        },
        {
         "hoverinfo": "text",
         "line": {
          "color": "peru",
          "width": 0.25666846371084984
         },
         "mode": "lines",
         "text": [
          "<b>1</b>"
         ],
         "type": "scatter",
         "x": [
          0.26434180886269315,
          -0.13921754181663373,
          null
         ],
         "y": [
          -0.1966470007508575,
          -0.2230008879936063,
          null
         ]
        },
        {
         "hoverinfo": "text",
         "line": {
          "color": "peru",
          "width": 0.25461518748788675
         },
         "mode": "lines",
         "text": [
          "<b>1</b>"
         ],
         "type": "scatter",
         "x": [
          0.26434180886269315,
          0.03914642094439085,
          null
         ],
         "y": [
          -0.1966470007508575,
          -0.16815542693602434,
          null
         ]
        },
        {
         "hoverinfo": "text",
         "line": {
          "color": "peru",
          "width": 0.25118323042943697
         },
         "mode": "lines",
         "text": [
          "<b>94</b>"
         ],
         "type": "scatter",
         "x": [
          -0.009709271081250317,
          -0.1565613973253825,
          null
         ],
         "y": [
          0.0046491559004002,
          -0.04805573240281369,
          null
         ]
        },
        {
         "hoverinfo": "text",
         "line": {
          "color": "peru",
          "width": 0.2500558214905617
         },
         "mode": "lines",
         "text": [
          "<b>40</b>"
         ],
         "type": "scatter",
         "x": [
          -0.009709271081250317,
          -0.008620714316374366,
          null
         ],
         "y": [
          0.0046491559004002,
          -0.2384014836653278,
          null
         ]
        },
        {
         "hoverinfo": "text",
         "line": {
          "color": "peru",
          "width": 0.25145732829536105
         },
         "mode": "lines",
         "text": [
          "<b>28</b>"
         ],
         "type": "scatter",
         "x": [
          -0.009709271081250317,
          0.1383800971725734,
          null
         ],
         "y": [
          0.0046491559004002,
          -0.017831327287119475,
          null
         ]
        },
        {
         "hoverinfo": "text",
         "line": {
          "color": "peru",
          "width": 0.25072373488946165
         },
         "mode": "lines",
         "text": [
          "<b>25</b>"
         ],
         "type": "scatter",
         "x": [
          -0.009709271081250317,
          0.037112341418509734,
          null
         ],
         "y": [
          0.0046491559004002,
          -0.06476133803077848,
          null
         ]
        },
        {
         "hoverinfo": "text",
         "line": {
          "color": "peru",
          "width": 0.2502280890902872
         },
         "mode": "lines",
         "text": [
          "<b>19</b>"
         ],
         "type": "scatter",
         "x": [
          -0.009709271081250317,
          -0.03799795302862708,
          null
         ],
         "y": [
          0.0046491559004002,
          -0.10046936690130284,
          null
         ]
        },
        {
         "hoverinfo": "text",
         "line": {
          "color": "peru",
          "width": 0.2516337201996877
         },
         "mode": "lines",
         "text": [
          "<b>16</b>"
         ],
         "type": "scatter",
         "x": [
          -0.009709271081250317,
          0.08602385684170852,
          null
         ],
         "y": [
          0.0046491559004002,
          -0.09889936429271984,
          null
         ]
        },
        {
         "hoverinfo": "text",
         "line": {
          "color": "peru",
          "width": 0.2503634020580547
         },
         "mode": "lines",
         "text": [
          "<b>14</b>"
         ],
         "type": "scatter",
         "x": [
          -0.009709271081250317,
          -0.009709271081250317,
          null
         ],
         "y": [
          0.0046491559004002,
          0.0046491559004002,
          null
         ]
        },
        {
         "hoverinfo": "text",
         "line": {
          "color": "peru",
          "width": 0.25007202070967605
         },
         "mode": "lines",
         "text": [
          "<b>11</b>"
         ],
         "type": "scatter",
         "x": [
          -0.009709271081250317,
          0.0021476759594681615,
          null
         ],
         "y": [
          0.0046491559004002,
          -0.14325253494920223,
          null
         ]
        },
        {
         "hoverinfo": "text",
         "line": {
          "color": "peru",
          "width": 0.2506338728585215
         },
         "mode": "lines",
         "text": [
          "<b>7</b>"
         ],
         "type": "scatter",
         "x": [
          -0.009709271081250317,
          -0.060870871982170276,
          null
         ],
         "y": [
          0.0046491559004002,
          0.05847561375370165,
          null
         ]
        },
        {
         "hoverinfo": "text",
         "line": {
          "color": "peru",
          "width": 0.26220617317476713
         },
         "mode": "lines",
         "text": [
          "<b>4</b>"
         ],
         "type": "scatter",
         "x": [
          -0.009709271081250317,
          0.14140656101499638,
          null
         ],
         "y": [
          0.0046491559004002,
          0.1534315269562114,
          null
         ]
        },
        {
         "hoverinfo": "text",
         "line": {
          "color": "peru",
          "width": 0.2506273949017943
         },
         "mode": "lines",
         "text": [
          "<b>3</b>"
         ],
         "type": "scatter",
         "x": [
          -0.009709271081250317,
          0.076044024846554,
          null
         ],
         "y": [
          0.0046491559004002,
          -0.2285230196945629,
          null
         ]
        },
        {
         "hoverinfo": "text",
         "line": {
          "color": "peru",
          "width": 0.25007370262009593
         },
         "mode": "lines",
         "text": [
          "<b>3</b>"
         ],
         "type": "scatter",
         "x": [
          -0.009709271081250317,
          0.03914642094439085,
          null
         ],
         "y": [
          0.0046491559004002,
          -0.16815542693602434,
          null
         ]
        },
        {
         "hoverinfo": "text",
         "line": {
          "color": "peru",
          "width": 0.2500747526520454
         },
         "mode": "lines",
         "text": [
          "<b>2</b>"
         ],
         "type": "scatter",
         "x": [
          -0.009709271081250317,
          -0.13921754181663373,
          null
         ],
         "y": [
          0.0046491559004002,
          -0.2230008879936063,
          null
         ]
        },
        {
         "hoverinfo": "text",
         "line": {
          "color": "peru",
          "width": 0.250247867749359
         },
         "mode": "lines",
         "text": [
          "<b>2</b>"
         ],
         "type": "scatter",
         "x": [
          -0.009709271081250317,
          0.026589664548724874,
          null
         ],
         "y": [
          0.0046491559004002,
          -0.30952614571382137,
          null
         ]
        },
        {
         "hoverinfo": "text",
         "line": {
          "color": "peru",
          "width": 0.25011010977697495
         },
         "mode": "lines",
         "text": [
          "<b>1</b>"
         ],
         "type": "scatter",
         "x": [
          -0.009709271081250317,
          -0.21382146535799829,
          null
         ],
         "y": [
          0.0046491559004002,
          -0.0743844082798468,
          null
         ]
        },
        {
         "hoverinfo": "text",
         "line": {
          "color": "peru",
          "width": 0.2509401013235517
         },
         "mode": "lines",
         "text": [
          "<b>1</b>"
         ],
         "type": "scatter",
         "x": [
          -0.009709271081250317,
          -0.15761049738613608,
          null
         ],
         "y": [
          0.0046491559004002,
          -0.3150798978482202,
          null
         ]
        },
        {
         "hoverinfo": "text",
         "line": {
          "color": "peru",
          "width": 0.3913797530014542
         },
         "mode": "lines",
         "text": [
          "<b>2</b>"
         ],
         "type": "scatter",
         "x": [
          0.8378822987095896,
          0.1383800971725734,
          null
         ],
         "y": [
          -0.24159464763909919,
          -0.017831327287119475,
          null
         ]
        },
        {
         "hoverinfo": "text",
         "line": {
          "color": "peru",
          "width": 0.25005933082817144
         },
         "mode": "lines",
         "text": [
          "<b>31</b>"
         ],
         "type": "scatter",
         "x": [
          -0.13921754181663373,
          -0.008620714316374366,
          null
         ],
         "y": [
          -0.2230008879936063,
          -0.2384014836653278,
          null
         ]
        },
        {
         "hoverinfo": "text",
         "line": {
          "color": "peru",
          "width": 0.25063450220729494
         },
         "mode": "lines",
         "text": [
          "<b>29</b>"
         ],
         "type": "scatter",
         "x": [
          -0.13921754181663373,
          -0.1565613973253825,
          null
         ],
         "y": [
          -0.2230008879936063,
          -0.04805573240281369,
          null
         ]
        },
        {
         "hoverinfo": "text",
         "line": {
          "color": "peru",
          "width": 0.2501947537948967
         },
         "mode": "lines",
         "text": [
          "<b>11</b>"
         ],
         "type": "scatter",
         "x": [
          -0.13921754181663373,
          -0.03799795302862708,
          null
         ],
         "y": [
          -0.2230008879936063,
          -0.10046936690130284,
          null
         ]
        },
        {
         "hoverinfo": "text",
         "line": {
          "color": "peru",
          "width": 0.25009133049921756
         },
         "mode": "lines",
         "text": [
          "<b>10</b>"
         ],
         "type": "scatter",
         "x": [
          -0.13921754181663373,
          0.0021476759594681615,
          null
         ],
         "y": [
          -0.2230008879936063,
          -0.14325253494920223,
          null
         ]
        },
        {
         "hoverinfo": "text",
         "line": {
          "color": "peru",
          "width": 0.2504380027400053
         },
         "mode": "lines",
         "text": [
          "<b>10</b>"
         ],
         "type": "scatter",
         "x": [
          -0.13921754181663373,
          0.037112341418509734,
          null
         ],
         "y": [
          -0.2230008879936063,
          -0.06476133803077848,
          null
         ]
        },
        {
         "hoverinfo": "text",
         "line": {
          "color": "peru",
          "width": 0.25102491355971956
         },
         "mode": "lines",
         "text": [
          "<b>6</b>"
         ],
         "type": "scatter",
         "x": [
          -0.13921754181663373,
          -0.21382146535799829,
          null
         ],
         "y": [
          -0.2230008879936063,
          -0.0743844082798468,
          null
         ]
        },
        {
         "hoverinfo": "text",
         "line": {
          "color": "peru",
          "width": 0.25014419554205597
         },
         "mode": "lines",
         "text": [
          "<b>4</b>"
         ],
         "type": "scatter",
         "x": [
          -0.13921754181663373,
          0.03914642094439085,
          null
         ],
         "y": [
          -0.2230008879936063,
          -0.16815542693602434,
          null
         ]
        },
        {
         "hoverinfo": "text",
         "line": {
          "color": "peru",
          "width": 0.2507652100015856
         },
         "mode": "lines",
         "text": [
          "<b>4</b>"
         ],
         "type": "scatter",
         "x": [
          -0.13921754181663373,
          -0.06926016718356055,
          null
         ],
         "y": [
          -0.2230008879936063,
          -0.30758311375772085,
          null
         ]
        },
        {
         "hoverinfo": "text",
         "line": {
          "color": "peru",
          "width": 0.2513673728781629
         },
         "mode": "lines",
         "text": [
          "<b>4</b>"
         ],
         "type": "scatter",
         "x": [
          -0.13921754181663373,
          0.076044024846554,
          null
         ],
         "y": [
          -0.2230008879936063,
          -0.2285230196945629,
          null
         ]
        },
        {
         "hoverinfo": "text",
         "line": {
          "color": "peru",
          "width": 0.2501583807216828
         },
         "mode": "lines",
         "text": [
          "<b>2</b>"
         ],
         "type": "scatter",
         "x": [
          -0.13921754181663373,
          0.1383800971725734,
          null
         ],
         "y": [
          -0.2230008879936063,
          -0.017831327287119475,
          null
         ]
        },
        {
         "hoverinfo": "text",
         "line": {
          "color": "peru",
          "width": 0.2503636741048038
         },
         "mode": "lines",
         "text": [
          "<b>2</b>"
         ],
         "type": "scatter",
         "x": [
          -0.13921754181663373,
          0.026589664548724874,
          null
         ],
         "y": [
          -0.2230008879936063,
          -0.30952614571382137,
          null
         ]
        },
        {
         "hoverinfo": "text",
         "line": {
          "color": "peru",
          "width": 0.2503055982035701
         },
         "mode": "lines",
         "text": [
          "<b>2</b>"
         ],
         "type": "scatter",
         "x": [
          -0.13921754181663373,
          0.08602385684170852,
          null
         ],
         "y": [
          -0.2230008879936063,
          -0.09889936429271984,
          null
         ]
        },
        {
         "hoverinfo": "text",
         "line": {
          "color": "peru",
          "width": 0.2514444231563739
         },
         "mode": "lines",
         "text": [
          "<b>1</b>"
         ],
         "type": "scatter",
         "x": [
          -0.13921754181663373,
          -0.15761049738613608,
          null
         ],
         "y": [
          -0.2230008879936063,
          -0.3150798978482202,
          null
         ]
        },
        {
         "hoverinfo": "text",
         "line": {
          "color": "peru",
          "width": 0.25734716671676994
         },
         "mode": "lines",
         "text": [
          "<b>1</b>"
         ],
         "type": "scatter",
         "x": [
          -0.13921754181663373,
          -0.45566646999102844,
          null
         ],
         "y": [
          -0.2230008879936063,
          -0.3086962806174099,
          null
         ]
        },
        {
         "hoverinfo": "text",
         "line": {
          "color": "peru",
          "width": 0.25480099896544156
         },
         "mode": "lines",
         "text": [
          "<b>1</b>"
         ],
         "type": "scatter",
         "x": [
          -0.13921754181663373,
          -0.4907078785290733,
          null
         ],
         "y": [
          -0.2230008879936063,
          -0.10678684678237646,
          null
         ]
        },
        {
         "hoverinfo": "text",
         "line": {
          "color": "peru",
          "width": 0.250136609857884
         },
         "mode": "lines",
         "text": [
          "<b>1</b>"
         ],
         "type": "scatter",
         "x": [
          -0.13921754181663373,
          -0.060870871982170276,
          null
         ],
         "y": [
          -0.2230008879936063,
          0.05847561375370165,
          null
         ]
        },
        {
         "hoverinfo": "text",
         "line": {
          "color": "peru",
          "width": 0.2500528042307303
         },
         "mode": "lines",
         "text": [
          "<b>1</b>"
         ],
         "type": "scatter",
         "x": [
          -0.13921754181663373,
          -0.13921754181663373,
          null
         ],
         "y": [
          -0.2230008879936063,
          -0.2230008879936063,
          null
         ]
        },
        {
         "hoverinfo": "text",
         "line": {
          "color": "peru",
          "width": 0.25080732467924555
         },
         "mode": "lines",
         "text": [
          "<b>24</b>"
         ],
         "type": "scatter",
         "x": [
          -0.06926016718356055,
          0.0021476759594681615,
          null
         ],
         "y": [
          -0.30758311375772085,
          -0.14325253494920223,
          null
         ]
        },
        {
         "hoverinfo": "text",
         "line": {
          "color": "peru",
          "width": 0.2501728656880639
         },
         "mode": "lines",
         "text": [
          "<b>24</b>"
         ],
         "type": "scatter",
         "x": [
          -0.06926016718356055,
          -0.008620714316374366,
          null
         ],
         "y": [
          -0.30758311375772085,
          -0.2384014836653278,
          null
         ]
        },
        {
         "hoverinfo": "text",
         "line": {
          "color": "peru",
          "width": 0.25054609614397955
         },
         "mode": "lines",
         "text": [
          "<b>9</b>"
         ],
         "type": "scatter",
         "x": [
          -0.06926016718356055,
          -0.03799795302862708,
          null
         ],
         "y": [
          -0.30758311375772085,
          -0.10046936690130284,
          null
         ]
        },
        {
         "hoverinfo": "text",
         "line": {
          "color": "peru",
          "width": 0.25048804560242205
         },
         "mode": "lines",
         "text": [
          "<b>8</b>"
         ],
         "type": "scatter",
         "x": [
          -0.06926016718356055,
          -0.1565613973253825,
          null
         ],
         "y": [
          -0.30758311375772085,
          -0.04805573240281369,
          null
         ]
        },
        {
         "hoverinfo": "text",
         "line": {
          "color": "peru",
          "width": 0.250580977841162
         },
         "mode": "lines",
         "text": [
          "<b>4</b>"
         ],
         "type": "scatter",
         "x": [
          -0.06926016718356055,
          0.037112341418509734,
          null
         ],
         "y": [
          -0.30758311375772085,
          -0.06476133803077848,
          null
         ]
        },
        {
         "hoverinfo": "text",
         "line": {
          "color": "peru",
          "width": 0.251541131331558
         },
         "mode": "lines",
         "text": [
          "<b>3</b>"
         ],
         "type": "scatter",
         "x": [
          -0.06926016718356055,
          0.08602385684170852,
          null
         ],
         "y": [
          -0.30758311375772085,
          -0.09889936429271984,
          null
         ]
        },
        {
         "hoverinfo": "text",
         "line": {
          "color": "peru",
          "width": 0.2501243261648527
         },
         "mode": "lines",
         "text": [
          "<b>1</b>"
         ],
         "type": "scatter",
         "x": [
          -0.06926016718356055,
          0.03914642094439085,
          null
         ],
         "y": [
          -0.30758311375772085,
          -0.16815542693602434,
          null
         ]
        },
        {
         "hoverinfo": "text",
         "line": {
          "color": "peru",
          "width": 0.2502604465041162
         },
         "mode": "lines",
         "text": [
          "<b>1</b>"
         ],
         "type": "scatter",
         "x": [
          -0.06926016718356055,
          0.1383800971725734,
          null
         ],
         "y": [
          -0.30758311375772085,
          -0.017831327287119475,
          null
         ]
        },
        {
         "hoverinfo": "text",
         "line": {
          "color": "peru",
          "width": 0.2506273766649086
         },
         "mode": "lines",
         "text": [
          "<b>1</b>"
         ],
         "type": "scatter",
         "x": [
          -0.06926016718356055,
          0.026589664548724874,
          null
         ],
         "y": [
          -0.30758311375772085,
          -0.30952614571382137,
          null
         ]
        },
        {
         "hoverinfo": "text",
         "line": {
          "color": "peru",
          "width": 0.2511999725067588
         },
         "mode": "lines",
         "text": [
          "<b>1</b>"
         ],
         "type": "scatter",
         "x": [
          -0.1733151329736438,
          -0.008620714316374366,
          null
         ],
         "y": [
          -1,
          -0.2384014836653278,
          null
         ]
        },
        {
         "hoverinfo": "text",
         "line": {
          "color": "peru",
          "width": 0.2649745309362074
         },
         "mode": "lines",
         "text": [
          "<b>92</b>"
         ],
         "type": "scatter",
         "x": [
          0.1383800971725734,
          -0.060870871982170276,
          null
         ],
         "y": [
          -0.017831327287119475,
          0.05847561375370165,
          null
         ]
        },
        {
         "hoverinfo": "text",
         "line": {
          "color": "peru",
          "width": 0.2514988336640976
         },
         "mode": "lines",
         "text": [
          "<b>88</b>"
         ],
         "type": "scatter",
         "x": [
          0.1383800971725734,
          -0.1565613973253825,
          null
         ],
         "y": [
          -0.017831327287119475,
          -0.04805573240281369,
          null
         ]
        },
        {
         "hoverinfo": "text",
         "line": {
          "color": "peru",
          "width": 0.2501431265638039
         },
         "mode": "lines",
         "text": [
          "<b>44</b>"
         ],
         "type": "scatter",
         "x": [
          0.1383800971725734,
          -0.008620714316374366,
          null
         ],
         "y": [
          -0.017831327287119475,
          -0.2384014836653278,
          null
         ]
        },
        {
         "hoverinfo": "text",
         "line": {
          "color": "peru",
          "width": 0.25184083405041935
         },
         "mode": "lines",
         "text": [
          "<b>36</b>"
         ],
         "type": "scatter",
         "x": [
          0.1383800971725734,
          0.037112341418509734,
          null
         ],
         "y": [
          -0.017831327287119475,
          -0.06476133803077848,
          null
         ]
        },
        {
         "hoverinfo": "text",
         "line": {
          "color": "peru",
          "width": 0.25042883246425945
         },
         "mode": "lines",
         "text": [
          "<b>19</b>"
         ],
         "type": "scatter",
         "x": [
          0.1383800971725734,
          -0.03799795302862708,
          null
         ],
         "y": [
          -0.017831327287119475,
          -0.10046936690130284,
          null
         ]
        },
        {
         "hoverinfo": "text",
         "line": {
          "color": "peru",
          "width": 0.25110699723731766
         },
         "mode": "lines",
         "text": [
          "<b>6</b>"
         ],
         "type": "scatter",
         "x": [
          0.1383800971725734,
          0.08602385684170852,
          null
         ],
         "y": [
          -0.017831327287119475,
          -0.09889936429271984,
          null
         ]
        },
        {
         "hoverinfo": "text",
         "line": {
          "color": "peru",
          "width": 0.25007214903472097
         },
         "mode": "lines",
         "text": [
          "<b>5</b>"
         ],
         "type": "scatter",
         "x": [
          0.1383800971725734,
          0.0021476759594681615,
          null
         ],
         "y": [
          -0.017831327287119475,
          -0.14325253494920223,
          null
         ]
        },
        {
         "hoverinfo": "text",
         "line": {
          "color": "peru",
          "width": 0.25062940745272577
         },
         "mode": "lines",
         "text": [
          "<b>2</b>"
         ],
         "type": "scatter",
         "x": [
          0.1383800971725734,
          0.076044024846554,
          null
         ],
         "y": [
          -0.017831327287119475,
          -0.2285230196945629,
          null
         ]
        },
        {
         "hoverinfo": "text",
         "line": {
          "color": "peru",
          "width": 0.2501840693921183
         },
         "mode": "lines",
         "text": [
          "<b>1</b>"
         ],
         "type": "scatter",
         "x": [
          0.1383800971725734,
          -0.21382146535799829,
          null
         ],
         "y": [
          -0.017831327287119475,
          -0.0743844082798468,
          null
         ]
        },
        {
         "hoverinfo": "text",
         "line": {
          "color": "peru",
          "width": 0.2500468045502499
         },
         "mode": "lines",
         "text": [
          "<b>1</b>"
         ],
         "type": "scatter",
         "x": [
          0.1383800971725734,
          0.03914642094439085,
          null
         ],
         "y": [
          -0.017831327287119475,
          -0.16815542693602434,
          null
         ]
        },
        {
         "hoverinfo": "text",
         "line": {
          "color": "peru",
          "width": 0.2547053091972221
         },
         "mode": "lines",
         "text": [
          "<b>150</b>"
         ],
         "type": "scatter",
         "x": [
          -0.060870871982170276,
          -0.1565613973253825,
          null
         ],
         "y": [
          0.05847561375370165,
          -0.04805573240281369,
          null
         ]
        },
        {
         "hoverinfo": "text",
         "line": {
          "color": "peru",
          "width": 0.25083373672952086
         },
         "mode": "lines",
         "text": [
          "<b>21</b>"
         ],
         "type": "scatter",
         "x": [
          -0.060870871982170276,
          -0.03799795302862708,
          null
         ],
         "y": [
          0.05847561375370165,
          -0.10046936690130284,
          null
         ]
        },
        {
         "hoverinfo": "text",
         "line": {
          "color": "peru",
          "width": 0.2509068887497687
         },
         "mode": "lines",
         "text": [
          "<b>10</b>"
         ],
         "type": "scatter",
         "x": [
          -0.060870871982170276,
          0.037112341418509734,
          null
         ],
         "y": [
          0.05847561375370165,
          -0.06476133803077848,
          null
         ]
        },
        {
         "hoverinfo": "text",
         "line": {
          "color": "peru",
          "width": 0.25007417704965523
         },
         "mode": "lines",
         "text": [
          "<b>3</b>"
         ],
         "type": "scatter",
         "x": [
          -0.060870871982170276,
          0.0021476759594681615,
          null
         ],
         "y": [
          0.05847561375370165,
          -0.14325253494920223,
          null
         ]
        },
        {
         "hoverinfo": "text",
         "line": {
          "color": "peru",
          "width": 0.2500165542575017
         },
         "mode": "lines",
         "text": [
          "<b>3</b>"
         ],
         "type": "scatter",
         "x": [
          -0.060870871982170276,
          -0.008620714316374366,
          null
         ],
         "y": [
          0.05847561375370165,
          -0.2384014836653278,
          null
         ]
        },
        {
         "hoverinfo": "text",
         "line": {
          "color": "peru",
          "width": 0.25097888693120846
         },
         "mode": "lines",
         "text": [
          "<b>3</b>"
         ],
         "type": "scatter",
         "x": [
          -0.060870871982170276,
          0.08602385684170852,
          null
         ],
         "y": [
          0.05847561375370165,
          -0.09889936429271984,
          null
         ]
        },
        {
         "hoverinfo": "text",
         "line": {
          "color": "peru",
          "width": 0.25114188334894616
         },
         "mode": "lines",
         "text": [
          "<b>2</b>"
         ],
         "type": "scatter",
         "x": [
          -0.060870871982170276,
          0.076044024846554,
          null
         ],
         "y": [
          0.05847561375370165,
          -0.2285230196945629,
          null
         ]
        },
        {
         "hoverinfo": "text",
         "line": {
          "color": "peru",
          "width": 0.2500821363305899
         },
         "mode": "lines",
         "text": [
          "<b>1</b>"
         ],
         "type": "scatter",
         "x": [
          -0.060870871982170276,
          0.03914642094439085,
          null
         ],
         "y": [
          0.05847561375370165,
          -0.16815542693602434,
          null
         ]
        },
        {
         "hoverinfo": "text",
         "line": {
          "color": "peru",
          "width": 0.25445514543173153
         },
         "mode": "lines",
         "text": [
          "<b>1</b>"
         ],
         "type": "scatter",
         "x": [
          0.30041709745930495,
          0.0021476759594681615,
          null
         ],
         "y": [
          0.3296958791155544,
          -0.14325253494920223,
          null
         ]
        },
        {
         "hoverinfo": "text",
         "line": {
          "color": "peru",
          "width": 0.25172052643070764
         },
         "mode": "lines",
         "text": [
          "<b>13</b>"
         ],
         "type": "scatter",
         "x": [
          0.026589664548724874,
          0.037112341418509734,
          null
         ],
         "y": [
          -0.30952614571382137,
          -0.06476133803077848,
          null
         ]
        },
        {
         "hoverinfo": "text",
         "line": {
          "color": "peru",
          "width": 0.2505690202767427
         },
         "mode": "lines",
         "text": [
          "<b>11</b>"
         ],
         "type": "scatter",
         "x": [
          0.026589664548724874,
          -0.1565613973253825,
          null
         ],
         "y": [
          -0.30952614571382137,
          -0.04805573240281369,
          null
         ]
        },
        {
         "hoverinfo": "text",
         "line": {
          "color": "peru",
          "width": 0.25103872738895205
         },
         "mode": "lines",
         "text": [
          "<b>9</b>"
         ],
         "type": "scatter",
         "x": [
          0.026589664548724874,
          0.03914642094439085,
          null
         ],
         "y": [
          -0.30952614571382137,
          -0.16815542693602434,
          null
         ]
        },
        {
         "hoverinfo": "text",
         "line": {
          "color": "peru",
          "width": 0.25006294041051697
         },
         "mode": "lines",
         "text": [
          "<b>9</b>"
         ],
         "type": "scatter",
         "x": [
          0.026589664548724874,
          -0.008620714316374366,
          null
         ],
         "y": [
          -0.30952614571382137,
          -0.2384014836653278,
          null
         ]
        },
        {
         "hoverinfo": "text",
         "line": {
          "color": "peru",
          "width": 0.25033655154654555
         },
         "mode": "lines",
         "text": [
          "<b>6</b>"
         ],
         "type": "scatter",
         "x": [
          0.026589664548724874,
          -0.03799795302862708,
          null
         ],
         "y": [
          -0.30952614571382137,
          -0.10046936690130284,
          null
         ]
        },
        {
         "hoverinfo": "text",
         "line": {
          "color": "peru",
          "width": 0.25006449678537873
         },
         "mode": "lines",
         "text": [
          "<b>2</b>"
         ],
         "type": "scatter",
         "x": [
          0.026589664548724874,
          0.0021476759594681615,
          null
         ],
         "y": [
          -0.30952614571382137,
          -0.14325253494920223,
          null
         ]
        },
        {
         "hoverinfo": "text",
         "line": {
          "color": "peru",
          "width": 0.25094042902005853
         },
         "mode": "lines",
         "text": [
          "<b>2</b>"
         ],
         "type": "scatter",
         "x": [
          0.026589664548724874,
          0.08602385684170852,
          null
         ],
         "y": [
          -0.30952614571382137,
          -0.09889936429271984,
          null
         ]
        },
        {
         "hoverinfo": "text",
         "line": {
          "color": "peru",
          "width": 0.2504931247044123
         },
         "mode": "lines",
         "text": [
          "<b>1</b>"
         ],
         "type": "scatter",
         "x": [
          0.026589664548724874,
          -0.21382146535799829,
          null
         ],
         "y": [
          -0.30952614571382137,
          -0.0743844082798468,
          null
         ]
        },
        {
         "hoverinfo": "text",
         "line": {
          "color": "peru",
          "width": 0.2638375899880525
         },
         "mode": "lines",
         "text": [
          "<b>1</b>"
         ],
         "type": "scatter",
         "x": [
          0.026589664548724874,
          0.14140656101499638,
          null
         ],
         "y": [
          -0.30952614571382137,
          0.1534315269562114,
          null
         ]
        },
        {
         "hoverinfo": "text",
         "line": {
          "color": "peru",
          "width": 0.25412681250233105
         },
         "mode": "lines",
         "text": [
          "<b>157</b>"
         ],
         "type": "scatter",
         "x": [
          0.03914642094439085,
          0.037112341418509734,
          null
         ],
         "y": [
          -0.16815542693602434,
          -0.06476133803077848,
          null
         ]
        },
        {
         "hoverinfo": "text",
         "line": {
          "color": "peru",
          "width": 0.25080090042407815
         },
         "mode": "lines",
         "text": [
          "<b>72</b>"
         ],
         "type": "scatter",
         "x": [
          0.03914642094439085,
          -0.03799795302862708,
          null
         ],
         "y": [
          -0.16815542693602434,
          -0.10046936690130284,
          null
         ]
        },
        {
         "hoverinfo": "text",
         "line": {
          "color": "peru",
          "width": 0.25005131759066945
         },
         "mode": "lines",
         "text": [
          "<b>37</b>"
         ],
         "type": "scatter",
         "x": [
          0.03914642094439085,
          -0.008620714316374366,
          null
         ],
         "y": [
          -0.16815542693602434,
          -0.2384014836653278,
          null
         ]
        },
        {
         "hoverinfo": "text",
         "line": {
          "color": "peru",
          "width": 0.25064040657290426
         },
         "mode": "lines",
         "text": [
          "<b>28</b>"
         ],
         "type": "scatter",
         "x": [
          0.03914642094439085,
          0.03914642094439085,
          null
         ],
         "y": [
          -0.16815542693602434,
          -0.16815542693602434,
          null
         ]
        },
        {
         "hoverinfo": "text",
         "line": {
          "color": "peru",
          "width": 0.25017412682809104
         },
         "mode": "lines",
         "text": [
          "<b>17</b>"
         ],
         "type": "scatter",
         "x": [
          0.03914642094439085,
          -0.1565613973253825,
          null
         ],
         "y": [
          -0.16815542693602434,
          -0.04805573240281369,
          null
         ]
        },
        {
         "hoverinfo": "text",
         "line": {
          "color": "peru",
          "width": 0.250108718254807
         },
         "mode": "lines",
         "text": [
          "<b>17</b>"
         ],
         "type": "scatter",
         "x": [
          0.03914642094439085,
          0.0021476759594681615,
          null
         ],
         "y": [
          -0.16815542693602434,
          -0.14325253494920223,
          null
         ]
        },
        {
         "hoverinfo": "text",
         "line": {
          "color": "peru",
          "width": 0.2505341504401365
         },
         "mode": "lines",
         "text": [
          "<b>3</b>"
         ],
         "type": "scatter",
         "x": [
          0.03914642094439085,
          0.076044024846554,
          null
         ],
         "y": [
          -0.16815542693602434,
          -0.2285230196945629,
          null
         ]
        },
        {
         "hoverinfo": "text",
         "line": {
          "color": "peru",
          "width": 0.25018628563121503
         },
         "mode": "lines",
         "text": [
          "<b>2</b>"
         ],
         "type": "scatter",
         "x": [
          0.03914642094439085,
          0.08602385684170852,
          null
         ],
         "y": [
          -0.16815542693602434,
          -0.09889936429271984,
          null
         ]
        },
        {
         "hoverinfo": "text",
         "line": {
          "color": "peru",
          "width": 0.2516821853142026
         },
         "mode": "lines",
         "text": [
          "<b>2</b>"
         ],
         "type": "scatter",
         "x": [
          0.03914642094439085,
          -0.15761049738613608,
          null
         ],
         "y": [
          -0.16815542693602434,
          -0.3150798978482202,
          null
         ]
        },
        {
         "hoverinfo": "text",
         "line": {
          "color": "peru",
          "width": 0.2508545649319552
         },
         "mode": "lines",
         "text": [
          "<b>8</b>"
         ],
         "type": "scatter",
         "x": [
          -0.10814385694596838,
          -0.008620714316374366,
          null
         ],
         "y": [
          -0.5098678491586572,
          -0.2384014836653278,
          null
         ]
        },
        {
         "hoverinfo": "text",
         "line": {
          "color": "peru",
          "width": 0.2518050740496347
         },
         "mode": "lines",
         "text": [
          "<b>2</b>"
         ],
         "type": "scatter",
         "x": [
          -0.10814385694596838,
          -0.03799795302862708,
          null
         ],
         "y": [
          -0.5098678491586572,
          -0.10046936690130284,
          null
         ]
        },
        {
         "hoverinfo": "text",
         "line": {
          "color": "peru",
          "width": 0.2504987539663548
         },
         "mode": "lines",
         "text": [
          "<b>1</b>"
         ],
         "type": "scatter",
         "x": [
          -0.10814385694596838,
          0.0021476759594681615,
          null
         ],
         "y": [
          -0.5098678491586572,
          -0.14325253494920223,
          null
         ]
        },
        {
         "hoverinfo": "text",
         "line": {
          "color": "peru",
          "width": 0.2504498599376918
         },
         "mode": "lines",
         "text": [
          "<b>253</b>"
         ],
         "type": "scatter",
         "x": [
          0.037112341418509734,
          -0.008620714316374366,
          null
         ],
         "y": [
          -0.06476133803077848,
          -0.2384014836653278,
          null
         ]
        },
        {
         "hoverinfo": "text",
         "line": {
          "color": "peru",
          "width": 0.25161421261308814
         },
         "mode": "lines",
         "text": [
          "<b>203</b>"
         ],
         "type": "scatter",
         "x": [
          0.037112341418509734,
          0.0021476759594681615,
          null
         ],
         "y": [
          -0.06476133803077848,
          -0.14325253494920223,
          null
         ]
        },
        {
         "hoverinfo": "text",
         "line": {
          "color": "peru",
          "width": 0.2517223186906546
         },
         "mode": "lines",
         "text": [
          "<b>175</b>"
         ],
         "type": "scatter",
         "x": [
          0.037112341418509734,
          -0.1565613973253825,
          null
         ],
         "y": [
          -0.06476133803077848,
          -0.04805573240281369,
          null
         ]
        },
        {
         "hoverinfo": "text",
         "line": {
          "color": "peru",
          "width": 0.251379927250067
         },
         "mode": "lines",
         "text": [
          "<b>109</b>"
         ],
         "type": "scatter",
         "x": [
          0.037112341418509734,
          -0.03799795302862708,
          null
         ],
         "y": [
          -0.06476133803077848,
          -0.10046936690130284,
          null
         ]
        },
        {
         "hoverinfo": "text",
         "line": {
          "color": "peru",
          "width": 0.2521653617107128
         },
         "mode": "lines",
         "text": [
          "<b>12</b>"
         ],
         "type": "scatter",
         "x": [
          0.037112341418509734,
          0.076044024846554,
          null
         ],
         "y": [
          -0.06476133803077848,
          -0.2285230196945629,
          null
         ]
        },
        {
         "hoverinfo": "text",
         "line": {
          "color": "peru",
          "width": 0.2510382232888889
         },
         "mode": "lines",
         "text": [
          "<b>10</b>"
         ],
         "type": "scatter",
         "x": [
          0.037112341418509734,
          0.08602385684170852,
          null
         ],
         "y": [
          -0.06476133803077848,
          -0.09889936429271984,
          null
         ]
        },
        {
         "hoverinfo": "text",
         "line": {
          "color": "peru",
          "width": 0.25052212971048327
         },
         "mode": "lines",
         "text": [
          "<b>5</b>"
         ],
         "type": "scatter",
         "x": [
          0.037112341418509734,
          -0.21382146535799829,
          null
         ],
         "y": [
          -0.06476133803077848,
          -0.0743844082798468,
          null
         ]
        },
        {
         "hoverinfo": "text",
         "line": {
          "color": "peru",
          "width": 0.2501152177245403
         },
         "mode": "lines",
         "text": [
          "<b>4</b>"
         ],
         "type": "scatter",
         "x": [
          0.037112341418509734,
          0.037112341418509734,
          null
         ],
         "y": [
          -0.06476133803077848,
          -0.06476133803077848,
          null
         ]
        },
        {
         "hoverinfo": "text",
         "line": {
          "color": "peru",
          "width": 0.25363994913622123
         },
         "mode": "lines",
         "text": [
          "<b>4</b>"
         ],
         "type": "scatter",
         "x": [
          0.037112341418509734,
          -0.15761049738613608,
          null
         ],
         "y": [
          -0.06476133803077848,
          -0.3150798978482202,
          null
         ]
        },
        {
         "hoverinfo": "text",
         "line": {
          "color": "peru",
          "width": 0.25591711108360254
         },
         "mode": "lines",
         "text": [
          "<b>2</b>"
         ],
         "type": "scatter",
         "x": [
          0.037112341418509734,
          0.14140656101499638,
          null
         ],
         "y": [
          -0.06476133803077848,
          0.1534315269562114,
          null
         ]
        },
        {
         "hoverinfo": "text",
         "line": {
          "color": "peru",
          "width": 0.34321961476281065
         },
         "mode": "lines",
         "text": [
          "<b>2</b>"
         ],
         "type": "scatter",
         "x": [
          -0.41973072647800724,
          -0.21382146535799829,
          null
         ],
         "y": [
          0.060744149500660975,
          -0.0743844082798468,
          null
         ]
        },
        {
         "hoverinfo": "text",
         "line": {
          "color": "peru",
          "width": 0.25474089001834577
         },
         "mode": "lines",
         "text": [
          "<b>1</b>"
         ],
         "type": "scatter",
         "x": [
          -0.41973072647800724,
          -0.1565613973253825,
          null
         ],
         "y": [
          0.060744149500660975,
          -0.04805573240281369,
          null
         ]
        },
        {
         "hoverinfo": "text",
         "line": {
          "color": "peru",
          "width": 0.2505656621311115
         },
         "mode": "lines",
         "text": [
          "<b>11</b>"
         ],
         "type": "scatter",
         "x": [
          -0.2830525026756416,
          -0.008620714316374366,
          null
         ],
         "y": [
          -0.376171070009455,
          -0.2384014836653278,
          null
         ]
        },
        {
         "hoverinfo": "text",
         "line": {
          "color": "peru",
          "width": 0.250976896854251
         },
         "mode": "lines",
         "text": [
          "<b>4</b>"
         ],
         "type": "scatter",
         "x": [
          -0.2830525026756416,
          0.0021476759594681615,
          null
         ],
         "y": [
          -0.376171070009455,
          -0.14325253494920223,
          null
         ]
        },
        {
         "hoverinfo": "text",
         "line": {
          "color": "peru",
          "width": 0.2633856822299179
         },
         "mode": "lines",
         "text": [
          "<b>3</b>"
         ],
         "type": "scatter",
         "x": [
          -0.2830525026756416,
          -0.21382146535799829,
          null
         ],
         "y": [
          -0.376171070009455,
          -0.0743844082798468,
          null
         ]
        },
        {
         "hoverinfo": "text",
         "line": {
          "color": "peru",
          "width": 0.25036747239398754
         },
         "mode": "lines",
         "text": [
          "<b>1131</b>"
         ],
         "type": "scatter",
         "x": [
          0.0021476759594681615,
          -0.008620714316374366,
          null
         ],
         "y": [
          -0.14325253494920223,
          -0.2384014836653278,
          null
         ]
        },
        {
         "hoverinfo": "text",
         "line": {
          "color": "peru",
          "width": 0.2502711213651802
         },
         "mode": "lines",
         "text": [
          "<b>86</b>"
         ],
         "type": "scatter",
         "x": [
          0.0021476759594681615,
          -0.03799795302862708,
          null
         ],
         "y": [
          -0.14325253494920223,
          -0.10046936690130284,
          null
         ]
        },
        {
         "hoverinfo": "text",
         "line": {
          "color": "peru",
          "width": 0.2502315281247551
         },
         "mode": "lines",
         "text": [
          "<b>52</b>"
         ],
         "type": "scatter",
         "x": [
          0.0021476759594681615,
          -0.1565613973253825,
          null
         ],
         "y": [
          -0.14325253494920223,
          -0.04805573240281369,
          null
         ]
        },
        {
         "hoverinfo": "text",
         "line": {
          "color": "peru",
          "width": 0.2506578296476807
         },
         "mode": "lines",
         "text": [
          "<b>10</b>"
         ],
         "type": "scatter",
         "x": [
          0.0021476759594681615,
          0.076044024846554,
          null
         ],
         "y": [
          -0.14325253494920223,
          -0.2285230196945629,
          null
         ]
        },
        {
         "hoverinfo": "text",
         "line": {
          "color": "peru",
          "width": 0.2502200634944742
         },
         "mode": "lines",
         "text": [
          "<b>8</b>"
         ],
         "type": "scatter",
         "x": [
          0.0021476759594681615,
          0.08602385684170852,
          null
         ],
         "y": [
          -0.14325253494920223,
          -0.09889936429271984,
          null
         ]
        },
        {
         "hoverinfo": "text",
         "line": {
          "color": "peru",
          "width": 0.2502206364211947
         },
         "mode": "lines",
         "text": [
          "<b>7</b>"
         ],
         "type": "scatter",
         "x": [
          0.0021476759594681615,
          -0.21382146535799829,
          null
         ],
         "y": [
          -0.14325253494920223,
          -0.0743844082798468,
          null
         ]
        },
        {
         "hoverinfo": "text",
         "line": {
          "color": "peru",
          "width": 0.25026457132672725
         },
         "mode": "lines",
         "text": [
          "<b>1</b>"
         ],
         "type": "scatter",
         "x": [
          0.0021476759594681615,
          -0.15761049738613608,
          null
         ],
         "y": [
          -0.14325253494920223,
          -0.3150798978482202,
          null
         ]
        },
        {
         "hoverinfo": "text",
         "line": {
          "color": "peru",
          "width": 0.2509217093200712
         },
         "mode": "lines",
         "text": [
          "<b>25</b>"
         ],
         "type": "scatter",
         "x": [
          0.08602385684170852,
          -0.1565613973253825,
          null
         ],
         "y": [
          -0.09889936429271984,
          -0.04805573240281369,
          null
         ]
        },
        {
         "hoverinfo": "text",
         "line": {
          "color": "peru",
          "width": 0.25007309322596744
         },
         "mode": "lines",
         "text": [
          "<b>12</b>"
         ],
         "type": "scatter",
         "x": [
          0.08602385684170852,
          -0.008620714316374366,
          null
         ],
         "y": [
          -0.09889936429271984,
          -0.2384014836653278,
          null
         ]
        },
        {
         "hoverinfo": "text",
         "line": {
          "color": "peru",
          "width": 0.25031551777429123
         },
         "mode": "lines",
         "text": [
          "<b>7</b>"
         ],
         "type": "scatter",
         "x": [
          0.08602385684170852,
          -0.03799795302862708,
          null
         ],
         "y": [
          -0.09889936429271984,
          -0.10046936690130284,
          null
         ]
        },
        {
         "hoverinfo": "text",
         "line": {
          "color": "peru",
          "width": 0.25333448472290054
         },
         "mode": "lines",
         "text": [
          "<b>5</b>"
         ],
         "type": "scatter",
         "x": [
          0.08602385684170852,
          0.076044024846554,
          null
         ],
         "y": [
          -0.09889936429271984,
          -0.2285230196945629,
          null
         ]
        },
        {
         "hoverinfo": "text",
         "line": {
          "color": "peru",
          "width": 0.2607395594612555
         },
         "mode": "lines",
         "text": [
          "<b>1</b>"
         ],
         "type": "scatter",
         "x": [
          0.08602385684170852,
          0.14140656101499638,
          null
         ],
         "y": [
          -0.09889936429271984,
          0.1534315269562114,
          null
         ]
        },
        {
         "hoverinfo": "text",
         "line": {
          "color": "peru",
          "width": 0.2501805534782834
         },
         "mode": "lines",
         "text": [
          "<b>3</b>"
         ],
         "type": "scatter",
         "x": [
          -0.15761049738613608,
          -0.008620714316374366,
          null
         ],
         "y": [
          -0.3150798978482202,
          -0.2384014836653278,
          null
         ]
        },
        {
         "hoverinfo": "text",
         "line": {
          "color": "peru",
          "width": 0.25058787728504506
         },
         "mode": "lines",
         "text": [
          "<b>2</b>"
         ],
         "type": "scatter",
         "x": [
          -0.15761049738613608,
          -0.1565613973253825,
          null
         ],
         "y": [
          -0.3150798978482202,
          -0.04805573240281369,
          null
         ]
        },
        {
         "hoverinfo": "text",
         "line": {
          "color": "peru",
          "width": 0.2518980104582747
         },
         "mode": "lines",
         "text": [
          "<b>351</b>"
         ],
         "type": "scatter",
         "x": [
          -0.03799795302862708,
          -0.03799795302862708,
          null
         ],
         "y": [
          -0.10046936690130284,
          -0.10046936690130284,
          null
         ]
        },
        {
         "hoverinfo": "text",
         "line": {
          "color": "peru",
          "width": 0.25168867989300775
         },
         "mode": "lines",
         "text": [
          "<b>350</b>"
         ],
         "type": "scatter",
         "x": [
          -0.03799795302862708,
          -0.1565613973253825,
          null
         ],
         "y": [
          -0.10046936690130284,
          -0.04805573240281369,
          null
         ]
        },
        {
         "hoverinfo": "text",
         "line": {
          "color": "peru",
          "width": 0.2501133746643399
         },
         "mode": "lines",
         "text": [
          "<b>165</b>"
         ],
         "type": "scatter",
         "x": [
          -0.03799795302862708,
          -0.008620714316374366,
          null
         ],
         "y": [
          -0.10046936690130284,
          -0.2384014836653278,
          null
         ]
        },
        {
         "hoverinfo": "text",
         "line": {
          "color": "peru",
          "width": 0.25061019105957427
         },
         "mode": "lines",
         "text": [
          "<b>13</b>"
         ],
         "type": "scatter",
         "x": [
          -0.03799795302862708,
          -0.21382146535799829,
          null
         ],
         "y": [
          -0.10046936690130284,
          -0.0743844082798468,
          null
         ]
        },
        {
         "hoverinfo": "text",
         "line": {
          "color": "peru",
          "width": 0.25050783306225755
         },
         "mode": "lines",
         "text": [
          "<b>6</b>"
         ],
         "type": "scatter",
         "x": [
          -0.03799795302862708,
          0.076044024846554,
          null
         ],
         "y": [
          -0.10046936690130284,
          -0.2285230196945629,
          null
         ]
        },
        {
         "hoverinfo": "text",
         "line": {
          "color": "peru",
          "width": 0.25261725595873286
         },
         "mode": "lines",
         "text": [
          "<b>2</b>"
         ],
         "type": "scatter",
         "x": [
          -0.03799795302862708,
          0.14140656101499638,
          null
         ],
         "y": [
          -0.10046936690130284,
          0.1534315269562114,
          null
         ]
        },
        {
         "hoverinfo": "text",
         "line": {
          "color": "peru",
          "width": 0.2519392839504346
         },
         "mode": "lines",
         "text": [
          "<b>2</b>"
         ],
         "type": "scatter",
         "x": [
          0.14140656101499638,
          -0.1565613973253825,
          null
         ],
         "y": [
          0.1534315269562114,
          -0.04805573240281369,
          null
         ]
        },
        {
         "hoverinfo": "text",
         "line": {
          "color": "peru",
          "width": 0.2606758201195839
         },
         "mode": "lines",
         "text": [
          "<b>1</b>"
         ],
         "type": "scatter",
         "x": [
          0.14140656101499638,
          -0.21382146535799829,
          null
         ],
         "y": [
          0.1534315269562114,
          -0.0743844082798468,
          null
         ]
        },
        {
         "hoverinfo": "text",
         "line": {
          "color": "peru",
          "width": 0.25033992569482527
         },
         "mode": "lines",
         "text": [
          "<b>21</b>"
         ],
         "type": "scatter",
         "x": [
          0.076044024846554,
          -0.008620714316374366,
          null
         ],
         "y": [
          -0.2285230196945629,
          -0.2384014836653278,
          null
         ]
        },
        {
         "hoverinfo": "text",
         "line": {
          "color": "peru",
          "width": 0.25049547708324404
         },
         "mode": "lines",
         "text": [
          "<b>10</b>"
         ],
         "type": "scatter",
         "x": [
          0.076044024846554,
          -0.1565613973253825,
          null
         ],
         "y": [
          -0.2285230196945629,
          -0.04805573240281369,
          null
         ]
        },
        {
         "hoverinfo": "text",
         "line": {
          "color": "peru",
          "width": 0.2524838269583848
         },
         "mode": "lines",
         "text": [
          "<b>4</b>"
         ],
         "type": "scatter",
         "x": [
          0.076044024846554,
          -0.21382146535799829,
          null
         ],
         "y": [
          -0.2285230196945629,
          -0.0743844082798468,
          null
         ]
        },
        {
         "hoverinfo": "text",
         "line": {
          "color": "peru",
          "width": 0.25018590385672934
         },
         "mode": "lines",
         "text": [
          "<b>153</b>"
         ],
         "type": "scatter",
         "x": [
          -0.1565613973253825,
          -0.008620714316374366,
          null
         ],
         "y": [
          -0.04805573240281369,
          -0.2384014836653278,
          null
         ]
        },
        {
         "hoverinfo": "text",
         "line": {
          "color": "peru",
          "width": 0.250656598897179
         },
         "mode": "lines",
         "text": [
          "<b>20</b>"
         ],
         "type": "scatter",
         "x": [
          -0.1565613973253825,
          -0.21382146535799829,
          null
         ],
         "y": [
          -0.04805573240281369,
          -0.0743844082798468,
          null
         ]
        },
        {
         "hoverinfo": "text",
         "line": {
          "color": "peru",
          "width": 0.25019568550960747
         },
         "mode": "lines",
         "text": [
          "<b>27</b>"
         ],
         "type": "scatter",
         "x": [
          -0.008620714316374366,
          -0.21382146535799829,
          null
         ],
         "y": [
          -0.2384014836653278,
          -0.0743844082798468,
          null
         ]
        },
        {
         "hoverinfo": "text",
         "line": {
          "color": "peru",
          "width": 0.25028975387753954
         },
         "mode": "lines",
         "text": [
          "<b>1</b>"
         ],
         "type": "scatter",
         "x": [
          -0.008620714316374366,
          -0.45566646999102844,
          null
         ],
         "y": [
          -0.2384014836653278,
          -0.3086962806174099,
          null
         ]
        },
        {
         "hoverinfo": "text",
         "line": {
          "color": "peru",
          "width": 0.2507429587322474
         },
         "mode": "lines",
         "text": [
          "<b>2</b>"
         ],
         "type": "scatter",
         "x": [
          -0.21382146535799829,
          -0.21382146535799829,
          null
         ],
         "y": [
          -0.0743844082798468,
          -0.0743844082798468,
          null
         ]
        },
        {
         "hoverinfo": "text",
         "marker": {
          "color": [
           "peru",
           "peru",
           "peru",
           "peru",
           "peru",
           "peru",
           "peru",
           "peru",
           "peru",
           "peru",
           "peru",
           "peru",
           "peru",
           "peru",
           "peru",
           "peru",
           "peru",
           "peru",
           "peru",
           "peru",
           "peru",
           "peru",
           "peru",
           "peru",
           "peru",
           "peru",
           "peru",
           "peru",
           "peru",
           "peru",
           "peru",
           "peru",
           "peru",
           "peru",
           "peru",
           "peru",
           "peru",
           "peru",
           "peru",
           "peru",
           "peru",
           "peru",
           "peru",
           "peru",
           "peru",
           "peru",
           "peru",
           "peru",
           "peru",
           "peru",
           "peru",
           "peru",
           "peru",
           "peru",
           "peru",
           "peru",
           "peru",
           "peru",
           "peru",
           "peru",
           "peru",
           "peru",
           "peru",
           "peru",
           "peru",
           "peru",
           "peru",
           "peru",
           "peru",
           "peru",
           "peru",
           "peru",
           "peru",
           "peru",
           "peru",
           "peru",
           "peru",
           "peru"
          ],
          "size": [
           5.02360281591856,
           5.0010262093877635,
           5.042895552408514,
           5.000205241877552,
           5.00225766065308,
           5.166245920817683,
           5.316893458941362,
           5.001231451265316,
           5.015598382694005,
           5.0082096751021075,
           5.000410483755106,
           5.1178088377152475,
           5.000615725632658,
           5.077991913470025,
           5.000615725632658,
           25,
           5.0149826570613465,
           5.0082096751021075,
           5.004720563183712,
           5.011904028898057,
           5.000205241877552,
           5.0010262093877635,
           5.0010262093877635,
           5.5369127516778525,
           5.0034891119183955,
           5.015187898938899,
           5.35322127126819,
           5.052747162531043,
           5.0008209675102115,
           5.000410483755106,
           5.001436693142869,
           5.034275393551301,
           5.036738296081933,
           5.030375797877799,
           6.74948176425918,
           5.000205241877552,
           5.000205241877552,
           5.800648564333066,
           5.125608029062249,
           5.000615725632658,
           5.0332491841635365,
           5.019703220245058,
           5.0057467725714755,
           5.000205241877552,
           5.001231451265316,
           5.24444307616526,
           5.000205241877552,
           5.15988342261355,
           5.000615725632658,
           5.000410483755106,
           5.000410483755106,
           5.000205241877552,
           5.000205241877552,
           5.048847566857542,
           5.000205241877552,
           5.141822137388913,
           5.079633848490445,
           5.000615725632658,
           5.053978613796359,
           5.272355971512428,
           5.0032838700408435,
           5.250805574369394,
           5.000615725632658,
           5.000205241877552,
           5.0008209675102115,
           5.006157256326581,
           5.874946124007142,
           5.069371754612812,
           5.0080044332245555,
           5.565441372657677,
           5.00225766065308,
           5.002462902530632,
           5.04104837551054,
           5.000205241877552,
           5.762678816985818,
           8.865525521827474,
           5.069782238367917,
           5.001436693142869
          ]
         },
         "mode": "markers",
         "text": [
          "<b>Vietnamese</b><br># of Speakers: 115",
          "<b>Macedonian</b><br># of Speakers: 5",
          "<b>Luxembourgish</b><br># of Speakers: 209",
          "<b>Tajik</b><br># of Speakers: 1",
          "<b>Bosnian</b><br># of Speakers: 11",
          "<b>Danish</b><br># of Speakers: 810",
          "<b>Italian</b><br># of Speakers: 1544",
          "<b>Bangla</b><br># of Speakers: 6",
          "<b>Ukrainian</b><br># of Speakers: 76",
          "<b>Punjabi</b><br># of Speakers: 40",
          "<b>Seychellois</b><br># of Speakers: 2",
          "<b>Finnish</b><br># of Speakers: 574",
          "<b>Afghan</b><br># of Speakers: 3",
          "<b>Hindi</b><br># of Speakers: 380",
          "<b>Kyrgyz</b><br># of Speakers: 3",
          "<b>English</b><br># of Speakers: 97446",
          "<b>Slovene</b><br># of Speakers: 73",
          "<b>Asante</b><br># of Speakers: 40",
          "<b>Persian</b><br># of Speakers: 23",
          "<b>Serbian</b><br># of Speakers: 58",
          "<b>Kinyarwanda</b><br># of Speakers: 1",
          "<b>Nepali</b><br># of Speakers: 5",
          "<b>Khmer</b><br># of Speakers: 5",
          "<b>Arabic</b><br># of Speakers: 2616",
          "<b>Icelandic</b><br># of Speakers: 17",
          "<b>Slovak</b><br># of Speakers: 74",
          "<b>Thai</b><br># of Speakers: 1721",
          "<b>Hungarian</b><br># of Speakers: 257",
          "<b>Creole</b><br># of Speakers: 4",
          "<b>Setswana</b><br># of Speakers: 2",
          "<b>Sinhala</b><br># of Speakers: 7",
          "<b>Malay</b><br># of Speakers: 167",
          "<b>Hebrew</b><br># of Speakers: 179",
          "<b>Romanian</b><br># of Speakers: 148",
          "<b>German</b><br># of Speakers: 8524",
          "<b>Mongolian</b><br># of Speakers: 1",
          "<b>Shona</b><br># of Speakers: 1",
          "<b>Dutch</b><br># of Speakers: 3901",
          "<b>Korean</b><br># of Speakers: 612",
          "<b>Bemba</b><br># of Speakers: 3",
          "<b>Croatian</b><br># of Speakers: 162",
          "<b>Estonian</b><br># of Speakers: 96",
          "<b>Makhuwa</b><br># of Speakers: 28",
          "<b>Kazakh</b><br># of Speakers: 1",
          "<b>Lithuanian</b><br># of Speakers: 6",
          "<b>Bahasa</b><br># of Speakers: 1191",
          "<b>Sharchhopka</b><br># of Speakers: 1",
          "<b>Greek</b><br># of Speakers: 779",
          "<b>Oshiwambo</b><br># of Speakers: 3",
          "<b>Kiswahili</b><br># of Speakers: 2",
          "<b>Albanian</b><br># of Speakers: 2",
          "<b>Somali</b><br># of Speakers: 1",
          "<b>Lao</b><br># of Speakers: 1",
          "<b>Polish</b><br># of Speakers: 238",
          "<b>Tok</b><br># of Speakers: 1",
          "<b>Yue</b><br># of Speakers: 691",
          "<b>Mandarin</b><br># of Speakers: 388",
          "<b>Georgian</b><br># of Speakers: 3",
          "<b>isiZulu</b><br># of Speakers: 263",
          "<b>Portuguese</b><br># of Speakers: 1327",
          "<b>Maltese</b><br># of Speakers: 16",
          "<b>French</b><br># of Speakers: 1222",
          "<b>Uzbek</b><br># of Speakers: 3",
          "<b>Catalan</b><br># of Speakers: 1",
          "<b>Moldovan/Romanian</b><br># of Speakers: 4",
          "<b>Latvian</b><br># of Speakers: 30",
          "<b>Bokmal</b><br># of Speakers: 4263",
          "<b>Cebuano</b><br># of Speakers: 338",
          "<b>Bulgarian</b><br># of Speakers: 39",
          "<b>Spanish</b><br># of Speakers: 2755",
          "<b>Palauan</b><br># of Speakers: 11",
          "<b>Dhivehi</b><br># of Speakers: 12",
          "<b>Turkish</b><br># of Speakers: 200",
          "<b>I-Kiribati</b><br># of Speakers: 1",
          "<b>Japanese</b><br># of Speakers: 3716",
          "<b>Swedish</b><br># of Speakers: 18834",
          "<b>Russian</b><br># of Speakers: 340",
          "<b>Azerbaijani</b><br># of Speakers: 7"
         ],
         "textfont": {
          "size": 10
         },
         "textposition": "top center",
         "type": "scatter",
         "x": [
          -0.08157381426554647,
          0.09032264831847737,
          -0.2787052282098417,
          0.7096164289417278,
          0.3503438466787676,
          -0.06126495757639816,
          -0.17466140068503105,
          0.5841165607900559,
          -0.28703581271306317,
          -0.1360693385956396,
          -0.49909233227621014,
          -0.15914794116645503,
          0.5381362796161994,
          -0.13847531594110257,
          -0.3028277493714289,
          0.037794014098991364,
          0.12380093032622776,
          0.18890539387121066,
          0.003196803672617761,
          0.225258502357332,
          0.22649338975796107,
          -0.1313219761498052,
          -0.2621886351080779,
          -0.11708530833598096,
          0.2384114147397721,
          -0.3216013916991431,
          -0.034520369679783496,
          -0.17699050553477794,
          0.5252622617720751,
          -0.11560680098750302,
          0.12187876408755381,
          0.304566913755434,
          -0.20084994632269787,
          -0.23436239491697763,
          -0.0264655059238801,
          0.047650137857219846,
          -0.9171341356793465,
          0.03097250257589602,
          -0.11764096428606644,
          0.15693580918562272,
          0.1782997712493181,
          -0.014496133191631221,
          0.09091248396374722,
          0.5644930158846561,
          0.26434180886269315,
          -0.009709271081250317,
          0.8378822987095896,
          -0.13921754181663373,
          0.4387262903185144,
          0.5507856787496299,
          -0.5868292045207596,
          0.3854463345743704,
          0.05586488337274385,
          -0.06926016718356055,
          -0.1733151329736438,
          0.1383800971725734,
          -0.060870871982170276,
          0.30041709745930495,
          0.026589664548724874,
          0.03914642094439085,
          -0.10814385694596838,
          0.037112341418509734,
          -0.41973072647800724,
          0.7236503798389048,
          -0.4106235388170116,
          -0.2830525026756416,
          0.0021476759594681615,
          0.08602385684170852,
          -0.15761049738613608,
          -0.03799795302862708,
          -0.4907078785290733,
          0.14140656101499638,
          0.076044024846554,
          -0.870476139107894,
          -0.1565613973253825,
          -0.008620714316374366,
          -0.21382146535799829,
          -0.45566646999102844
         ],
         "y": [
          0.1682352956082638,
          0.22758249541221023,
          -0.1423897501743019,
          0.5492891864379245,
          -0.2042185469656828,
          -0.15295407143200532,
          -0.008713263447703267,
          0.09611893168005317,
          -0.2371482169447177,
          0.14614193275385035,
          0.4580884985480045,
          -0.1121283159934214,
          0.1553144902997429,
          -0.18547852485274133,
          0.84732232673226,
          0.12434741897055317,
          0.055414571222401655,
          -0.25721437611247694,
          -0.5189873829406744,
          -0.04718966706519001,
          0.8904981803794328,
          0.43169933745576405,
          0.22722651728137752,
          -0.14061218669955314,
          -0.34719956689021464,
          -0.10395182662034332,
          -0.20641756411669696,
          0.08436261288959324,
          -0.034926880980845794,
          0.8968952254375414,
          0.40402596435716875,
          -0.018188746815965686,
          -0.19226855649186103,
          0.02962341723103683,
          -0.06257900558246596,
          0.4343129528769831,
          -0.2892427237564671,
          -0.02726580821300639,
          0.018569149606881274,
          -0.942265318717752,
          -0.1274569078232588,
          0.14458655088238995,
          -0.3834819239965121,
          -0.7638620637946426,
          -0.1966470007508575,
          0.0046491559004002,
          -0.24159464763909919,
          -0.2230008879936063,
          0.46263474844595576,
          0.7297058186385333,
          0.3740844462328424,
          0.8305255077209299,
          0.9120552394933666,
          -0.30758311375772085,
          -1,
          -0.017831327287119475,
          0.05847561375370165,
          0.3296958791155544,
          -0.30952614571382137,
          -0.16815542693602434,
          -0.5098678491586572,
          -0.06476133803077848,
          0.060744149500660975,
          -0.3261551059557146,
          0.5541072673739492,
          -0.376171070009455,
          -0.14325253494920223,
          -0.09889936429271984,
          -0.3150798978482202,
          -0.10046936690130284,
          -0.10678684678237646,
          0.1534315269562114,
          -0.2285230196945629,
          0.05021963589959825,
          -0.04805573240281369,
          -0.2384014836653278,
          -0.0743844082798468,
          -0.3086962806174099
         ]
        }
       ],
       "layout": {
        "paper_bgcolor": "rgba(0,0,0,0)",
        "plot_bgcolor": "seashell",
        "showlegend": false,
        "template": {
         "data": {
          "bar": [
           {
            "error_x": {
             "color": "#2a3f5f"
            },
            "error_y": {
             "color": "#2a3f5f"
            },
            "marker": {
             "line": {
              "color": "#E5ECF6",
              "width": 0.5
             }
            },
            "type": "bar"
           }
          ],
          "barpolar": [
           {
            "marker": {
             "line": {
              "color": "#E5ECF6",
              "width": 0.5
             }
            },
            "type": "barpolar"
           }
          ],
          "carpet": [
           {
            "aaxis": {
             "endlinecolor": "#2a3f5f",
             "gridcolor": "white",
             "linecolor": "white",
             "minorgridcolor": "white",
             "startlinecolor": "#2a3f5f"
            },
            "baxis": {
             "endlinecolor": "#2a3f5f",
             "gridcolor": "white",
             "linecolor": "white",
             "minorgridcolor": "white",
             "startlinecolor": "#2a3f5f"
            },
            "type": "carpet"
           }
          ],
          "choropleth": [
           {
            "colorbar": {
             "outlinewidth": 0,
             "ticks": ""
            },
            "type": "choropleth"
           }
          ],
          "contour": [
           {
            "colorbar": {
             "outlinewidth": 0,
             "ticks": ""
            },
            "colorscale": [
             [
              0,
              "#0d0887"
             ],
             [
              0.1111111111111111,
              "#46039f"
             ],
             [
              0.2222222222222222,
              "#7201a8"
             ],
             [
              0.3333333333333333,
              "#9c179e"
             ],
             [
              0.4444444444444444,
              "#bd3786"
             ],
             [
              0.5555555555555556,
              "#d8576b"
             ],
             [
              0.6666666666666666,
              "#ed7953"
             ],
             [
              0.7777777777777778,
              "#fb9f3a"
             ],
             [
              0.8888888888888888,
              "#fdca26"
             ],
             [
              1,
              "#f0f921"
             ]
            ],
            "type": "contour"
           }
          ],
          "contourcarpet": [
           {
            "colorbar": {
             "outlinewidth": 0,
             "ticks": ""
            },
            "type": "contourcarpet"
           }
          ],
          "heatmap": [
           {
            "colorbar": {
             "outlinewidth": 0,
             "ticks": ""
            },
            "colorscale": [
             [
              0,
              "#0d0887"
             ],
             [
              0.1111111111111111,
              "#46039f"
             ],
             [
              0.2222222222222222,
              "#7201a8"
             ],
             [
              0.3333333333333333,
              "#9c179e"
             ],
             [
              0.4444444444444444,
              "#bd3786"
             ],
             [
              0.5555555555555556,
              "#d8576b"
             ],
             [
              0.6666666666666666,
              "#ed7953"
             ],
             [
              0.7777777777777778,
              "#fb9f3a"
             ],
             [
              0.8888888888888888,
              "#fdca26"
             ],
             [
              1,
              "#f0f921"
             ]
            ],
            "type": "heatmap"
           }
          ],
          "heatmapgl": [
           {
            "colorbar": {
             "outlinewidth": 0,
             "ticks": ""
            },
            "colorscale": [
             [
              0,
              "#0d0887"
             ],
             [
              0.1111111111111111,
              "#46039f"
             ],
             [
              0.2222222222222222,
              "#7201a8"
             ],
             [
              0.3333333333333333,
              "#9c179e"
             ],
             [
              0.4444444444444444,
              "#bd3786"
             ],
             [
              0.5555555555555556,
              "#d8576b"
             ],
             [
              0.6666666666666666,
              "#ed7953"
             ],
             [
              0.7777777777777778,
              "#fb9f3a"
             ],
             [
              0.8888888888888888,
              "#fdca26"
             ],
             [
              1,
              "#f0f921"
             ]
            ],
            "type": "heatmapgl"
           }
          ],
          "histogram": [
           {
            "marker": {
             "colorbar": {
              "outlinewidth": 0,
              "ticks": ""
             }
            },
            "type": "histogram"
           }
          ],
          "histogram2d": [
           {
            "colorbar": {
             "outlinewidth": 0,
             "ticks": ""
            },
            "colorscale": [
             [
              0,
              "#0d0887"
             ],
             [
              0.1111111111111111,
              "#46039f"
             ],
             [
              0.2222222222222222,
              "#7201a8"
             ],
             [
              0.3333333333333333,
              "#9c179e"
             ],
             [
              0.4444444444444444,
              "#bd3786"
             ],
             [
              0.5555555555555556,
              "#d8576b"
             ],
             [
              0.6666666666666666,
              "#ed7953"
             ],
             [
              0.7777777777777778,
              "#fb9f3a"
             ],
             [
              0.8888888888888888,
              "#fdca26"
             ],
             [
              1,
              "#f0f921"
             ]
            ],
            "type": "histogram2d"
           }
          ],
          "histogram2dcontour": [
           {
            "colorbar": {
             "outlinewidth": 0,
             "ticks": ""
            },
            "colorscale": [
             [
              0,
              "#0d0887"
             ],
             [
              0.1111111111111111,
              "#46039f"
             ],
             [
              0.2222222222222222,
              "#7201a8"
             ],
             [
              0.3333333333333333,
              "#9c179e"
             ],
             [
              0.4444444444444444,
              "#bd3786"
             ],
             [
              0.5555555555555556,
              "#d8576b"
             ],
             [
              0.6666666666666666,
              "#ed7953"
             ],
             [
              0.7777777777777778,
              "#fb9f3a"
             ],
             [
              0.8888888888888888,
              "#fdca26"
             ],
             [
              1,
              "#f0f921"
             ]
            ],
            "type": "histogram2dcontour"
           }
          ],
          "mesh3d": [
           {
            "colorbar": {
             "outlinewidth": 0,
             "ticks": ""
            },
            "type": "mesh3d"
           }
          ],
          "parcoords": [
           {
            "line": {
             "colorbar": {
              "outlinewidth": 0,
              "ticks": ""
             }
            },
            "type": "parcoords"
           }
          ],
          "pie": [
           {
            "automargin": true,
            "type": "pie"
           }
          ],
          "scatter": [
           {
            "marker": {
             "colorbar": {
              "outlinewidth": 0,
              "ticks": ""
             }
            },
            "type": "scatter"
           }
          ],
          "scatter3d": [
           {
            "line": {
             "colorbar": {
              "outlinewidth": 0,
              "ticks": ""
             }
            },
            "marker": {
             "colorbar": {
              "outlinewidth": 0,
              "ticks": ""
             }
            },
            "type": "scatter3d"
           }
          ],
          "scattercarpet": [
           {
            "marker": {
             "colorbar": {
              "outlinewidth": 0,
              "ticks": ""
             }
            },
            "type": "scattercarpet"
           }
          ],
          "scattergeo": [
           {
            "marker": {
             "colorbar": {
              "outlinewidth": 0,
              "ticks": ""
             }
            },
            "type": "scattergeo"
           }
          ],
          "scattergl": [
           {
            "marker": {
             "colorbar": {
              "outlinewidth": 0,
              "ticks": ""
             }
            },
            "type": "scattergl"
           }
          ],
          "scattermapbox": [
           {
            "marker": {
             "colorbar": {
              "outlinewidth": 0,
              "ticks": ""
             }
            },
            "type": "scattermapbox"
           }
          ],
          "scatterpolar": [
           {
            "marker": {
             "colorbar": {
              "outlinewidth": 0,
              "ticks": ""
             }
            },
            "type": "scatterpolar"
           }
          ],
          "scatterpolargl": [
           {
            "marker": {
             "colorbar": {
              "outlinewidth": 0,
              "ticks": ""
             }
            },
            "type": "scatterpolargl"
           }
          ],
          "scatterternary": [
           {
            "marker": {
             "colorbar": {
              "outlinewidth": 0,
              "ticks": ""
             }
            },
            "type": "scatterternary"
           }
          ],
          "surface": [
           {
            "colorbar": {
             "outlinewidth": 0,
             "ticks": ""
            },
            "colorscale": [
             [
              0,
              "#0d0887"
             ],
             [
              0.1111111111111111,
              "#46039f"
             ],
             [
              0.2222222222222222,
              "#7201a8"
             ],
             [
              0.3333333333333333,
              "#9c179e"
             ],
             [
              0.4444444444444444,
              "#bd3786"
             ],
             [
              0.5555555555555556,
              "#d8576b"
             ],
             [
              0.6666666666666666,
              "#ed7953"
             ],
             [
              0.7777777777777778,
              "#fb9f3a"
             ],
             [
              0.8888888888888888,
              "#fdca26"
             ],
             [
              1,
              "#f0f921"
             ]
            ],
            "type": "surface"
           }
          ],
          "table": [
           {
            "cells": {
             "fill": {
              "color": "#EBF0F8"
             },
             "line": {
              "color": "white"
             }
            },
            "header": {
             "fill": {
              "color": "#C8D4E3"
             },
             "line": {
              "color": "white"
             }
            },
            "type": "table"
           }
          ]
         },
         "layout": {
          "annotationdefaults": {
           "arrowcolor": "#2a3f5f",
           "arrowhead": 0,
           "arrowwidth": 1
          },
          "autotypenumbers": "strict",
          "coloraxis": {
           "colorbar": {
            "outlinewidth": 0,
            "ticks": ""
           }
          },
          "colorscale": {
           "diverging": [
            [
             0,
             "#8e0152"
            ],
            [
             0.1,
             "#c51b7d"
            ],
            [
             0.2,
             "#de77ae"
            ],
            [
             0.3,
             "#f1b6da"
            ],
            [
             0.4,
             "#fde0ef"
            ],
            [
             0.5,
             "#f7f7f7"
            ],
            [
             0.6,
             "#e6f5d0"
            ],
            [
             0.7,
             "#b8e186"
            ],
            [
             0.8,
             "#7fbc41"
            ],
            [
             0.9,
             "#4d9221"
            ],
            [
             1,
             "#276419"
            ]
           ],
           "sequential": [
            [
             0,
             "#0d0887"
            ],
            [
             0.1111111111111111,
             "#46039f"
            ],
            [
             0.2222222222222222,
             "#7201a8"
            ],
            [
             0.3333333333333333,
             "#9c179e"
            ],
            [
             0.4444444444444444,
             "#bd3786"
            ],
            [
             0.5555555555555556,
             "#d8576b"
            ],
            [
             0.6666666666666666,
             "#ed7953"
            ],
            [
             0.7777777777777778,
             "#fb9f3a"
            ],
            [
             0.8888888888888888,
             "#fdca26"
            ],
            [
             1,
             "#f0f921"
            ]
           ],
           "sequentialminus": [
            [
             0,
             "#0d0887"
            ],
            [
             0.1111111111111111,
             "#46039f"
            ],
            [
             0.2222222222222222,
             "#7201a8"
            ],
            [
             0.3333333333333333,
             "#9c179e"
            ],
            [
             0.4444444444444444,
             "#bd3786"
            ],
            [
             0.5555555555555556,
             "#d8576b"
            ],
            [
             0.6666666666666666,
             "#ed7953"
            ],
            [
             0.7777777777777778,
             "#fb9f3a"
            ],
            [
             0.8888888888888888,
             "#fdca26"
            ],
            [
             1,
             "#f0f921"
            ]
           ]
          },
          "colorway": [
           "#636efa",
           "#EF553B",
           "#00cc96",
           "#ab63fa",
           "#FFA15A",
           "#19d3f3",
           "#FF6692",
           "#B6E880",
           "#FF97FF",
           "#FECB52"
          ],
          "font": {
           "color": "#2a3f5f"
          },
          "geo": {
           "bgcolor": "white",
           "lakecolor": "white",
           "landcolor": "#E5ECF6",
           "showlakes": true,
           "showland": true,
           "subunitcolor": "white"
          },
          "hoverlabel": {
           "align": "left"
          },
          "hovermode": "closest",
          "mapbox": {
           "style": "light"
          },
          "paper_bgcolor": "white",
          "plot_bgcolor": "#E5ECF6",
          "polar": {
           "angularaxis": {
            "gridcolor": "white",
            "linecolor": "white",
            "ticks": ""
           },
           "bgcolor": "#E5ECF6",
           "radialaxis": {
            "gridcolor": "white",
            "linecolor": "white",
            "ticks": ""
           }
          },
          "scene": {
           "xaxis": {
            "backgroundcolor": "#E5ECF6",
            "gridcolor": "white",
            "gridwidth": 2,
            "linecolor": "white",
            "showbackground": true,
            "ticks": "",
            "zerolinecolor": "white"
           },
           "yaxis": {
            "backgroundcolor": "#E5ECF6",
            "gridcolor": "white",
            "gridwidth": 2,
            "linecolor": "white",
            "showbackground": true,
            "ticks": "",
            "zerolinecolor": "white"
           },
           "zaxis": {
            "backgroundcolor": "#E5ECF6",
            "gridcolor": "white",
            "gridwidth": 2,
            "linecolor": "white",
            "showbackground": true,
            "ticks": "",
            "zerolinecolor": "white"
           }
          },
          "shapedefaults": {
           "line": {
            "color": "#2a3f5f"
           }
          },
          "ternary": {
           "aaxis": {
            "gridcolor": "white",
            "linecolor": "white",
            "ticks": ""
           },
           "baxis": {
            "gridcolor": "white",
            "linecolor": "white",
            "ticks": ""
           },
           "bgcolor": "#E5ECF6",
           "caxis": {
            "gridcolor": "white",
            "linecolor": "white",
            "ticks": ""
           }
          },
          "title": {
           "x": 0.05
          },
          "xaxis": {
           "automargin": true,
           "gridcolor": "white",
           "linecolor": "white",
           "ticks": "",
           "title": {
            "standoff": 15
           },
           "zerolinecolor": "white",
           "zerolinewidth": 2
          },
          "yaxis": {
           "automargin": true,
           "gridcolor": "white",
           "linecolor": "white",
           "ticks": "",
           "title": {
            "standoff": 15
           },
           "zerolinecolor": "white",
           "zerolinewidth": 2
          }
         }
        },
        "title": {
         "text": "Friendships between languages"
        },
        "xaxis": {
         "showgrid": false,
         "showticklabels": false,
         "zeroline": false
        },
        "yaxis": {
         "showgrid": false,
         "showticklabels": false,
         "zeroline": false
        }
       }
      },
      "text/html": [
       "<div>                            <div id=\"d9851848-5bdf-423a-a86c-f3cc8398f012\" class=\"plotly-graph-div\" style=\"height:525px; width:100%;\"></div>            <script type=\"text/javascript\">                require([\"plotly\"], function(Plotly) {                    window.PLOTLYENV=window.PLOTLYENV || {};                                    if (document.getElementById(\"d9851848-5bdf-423a-a86c-f3cc8398f012\")) {                    Plotly.newPlot(                        \"d9851848-5bdf-423a-a86c-f3cc8398f012\",                        [{\"hoverinfo\": \"text\", \"line\": {\"color\": \"peru\", \"width\": 0.2504148493552403}, \"mode\": \"lines\", \"text\": [\"<b>122</b>\"], \"type\": \"scatter\", \"x\": [-0.08157381426554647, 0.037794014098991364, null], \"y\": [0.1682352956082638, 0.12434741897055317, null]}, {\"hoverinfo\": \"text\", \"line\": {\"color\": \"peru\", \"width\": 0.2502893969760772}, \"mode\": \"lines\", \"text\": [\"<b>22</b>\"], \"type\": \"scatter\", \"x\": [-0.08157381426554647, -0.008620714316374366, null], \"y\": [0.1682352956082638, -0.2384014836653278, null]}, {\"hoverinfo\": \"text\", \"line\": {\"color\": \"peru\", \"width\": 0.25094006037754524}, \"mode\": \"lines\", \"text\": [\"<b>15</b>\"], \"type\": \"scatter\", \"x\": [-0.08157381426554647, 0.0021476759594681615, null], \"y\": [0.1682352956082638, -0.14325253494920223, null]}, {\"hoverinfo\": \"text\", \"line\": {\"color\": \"peru\", \"width\": 0.251747008779938}, \"mode\": \"lines\", \"text\": [\"<b>12</b>\"], \"type\": \"scatter\", \"x\": [-0.08157381426554647, -0.1565613973253825, null], \"y\": [0.1682352956082638, -0.04805573240281369, null]}, {\"hoverinfo\": \"text\", \"line\": {\"color\": \"peru\", \"width\": 0.25071485711495906}, \"mode\": \"lines\", \"text\": [\"<b>5</b>\"], \"type\": \"scatter\", \"x\": [-0.08157381426554647, -0.034520369679783496, null], \"y\": [0.1682352956082638, -0.20641756411669696, null]}, {\"hoverinfo\": \"text\", \"line\": {\"color\": \"peru\", \"width\": 0.2504821985764446}, \"mode\": \"lines\", \"text\": [\"<b>4</b>\"], \"type\": \"scatter\", \"x\": [-0.08157381426554647, -0.03799795302862708, null], \"y\": [0.1682352956082638, -0.10046936690130284, null]}, {\"hoverinfo\": \"text\", \"line\": {\"color\": \"peru\", \"width\": 0.2508916945493223}, \"mode\": \"lines\", \"text\": [\"<b>3</b>\"], \"type\": \"scatter\", \"x\": [-0.08157381426554647, 0.037112341418509734, null], \"y\": [0.1682352956082638, -0.06476133803077848, null]}, {\"hoverinfo\": \"text\", \"line\": {\"color\": \"peru\", \"width\": 0.2531212821257572}, \"mode\": \"lines\", \"text\": [\"<b>3</b>\"], \"type\": \"scatter\", \"x\": [-0.08157381426554647, 0.08602385684170852, null], \"y\": [0.1682352956082638, -0.09889936429271984, null]}, {\"hoverinfo\": \"text\", \"line\": {\"color\": \"peru\", \"width\": 0.25185678482119667}, \"mode\": \"lines\", \"text\": [\"<b>2</b>\"], \"type\": \"scatter\", \"x\": [-0.08157381426554647, -0.060870871982170276, null], \"y\": [0.1682352956082638, 0.05847561375370165, null]}, {\"hoverinfo\": \"text\", \"line\": {\"color\": \"peru\", \"width\": 0.2505106485818479}, \"mode\": \"lines\", \"text\": [\"<b>2</b>\"], \"type\": \"scatter\", \"x\": [-0.08157381426554647, -0.009709271081250317, null], \"y\": [0.1682352956082638, 0.0046491559004002, null]}, {\"hoverinfo\": \"text\", \"line\": {\"color\": \"peru\", \"width\": 0.25006566241179246}, \"mode\": \"lines\", \"text\": [\"<b>2</b>\"], \"type\": \"scatter\", \"x\": [-0.08157381426554647, -0.0264655059238801, null], \"y\": [0.1682352956082638, -0.06257900558246596, null]}, {\"hoverinfo\": \"text\", \"line\": {\"color\": \"peru\", \"width\": 0.2503615813105933}, \"mode\": \"lines\", \"text\": [\"<b>1</b>\"], \"type\": \"scatter\", \"x\": [-0.08157381426554647, -0.13921754181663373, null], \"y\": [0.1682352956082638, -0.2230008879936063, null]}, {\"hoverinfo\": \"text\", \"line\": {\"color\": \"peru\", \"width\": 0.25007668443691794}, \"mode\": \"lines\", \"text\": [\"<b>1</b>\"], \"type\": \"scatter\", \"x\": [-0.08157381426554647, 0.03097250257589602, null], \"y\": [0.1682352956082638, -0.02726580821300639, null]}, {\"hoverinfo\": \"text\", \"line\": {\"color\": \"peru\", \"width\": 0.25022099012852156}, \"mode\": \"lines\", \"text\": [\"<b>1</b>\"], \"type\": \"scatter\", \"x\": [-0.08157381426554647, -0.17466140068503105, null], \"y\": [0.1682352956082638, -0.008713263447703267, null]}, {\"hoverinfo\": \"text\", \"line\": {\"color\": \"peru\", \"width\": 0.2510099328417814}, \"mode\": \"lines\", \"text\": [\"<b>13</b>\"], \"type\": \"scatter\", \"x\": [0.09032264831847737, 0.037794014098991364, null], \"y\": [0.22758249541221023, 0.12434741897055317, null]}, {\"hoverinfo\": \"text\", \"line\": {\"color\": \"peru\", \"width\": 0.2511863033251935}, \"mode\": \"lines\", \"text\": [\"<b>4</b>\"], \"type\": \"scatter\", \"x\": [0.09032264831847737, -0.008620714316374366, null], \"y\": [0.22758249541221023, -0.2384014836653278, null]}, {\"hoverinfo\": \"text\", \"line\": {\"color\": \"peru\", \"width\": 0.2527584109751347}, \"mode\": \"lines\", \"text\": [\"<b>1</b>\"], \"type\": \"scatter\", \"x\": [0.09032264831847737, -0.03799795302862708, null], \"y\": [0.22758249541221023, -0.10046936690130284, null]}, {\"hoverinfo\": \"text\", \"line\": {\"color\": \"peru\", \"width\": 0.25222748723844507}, \"mode\": \"lines\", \"text\": [\"<b>1</b>\"], \"type\": \"scatter\", \"x\": [0.09032264831847737, -0.11708530833598096, null], \"y\": [0.22758249541221023, -0.14061218669955314, null]}, {\"hoverinfo\": \"text\", \"line\": {\"color\": \"peru\", \"width\": 0.2959887522762022}, \"mode\": \"lines\", \"text\": [\"<b>1</b>\"], \"type\": \"scatter\", \"x\": [0.09032264831847737, -0.23436239491697763, null], \"y\": [0.22758249541221023, 0.02962341723103683, null]}, {\"hoverinfo\": \"text\", \"line\": {\"color\": \"peru\", \"width\": 0.38117717739724527}, \"mode\": \"lines\", \"text\": [\"<b>1</b>\"], \"type\": \"scatter\", \"x\": [0.09032264831847737, 0.225258502357332, null], \"y\": [0.22758249541221023, -0.04718966706519001, null]}, {\"hoverinfo\": \"text\", \"line\": {\"color\": \"peru\", \"width\": 0.2507439062031093}, \"mode\": \"lines\", \"text\": [\"<b>1</b>\"], \"type\": \"scatter\", \"x\": [0.09032264831847737, -0.0264655059238801, null], \"y\": [0.22758249541221023, -0.06257900558246596, null]}, {\"hoverinfo\": \"text\", \"line\": {\"color\": \"peru\", \"width\": 0.25174445540994633}, \"mode\": \"lines\", \"text\": [\"<b>1</b>\"], \"type\": \"scatter\", \"x\": [0.09032264831847737, 0.03097250257589602, null], \"y\": [0.22758249541221023, -0.02726580821300639, null]}, {\"hoverinfo\": \"text\", \"line\": {\"color\": \"peru\", \"width\": 0.25016622859207316}, \"mode\": \"lines\", \"text\": [\"<b>90</b>\"], \"type\": \"scatter\", \"x\": [-0.2787052282098417, 0.037794014098991364, null], \"y\": [-0.1423897501743019, 0.12434741897055317, null]}, {\"hoverinfo\": \"text\", \"line\": {\"color\": \"peru\", \"width\": 0.2507738870092325}, \"mode\": \"lines\", \"text\": [\"<b>44</b>\"], \"type\": \"scatter\", \"x\": [-0.2787052282098417, -0.0264655059238801, null], \"y\": [-0.1423897501743019, -0.06257900558246596, null]}, {\"hoverinfo\": \"text\", \"line\": {\"color\": \"peru\", \"width\": 0.25205002940349164}, \"mode\": \"lines\", \"text\": [\"<b>17</b>\"], \"type\": \"scatter\", \"x\": [-0.2787052282098417, -0.17466140068503105, null], \"y\": [-0.1423897501743019, -0.008713263447703267, null]}, {\"hoverinfo\": \"text\", \"line\": {\"color\": \"peru\", \"width\": 0.25261120022654815}, \"mode\": \"lines\", \"text\": [\"<b>16</b>\"], \"type\": \"scatter\", \"x\": [-0.2787052282098417, 0.037112341418509734, null], \"y\": [-0.1423897501743019, -0.06476133803077848, null]}, {\"hoverinfo\": \"text\", \"line\": {\"color\": \"peru\", \"width\": 0.25045424200127575}, \"mode\": \"lines\", \"text\": [\"<b>11</b>\"], \"type\": \"scatter\", \"x\": [-0.2787052282098417, 0.03097250257589602, null], \"y\": [-0.1423897501743019, -0.02726580821300639, null]}, {\"hoverinfo\": \"text\", \"line\": {\"color\": \"peru\", \"width\": 0.25007675990705097}, \"mode\": \"lines\", \"text\": [\"<b>11</b>\"], \"type\": \"scatter\", \"x\": [-0.2787052282098417, -0.008620714316374366, null], \"y\": [-0.1423897501743019, -0.2384014836653278, null]}, {\"hoverinfo\": \"text\", \"line\": {\"color\": \"peru\", \"width\": 0.250458534756845}, \"mode\": \"lines\", \"text\": [\"<b>7</b>\"], \"type\": \"scatter\", \"x\": [-0.2787052282098417, -0.03799795302862708, null], \"y\": [-0.1423897501743019, -0.10046936690130284, null]}, {\"hoverinfo\": \"text\", \"line\": {\"color\": \"peru\", \"width\": 0.2555397189582841}, \"mode\": \"lines\", \"text\": [\"<b>6</b>\"], \"type\": \"scatter\", \"x\": [-0.2787052282098417, -0.20084994632269787, null], \"y\": [-0.1423897501743019, -0.19226855649186103, null]}, {\"hoverinfo\": \"text\", \"line\": {\"color\": \"peru\", \"width\": 0.2501572928588116}, \"mode\": \"lines\", \"text\": [\"<b>3</b>\"], \"type\": \"scatter\", \"x\": [-0.2787052282098417, -0.11708530833598096, null], \"y\": [-0.1423897501743019, -0.14061218669955314, null]}, {\"hoverinfo\": \"text\", \"line\": {\"color\": \"peru\", \"width\": 0.25131294597212084}, \"mode\": \"lines\", \"text\": [\"<b>3</b>\"], \"type\": \"scatter\", \"x\": [-0.2787052282098417, -0.15914794116645503, null], \"y\": [-0.1423897501743019, -0.1121283159934214, null]}, {\"hoverinfo\": \"text\", \"line\": {\"color\": \"peru\", \"width\": 0.25210178674416683}, \"mode\": \"lines\", \"text\": [\"<b>2</b>\"], \"type\": \"scatter\", \"x\": [-0.2787052282098417, -0.23436239491697763, null], \"y\": [-0.1423897501743019, 0.02962341723103683, null]}, {\"hoverinfo\": \"text\", \"line\": {\"color\": \"peru\", \"width\": 0.2501375930854948}, \"mode\": \"lines\", \"text\": [\"<b>1</b>\"], \"type\": \"scatter\", \"x\": [-0.2787052282098417, -0.009709271081250317, null], \"y\": [-0.1423897501743019, 0.0046491559004002, null]}, {\"hoverinfo\": \"text\", \"line\": {\"color\": \"peru\", \"width\": 0.250294961039832}, \"mode\": \"lines\", \"text\": [\"<b>1</b>\"], \"type\": \"scatter\", \"x\": [-0.2787052282098417, 0.1383800971725734, null], \"y\": [-0.1423897501743019, -0.017831327287119475, null]}, {\"hoverinfo\": \"text\", \"line\": {\"color\": \"peru\", \"width\": 0.2512932263401258}, \"mode\": \"lines\", \"text\": [\"<b>1</b>\"], \"type\": \"scatter\", \"x\": [-0.2787052282098417, 0.076044024846554, null], \"y\": [-0.1423897501743019, -0.2285230196945629, null]}, {\"hoverinfo\": \"text\", \"line\": {\"color\": \"peru\", \"width\": 0.25023980281229674}, \"mode\": \"lines\", \"text\": [\"<b>1</b>\"], \"type\": \"scatter\", \"x\": [-0.2787052282098417, -0.11764096428606644, null], \"y\": [-0.1423897501743019, 0.018569149606881274, null]}, {\"hoverinfo\": \"text\", \"line\": {\"color\": \"peru\", \"width\": 0.2500840110980149}, \"mode\": \"lines\", \"text\": [\"<b>1</b>\"], \"type\": \"scatter\", \"x\": [-0.2787052282098417, -0.1565613973253825, null], \"y\": [-0.1423897501743019, -0.04805573240281369, null]}, {\"hoverinfo\": \"text\", \"line\": {\"color\": \"peru\", \"width\": 0.25817038057026753}, \"mode\": \"lines\", \"text\": [\"<b>14</b>\"], \"type\": \"scatter\", \"x\": [0.7096164289417278, 0.037794014098991364, null], \"y\": [0.5492891864379245, 0.12434741897055317, null]}, {\"hoverinfo\": \"text\", \"line\": {\"color\": \"peru\", \"width\": 0.2508007829525924}, \"mode\": \"lines\", \"text\": [\"<b>22</b>\"], \"type\": \"scatter\", \"x\": [0.3503438466787676, 0.037794014098991364, null], \"y\": [-0.2042185469656828, 0.12434741897055317, null]}, {\"hoverinfo\": \"text\", \"line\": {\"color\": \"peru\", \"width\": 1.4145555997290908}, \"mode\": \"lines\", \"text\": [\"<b>13</b>\"], \"type\": \"scatter\", \"x\": [0.3503438466787676, 0.225258502357332, null], \"y\": [-0.2042185469656828, -0.04718966706519001, null]}, {\"hoverinfo\": \"text\", \"line\": {\"color\": \"peru\", \"width\": 0.38596795772454556}, \"mode\": \"lines\", \"text\": [\"<b>7</b>\"], \"type\": \"scatter\", \"x\": [0.3503438466787676, 0.1782997712493181, null], \"y\": [-0.2042185469656828, -0.1274569078232588, null]}, {\"hoverinfo\": \"text\", \"line\": {\"color\": \"peru\", \"width\": 0.25662141269603805}, \"mode\": \"lines\", \"text\": [\"<b>6</b>\"], \"type\": \"scatter\", \"x\": [0.3503438466787676, -0.11708530833598096, null], \"y\": [-0.2042185469656828, -0.14061218669955314, null]}, {\"hoverinfo\": \"text\", \"line\": {\"color\": \"peru\", \"width\": 2.0141353102382373}, \"mode\": \"lines\", \"text\": [\"<b>2</b>\"], \"type\": \"scatter\", \"x\": [0.3503438466787676, 0.26434180886269315, null], \"y\": [-0.2042185469656828, -0.1966470007508575, null]}, {\"hoverinfo\": \"text\", \"line\": {\"color\": \"peru\", \"width\": 0.2562840522532576}, \"mode\": \"lines\", \"text\": [\"<b>2</b>\"], \"type\": \"scatter\", \"x\": [0.3503438466787676, 0.037112341418509734, null], \"y\": [-0.2042185469656828, -0.06476133803077848, null]}, {\"hoverinfo\": \"text\", \"line\": {\"color\": \"peru\", \"width\": 0.25029467310603365}, \"mode\": \"lines\", \"text\": [\"<b>2</b>\"], \"type\": \"scatter\", \"x\": [0.3503438466787676, -0.008620714316374366, null], \"y\": [-0.2042185469656828, -0.2384014836653278, null]}, {\"hoverinfo\": \"text\", \"line\": {\"color\": \"peru\", \"width\": 0.2977142379003754}, \"mode\": \"lines\", \"text\": [\"<b>2</b>\"], \"type\": \"scatter\", \"x\": [0.3503438466787676, 0.076044024846554, null], \"y\": [-0.2042185469656828, -0.2285230196945629, null]}, {\"hoverinfo\": \"text\", \"line\": {\"color\": \"peru\", \"width\": 0.2503613270745032}, \"mode\": \"lines\", \"text\": [\"<b>1</b>\"], \"type\": \"scatter\", \"x\": [0.3503438466787676, -0.0264655059238801, null], \"y\": [-0.2042185469656828, -0.06257900558246596, null]}, {\"hoverinfo\": \"text\", \"line\": {\"color\": \"peru\", \"width\": 0.2503675221835978}, \"mode\": \"lines\", \"text\": [\"<b>750</b>\"], \"type\": \"scatter\", \"x\": [-0.06126495757639816, 0.037794014098991364, null], \"y\": [-0.15295407143200532, 0.12434741897055317, null]}, {\"hoverinfo\": \"text\", \"line\": {\"color\": \"peru\", \"width\": 0.2508180219361152}, \"mode\": \"lines\", \"text\": [\"<b>419</b>\"], \"type\": \"scatter\", \"x\": [-0.06126495757639816, -0.008620714316374366, null], \"y\": [-0.15295407143200532, -0.2384014836653278, null]}, {\"hoverinfo\": \"text\", \"line\": {\"color\": \"peru\", \"width\": 0.25165399495602736}, \"mode\": \"lines\", \"text\": [\"<b>179</b>\"], \"type\": \"scatter\", \"x\": [-0.06126495757639816, 0.0021476759594681615, null], \"y\": [-0.15295407143200532, -0.14325253494920223, null]}, {\"hoverinfo\": \"text\", \"line\": {\"color\": \"peru\", \"width\": 0.2503323815185275}, \"mode\": \"lines\", \"text\": [\"<b>69</b>\"], \"type\": \"scatter\", \"x\": [-0.06126495757639816, -0.0264655059238801, null], \"y\": [-0.15295407143200532, -0.06257900558246596, null]}, {\"hoverinfo\": \"text\", \"line\": {\"color\": \"peru\", \"width\": 0.2505141937701456}, \"mode\": \"lines\", \"text\": [\"<b>46</b>\"], \"type\": \"scatter\", \"x\": [-0.06126495757639816, 0.03097250257589602, null], \"y\": [-0.15295407143200532, -0.02726580821300639, null]}, {\"hoverinfo\": \"text\", \"line\": {\"color\": \"peru\", \"width\": 0.2506350371615284}, \"mode\": \"lines\", \"text\": [\"<b>20</b>\"], \"type\": \"scatter\", \"x\": [-0.06126495757639816, -0.17466140068503105, null], \"y\": [-0.15295407143200532, -0.008713263447703267, null]}, {\"hoverinfo\": \"text\", \"line\": {\"color\": \"peru\", \"width\": 0.25027784950056053}, \"mode\": \"lines\", \"text\": [\"<b>16</b>\"], \"type\": \"scatter\", \"x\": [-0.06126495757639816, -0.03799795302862708, null], \"y\": [-0.15295407143200532, -0.10046936690130284, null]}, {\"hoverinfo\": \"text\", \"line\": {\"color\": \"peru\", \"width\": 0.250593121951525}, \"mode\": \"lines\", \"text\": [\"<b>14</b>\"], \"type\": \"scatter\", \"x\": [-0.06126495757639816, 0.037112341418509734, null], \"y\": [-0.15295407143200532, -0.06476133803077848, null]}, {\"hoverinfo\": \"text\", \"line\": {\"color\": \"peru\", \"width\": 0.25011733590270213}, \"mode\": \"lines\", \"text\": [\"<b>6</b>\"], \"type\": \"scatter\", \"x\": [-0.06126495757639816, -0.1565613973253825, null], \"y\": [-0.15295407143200532, -0.04805573240281369, null]}, {\"hoverinfo\": \"text\", \"line\": {\"color\": \"peru\", \"width\": 0.25017727801758916}, \"mode\": \"lines\", \"text\": [\"<b>5</b>\"], \"type\": \"scatter\", \"x\": [-0.06126495757639816, 0.03914642094439085, null], \"y\": [-0.15295407143200532, -0.16815542693602434, null]}, {\"hoverinfo\": \"text\", \"line\": {\"color\": \"peru\", \"width\": 0.25094748857381743}, \"mode\": \"lines\", \"text\": [\"<b>5</b>\"], \"type\": \"scatter\", \"x\": [-0.06126495757639816, -0.06926016718356055, null], \"y\": [-0.15295407143200532, -0.30758311375772085, null]}, {\"hoverinfo\": \"text\", \"line\": {\"color\": \"peru\", \"width\": 0.2500728287059736}, \"mode\": \"lines\", \"text\": [\"<b>5</b>\"], \"type\": \"scatter\", \"x\": [-0.06126495757639816, -0.11708530833598096, null], \"y\": [-0.15295407143200532, -0.14061218669955314, null]}, {\"hoverinfo\": \"text\", \"line\": {\"color\": \"peru\", \"width\": 0.25053964390232353}, \"mode\": \"lines\", \"text\": [\"<b>5</b>\"], \"type\": \"scatter\", \"x\": [-0.06126495757639816, -0.15914794116645503, null], \"y\": [-0.15295407143200532, -0.1121283159934214, null]}, {\"hoverinfo\": \"text\", \"line\": {\"color\": \"peru\", \"width\": 0.2509349903145894}, \"mode\": \"lines\", \"text\": [\"<b>4</b>\"], \"type\": \"scatter\", \"x\": [-0.06126495757639816, 0.1782997712493181, null], \"y\": [-0.15295407143200532, -0.1274569078232588, null]}, {\"hoverinfo\": \"text\", \"line\": {\"color\": \"peru\", \"width\": 0.25114400169753676}, \"mode\": \"lines\", \"text\": [\"<b>4</b>\"], \"type\": \"scatter\", \"x\": [-0.06126495757639816, -0.23436239491697763, null], \"y\": [-0.15295407143200532, 0.02962341723103683, null]}, {\"hoverinfo\": \"text\", \"line\": {\"color\": \"peru\", \"width\": 0.25053663394323866}, \"mode\": \"lines\", \"text\": [\"<b>3</b>\"], \"type\": \"scatter\", \"x\": [-0.06126495757639816, 0.026589664548724874, null], \"y\": [-0.15295407143200532, -0.30952614571382137, null]}, {\"hoverinfo\": \"text\", \"line\": {\"color\": \"peru\", \"width\": 0.25006363326773257}, \"mode\": \"lines\", \"text\": [\"<b>3</b>\"], \"type\": \"scatter\", \"x\": [-0.06126495757639816, -0.034520369679783496, null], \"y\": [-0.15295407143200532, -0.20641756411669696, null]}, {\"hoverinfo\": \"text\", \"line\": {\"color\": \"peru\", \"width\": 0.2501977675863552}, \"mode\": \"lines\", \"text\": [\"<b>3</b>\"], \"type\": \"scatter\", \"x\": [-0.06126495757639816, -0.11764096428606644, null], \"y\": [-0.15295407143200532, 0.018569149606881274, null]}, {\"hoverinfo\": \"text\", \"line\": {\"color\": \"peru\", \"width\": 0.2507439147498664}, \"mode\": \"lines\", \"text\": [\"<b>3</b>\"], \"type\": \"scatter\", \"x\": [-0.06126495757639816, -0.20084994632269787, null], \"y\": [-0.15295407143200532, -0.19226855649186103, null]}, {\"hoverinfo\": \"text\", \"line\": {\"color\": \"peru\", \"width\": 0.2503258771321274}, \"mode\": \"lines\", \"text\": [\"<b>2</b>\"], \"type\": \"scatter\", \"x\": [-0.06126495757639816, -0.21382146535799829, null], \"y\": [-0.15295407143200532, -0.0743844082798468, null]}, {\"hoverinfo\": \"text\", \"line\": {\"color\": \"peru\", \"width\": 0.2503418789521809}, \"mode\": \"lines\", \"text\": [\"<b>2</b>\"], \"type\": \"scatter\", \"x\": [-0.06126495757639816, -0.13847531594110257, null], \"y\": [-0.15295407143200532, -0.18547852485274133, null]}, {\"hoverinfo\": \"text\", \"line\": {\"color\": \"peru\", \"width\": 0.25424736527359953}, \"mode\": \"lines\", \"text\": [\"<b>2</b>\"], \"type\": \"scatter\", \"x\": [-0.06126495757639816, -0.1360693385956396, null], \"y\": [-0.15295407143200532, 0.14614193275385035, null]}, {\"hoverinfo\": \"text\", \"line\": {\"color\": \"peru\", \"width\": 0.2500742565453899}, \"mode\": \"lines\", \"text\": [\"<b>2</b>\"], \"type\": \"scatter\", \"x\": [-0.06126495757639816, -0.009709271081250317, null], \"y\": [-0.15295407143200532, 0.0046491559004002, null]}, {\"hoverinfo\": \"text\", \"line\": {\"color\": \"peru\", \"width\": 0.2510910856260215}, \"mode\": \"lines\", \"text\": [\"<b>1</b>\"], \"type\": \"scatter\", \"x\": [-0.06126495757639816, 0.18890539387121066, null], \"y\": [-0.15295407143200532, -0.25721437611247694, null]}, {\"hoverinfo\": \"text\", \"line\": {\"color\": \"peru\", \"width\": 0.2501485723827843}, \"mode\": \"lines\", \"text\": [\"<b>1</b>\"], \"type\": \"scatter\", \"x\": [-0.06126495757639816, 0.08602385684170852, null], \"y\": [-0.15295407143200532, -0.09889936429271984, null]}, {\"hoverinfo\": \"text\", \"line\": {\"color\": \"peru\", \"width\": 0.25031655700435496}, \"mode\": \"lines\", \"text\": [\"<b>1</b>\"], \"type\": \"scatter\", \"x\": [-0.06126495757639816, 0.076044024846554, null], \"y\": [-0.15295407143200532, -0.2285230196945629, null]}, {\"hoverinfo\": \"text\", \"line\": {\"color\": \"peru\", \"width\": 0.25060378851849335}, \"mode\": \"lines\", \"text\": [\"<b>1</b>\"], \"type\": \"scatter\", \"x\": [-0.06126495757639816, 0.12380093032622776, null], \"y\": [-0.15295407143200532, 0.055414571222401655, null]}, {\"hoverinfo\": \"text\", \"line\": {\"color\": \"peru\", \"width\": 0.250514482872093}, \"mode\": \"lines\", \"text\": [\"<b>1</b>\"], \"type\": \"scatter\", \"x\": [-0.06126495757639816, -0.3216013916991431, null], \"y\": [-0.15295407143200532, -0.10395182662034332, null]}, {\"hoverinfo\": \"text\", \"line\": {\"color\": \"peru\", \"width\": 0.2501323144588183}, \"mode\": \"lines\", \"text\": [\"<b>1</b>\"], \"type\": \"scatter\", \"x\": [-0.06126495757639816, -0.060870871982170276, null], \"y\": [-0.15295407143200532, 0.05847561375370165, null]}, {\"hoverinfo\": \"text\", \"line\": {\"color\": \"peru\", \"width\": 0.2567203704174408}, \"mode\": \"lines\", \"text\": [\"<b>1</b>\"], \"type\": \"scatter\", \"x\": [-0.06126495757639816, 0.26434180886269315, null], \"y\": [-0.15295407143200532, -0.1966470007508575, null]}, {\"hoverinfo\": \"text\", \"line\": {\"color\": \"peru\", \"width\": 0.25005299430062605}, \"mode\": \"lines\", \"text\": [\"<b>1</b>\"], \"type\": \"scatter\", \"x\": [-0.06126495757639816, -0.13921754181663373, null], \"y\": [-0.15295407143200532, -0.2230008879936063, null]}, {\"hoverinfo\": \"text\", \"line\": {\"color\": \"peru\", \"width\": 0.2505855249161469}, \"mode\": \"lines\", \"text\": [\"<b>1</b>\"], \"type\": \"scatter\", \"x\": [-0.06126495757639816, -0.014496133191631221, null], \"y\": [-0.15295407143200532, 0.14458655088238995, null]}, {\"hoverinfo\": \"text\", \"line\": {\"color\": \"peru\", \"width\": 0.25068384976259667}, \"mode\": \"lines\", \"text\": [\"<b>1</b>\"], \"type\": \"scatter\", \"x\": [-0.06126495757639816, -0.28703581271306317, null], \"y\": [-0.15295407143200532, -0.2371482169447177, null]}, {\"hoverinfo\": \"text\", \"line\": {\"color\": \"peru\", \"width\": 0.2500763102825148}, \"mode\": \"lines\", \"text\": [\"<b>1</b>\"], \"type\": \"scatter\", \"x\": [-0.06126495757639816, 0.1383800971725734, null], \"y\": [-0.15295407143200532, -0.017831327287119475, null]}, {\"hoverinfo\": \"text\", \"line\": {\"color\": \"peru\", \"width\": 0.2504465725502858}, \"mode\": \"lines\", \"text\": [\"<b>1621</b>\"], \"type\": \"scatter\", \"x\": [-0.17466140068503105, 0.037794014098991364, null], \"y\": [-0.008713263447703267, 0.12434741897055317, null]}, {\"hoverinfo\": \"text\", \"line\": {\"color\": \"peru\", \"width\": 0.254528931311638}, \"mode\": \"lines\", \"text\": [\"<b>257</b>\"], \"type\": \"scatter\", \"x\": [-0.17466140068503105, -0.17466140068503105, null], \"y\": [-0.008713263447703267, -0.008713263447703267, null]}, {\"hoverinfo\": \"text\", \"line\": {\"color\": \"peru\", \"width\": 0.2505987080222815}, \"mode\": \"lines\", \"text\": [\"<b>202</b>\"], \"type\": \"scatter\", \"x\": [-0.17466140068503105, -0.0264655059238801, null], \"y\": [-0.008713263447703267, -0.06257900558246596, null]}, {\"hoverinfo\": \"text\", \"line\": {\"color\": \"peru\", \"width\": 0.25024536086617655}, \"mode\": \"lines\", \"text\": [\"<b>192</b>\"], \"type\": \"scatter\", \"x\": [-0.17466140068503105, -0.008620714316374366, null], \"y\": [-0.008713263447703267, -0.2384014836653278, null]}, {\"hoverinfo\": \"text\", \"line\": {\"color\": \"peru\", \"width\": 0.25100490810331466}, \"mode\": \"lines\", \"text\": [\"<b>103</b>\"], \"type\": \"scatter\", \"x\": [-0.17466140068503105, -0.03799795302862708, null], \"y\": [-0.008713263447703267, -0.10046936690130284, null]}, {\"hoverinfo\": \"text\", \"line\": {\"color\": \"peru\", \"width\": 0.25054701325795503}, \"mode\": \"lines\", \"text\": [\"<b>94</b>\"], \"type\": \"scatter\", \"x\": [-0.17466140068503105, 0.0021476759594681615, null], \"y\": [-0.008713263447703267, -0.14325253494920223, null]}, {\"hoverinfo\": \"text\", \"line\": {\"color\": \"peru\", \"width\": 0.25213160467313583}, \"mode\": \"lines\", \"text\": [\"<b>94</b>\"], \"type\": \"scatter\", \"x\": [-0.17466140068503105, 0.037112341418509734, null], \"y\": [-0.008713263447703267, -0.06476133803077848, null]}, {\"hoverinfo\": \"text\", \"line\": {\"color\": \"peru\", \"width\": 0.25045140951391354}, \"mode\": \"lines\", \"text\": [\"<b>68</b>\"], \"type\": \"scatter\", \"x\": [-0.17466140068503105, 0.03097250257589602, null], \"y\": [-0.008713263447703267, -0.02726580821300639, null]}, {\"hoverinfo\": \"text\", \"line\": {\"color\": \"peru\", \"width\": 0.25036622602011505}, \"mode\": \"lines\", \"text\": [\"<b>44</b>\"], \"type\": \"scatter\", \"x\": [-0.17466140068503105, -0.1565613973253825, null], \"y\": [-0.008713263447703267, -0.04805573240281369, null]}, {\"hoverinfo\": \"text\", \"line\": {\"color\": \"peru\", \"width\": 0.2504155201431199}, \"mode\": \"lines\", \"text\": [\"<b>19</b>\"], \"type\": \"scatter\", \"x\": [-0.17466140068503105, -0.009709271081250317, null], \"y\": [-0.008713263447703267, 0.0046491559004002, null]}, {\"hoverinfo\": \"text\", \"line\": {\"color\": \"peru\", \"width\": 0.25036206217433205}, \"mode\": \"lines\", \"text\": [\"<b>18</b>\"], \"type\": \"scatter\", \"x\": [-0.17466140068503105, 0.03914642094439085, null], \"y\": [-0.008713263447703267, -0.16815542693602434, null]}, {\"hoverinfo\": \"text\", \"line\": {\"color\": \"peru\", \"width\": 0.25087232383755054}, \"mode\": \"lines\", \"text\": [\"<b>17</b>\"], \"type\": \"scatter\", \"x\": [-0.17466140068503105, -0.15914794116645503, null], \"y\": [-0.008713263447703267, -0.1121283159934214, null]}, {\"hoverinfo\": \"text\", \"line\": {\"color\": \"peru\", \"width\": 0.25237609120153065}, \"mode\": \"lines\", \"text\": [\"<b>16</b>\"], \"type\": \"scatter\", \"x\": [-0.17466140068503105, 0.076044024846554, null], \"y\": [-0.008713263447703267, -0.2285230196945629, null]}, {\"hoverinfo\": \"text\", \"line\": {\"color\": \"peru\", \"width\": 0.25052009977715806}, \"mode\": \"lines\", \"text\": [\"<b>16</b>\"], \"type\": \"scatter\", \"x\": [-0.17466140068503105, -0.13921754181663373, null], \"y\": [-0.008713263447703267, -0.2230008879936063, null]}, {\"hoverinfo\": \"text\", \"line\": {\"color\": \"peru\", \"width\": 0.25011218560830745}, \"mode\": \"lines\", \"text\": [\"<b>12</b>\"], \"type\": \"scatter\", \"x\": [-0.17466140068503105, -0.11708530833598096, null], \"y\": [-0.008713263447703267, -0.14061218669955314, null]}, {\"hoverinfo\": \"text\", \"line\": {\"color\": \"peru\", \"width\": 0.2504435177890067}, \"mode\": \"lines\", \"text\": [\"<b>11</b>\"], \"type\": \"scatter\", \"x\": [-0.17466140068503105, 0.1383800971725734, null], \"y\": [-0.008713263447703267, -0.017831327287119475, null]}, {\"hoverinfo\": \"text\", \"line\": {\"color\": \"peru\", \"width\": 0.25086569215798277}, \"mode\": \"lines\", \"text\": [\"<b>11</b>\"], \"type\": \"scatter\", \"x\": [-0.17466140068503105, -0.13847531594110257, null], \"y\": [-0.008713263447703267, -0.18547852485274133, null]}, {\"hoverinfo\": \"text\", \"line\": {\"color\": \"peru\", \"width\": 0.2508341927728205}, \"mode\": \"lines\", \"text\": [\"<b>10</b>\"], \"type\": \"scatter\", \"x\": [-0.17466140068503105, -0.21382146535799829, null], \"y\": [-0.008713263447703267, -0.0743844082798468, null]}, {\"hoverinfo\": \"text\", \"line\": {\"color\": \"peru\", \"width\": 0.2501254799144956}, \"mode\": \"lines\", \"text\": [\"<b>9</b>\"], \"type\": \"scatter\", \"x\": [-0.17466140068503105, -0.034520369679783496, null], \"y\": [-0.008713263447703267, -0.20641756411669696, null]}, {\"hoverinfo\": \"text\", \"line\": {\"color\": \"peru\", \"width\": 0.25328935837874583}, \"mode\": \"lines\", \"text\": [\"<b>9</b>\"], \"type\": \"scatter\", \"x\": [-0.17466140068503105, -0.28703581271306317, null], \"y\": [-0.008713263447703267, -0.2371482169447177, null]}, {\"hoverinfo\": \"text\", \"line\": {\"color\": \"peru\", \"width\": 0.2515567926280841}, \"mode\": \"lines\", \"text\": [\"<b>9</b>\"], \"type\": \"scatter\", \"x\": [-0.17466140068503105, -0.23436239491697763, null], \"y\": [-0.008713263447703267, 0.02962341723103683, null]}, {\"hoverinfo\": \"text\", \"line\": {\"color\": \"peru\", \"width\": 0.2507741055888044}, \"mode\": \"lines\", \"text\": [\"<b>8</b>\"], \"type\": \"scatter\", \"x\": [-0.17466140068503105, -0.17699050553477794, null], \"y\": [-0.008713263447703267, 0.08436261288959324, null]}, {\"hoverinfo\": \"text\", \"line\": {\"color\": \"peru\", \"width\": 0.25049777623210306}, \"mode\": \"lines\", \"text\": [\"<b>7</b>\"], \"type\": \"scatter\", \"x\": [-0.17466140068503105, -0.060870871982170276, null], \"y\": [-0.008713263447703267, 0.05847561375370165, null]}, {\"hoverinfo\": \"text\", \"line\": {\"color\": \"peru\", \"width\": 0.2504047924335412}, \"mode\": \"lines\", \"text\": [\"<b>5</b>\"], \"type\": \"scatter\", \"x\": [-0.17466140068503105, 0.08602385684170852, null], \"y\": [-0.008713263447703267, -0.09889936429271984, null]}, {\"hoverinfo\": \"text\", \"line\": {\"color\": \"peru\", \"width\": 0.25020481528685035}, \"mode\": \"lines\", \"text\": [\"<b>5</b>\"], \"type\": \"scatter\", \"x\": [-0.17466140068503105, -0.11764096428606644, null], \"y\": [-0.008713263447703267, 0.018569149606881274, null]}, {\"hoverinfo\": \"text\", \"line\": {\"color\": \"peru\", \"width\": 0.4439854391301469}, \"mode\": \"lines\", \"text\": [\"<b>5</b>\"], \"type\": \"scatter\", \"x\": [-0.17466140068503105, -0.870476139107894, null], \"y\": [-0.008713263447703267, 0.05021963589959825, null]}, {\"hoverinfo\": \"text\", \"line\": {\"color\": \"peru\", \"width\": 0.2507529267304642}, \"mode\": \"lines\", \"text\": [\"<b>5</b>\"], \"type\": \"scatter\", \"x\": [-0.17466140068503105, 0.1782997712493181, null], \"y\": [-0.008713263447703267, -0.1274569078232588, null]}, {\"hoverinfo\": \"text\", \"line\": {\"color\": \"peru\", \"width\": 0.2517989806905452}, \"mode\": \"lines\", \"text\": [\"<b>4</b>\"], \"type\": \"scatter\", \"x\": [-0.17466140068503105, 0.225258502357332, null], \"y\": [-0.008713263447703267, -0.04718966706519001, null]}, {\"hoverinfo\": \"text\", \"line\": {\"color\": \"peru\", \"width\": 0.2511880500931713}, \"mode\": \"lines\", \"text\": [\"<b>4</b>\"], \"type\": \"scatter\", \"x\": [-0.17466140068503105, -0.014496133191631221, null], \"y\": [-0.008713263447703267, 0.14458655088238995, null]}, {\"hoverinfo\": \"text\", \"line\": {\"color\": \"peru\", \"width\": 0.250405913425567}, \"mode\": \"lines\", \"text\": [\"<b>4</b>\"], \"type\": \"scatter\", \"x\": [-0.17466140068503105, 0.026589664548724874, null], \"y\": [-0.008713263447703267, -0.30952614571382137, null]}, {\"hoverinfo\": \"text\", \"line\": {\"color\": \"peru\", \"width\": 0.25194499274259197}, \"mode\": \"lines\", \"text\": [\"<b>3</b>\"], \"type\": \"scatter\", \"x\": [-0.17466140068503105, 0.18890539387121066, null], \"y\": [-0.008713263447703267, -0.25721437611247694, null]}, {\"hoverinfo\": \"text\", \"line\": {\"color\": \"peru\", \"width\": 0.2504371056439013}, \"mode\": \"lines\", \"text\": [\"<b>3</b>\"], \"type\": \"scatter\", \"x\": [-0.17466140068503105, -0.20084994632269787, null], \"y\": [-0.008713263447703267, -0.19226855649186103, null]}, {\"hoverinfo\": \"text\", \"line\": {\"color\": \"peru\", \"width\": 0.2503308018363547}, \"mode\": \"lines\", \"text\": [\"<b>3</b>\"], \"type\": \"scatter\", \"x\": [-0.17466140068503105, -0.06926016718356055, null], \"y\": [-0.008713263447703267, -0.30758311375772085, null]}, {\"hoverinfo\": \"text\", \"line\": {\"color\": \"peru\", \"width\": 0.25072058503578637}, \"mode\": \"lines\", \"text\": [\"<b>1</b>\"], \"type\": \"scatter\", \"x\": [-0.17466140068503105, -0.15761049738613608, null], \"y\": [-0.008713263447703267, -0.3150798978482202, null]}, {\"hoverinfo\": \"text\", \"line\": {\"color\": \"peru\", \"width\": 0.25390820092341854}, \"mode\": \"lines\", \"text\": [\"<b>1</b>\"], \"type\": \"scatter\", \"x\": [-0.17466140068503105, -0.45566646999102844, null], \"y\": [-0.008713263447703267, -0.3086962806174099, null]}, {\"hoverinfo\": \"text\", \"line\": {\"color\": \"peru\", \"width\": 0.25418153584376774}, \"mode\": \"lines\", \"text\": [\"<b>1</b>\"], \"type\": \"scatter\", \"x\": [-0.17466140068503105, 0.26434180886269315, null], \"y\": [-0.008713263447703267, -0.1966470007508575, null]}, {\"hoverinfo\": \"text\", \"line\": {\"color\": \"peru\", \"width\": 0.2599890938040017}, \"mode\": \"lines\", \"text\": [\"<b>1</b>\"], \"type\": \"scatter\", \"x\": [-0.17466140068503105, 0.30041709745930495, null], \"y\": [-0.008713263447703267, 0.3296958791155544, null]}, {\"hoverinfo\": \"text\", \"line\": {\"color\": \"peru\", \"width\": 0.25250661543082953}, \"mode\": \"lines\", \"text\": [\"<b>1</b>\"], \"type\": \"scatter\", \"x\": [-0.17466140068503105, -0.4907078785290733, null], \"y\": [-0.008713263447703267, -0.10678684678237646, null]}, {\"hoverinfo\": \"text\", \"line\": {\"color\": \"peru\", \"width\": 0.2641458938621897}, \"mode\": \"lines\", \"text\": [\"<b>1</b>\"], \"type\": \"scatter\", \"x\": [-0.17466140068503105, -0.49909233227621014, null], \"y\": [-0.008713263447703267, 0.4580884985480045, null]}, {\"hoverinfo\": \"text\", \"line\": {\"color\": \"peru\", \"width\": 0.250356251695984}, \"mode\": \"lines\", \"text\": [\"<b>1</b>\"], \"type\": \"scatter\", \"x\": [-0.17466140068503105, 0.12380093032622776, null], \"y\": [-0.008713263447703267, 0.055414571222401655, null]}, {\"hoverinfo\": \"text\", \"line\": {\"color\": \"peru\", \"width\": 0.25233445765003365}, \"mode\": \"lines\", \"text\": [\"<b>1</b>\"], \"type\": \"scatter\", \"x\": [-0.17466140068503105, 0.14140656101499638, null], \"y\": [-0.008713263447703267, 0.1534315269562114, null]}, {\"hoverinfo\": \"text\", \"line\": {\"color\": \"peru\", \"width\": 0.25106351974719165}, \"mode\": \"lines\", \"text\": [\"<b>11</b>\"], \"type\": \"scatter\", \"x\": [0.5841165607900559, 0.037794014098991364, null], \"y\": [0.09611893168005317, 0.12434741897055317, null]}, {\"hoverinfo\": \"text\", \"line\": {\"color\": \"peru\", \"width\": 0.2607395594612555}, \"mode\": \"lines\", \"text\": [\"<b>1</b>\"], \"type\": \"scatter\", \"x\": [0.5841165607900559, 0.1383800971725734, null], \"y\": [0.09611893168005317, -0.017831327287119475, null]}, {\"hoverinfo\": \"text\", \"line\": {\"color\": \"peru\", \"width\": 0.2533684143428795}, \"mode\": \"lines\", \"text\": [\"<b>1</b>\"], \"type\": \"scatter\", \"x\": [0.5841165607900559, 0.03097250257589602, null], \"y\": [0.09611893168005317, -0.02726580821300639, null]}, {\"hoverinfo\": \"text\", \"line\": {\"color\": \"peru\", \"width\": 0.2504204324698329}, \"mode\": \"lines\", \"text\": [\"<b>73</b>\"], \"type\": \"scatter\", \"x\": [-0.28703581271306317, 0.037794014098991364, null], \"y\": [-0.2371482169447177, 0.12434741897055317, null]}, {\"hoverinfo\": \"text\", \"line\": {\"color\": \"peru\", \"width\": 0.36308994814566065}, \"mode\": \"lines\", \"text\": [\"<b>62</b>\"], \"type\": \"scatter\", \"x\": [-0.28703581271306317, -0.21382146535799829, null], \"y\": [-0.2371482169447177, -0.0743844082798468, null]}, {\"hoverinfo\": \"text\", \"line\": {\"color\": \"peru\", \"width\": 0.2531548304625179}, \"mode\": \"lines\", \"text\": [\"<b>20</b>\"], \"type\": \"scatter\", \"x\": [-0.28703581271306317, -0.1565613973253825, null], \"y\": [-0.2371482169447177, -0.04805573240281369, null]}, {\"hoverinfo\": \"text\", \"line\": {\"color\": \"peru\", \"width\": 0.25096951230052505}, \"mode\": \"lines\", \"text\": [\"<b>15</b>\"], \"type\": \"scatter\", \"x\": [-0.28703581271306317, -0.0264655059238801, null], \"y\": [-0.2371482169447177, -0.06257900558246596, null]}, {\"hoverinfo\": \"text\", \"line\": {\"color\": \"peru\", \"width\": 0.25025904229464335}, \"mode\": \"lines\", \"text\": [\"<b>9</b>\"], \"type\": \"scatter\", \"x\": [-0.28703581271306317, -0.008620714316374366, null], \"y\": [-0.2371482169447177, -0.2384014836653278, null]}, {\"hoverinfo\": \"text\", \"line\": {\"color\": \"peru\", \"width\": 0.2505137480980976}, \"mode\": \"lines\", \"text\": [\"<b>4</b>\"], \"type\": \"scatter\", \"x\": [-0.28703581271306317, 0.0021476759594681615, null], \"y\": [-0.2371482169447177, -0.14325253494920223, null]}, {\"hoverinfo\": \"text\", \"line\": {\"color\": \"peru\", \"width\": 0.25056917306105814}, \"mode\": \"lines\", \"text\": [\"<b>4</b>\"], \"type\": \"scatter\", \"x\": [-0.28703581271306317, 0.03097250257589602, null], \"y\": [-0.2371482169447177, -0.02726580821300639, null]}, {\"hoverinfo\": \"text\", \"line\": {\"color\": \"peru\", \"width\": 0.30783717709273223}, \"mode\": \"lines\", \"text\": [\"<b>3</b>\"], \"type\": \"scatter\", \"x\": [-0.28703581271306317, -0.2830525026756416, null], \"y\": [-0.2371482169447177, -0.376171070009455, null]}, {\"hoverinfo\": \"text\", \"line\": {\"color\": \"peru\", \"width\": 0.26130976094642167}, \"mode\": \"lines\", \"text\": [\"<b>3</b>\"], \"type\": \"scatter\", \"x\": [-0.28703581271306317, -0.23436239491697763, null], \"y\": [-0.2371482169447177, 0.02962341723103683, null]}, {\"hoverinfo\": \"text\", \"line\": {\"color\": \"peru\", \"width\": 0.2562458650170804}, \"mode\": \"lines\", \"text\": [\"<b>2</b>\"], \"type\": \"scatter\", \"x\": [-0.28703581271306317, -0.20084994632269787, null], \"y\": [-0.2371482169447177, -0.19226855649186103, null]}, {\"hoverinfo\": \"text\", \"line\": {\"color\": \"peru\", \"width\": 0.25201233090904207}, \"mode\": \"lines\", \"text\": [\"<b>2</b>\"], \"type\": \"scatter\", \"x\": [-0.28703581271306317, -0.15914794116645503, null], \"y\": [-0.2371482169447177, -0.1121283159934214, null]}, {\"hoverinfo\": \"text\", \"line\": {\"color\": \"peru\", \"width\": 0.25020830618107404}, \"mode\": \"lines\", \"text\": [\"<b>1</b>\"], \"type\": \"scatter\", \"x\": [-0.28703581271306317, -0.11708530833598096, null], \"y\": [-0.2371482169447177, -0.14061218669955314, null]}, {\"hoverinfo\": \"text\", \"line\": {\"color\": \"peru\", \"width\": 0.25020372108800576}, \"mode\": \"lines\", \"text\": [\"<b>1</b>\"], \"type\": \"scatter\", \"x\": [-0.28703581271306317, -0.03799795302862708, null], \"y\": [-0.2371482169447177, -0.10046936690130284, null]}, {\"hoverinfo\": \"text\", \"line\": {\"color\": \"peru\", \"width\": 0.25234562051816756}, \"mode\": \"lines\", \"text\": [\"<b>1</b>\"], \"type\": \"scatter\", \"x\": [-0.28703581271306317, -0.06926016718356055, null], \"y\": [-0.2371482169447177, -0.30758311375772085, null]}, {\"hoverinfo\": \"text\", \"line\": {\"color\": \"peru\", \"width\": 0.25046350472288387}, \"mode\": \"lines\", \"text\": [\"<b>1</b>\"], \"type\": \"scatter\", \"x\": [-0.28703581271306317, 0.037112341418509734, null], \"y\": [-0.2371482169447177, -0.06476133803077848, null]}, {\"hoverinfo\": \"text\", \"line\": {\"color\": \"peru\", \"width\": 0.25044409603074086}, \"mode\": \"lines\", \"text\": [\"<b>33</b>\"], \"type\": \"scatter\", \"x\": [-0.1360693385956396, 0.037794014098991364, null], \"y\": [0.14614193275385035, 0.12434741897055317, null]}, {\"hoverinfo\": \"text\", \"line\": {\"color\": \"peru\", \"width\": 0.2573657921180443}, \"mode\": \"lines\", \"text\": [\"<b>7</b>\"], \"type\": \"scatter\", \"x\": [-0.1360693385956396, -0.11708530833598096, null], \"y\": [0.14614193275385035, -0.14061218669955314, null]}, {\"hoverinfo\": \"text\", \"line\": {\"color\": \"peru\", \"width\": 0.2509072623388163}, \"mode\": \"lines\", \"text\": [\"<b>5</b>\"], \"type\": \"scatter\", \"x\": [-0.1360693385956396, -0.008620714316374366, null], \"y\": [0.14614193275385035, -0.2384014836653278, null]}, {\"hoverinfo\": \"text\", \"line\": {\"color\": \"peru\", \"width\": 0.2504135807157211}, \"mode\": \"lines\", \"text\": [\"<b>2</b>\"], \"type\": \"scatter\", \"x\": [-0.1360693385956396, -0.1565613973253825, null], \"y\": [0.14614193275385035, -0.04805573240281369, null]}, {\"hoverinfo\": \"text\", \"line\": {\"color\": \"peru\", \"width\": 0.25046304729909263}, \"mode\": \"lines\", \"text\": [\"<b>2</b>\"], \"type\": \"scatter\", \"x\": [-0.1360693385956396, -0.0264655059238801, null], \"y\": [0.14614193275385035, -0.06257900558246596, null]}, {\"hoverinfo\": \"text\", \"line\": {\"color\": \"peru\", \"width\": 0.2513179433796937}, \"mode\": \"lines\", \"text\": [\"<b>1</b>\"], \"type\": \"scatter\", \"x\": [-0.1360693385956396, -0.009709271081250317, null], \"y\": [0.14614193275385035, 0.0046491559004002, null]}, {\"hoverinfo\": \"text\", \"line\": {\"color\": \"peru\", \"width\": 0.25101969211832637}, \"mode\": \"lines\", \"text\": [\"<b>1</b>\"], \"type\": \"scatter\", \"x\": [-0.1360693385956396, 0.03914642094439085, null], \"y\": [0.14614193275385035, -0.16815542693602434, null]}, {\"hoverinfo\": \"text\", \"line\": {\"color\": \"peru\", \"width\": 0.2504740827645767}, \"mode\": \"lines\", \"text\": [\"<b>1</b>\"], \"type\": \"scatter\", \"x\": [-0.1360693385956396, -0.03799795302862708, null], \"y\": [0.14614193275385035, -0.10046936690130284, null]}, {\"hoverinfo\": \"text\", \"line\": {\"color\": \"peru\", \"width\": 0.2505492429985657}, \"mode\": \"lines\", \"text\": [\"<b>1</b>\"], \"type\": \"scatter\", \"x\": [-0.1360693385956396, 0.0021476759594681615, null], \"y\": [0.14614193275385035, -0.14325253494920223, null]}, {\"hoverinfo\": \"text\", \"line\": {\"color\": \"peru\", \"width\": 0.3588711826272366}, \"mode\": \"lines\", \"text\": [\"<b>1</b>\"], \"type\": \"scatter\", \"x\": [-0.1360693385956396, 0.12187876408755381, null], \"y\": [0.14614193275385035, 0.40402596435716875, null]}, {\"hoverinfo\": \"text\", \"line\": {\"color\": \"peru\", \"width\": 0.25155370454541115}, \"mode\": \"lines\", \"text\": [\"<b>1</b>\"], \"type\": \"scatter\", \"x\": [-0.1360693385956396, -0.15914794116645503, null], \"y\": [0.14614193275385035, -0.1121283159934214, null]}, {\"hoverinfo\": \"text\", \"line\": {\"color\": \"peru\", \"width\": 0.2589681287862938}, \"mode\": \"lines\", \"text\": [\"<b>1</b>\"], \"type\": \"scatter\", \"x\": [-0.1360693385956396, -0.17699050553477794, null], \"y\": [0.14614193275385035, 0.08436261288959324, null]}, {\"hoverinfo\": \"text\", \"line\": {\"color\": \"peru\", \"width\": 0.25223625724946885}, \"mode\": \"lines\", \"text\": [\"<b>1</b>\"], \"type\": \"scatter\", \"x\": [-0.1360693385956396, -0.13847531594110257, null], \"y\": [0.14614193275385035, -0.18547852485274133, null]}, {\"hoverinfo\": \"text\", \"line\": {\"color\": \"peru\", \"width\": 0.25092586563499336}, \"mode\": \"lines\", \"text\": [\"<b>1</b>\"], \"type\": \"scatter\", \"x\": [-0.1360693385956396, 0.037112341418509734, null], \"y\": [0.14614193275385035, -0.06476133803077848, null]}, {\"hoverinfo\": \"text\", \"line\": {\"color\": \"peru\", \"width\": 0.25353155416983175}, \"mode\": \"lines\", \"text\": [\"<b>1</b>\"], \"type\": \"scatter\", \"x\": [-0.1360693385956396, 0.08602385684170852, null], \"y\": [0.14614193275385035, -0.09889936429271984, null]}, {\"hoverinfo\": \"text\", \"line\": {\"color\": \"peru\", \"width\": 0.2502215322407185}, \"mode\": \"lines\", \"text\": [\"<b>1</b>\"], \"type\": \"scatter\", \"x\": [-0.49909233227621014, 0.037794014098991364, null], \"y\": [0.4580884985480045, 0.12434741897055317, null]}, {\"hoverinfo\": \"text\", \"line\": {\"color\": \"peru\", \"width\": 0.2505194197498775}, \"mode\": \"lines\", \"text\": [\"<b>628</b>\"], \"type\": \"scatter\", \"x\": [-0.15914794116645503, 0.037794014098991364, null], \"y\": [-0.1121283159934214, 0.12434741897055317, null]}, {\"hoverinfo\": \"text\", \"line\": {\"color\": \"peru\", \"width\": 0.2506832630342498}, \"mode\": \"lines\", \"text\": [\"<b>127</b>\"], \"type\": \"scatter\", \"x\": [-0.15914794116645503, -0.008620714316374366, null], \"y\": [-0.1121283159934214, -0.2384014836653278, null]}, {\"hoverinfo\": \"text\", \"line\": {\"color\": \"peru\", \"width\": 0.25065976293110687}, \"mode\": \"lines\", \"text\": [\"<b>62</b>\"], \"type\": \"scatter\", \"x\": [-0.15914794116645503, -0.0264655059238801, null], \"y\": [-0.1121283159934214, -0.06257900558246596, null]}, {\"hoverinfo\": \"text\", \"line\": {\"color\": \"peru\", \"width\": 0.2505622552445448}, \"mode\": \"lines\", \"text\": [\"<b>32</b>\"], \"type\": \"scatter\", \"x\": [-0.15914794116645503, -0.1565613973253825, null], \"y\": [-0.1121283159934214, -0.04805573240281369, null]}, {\"hoverinfo\": \"text\", \"line\": {\"color\": \"peru\", \"width\": 0.25068516068983954}, \"mode\": \"lines\", \"text\": [\"<b>31</b>\"], \"type\": \"scatter\", \"x\": [-0.15914794116645503, 0.03097250257589602, null], \"y\": [-0.1121283159934214, -0.02726580821300639, null]}, {\"hoverinfo\": \"text\", \"line\": {\"color\": \"peru\", \"width\": 0.25061357811527035}, \"mode\": \"lines\", \"text\": [\"<b>21</b>\"], \"type\": \"scatter\", \"x\": [-0.15914794116645503, -0.03799795302862708, null], \"y\": [-0.1121283159934214, -0.10046936690130284, null]}, {\"hoverinfo\": \"text\", \"line\": {\"color\": \"peru\", \"width\": 0.25125356776266017}, \"mode\": \"lines\", \"text\": [\"<b>20</b>\"], \"type\": \"scatter\", \"x\": [-0.15914794116645503, 0.037112341418509734, null], \"y\": [-0.1121283159934214, -0.06476133803077848, null]}, {\"hoverinfo\": \"text\", \"line\": {\"color\": \"peru\", \"width\": 0.2539102463667733}, \"mode\": \"lines\", \"text\": [\"<b>18</b>\"], \"type\": \"scatter\", \"x\": [-0.15914794116645503, -0.21382146535799829, null], \"y\": [-0.1121283159934214, -0.0743844082798468, null]}, {\"hoverinfo\": \"text\", \"line\": {\"color\": \"peru\", \"width\": 0.2503320170259109}, \"mode\": \"lines\", \"text\": [\"<b>15</b>\"], \"type\": \"scatter\", \"x\": [-0.15914794116645503, 0.0021476759594681615, null], \"y\": [-0.1121283159934214, -0.14325253494920223, null]}, {\"hoverinfo\": \"text\", \"line\": {\"color\": \"peru\", \"width\": 0.2599766635436528}, \"mode\": \"lines\", \"text\": [\"<b>13</b>\"], \"type\": \"scatter\", \"x\": [-0.15914794116645503, -0.014496133191631221, null], \"y\": [-0.1121283159934214, 0.14458655088238995, null]}, {\"hoverinfo\": \"text\", \"line\": {\"color\": \"peru\", \"width\": 0.2508766846457004}, \"mode\": \"lines\", \"text\": [\"<b>8</b>\"], \"type\": \"scatter\", \"x\": [-0.15914794116645503, 0.1383800971725734, null], \"y\": [-0.1121283159934214, -0.017831327287119475, null]}, {\"hoverinfo\": \"text\", \"line\": {\"color\": \"peru\", \"width\": 0.2518475661205085}, \"mode\": \"lines\", \"text\": [\"<b>8</b>\"], \"type\": \"scatter\", \"x\": [-0.15914794116645503, 0.08602385684170852, null], \"y\": [-0.1121283159934214, -0.09889936429271984, null]}, {\"hoverinfo\": \"text\", \"line\": {\"color\": \"peru\", \"width\": 0.2514378078695685}, \"mode\": \"lines\", \"text\": [\"<b>8</b>\"], \"type\": \"scatter\", \"x\": [-0.15914794116645503, -0.13847531594110257, null], \"y\": [-0.1121283159934214, -0.18547852485274133, null]}, {\"hoverinfo\": \"text\", \"line\": {\"color\": \"peru\", \"width\": 0.25092708854767787}, \"mode\": \"lines\", \"text\": [\"<b>8</b>\"], \"type\": \"scatter\", \"x\": [-0.15914794116645503, -0.13921754181663373, null], \"y\": [-0.1121283159934214, -0.2230008879936063, null]}, {\"hoverinfo\": \"text\", \"line\": {\"color\": \"peru\", \"width\": 0.25030672126795217}, \"mode\": \"lines\", \"text\": [\"<b>5</b>\"], \"type\": \"scatter\", \"x\": [-0.15914794116645503, 0.03914642094439085, null], \"y\": [-0.1121283159934214, -0.16815542693602434, null]}, {\"hoverinfo\": \"text\", \"line\": {\"color\": \"peru\", \"width\": 0.2517666445439205}, \"mode\": \"lines\", \"text\": [\"<b>5</b>\"], \"type\": \"scatter\", \"x\": [-0.15914794116645503, -0.06926016718356055, null], \"y\": [-0.1121283159934214, -0.30758311375772085, null]}, {\"hoverinfo\": \"text\", \"line\": {\"color\": \"peru\", \"width\": 0.25011170254392784}, \"mode\": \"lines\", \"text\": [\"<b>3</b>\"], \"type\": \"scatter\", \"x\": [-0.15914794116645503, -0.11708530833598096, null], \"y\": [-0.1121283159934214, -0.14061218669955314, null]}, {\"hoverinfo\": \"text\", \"line\": {\"color\": \"peru\", \"width\": 0.3068244460856711}, \"mode\": \"lines\", \"text\": [\"<b>3</b>\"], \"type\": \"scatter\", \"x\": [-0.15914794116645503, -0.2621886351080779, null], \"y\": [-0.1121283159934214, 0.22722651728137752, null]}, {\"hoverinfo\": \"text\", \"line\": {\"color\": \"peru\", \"width\": 0.2509503254238261}, \"mode\": \"lines\", \"text\": [\"<b>2</b>\"], \"type\": \"scatter\", \"x\": [-0.15914794116645503, -0.20084994632269787, null], \"y\": [-0.1121283159934214, -0.19226855649186103, null]}, {\"hoverinfo\": \"text\", \"line\": {\"color\": \"peru\", \"width\": 0.25593174642713523}, \"mode\": \"lines\", \"text\": [\"<b>2</b>\"], \"type\": \"scatter\", \"x\": [-0.15914794116645503, -0.2830525026756416, null], \"y\": [-0.1121283159934214, -0.376171070009455, null]}, {\"hoverinfo\": \"text\", \"line\": {\"color\": \"peru\", \"width\": 0.25191757472700355}, \"mode\": \"lines\", \"text\": [\"<b>1</b>\"], \"type\": \"scatter\", \"x\": [-0.15914794116645503, -0.15761049738613608, null], \"y\": [-0.1121283159934214, -0.3150798978482202, null]}, {\"hoverinfo\": \"text\", \"line\": {\"color\": \"peru\", \"width\": 0.25019818040605507}, \"mode\": \"lines\", \"text\": [\"<b>1</b>\"], \"type\": \"scatter\", \"x\": [-0.15914794116645503, -0.060870871982170276, null], \"y\": [-0.1121283159934214, 0.05847561375370165, null]}, {\"hoverinfo\": \"text\", \"line\": {\"color\": \"peru\", \"width\": 0.2503096093395876}, \"mode\": \"lines\", \"text\": [\"<b>1</b>\"], \"type\": \"scatter\", \"x\": [-0.15914794116645503, 0.026589664548724874, null], \"y\": [-0.1121283159934214, -0.30952614571382137, null]}, {\"hoverinfo\": \"text\", \"line\": {\"color\": \"peru\", \"width\": 0.25059722260764206}, \"mode\": \"lines\", \"text\": [\"<b>1</b>\"], \"type\": \"scatter\", \"x\": [-0.15914794116645503, -0.23436239491697763, null], \"y\": [-0.1121283159934214, 0.02962341723103683, null]}, {\"hoverinfo\": \"text\", \"line\": {\"color\": \"peru\", \"width\": 0.254674155672198}, \"mode\": \"lines\", \"text\": [\"<b>1</b>\"], \"type\": \"scatter\", \"x\": [-0.15914794116645503, 0.2384114147397721, null], \"y\": [-0.1121283159934214, -0.34719956689021464, null]}, {\"hoverinfo\": \"text\", \"line\": {\"color\": \"peru\", \"width\": 0.2546657240192905}, \"mode\": \"lines\", \"text\": [\"<b>29</b>\"], \"type\": \"scatter\", \"x\": [0.5381362796161994, 0.037794014098991364, null], \"y\": [0.1553144902997429, 0.12434741897055317, null]}, {\"hoverinfo\": \"text\", \"line\": {\"color\": \"peru\", \"width\": 0.6054956921177835}, \"mode\": \"lines\", \"text\": [\"<b>1</b>\"], \"type\": \"scatter\", \"x\": [0.5381362796161994, 0.225258502357332, null], \"y\": [0.1553144902997429, -0.04718966706519001, null]}, {\"hoverinfo\": \"text\", \"line\": {\"color\": \"peru\", \"width\": 0.38524531163282255}, \"mode\": \"lines\", \"text\": [\"<b>1</b>\"], \"type\": \"scatter\", \"x\": [0.5381362796161994, 0.1782997712493181, null], \"y\": [0.1553144902997429, -0.1274569078232588, null]}, {\"hoverinfo\": \"text\", \"line\": {\"color\": \"peru\", \"width\": 0.25131074069229004}, \"mode\": \"lines\", \"text\": [\"<b>1027</b>\"], \"type\": \"scatter\", \"x\": [-0.13847531594110257, 0.037794014098991364, null], \"y\": [-0.18547852485274133, 0.12434741897055317, null]}, {\"hoverinfo\": \"text\", \"line\": {\"color\": \"peru\", \"width\": 0.25090544978088886}, \"mode\": \"lines\", \"text\": [\"<b>53</b>\"], \"type\": \"scatter\", \"x\": [-0.13847531594110257, -0.0264655059238801, null], \"y\": [-0.18547852485274133, -0.06257900558246596, null]}, {\"hoverinfo\": \"text\", \"line\": {\"color\": \"peru\", \"width\": 0.2510455950380904}, \"mode\": \"lines\", \"text\": [\"<b>30</b>\"], \"type\": \"scatter\", \"x\": [-0.13847531594110257, 0.03097250257589602, null], \"y\": [-0.18547852485274133, -0.02726580821300639, null]}, {\"hoverinfo\": \"text\", \"line\": {\"color\": \"peru\", \"width\": 0.2506137365967324}, \"mode\": \"lines\", \"text\": [\"<b>24</b>\"], \"type\": \"scatter\", \"x\": [-0.13847531594110257, -0.1565613973253825, null], \"y\": [-0.18547852485274133, -0.04805573240281369, null]}, {\"hoverinfo\": \"text\", \"line\": {\"color\": \"peru\", \"width\": 0.2514147474382321}, \"mode\": \"lines\", \"text\": [\"<b>23</b>\"], \"type\": \"scatter\", \"x\": [-0.13847531594110257, -0.11708530833598096, null], \"y\": [-0.18547852485274133, -0.14061218669955314, null]}, {\"hoverinfo\": \"text\", \"line\": {\"color\": \"peru\", \"width\": 0.2506305146063841}, \"mode\": \"lines\", \"text\": [\"<b>14</b>\"], \"type\": \"scatter\", \"x\": [-0.13847531594110257, -0.03799795302862708, null], \"y\": [-0.18547852485274133, -0.10046936690130284, null]}, {\"hoverinfo\": \"text\", \"line\": {\"color\": \"peru\", \"width\": 0.25113958727821106}, \"mode\": \"lines\", \"text\": [\"<b>12</b>\"], \"type\": \"scatter\", \"x\": [-0.13847531594110257, 0.03914642094439085, null], \"y\": [-0.18547852485274133, -0.16815542693602434, null]}, {\"hoverinfo\": \"text\", \"line\": {\"color\": \"peru\", \"width\": 0.2500992083174397}, \"mode\": \"lines\", \"text\": [\"<b>11</b>\"], \"type\": \"scatter\", \"x\": [-0.13847531594110257, -0.008620714316374366, null], \"y\": [-0.18547852485274133, -0.2384014836653278, null]}, {\"hoverinfo\": \"text\", \"line\": {\"color\": \"peru\", \"width\": 0.2509512720241369}, \"mode\": \"lines\", \"text\": [\"<b>10</b>\"], \"type\": \"scatter\", \"x\": [-0.13847531594110257, 0.037112341418509734, null], \"y\": [-0.18547852485274133, -0.06476133803077848, null]}, {\"hoverinfo\": \"text\", \"line\": {\"color\": \"peru\", \"width\": 0.2507868693837699}, \"mode\": \"lines\", \"text\": [\"<b>7</b>\"], \"type\": \"scatter\", \"x\": [-0.13847531594110257, -0.009709271081250317, null], \"y\": [-0.18547852485274133, 0.0046491559004002, null]}, {\"hoverinfo\": \"text\", \"line\": {\"color\": \"peru\", \"width\": 0.2502524393743495}, \"mode\": \"lines\", \"text\": [\"<b>7</b>\"], \"type\": \"scatter\", \"x\": [-0.13847531594110257, 0.0021476759594681615, null], \"y\": [-0.18547852485274133, -0.14325253494920223, null]}, {\"hoverinfo\": \"text\", \"line\": {\"color\": \"peru\", \"width\": 0.25523790974446653}, \"mode\": \"lines\", \"text\": [\"<b>7</b>\"], \"type\": \"scatter\", \"x\": [-0.13847531594110257, -0.20084994632269787, null], \"y\": [-0.18547852485274133, -0.19226855649186103, null]}, {\"hoverinfo\": \"text\", \"line\": {\"color\": \"peru\", \"width\": 0.2524689710404505}, \"mode\": \"lines\", \"text\": [\"<b>7</b>\"], \"type\": \"scatter\", \"x\": [-0.13847531594110257, 0.08602385684170852, null], \"y\": [-0.18547852485274133, -0.09889936429271984, null]}, {\"hoverinfo\": \"text\", \"line\": {\"color\": \"peru\", \"width\": 0.25239928213457613}, \"mode\": \"lines\", \"text\": [\"<b>5</b>\"], \"type\": \"scatter\", \"x\": [-0.13847531594110257, 0.026589664548724874, null], \"y\": [-0.18547852485274133, -0.30952614571382137, null]}, {\"hoverinfo\": \"text\", \"line\": {\"color\": \"peru\", \"width\": 0.25150810812185614}, \"mode\": \"lines\", \"text\": [\"<b>5</b>\"], \"type\": \"scatter\", \"x\": [-0.13847531594110257, -0.060870871982170276, null], \"y\": [-0.18547852485274133, 0.05847561375370165, null]}, {\"hoverinfo\": \"text\", \"line\": {\"color\": \"peru\", \"width\": 0.25066317895301937}, \"mode\": \"lines\", \"text\": [\"<b>4</b>\"], \"type\": \"scatter\", \"x\": [-0.13847531594110257, 0.1383800971725734, null], \"y\": [-0.18547852485274133, -0.017831327287119475, null]}, {\"hoverinfo\": \"text\", \"line\": {\"color\": \"peru\", \"width\": 0.2507425561488915}, \"mode\": \"lines\", \"text\": [\"<b>4</b>\"], \"type\": \"scatter\", \"x\": [-0.13847531594110257, -0.13921754181663373, null], \"y\": [-0.18547852485274133, -0.2230008879936063, null]}, {\"hoverinfo\": \"text\", \"line\": {\"color\": \"peru\", \"width\": 0.25101858530244436}, \"mode\": \"lines\", \"text\": [\"<b>2</b>\"], \"type\": \"scatter\", \"x\": [-0.13847531594110257, 0.076044024846554, null], \"y\": [-0.18547852485274133, -0.2285230196945629, null]}, {\"hoverinfo\": \"text\", \"line\": {\"color\": \"peru\", \"width\": 0.25065052142629696}, \"mode\": \"lines\", \"text\": [\"<b>2</b>\"], \"type\": \"scatter\", \"x\": [-0.13847531594110257, -0.21382146535799829, null], \"y\": [-0.18547852485274133, -0.0743844082798468, null]}, {\"hoverinfo\": \"text\", \"line\": {\"color\": \"peru\", \"width\": 0.2519015253531532}, \"mode\": \"lines\", \"text\": [\"<b>2</b>\"], \"type\": \"scatter\", \"x\": [-0.13847531594110257, -0.23436239491697763, null], \"y\": [-0.18547852485274133, 0.02962341723103683, null]}, {\"hoverinfo\": \"text\", \"line\": {\"color\": \"peru\", \"width\": 0.25230947840522977}, \"mode\": \"lines\", \"text\": [\"<b>1</b>\"], \"type\": \"scatter\", \"x\": [-0.13847531594110257, 0.225258502357332, null], \"y\": [-0.18547852485274133, -0.04718966706519001, null]}, {\"hoverinfo\": \"text\", \"line\": {\"color\": \"peru\", \"width\": 0.2521797951465846}, \"mode\": \"lines\", \"text\": [\"<b>1</b>\"], \"type\": \"scatter\", \"x\": [-0.13847531594110257, -0.3216013916991431, null], \"y\": [-0.18547852485274133, -0.10395182662034332, null]}, {\"hoverinfo\": \"text\", \"line\": {\"color\": \"peru\", \"width\": 0.25009975450288985}, \"mode\": \"lines\", \"text\": [\"<b>1</b>\"], \"type\": \"scatter\", \"x\": [-0.13847531594110257, -0.034520369679783496, null], \"y\": [-0.18547852485274133, -0.20641756411669696, null]}, {\"hoverinfo\": \"text\", \"line\": {\"color\": \"peru\", \"width\": 0.2946586337754089}, \"mode\": \"lines\", \"text\": [\"<b>1</b>\"], \"type\": \"scatter\", \"x\": [-0.13847531594110257, -0.41973072647800724, null], \"y\": [-0.18547852485274133, 0.060744149500660975, null]}, {\"hoverinfo\": \"text\", \"line\": {\"color\": \"peru\", \"width\": 0.2505515871003516}, \"mode\": \"lines\", \"text\": [\"<b>1</b>\"], \"type\": \"scatter\", \"x\": [-0.13847531594110257, -0.06926016718356055, null], \"y\": [-0.18547852485274133, -0.30758311375772085, null]}, {\"hoverinfo\": \"text\", \"line\": {\"color\": \"peru\", \"width\": 0.2561532739590349}, \"mode\": \"lines\", \"text\": [\"<b>1</b>\"], \"type\": \"scatter\", \"x\": [-0.13847531594110257, 0.09091248396374722, null], \"y\": [-0.18547852485274133, -0.3834819239965121, null]}, {\"hoverinfo\": \"text\", \"line\": {\"color\": \"peru\", \"width\": 0.25400687359888896}, \"mode\": \"lines\", \"text\": [\"<b>1</b>\"], \"type\": \"scatter\", \"x\": [-0.13847531594110257, 0.003196803672617761, null], \"y\": [-0.18547852485274133, -0.5189873829406744, null]}, {\"hoverinfo\": \"text\", \"line\": {\"color\": \"peru\", \"width\": 0.25096228788799113}, \"mode\": \"lines\", \"text\": [\"<b>6</b>\"], \"type\": \"scatter\", \"x\": [-0.3028277493714289, 0.037794014098991364, null], \"y\": [0.84732232673226, 0.12434741897055317, null]}, {\"hoverinfo\": \"text\", \"line\": {\"color\": \"peru\", \"width\": 0.25014861273095695}, \"mode\": \"lines\", \"text\": [\"<b>34503</b>\"], \"type\": \"scatter\", \"x\": [0.037794014098991364, 0.037794014098991364, null], \"y\": [0.12434741897055317, 0.12434741897055317, null]}, {\"hoverinfo\": \"text\", \"line\": {\"color\": \"peru\", \"width\": 0.2504028907854588}, \"mode\": \"lines\", \"text\": [\"<b>8853</b>\"], \"type\": \"scatter\", \"x\": [0.037794014098991364, -0.0264655059238801, null], \"y\": [0.12434741897055317, -0.06257900558246596, null]}, {\"hoverinfo\": \"text\", \"line\": {\"color\": \"peru\", \"width\": 0.25011386324741847}, \"mode\": \"lines\", \"text\": [\"<b>5881</b>\"], \"type\": \"scatter\", \"x\": [0.037794014098991364, -0.008620714316374366, null], \"y\": [0.12434741897055317, -0.2384014836653278, null]}, {\"hoverinfo\": \"text\", \"line\": {\"color\": \"peru\", \"width\": 0.2505169551433662}, \"mode\": \"lines\", \"text\": [\"<b>5034</b>\"], \"type\": \"scatter\", \"x\": [0.037794014098991364, 0.03097250257589602, null], \"y\": [0.12434741897055317, -0.02726580821300639, null]}, {\"hoverinfo\": \"text\", \"line\": {\"color\": \"peru\", \"width\": 0.2505844720216942}, \"mode\": \"lines\", \"text\": [\"<b>4277</b>\"], \"type\": \"scatter\", \"x\": [0.037794014098991364, -0.1565613973253825, null], \"y\": [0.12434741897055317, -0.04805573240281369, null]}, {\"hoverinfo\": \"text\", \"line\": {\"color\": \"peru\", \"width\": 0.2505277596112213}, \"mode\": \"lines\", \"text\": [\"<b>3708</b>\"], \"type\": \"scatter\", \"x\": [0.037794014098991364, -0.11708530833598096, null], \"y\": [0.12434741897055317, -0.14061218669955314, null]}, {\"hoverinfo\": \"text\", \"line\": {\"color\": \"peru\", \"width\": 0.25051088653381914}, \"mode\": \"lines\", \"text\": [\"<b>3349</b>\"], \"type\": \"scatter\", \"x\": [0.037794014098991364, -0.03799795302862708, null], \"y\": [0.12434741897055317, -0.10046936690130284, null]}, {\"hoverinfo\": \"text\", \"line\": {\"color\": \"peru\", \"width\": 0.25108071525114345}, \"mode\": \"lines\", \"text\": [\"<b>3021</b>\"], \"type\": \"scatter\", \"x\": [0.037794014098991364, 0.037112341418509734, null], \"y\": [0.12434741897055317, -0.06476133803077848, null]}, {\"hoverinfo\": \"text\", \"line\": {\"color\": \"peru\", \"width\": 0.2502174924632478}, \"mode\": \"lines\", \"text\": [\"<b>2447</b>\"], \"type\": \"scatter\", \"x\": [0.037794014098991364, 0.0021476759594681615, null], \"y\": [0.12434741897055317, -0.14325253494920223, null]}, {\"hoverinfo\": \"text\", \"line\": {\"color\": \"peru\", \"width\": 0.2506406034821874}, \"mode\": \"lines\", \"text\": [\"<b>1890</b>\"], \"type\": \"scatter\", \"x\": [0.037794014098991364, -0.009709271081250317, null], \"y\": [0.12434741897055317, 0.0046491559004002, null]}, {\"hoverinfo\": \"text\", \"line\": {\"color\": \"peru\", \"width\": 0.25049054479328914}, \"mode\": \"lines\", \"text\": [\"<b>1562</b>\"], \"type\": \"scatter\", \"x\": [0.037794014098991364, 0.03914642094439085, null], \"y\": [0.12434741897055317, -0.16815542693602434, null]}, {\"hoverinfo\": \"text\", \"line\": {\"color\": \"peru\", \"width\": 0.2505366434677305}, \"mode\": \"lines\", \"text\": [\"<b>841</b>\"], \"type\": \"scatter\", \"x\": [0.037794014098991364, 0.1383800971725734, null], \"y\": [0.12434741897055317, -0.017831327287119475, null]}, {\"hoverinfo\": \"text\", \"line\": {\"color\": \"peru\", \"width\": 0.2509952974647612}, \"mode\": \"lines\", \"text\": [\"<b>781</b>\"], \"type\": \"scatter\", \"x\": [0.037794014098991364, 0.08602385684170852, null], \"y\": [0.12434741897055317, -0.09889936429271984, null]}, {\"hoverinfo\": \"text\", \"line\": {\"color\": \"peru\", \"width\": 0.2501640199888685}, \"mode\": \"lines\", \"text\": [\"<b>777</b>\"], \"type\": \"scatter\", \"x\": [0.037794014098991364, -0.034520369679783496, null], \"y\": [0.12434741897055317, -0.20641756411669696, null]}, {\"hoverinfo\": \"text\", \"line\": {\"color\": \"peru\", \"width\": 0.25149880653195533}, \"mode\": \"lines\", \"text\": [\"<b>663</b>\"], \"type\": \"scatter\", \"x\": [0.037794014098991364, -0.20084994632269787, null], \"y\": [0.12434741897055317, -0.19226855649186103, null]}, {\"hoverinfo\": \"text\", \"line\": {\"color\": \"peru\", \"width\": 0.2502756868137267}, \"mode\": \"lines\", \"text\": [\"<b>552</b>\"], \"type\": \"scatter\", \"x\": [0.037794014098991364, -0.13921754181663373, null], \"y\": [0.12434741897055317, -0.2230008879936063, null]}, {\"hoverinfo\": \"text\", \"line\": {\"color\": \"peru\", \"width\": 0.25052050106119605}, \"mode\": \"lines\", \"text\": [\"<b>464</b>\"], \"type\": \"scatter\", \"x\": [0.037794014098991364, -0.060870871982170276, null], \"y\": [0.12434741897055317, 0.05847561375370165, null]}, {\"hoverinfo\": \"text\", \"line\": {\"color\": \"peru\", \"width\": 0.2502636635134006}, \"mode\": \"lines\", \"text\": [\"<b>420</b>\"], \"type\": \"scatter\", \"x\": [0.037794014098991364, -0.11764096428606644, null], \"y\": [0.12434741897055317, 0.018569149606881274, null]}, {\"hoverinfo\": \"text\", \"line\": {\"color\": \"peru\", \"width\": 0.25063377650893714}, \"mode\": \"lines\", \"text\": [\"<b>400</b>\"], \"type\": \"scatter\", \"x\": [0.037794014098991364, 0.026589664548724874, null], \"y\": [0.12434741897055317, -0.30952614571382137, null]}, {\"hoverinfo\": \"text\", \"line\": {\"color\": \"peru\", \"width\": 0.2509446178215903}, \"mode\": \"lines\", \"text\": [\"<b>394</b>\"], \"type\": \"scatter\", \"x\": [0.037794014098991364, 0.076044024846554, null], \"y\": [0.12434741897055317, -0.2285230196945629, null]}, {\"hoverinfo\": \"text\", \"line\": {\"color\": \"peru\", \"width\": 0.25089259044609713}, \"mode\": \"lines\", \"text\": [\"<b>335</b>\"], \"type\": \"scatter\", \"x\": [0.037794014098991364, -0.23436239491697763, null], \"y\": [0.12434741897055317, 0.02962341723103683, null]}, {\"hoverinfo\": \"text\", \"line\": {\"color\": \"peru\", \"width\": 0.2503530344139625}, \"mode\": \"lines\", \"text\": [\"<b>266</b>\"], \"type\": \"scatter\", \"x\": [0.037794014098991364, -0.21382146535799829, null], \"y\": [0.12434741897055317, -0.0743844082798468, null]}, {\"hoverinfo\": \"text\", \"line\": {\"color\": \"peru\", \"width\": 0.2503082538460497}, \"mode\": \"lines\", \"text\": [\"<b>180</b>\"], \"type\": \"scatter\", \"x\": [0.037794014098991364, -0.06926016718356055, null], \"y\": [0.12434741897055317, -0.30758311375772085, null]}, {\"hoverinfo\": \"text\", \"line\": {\"color\": \"peru\", \"width\": 0.2504074678209999}, \"mode\": \"lines\", \"text\": [\"<b>178</b>\"], \"type\": \"scatter\", \"x\": [0.037794014098991364, 0.1782997712493181, null], \"y\": [0.12434741897055317, -0.1274569078232588, null]}, {\"hoverinfo\": \"text\", \"line\": {\"color\": \"peru\", \"width\": 0.2502291794556885}, \"mode\": \"lines\", \"text\": [\"<b>155</b>\"], \"type\": \"scatter\", \"x\": [0.037794014098991364, -0.17699050553477794, null], \"y\": [0.12434741897055317, 0.08436261288959324, null]}, {\"hoverinfo\": \"text\", \"line\": {\"color\": \"peru\", \"width\": 0.251395824062099}, \"mode\": \"lines\", \"text\": [\"<b>122</b>\"], \"type\": \"scatter\", \"x\": [0.037794014098991364, -0.15761049738613608, null], \"y\": [0.12434741897055317, -0.3150798978482202, null]}, {\"hoverinfo\": \"text\", \"line\": {\"color\": \"peru\", \"width\": 0.25089180328731453}, \"mode\": \"lines\", \"text\": [\"<b>89</b>\"], \"type\": \"scatter\", \"x\": [0.037794014098991364, 0.18890539387121066, null], \"y\": [0.12434741897055317, -0.25721437611247694, null]}, {\"hoverinfo\": \"text\", \"line\": {\"color\": \"peru\", \"width\": 0.25041385806698413}, \"mode\": \"lines\", \"text\": [\"<b>75</b>\"], \"type\": \"scatter\", \"x\": [0.037794014098991364, 0.12380093032622776, null], \"y\": [0.12434741897055317, 0.055414571222401655, null]}, {\"hoverinfo\": \"text\", \"line\": {\"color\": \"peru\", \"width\": 0.25050822379838533}, \"mode\": \"lines\", \"text\": [\"<b>73</b>\"], \"type\": \"scatter\", \"x\": [0.037794014098991364, 0.225258502357332, null], \"y\": [0.12434741897055317, -0.04718966706519001, null]}, {\"hoverinfo\": \"text\", \"line\": {\"color\": \"peru\", \"width\": 0.2507923232767004}, \"mode\": \"lines\", \"text\": [\"<b>61</b>\"], \"type\": \"scatter\", \"x\": [0.037794014098991364, 0.09091248396374722, null], \"y\": [0.12434741897055317, -0.3834819239965121, null]}, {\"hoverinfo\": \"text\", \"line\": {\"color\": \"peru\", \"width\": 0.2502886326451492}, \"mode\": \"lines\", \"text\": [\"<b>61</b>\"], \"type\": \"scatter\", \"x\": [0.037794014098991364, -0.014496133191631221, null], \"y\": [0.12434741897055317, 0.14458655088238995, null]}, {\"hoverinfo\": \"text\", \"line\": {\"color\": \"peru\", \"width\": 0.25221910512070567}, \"mode\": \"lines\", \"text\": [\"<b>60</b>\"], \"type\": \"scatter\", \"x\": [0.037794014098991364, 0.14140656101499638, null], \"y\": [0.12434741897055317, 0.1534315269562114, null]}, {\"hoverinfo\": \"text\", \"line\": {\"color\": \"peru\", \"width\": 0.25025637360304714}, \"mode\": \"lines\", \"text\": [\"<b>51</b>\"], \"type\": \"scatter\", \"x\": [0.037794014098991364, -0.3216013916991431, null], \"y\": [0.12434741897055317, -0.10395182662034332, null]}, {\"hoverinfo\": \"text\", \"line\": {\"color\": \"peru\", \"width\": 0.2535873031451519}, \"mode\": \"lines\", \"text\": [\"<b>47</b>\"], \"type\": \"scatter\", \"x\": [0.037794014098991364, 0.12187876408755381, null], \"y\": [0.12434741897055317, 0.40402596435716875, null]}, {\"hoverinfo\": \"text\", \"line\": {\"color\": \"peru\", \"width\": 0.2501027444965211}, \"mode\": \"lines\", \"text\": [\"<b>46</b>\"], \"type\": \"scatter\", \"x\": [0.037794014098991364, 0.304566913755434, null], \"y\": [0.12434741897055317, -0.018188746815965686, null]}, {\"hoverinfo\": \"text\", \"line\": {\"color\": \"peru\", \"width\": 0.2513025159173338}, \"mode\": \"lines\", \"text\": [\"<b>33</b>\"], \"type\": \"scatter\", \"x\": [0.037794014098991364, -0.4907078785290733, null], \"y\": [0.12434741897055317, -0.10678684678237646, null]}, {\"hoverinfo\": \"text\", \"line\": {\"color\": \"peru\", \"width\": 0.2506758552414274}, \"mode\": \"lines\", \"text\": [\"<b>27</b>\"], \"type\": \"scatter\", \"x\": [0.037794014098991364, 0.2384114147397721, null], \"y\": [0.12434741897055317, -0.34719956689021464, null]}, {\"hoverinfo\": \"text\", \"line\": {\"color\": \"peru\", \"width\": 0.2503017744008539}, \"mode\": \"lines\", \"text\": [\"<b>23</b>\"], \"type\": \"scatter\", \"x\": [0.037794014098991364, -0.2830525026756416, null], \"y\": [0.12434741897055317, -0.376171070009455, null]}, {\"hoverinfo\": \"text\", \"line\": {\"color\": \"peru\", \"width\": 0.25085773299285197}, \"mode\": \"lines\", \"text\": [\"<b>14</b>\"], \"type\": \"scatter\", \"x\": [0.037794014098991364, -0.45566646999102844, null], \"y\": [0.12434741897055317, -0.3086962806174099, null]}, {\"hoverinfo\": \"text\", \"line\": {\"color\": \"peru\", \"width\": 0.25083005524673974}, \"mode\": \"lines\", \"text\": [\"<b>13</b>\"], \"type\": \"scatter\", \"x\": [0.037794014098991364, 0.26434180886269315, null], \"y\": [0.12434741897055317, -0.1966470007508575, null]}, {\"hoverinfo\": \"text\", \"line\": {\"color\": \"peru\", \"width\": 0.251645171648271}, \"mode\": \"lines\", \"text\": [\"<b>12</b>\"], \"type\": \"scatter\", \"x\": [0.037794014098991364, -0.41973072647800724, null], \"y\": [0.12434741897055317, 0.060744149500660975, null]}, {\"hoverinfo\": \"text\", \"line\": {\"color\": \"peru\", \"width\": 0.2507767165442208}, \"mode\": \"lines\", \"text\": [\"<b>10</b>\"], \"type\": \"scatter\", \"x\": [0.037794014098991364, -0.2621886351080779, null], \"y\": [0.12434741897055317, 0.22722651728137752, null]}, {\"hoverinfo\": \"text\", \"line\": {\"color\": \"peru\", \"width\": 0.25099755721139766}, \"mode\": \"lines\", \"text\": [\"<b>9</b>\"], \"type\": \"scatter\", \"x\": [0.037794014098991364, 0.5252622617720751, null], \"y\": [0.12434741897055317, -0.034926880980845794, null]}, {\"hoverinfo\": \"text\", \"line\": {\"color\": \"peru\", \"width\": 0.2501820924975718}, \"mode\": \"lines\", \"text\": [\"<b>8</b>\"], \"type\": \"scatter\", \"x\": [0.037794014098991364, 0.003196803672617761, null], \"y\": [0.12434741897055317, -0.5189873829406744, null]}, {\"hoverinfo\": \"text\", \"line\": {\"color\": \"peru\", \"width\": 0.250178093632694}, \"mode\": \"lines\", \"text\": [\"<b>7</b>\"], \"type\": \"scatter\", \"x\": [0.037794014098991364, -0.10814385694596838, null], \"y\": [0.12434741897055317, -0.5098678491586572, null]}, {\"hoverinfo\": \"text\", \"line\": {\"color\": \"peru\", \"width\": 0.2506413492221079}, \"mode\": \"lines\", \"text\": [\"<b>4</b>\"], \"type\": \"scatter\", \"x\": [0.037794014098991364, 0.30041709745930495, null], \"y\": [0.12434741897055317, 0.3296958791155544, null]}, {\"hoverinfo\": \"text\", \"line\": {\"color\": \"peru\", \"width\": 0.2504128963333256}, \"mode\": \"lines\", \"text\": [\"<b>4</b>\"], \"type\": \"scatter\", \"x\": [0.037794014098991364, -0.1313219761498052, null], \"y\": [0.12434741897055317, 0.43169933745576405, null]}, {\"hoverinfo\": \"text\", \"line\": {\"color\": \"peru\", \"width\": 0.25116029929313444}, \"mode\": \"lines\", \"text\": [\"<b>4</b>\"], \"type\": \"scatter\", \"x\": [0.037794014098991364, -0.11560680098750302, null], \"y\": [0.12434741897055317, 0.8968952254375414, null]}, {\"hoverinfo\": \"text\", \"line\": {\"color\": \"peru\", \"width\": 0.250664848977401}, \"mode\": \"lines\", \"text\": [\"<b>3</b>\"], \"type\": \"scatter\", \"x\": [0.037794014098991364, 0.5507856787496299, null], \"y\": [0.12434741897055317, 0.7297058186385333, null]}, {\"hoverinfo\": \"text\", \"line\": {\"color\": \"peru\", \"width\": 0.2502972876567734}, \"mode\": \"lines\", \"text\": [\"<b>3</b>\"], \"type\": \"scatter\", \"x\": [0.037794014098991364, -0.4106235388170116, null], \"y\": [0.12434741897055317, 0.5541072673739492, null]}, {\"hoverinfo\": \"text\", \"line\": {\"color\": \"peru\", \"width\": 0.25116029929313444}, \"mode\": \"lines\", \"text\": [\"<b>2</b>\"], \"type\": \"scatter\", \"x\": [0.037794014098991364, 0.05586488337274385, null], \"y\": [0.12434741897055317, 0.9120552394933666, null]}, {\"hoverinfo\": \"text\", \"line\": {\"color\": \"peru\", \"width\": 0.2507174233699186}, \"mode\": \"lines\", \"text\": [\"<b>2</b>\"], \"type\": \"scatter\", \"x\": [0.037794014098991364, 0.7236503798389048, null], \"y\": [0.12434741897055317, -0.3261551059557146, null]}, {\"hoverinfo\": \"text\", \"line\": {\"color\": \"peru\", \"width\": 0.2503205865820425}, \"mode\": \"lines\", \"text\": [\"<b>2</b>\"], \"type\": \"scatter\", \"x\": [0.037794014098991364, 0.4387262903185144, null], \"y\": [0.12434741897055317, 0.46263474844595576, null]}, {\"hoverinfo\": \"text\", \"line\": {\"color\": \"peru\", \"width\": 0.25044314857006356}, \"mode\": \"lines\", \"text\": [\"<b>2</b>\"], \"type\": \"scatter\", \"x\": [0.037794014098991364, -0.5868292045207596, null], \"y\": [0.12434741897055317, 0.3740844462328424, null]}, {\"hoverinfo\": \"text\", \"line\": {\"color\": \"peru\", \"width\": 0.2505798618224476}, \"mode\": \"lines\", \"text\": [\"<b>1</b>\"], \"type\": \"scatter\", \"x\": [0.037794014098991364, 0.3854463345743704, null], \"y\": [0.12434741897055317, 0.8305255077209299, null]}, {\"hoverinfo\": \"text\", \"line\": {\"color\": \"peru\", \"width\": 0.2505798618224476}, \"mode\": \"lines\", \"text\": [\"<b>1</b>\"], \"type\": \"scatter\", \"x\": [0.037794014098991364, 0.047650137857219846, null], \"y\": [0.12434741897055317, 0.4343129528769831, null]}, {\"hoverinfo\": \"text\", \"line\": {\"color\": \"peru\", \"width\": 0.2505798618224476}, \"mode\": \"lines\", \"text\": [\"<b>1</b>\"], \"type\": \"scatter\", \"x\": [0.037794014098991364, 0.22649338975796107, null], \"y\": [0.12434741897055317, 0.8904981803794328, null]}, {\"hoverinfo\": \"text\", \"line\": {\"color\": \"peru\", \"width\": 0.31839110962763484}, \"mode\": \"lines\", \"text\": [\"<b>24</b>\"], \"type\": \"scatter\", \"x\": [0.12380093032622776, 0.1782997712493181, null], \"y\": [0.055414571222401655, -0.1274569078232588, null]}, {\"hoverinfo\": \"text\", \"line\": {\"color\": \"peru\", \"width\": 0.2506629158529863}, \"mode\": \"lines\", \"text\": [\"<b>12</b>\"], \"type\": \"scatter\", \"x\": [0.12380093032622776, -0.0264655059238801, null], \"y\": [0.055414571222401655, -0.06257900558246596, null]}, {\"hoverinfo\": \"text\", \"line\": {\"color\": \"peru\", \"width\": 0.2857105429190563}, \"mode\": \"lines\", \"text\": [\"<b>4</b>\"], \"type\": \"scatter\", \"x\": [0.12380093032622776, 0.225258502357332, null], \"y\": [0.055414571222401655, -0.04718966706519001, null]}, {\"hoverinfo\": \"text\", \"line\": {\"color\": \"peru\", \"width\": 0.25050910980416063}, \"mode\": \"lines\", \"text\": [\"<b>4</b>\"], \"type\": \"scatter\", \"x\": [0.12380093032622776, 0.03097250257589602, null], \"y\": [0.055414571222401655, -0.02726580821300639, null]}, {\"hoverinfo\": \"text\", \"line\": {\"color\": \"peru\", \"width\": 0.25141701700604}, \"mode\": \"lines\", \"text\": [\"<b>3</b>\"], \"type\": \"scatter\", \"x\": [0.12380093032622776, 0.037112341418509734, null], \"y\": [0.055414571222401655, -0.06476133803077848, null]}, {\"hoverinfo\": \"text\", \"line\": {\"color\": \"peru\", \"width\": 0.2565660202513399}, \"mode\": \"lines\", \"text\": [\"<b>2</b>\"], \"type\": \"scatter\", \"x\": [0.12380093032622776, -0.23436239491697763, null], \"y\": [0.055414571222401655, 0.02962341723103683, null]}, {\"hoverinfo\": \"text\", \"line\": {\"color\": \"peru\", \"width\": 0.2500452655391045}, \"mode\": \"lines\", \"text\": [\"<b>2</b>\"], \"type\": \"scatter\", \"x\": [0.12380093032622776, -0.008620714316374366, null], \"y\": [0.055414571222401655, -0.2384014836653278, null]}, {\"hoverinfo\": \"text\", \"line\": {\"color\": \"peru\", \"width\": 0.2504221636929151}, \"mode\": \"lines\", \"text\": [\"<b>1</b>\"], \"type\": \"scatter\", \"x\": [0.12380093032622776, -0.009709271081250317, null], \"y\": [0.055414571222401655, 0.0046491559004002, null]}, {\"hoverinfo\": \"text\", \"line\": {\"color\": \"peru\", \"width\": 0.25180033121250467}, \"mode\": \"lines\", \"text\": [\"<b>1</b>\"], \"type\": \"scatter\", \"x\": [0.12380093032622776, -0.21382146535799829, null], \"y\": [0.055414571222401655, -0.0743844082798468, null]}, {\"hoverinfo\": \"text\", \"line\": {\"color\": \"peru\", \"width\": 0.25024625997248623}, \"mode\": \"lines\", \"text\": [\"<b>1</b>\"], \"type\": \"scatter\", \"x\": [0.12380093032622776, -0.034520369679783496, null], \"y\": [0.055414571222401655, -0.20641756411669696, null]}, {\"hoverinfo\": \"text\", \"line\": {\"color\": \"peru\", \"width\": 0.25202062018638893}, \"mode\": \"lines\", \"text\": [\"<b>1</b>\"], \"type\": \"scatter\", \"x\": [0.12380093032622776, 0.026589664548724874, null], \"y\": [0.055414571222401655, -0.30952614571382137, null]}, {\"hoverinfo\": \"text\", \"line\": {\"color\": \"peru\", \"width\": 0.25075761525618623}, \"mode\": \"lines\", \"text\": [\"<b>1</b>\"], \"type\": \"scatter\", \"x\": [0.12380093032622776, -0.11764096428606644, null], \"y\": [0.055414571222401655, 0.018569149606881274, null]}, {\"hoverinfo\": \"text\", \"line\": {\"color\": \"peru\", \"width\": 0.250206494606494}, \"mode\": \"lines\", \"text\": [\"<b>1</b>\"], \"type\": \"scatter\", \"x\": [0.12380093032622776, -0.1565613973253825, null], \"y\": [0.055414571222401655, -0.04805573240281369, null]}, {\"hoverinfo\": \"text\", \"line\": {\"color\": \"peru\", \"width\": 0.2515149250716529}, \"mode\": \"lines\", \"text\": [\"<b>5</b>\"], \"type\": \"scatter\", \"x\": [0.18890539387121066, -0.11708530833598096, null], \"y\": [-0.25721437611247694, -0.14061218669955314, null]}, {\"hoverinfo\": \"text\", \"line\": {\"color\": \"peru\", \"width\": 0.25069033133071184}, \"mode\": \"lines\", \"text\": [\"<b>3</b>\"], \"type\": \"scatter\", \"x\": [0.18890539387121066, 0.03097250257589602, null], \"y\": [-0.25721437611247694, -0.02726580821300639, null]}, {\"hoverinfo\": \"text\", \"line\": {\"color\": \"peru\", \"width\": 0.25258476331980495}, \"mode\": \"lines\", \"text\": [\"<b>3</b>\"], \"type\": \"scatter\", \"x\": [0.18890539387121066, 0.037112341418509734, null], \"y\": [-0.25721437611247694, -0.06476133803077848, null]}, {\"hoverinfo\": \"text\", \"line\": {\"color\": \"peru\", \"width\": 0.25152866974865506}, \"mode\": \"lines\", \"text\": [\"<b>2</b>\"], \"type\": \"scatter\", \"x\": [0.18890539387121066, -0.009709271081250317, null], \"y\": [-0.25721437611247694, 0.0046491559004002, null]}, {\"hoverinfo\": \"text\", \"line\": {\"color\": \"peru\", \"width\": 0.25736345878048555}, \"mode\": \"lines\", \"text\": [\"<b>2</b>\"], \"type\": \"scatter\", \"x\": [0.18890539387121066, 0.026589664548724874, null], \"y\": [-0.25721437611247694, -0.30952614571382137, null]}, {\"hoverinfo\": \"text\", \"line\": {\"color\": \"peru\", \"width\": 0.25303155506537284}, \"mode\": \"lines\", \"text\": [\"<b>1</b>\"], \"type\": \"scatter\", \"x\": [0.18890539387121066, 0.08602385684170852, null], \"y\": [-0.25721437611247694, -0.09889936429271984, null]}, {\"hoverinfo\": \"text\", \"line\": {\"color\": \"peru\", \"width\": 0.2500995571045316}, \"mode\": \"lines\", \"text\": [\"<b>1</b>\"], \"type\": \"scatter\", \"x\": [0.18890539387121066, -0.0264655059238801, null], \"y\": [-0.25721437611247694, -0.06257900558246596, null]}, {\"hoverinfo\": \"text\", \"line\": {\"color\": \"peru\", \"width\": 0.256337561185509}, \"mode\": \"lines\", \"text\": [\"<b>1</b>\"], \"type\": \"scatter\", \"x\": [0.18890539387121066, 0.076044024846554, null], \"y\": [-0.25721437611247694, -0.2285230196945629, null]}, {\"hoverinfo\": \"text\", \"line\": {\"color\": \"peru\", \"width\": 0.25035490435494656}, \"mode\": \"lines\", \"text\": [\"<b>1</b>\"], \"type\": \"scatter\", \"x\": [0.18890539387121066, -0.03799795302862708, null], \"y\": [-0.25721437611247694, -0.10046936690130284, null]}, {\"hoverinfo\": \"text\", \"line\": {\"color\": \"peru\", \"width\": 0.25154868776183603}, \"mode\": \"lines\", \"text\": [\"<b>1</b>\"], \"type\": \"scatter\", \"x\": [0.18890539387121066, 0.1383800971725734, null], \"y\": [-0.25721437611247694, -0.017831327287119475, null]}, {\"hoverinfo\": \"text\", \"line\": {\"color\": \"peru\", \"width\": 0.26379631932678704}, \"mode\": \"lines\", \"text\": [\"<b>9</b>\"], \"type\": \"scatter\", \"x\": [0.003196803672617761, -0.11708530833598096, null], \"y\": [-0.5189873829406744, -0.14061218669955314, null]}, {\"hoverinfo\": \"text\", \"line\": {\"color\": \"peru\", \"width\": 0.2992353797379691}, \"mode\": \"lines\", \"text\": [\"<b>1</b>\"], \"type\": \"scatter\", \"x\": [0.003196803672617761, -0.15761049738613608, null], \"y\": [-0.5189873829406744, -0.3150798978482202, null]}, {\"hoverinfo\": \"text\", \"line\": {\"color\": \"peru\", \"width\": 0.2578153784874864}, \"mode\": \"lines\", \"text\": [\"<b>1</b>\"], \"type\": \"scatter\", \"x\": [0.003196803672617761, 0.076044024846554, null], \"y\": [-0.5189873829406744, -0.2285230196945629, null]}, {\"hoverinfo\": \"text\", \"line\": {\"color\": \"peru\", \"width\": 0.25082905948236234}, \"mode\": \"lines\", \"text\": [\"<b>1</b>\"], \"type\": \"scatter\", \"x\": [0.003196803672617761, 0.0021476759594681615, null], \"y\": [-0.5189873829406744, -0.14325253494920223, null]}, {\"hoverinfo\": \"text\", \"line\": {\"color\": \"peru\", \"width\": 0.4281144000175784}, \"mode\": \"lines\", \"text\": [\"<b>46</b>\"], \"type\": \"scatter\", \"x\": [0.225258502357332, 0.1782997712493181, null], \"y\": [-0.04718966706519001, -0.1274569078232588, null]}, {\"hoverinfo\": \"text\", \"line\": {\"color\": \"peru\", \"width\": 0.25153884052548414}, \"mode\": \"lines\", \"text\": [\"<b>22</b>\"], \"type\": \"scatter\", \"x\": [0.225258502357332, -0.0264655059238801, null], \"y\": [-0.04718966706519001, -0.06257900558246596, null]}, {\"hoverinfo\": \"text\", \"line\": {\"color\": \"peru\", \"width\": 0.26139797786294494}, \"mode\": \"lines\", \"text\": [\"<b>19</b>\"], \"type\": \"scatter\", \"x\": [0.225258502357332, 0.037112341418509734, null], \"y\": [-0.04718966706519001, -0.06476133803077848, null]}, {\"hoverinfo\": \"text\", \"line\": {\"color\": \"peru\", \"width\": 4.179626906102637}, \"mode\": \"lines\", \"text\": [\"<b>18</b>\"], \"type\": \"scatter\", \"x\": [0.225258502357332, 0.26434180886269315, null], \"y\": [-0.04718966706519001, -0.1966470007508575, null]}, {\"hoverinfo\": \"text\", \"line\": {\"color\": \"peru\", \"width\": 0.25043050680954376}, \"mode\": \"lines\", \"text\": [\"<b>15</b>\"], \"type\": \"scatter\", \"x\": [0.225258502357332, -0.008620714316374366, null], \"y\": [-0.04718966706519001, -0.2384014836653278, null]}, {\"hoverinfo\": \"text\", \"line\": {\"color\": \"peru\", \"width\": 0.299072846459717}, \"mode\": \"lines\", \"text\": [\"<b>11</b>\"], \"type\": \"scatter\", \"x\": [0.225258502357332, 0.076044024846554, null], \"y\": [-0.04718966706519001, -0.2285230196945629, null]}, {\"hoverinfo\": \"text\", \"line\": {\"color\": \"peru\", \"width\": 0.25172844976139946}, \"mode\": \"lines\", \"text\": [\"<b>7</b>\"], \"type\": \"scatter\", \"x\": [0.225258502357332, -0.03799795302862708, null], \"y\": [-0.04718966706519001, -0.10046936690130284, null]}, {\"hoverinfo\": \"text\", \"line\": {\"color\": \"peru\", \"width\": 0.25080448027352387}, \"mode\": \"lines\", \"text\": [\"<b>5</b>\"], \"type\": \"scatter\", \"x\": [0.225258502357332, 0.03097250257589602, null], \"y\": [-0.04718966706519001, -0.02726580821300639, null]}, {\"hoverinfo\": \"text\", \"line\": {\"color\": \"peru\", \"width\": 0.2515159820371473}, \"mode\": \"lines\", \"text\": [\"<b>3</b>\"], \"type\": \"scatter\", \"x\": [0.225258502357332, 0.03914642094439085, null], \"y\": [-0.04718966706519001, -0.16815542693602434, null]}, {\"hoverinfo\": \"text\", \"line\": {\"color\": \"peru\", \"width\": 0.25021329616661775}, \"mode\": \"lines\", \"text\": [\"<b>1</b>\"], \"type\": \"scatter\", \"x\": [0.225258502357332, -0.11708530833598096, null], \"y\": [-0.04718966706519001, -0.14061218669955314, null]}, {\"hoverinfo\": \"text\", \"line\": {\"color\": \"peru\", \"width\": 0.25106845430832386}, \"mode\": \"lines\", \"text\": [\"<b>1</b>\"], \"type\": \"scatter\", \"x\": [0.225258502357332, 0.1383800971725734, null], \"y\": [-0.04718966706519001, -0.017831327287119475, null]}, {\"hoverinfo\": \"text\", \"line\": {\"color\": \"peru\", \"width\": 0.2501345892200727}, \"mode\": \"lines\", \"text\": [\"<b>1</b>\"], \"type\": \"scatter\", \"x\": [0.225258502357332, 0.0021476759594681615, null], \"y\": [-0.04718966706519001, -0.14325253494920223, null]}, {\"hoverinfo\": \"text\", \"line\": {\"color\": \"peru\", \"width\": 0.25815802838484897}, \"mode\": \"lines\", \"text\": [\"<b>1</b>\"], \"type\": \"scatter\", \"x\": [0.225258502357332, -0.014496133191631221, null], \"y\": [-0.04718966706519001, 0.14458655088238995, null]}, {\"hoverinfo\": \"text\", \"line\": {\"color\": \"peru\", \"width\": 0.250257947044697}, \"mode\": \"lines\", \"text\": [\"<b>1</b>\"], \"type\": \"scatter\", \"x\": [0.225258502357332, -0.1565613973253825, null], \"y\": [-0.04718966706519001, -0.04805573240281369, null]}, {\"hoverinfo\": \"text\", \"line\": {\"color\": \"peru\", \"width\": 0.2642075737433876}, \"mode\": \"lines\", \"text\": [\"<b>8</b>\"], \"type\": \"scatter\", \"x\": [-0.1313219761498052, -0.1565613973253825, null], \"y\": [0.43169933745576405, -0.04805573240281369, null]}, {\"hoverinfo\": \"text\", \"line\": {\"color\": \"peru\", \"width\": 0.2758645064622203}, \"mode\": \"lines\", \"text\": [\"<b>2</b>\"], \"type\": \"scatter\", \"x\": [-0.1313219761498052, 0.1383800971725734, null], \"y\": [0.43169933745576405, -0.017831327287119475, null]}, {\"hoverinfo\": \"text\", \"line\": {\"color\": \"peru\", \"width\": 0.27379795968741466}, \"mode\": \"lines\", \"text\": [\"<b>1</b>\"], \"type\": \"scatter\", \"x\": [-0.1313219761498052, -0.060870871982170276, null], \"y\": [0.43169933745576405, 0.05847561375370165, null]}, {\"hoverinfo\": \"text\", \"line\": {\"color\": \"peru\", \"width\": 0.3027235983693088}, \"mode\": \"lines\", \"text\": [\"<b>68</b>\"], \"type\": \"scatter\", \"x\": [-0.2621886351080779, -0.0264655059238801, null], \"y\": [0.22722651728137752, -0.06257900558246596, null]}, {\"hoverinfo\": \"text\", \"line\": {\"color\": \"peru\", \"width\": 0.2568570085326388}, \"mode\": \"lines\", \"text\": [\"<b>1</b>\"], \"type\": \"scatter\", \"x\": [-0.2621886351080779, 0.037112341418509734, null], \"y\": [0.22722651728137752, -0.06476133803077848, null]}, {\"hoverinfo\": \"text\", \"line\": {\"color\": \"peru\", \"width\": 0.2502963501779095}, \"mode\": \"lines\", \"text\": [\"<b>1</b>\"], \"type\": \"scatter\", \"x\": [-0.2621886351080779, -0.008620714316374366, null], \"y\": [0.22722651728137752, -0.2384014836653278, null]}, {\"hoverinfo\": \"text\", \"line\": {\"color\": \"peru\", \"width\": 0.25174445540994633}, \"mode\": \"lines\", \"text\": [\"<b>1</b>\"], \"type\": \"scatter\", \"x\": [-0.2621886351080779, 0.03097250257589602, null], \"y\": [0.22722651728137752, -0.02726580821300639, null]}, {\"hoverinfo\": \"text\", \"line\": {\"color\": \"peru\", \"width\": 0.2534469543452299}, \"mode\": \"lines\", \"text\": [\"<b>900</b>\"], \"type\": \"scatter\", \"x\": [-0.11708530833598096, -0.11708530833598096, null], \"y\": [-0.14061218669955314, -0.14061218669955314, null]}, {\"hoverinfo\": \"text\", \"line\": {\"color\": \"peru\", \"width\": 0.25017700682757393}, \"mode\": \"lines\", \"text\": [\"<b>136</b>\"], \"type\": \"scatter\", \"x\": [-0.11708530833598096, -0.0264655059238801, null], \"y\": [-0.14061218669955314, -0.06257900558246596, null]}, {\"hoverinfo\": \"text\", \"line\": {\"color\": \"peru\", \"width\": 0.25005046268464254}, \"mode\": \"lines\", \"text\": [\"<b>100</b>\"], \"type\": \"scatter\", \"x\": [-0.11708530833598096, -0.008620714316374366, null], \"y\": [-0.14061218669955314, -0.2384014836653278, null]}, {\"hoverinfo\": \"text\", \"line\": {\"color\": \"peru\", \"width\": 0.2505812259320654}, \"mode\": \"lines\", \"text\": [\"<b>56</b>\"], \"type\": \"scatter\", \"x\": [-0.11708530833598096, -0.009709271081250317, null], \"y\": [-0.14061218669955314, 0.0046491559004002, null]}, {\"hoverinfo\": \"text\", \"line\": {\"color\": \"peru\", \"width\": 0.2503936743544508}, \"mode\": \"lines\", \"text\": [\"<b>50</b>\"], \"type\": \"scatter\", \"x\": [-0.11708530833598096, -0.1565613973253825, null], \"y\": [-0.14061218669955314, -0.04805573240281369, null]}, {\"hoverinfo\": \"text\", \"line\": {\"color\": \"peru\", \"width\": 0.2506440495855041}, \"mode\": \"lines\", \"text\": [\"<b>50</b>\"], \"type\": \"scatter\", \"x\": [-0.11708530833598096, 0.037112341418509734, null], \"y\": [-0.14061218669955314, -0.06476133803077848, null]}, {\"hoverinfo\": \"text\", \"line\": {\"color\": \"peru\", \"width\": 0.25010289729866303}, \"mode\": \"lines\", \"text\": [\"<b>42</b>\"], \"type\": \"scatter\", \"x\": [-0.11708530833598096, 0.0021476759594681615, null], \"y\": [-0.14061218669955314, -0.14325253494920223, null]}, {\"hoverinfo\": \"text\", \"line\": {\"color\": \"peru\", \"width\": 0.2501463901211927}, \"mode\": \"lines\", \"text\": [\"<b>29</b>\"], \"type\": \"scatter\", \"x\": [-0.11708530833598096, -0.03799795302862708, null], \"y\": [-0.14061218669955314, -0.10046936690130284, null]}, {\"hoverinfo\": \"text\", \"line\": {\"color\": \"peru\", \"width\": 0.2501532550305584}, \"mode\": \"lines\", \"text\": [\"<b>28</b>\"], \"type\": \"scatter\", \"x\": [-0.11708530833598096, -0.034520369679783496, null], \"y\": [-0.14061218669955314, -0.20641756411669696, null]}, {\"hoverinfo\": \"text\", \"line\": {\"color\": \"peru\", \"width\": 0.25027589603970923}, \"mode\": \"lines\", \"text\": [\"<b>27</b>\"], \"type\": \"scatter\", \"x\": [-0.11708530833598096, 0.03914642094439085, null], \"y\": [-0.14061218669955314, -0.16815542693602434, null]}, {\"hoverinfo\": \"text\", \"line\": {\"color\": \"peru\", \"width\": 0.2500744299067735}, \"mode\": \"lines\", \"text\": [\"<b>24</b>\"], \"type\": \"scatter\", \"x\": [-0.11708530833598096, 0.03097250257589602, null], \"y\": [-0.14061218669955314, -0.02726580821300639, null]}, {\"hoverinfo\": \"text\", \"line\": {\"color\": \"peru\", \"width\": 0.2503991028632931}, \"mode\": \"lines\", \"text\": [\"<b>17</b>\"], \"type\": \"scatter\", \"x\": [-0.11708530833598096, 0.1383800971725734, null], \"y\": [-0.14061218669955314, -0.017831327287119475, null]}, {\"hoverinfo\": \"text\", \"line\": {\"color\": \"peru\", \"width\": 0.25066590742136724}, \"mode\": \"lines\", \"text\": [\"<b>15</b>\"], \"type\": \"scatter\", \"x\": [-0.11708530833598096, 0.08602385684170852, null], \"y\": [-0.14061218669955314, -0.09889936429271984, null]}, {\"hoverinfo\": \"text\", \"line\": {\"color\": \"peru\", \"width\": 0.2502009919372917}, \"mode\": \"lines\", \"text\": [\"<b>14</b>\"], \"type\": \"scatter\", \"x\": [-0.11708530833598096, -0.13921754181663373, null], \"y\": [-0.14061218669955314, -0.2230008879936063, null]}, {\"hoverinfo\": \"text\", \"line\": {\"color\": \"peru\", \"width\": 0.2512249795422884}, \"mode\": \"lines\", \"text\": [\"<b>11</b>\"], \"type\": \"scatter\", \"x\": [-0.11708530833598096, 0.076044024846554, null], \"y\": [-0.14061218669955314, -0.2285230196945629, null]}, {\"hoverinfo\": \"text\", \"line\": {\"color\": \"peru\", \"width\": 0.2903007115651724}, \"mode\": \"lines\", \"text\": [\"<b>9</b>\"], \"type\": \"scatter\", \"x\": [-0.11708530833598096, -0.41973072647800724, null], \"y\": [-0.14061218669955314, 0.060744149500660975, null]}, {\"hoverinfo\": \"text\", \"line\": {\"color\": \"peru\", \"width\": 0.2503685080238584}, \"mode\": \"lines\", \"text\": [\"<b>9</b>\"], \"type\": \"scatter\", \"x\": [-0.11708530833598096, -0.17699050553477794, null], \"y\": [-0.14061218669955314, 0.08436261288959324, null]}, {\"hoverinfo\": \"text\", \"line\": {\"color\": \"peru\", \"width\": 0.25032032489623646}, \"mode\": \"lines\", \"text\": [\"<b>8</b>\"], \"type\": \"scatter\", \"x\": [-0.11708530833598096, -0.060870871982170276, null], \"y\": [-0.14061218669955314, 0.05847561375370165, null]}, {\"hoverinfo\": \"text\", \"line\": {\"color\": \"peru\", \"width\": 0.2509441373096191}, \"mode\": \"lines\", \"text\": [\"<b>7</b>\"], \"type\": \"scatter\", \"x\": [-0.11708530833598096, -0.3216013916991431, null], \"y\": [-0.14061218669955314, -0.10395182662034332, null]}, {\"hoverinfo\": \"text\", \"line\": {\"color\": \"peru\", \"width\": 0.25034685669063705}, \"mode\": \"lines\", \"text\": [\"<b>5</b>\"], \"type\": \"scatter\", \"x\": [-0.11708530833598096, -0.20084994632269787, null], \"y\": [-0.14061218669955314, -0.19226855649186103, null]}, {\"hoverinfo\": \"text\", \"line\": {\"color\": \"peru\", \"width\": 0.250257626833549}, \"mode\": \"lines\", \"text\": [\"<b>5</b>\"], \"type\": \"scatter\", \"x\": [-0.11708530833598096, 0.026589664548724874, null], \"y\": [-0.14061218669955314, -0.30952614571382137, null]}, {\"hoverinfo\": \"text\", \"line\": {\"color\": \"peru\", \"width\": 0.2500530420972693}, \"mode\": \"lines\", \"text\": [\"<b>3</b>\"], \"type\": \"scatter\", \"x\": [-0.11708530833598096, -0.11764096428606644, null], \"y\": [-0.14061218669955314, 0.018569149606881274, null]}, {\"hoverinfo\": \"text\", \"line\": {\"color\": \"peru\", \"width\": 0.250160202284171}, \"mode\": \"lines\", \"text\": [\"<b>3</b>\"], \"type\": \"scatter\", \"x\": [-0.11708530833598096, -0.06926016718356055, null], \"y\": [-0.14061218669955314, -0.30758311375772085, null]}, {\"hoverinfo\": \"text\", \"line\": {\"color\": \"peru\", \"width\": 0.25015519817693066}, \"mode\": \"lines\", \"text\": [\"<b>3</b>\"], \"type\": \"scatter\", \"x\": [-0.11708530833598096, -0.21382146535799829, null], \"y\": [-0.14061218669955314, -0.0743844082798468, null]}, {\"hoverinfo\": \"text\", \"line\": {\"color\": \"peru\", \"width\": 0.25086473362310785}, \"mode\": \"lines\", \"text\": [\"<b>2</b>\"], \"type\": \"scatter\", \"x\": [-0.11708530833598096, -0.15761049738613608, null], \"y\": [-0.14061218669955314, -0.3150798978482202, null]}, {\"hoverinfo\": \"text\", \"line\": {\"color\": \"peru\", \"width\": 0.25280173713826914}, \"mode\": \"lines\", \"text\": [\"<b>2</b>\"], \"type\": \"scatter\", \"x\": [-0.11708530833598096, -0.4907078785290733, null], \"y\": [-0.14061218669955314, -0.10678684678237646, null]}, {\"hoverinfo\": \"text\", \"line\": {\"color\": \"peru\", \"width\": 0.25211735388344625}, \"mode\": \"lines\", \"text\": [\"<b>1</b>\"], \"type\": \"scatter\", \"x\": [-0.11708530833598096, -0.45566646999102844, null], \"y\": [-0.14061218669955314, -0.3086962806174099, null]}, {\"hoverinfo\": \"text\", \"line\": {\"color\": \"peru\", \"width\": 0.250078219328986}, \"mode\": \"lines\", \"text\": [\"<b>1</b>\"], \"type\": \"scatter\", \"x\": [-0.11708530833598096, -0.23436239491697763, null], \"y\": [-0.14061218669955314, 0.02962341723103683, null]}, {\"hoverinfo\": \"text\", \"line\": {\"color\": \"peru\", \"width\": 0.2516174320460459}, \"mode\": \"lines\", \"text\": [\"<b>6</b>\"], \"type\": \"scatter\", \"x\": [0.2384114147397721, -0.0264655059238801, null], \"y\": [-0.34719956689021464, -0.06257900558246596, null]}, {\"hoverinfo\": \"text\", \"line\": {\"color\": \"peru\", \"width\": 0.25046470977132623}, \"mode\": \"lines\", \"text\": [\"<b>4</b>\"], \"type\": \"scatter\", \"x\": [0.2384114147397721, -0.008620714316374366, null], \"y\": [-0.34719956689021464, -0.2384014836653278, null]}, {\"hoverinfo\": \"text\", \"line\": {\"color\": \"peru\", \"width\": 0.25620041101184754}, \"mode\": \"lines\", \"text\": [\"<b>3</b>\"], \"type\": \"scatter\", \"x\": [0.2384114147397721, 0.037112341418509734, null], \"y\": [-0.34719956689021464, -0.06476133803077848, null]}, {\"hoverinfo\": \"text\", \"line\": {\"color\": \"peru\", \"width\": 0.2512071199754236}, \"mode\": \"lines\", \"text\": [\"<b>2</b>\"], \"type\": \"scatter\", \"x\": [0.2384114147397721, 0.03097250257589602, null], \"y\": [-0.34719956689021464, -0.02726580821300639, null]}, {\"hoverinfo\": \"text\", \"line\": {\"color\": \"peru\", \"width\": 0.2505288540709963}, \"mode\": \"lines\", \"text\": [\"<b>1</b>\"], \"type\": \"scatter\", \"x\": [0.2384114147397721, 0.0021476759594681615, null], \"y\": [-0.34719956689021464, -0.14325253494920223, null]}, {\"hoverinfo\": \"text\", \"line\": {\"color\": \"peru\", \"width\": 0.26361074582731636}, \"mode\": \"lines\", \"text\": [\"<b>1</b>\"], \"type\": \"scatter\", \"x\": [0.2384114147397721, 0.076044024846554, null], \"y\": [-0.34719956689021464, -0.2285230196945629, null]}, {\"hoverinfo\": \"text\", \"line\": {\"color\": \"peru\", \"width\": 0.3286119254387696}, \"mode\": \"lines\", \"text\": [\"<b>146</b>\"], \"type\": \"scatter\", \"x\": [-0.3216013916991431, -0.13921754181663373, null], \"y\": [-0.10395182662034332, -0.2230008879936063, null]}, {\"hoverinfo\": \"text\", \"line\": {\"color\": \"peru\", \"width\": 0.2543465125615911}, \"mode\": \"lines\", \"text\": [\"<b>12</b>\"], \"type\": \"scatter\", \"x\": [-0.3216013916991431, 0.03914642094439085, null], \"y\": [-0.10395182662034332, -0.16815542693602434, null]}, {\"hoverinfo\": \"text\", \"line\": {\"color\": \"peru\", \"width\": 0.2510960334600552}, \"mode\": \"lines\", \"text\": [\"<b>10</b>\"], \"type\": \"scatter\", \"x\": [-0.3216013916991431, 0.03097250257589602, null], \"y\": [-0.10395182662034332, -0.02726580821300639, null]}, {\"hoverinfo\": \"text\", \"line\": {\"color\": \"peru\", \"width\": 0.2602008506106944}, \"mode\": \"lines\", \"text\": [\"<b>7</b>\"], \"type\": \"scatter\", \"x\": [-0.3216013916991431, -0.17699050553477794, null], \"y\": [-0.10395182662034332, 0.08436261288959324, null]}, {\"hoverinfo\": \"text\", \"line\": {\"color\": \"peru\", \"width\": 0.2531938178870753}, \"mode\": \"lines\", \"text\": [\"<b>7</b>\"], \"type\": \"scatter\", \"x\": [-0.3216013916991431, 0.037112341418509734, null], \"y\": [-0.10395182662034332, -0.06476133803077848, null]}, {\"hoverinfo\": \"text\", \"line\": {\"color\": \"peru\", \"width\": 0.2503216602124673}, \"mode\": \"lines\", \"text\": [\"<b>7</b>\"], \"type\": \"scatter\", \"x\": [-0.3216013916991431, -0.0264655059238801, null], \"y\": [-0.10395182662034332, -0.06257900558246596, null]}, {\"hoverinfo\": \"text\", \"line\": {\"color\": \"peru\", \"width\": 0.25008903681082817}, \"mode\": \"lines\", \"text\": [\"<b>5</b>\"], \"type\": \"scatter\", \"x\": [-0.3216013916991431, -0.008620714316374366, null], \"y\": [-0.10395182662034332, -0.2384014836653278, null]}, {\"hoverinfo\": \"text\", \"line\": {\"color\": \"peru\", \"width\": 0.2555489762448875}, \"mode\": \"lines\", \"text\": [\"<b>2</b>\"], \"type\": \"scatter\", \"x\": [-0.3216013916991431, -0.23436239491697763, null], \"y\": [-0.10395182662034332, 0.02962341723103683, null]}, {\"hoverinfo\": \"text\", \"line\": {\"color\": \"peru\", \"width\": 0.26547424226802635}, \"mode\": \"lines\", \"text\": [\"<b>1</b>\"], \"type\": \"scatter\", \"x\": [-0.3216013916991431, -0.15761049738613608, null], \"y\": [-0.10395182662034332, -0.3150798978482202, null]}, {\"hoverinfo\": \"text\", \"line\": {\"color\": \"peru\", \"width\": 0.2501783355935863}, \"mode\": \"lines\", \"text\": [\"<b>1</b>\"], \"type\": \"scatter\", \"x\": [-0.3216013916991431, -0.03799795302862708, null], \"y\": [-0.10395182662034332, -0.10046936690130284, null]}, {\"hoverinfo\": \"text\", \"line\": {\"color\": \"peru\", \"width\": 0.2501931420342164}, \"mode\": \"lines\", \"text\": [\"<b>1</b>\"], \"type\": \"scatter\", \"x\": [-0.3216013916991431, -0.034520369679783496, null], \"y\": [-0.10395182662034332, -0.20641756411669696, null]}, {\"hoverinfo\": \"text\", \"line\": {\"color\": \"peru\", \"width\": 0.25027923864002743}, \"mode\": \"lines\", \"text\": [\"<b>1</b>\"], \"type\": \"scatter\", \"x\": [-0.3216013916991431, -0.1565613973253825, null], \"y\": [-0.10395182662034332, -0.04805573240281369, null]}, {\"hoverinfo\": \"text\", \"line\": {\"color\": \"peru\", \"width\": 0.25004680754697606}, \"mode\": \"lines\", \"text\": [\"<b>65</b>\"], \"type\": \"scatter\", \"x\": [-0.034520369679783496, -0.008620714316374366, null], \"y\": [-0.20641756411669696, -0.2384014836653278, null]}, {\"hoverinfo\": \"text\", \"line\": {\"color\": \"peru\", \"width\": 0.2506380111703563}, \"mode\": \"lines\", \"text\": [\"<b>42</b>\"], \"type\": \"scatter\", \"x\": [-0.034520369679783496, -0.009709271081250317, null], \"y\": [-0.20641756411669696, 0.0046491559004002, null]}, {\"hoverinfo\": \"text\", \"line\": {\"color\": \"peru\", \"width\": 0.25007909951634616}, \"mode\": \"lines\", \"text\": [\"<b>42</b>\"], \"type\": \"scatter\", \"x\": [-0.034520369679783496, -0.0264655059238801, null], \"y\": [-0.20641756411669696, -0.06257900558246596, null]}, {\"hoverinfo\": \"text\", \"line\": {\"color\": \"peru\", \"width\": 0.25099626909321804}, \"mode\": \"lines\", \"text\": [\"<b>39</b>\"], \"type\": \"scatter\", \"x\": [-0.034520369679783496, -0.11764096428606644, null], \"y\": [-0.20641756411669696, 0.018569149606881274, null]}, {\"hoverinfo\": \"text\", \"line\": {\"color\": \"peru\", \"width\": 0.2505025302626838}, \"mode\": \"lines\", \"text\": [\"<b>37</b>\"], \"type\": \"scatter\", \"x\": [-0.034520369679783496, -0.1565613973253825, null], \"y\": [-0.20641756411669696, -0.04805573240281369, null]}, {\"hoverinfo\": \"text\", \"line\": {\"color\": \"peru\", \"width\": 0.25285248786201797}, \"mode\": \"lines\", \"text\": [\"<b>33</b>\"], \"type\": \"scatter\", \"x\": [-0.034520369679783496, 0.304566913755434, null], \"y\": [-0.20641756411669696, -0.018188746815965686, null]}, {\"hoverinfo\": \"text\", \"line\": {\"color\": \"peru\", \"width\": 0.2606631150384474}, \"mode\": \"lines\", \"text\": [\"<b>22</b>\"], \"type\": \"scatter\", \"x\": [-0.034520369679783496, 0.09091248396374722, null], \"y\": [-0.20641756411669696, -0.3834819239965121, null]}, {\"hoverinfo\": \"text\", \"line\": {\"color\": \"peru\", \"width\": 0.2503692812168625}, \"mode\": \"lines\", \"text\": [\"<b>19</b>\"], \"type\": \"scatter\", \"x\": [-0.034520369679783496, 0.037112341418509734, null], \"y\": [-0.20641756411669696, -0.06476133803077848, null]}, {\"hoverinfo\": \"text\", \"line\": {\"color\": \"peru\", \"width\": 0.2500588668244571}, \"mode\": \"lines\", \"text\": [\"<b>13</b>\"], \"type\": \"scatter\", \"x\": [-0.034520369679783496, 0.03097250257589602, null], \"y\": [-0.20641756411669696, -0.02726580821300639, null]}, {\"hoverinfo\": \"text\", \"line\": {\"color\": \"peru\", \"width\": 0.2500898989966094}, \"mode\": \"lines\", \"text\": [\"<b>12</b>\"], \"type\": \"scatter\", \"x\": [-0.034520369679783496, -0.03799795302862708, null], \"y\": [-0.20641756411669696, -0.10046936690130284, null]}, {\"hoverinfo\": \"text\", \"line\": {\"color\": \"peru\", \"width\": 0.2500422989460187}, \"mode\": \"lines\", \"text\": [\"<b>12</b>\"], \"type\": \"scatter\", \"x\": [-0.034520369679783496, 0.0021476759594681615, null], \"y\": [-0.20641756411669696, -0.14325253494920223, null]}, {\"hoverinfo\": \"text\", \"line\": {\"color\": \"peru\", \"width\": 0.2503203005996529}, \"mode\": \"lines\", \"text\": [\"<b>9</b>\"], \"type\": \"scatter\", \"x\": [-0.034520369679783496, 0.1383800971725734, null], \"y\": [-0.20641756411669696, -0.017831327287119475, null]}, {\"hoverinfo\": \"text\", \"line\": {\"color\": \"peru\", \"width\": 0.2505323236326404}, \"mode\": \"lines\", \"text\": [\"<b>8</b>\"], \"type\": \"scatter\", \"x\": [-0.034520369679783496, 0.08602385684170852, null], \"y\": [-0.20641756411669696, -0.09889936429271984, null]}, {\"hoverinfo\": \"text\", \"line\": {\"color\": \"peru\", \"width\": 0.2502286672739546}, \"mode\": \"lines\", \"text\": [\"<b>3</b>\"], \"type\": \"scatter\", \"x\": [-0.034520369679783496, 0.026589664548724874, null], \"y\": [-0.20641756411669696, -0.30952614571382137, null]}, {\"hoverinfo\": \"text\", \"line\": {\"color\": \"peru\", \"width\": 0.2503047295183115}, \"mode\": \"lines\", \"text\": [\"<b>3</b>\"], \"type\": \"scatter\", \"x\": [-0.034520369679783496, -0.20084994632269787, null], \"y\": [-0.20641756411669696, -0.19226855649186103, null]}, {\"hoverinfo\": \"text\", \"line\": {\"color\": \"peru\", \"width\": 0.25018093490422255}, \"mode\": \"lines\", \"text\": [\"<b>3</b>\"], \"type\": \"scatter\", \"x\": [-0.034520369679783496, -0.060870871982170276, null], \"y\": [-0.20641756411669696, 0.05847561375370165, null]}, {\"hoverinfo\": \"text\", \"line\": {\"color\": \"peru\", \"width\": 0.2502352188872042}, \"mode\": \"lines\", \"text\": [\"<b>3</b>\"], \"type\": \"scatter\", \"x\": [-0.034520369679783496, -0.06926016718356055, null], \"y\": [-0.20641756411669696, -0.30758311375772085, null]}, {\"hoverinfo\": \"text\", \"line\": {\"color\": \"peru\", \"width\": 0.2503574375592498}, \"mode\": \"lines\", \"text\": [\"<b>2</b>\"], \"type\": \"scatter\", \"x\": [-0.034520369679783496, 0.076044024846554, null], \"y\": [-0.20641756411669696, -0.2285230196945629, null]}, {\"hoverinfo\": \"text\", \"line\": {\"color\": \"peru\", \"width\": 0.250227391640398}, \"mode\": \"lines\", \"text\": [\"<b>2</b>\"], \"type\": \"scatter\", \"x\": [-0.034520369679783496, -0.23436239491697763, null], \"y\": [-0.20641756411669696, 0.02962341723103683, null]}, {\"hoverinfo\": \"text\", \"line\": {\"color\": \"peru\", \"width\": 0.2500302291391847}, \"mode\": \"lines\", \"text\": [\"<b>2</b>\"], \"type\": \"scatter\", \"x\": [-0.034520369679783496, 0.03914642094439085, null], \"y\": [-0.20641756411669696, -0.16815542693602434, null]}, {\"hoverinfo\": \"text\", \"line\": {\"color\": \"peru\", \"width\": 0.25063627762576557}, \"mode\": \"lines\", \"text\": [\"<b>46</b>\"], \"type\": \"scatter\", \"x\": [-0.17699050553477794, -0.0264655059238801, null], \"y\": [0.08436261288959324, -0.06257900558246596, null]}, {\"hoverinfo\": \"text\", \"line\": {\"color\": \"peru\", \"width\": 0.2533049927606236}, \"mode\": \"lines\", \"text\": [\"<b>25</b>\"], \"type\": \"scatter\", \"x\": [-0.17699050553477794, 0.037112341418509734, null], \"y\": [0.08436261288959324, -0.06476133803077848, null]}, {\"hoverinfo\": \"text\", \"line\": {\"color\": \"peru\", \"width\": 0.2500380134780665}, \"mode\": \"lines\", \"text\": [\"<b>7</b>\"], \"type\": \"scatter\", \"x\": [-0.17699050553477794, -0.008620714316374366, null], \"y\": [0.08436261288959324, -0.2384014836653278, null]}, {\"hoverinfo\": \"text\", \"line\": {\"color\": \"peru\", \"width\": 0.2543902016541001}, \"mode\": \"lines\", \"text\": [\"<b>6</b>\"], \"type\": \"scatter\", \"x\": [-0.17699050553477794, -0.20084994632269787, null], \"y\": [0.08436261288959324, -0.19226855649186103, null]}, {\"hoverinfo\": \"text\", \"line\": {\"color\": \"peru\", \"width\": 0.25019610603889963}, \"mode\": \"lines\", \"text\": [\"<b>6</b>\"], \"type\": \"scatter\", \"x\": [-0.17699050553477794, 0.03097250257589602, null], \"y\": [0.08436261288959324, -0.02726580821300639, null]}, {\"hoverinfo\": \"text\", \"line\": {\"color\": \"peru\", \"width\": 0.2504573207556634}, \"mode\": \"lines\", \"text\": [\"<b>3</b>\"], \"type\": \"scatter\", \"x\": [-0.17699050553477794, -0.13921754181663373, null], \"y\": [0.08436261288959324, -0.2230008879936063, null]}, {\"hoverinfo\": \"text\", \"line\": {\"color\": \"peru\", \"width\": 0.2500784904137346}, \"mode\": \"lines\", \"text\": [\"<b>3</b>\"], \"type\": \"scatter\", \"x\": [-0.17699050553477794, 0.0021476759594681615, null], \"y\": [0.08436261288959324, -0.14325253494920223, null]}, {\"hoverinfo\": \"text\", \"line\": {\"color\": \"peru\", \"width\": 0.25021286282384864}, \"mode\": \"lines\", \"text\": [\"<b>2</b>\"], \"type\": \"scatter\", \"x\": [-0.17699050553477794, 0.03914642094439085, null], \"y\": [0.08436261288959324, -0.16815542693602434, null]}, {\"hoverinfo\": \"text\", \"line\": {\"color\": \"peru\", \"width\": 0.25107422411987157}, \"mode\": \"lines\", \"text\": [\"<b>2</b>\"], \"type\": \"scatter\", \"x\": [-0.17699050553477794, 0.026589664548724874, null], \"y\": [0.08436261288959324, -0.30952614571382137, null]}, {\"hoverinfo\": \"text\", \"line\": {\"color\": \"peru\", \"width\": 0.25165770201618964}, \"mode\": \"lines\", \"text\": [\"<b>2</b>\"], \"type\": \"scatter\", \"x\": [-0.17699050553477794, -0.23436239491697763, null], \"y\": [0.08436261288959324, 0.02962341723103683, null]}, {\"hoverinfo\": \"text\", \"line\": {\"color\": \"peru\", \"width\": 0.33993586866618325}, \"mode\": \"lines\", \"text\": [\"<b>1</b>\"], \"type\": \"scatter\", \"x\": [-0.17699050553477794, -0.5868292045207596, null], \"y\": [0.08436261288959324, 0.3740844462328424, null]}, {\"hoverinfo\": \"text\", \"line\": {\"color\": \"peru\", \"width\": 0.30026545377164526}, \"mode\": \"lines\", \"text\": [\"<b>1</b>\"], \"type\": \"scatter\", \"x\": [-0.17699050553477794, 0.12187876408755381, null], \"y\": [0.08436261288959324, 0.40402596435716875, null]}, {\"hoverinfo\": \"text\", \"line\": {\"color\": \"peru\", \"width\": 0.2500524315908151}, \"mode\": \"lines\", \"text\": [\"<b>1</b>\"], \"type\": \"scatter\", \"x\": [-0.17699050553477794, -0.03799795302862708, null], \"y\": [0.08436261288959324, -0.10046936690130284, null]}, {\"hoverinfo\": \"text\", \"line\": {\"color\": \"peru\", \"width\": 0.2510851610427721}, \"mode\": \"lines\", \"text\": [\"<b>1</b>\"], \"type\": \"scatter\", \"x\": [-0.17699050553477794, 0.076044024846554, null], \"y\": [0.08436261288959324, -0.2285230196945629, null]}, {\"hoverinfo\": \"text\", \"line\": {\"color\": \"peru\", \"width\": 0.2502394622608107}, \"mode\": \"lines\", \"text\": [\"<b>1</b>\"], \"type\": \"scatter\", \"x\": [-0.17699050553477794, 0.1383800971725734, null], \"y\": [0.08436261288959324, -0.017831327287119475, null]}, {\"hoverinfo\": \"text\", \"line\": {\"color\": \"peru\", \"width\": 0.25065552003815017}, \"mode\": \"lines\", \"text\": [\"<b>1</b>\"], \"type\": \"scatter\", \"x\": [-0.17699050553477794, 0.1782997712493181, null], \"y\": [0.08436261288959324, -0.1274569078232588, null]}, {\"hoverinfo\": \"text\", \"line\": {\"color\": \"peru\", \"width\": 0.25253755912818443}, \"mode\": \"lines\", \"text\": [\"<b>2</b>\"], \"type\": \"scatter\", \"x\": [0.5252622617720751, -0.0264655059238801, null], \"y\": [-0.034926880980845794, -0.06257900558246596, null]}, {\"hoverinfo\": \"text\", \"line\": {\"color\": \"peru\", \"width\": 0.258897887286336}, \"mode\": \"lines\", \"text\": [\"<b>1</b>\"], \"type\": \"scatter\", \"x\": [0.5252622617720751, 0.037112341418509734, null], \"y\": [-0.034926880980845794, -0.06476133803077848, null]}, {\"hoverinfo\": \"text\", \"line\": {\"color\": \"peru\", \"width\": 0.26064423330226905}, \"mode\": \"lines\", \"text\": [\"<b>2</b>\"], \"type\": \"scatter\", \"x\": [0.12187876408755381, 0.037112341418509734, null], \"y\": [0.40402596435716875, -0.06476133803077848, null]}, {\"hoverinfo\": \"text\", \"line\": {\"color\": \"peru\", \"width\": 0.9735427785392133}, \"mode\": \"lines\", \"text\": [\"<b>1</b>\"], \"type\": \"scatter\", \"x\": [0.12187876408755381, 0.14140656101499638, null], \"y\": [0.40402596435716875, 0.1534315269562114, null]}, {\"hoverinfo\": \"text\", \"line\": {\"color\": \"peru\", \"width\": 0.2506525965316144}, \"mode\": \"lines\", \"text\": [\"<b>4</b>\"], \"type\": \"scatter\", \"x\": [0.304566913755434, -0.009709271081250317, null], \"y\": [-0.018188746815965686, 0.0046491559004002, null]}, {\"hoverinfo\": \"text\", \"line\": {\"color\": \"peru\", \"width\": 0.25014627759932195}, \"mode\": \"lines\", \"text\": [\"<b>3</b>\"], \"type\": \"scatter\", \"x\": [0.304566913755434, 0.03097250257589602, null], \"y\": [-0.018188746815965686, -0.02726580821300639, null]}, {\"hoverinfo\": \"text\", \"line\": {\"color\": \"peru\", \"width\": 0.2502440863124593}, \"mode\": \"lines\", \"text\": [\"<b>2</b>\"], \"type\": \"scatter\", \"x\": [0.304566913755434, -0.1565613973253825, null], \"y\": [-0.018188746815965686, -0.04805573240281369, null]}, {\"hoverinfo\": \"text\", \"line\": {\"color\": \"peru\", \"width\": 0.2501584877176055}, \"mode\": \"lines\", \"text\": [\"<b>2</b>\"], \"type\": \"scatter\", \"x\": [0.304566913755434, -0.03799795302862708, null], \"y\": [-0.018188746815965686, -0.10046936690130284, null]}, {\"hoverinfo\": \"text\", \"line\": {\"color\": \"peru\", \"width\": 0.25139341462330606}, \"mode\": \"lines\", \"text\": [\"<b>2</b>\"], \"type\": \"scatter\", \"x\": [0.304566913755434, 0.08602385684170852, null], \"y\": [-0.018188746815965686, -0.09889936429271984, null]}, {\"hoverinfo\": \"text\", \"line\": {\"color\": \"peru\", \"width\": 0.25000795017627553}, \"mode\": \"lines\", \"text\": [\"<b>1</b>\"], \"type\": \"scatter\", \"x\": [0.304566913755434, -0.008620714316374366, null], \"y\": [-0.018188746815965686, -0.2384014836653278, null]}, {\"hoverinfo\": \"text\", \"line\": {\"color\": \"peru\", \"width\": 0.2500204760402582}, \"mode\": \"lines\", \"text\": [\"<b>1</b>\"], \"type\": \"scatter\", \"x\": [0.304566913755434, -0.0264655059238801, null], \"y\": [-0.018188746815965686, -0.06257900558246596, null]}, {\"hoverinfo\": \"text\", \"line\": {\"color\": \"peru\", \"width\": 0.26304575834858257}, \"mode\": \"lines\", \"text\": [\"<b>67</b>\"], \"type\": \"scatter\", \"x\": [-0.20084994632269787, 0.037112341418509734, null], \"y\": [-0.19226855649186103, -0.06476133803077848, null]}, {\"hoverinfo\": \"text\", \"line\": {\"color\": \"peru\", \"width\": 0.250613226872406}, \"mode\": \"lines\", \"text\": [\"<b>27</b>\"], \"type\": \"scatter\", \"x\": [-0.20084994632269787, -0.0264655059238801, null], \"y\": [-0.19226855649186103, -0.06257900558246596, null]}, {\"hoverinfo\": \"text\", \"line\": {\"color\": \"peru\", \"width\": 0.25120221599699954}, \"mode\": \"lines\", \"text\": [\"<b>23</b>\"], \"type\": \"scatter\", \"x\": [-0.20084994632269787, 0.03097250257589602, null], \"y\": [-0.19226855649186103, -0.02726580821300639, null]}, {\"hoverinfo\": \"text\", \"line\": {\"color\": \"peru\", \"width\": 0.25128125503410353}, \"mode\": \"lines\", \"text\": [\"<b>16</b>\"], \"type\": \"scatter\", \"x\": [-0.20084994632269787, -0.03799795302862708, null], \"y\": [-0.19226855649186103, -0.10046936690130284, null]}, {\"hoverinfo\": \"text\", \"line\": {\"color\": \"peru\", \"width\": 0.2540071525628537}, \"mode\": \"lines\", \"text\": [\"<b>16</b>\"], \"type\": \"scatter\", \"x\": [-0.20084994632269787, -0.13921754181663373, null], \"y\": [-0.19226855649186103, -0.2230008879936063, null]}, {\"hoverinfo\": \"text\", \"line\": {\"color\": \"peru\", \"width\": 0.25010267272616077}, \"mode\": \"lines\", \"text\": [\"<b>11</b>\"], \"type\": \"scatter\", \"x\": [-0.20084994632269787, -0.008620714316374366, null], \"y\": [-0.19226855649186103, -0.2384014836653278, null]}, {\"hoverinfo\": \"text\", \"line\": {\"color\": \"peru\", \"width\": 0.25081938431649725}, \"mode\": \"lines\", \"text\": [\"<b>5</b>\"], \"type\": \"scatter\", \"x\": [-0.20084994632269787, 0.03914642094439085, null], \"y\": [-0.19226855649186103, -0.16815542693602434, null]}, {\"hoverinfo\": \"text\", \"line\": {\"color\": \"peru\", \"width\": 0.34059297145027023}, \"mode\": \"lines\", \"text\": [\"<b>4</b>\"], \"type\": \"scatter\", \"x\": [-0.20084994632269787, -0.4907078785290733, null], \"y\": [-0.19226855649186103, -0.10678684678237646, null]}, {\"hoverinfo\": \"text\", \"line\": {\"color\": \"peru\", \"width\": 0.2503329617713998}, \"mode\": \"lines\", \"text\": [\"<b>4</b>\"], \"type\": \"scatter\", \"x\": [-0.20084994632269787, -0.1565613973253825, null], \"y\": [-0.19226855649186103, -0.04805573240281369, null]}, {\"hoverinfo\": \"text\", \"line\": {\"color\": \"peru\", \"width\": 0.25220046285372866}, \"mode\": \"lines\", \"text\": [\"<b>3</b>\"], \"type\": \"scatter\", \"x\": [-0.20084994632269787, -0.21382146535799829, null], \"y\": [-0.19226855649186103, -0.0743844082798468, null]}, {\"hoverinfo\": \"text\", \"line\": {\"color\": \"peru\", \"width\": 0.2524832554115514}, \"mode\": \"lines\", \"text\": [\"<b>3</b>\"], \"type\": \"scatter\", \"x\": [-0.20084994632269787, 0.026589664548724874, null], \"y\": [-0.19226855649186103, -0.30952614571382137, null]}, {\"hoverinfo\": \"text\", \"line\": {\"color\": \"peru\", \"width\": 0.250935078080979}, \"mode\": \"lines\", \"text\": [\"<b>3</b>\"], \"type\": \"scatter\", \"x\": [-0.20084994632269787, -0.11764096428606644, null], \"y\": [-0.19226855649186103, 0.018569149606881274, null]}, {\"hoverinfo\": \"text\", \"line\": {\"color\": \"peru\", \"width\": 0.2520407444045378}, \"mode\": \"lines\", \"text\": [\"<b>3</b>\"], \"type\": \"scatter\", \"x\": [-0.20084994632269787, 0.08602385684170852, null], \"y\": [-0.19226855649186103, -0.09889936429271984, null]}, {\"hoverinfo\": \"text\", \"line\": {\"color\": \"peru\", \"width\": 0.2505196356876767}, \"mode\": \"lines\", \"text\": [\"<b>3</b>\"], \"type\": \"scatter\", \"x\": [-0.20084994632269787, -0.009709271081250317, null], \"y\": [-0.19226855649186103, 0.0046491559004002, null]}, {\"hoverinfo\": \"text\", \"line\": {\"color\": \"peru\", \"width\": 0.2500437512267329}, \"mode\": \"lines\", \"text\": [\"<b>1</b>\"], \"type\": \"scatter\", \"x\": [-0.20084994632269787, 0.0021476759594681615, null], \"y\": [-0.19226855649186103, -0.14325253494920223, null]}, {\"hoverinfo\": \"text\", \"line\": {\"color\": \"peru\", \"width\": 0.25628039526782725}, \"mode\": \"lines\", \"text\": [\"<b>1</b>\"], \"type\": \"scatter\", \"x\": [-0.20084994632269787, 0.09091248396374722, null], \"y\": [-0.19226855649186103, -0.3834819239965121, null]}, {\"hoverinfo\": \"text\", \"line\": {\"color\": \"peru\", \"width\": 0.2506028441113991}, \"mode\": \"lines\", \"text\": [\"<b>1</b>\"], \"type\": \"scatter\", \"x\": [-0.20084994632269787, -0.060870871982170276, null], \"y\": [-0.19226855649186103, 0.05847561375370165, null]}, {\"hoverinfo\": \"text\", \"line\": {\"color\": \"peru\", \"width\": 0.25134270418898347}, \"mode\": \"lines\", \"text\": [\"<b>1</b>\"], \"type\": \"scatter\", \"x\": [-0.20084994632269787, -0.23436239491697763, null], \"y\": [-0.19226855649186103, 0.02962341723103683, null]}, {\"hoverinfo\": \"text\", \"line\": {\"color\": \"peru\", \"width\": 0.25138839510322586}, \"mode\": \"lines\", \"text\": [\"<b>1</b>\"], \"type\": \"scatter\", \"x\": [-0.20084994632269787, 0.076044024846554, null], \"y\": [-0.19226855649186103, -0.2285230196945629, null]}, {\"hoverinfo\": \"text\", \"line\": {\"color\": \"peru\", \"width\": 0.2503460336683732}, \"mode\": \"lines\", \"text\": [\"<b>1</b>\"], \"type\": \"scatter\", \"x\": [-0.20084994632269787, 0.1383800971725734, null], \"y\": [-0.19226855649186103, -0.017831327287119475, null]}, {\"hoverinfo\": \"text\", \"line\": {\"color\": \"peru\", \"width\": 0.25077918784820596}, \"mode\": \"lines\", \"text\": [\"<b>30</b>\"], \"type\": \"scatter\", \"x\": [-0.23436239491697763, -0.0264655059238801, null], \"y\": [0.02962341723103683, -0.06257900558246596, null]}, {\"hoverinfo\": \"text\", \"line\": {\"color\": \"peru\", \"width\": 0.2509673763546344}, \"mode\": \"lines\", \"text\": [\"<b>16</b>\"], \"type\": \"scatter\", \"x\": [-0.23436239491697763, 0.03097250257589602, null], \"y\": [0.02962341723103683, -0.02726580821300639, null]}, {\"hoverinfo\": \"text\", \"line\": {\"color\": \"peru\", \"width\": 0.2501569086417744}, \"mode\": \"lines\", \"text\": [\"<b>15</b>\"], \"type\": \"scatter\", \"x\": [-0.23436239491697763, -0.008620714316374366, null], \"y\": [0.02962341723103683, -0.2384014836653278, null]}, {\"hoverinfo\": \"text\", \"line\": {\"color\": \"peru\", \"width\": 0.2511335225538455}, \"mode\": \"lines\", \"text\": [\"<b>12</b>\"], \"type\": \"scatter\", \"x\": [-0.23436239491697763, -0.03799795302862708, null], \"y\": [0.02962341723103683, -0.10046936690130284, null]}, {\"hoverinfo\": \"text\", \"line\": {\"color\": \"peru\", \"width\": 0.2512079398836698}, \"mode\": \"lines\", \"text\": [\"<b>11</b>\"], \"type\": \"scatter\", \"x\": [-0.23436239491697763, -0.1565613973253825, null], \"y\": [0.02962341723103683, -0.04805573240281369, null]}, {\"hoverinfo\": \"text\", \"line\": {\"color\": \"peru\", \"width\": 0.2523175627050754}, \"mode\": \"lines\", \"text\": [\"<b>10</b>\"], \"type\": \"scatter\", \"x\": [-0.23436239491697763, 0.037112341418509734, null], \"y\": [0.02962341723103683, -0.06476133803077848, null]}, {\"hoverinfo\": \"text\", \"line\": {\"color\": \"peru\", \"width\": 0.29724503416827575}, \"mode\": \"lines\", \"text\": [\"<b>6</b>\"], \"type\": \"scatter\", \"x\": [-0.23436239491697763, -0.15761049738613608, null], \"y\": [0.02962341723103683, -0.3150798978482202, null]}, {\"hoverinfo\": \"text\", \"line\": {\"color\": \"peru\", \"width\": 0.25080411012236226}, \"mode\": \"lines\", \"text\": [\"<b>4</b>\"], \"type\": \"scatter\", \"x\": [-0.23436239491697763, -0.009709271081250317, null], \"y\": [0.02962341723103683, 0.0046491559004002, null]}, {\"hoverinfo\": \"text\", \"line\": {\"color\": \"peru\", \"width\": 0.25019853816941384}, \"mode\": \"lines\", \"text\": [\"<b>4</b>\"], \"type\": \"scatter\", \"x\": [-0.23436239491697763, 0.0021476759594681615, null], \"y\": [0.02962341723103683, -0.14325253494920223, null]}, {\"hoverinfo\": \"text\", \"line\": {\"color\": \"peru\", \"width\": 0.25071029317523214}, \"mode\": \"lines\", \"text\": [\"<b>2</b>\"], \"type\": \"scatter\", \"x\": [-0.23436239491697763, -0.11764096428606644, null], \"y\": [0.02962341723103683, 0.018569149606881274, null]}, {\"hoverinfo\": \"text\", \"line\": {\"color\": \"peru\", \"width\": 0.2520548628393033}, \"mode\": \"lines\", \"text\": [\"<b>2</b>\"], \"type\": \"scatter\", \"x\": [-0.23436239491697763, -0.06926016718356055, null], \"y\": [0.02962341723103683, -0.30758311375772085, null]}, {\"hoverinfo\": \"text\", \"line\": {\"color\": \"peru\", \"width\": 0.2516220104842283}, \"mode\": \"lines\", \"text\": [\"<b>2</b>\"], \"type\": \"scatter\", \"x\": [-0.23436239491697763, 0.08602385684170852, null], \"y\": [0.02962341723103683, -0.09889936429271984, null]}, {\"hoverinfo\": \"text\", \"line\": {\"color\": \"peru\", \"width\": 0.2505716680441474}, \"mode\": \"lines\", \"text\": [\"<b>2</b>\"], \"type\": \"scatter\", \"x\": [-0.23436239491697763, -0.13921754181663373, null], \"y\": [0.02962341723103683, -0.2230008879936063, null]}, {\"hoverinfo\": \"text\", \"line\": {\"color\": \"peru\", \"width\": 0.3105339022053523}, \"mode\": \"lines\", \"text\": [\"<b>1</b>\"], \"type\": \"scatter\", \"x\": [-0.23436239491697763, -0.4106235388170116, null], \"y\": [0.02962341723103683, 0.5541072673739492, null]}, {\"hoverinfo\": \"text\", \"line\": {\"color\": \"peru\", \"width\": 0.25072273254054106}, \"mode\": \"lines\", \"text\": [\"<b>1</b>\"], \"type\": \"scatter\", \"x\": [-0.23436239491697763, -0.060870871982170276, null], \"y\": [0.02962341723103683, 0.05847561375370165, null]}, {\"hoverinfo\": \"text\", \"line\": {\"color\": \"peru\", \"width\": 0.2508945525998097}, \"mode\": \"lines\", \"text\": [\"<b>1</b>\"], \"type\": \"scatter\", \"x\": [-0.23436239491697763, -0.21382146535799829, null], \"y\": [0.02962341723103683, -0.0743844082798468, null]}, {\"hoverinfo\": \"text\", \"line\": {\"color\": \"peru\", \"width\": 0.2507309263959233}, \"mode\": \"lines\", \"text\": [\"<b>1678</b>\"], \"type\": \"scatter\", \"x\": [-0.0264655059238801, -0.0264655059238801, null], \"y\": [-0.06257900558246596, -0.06257900558246596, null]}, {\"hoverinfo\": \"text\", \"line\": {\"color\": \"peru\", \"width\": 0.250100919279199}, \"mode\": \"lines\", \"text\": [\"<b>582</b>\"], \"type\": \"scatter\", \"x\": [-0.0264655059238801, -0.008620714316374366, null], \"y\": [-0.06257900558246596, -0.2384014836653278, null]}, {\"hoverinfo\": \"text\", \"line\": {\"color\": \"peru\", \"width\": 0.25036334298774054}, \"mode\": \"lines\", \"text\": [\"<b>356</b>\"], \"type\": \"scatter\", \"x\": [-0.0264655059238801, 0.03097250257589602, null], \"y\": [-0.06257900558246596, -0.02726580821300639, null]}, {\"hoverinfo\": \"text\", \"line\": {\"color\": \"peru\", \"width\": 0.25139694247619354}, \"mode\": \"lines\", \"text\": [\"<b>349</b>\"], \"type\": \"scatter\", \"x\": [-0.0264655059238801, 0.037112341418509734, null], \"y\": [-0.06257900558246596, -0.06476133803077848, null]}, {\"hoverinfo\": \"text\", \"line\": {\"color\": \"peru\", \"width\": 0.2501938865382152}, \"mode\": \"lines\", \"text\": [\"<b>234</b>\"], \"type\": \"scatter\", \"x\": [-0.0264655059238801, 0.0021476759594681615, null], \"y\": [-0.06257900558246596, -0.14325253494920223, null]}, {\"hoverinfo\": \"text\", \"line\": {\"color\": \"peru\", \"width\": 0.2503614081058507}, \"mode\": \"lines\", \"text\": [\"<b>224</b>\"], \"type\": \"scatter\", \"x\": [-0.0264655059238801, -0.03799795302862708, null], \"y\": [-0.06257900558246596, -0.10046936690130284, null]}, {\"hoverinfo\": \"text\", \"line\": {\"color\": \"peru\", \"width\": 0.25043894319820215}, \"mode\": \"lines\", \"text\": [\"<b>217</b>\"], \"type\": \"scatter\", \"x\": [-0.0264655059238801, -0.1565613973253825, null], \"y\": [-0.06257900558246596, -0.04805573240281369, null]}, {\"hoverinfo\": \"text\", \"line\": {\"color\": \"peru\", \"width\": 0.25035793929835715}, \"mode\": \"lines\", \"text\": [\"<b>109</b>\"], \"type\": \"scatter\", \"x\": [-0.0264655059238801, 0.03914642094439085, null], \"y\": [-0.06257900558246596, -0.16815542693602434, null]}, {\"hoverinfo\": \"text\", \"line\": {\"color\": \"peru\", \"width\": 0.2504364744791846}, \"mode\": \"lines\", \"text\": [\"<b>91</b>\"], \"type\": \"scatter\", \"x\": [-0.0264655059238801, -0.13921754181663373, null], \"y\": [-0.06257900558246596, -0.2230008879936063, null]}, {\"hoverinfo\": \"text\", \"line\": {\"color\": \"peru\", \"width\": 0.2501767673934007}, \"mode\": \"lines\", \"text\": [\"<b>52</b>\"], \"type\": \"scatter\", \"x\": [-0.0264655059238801, -0.009709271081250317, null], \"y\": [-0.06257900558246596, 0.0046491559004002, null]}, {\"hoverinfo\": \"text\", \"line\": {\"color\": \"peru\", \"width\": 0.25073099439127583}, \"mode\": \"lines\", \"text\": [\"<b>42</b>\"], \"type\": \"scatter\", \"x\": [-0.0264655059238801, -0.06926016718356055, null], \"y\": [-0.06257900558246596, -0.30758311375772085, null]}, {\"hoverinfo\": \"text\", \"line\": {\"color\": \"peru\", \"width\": 0.25029666382550175}, \"mode\": \"lines\", \"text\": [\"<b>41</b>\"], \"type\": \"scatter\", \"x\": [-0.0264655059238801, 0.1383800971725734, null], \"y\": [-0.06257900558246596, -0.017831327287119475, null]}, {\"hoverinfo\": \"text\", \"line\": {\"color\": \"peru\", \"width\": 0.2504879899570126}, \"mode\": \"lines\", \"text\": [\"<b>35</b>\"], \"type\": \"scatter\", \"x\": [-0.0264655059238801, 0.08602385684170852, null], \"y\": [-0.06257900558246596, -0.09889936429271984, null]}, {\"hoverinfo\": \"text\", \"line\": {\"color\": \"peru\", \"width\": 0.25051554569153534}, \"mode\": \"lines\", \"text\": [\"<b>33</b>\"], \"type\": \"scatter\", \"x\": [-0.0264655059238801, -0.21382146535799829, null], \"y\": [-0.06257900558246596, -0.0743844082798468, null]}, {\"hoverinfo\": \"text\", \"line\": {\"color\": \"peru\", \"width\": 0.2503617305119466}, \"mode\": \"lines\", \"text\": [\"<b>29</b>\"], \"type\": \"scatter\", \"x\": [-0.0264655059238801, -0.060870871982170276, null], \"y\": [-0.06257900558246596, 0.05847561375370165, null]}, {\"hoverinfo\": \"text\", \"line\": {\"color\": \"peru\", \"width\": 0.25091091711675656}, \"mode\": \"lines\", \"text\": [\"<b>29</b>\"], \"type\": \"scatter\", \"x\": [-0.0264655059238801, 0.076044024846554, null], \"y\": [-0.06257900558246596, -0.2285230196945629, null]}, {\"hoverinfo\": \"text\", \"line\": {\"color\": \"peru\", \"width\": 0.25036434466429297}, \"mode\": \"lines\", \"text\": [\"<b>22</b>\"], \"type\": \"scatter\", \"x\": [-0.0264655059238801, 0.026589664548724874, null], \"y\": [-0.06257900558246596, -0.30952614571382137, null]}, {\"hoverinfo\": \"text\", \"line\": {\"color\": \"peru\", \"width\": 0.252378884674779}, \"mode\": \"lines\", \"text\": [\"<b>18</b>\"], \"type\": \"scatter\", \"x\": [-0.0264655059238801, -0.15761049738613608, null], \"y\": [-0.06257900558246596, -0.3150798978482202, null]}, {\"hoverinfo\": \"text\", \"line\": {\"color\": \"peru\", \"width\": 0.25010100991933637}, \"mode\": \"lines\", \"text\": [\"<b>17</b>\"], \"type\": \"scatter\", \"x\": [-0.0264655059238801, -0.11764096428606644, null], \"y\": [-0.06257900558246596, 0.018569149606881274, null]}, {\"hoverinfo\": \"text\", \"line\": {\"color\": \"peru\", \"width\": 0.25012509067691047}, \"mode\": \"lines\", \"text\": [\"<b>6</b>\"], \"type\": \"scatter\", \"x\": [-0.0264655059238801, 0.1782997712493181, null], \"y\": [-0.06257900558246596, -0.1274569078232588, null]}, {\"hoverinfo\": \"text\", \"line\": {\"color\": \"peru\", \"width\": 0.2505109387057806}, \"mode\": \"lines\", \"text\": [\"<b>4</b>\"], \"type\": \"scatter\", \"x\": [-0.0264655059238801, -0.2830525026756416, null], \"y\": [-0.06257900558246596, -0.376171070009455, null]}, {\"hoverinfo\": \"text\", \"line\": {\"color\": \"peru\", \"width\": 0.250844632615109}, \"mode\": \"lines\", \"text\": [\"<b>2</b>\"], \"type\": \"scatter\", \"x\": [-0.0264655059238801, 0.14140656101499638, null], \"y\": [-0.06257900558246596, 0.1534315269562114, null]}, {\"hoverinfo\": \"text\", \"line\": {\"color\": \"peru\", \"width\": 0.25011259645562534}, \"mode\": \"lines\", \"text\": [\"<b>2</b>\"], \"type\": \"scatter\", \"x\": [-0.0264655059238801, -0.014496133191631221, null], \"y\": [-0.06257900558246596, 0.14458655088238995, null]}, {\"hoverinfo\": \"text\", \"line\": {\"color\": \"peru\", \"width\": 0.252817095919347}, \"mode\": \"lines\", \"text\": [\"<b>2</b>\"], \"type\": \"scatter\", \"x\": [-0.0264655059238801, -0.41973072647800724, null], \"y\": [-0.06257900558246596, 0.060744149500660975, null]}, {\"hoverinfo\": \"text\", \"line\": {\"color\": \"peru\", \"width\": 0.25087348261081727}, \"mode\": \"lines\", \"text\": [\"<b>2</b>\"], \"type\": \"scatter\", \"x\": [-0.0264655059238801, -0.4907078785290733, null], \"y\": [-0.06257900558246596, -0.10678684678237646, null]}, {\"hoverinfo\": \"text\", \"line\": {\"color\": \"peru\", \"width\": 0.26292613128783854}, \"mode\": \"lines\", \"text\": [\"<b>1</b>\"], \"type\": \"scatter\", \"x\": [-0.0264655059238801, 0.047650137857219846, null], \"y\": [-0.06257900558246596, 0.4343129528769831, null]}, {\"hoverinfo\": \"text\", \"line\": {\"color\": \"peru\", \"width\": 0.25025811979600837}, \"mode\": \"lines\", \"text\": [\"<b>1</b>\"], \"type\": \"scatter\", \"x\": [-0.0264655059238801, -0.10814385694596838, null], \"y\": [-0.06257900558246596, -0.5098678491586572, null]}, {\"hoverinfo\": \"text\", \"line\": {\"color\": \"peru\", \"width\": 0.2501158889563986}, \"mode\": \"lines\", \"text\": [\"<b>1</b>\"], \"type\": \"scatter\", \"x\": [-0.0264655059238801, 0.09091248396374722, null], \"y\": [-0.06257900558246596, -0.3834819239965121, null]}, {\"hoverinfo\": \"text\", \"line\": {\"color\": \"peru\", \"width\": 0.2506020537613297}, \"mode\": \"lines\", \"text\": [\"<b>1</b>\"], \"type\": \"scatter\", \"x\": [-0.0264655059238801, 0.26434180886269315, null], \"y\": [-0.06257900558246596, -0.1966470007508575, null]}, {\"hoverinfo\": \"text\", \"line\": {\"color\": \"peru\", \"width\": 0.3173104036377579}, \"mode\": \"lines\", \"text\": [\"<b>1</b>\"], \"type\": \"scatter\", \"x\": [0.047650137857219846, 0.1383800971725734, null], \"y\": [0.4343129528769831, -0.017831327287119475, null]}, {\"hoverinfo\": \"text\", \"line\": {\"color\": \"peru\", \"width\": 0.3152808429164709}, \"mode\": \"lines\", \"text\": [\"<b>1</b>\"], \"type\": \"scatter\", \"x\": [0.047650137857219846, -0.009709271081250317, null], \"y\": [0.4343129528769831, 0.0046491559004002, null]}, {\"hoverinfo\": \"text\", \"line\": {\"color\": \"peru\", \"width\": 0.2575926939993617}, \"mode\": \"lines\", \"text\": [\"<b>1</b>\"], \"type\": \"scatter\", \"x\": [-0.9171341356793465, -0.1565613973253825, null], \"y\": [-0.2892427237564671, -0.04805573240281369, null]}, {\"hoverinfo\": \"text\", \"line\": {\"color\": \"peru\", \"width\": 0.25093423904206835}, \"mode\": \"lines\", \"text\": [\"<b>396</b>\"], \"type\": \"scatter\", \"x\": [0.03097250257589602, 0.03097250257589602, null], \"y\": [-0.02726580821300639, -0.02726580821300639, null]}, {\"hoverinfo\": \"text\", \"line\": {\"color\": \"peru\", \"width\": 0.2501090884040473}, \"mode\": \"lines\", \"text\": [\"<b>262</b>\"], \"type\": \"scatter\", \"x\": [0.03097250257589602, -0.008620714316374366, null], \"y\": [-0.02726580821300639, -0.2384014836653278, null]}, {\"hoverinfo\": \"text\", \"line\": {\"color\": \"peru\", \"width\": 0.2521104877505266}, \"mode\": \"lines\", \"text\": [\"<b>239</b>\"], \"type\": \"scatter\", \"x\": [0.03097250257589602, 0.037112341418509734, null], \"y\": [-0.02726580821300639, -0.06476133803077848, null]}, {\"hoverinfo\": \"text\", \"line\": {\"color\": \"peru\", \"width\": 0.25065872494887587}, \"mode\": \"lines\", \"text\": [\"<b>181</b>\"], \"type\": \"scatter\", \"x\": [0.03097250257589602, -0.03799795302862708, null], \"y\": [-0.02726580821300639, -0.10046936690130284, null]}, {\"hoverinfo\": \"text\", \"line\": {\"color\": \"peru\", \"width\": 0.25061431551971114}, \"mode\": \"lines\", \"text\": [\"<b>156</b>\"], \"type\": \"scatter\", \"x\": [0.03097250257589602, -0.1565613973253825, null], \"y\": [-0.02726580821300639, -0.04805573240281369, null]}, {\"hoverinfo\": \"text\", \"line\": {\"color\": \"peru\", \"width\": 0.25014509775965726}, \"mode\": \"lines\", \"text\": [\"<b>74</b>\"], \"type\": \"scatter\", \"x\": [0.03097250257589602, 0.0021476759594681615, null], \"y\": [-0.02726580821300639, -0.14325253494920223, null]}, {\"hoverinfo\": \"text\", \"line\": {\"color\": \"peru\", \"width\": 0.25040171696760466}, \"mode\": \"lines\", \"text\": [\"<b>54</b>\"], \"type\": \"scatter\", \"x\": [0.03097250257589602, 0.03914642094439085, null], \"y\": [-0.02726580821300639, -0.16815542693602434, null]}, {\"hoverinfo\": \"text\", \"line\": {\"color\": \"peru\", \"width\": 0.250226957241228}, \"mode\": \"lines\", \"text\": [\"<b>29</b>\"], \"type\": \"scatter\", \"x\": [0.03097250257589602, -0.009709271081250317, null], \"y\": [-0.02726580821300639, 0.0046491559004002, null]}, {\"hoverinfo\": \"text\", \"line\": {\"color\": \"peru\", \"width\": 0.2503031003367287}, \"mode\": \"lines\", \"text\": [\"<b>27</b>\"], \"type\": \"scatter\", \"x\": [0.03097250257589602, -0.13921754181663373, null], \"y\": [-0.02726580821300639, -0.2230008879936063, null]}, {\"hoverinfo\": \"text\", \"line\": {\"color\": \"peru\", \"width\": 0.25038073001139716}, \"mode\": \"lines\", \"text\": [\"<b>24</b>\"], \"type\": \"scatter\", \"x\": [0.03097250257589602, 0.1383800971725734, null], \"y\": [-0.02726580821300639, -0.017831327287119475, null]}, {\"hoverinfo\": \"text\", \"line\": {\"color\": \"peru\", \"width\": 0.25071309568820876}, \"mode\": \"lines\", \"text\": [\"<b>19</b>\"], \"type\": \"scatter\", \"x\": [0.03097250257589602, 0.026589664548724874, null], \"y\": [-0.02726580821300639, -0.30952614571382137, null]}, {\"hoverinfo\": \"text\", \"line\": {\"color\": \"peru\", \"width\": 0.2505272596671299}, \"mode\": \"lines\", \"text\": [\"<b>17</b>\"], \"type\": \"scatter\", \"x\": [0.03097250257589602, 0.08602385684170852, null], \"y\": [-0.02726580821300639, -0.09889936429271984, null]}, {\"hoverinfo\": \"text\", \"line\": {\"color\": \"peru\", \"width\": 0.2506969187224001}, \"mode\": \"lines\", \"text\": [\"<b>14</b>\"], \"type\": \"scatter\", \"x\": [0.03097250257589602, 0.1782997712493181, null], \"y\": [-0.02726580821300639, -0.1274569078232588, null]}, {\"hoverinfo\": \"text\", \"line\": {\"color\": \"peru\", \"width\": 0.25064692981181164}, \"mode\": \"lines\", \"text\": [\"<b>10</b>\"], \"type\": \"scatter\", \"x\": [0.03097250257589602, 0.076044024846554, null], \"y\": [-0.02726580821300639, -0.2285230196945629, null]}, {\"hoverinfo\": \"text\", \"line\": {\"color\": \"peru\", \"width\": 0.25035875984062317}, \"mode\": \"lines\", \"text\": [\"<b>9</b>\"], \"type\": \"scatter\", \"x\": [0.03097250257589602, -0.06926016718356055, null], \"y\": [-0.02726580821300639, -0.30758311375772085, null]}, {\"hoverinfo\": \"text\", \"line\": {\"color\": \"peru\", \"width\": 0.25019294224475574}, \"mode\": \"lines\", \"text\": [\"<b>7</b>\"], \"type\": \"scatter\", \"x\": [0.03097250257589602, -0.060870871982170276, null], \"y\": [-0.02726580821300639, 0.05847561375370165, null]}, {\"hoverinfo\": \"text\", \"line\": {\"color\": \"peru\", \"width\": 0.25060504781739434}, \"mode\": \"lines\", \"text\": [\"<b>5</b>\"], \"type\": \"scatter\", \"x\": [0.03097250257589602, -0.014496133191631221, null], \"y\": [-0.02726580821300639, 0.14458655088238995, null]}, {\"hoverinfo\": \"text\", \"line\": {\"color\": \"peru\", \"width\": 0.2500699098575446}, \"mode\": \"lines\", \"text\": [\"<b>5</b>\"], \"type\": \"scatter\", \"x\": [0.03097250257589602, -0.11764096428606644, null], \"y\": [-0.02726580821300639, 0.018569149606881274, null]}, {\"hoverinfo\": \"text\", \"line\": {\"color\": \"peru\", \"width\": 0.2501685643454991}, \"mode\": \"lines\", \"text\": [\"<b>5</b>\"], \"type\": \"scatter\", \"x\": [0.03097250257589602, -0.21382146535799829, null], \"y\": [-0.02726580821300639, -0.0743844082798468, null]}, {\"hoverinfo\": \"text\", \"line\": {\"color\": \"peru\", \"width\": 0.2511905896005399}, \"mode\": \"lines\", \"text\": [\"<b>4</b>\"], \"type\": \"scatter\", \"x\": [0.03097250257589602, -0.2830525026756416, null], \"y\": [-0.02726580821300639, -0.376171070009455, null]}, {\"hoverinfo\": \"text\", \"line\": {\"color\": \"peru\", \"width\": 0.25086178728670433}, \"mode\": \"lines\", \"text\": [\"<b>3</b>\"], \"type\": \"scatter\", \"x\": [0.03097250257589602, -0.15761049738613608, null], \"y\": [-0.02726580821300639, -0.3150798978482202, null]}, {\"hoverinfo\": \"text\", \"line\": {\"color\": \"peru\", \"width\": 0.25184717082014046}, \"mode\": \"lines\", \"text\": [\"<b>2</b>\"], \"type\": \"scatter\", \"x\": [0.03097250257589602, 0.14140656101499638, null], \"y\": [-0.02726580821300639, 0.1534315269562114, null]}, {\"hoverinfo\": \"text\", \"line\": {\"color\": \"peru\", \"width\": 0.25321536450507737}, \"mode\": \"lines\", \"text\": [\"<b>1</b>\"], \"type\": \"scatter\", \"x\": [0.03097250257589602, -0.41973072647800724, null], \"y\": [-0.02726580821300639, 0.060744149500660975, null]}, {\"hoverinfo\": \"text\", \"line\": {\"color\": \"peru\", \"width\": 0.2543571148821095}, \"mode\": \"lines\", \"text\": [\"<b>1</b>\"], \"type\": \"scatter\", \"x\": [0.03097250257589602, 0.4387262903185144, null], \"y\": [-0.02726580821300639, 0.46263474844595576, null]}, {\"hoverinfo\": \"text\", \"line\": {\"color\": \"peru\", \"width\": 0.25027862942494167}, \"mode\": \"lines\", \"text\": [\"<b>1</b>\"], \"type\": \"scatter\", \"x\": [0.03097250257589602, 0.09091248396374722, null], \"y\": [-0.02726580821300639, -0.3834819239965121, null]}, {\"hoverinfo\": \"text\", \"line\": {\"color\": \"peru\", \"width\": 0.25390315799028107}, \"mode\": \"lines\", \"text\": [\"<b>133</b>\"], \"type\": \"scatter\", \"x\": [-0.11764096428606644, -0.1565613973253825, null], \"y\": [0.018569149606881274, -0.04805573240281369, null]}, {\"hoverinfo\": \"text\", \"line\": {\"color\": \"peru\", \"width\": 0.2501152011202149}, \"mode\": \"lines\", \"text\": [\"<b>49</b>\"], \"type\": \"scatter\", \"x\": [-0.11764096428606644, -0.008620714316374366, null], \"y\": [0.018569149606881274, -0.2384014836653278, null]}, {\"hoverinfo\": \"text\", \"line\": {\"color\": \"peru\", \"width\": 0.2503561984142471}, \"mode\": \"lines\", \"text\": [\"<b>16</b>\"], \"type\": \"scatter\", \"x\": [-0.11764096428606644, -0.03799795302862708, null], \"y\": [0.018569149606881274, -0.10046936690130284, null]}, {\"hoverinfo\": \"text\", \"line\": {\"color\": \"peru\", \"width\": 0.2501240543613551}, \"mode\": \"lines\", \"text\": [\"<b>11</b>\"], \"type\": \"scatter\", \"x\": [-0.11764096428606644, 0.0021476759594681615, null], \"y\": [0.018569149606881274, -0.14325253494920223, null]}, {\"hoverinfo\": \"text\", \"line\": {\"color\": \"peru\", \"width\": 0.25155984290653377}, \"mode\": \"lines\", \"text\": [\"<b>9</b>\"], \"type\": \"scatter\", \"x\": [-0.11764096428606644, -0.060870871982170276, null], \"y\": [0.018569149606881274, 0.05847561375370165, null]}, {\"hoverinfo\": \"text\", \"line\": {\"color\": \"peru\", \"width\": 0.2505000108276102}, \"mode\": \"lines\", \"text\": [\"<b>9</b>\"], \"type\": \"scatter\", \"x\": [-0.11764096428606644, 0.037112341418509734, null], \"y\": [0.018569149606881274, -0.06476133803077848, null]}, {\"hoverinfo\": \"text\", \"line\": {\"color\": \"peru\", \"width\": 0.25080578751537536}, \"mode\": \"lines\", \"text\": [\"<b>8</b>\"], \"type\": \"scatter\", \"x\": [-0.11764096428606644, 0.1383800971725734, null], \"y\": [0.018569149606881274, -0.017831327287119475, null]}, {\"hoverinfo\": \"text\", \"line\": {\"color\": \"peru\", \"width\": 0.25077282017243974}, \"mode\": \"lines\", \"text\": [\"<b>4</b>\"], \"type\": \"scatter\", \"x\": [-0.11764096428606644, 0.08602385684170852, null], \"y\": [0.018569149606881274, -0.09889936429271984, null]}, {\"hoverinfo\": \"text\", \"line\": {\"color\": \"peru\", \"width\": 0.25045645192553717}, \"mode\": \"lines\", \"text\": [\"<b>2</b>\"], \"type\": \"scatter\", \"x\": [-0.11764096428606644, 0.026589664548724874, null], \"y\": [0.018569149606881274, -0.30952614571382137, null]}, {\"hoverinfo\": \"text\", \"line\": {\"color\": \"peru\", \"width\": 0.25009324986137743}, \"mode\": \"lines\", \"text\": [\"<b>2</b>\"], \"type\": \"scatter\", \"x\": [-0.11764096428606644, -0.009709271081250317, null], \"y\": [0.018569149606881274, 0.0046491559004002, null]}, {\"hoverinfo\": \"text\", \"line\": {\"color\": \"peru\", \"width\": 0.2500452398743072}, \"mode\": \"lines\", \"text\": [\"<b>1</b>\"], \"type\": \"scatter\", \"x\": [-0.11764096428606644, 0.03914642094439085, null], \"y\": [0.018569149606881274, -0.16815542693602434, null]}, {\"hoverinfo\": \"text\", \"line\": {\"color\": \"peru\", \"width\": 0.2502183498056068}, \"mode\": \"lines\", \"text\": [\"<b>1</b>\"], \"type\": \"scatter\", \"x\": [-0.11764096428606644, -0.21382146535799829, null], \"y\": [0.018569149606881274, -0.0743844082798468, null]}, {\"hoverinfo\": \"text\", \"line\": {\"color\": \"peru\", \"width\": 0.5165406578591681}, \"mode\": \"lines\", \"text\": [\"<b>3</b>\"], \"type\": \"scatter\", \"x\": [0.15693580918562272, 0.026589664548724874, null], \"y\": [-0.942265318717752, -0.30952614571382137, null]}, {\"hoverinfo\": \"text\", \"line\": {\"color\": \"peru\", \"width\": 0.25920811108153324}, \"mode\": \"lines\", \"text\": [\"<b>44</b>\"], \"type\": \"scatter\", \"x\": [0.1782997712493181, 0.037112341418509734, null], \"y\": [-0.1274569078232588, -0.06476133803077848, null]}, {\"hoverinfo\": \"text\", \"line\": {\"color\": \"peru\", \"width\": 0.25006451939132357}, \"mode\": \"lines\", \"text\": [\"<b>8</b>\"], \"type\": \"scatter\", \"x\": [0.1782997712493181, -0.008620714316374366, null], \"y\": [-0.1274569078232588, -0.2384014836653278, null]}, {\"hoverinfo\": \"text\", \"line\": {\"color\": \"peru\", \"width\": 0.41024817851348694}, \"mode\": \"lines\", \"text\": [\"<b>5</b>\"], \"type\": \"scatter\", \"x\": [0.1782997712493181, 0.26434180886269315, null], \"y\": [-0.1274569078232588, -0.1966470007508575, null]}, {\"hoverinfo\": \"text\", \"line\": {\"color\": \"peru\", \"width\": 0.25049295576252}, \"mode\": \"lines\", \"text\": [\"<b>3</b>\"], \"type\": \"scatter\", \"x\": [0.1782997712493181, 0.03914642094439085, null], \"y\": [-0.1274569078232588, -0.16815542693602434, null]}, {\"hoverinfo\": \"text\", \"line\": {\"color\": \"peru\", \"width\": 0.25011762707438434}, \"mode\": \"lines\", \"text\": [\"<b>3</b>\"], \"type\": \"scatter\", \"x\": [0.1782997712493181, 0.0021476759594681615, null], \"y\": [-0.1274569078232588, -0.14325253494920223, null]}, {\"hoverinfo\": \"text\", \"line\": {\"color\": \"peru\", \"width\": 0.2536350448989048}, \"mode\": \"lines\", \"text\": [\"<b>2</b>\"], \"type\": \"scatter\", \"x\": [0.1782997712493181, 0.076044024846554, null], \"y\": [-0.1274569078232588, -0.2285230196945629, null]}, {\"hoverinfo\": \"text\", \"line\": {\"color\": \"peru\", \"width\": 0.25025917051858765}, \"mode\": \"lines\", \"text\": [\"<b>2</b>\"], \"type\": \"scatter\", \"x\": [0.1782997712493181, -0.1565613973253825, null], \"y\": [-0.1274569078232588, -0.04805573240281369, null]}, {\"hoverinfo\": \"text\", \"line\": {\"color\": \"peru\", \"width\": 0.25171725157141067}, \"mode\": \"lines\", \"text\": [\"<b>2</b>\"], \"type\": \"scatter\", \"x\": [0.1782997712493181, -0.06926016718356055, null], \"y\": [-0.1274569078232588, -0.30758311375772085, null]}, {\"hoverinfo\": \"text\", \"line\": {\"color\": \"peru\", \"width\": 0.25016240463829403}, \"mode\": \"lines\", \"text\": [\"<b>2</b>\"], \"type\": \"scatter\", \"x\": [0.1782997712493181, -0.03799795302862708, null], \"y\": [-0.1274569078232588, -0.10046936690130284, null]}, {\"hoverinfo\": \"text\", \"line\": {\"color\": \"peru\", \"width\": 0.25702208910204516}, \"mode\": \"lines\", \"text\": [\"<b>1</b>\"], \"type\": \"scatter\", \"x\": [0.1782997712493181, -0.15761049738613608, null], \"y\": [-0.1274569078232588, -0.3150798978482202, null]}, {\"hoverinfo\": \"text\", \"line\": {\"color\": \"peru\", \"width\": 0.2507153072540789}, \"mode\": \"lines\", \"text\": [\"<b>1</b>\"], \"type\": \"scatter\", \"x\": [0.1782997712493181, 0.08602385684170852, null], \"y\": [-0.1274569078232588, -0.09889936429271984, null]}, {\"hoverinfo\": \"text\", \"line\": {\"color\": \"peru\", \"width\": 0.25082880479397285}, \"mode\": \"lines\", \"text\": [\"<b>1</b>\"], \"type\": \"scatter\", \"x\": [0.1782997712493181, 0.026589664548724874, null], \"y\": [-0.1274569078232588, -0.30952614571382137, null]}, {\"hoverinfo\": \"text\", \"line\": {\"color\": \"peru\", \"width\": 0.25064583028651016}, \"mode\": \"lines\", \"text\": [\"<b>1</b>\"], \"type\": \"scatter\", \"x\": [0.1782997712493181, -0.060870871982170276, null], \"y\": [-0.1274569078232588, 0.05847561375370165, null]}, {\"hoverinfo\": \"text\", \"line\": {\"color\": \"peru\", \"width\": 0.2502300173425098}, \"mode\": \"lines\", \"text\": [\"<b>1</b>\"], \"type\": \"scatter\", \"x\": [0.1782997712493181, -0.13921754181663373, null], \"y\": [-0.1274569078232588, -0.2230008879936063, null]}, {\"hoverinfo\": \"text\", \"line\": {\"color\": \"peru\", \"width\": 0.25092405129088047}, \"mode\": \"lines\", \"text\": [\"<b>35</b>\"], \"type\": \"scatter\", \"x\": [-0.014496133191631221, -0.008620714316374366, null], \"y\": [0.14458655088238995, -0.2384014836653278, null]}, {\"hoverinfo\": \"text\", \"line\": {\"color\": \"peru\", \"width\": 0.2587804685252544}, \"mode\": \"lines\", \"text\": [\"<b>25</b>\"], \"type\": \"scatter\", \"x\": [-0.014496133191631221, 0.03914642094439085, null], \"y\": [0.14458655088238995, -0.16815542693602434, null]}, {\"hoverinfo\": \"text\", \"line\": {\"color\": \"peru\", \"width\": 0.2507986237776454}, \"mode\": \"lines\", \"text\": [\"<b>7</b>\"], \"type\": \"scatter\", \"x\": [-0.014496133191631221, 0.0021476759594681615, null], \"y\": [0.14458655088238995, -0.14325253494920223, null]}, {\"hoverinfo\": \"text\", \"line\": {\"color\": \"peru\", \"width\": 0.25263001279187003}, \"mode\": \"lines\", \"text\": [\"<b>2</b>\"], \"type\": \"scatter\", \"x\": [-0.014496133191631221, -0.21382146535799829, null], \"y\": [0.14458655088238995, -0.0743844082798468, null]}, {\"hoverinfo\": \"text\", \"line\": {\"color\": \"peru\", \"width\": 0.2503345786039967}, \"mode\": \"lines\", \"text\": [\"<b>2</b>\"], \"type\": \"scatter\", \"x\": [-0.014496133191631221, -0.03799795302862708, null], \"y\": [0.14458655088238995, -0.10046936690130284, null]}, {\"hoverinfo\": \"text\", \"line\": {\"color\": \"peru\", \"width\": 0.25065256693497506}, \"mode\": \"lines\", \"text\": [\"<b>1</b>\"], \"type\": \"scatter\", \"x\": [-0.014496133191631221, 0.1383800971725734, null], \"y\": [0.14458655088238995, -0.017831327287119475, null]}, {\"hoverinfo\": \"text\", \"line\": {\"color\": \"peru\", \"width\": 0.2501145736827997}, \"mode\": \"lines\", \"text\": [\"<b>1</b>\"], \"type\": \"scatter\", \"x\": [-0.014496133191631221, -0.1565613973253825, null], \"y\": [0.14458655088238995, -0.04805573240281369, null]}, {\"hoverinfo\": \"text\", \"line\": {\"color\": \"peru\", \"width\": 0.25037041799761534}, \"mode\": \"lines\", \"text\": [\"<b>1</b>\"], \"type\": \"scatter\", \"x\": [-0.014496133191631221, 0.037112341418509734, null], \"y\": [0.14458655088238995, -0.06476133803077848, null]}, {\"hoverinfo\": \"text\", \"line\": {\"color\": \"peru\", \"width\": 0.25657444875768554}, \"mode\": \"lines\", \"text\": [\"<b>7</b>\"], \"type\": \"scatter\", \"x\": [0.09091248396374722, -0.009709271081250317, null], \"y\": [-0.3834819239965121, 0.0046491559004002, null]}, {\"hoverinfo\": \"text\", \"line\": {\"color\": \"peru\", \"width\": 0.25277062713435683}, \"mode\": \"lines\", \"text\": [\"<b>6</b>\"], \"type\": \"scatter\", \"x\": [0.09091248396374722, -0.03799795302862708, null], \"y\": [-0.3834819239965121, -0.10046936690130284, null]}, {\"hoverinfo\": \"text\", \"line\": {\"color\": \"peru\", \"width\": 0.2500443239198129}, \"mode\": \"lines\", \"text\": [\"<b>1</b>\"], \"type\": \"scatter\", \"x\": [0.09091248396374722, -0.008620714316374366, null], \"y\": [-0.3834819239965121, -0.2384014836653278, null]}, {\"hoverinfo\": \"text\", \"line\": {\"color\": \"peru\", \"width\": 0.25119565164627394}, \"mode\": \"lines\", \"text\": [\"<b>1</b>\"], \"type\": \"scatter\", \"x\": [0.09091248396374722, 0.037112341418509734, null], \"y\": [-0.3834819239965121, -0.06476133803077848, null]}, {\"hoverinfo\": \"text\", \"line\": {\"color\": \"peru\", \"width\": 0.2633348165242308}, \"mode\": \"lines\", \"text\": [\"<b>11</b>\"], \"type\": \"scatter\", \"x\": [0.5644930158846561, -0.008620714316374366, null], \"y\": [-0.7638620637946426, -0.2384014836653278, null]}, {\"hoverinfo\": \"text\", \"line\": {\"color\": \"peru\", \"width\": 0.2504753147309175}, \"mode\": \"lines\", \"text\": [\"<b>2</b>\"], \"type\": \"scatter\", \"x\": [0.26434180886269315, -0.008620714316374366, null], \"y\": [-0.1966470007508575, -0.2384014836653278, null]}, {\"hoverinfo\": \"text\", \"line\": {\"color\": \"peru\", \"width\": 0.25568639538302435}, \"mode\": \"lines\", \"text\": [\"<b>1</b>\"], \"type\": \"scatter\", \"x\": [0.26434180886269315, 0.037112341418509734, null], \"y\": [-0.1966470007508575, -0.06476133803077848, null]}, {\"hoverinfo\": \"text\", \"line\": {\"color\": \"peru\", \"width\": 0.25666846371084984}, \"mode\": \"lines\", \"text\": [\"<b>1</b>\"], \"type\": \"scatter\", \"x\": [0.26434180886269315, -0.13921754181663373, null], \"y\": [-0.1966470007508575, -0.2230008879936063, null]}, {\"hoverinfo\": \"text\", \"line\": {\"color\": \"peru\", \"width\": 0.25461518748788675}, \"mode\": \"lines\", \"text\": [\"<b>1</b>\"], \"type\": \"scatter\", \"x\": [0.26434180886269315, 0.03914642094439085, null], \"y\": [-0.1966470007508575, -0.16815542693602434, null]}, {\"hoverinfo\": \"text\", \"line\": {\"color\": \"peru\", \"width\": 0.25118323042943697}, \"mode\": \"lines\", \"text\": [\"<b>94</b>\"], \"type\": \"scatter\", \"x\": [-0.009709271081250317, -0.1565613973253825, null], \"y\": [0.0046491559004002, -0.04805573240281369, null]}, {\"hoverinfo\": \"text\", \"line\": {\"color\": \"peru\", \"width\": 0.2500558214905617}, \"mode\": \"lines\", \"text\": [\"<b>40</b>\"], \"type\": \"scatter\", \"x\": [-0.009709271081250317, -0.008620714316374366, null], \"y\": [0.0046491559004002, -0.2384014836653278, null]}, {\"hoverinfo\": \"text\", \"line\": {\"color\": \"peru\", \"width\": 0.25145732829536105}, \"mode\": \"lines\", \"text\": [\"<b>28</b>\"], \"type\": \"scatter\", \"x\": [-0.009709271081250317, 0.1383800971725734, null], \"y\": [0.0046491559004002, -0.017831327287119475, null]}, {\"hoverinfo\": \"text\", \"line\": {\"color\": \"peru\", \"width\": 0.25072373488946165}, \"mode\": \"lines\", \"text\": [\"<b>25</b>\"], \"type\": \"scatter\", \"x\": [-0.009709271081250317, 0.037112341418509734, null], \"y\": [0.0046491559004002, -0.06476133803077848, null]}, {\"hoverinfo\": \"text\", \"line\": {\"color\": \"peru\", \"width\": 0.2502280890902872}, \"mode\": \"lines\", \"text\": [\"<b>19</b>\"], \"type\": \"scatter\", \"x\": [-0.009709271081250317, -0.03799795302862708, null], \"y\": [0.0046491559004002, -0.10046936690130284, null]}, {\"hoverinfo\": \"text\", \"line\": {\"color\": \"peru\", \"width\": 0.2516337201996877}, \"mode\": \"lines\", \"text\": [\"<b>16</b>\"], \"type\": \"scatter\", \"x\": [-0.009709271081250317, 0.08602385684170852, null], \"y\": [0.0046491559004002, -0.09889936429271984, null]}, {\"hoverinfo\": \"text\", \"line\": {\"color\": \"peru\", \"width\": 0.2503634020580547}, \"mode\": \"lines\", \"text\": [\"<b>14</b>\"], \"type\": \"scatter\", \"x\": [-0.009709271081250317, -0.009709271081250317, null], \"y\": [0.0046491559004002, 0.0046491559004002, null]}, {\"hoverinfo\": \"text\", \"line\": {\"color\": \"peru\", \"width\": 0.25007202070967605}, \"mode\": \"lines\", \"text\": [\"<b>11</b>\"], \"type\": \"scatter\", \"x\": [-0.009709271081250317, 0.0021476759594681615, null], \"y\": [0.0046491559004002, -0.14325253494920223, null]}, {\"hoverinfo\": \"text\", \"line\": {\"color\": \"peru\", \"width\": 0.2506338728585215}, \"mode\": \"lines\", \"text\": [\"<b>7</b>\"], \"type\": \"scatter\", \"x\": [-0.009709271081250317, -0.060870871982170276, null], \"y\": [0.0046491559004002, 0.05847561375370165, null]}, {\"hoverinfo\": \"text\", \"line\": {\"color\": \"peru\", \"width\": 0.26220617317476713}, \"mode\": \"lines\", \"text\": [\"<b>4</b>\"], \"type\": \"scatter\", \"x\": [-0.009709271081250317, 0.14140656101499638, null], \"y\": [0.0046491559004002, 0.1534315269562114, null]}, {\"hoverinfo\": \"text\", \"line\": {\"color\": \"peru\", \"width\": 0.2506273949017943}, \"mode\": \"lines\", \"text\": [\"<b>3</b>\"], \"type\": \"scatter\", \"x\": [-0.009709271081250317, 0.076044024846554, null], \"y\": [0.0046491559004002, -0.2285230196945629, null]}, {\"hoverinfo\": \"text\", \"line\": {\"color\": \"peru\", \"width\": 0.25007370262009593}, \"mode\": \"lines\", \"text\": [\"<b>3</b>\"], \"type\": \"scatter\", \"x\": [-0.009709271081250317, 0.03914642094439085, null], \"y\": [0.0046491559004002, -0.16815542693602434, null]}, {\"hoverinfo\": \"text\", \"line\": {\"color\": \"peru\", \"width\": 0.2500747526520454}, \"mode\": \"lines\", \"text\": [\"<b>2</b>\"], \"type\": \"scatter\", \"x\": [-0.009709271081250317, -0.13921754181663373, null], \"y\": [0.0046491559004002, -0.2230008879936063, null]}, {\"hoverinfo\": \"text\", \"line\": {\"color\": \"peru\", \"width\": 0.250247867749359}, \"mode\": \"lines\", \"text\": [\"<b>2</b>\"], \"type\": \"scatter\", \"x\": [-0.009709271081250317, 0.026589664548724874, null], \"y\": [0.0046491559004002, -0.30952614571382137, null]}, {\"hoverinfo\": \"text\", \"line\": {\"color\": \"peru\", \"width\": 0.25011010977697495}, \"mode\": \"lines\", \"text\": [\"<b>1</b>\"], \"type\": \"scatter\", \"x\": [-0.009709271081250317, -0.21382146535799829, null], \"y\": [0.0046491559004002, -0.0743844082798468, null]}, {\"hoverinfo\": \"text\", \"line\": {\"color\": \"peru\", \"width\": 0.2509401013235517}, \"mode\": \"lines\", \"text\": [\"<b>1</b>\"], \"type\": \"scatter\", \"x\": [-0.009709271081250317, -0.15761049738613608, null], \"y\": [0.0046491559004002, -0.3150798978482202, null]}, {\"hoverinfo\": \"text\", \"line\": {\"color\": \"peru\", \"width\": 0.3913797530014542}, \"mode\": \"lines\", \"text\": [\"<b>2</b>\"], \"type\": \"scatter\", \"x\": [0.8378822987095896, 0.1383800971725734, null], \"y\": [-0.24159464763909919, -0.017831327287119475, null]}, {\"hoverinfo\": \"text\", \"line\": {\"color\": \"peru\", \"width\": 0.25005933082817144}, \"mode\": \"lines\", \"text\": [\"<b>31</b>\"], \"type\": \"scatter\", \"x\": [-0.13921754181663373, -0.008620714316374366, null], \"y\": [-0.2230008879936063, -0.2384014836653278, null]}, {\"hoverinfo\": \"text\", \"line\": {\"color\": \"peru\", \"width\": 0.25063450220729494}, \"mode\": \"lines\", \"text\": [\"<b>29</b>\"], \"type\": \"scatter\", \"x\": [-0.13921754181663373, -0.1565613973253825, null], \"y\": [-0.2230008879936063, -0.04805573240281369, null]}, {\"hoverinfo\": \"text\", \"line\": {\"color\": \"peru\", \"width\": 0.2501947537948967}, \"mode\": \"lines\", \"text\": [\"<b>11</b>\"], \"type\": \"scatter\", \"x\": [-0.13921754181663373, -0.03799795302862708, null], \"y\": [-0.2230008879936063, -0.10046936690130284, null]}, {\"hoverinfo\": \"text\", \"line\": {\"color\": \"peru\", \"width\": 0.25009133049921756}, \"mode\": \"lines\", \"text\": [\"<b>10</b>\"], \"type\": \"scatter\", \"x\": [-0.13921754181663373, 0.0021476759594681615, null], \"y\": [-0.2230008879936063, -0.14325253494920223, null]}, {\"hoverinfo\": \"text\", \"line\": {\"color\": \"peru\", \"width\": 0.2504380027400053}, \"mode\": \"lines\", \"text\": [\"<b>10</b>\"], \"type\": \"scatter\", \"x\": [-0.13921754181663373, 0.037112341418509734, null], \"y\": [-0.2230008879936063, -0.06476133803077848, null]}, {\"hoverinfo\": \"text\", \"line\": {\"color\": \"peru\", \"width\": 0.25102491355971956}, \"mode\": \"lines\", \"text\": [\"<b>6</b>\"], \"type\": \"scatter\", \"x\": [-0.13921754181663373, -0.21382146535799829, null], \"y\": [-0.2230008879936063, -0.0743844082798468, null]}, {\"hoverinfo\": \"text\", \"line\": {\"color\": \"peru\", \"width\": 0.25014419554205597}, \"mode\": \"lines\", \"text\": [\"<b>4</b>\"], \"type\": \"scatter\", \"x\": [-0.13921754181663373, 0.03914642094439085, null], \"y\": [-0.2230008879936063, -0.16815542693602434, null]}, {\"hoverinfo\": \"text\", \"line\": {\"color\": \"peru\", \"width\": 0.2507652100015856}, \"mode\": \"lines\", \"text\": [\"<b>4</b>\"], \"type\": \"scatter\", \"x\": [-0.13921754181663373, -0.06926016718356055, null], \"y\": [-0.2230008879936063, -0.30758311375772085, null]}, {\"hoverinfo\": \"text\", \"line\": {\"color\": \"peru\", \"width\": 0.2513673728781629}, \"mode\": \"lines\", \"text\": [\"<b>4</b>\"], \"type\": \"scatter\", \"x\": [-0.13921754181663373, 0.076044024846554, null], \"y\": [-0.2230008879936063, -0.2285230196945629, null]}, {\"hoverinfo\": \"text\", \"line\": {\"color\": \"peru\", \"width\": 0.2501583807216828}, \"mode\": \"lines\", \"text\": [\"<b>2</b>\"], \"type\": \"scatter\", \"x\": [-0.13921754181663373, 0.1383800971725734, null], \"y\": [-0.2230008879936063, -0.017831327287119475, null]}, {\"hoverinfo\": \"text\", \"line\": {\"color\": \"peru\", \"width\": 0.2503636741048038}, \"mode\": \"lines\", \"text\": [\"<b>2</b>\"], \"type\": \"scatter\", \"x\": [-0.13921754181663373, 0.026589664548724874, null], \"y\": [-0.2230008879936063, -0.30952614571382137, null]}, {\"hoverinfo\": \"text\", \"line\": {\"color\": \"peru\", \"width\": 0.2503055982035701}, \"mode\": \"lines\", \"text\": [\"<b>2</b>\"], \"type\": \"scatter\", \"x\": [-0.13921754181663373, 0.08602385684170852, null], \"y\": [-0.2230008879936063, -0.09889936429271984, null]}, {\"hoverinfo\": \"text\", \"line\": {\"color\": \"peru\", \"width\": 0.2514444231563739}, \"mode\": \"lines\", \"text\": [\"<b>1</b>\"], \"type\": \"scatter\", \"x\": [-0.13921754181663373, -0.15761049738613608, null], \"y\": [-0.2230008879936063, -0.3150798978482202, null]}, {\"hoverinfo\": \"text\", \"line\": {\"color\": \"peru\", \"width\": 0.25734716671676994}, \"mode\": \"lines\", \"text\": [\"<b>1</b>\"], \"type\": \"scatter\", \"x\": [-0.13921754181663373, -0.45566646999102844, null], \"y\": [-0.2230008879936063, -0.3086962806174099, null]}, {\"hoverinfo\": \"text\", \"line\": {\"color\": \"peru\", \"width\": 0.25480099896544156}, \"mode\": \"lines\", \"text\": [\"<b>1</b>\"], \"type\": \"scatter\", \"x\": [-0.13921754181663373, -0.4907078785290733, null], \"y\": [-0.2230008879936063, -0.10678684678237646, null]}, {\"hoverinfo\": \"text\", \"line\": {\"color\": \"peru\", \"width\": 0.250136609857884}, \"mode\": \"lines\", \"text\": [\"<b>1</b>\"], \"type\": \"scatter\", \"x\": [-0.13921754181663373, -0.060870871982170276, null], \"y\": [-0.2230008879936063, 0.05847561375370165, null]}, {\"hoverinfo\": \"text\", \"line\": {\"color\": \"peru\", \"width\": 0.2500528042307303}, \"mode\": \"lines\", \"text\": [\"<b>1</b>\"], \"type\": \"scatter\", \"x\": [-0.13921754181663373, -0.13921754181663373, null], \"y\": [-0.2230008879936063, -0.2230008879936063, null]}, {\"hoverinfo\": \"text\", \"line\": {\"color\": \"peru\", \"width\": 0.25080732467924555}, \"mode\": \"lines\", \"text\": [\"<b>24</b>\"], \"type\": \"scatter\", \"x\": [-0.06926016718356055, 0.0021476759594681615, null], \"y\": [-0.30758311375772085, -0.14325253494920223, null]}, {\"hoverinfo\": \"text\", \"line\": {\"color\": \"peru\", \"width\": 0.2501728656880639}, \"mode\": \"lines\", \"text\": [\"<b>24</b>\"], \"type\": \"scatter\", \"x\": [-0.06926016718356055, -0.008620714316374366, null], \"y\": [-0.30758311375772085, -0.2384014836653278, null]}, {\"hoverinfo\": \"text\", \"line\": {\"color\": \"peru\", \"width\": 0.25054609614397955}, \"mode\": \"lines\", \"text\": [\"<b>9</b>\"], \"type\": \"scatter\", \"x\": [-0.06926016718356055, -0.03799795302862708, null], \"y\": [-0.30758311375772085, -0.10046936690130284, null]}, {\"hoverinfo\": \"text\", \"line\": {\"color\": \"peru\", \"width\": 0.25048804560242205}, \"mode\": \"lines\", \"text\": [\"<b>8</b>\"], \"type\": \"scatter\", \"x\": [-0.06926016718356055, -0.1565613973253825, null], \"y\": [-0.30758311375772085, -0.04805573240281369, null]}, {\"hoverinfo\": \"text\", \"line\": {\"color\": \"peru\", \"width\": 0.250580977841162}, \"mode\": \"lines\", \"text\": [\"<b>4</b>\"], \"type\": \"scatter\", \"x\": [-0.06926016718356055, 0.037112341418509734, null], \"y\": [-0.30758311375772085, -0.06476133803077848, null]}, {\"hoverinfo\": \"text\", \"line\": {\"color\": \"peru\", \"width\": 0.251541131331558}, \"mode\": \"lines\", \"text\": [\"<b>3</b>\"], \"type\": \"scatter\", \"x\": [-0.06926016718356055, 0.08602385684170852, null], \"y\": [-0.30758311375772085, -0.09889936429271984, null]}, {\"hoverinfo\": \"text\", \"line\": {\"color\": \"peru\", \"width\": 0.2501243261648527}, \"mode\": \"lines\", \"text\": [\"<b>1</b>\"], \"type\": \"scatter\", \"x\": [-0.06926016718356055, 0.03914642094439085, null], \"y\": [-0.30758311375772085, -0.16815542693602434, null]}, {\"hoverinfo\": \"text\", \"line\": {\"color\": \"peru\", \"width\": 0.2502604465041162}, \"mode\": \"lines\", \"text\": [\"<b>1</b>\"], \"type\": \"scatter\", \"x\": [-0.06926016718356055, 0.1383800971725734, null], \"y\": [-0.30758311375772085, -0.017831327287119475, null]}, {\"hoverinfo\": \"text\", \"line\": {\"color\": \"peru\", \"width\": 0.2506273766649086}, \"mode\": \"lines\", \"text\": [\"<b>1</b>\"], \"type\": \"scatter\", \"x\": [-0.06926016718356055, 0.026589664548724874, null], \"y\": [-0.30758311375772085, -0.30952614571382137, null]}, {\"hoverinfo\": \"text\", \"line\": {\"color\": \"peru\", \"width\": 0.2511999725067588}, \"mode\": \"lines\", \"text\": [\"<b>1</b>\"], \"type\": \"scatter\", \"x\": [-0.1733151329736438, -0.008620714316374366, null], \"y\": [-1.0, -0.2384014836653278, null]}, {\"hoverinfo\": \"text\", \"line\": {\"color\": \"peru\", \"width\": 0.2649745309362074}, \"mode\": \"lines\", \"text\": [\"<b>92</b>\"], \"type\": \"scatter\", \"x\": [0.1383800971725734, -0.060870871982170276, null], \"y\": [-0.017831327287119475, 0.05847561375370165, null]}, {\"hoverinfo\": \"text\", \"line\": {\"color\": \"peru\", \"width\": 0.2514988336640976}, \"mode\": \"lines\", \"text\": [\"<b>88</b>\"], \"type\": \"scatter\", \"x\": [0.1383800971725734, -0.1565613973253825, null], \"y\": [-0.017831327287119475, -0.04805573240281369, null]}, {\"hoverinfo\": \"text\", \"line\": {\"color\": \"peru\", \"width\": 0.2501431265638039}, \"mode\": \"lines\", \"text\": [\"<b>44</b>\"], \"type\": \"scatter\", \"x\": [0.1383800971725734, -0.008620714316374366, null], \"y\": [-0.017831327287119475, -0.2384014836653278, null]}, {\"hoverinfo\": \"text\", \"line\": {\"color\": \"peru\", \"width\": 0.25184083405041935}, \"mode\": \"lines\", \"text\": [\"<b>36</b>\"], \"type\": \"scatter\", \"x\": [0.1383800971725734, 0.037112341418509734, null], \"y\": [-0.017831327287119475, -0.06476133803077848, null]}, {\"hoverinfo\": \"text\", \"line\": {\"color\": \"peru\", \"width\": 0.25042883246425945}, \"mode\": \"lines\", \"text\": [\"<b>19</b>\"], \"type\": \"scatter\", \"x\": [0.1383800971725734, -0.03799795302862708, null], \"y\": [-0.017831327287119475, -0.10046936690130284, null]}, {\"hoverinfo\": \"text\", \"line\": {\"color\": \"peru\", \"width\": 0.25110699723731766}, \"mode\": \"lines\", \"text\": [\"<b>6</b>\"], \"type\": \"scatter\", \"x\": [0.1383800971725734, 0.08602385684170852, null], \"y\": [-0.017831327287119475, -0.09889936429271984, null]}, {\"hoverinfo\": \"text\", \"line\": {\"color\": \"peru\", \"width\": 0.25007214903472097}, \"mode\": \"lines\", \"text\": [\"<b>5</b>\"], \"type\": \"scatter\", \"x\": [0.1383800971725734, 0.0021476759594681615, null], \"y\": [-0.017831327287119475, -0.14325253494920223, null]}, {\"hoverinfo\": \"text\", \"line\": {\"color\": \"peru\", \"width\": 0.25062940745272577}, \"mode\": \"lines\", \"text\": [\"<b>2</b>\"], \"type\": \"scatter\", \"x\": [0.1383800971725734, 0.076044024846554, null], \"y\": [-0.017831327287119475, -0.2285230196945629, null]}, {\"hoverinfo\": \"text\", \"line\": {\"color\": \"peru\", \"width\": 0.2501840693921183}, \"mode\": \"lines\", \"text\": [\"<b>1</b>\"], \"type\": \"scatter\", \"x\": [0.1383800971725734, -0.21382146535799829, null], \"y\": [-0.017831327287119475, -0.0743844082798468, null]}, {\"hoverinfo\": \"text\", \"line\": {\"color\": \"peru\", \"width\": 0.2500468045502499}, \"mode\": \"lines\", \"text\": [\"<b>1</b>\"], \"type\": \"scatter\", \"x\": [0.1383800971725734, 0.03914642094439085, null], \"y\": [-0.017831327287119475, -0.16815542693602434, null]}, {\"hoverinfo\": \"text\", \"line\": {\"color\": \"peru\", \"width\": 0.2547053091972221}, \"mode\": \"lines\", \"text\": [\"<b>150</b>\"], \"type\": \"scatter\", \"x\": [-0.060870871982170276, -0.1565613973253825, null], \"y\": [0.05847561375370165, -0.04805573240281369, null]}, {\"hoverinfo\": \"text\", \"line\": {\"color\": \"peru\", \"width\": 0.25083373672952086}, \"mode\": \"lines\", \"text\": [\"<b>21</b>\"], \"type\": \"scatter\", \"x\": [-0.060870871982170276, -0.03799795302862708, null], \"y\": [0.05847561375370165, -0.10046936690130284, null]}, {\"hoverinfo\": \"text\", \"line\": {\"color\": \"peru\", \"width\": 0.2509068887497687}, \"mode\": \"lines\", \"text\": [\"<b>10</b>\"], \"type\": \"scatter\", \"x\": [-0.060870871982170276, 0.037112341418509734, null], \"y\": [0.05847561375370165, -0.06476133803077848, null]}, {\"hoverinfo\": \"text\", \"line\": {\"color\": \"peru\", \"width\": 0.25007417704965523}, \"mode\": \"lines\", \"text\": [\"<b>3</b>\"], \"type\": \"scatter\", \"x\": [-0.060870871982170276, 0.0021476759594681615, null], \"y\": [0.05847561375370165, -0.14325253494920223, null]}, {\"hoverinfo\": \"text\", \"line\": {\"color\": \"peru\", \"width\": 0.2500165542575017}, \"mode\": \"lines\", \"text\": [\"<b>3</b>\"], \"type\": \"scatter\", \"x\": [-0.060870871982170276, -0.008620714316374366, null], \"y\": [0.05847561375370165, -0.2384014836653278, null]}, {\"hoverinfo\": \"text\", \"line\": {\"color\": \"peru\", \"width\": 0.25097888693120846}, \"mode\": \"lines\", \"text\": [\"<b>3</b>\"], \"type\": \"scatter\", \"x\": [-0.060870871982170276, 0.08602385684170852, null], \"y\": [0.05847561375370165, -0.09889936429271984, null]}, {\"hoverinfo\": \"text\", \"line\": {\"color\": \"peru\", \"width\": 0.25114188334894616}, \"mode\": \"lines\", \"text\": [\"<b>2</b>\"], \"type\": \"scatter\", \"x\": [-0.060870871982170276, 0.076044024846554, null], \"y\": [0.05847561375370165, -0.2285230196945629, null]}, {\"hoverinfo\": \"text\", \"line\": {\"color\": \"peru\", \"width\": 0.2500821363305899}, \"mode\": \"lines\", \"text\": [\"<b>1</b>\"], \"type\": \"scatter\", \"x\": [-0.060870871982170276, 0.03914642094439085, null], \"y\": [0.05847561375370165, -0.16815542693602434, null]}, {\"hoverinfo\": \"text\", \"line\": {\"color\": \"peru\", \"width\": 0.25445514543173153}, \"mode\": \"lines\", \"text\": [\"<b>1</b>\"], \"type\": \"scatter\", \"x\": [0.30041709745930495, 0.0021476759594681615, null], \"y\": [0.3296958791155544, -0.14325253494920223, null]}, {\"hoverinfo\": \"text\", \"line\": {\"color\": \"peru\", \"width\": 0.25172052643070764}, \"mode\": \"lines\", \"text\": [\"<b>13</b>\"], \"type\": \"scatter\", \"x\": [0.026589664548724874, 0.037112341418509734, null], \"y\": [-0.30952614571382137, -0.06476133803077848, null]}, {\"hoverinfo\": \"text\", \"line\": {\"color\": \"peru\", \"width\": 0.2505690202767427}, \"mode\": \"lines\", \"text\": [\"<b>11</b>\"], \"type\": \"scatter\", \"x\": [0.026589664548724874, -0.1565613973253825, null], \"y\": [-0.30952614571382137, -0.04805573240281369, null]}, {\"hoverinfo\": \"text\", \"line\": {\"color\": \"peru\", \"width\": 0.25103872738895205}, \"mode\": \"lines\", \"text\": [\"<b>9</b>\"], \"type\": \"scatter\", \"x\": [0.026589664548724874, 0.03914642094439085, null], \"y\": [-0.30952614571382137, -0.16815542693602434, null]}, {\"hoverinfo\": \"text\", \"line\": {\"color\": \"peru\", \"width\": 0.25006294041051697}, \"mode\": \"lines\", \"text\": [\"<b>9</b>\"], \"type\": \"scatter\", \"x\": [0.026589664548724874, -0.008620714316374366, null], \"y\": [-0.30952614571382137, -0.2384014836653278, null]}, {\"hoverinfo\": \"text\", \"line\": {\"color\": \"peru\", \"width\": 0.25033655154654555}, \"mode\": \"lines\", \"text\": [\"<b>6</b>\"], \"type\": \"scatter\", \"x\": [0.026589664548724874, -0.03799795302862708, null], \"y\": [-0.30952614571382137, -0.10046936690130284, null]}, {\"hoverinfo\": \"text\", \"line\": {\"color\": \"peru\", \"width\": 0.25006449678537873}, \"mode\": \"lines\", \"text\": [\"<b>2</b>\"], \"type\": \"scatter\", \"x\": [0.026589664548724874, 0.0021476759594681615, null], \"y\": [-0.30952614571382137, -0.14325253494920223, null]}, {\"hoverinfo\": \"text\", \"line\": {\"color\": \"peru\", \"width\": 0.25094042902005853}, \"mode\": \"lines\", \"text\": [\"<b>2</b>\"], \"type\": \"scatter\", \"x\": [0.026589664548724874, 0.08602385684170852, null], \"y\": [-0.30952614571382137, -0.09889936429271984, null]}, {\"hoverinfo\": \"text\", \"line\": {\"color\": \"peru\", \"width\": 0.2504931247044123}, \"mode\": \"lines\", \"text\": [\"<b>1</b>\"], \"type\": \"scatter\", \"x\": [0.026589664548724874, -0.21382146535799829, null], \"y\": [-0.30952614571382137, -0.0743844082798468, null]}, {\"hoverinfo\": \"text\", \"line\": {\"color\": \"peru\", \"width\": 0.2638375899880525}, \"mode\": \"lines\", \"text\": [\"<b>1</b>\"], \"type\": \"scatter\", \"x\": [0.026589664548724874, 0.14140656101499638, null], \"y\": [-0.30952614571382137, 0.1534315269562114, null]}, {\"hoverinfo\": \"text\", \"line\": {\"color\": \"peru\", \"width\": 0.25412681250233105}, \"mode\": \"lines\", \"text\": [\"<b>157</b>\"], \"type\": \"scatter\", \"x\": [0.03914642094439085, 0.037112341418509734, null], \"y\": [-0.16815542693602434, -0.06476133803077848, null]}, {\"hoverinfo\": \"text\", \"line\": {\"color\": \"peru\", \"width\": 0.25080090042407815}, \"mode\": \"lines\", \"text\": [\"<b>72</b>\"], \"type\": \"scatter\", \"x\": [0.03914642094439085, -0.03799795302862708, null], \"y\": [-0.16815542693602434, -0.10046936690130284, null]}, {\"hoverinfo\": \"text\", \"line\": {\"color\": \"peru\", \"width\": 0.25005131759066945}, \"mode\": \"lines\", \"text\": [\"<b>37</b>\"], \"type\": \"scatter\", \"x\": [0.03914642094439085, -0.008620714316374366, null], \"y\": [-0.16815542693602434, -0.2384014836653278, null]}, {\"hoverinfo\": \"text\", \"line\": {\"color\": \"peru\", \"width\": 0.25064040657290426}, \"mode\": \"lines\", \"text\": [\"<b>28</b>\"], \"type\": \"scatter\", \"x\": [0.03914642094439085, 0.03914642094439085, null], \"y\": [-0.16815542693602434, -0.16815542693602434, null]}, {\"hoverinfo\": \"text\", \"line\": {\"color\": \"peru\", \"width\": 0.25017412682809104}, \"mode\": \"lines\", \"text\": [\"<b>17</b>\"], \"type\": \"scatter\", \"x\": [0.03914642094439085, -0.1565613973253825, null], \"y\": [-0.16815542693602434, -0.04805573240281369, null]}, {\"hoverinfo\": \"text\", \"line\": {\"color\": \"peru\", \"width\": 0.250108718254807}, \"mode\": \"lines\", \"text\": [\"<b>17</b>\"], \"type\": \"scatter\", \"x\": [0.03914642094439085, 0.0021476759594681615, null], \"y\": [-0.16815542693602434, -0.14325253494920223, null]}, {\"hoverinfo\": \"text\", \"line\": {\"color\": \"peru\", \"width\": 0.2505341504401365}, \"mode\": \"lines\", \"text\": [\"<b>3</b>\"], \"type\": \"scatter\", \"x\": [0.03914642094439085, 0.076044024846554, null], \"y\": [-0.16815542693602434, -0.2285230196945629, null]}, {\"hoverinfo\": \"text\", \"line\": {\"color\": \"peru\", \"width\": 0.25018628563121503}, \"mode\": \"lines\", \"text\": [\"<b>2</b>\"], \"type\": \"scatter\", \"x\": [0.03914642094439085, 0.08602385684170852, null], \"y\": [-0.16815542693602434, -0.09889936429271984, null]}, {\"hoverinfo\": \"text\", \"line\": {\"color\": \"peru\", \"width\": 0.2516821853142026}, \"mode\": \"lines\", \"text\": [\"<b>2</b>\"], \"type\": \"scatter\", \"x\": [0.03914642094439085, -0.15761049738613608, null], \"y\": [-0.16815542693602434, -0.3150798978482202, null]}, {\"hoverinfo\": \"text\", \"line\": {\"color\": \"peru\", \"width\": 0.2508545649319552}, \"mode\": \"lines\", \"text\": [\"<b>8</b>\"], \"type\": \"scatter\", \"x\": [-0.10814385694596838, -0.008620714316374366, null], \"y\": [-0.5098678491586572, -0.2384014836653278, null]}, {\"hoverinfo\": \"text\", \"line\": {\"color\": \"peru\", \"width\": 0.2518050740496347}, \"mode\": \"lines\", \"text\": [\"<b>2</b>\"], \"type\": \"scatter\", \"x\": [-0.10814385694596838, -0.03799795302862708, null], \"y\": [-0.5098678491586572, -0.10046936690130284, null]}, {\"hoverinfo\": \"text\", \"line\": {\"color\": \"peru\", \"width\": 0.2504987539663548}, \"mode\": \"lines\", \"text\": [\"<b>1</b>\"], \"type\": \"scatter\", \"x\": [-0.10814385694596838, 0.0021476759594681615, null], \"y\": [-0.5098678491586572, -0.14325253494920223, null]}, {\"hoverinfo\": \"text\", \"line\": {\"color\": \"peru\", \"width\": 0.2504498599376918}, \"mode\": \"lines\", \"text\": [\"<b>253</b>\"], \"type\": \"scatter\", \"x\": [0.037112341418509734, -0.008620714316374366, null], \"y\": [-0.06476133803077848, -0.2384014836653278, null]}, {\"hoverinfo\": \"text\", \"line\": {\"color\": \"peru\", \"width\": 0.25161421261308814}, \"mode\": \"lines\", \"text\": [\"<b>203</b>\"], \"type\": \"scatter\", \"x\": [0.037112341418509734, 0.0021476759594681615, null], \"y\": [-0.06476133803077848, -0.14325253494920223, null]}, {\"hoverinfo\": \"text\", \"line\": {\"color\": \"peru\", \"width\": 0.2517223186906546}, \"mode\": \"lines\", \"text\": [\"<b>175</b>\"], \"type\": \"scatter\", \"x\": [0.037112341418509734, -0.1565613973253825, null], \"y\": [-0.06476133803077848, -0.04805573240281369, null]}, {\"hoverinfo\": \"text\", \"line\": {\"color\": \"peru\", \"width\": 0.251379927250067}, \"mode\": \"lines\", \"text\": [\"<b>109</b>\"], \"type\": \"scatter\", \"x\": [0.037112341418509734, -0.03799795302862708, null], \"y\": [-0.06476133803077848, -0.10046936690130284, null]}, {\"hoverinfo\": \"text\", \"line\": {\"color\": \"peru\", \"width\": 0.2521653617107128}, \"mode\": \"lines\", \"text\": [\"<b>12</b>\"], \"type\": \"scatter\", \"x\": [0.037112341418509734, 0.076044024846554, null], \"y\": [-0.06476133803077848, -0.2285230196945629, null]}, {\"hoverinfo\": \"text\", \"line\": {\"color\": \"peru\", \"width\": 0.2510382232888889}, \"mode\": \"lines\", \"text\": [\"<b>10</b>\"], \"type\": \"scatter\", \"x\": [0.037112341418509734, 0.08602385684170852, null], \"y\": [-0.06476133803077848, -0.09889936429271984, null]}, {\"hoverinfo\": \"text\", \"line\": {\"color\": \"peru\", \"width\": 0.25052212971048327}, \"mode\": \"lines\", \"text\": [\"<b>5</b>\"], \"type\": \"scatter\", \"x\": [0.037112341418509734, -0.21382146535799829, null], \"y\": [-0.06476133803077848, -0.0743844082798468, null]}, {\"hoverinfo\": \"text\", \"line\": {\"color\": \"peru\", \"width\": 0.2501152177245403}, \"mode\": \"lines\", \"text\": [\"<b>4</b>\"], \"type\": \"scatter\", \"x\": [0.037112341418509734, 0.037112341418509734, null], \"y\": [-0.06476133803077848, -0.06476133803077848, null]}, {\"hoverinfo\": \"text\", \"line\": {\"color\": \"peru\", \"width\": 0.25363994913622123}, \"mode\": \"lines\", \"text\": [\"<b>4</b>\"], \"type\": \"scatter\", \"x\": [0.037112341418509734, -0.15761049738613608, null], \"y\": [-0.06476133803077848, -0.3150798978482202, null]}, {\"hoverinfo\": \"text\", \"line\": {\"color\": \"peru\", \"width\": 0.25591711108360254}, \"mode\": \"lines\", \"text\": [\"<b>2</b>\"], \"type\": \"scatter\", \"x\": [0.037112341418509734, 0.14140656101499638, null], \"y\": [-0.06476133803077848, 0.1534315269562114, null]}, {\"hoverinfo\": \"text\", \"line\": {\"color\": \"peru\", \"width\": 0.34321961476281065}, \"mode\": \"lines\", \"text\": [\"<b>2</b>\"], \"type\": \"scatter\", \"x\": [-0.41973072647800724, -0.21382146535799829, null], \"y\": [0.060744149500660975, -0.0743844082798468, null]}, {\"hoverinfo\": \"text\", \"line\": {\"color\": \"peru\", \"width\": 0.25474089001834577}, \"mode\": \"lines\", \"text\": [\"<b>1</b>\"], \"type\": \"scatter\", \"x\": [-0.41973072647800724, -0.1565613973253825, null], \"y\": [0.060744149500660975, -0.04805573240281369, null]}, {\"hoverinfo\": \"text\", \"line\": {\"color\": \"peru\", \"width\": 0.2505656621311115}, \"mode\": \"lines\", \"text\": [\"<b>11</b>\"], \"type\": \"scatter\", \"x\": [-0.2830525026756416, -0.008620714316374366, null], \"y\": [-0.376171070009455, -0.2384014836653278, null]}, {\"hoverinfo\": \"text\", \"line\": {\"color\": \"peru\", \"width\": 0.250976896854251}, \"mode\": \"lines\", \"text\": [\"<b>4</b>\"], \"type\": \"scatter\", \"x\": [-0.2830525026756416, 0.0021476759594681615, null], \"y\": [-0.376171070009455, -0.14325253494920223, null]}, {\"hoverinfo\": \"text\", \"line\": {\"color\": \"peru\", \"width\": 0.2633856822299179}, \"mode\": \"lines\", \"text\": [\"<b>3</b>\"], \"type\": \"scatter\", \"x\": [-0.2830525026756416, -0.21382146535799829, null], \"y\": [-0.376171070009455, -0.0743844082798468, null]}, {\"hoverinfo\": \"text\", \"line\": {\"color\": \"peru\", \"width\": 0.25036747239398754}, \"mode\": \"lines\", \"text\": [\"<b>1131</b>\"], \"type\": \"scatter\", \"x\": [0.0021476759594681615, -0.008620714316374366, null], \"y\": [-0.14325253494920223, -0.2384014836653278, null]}, {\"hoverinfo\": \"text\", \"line\": {\"color\": \"peru\", \"width\": 0.2502711213651802}, \"mode\": \"lines\", \"text\": [\"<b>86</b>\"], \"type\": \"scatter\", \"x\": [0.0021476759594681615, -0.03799795302862708, null], \"y\": [-0.14325253494920223, -0.10046936690130284, null]}, {\"hoverinfo\": \"text\", \"line\": {\"color\": \"peru\", \"width\": 0.2502315281247551}, \"mode\": \"lines\", \"text\": [\"<b>52</b>\"], \"type\": \"scatter\", \"x\": [0.0021476759594681615, -0.1565613973253825, null], \"y\": [-0.14325253494920223, -0.04805573240281369, null]}, {\"hoverinfo\": \"text\", \"line\": {\"color\": \"peru\", \"width\": 0.2506578296476807}, \"mode\": \"lines\", \"text\": [\"<b>10</b>\"], \"type\": \"scatter\", \"x\": [0.0021476759594681615, 0.076044024846554, null], \"y\": [-0.14325253494920223, -0.2285230196945629, null]}, {\"hoverinfo\": \"text\", \"line\": {\"color\": \"peru\", \"width\": 0.2502200634944742}, \"mode\": \"lines\", \"text\": [\"<b>8</b>\"], \"type\": \"scatter\", \"x\": [0.0021476759594681615, 0.08602385684170852, null], \"y\": [-0.14325253494920223, -0.09889936429271984, null]}, {\"hoverinfo\": \"text\", \"line\": {\"color\": \"peru\", \"width\": 0.2502206364211947}, \"mode\": \"lines\", \"text\": [\"<b>7</b>\"], \"type\": \"scatter\", \"x\": [0.0021476759594681615, -0.21382146535799829, null], \"y\": [-0.14325253494920223, -0.0743844082798468, null]}, {\"hoverinfo\": \"text\", \"line\": {\"color\": \"peru\", \"width\": 0.25026457132672725}, \"mode\": \"lines\", \"text\": [\"<b>1</b>\"], \"type\": \"scatter\", \"x\": [0.0021476759594681615, -0.15761049738613608, null], \"y\": [-0.14325253494920223, -0.3150798978482202, null]}, {\"hoverinfo\": \"text\", \"line\": {\"color\": \"peru\", \"width\": 0.2509217093200712}, \"mode\": \"lines\", \"text\": [\"<b>25</b>\"], \"type\": \"scatter\", \"x\": [0.08602385684170852, -0.1565613973253825, null], \"y\": [-0.09889936429271984, -0.04805573240281369, null]}, {\"hoverinfo\": \"text\", \"line\": {\"color\": \"peru\", \"width\": 0.25007309322596744}, \"mode\": \"lines\", \"text\": [\"<b>12</b>\"], \"type\": \"scatter\", \"x\": [0.08602385684170852, -0.008620714316374366, null], \"y\": [-0.09889936429271984, -0.2384014836653278, null]}, {\"hoverinfo\": \"text\", \"line\": {\"color\": \"peru\", \"width\": 0.25031551777429123}, \"mode\": \"lines\", \"text\": [\"<b>7</b>\"], \"type\": \"scatter\", \"x\": [0.08602385684170852, -0.03799795302862708, null], \"y\": [-0.09889936429271984, -0.10046936690130284, null]}, {\"hoverinfo\": \"text\", \"line\": {\"color\": \"peru\", \"width\": 0.25333448472290054}, \"mode\": \"lines\", \"text\": [\"<b>5</b>\"], \"type\": \"scatter\", \"x\": [0.08602385684170852, 0.076044024846554, null], \"y\": [-0.09889936429271984, -0.2285230196945629, null]}, {\"hoverinfo\": \"text\", \"line\": {\"color\": \"peru\", \"width\": 0.2607395594612555}, \"mode\": \"lines\", \"text\": [\"<b>1</b>\"], \"type\": \"scatter\", \"x\": [0.08602385684170852, 0.14140656101499638, null], \"y\": [-0.09889936429271984, 0.1534315269562114, null]}, {\"hoverinfo\": \"text\", \"line\": {\"color\": \"peru\", \"width\": 0.2501805534782834}, \"mode\": \"lines\", \"text\": [\"<b>3</b>\"], \"type\": \"scatter\", \"x\": [-0.15761049738613608, -0.008620714316374366, null], \"y\": [-0.3150798978482202, -0.2384014836653278, null]}, {\"hoverinfo\": \"text\", \"line\": {\"color\": \"peru\", \"width\": 0.25058787728504506}, \"mode\": \"lines\", \"text\": [\"<b>2</b>\"], \"type\": \"scatter\", \"x\": [-0.15761049738613608, -0.1565613973253825, null], \"y\": [-0.3150798978482202, -0.04805573240281369, null]}, {\"hoverinfo\": \"text\", \"line\": {\"color\": \"peru\", \"width\": 0.2518980104582747}, \"mode\": \"lines\", \"text\": [\"<b>351</b>\"], \"type\": \"scatter\", \"x\": [-0.03799795302862708, -0.03799795302862708, null], \"y\": [-0.10046936690130284, -0.10046936690130284, null]}, {\"hoverinfo\": \"text\", \"line\": {\"color\": \"peru\", \"width\": 0.25168867989300775}, \"mode\": \"lines\", \"text\": [\"<b>350</b>\"], \"type\": \"scatter\", \"x\": [-0.03799795302862708, -0.1565613973253825, null], \"y\": [-0.10046936690130284, -0.04805573240281369, null]}, {\"hoverinfo\": \"text\", \"line\": {\"color\": \"peru\", \"width\": 0.2501133746643399}, \"mode\": \"lines\", \"text\": [\"<b>165</b>\"], \"type\": \"scatter\", \"x\": [-0.03799795302862708, -0.008620714316374366, null], \"y\": [-0.10046936690130284, -0.2384014836653278, null]}, {\"hoverinfo\": \"text\", \"line\": {\"color\": \"peru\", \"width\": 0.25061019105957427}, \"mode\": \"lines\", \"text\": [\"<b>13</b>\"], \"type\": \"scatter\", \"x\": [-0.03799795302862708, -0.21382146535799829, null], \"y\": [-0.10046936690130284, -0.0743844082798468, null]}, {\"hoverinfo\": \"text\", \"line\": {\"color\": \"peru\", \"width\": 0.25050783306225755}, \"mode\": \"lines\", \"text\": [\"<b>6</b>\"], \"type\": \"scatter\", \"x\": [-0.03799795302862708, 0.076044024846554, null], \"y\": [-0.10046936690130284, -0.2285230196945629, null]}, {\"hoverinfo\": \"text\", \"line\": {\"color\": \"peru\", \"width\": 0.25261725595873286}, \"mode\": \"lines\", \"text\": [\"<b>2</b>\"], \"type\": \"scatter\", \"x\": [-0.03799795302862708, 0.14140656101499638, null], \"y\": [-0.10046936690130284, 0.1534315269562114, null]}, {\"hoverinfo\": \"text\", \"line\": {\"color\": \"peru\", \"width\": 0.2519392839504346}, \"mode\": \"lines\", \"text\": [\"<b>2</b>\"], \"type\": \"scatter\", \"x\": [0.14140656101499638, -0.1565613973253825, null], \"y\": [0.1534315269562114, -0.04805573240281369, null]}, {\"hoverinfo\": \"text\", \"line\": {\"color\": \"peru\", \"width\": 0.2606758201195839}, \"mode\": \"lines\", \"text\": [\"<b>1</b>\"], \"type\": \"scatter\", \"x\": [0.14140656101499638, -0.21382146535799829, null], \"y\": [0.1534315269562114, -0.0743844082798468, null]}, {\"hoverinfo\": \"text\", \"line\": {\"color\": \"peru\", \"width\": 0.25033992569482527}, \"mode\": \"lines\", \"text\": [\"<b>21</b>\"], \"type\": \"scatter\", \"x\": [0.076044024846554, -0.008620714316374366, null], \"y\": [-0.2285230196945629, -0.2384014836653278, null]}, {\"hoverinfo\": \"text\", \"line\": {\"color\": \"peru\", \"width\": 0.25049547708324404}, \"mode\": \"lines\", \"text\": [\"<b>10</b>\"], \"type\": \"scatter\", \"x\": [0.076044024846554, -0.1565613973253825, null], \"y\": [-0.2285230196945629, -0.04805573240281369, null]}, {\"hoverinfo\": \"text\", \"line\": {\"color\": \"peru\", \"width\": 0.2524838269583848}, \"mode\": \"lines\", \"text\": [\"<b>4</b>\"], \"type\": \"scatter\", \"x\": [0.076044024846554, -0.21382146535799829, null], \"y\": [-0.2285230196945629, -0.0743844082798468, null]}, {\"hoverinfo\": \"text\", \"line\": {\"color\": \"peru\", \"width\": 0.25018590385672934}, \"mode\": \"lines\", \"text\": [\"<b>153</b>\"], \"type\": \"scatter\", \"x\": [-0.1565613973253825, -0.008620714316374366, null], \"y\": [-0.04805573240281369, -0.2384014836653278, null]}, {\"hoverinfo\": \"text\", \"line\": {\"color\": \"peru\", \"width\": 0.250656598897179}, \"mode\": \"lines\", \"text\": [\"<b>20</b>\"], \"type\": \"scatter\", \"x\": [-0.1565613973253825, -0.21382146535799829, null], \"y\": [-0.04805573240281369, -0.0743844082798468, null]}, {\"hoverinfo\": \"text\", \"line\": {\"color\": \"peru\", \"width\": 0.25019568550960747}, \"mode\": \"lines\", \"text\": [\"<b>27</b>\"], \"type\": \"scatter\", \"x\": [-0.008620714316374366, -0.21382146535799829, null], \"y\": [-0.2384014836653278, -0.0743844082798468, null]}, {\"hoverinfo\": \"text\", \"line\": {\"color\": \"peru\", \"width\": 0.25028975387753954}, \"mode\": \"lines\", \"text\": [\"<b>1</b>\"], \"type\": \"scatter\", \"x\": [-0.008620714316374366, -0.45566646999102844, null], \"y\": [-0.2384014836653278, -0.3086962806174099, null]}, {\"hoverinfo\": \"text\", \"line\": {\"color\": \"peru\", \"width\": 0.2507429587322474}, \"mode\": \"lines\", \"text\": [\"<b>2</b>\"], \"type\": \"scatter\", \"x\": [-0.21382146535799829, -0.21382146535799829, null], \"y\": [-0.0743844082798468, -0.0743844082798468, null]}, {\"hoverinfo\": \"text\", \"marker\": {\"color\": [\"peru\", \"peru\", \"peru\", \"peru\", \"peru\", \"peru\", \"peru\", \"peru\", \"peru\", \"peru\", \"peru\", \"peru\", \"peru\", \"peru\", \"peru\", \"peru\", \"peru\", \"peru\", \"peru\", \"peru\", \"peru\", \"peru\", \"peru\", \"peru\", \"peru\", \"peru\", \"peru\", \"peru\", \"peru\", \"peru\", \"peru\", \"peru\", \"peru\", \"peru\", \"peru\", \"peru\", \"peru\", \"peru\", \"peru\", \"peru\", \"peru\", \"peru\", \"peru\", \"peru\", \"peru\", \"peru\", \"peru\", \"peru\", \"peru\", \"peru\", \"peru\", \"peru\", \"peru\", \"peru\", \"peru\", \"peru\", \"peru\", \"peru\", \"peru\", \"peru\", \"peru\", \"peru\", \"peru\", \"peru\", \"peru\", \"peru\", \"peru\", \"peru\", \"peru\", \"peru\", \"peru\", \"peru\", \"peru\", \"peru\", \"peru\", \"peru\", \"peru\", \"peru\"], \"size\": [5.02360281591856, 5.0010262093877635, 5.042895552408514, 5.000205241877552, 5.00225766065308, 5.166245920817683, 5.316893458941362, 5.001231451265316, 5.015598382694005, 5.0082096751021075, 5.000410483755106, 5.1178088377152475, 5.000615725632658, 5.077991913470025, 5.000615725632658, 25.0, 5.0149826570613465, 5.0082096751021075, 5.004720563183712, 5.011904028898057, 5.000205241877552, 5.0010262093877635, 5.0010262093877635, 5.5369127516778525, 5.0034891119183955, 5.015187898938899, 5.35322127126819, 5.052747162531043, 5.0008209675102115, 5.000410483755106, 5.001436693142869, 5.034275393551301, 5.036738296081933, 5.030375797877799, 6.74948176425918, 5.000205241877552, 5.000205241877552, 5.800648564333066, 5.125608029062249, 5.000615725632658, 5.0332491841635365, 5.019703220245058, 5.0057467725714755, 5.000205241877552, 5.001231451265316, 5.24444307616526, 5.000205241877552, 5.15988342261355, 5.000615725632658, 5.000410483755106, 5.000410483755106, 5.000205241877552, 5.000205241877552, 5.048847566857542, 5.000205241877552, 5.141822137388913, 5.079633848490445, 5.000615725632658, 5.053978613796359, 5.272355971512428, 5.0032838700408435, 5.250805574369394, 5.000615725632658, 5.000205241877552, 5.0008209675102115, 5.006157256326581, 5.874946124007142, 5.069371754612812, 5.0080044332245555, 5.565441372657677, 5.00225766065308, 5.002462902530632, 5.04104837551054, 5.000205241877552, 5.762678816985818, 8.865525521827474, 5.069782238367917, 5.001436693142869]}, \"mode\": \"markers\", \"text\": [\"<b>Vietnamese</b><br># of Speakers: 115\", \"<b>Macedonian</b><br># of Speakers: 5\", \"<b>Luxembourgish</b><br># of Speakers: 209\", \"<b>Tajik</b><br># of Speakers: 1\", \"<b>Bosnian</b><br># of Speakers: 11\", \"<b>Danish</b><br># of Speakers: 810\", \"<b>Italian</b><br># of Speakers: 1544\", \"<b>Bangla</b><br># of Speakers: 6\", \"<b>Ukrainian</b><br># of Speakers: 76\", \"<b>Punjabi</b><br># of Speakers: 40\", \"<b>Seychellois</b><br># of Speakers: 2\", \"<b>Finnish</b><br># of Speakers: 574\", \"<b>Afghan</b><br># of Speakers: 3\", \"<b>Hindi</b><br># of Speakers: 380\", \"<b>Kyrgyz</b><br># of Speakers: 3\", \"<b>English</b><br># of Speakers: 97446\", \"<b>Slovene</b><br># of Speakers: 73\", \"<b>Asante</b><br># of Speakers: 40\", \"<b>Persian</b><br># of Speakers: 23\", \"<b>Serbian</b><br># of Speakers: 58\", \"<b>Kinyarwanda</b><br># of Speakers: 1\", \"<b>Nepali</b><br># of Speakers: 5\", \"<b>Khmer</b><br># of Speakers: 5\", \"<b>Arabic</b><br># of Speakers: 2616\", \"<b>Icelandic</b><br># of Speakers: 17\", \"<b>Slovak</b><br># of Speakers: 74\", \"<b>Thai</b><br># of Speakers: 1721\", \"<b>Hungarian</b><br># of Speakers: 257\", \"<b>Creole</b><br># of Speakers: 4\", \"<b>Setswana</b><br># of Speakers: 2\", \"<b>Sinhala</b><br># of Speakers: 7\", \"<b>Malay</b><br># of Speakers: 167\", \"<b>Hebrew</b><br># of Speakers: 179\", \"<b>Romanian</b><br># of Speakers: 148\", \"<b>German</b><br># of Speakers: 8524\", \"<b>Mongolian</b><br># of Speakers: 1\", \"<b>Shona</b><br># of Speakers: 1\", \"<b>Dutch</b><br># of Speakers: 3901\", \"<b>Korean</b><br># of Speakers: 612\", \"<b>Bemba</b><br># of Speakers: 3\", \"<b>Croatian</b><br># of Speakers: 162\", \"<b>Estonian</b><br># of Speakers: 96\", \"<b>Makhuwa</b><br># of Speakers: 28\", \"<b>Kazakh</b><br># of Speakers: 1\", \"<b>Lithuanian</b><br># of Speakers: 6\", \"<b>Bahasa</b><br># of Speakers: 1191\", \"<b>Sharchhopka</b><br># of Speakers: 1\", \"<b>Greek</b><br># of Speakers: 779\", \"<b>Oshiwambo</b><br># of Speakers: 3\", \"<b>Kiswahili</b><br># of Speakers: 2\", \"<b>Albanian</b><br># of Speakers: 2\", \"<b>Somali</b><br># of Speakers: 1\", \"<b>Lao</b><br># of Speakers: 1\", \"<b>Polish</b><br># of Speakers: 238\", \"<b>Tok</b><br># of Speakers: 1\", \"<b>Yue</b><br># of Speakers: 691\", \"<b>Mandarin</b><br># of Speakers: 388\", \"<b>Georgian</b><br># of Speakers: 3\", \"<b>isiZulu</b><br># of Speakers: 263\", \"<b>Portuguese</b><br># of Speakers: 1327\", \"<b>Maltese</b><br># of Speakers: 16\", \"<b>French</b><br># of Speakers: 1222\", \"<b>Uzbek</b><br># of Speakers: 3\", \"<b>Catalan</b><br># of Speakers: 1\", \"<b>Moldovan/Romanian</b><br># of Speakers: 4\", \"<b>Latvian</b><br># of Speakers: 30\", \"<b>Bokmal</b><br># of Speakers: 4263\", \"<b>Cebuano</b><br># of Speakers: 338\", \"<b>Bulgarian</b><br># of Speakers: 39\", \"<b>Spanish</b><br># of Speakers: 2755\", \"<b>Palauan</b><br># of Speakers: 11\", \"<b>Dhivehi</b><br># of Speakers: 12\", \"<b>Turkish</b><br># of Speakers: 200\", \"<b>I-Kiribati</b><br># of Speakers: 1\", \"<b>Japanese</b><br># of Speakers: 3716\", \"<b>Swedish</b><br># of Speakers: 18834\", \"<b>Russian</b><br># of Speakers: 340\", \"<b>Azerbaijani</b><br># of Speakers: 7\"], \"textfont\": {\"size\": 10}, \"textposition\": \"top center\", \"type\": \"scatter\", \"x\": [-0.08157381426554647, 0.09032264831847737, -0.2787052282098417, 0.7096164289417278, 0.3503438466787676, -0.06126495757639816, -0.17466140068503105, 0.5841165607900559, -0.28703581271306317, -0.1360693385956396, -0.49909233227621014, -0.15914794116645503, 0.5381362796161994, -0.13847531594110257, -0.3028277493714289, 0.037794014098991364, 0.12380093032622776, 0.18890539387121066, 0.003196803672617761, 0.225258502357332, 0.22649338975796107, -0.1313219761498052, -0.2621886351080779, -0.11708530833598096, 0.2384114147397721, -0.3216013916991431, -0.034520369679783496, -0.17699050553477794, 0.5252622617720751, -0.11560680098750302, 0.12187876408755381, 0.304566913755434, -0.20084994632269787, -0.23436239491697763, -0.0264655059238801, 0.047650137857219846, -0.9171341356793465, 0.03097250257589602, -0.11764096428606644, 0.15693580918562272, 0.1782997712493181, -0.014496133191631221, 0.09091248396374722, 0.5644930158846561, 0.26434180886269315, -0.009709271081250317, 0.8378822987095896, -0.13921754181663373, 0.4387262903185144, 0.5507856787496299, -0.5868292045207596, 0.3854463345743704, 0.05586488337274385, -0.06926016718356055, -0.1733151329736438, 0.1383800971725734, -0.060870871982170276, 0.30041709745930495, 0.026589664548724874, 0.03914642094439085, -0.10814385694596838, 0.037112341418509734, -0.41973072647800724, 0.7236503798389048, -0.4106235388170116, -0.2830525026756416, 0.0021476759594681615, 0.08602385684170852, -0.15761049738613608, -0.03799795302862708, -0.4907078785290733, 0.14140656101499638, 0.076044024846554, -0.870476139107894, -0.1565613973253825, -0.008620714316374366, -0.21382146535799829, -0.45566646999102844], \"y\": [0.1682352956082638, 0.22758249541221023, -0.1423897501743019, 0.5492891864379245, -0.2042185469656828, -0.15295407143200532, -0.008713263447703267, 0.09611893168005317, -0.2371482169447177, 0.14614193275385035, 0.4580884985480045, -0.1121283159934214, 0.1553144902997429, -0.18547852485274133, 0.84732232673226, 0.12434741897055317, 0.055414571222401655, -0.25721437611247694, -0.5189873829406744, -0.04718966706519001, 0.8904981803794328, 0.43169933745576405, 0.22722651728137752, -0.14061218669955314, -0.34719956689021464, -0.10395182662034332, -0.20641756411669696, 0.08436261288959324, -0.034926880980845794, 0.8968952254375414, 0.40402596435716875, -0.018188746815965686, -0.19226855649186103, 0.02962341723103683, -0.06257900558246596, 0.4343129528769831, -0.2892427237564671, -0.02726580821300639, 0.018569149606881274, -0.942265318717752, -0.1274569078232588, 0.14458655088238995, -0.3834819239965121, -0.7638620637946426, -0.1966470007508575, 0.0046491559004002, -0.24159464763909919, -0.2230008879936063, 0.46263474844595576, 0.7297058186385333, 0.3740844462328424, 0.8305255077209299, 0.9120552394933666, -0.30758311375772085, -1.0, -0.017831327287119475, 0.05847561375370165, 0.3296958791155544, -0.30952614571382137, -0.16815542693602434, -0.5098678491586572, -0.06476133803077848, 0.060744149500660975, -0.3261551059557146, 0.5541072673739492, -0.376171070009455, -0.14325253494920223, -0.09889936429271984, -0.3150798978482202, -0.10046936690130284, -0.10678684678237646, 0.1534315269562114, -0.2285230196945629, 0.05021963589959825, -0.04805573240281369, -0.2384014836653278, -0.0743844082798468, -0.3086962806174099]}],                        {\"paper_bgcolor\": \"rgba(0,0,0,0)\", \"plot_bgcolor\": \"seashell\", \"showlegend\": false, \"template\": {\"data\": {\"bar\": [{\"error_x\": {\"color\": \"#2a3f5f\"}, \"error_y\": {\"color\": \"#2a3f5f\"}, \"marker\": {\"line\": {\"color\": \"#E5ECF6\", \"width\": 0.5}}, \"type\": \"bar\"}], \"barpolar\": [{\"marker\": {\"line\": {\"color\": \"#E5ECF6\", \"width\": 0.5}}, \"type\": \"barpolar\"}], \"carpet\": [{\"aaxis\": {\"endlinecolor\": \"#2a3f5f\", \"gridcolor\": \"white\", \"linecolor\": \"white\", \"minorgridcolor\": \"white\", \"startlinecolor\": \"#2a3f5f\"}, \"baxis\": {\"endlinecolor\": \"#2a3f5f\", \"gridcolor\": \"white\", \"linecolor\": \"white\", \"minorgridcolor\": \"white\", \"startlinecolor\": \"#2a3f5f\"}, \"type\": \"carpet\"}], \"choropleth\": [{\"colorbar\": {\"outlinewidth\": 0, \"ticks\": \"\"}, \"type\": \"choropleth\"}], \"contour\": [{\"colorbar\": {\"outlinewidth\": 0, \"ticks\": \"\"}, \"colorscale\": [[0.0, \"#0d0887\"], [0.1111111111111111, \"#46039f\"], [0.2222222222222222, \"#7201a8\"], [0.3333333333333333, \"#9c179e\"], [0.4444444444444444, \"#bd3786\"], [0.5555555555555556, \"#d8576b\"], [0.6666666666666666, \"#ed7953\"], [0.7777777777777778, \"#fb9f3a\"], [0.8888888888888888, \"#fdca26\"], [1.0, \"#f0f921\"]], \"type\": \"contour\"}], \"contourcarpet\": [{\"colorbar\": {\"outlinewidth\": 0, \"ticks\": \"\"}, \"type\": \"contourcarpet\"}], \"heatmap\": [{\"colorbar\": {\"outlinewidth\": 0, \"ticks\": \"\"}, \"colorscale\": [[0.0, \"#0d0887\"], [0.1111111111111111, \"#46039f\"], [0.2222222222222222, \"#7201a8\"], [0.3333333333333333, \"#9c179e\"], [0.4444444444444444, \"#bd3786\"], [0.5555555555555556, \"#d8576b\"], [0.6666666666666666, \"#ed7953\"], [0.7777777777777778, \"#fb9f3a\"], [0.8888888888888888, \"#fdca26\"], [1.0, \"#f0f921\"]], \"type\": \"heatmap\"}], \"heatmapgl\": [{\"colorbar\": {\"outlinewidth\": 0, \"ticks\": \"\"}, \"colorscale\": [[0.0, \"#0d0887\"], [0.1111111111111111, \"#46039f\"], [0.2222222222222222, \"#7201a8\"], [0.3333333333333333, \"#9c179e\"], [0.4444444444444444, \"#bd3786\"], [0.5555555555555556, \"#d8576b\"], [0.6666666666666666, \"#ed7953\"], [0.7777777777777778, \"#fb9f3a\"], [0.8888888888888888, \"#fdca26\"], [1.0, \"#f0f921\"]], \"type\": \"heatmapgl\"}], \"histogram\": [{\"marker\": {\"colorbar\": {\"outlinewidth\": 0, \"ticks\": \"\"}}, \"type\": \"histogram\"}], \"histogram2d\": [{\"colorbar\": {\"outlinewidth\": 0, \"ticks\": \"\"}, \"colorscale\": [[0.0, \"#0d0887\"], [0.1111111111111111, \"#46039f\"], [0.2222222222222222, \"#7201a8\"], [0.3333333333333333, \"#9c179e\"], [0.4444444444444444, \"#bd3786\"], [0.5555555555555556, \"#d8576b\"], [0.6666666666666666, \"#ed7953\"], [0.7777777777777778, \"#fb9f3a\"], [0.8888888888888888, \"#fdca26\"], [1.0, \"#f0f921\"]], \"type\": \"histogram2d\"}], \"histogram2dcontour\": [{\"colorbar\": {\"outlinewidth\": 0, \"ticks\": \"\"}, \"colorscale\": [[0.0, \"#0d0887\"], [0.1111111111111111, \"#46039f\"], [0.2222222222222222, \"#7201a8\"], [0.3333333333333333, \"#9c179e\"], [0.4444444444444444, \"#bd3786\"], [0.5555555555555556, \"#d8576b\"], [0.6666666666666666, \"#ed7953\"], [0.7777777777777778, \"#fb9f3a\"], [0.8888888888888888, \"#fdca26\"], [1.0, \"#f0f921\"]], \"type\": \"histogram2dcontour\"}], \"mesh3d\": [{\"colorbar\": {\"outlinewidth\": 0, \"ticks\": \"\"}, \"type\": \"mesh3d\"}], \"parcoords\": [{\"line\": {\"colorbar\": {\"outlinewidth\": 0, \"ticks\": \"\"}}, \"type\": \"parcoords\"}], \"pie\": [{\"automargin\": true, \"type\": \"pie\"}], \"scatter\": [{\"marker\": {\"colorbar\": {\"outlinewidth\": 0, \"ticks\": \"\"}}, \"type\": \"scatter\"}], \"scatter3d\": [{\"line\": {\"colorbar\": {\"outlinewidth\": 0, \"ticks\": \"\"}}, \"marker\": {\"colorbar\": {\"outlinewidth\": 0, \"ticks\": \"\"}}, \"type\": \"scatter3d\"}], \"scattercarpet\": [{\"marker\": {\"colorbar\": {\"outlinewidth\": 0, \"ticks\": \"\"}}, \"type\": \"scattercarpet\"}], \"scattergeo\": [{\"marker\": {\"colorbar\": {\"outlinewidth\": 0, \"ticks\": \"\"}}, \"type\": \"scattergeo\"}], \"scattergl\": [{\"marker\": {\"colorbar\": {\"outlinewidth\": 0, \"ticks\": \"\"}}, \"type\": \"scattergl\"}], \"scattermapbox\": [{\"marker\": {\"colorbar\": {\"outlinewidth\": 0, \"ticks\": \"\"}}, \"type\": \"scattermapbox\"}], \"scatterpolar\": [{\"marker\": {\"colorbar\": {\"outlinewidth\": 0, \"ticks\": \"\"}}, \"type\": \"scatterpolar\"}], \"scatterpolargl\": [{\"marker\": {\"colorbar\": {\"outlinewidth\": 0, \"ticks\": \"\"}}, \"type\": \"scatterpolargl\"}], \"scatterternary\": [{\"marker\": {\"colorbar\": {\"outlinewidth\": 0, \"ticks\": \"\"}}, \"type\": \"scatterternary\"}], \"surface\": [{\"colorbar\": {\"outlinewidth\": 0, \"ticks\": \"\"}, \"colorscale\": [[0.0, \"#0d0887\"], [0.1111111111111111, \"#46039f\"], [0.2222222222222222, \"#7201a8\"], [0.3333333333333333, \"#9c179e\"], [0.4444444444444444, \"#bd3786\"], [0.5555555555555556, \"#d8576b\"], [0.6666666666666666, \"#ed7953\"], [0.7777777777777778, \"#fb9f3a\"], [0.8888888888888888, \"#fdca26\"], [1.0, \"#f0f921\"]], \"type\": \"surface\"}], \"table\": [{\"cells\": {\"fill\": {\"color\": \"#EBF0F8\"}, \"line\": {\"color\": \"white\"}}, \"header\": {\"fill\": {\"color\": \"#C8D4E3\"}, \"line\": {\"color\": \"white\"}}, \"type\": \"table\"}]}, \"layout\": {\"annotationdefaults\": {\"arrowcolor\": \"#2a3f5f\", \"arrowhead\": 0, \"arrowwidth\": 1}, \"autotypenumbers\": \"strict\", \"coloraxis\": {\"colorbar\": {\"outlinewidth\": 0, \"ticks\": \"\"}}, \"colorscale\": {\"diverging\": [[0, \"#8e0152\"], [0.1, \"#c51b7d\"], [0.2, \"#de77ae\"], [0.3, \"#f1b6da\"], [0.4, \"#fde0ef\"], [0.5, \"#f7f7f7\"], [0.6, \"#e6f5d0\"], [0.7, \"#b8e186\"], [0.8, \"#7fbc41\"], [0.9, \"#4d9221\"], [1, \"#276419\"]], \"sequential\": [[0.0, \"#0d0887\"], [0.1111111111111111, \"#46039f\"], [0.2222222222222222, \"#7201a8\"], [0.3333333333333333, \"#9c179e\"], [0.4444444444444444, \"#bd3786\"], [0.5555555555555556, \"#d8576b\"], [0.6666666666666666, \"#ed7953\"], [0.7777777777777778, \"#fb9f3a\"], [0.8888888888888888, \"#fdca26\"], [1.0, \"#f0f921\"]], \"sequentialminus\": [[0.0, \"#0d0887\"], [0.1111111111111111, \"#46039f\"], [0.2222222222222222, \"#7201a8\"], [0.3333333333333333, \"#9c179e\"], [0.4444444444444444, \"#bd3786\"], [0.5555555555555556, \"#d8576b\"], [0.6666666666666666, \"#ed7953\"], [0.7777777777777778, \"#fb9f3a\"], [0.8888888888888888, \"#fdca26\"], [1.0, \"#f0f921\"]]}, \"colorway\": [\"#636efa\", \"#EF553B\", \"#00cc96\", \"#ab63fa\", \"#FFA15A\", \"#19d3f3\", \"#FF6692\", \"#B6E880\", \"#FF97FF\", \"#FECB52\"], \"font\": {\"color\": \"#2a3f5f\"}, \"geo\": {\"bgcolor\": \"white\", \"lakecolor\": \"white\", \"landcolor\": \"#E5ECF6\", \"showlakes\": true, \"showland\": true, \"subunitcolor\": \"white\"}, \"hoverlabel\": {\"align\": \"left\"}, \"hovermode\": \"closest\", \"mapbox\": {\"style\": \"light\"}, \"paper_bgcolor\": \"white\", \"plot_bgcolor\": \"#E5ECF6\", \"polar\": {\"angularaxis\": {\"gridcolor\": \"white\", \"linecolor\": \"white\", \"ticks\": \"\"}, \"bgcolor\": \"#E5ECF6\", \"radialaxis\": {\"gridcolor\": \"white\", \"linecolor\": \"white\", \"ticks\": \"\"}}, \"scene\": {\"xaxis\": {\"backgroundcolor\": \"#E5ECF6\", \"gridcolor\": \"white\", \"gridwidth\": 2, \"linecolor\": \"white\", \"showbackground\": true, \"ticks\": \"\", \"zerolinecolor\": \"white\"}, \"yaxis\": {\"backgroundcolor\": \"#E5ECF6\", \"gridcolor\": \"white\", \"gridwidth\": 2, \"linecolor\": \"white\", \"showbackground\": true, \"ticks\": \"\", \"zerolinecolor\": \"white\"}, \"zaxis\": {\"backgroundcolor\": \"#E5ECF6\", \"gridcolor\": \"white\", \"gridwidth\": 2, \"linecolor\": \"white\", \"showbackground\": true, \"ticks\": \"\", \"zerolinecolor\": \"white\"}}, \"shapedefaults\": {\"line\": {\"color\": \"#2a3f5f\"}}, \"ternary\": {\"aaxis\": {\"gridcolor\": \"white\", \"linecolor\": \"white\", \"ticks\": \"\"}, \"baxis\": {\"gridcolor\": \"white\", \"linecolor\": \"white\", \"ticks\": \"\"}, \"bgcolor\": \"#E5ECF6\", \"caxis\": {\"gridcolor\": \"white\", \"linecolor\": \"white\", \"ticks\": \"\"}}, \"title\": {\"x\": 0.05}, \"xaxis\": {\"automargin\": true, \"gridcolor\": \"white\", \"linecolor\": \"white\", \"ticks\": \"\", \"title\": {\"standoff\": 15}, \"zerolinecolor\": \"white\", \"zerolinewidth\": 2}, \"yaxis\": {\"automargin\": true, \"gridcolor\": \"white\", \"linecolor\": \"white\", \"ticks\": \"\", \"title\": {\"standoff\": 15}, \"zerolinecolor\": \"white\", \"zerolinewidth\": 2}}}, \"title\": {\"text\": \"Friendships between languages\"}, \"xaxis\": {\"showgrid\": false, \"showticklabels\": false, \"zeroline\": false}, \"yaxis\": {\"showgrid\": false, \"showticklabels\": false, \"zeroline\": false}},                        {\"responsive\": true}                    ).then(function(){\n",
       "                            \n",
       "var gd = document.getElementById('d9851848-5bdf-423a-a86c-f3cc8398f012');\n",
       "var x = new MutationObserver(function (mutations, observer) {{\n",
       "        var display = window.getComputedStyle(gd).display;\n",
       "        if (!display || display === 'none') {{\n",
       "            console.log([gd, 'removed!']);\n",
       "            Plotly.purge(gd);\n",
       "            observer.disconnect();\n",
       "        }}\n",
       "}});\n",
       "\n",
       "// Listen for the removal of the full notebook cells\n",
       "var notebookContainer = gd.closest('#notebook-container');\n",
       "if (notebookContainer) {{\n",
       "    x.observe(notebookContainer, {childList: true});\n",
       "}}\n",
       "\n",
       "// Listen for the clearing of the current output cell\n",
       "var outputEl = gd.closest('.output');\n",
       "if (outputEl) {{\n",
       "    x.observe(outputEl, {childList: true});\n",
       "}}\n",
       "\n",
       "                        })                };                });            </script>        </div>"
      ]
     },
     "metadata": {},
     "output_type": "display_data"
    }
   ],
   "source": [
    "# same as before\n",
    "def make_edge(x, y, text, width):\n",
    "    return  go.Scatter(x         = x,\n",
    "                       y         = y,\n",
    "                       line      = dict(width = width,\n",
    "                                   color = 'peru'),\n",
    "                       hoverinfo = 'text',\n",
    "                       text      = ([text]),\n",
    "                       mode      = 'lines')\n",
    "\n",
    "language_graph = nx.Graph()\n",
    "\n",
    "for r, count in nr_users_language.items():\n",
    "    language_graph.add_node(r, size=count)\n",
    "\n",
    "for indx, row in lang_count_df.iterrows():\n",
    "    language_graph.add_edge(row[\"from_language\"], \n",
    "                            row[\"to_language\"], \n",
    "                            weight = row[\"scaled_relative_count\"])\n",
    "\n",
    "pos_ = nx.spring_layout(language_graph)\n",
    "\n",
    "edge_trace = []\n",
    "for edge in language_graph.edges():\n",
    "    \n",
    "    if language_graph.edges()[edge]['weight'] > 0:\n",
    "        char_1 = edge[0]\n",
    "        char_2 = edge[1]\n",
    "        x0, y0 = pos_[char_1] \n",
    "        x1, y1 = pos_[char_2]\n",
    " \n",
    "    char_1, char_2 = sorted([char_1, char_2])\n",
    "\n",
    "    text   = \"<b>\" + str(int(lang_count_df[(lang_count_df[\"from_language\"]==char_1) & (lang_count_df[\"to_language\"]==char_2)][\"count\"])) + '</b>'\n",
    "\n",
    "    trace  = make_edge([x0, x1, None], [y0, y1, None], text, width = 0.25*language_graph.edges()[edge]['weight']**1.75)\n",
    "    edge_trace.append(trace)\n",
    "\n",
    "node_trace = go.Scatter(x         = [],\n",
    "                        y         = [],\n",
    "                        text      = [],\n",
    "                        textposition = \"top center\",\n",
    "                        textfont_size = 10,\n",
    "                        #mode      = 'markers+text',\n",
    "                        mode      = 'markers',\n",
    "                        hoverinfo = 'text',\n",
    "                        marker    = dict(color = [],\n",
    "                                         size  = [],\n",
    "                                         line  = None))\n",
    "\n",
    "for node in language_graph.nodes():\n",
    "    x, y = pos_[node]\n",
    "    node_trace['x'] += tuple([x])\n",
    "    node_trace['y'] += tuple([y])\n",
    "    node_trace['marker']['color'] += tuple(['peru'])\n",
    "    node_trace['marker']['size'] += tuple([5*language_graph.nodes()[node]['size']])\n",
    "    node_trace['text'] += tuple(['<b>' + node + '</b>' + \"<br>\" + \"# of Speakers: \"+ str(nr_users_language_og[node])])\n",
    "\n",
    "layout = go.Layout(\n",
    "    paper_bgcolor='rgba(0,0,0,0)', # transparent background\n",
    "    plot_bgcolor='rgba(0,0,0,0)', # transparent 2nd background\n",
    "    xaxis =  {'showgrid': False, 'zeroline': False}, # no gridlines\n",
    "    yaxis = {'showgrid': False, 'zeroline': False}, # no gridlines\n",
    ")\n",
    "\n",
    "fig = go.Figure(layout = layout)\n",
    "for trace in edge_trace:\n",
    "    fig.add_trace(trace)\n",
    "fig.add_trace(node_trace)\n",
    "fig.update_layout(showlegend = False, plot_bgcolor = \"seashell\", title=\"Friendships between languages\")# Remove tick labels\n",
    "fig.update_xaxes(showticklabels = False)\n",
    "fig.update_yaxes(showticklabels = False)\n",
    "fig.show()\n",
    "\n",
    "html = plot(fig, auto_open=False, output_type='div')\n",
    "with open(\"./friendships_languages.html\", 'w') as file:\n",
    "    file.write(html)"
   ]
  },
  {
   "cell_type": "code",
   "execution_count": null,
   "metadata": {},
   "outputs": [],
   "source": []
  }
 ],
 "metadata": {
  "kernelspec": {
   "display_name": "Python 3",
   "language": "python",
   "name": "python3"
  },
  "language_info": {
   "codemirror_mode": {
    "name": "ipython",
    "version": 3
   },
   "file_extension": ".py",
   "mimetype": "text/x-python",
   "name": "python",
   "nbconvert_exporter": "python",
   "pygments_lexer": "ipython3",
   "version": "3.8.5"
  }
 },
 "nbformat": 4,
 "nbformat_minor": 4
}
