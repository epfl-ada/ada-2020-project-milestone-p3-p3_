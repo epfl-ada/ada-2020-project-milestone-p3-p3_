{
 "cells": [
  {
   "cell_type": "code",
   "execution_count": 1,
   "metadata": {},
   "outputs": [
    {
     "name": "stdout",
     "output_type": "stream",
     "text": [
      "remote: Enumerating objects: 5, done.\u001b[K\n",
      "remote: Counting objects: 100% (5/5), done.\u001b[K\n",
      "remote: Compressing objects: 100% (2/2), done.\u001b[K\n",
      "remote: Total 4 (delta 1), reused 0 (delta 0), pack-reused 0\u001b[K\n",
      "Unpacking objects: 100% (4/4), 689 bytes | 6.00 KiB/s, done.\n",
      "From github.com:epfl-ada/ada-2020-project-milestone-p3-p3_\n",
      "   e7cfa2a..dfc4f71  main       -> origin/main\n",
      "Updating e7cfa2a..dfc4f71\n",
      "Fast-forward\n",
      " data/temp | 1 \u001b[32m+\u001b[m\n",
      " 1 file changed, 1 insertion(+)\n",
      " create mode 100644 data/temp\n"
     ]
    }
   ],
   "source": [
    "!git pull\n"
   ]
  },
  {
   "cell_type": "markdown",
   "metadata": {},
   "source": [
    "# Research question 2"
   ]
  },
  {
   "cell_type": "markdown",
   "metadata": {},
   "source": [
    "#### 2. How often do users visit each other? Does it depend on whether they live in a city or not or on the season of the year?"
   ]
  },
  {
   "cell_type": "markdown",
   "metadata": {},
   "source": [
    "### Concept"
   ]
  },
  {
   "cell_type": "markdown",
   "metadata": {},
   "source": [
    "- for each user, check for friends check-ins in check-ins compared "
   ]
  },
  {
   "cell_type": "markdown",
   "metadata": {},
   "source": [
    "### Libraries"
   ]
  },
  {
   "cell_type": "code",
   "execution_count": 1,
   "metadata": {},
   "outputs": [],
   "source": [
    "import pandas as pd\n",
    "import numpy as np\n",
    "import seaborn as sns\n",
    "import scipy.stats as stats\n",
    "import matplotlib.pyplot as plt\n",
    "from poisson_etest import poisson_etest\n",
    "from sklearn.linear_model import LinearRegression\n",
    "from geopy.distance import distance\n",
    "from functions import load_data, discretize_world, home_locations, lives_in_city\n",
    "\n",
    "\n",
    "#%load_ext autoreload\n",
    "#%autoreload 2\n",
    "#%reload_ext autoreload"
   ]
  },
  {
   "cell_type": "markdown",
   "metadata": {},
   "source": [
    "### Data"
   ]
  },
  {
   "cell_type": "code",
   "execution_count": 2,
   "metadata": {},
   "outputs": [],
   "source": [
    "#us_cities = pd.read_csv(\"us_cities.csv\")\n",
    "#us_cities"
   ]
  },
  {
   "cell_type": "code",
   "execution_count": 3,
   "metadata": {},
   "outputs": [],
   "source": [
    "B_homes = pd.read_pickle(\"B_homes.pickle\")\n",
    "G_homes = pd.read_pickle(\"G_homes.pickle\")\n",
    "B_homes.columns = B_homes.columns.droplevel(1)\n",
    "G_homes.columns = G_homes.columns.droplevel(1)\n",
    "# Introduce a unique index per user\n",
    "B_homes['user'] = B_homes.index\n",
    "G_homes['user'] = G_homes.index"
   ]
  },
  {
   "cell_type": "code",
   "execution_count": 4,
   "metadata": {},
   "outputs": [
    {
     "name": "stdout",
     "output_type": "stream",
     "text": [
      "/home/mogan/Desktop/z_ada/ada-2020-project-milestone-p3-p3_\n"
     ]
    }
   ],
   "source": [
    "# Make a variable for city and plot colored by city\n",
    "# Load cities\n",
    "%cd \"/home/mogan/Desktop/z_ada/ada-2020-project-milestone-p3-p3_\"\n",
    "\n",
    "cities = pd.read_pickle('cities.pickle')"
   ]
  },
  {
   "cell_type": "code",
   "execution_count": 5,
   "metadata": {
    "scrolled": false
   },
   "outputs": [
    {
     "name": "stdout",
     "output_type": "stream",
     "text": [
      "/home/mogan/Desktop\n"
     ]
    }
   ],
   "source": [
    "%cd \"/home/mogan/Desktop\"\n",
    "bk_checkins_, bk_edges = load_data(\"Brightkite\")\n",
    "gw_checkins_, gw_edges = load_data(\"Gowalla\")\n",
    "bk_checkins = bk_checkins_.copy()\n",
    "gw_checkins = gw_checkins_.copy()"
   ]
  },
  {
   "cell_type": "code",
   "execution_count": 7,
   "metadata": {},
   "outputs": [],
   "source": [
    "# randomly sample users and take their checkins\n",
    "bk_user = bk_checkins['user_id'].sample(50, random_state=1)\n",
    "gw_user = gw_checkins['user_id'].sample(50, random_state=1)\n",
    "bk_checkins = bk_checkins[bk_checkins['user_id'].isin(bk_user.values)]\n",
    "gw_checkins = gw_checkins[gw_checkins['user_id'].isin(gw_user.values)]"
   ]
  },
  {
   "cell_type": "code",
   "execution_count": 8,
   "metadata": {},
   "outputs": [],
   "source": [
    "# Since the computations are quite heavy, take a representative subset \n",
    "# (Jupyter crashes for the whole datasets for my computer)\n",
    "#n = 5000\n",
    "#bk_checkins = bk_checkins.sample(n, random_state=23) #\n",
    "#gw_checkins = gw_checkins.sample(n, random_state=23) #.head(n)#"
   ]
  },
  {
   "cell_type": "markdown",
   "metadata": {},
   "source": [
    "### Computations"
   ]
  },
  {
   "cell_type": "code",
   "execution_count": 9,
   "metadata": {},
   "outputs": [],
   "source": [
    "## 2. Discretise the world\n",
    "bk_checkins = discretize_world(bk_checkins)\n",
    "gw_checkins = discretize_world(gw_checkins)\n",
    "## 3. Compute home location\n",
    "bk_home_locs = home_locations(bk_checkins)\n",
    "gw_home_locs = home_locations(gw_checkins)"
   ]
  },
  {
   "cell_type": "code",
   "execution_count": 10,
   "metadata": {},
   "outputs": [],
   "source": [
    "# Make a unique index for every check in, because there is no other unique variable\n",
    "bk_checkins['check-in'] = bk_checkins.index\n",
    "gw_checkins['check-in'] = gw_checkins.index"
   ]
  },
  {
   "cell_type": "code",
   "execution_count": 11,
   "metadata": {},
   "outputs": [],
   "source": [
    "# Add home location for friend A\n",
    "bk_checkins = bk_checkins.merge(bk_home_locs['location'], left_on = 'user_id', right_index = True).rename(columns = {'location': 'home_location'})\n",
    "gw_checkins = gw_checkins.merge(gw_home_locs['location'], left_on = 'user_id', right_index = True).rename(columns = {'location': 'home_location'})"
   ]
  },
  {
   "cell_type": "code",
   "execution_count": 12,
   "metadata": {},
   "outputs": [],
   "source": [
    "# Merge check-in data with the friend network dataframe\n",
    "bk_checkins_merged = bk_checkins.merge(bk_edges, left_on = 'user_id', right_on = 'from_id').drop(columns = ['from_id'], axis = 1)\n",
    "gw_checkins_merged = gw_checkins.merge(gw_edges, left_on = 'user_id', right_on = 'from_id').drop(columns = ['from_id'], axis = 1)"
   ]
  },
  {
   "cell_type": "code",
   "execution_count": 13,
   "metadata": {},
   "outputs": [],
   "source": [
    "# Find home locations of friends\n",
    "bk_checkins_ = bk_checkins_[bk_checkins_['user_id'].isin(bk_checkins_merged['to_id'].values)]\n",
    "gw_checkins_ = gw_checkins_[gw_checkins_['user_id'].isin(gw_checkins_merged['to_id'].values)]\n",
    "## 2. Discretise the world\n",
    "bk_checkins_ = discretize_world(bk_checkins_)\n",
    "gw_checkins_ = discretize_world(gw_checkins_)\n",
    "## 3. Compute home location\n",
    "bk_home_locs_ = home_locations(bk_checkins_)\n",
    "gw_home_locs_ = home_locations(gw_checkins_)"
   ]
  },
  {
   "cell_type": "code",
   "execution_count": 14,
   "metadata": {},
   "outputs": [],
   "source": [
    "# Add each friend's B home location to the extended dataframe\n",
    "bk_checkins_merged = bk_checkins_merged.merge(bk_home_locs_, left_on = \"to_id\", right_index = True).drop(columns=['location'], axis = 1)\n",
    "gw_checkins_merged = gw_checkins_merged.merge(gw_home_locs_, left_on = \"to_id\", right_index = True).drop(columns=['location'], axis = 1)"
   ]
  },
  {
   "cell_type": "code",
   "execution_count": 15,
   "metadata": {},
   "outputs": [
    {
     "data": {
      "text/plain": [
       "0          16.774135\n",
       "126        16.849654\n",
       "252        16.849595\n",
       "378        16.849654\n",
       "504        16.793639\n",
       "             ...    \n",
       "1129898    28.485553\n",
       "1129905    28.343650\n",
       "1129912    28.344282\n",
       "1129919    28.345829\n",
       "1129926    28.254113\n",
       "Length: 811392, dtype: float64"
      ]
     },
     "execution_count": 15,
     "metadata": {},
     "output_type": "execute_result"
    }
   ],
   "source": [
    "gw_checkins_merged.apply(lambda x: x['latitude_x'], axis = 1)"
   ]
  },
  {
   "cell_type": "code",
   "execution_count": 16,
   "metadata": {
    "scrolled": true
   },
   "outputs": [],
   "source": [
    "# Calculate the distance between check-ins and friends home\n",
    "bk_checkins_merged['distances_to_friend'] = bk_checkins_merged.apply(lambda x: distance((x['latitude_x'], x['longitude_x']), (x['latitude_y'], x['longitude_y'])).km, axis = 1)\n",
    "gw_checkins_merged['distances_to_friend'] = gw_checkins_merged.apply(lambda x: distance((x['latitude_x'], x['longitude_x']), (x['latitude_y'], x['longitude_y'])).km, axis = 1)"
   ]
  },
  {
   "cell_type": "code",
   "execution_count": 17,
   "metadata": {},
   "outputs": [],
   "source": [
    "# Investigate if a check-in was a friends visit or not \n",
    "# by grouping by check-in id's and checking if any distance is smaller than r\n",
    "radius = 25\n",
    "bk_friend_visited = bk_checkins_merged.groupby(\"check-in\").apply(lambda x: (x['distances_to_friend'] < radius).any()).to_frame()\n",
    "gw_friend_visited = gw_checkins_merged.groupby(\"check-in\").apply(lambda x: (x['distances_to_friend'] < radius).any()).to_frame()"
   ]
  },
  {
   "cell_type": "code",
   "execution_count": 18,
   "metadata": {},
   "outputs": [],
   "source": [
    "bk_checkins_merged['visited_friend'] = bk_checkins_merged.apply(lambda x: (x['distances_to_friend'] < radius), axis = 1)\n",
    "gw_checkins_merged['visited_friend'] = gw_checkins_merged.apply(lambda x: (x['distances_to_friend'] < radius), axis = 1)"
   ]
  },
  {
   "cell_type": "markdown",
   "metadata": {},
   "source": [
    "### How often do friends visit each other?"
   ]
  },
  {
   "cell_type": "code",
   "execution_count": 19,
   "metadata": {},
   "outputs": [],
   "source": [
    "bk_friend_visited = bk_checkins_merged[bk_checkins_merged['visited_friend'] == True].groupby(['user_id','to_id']).count().iloc[:,:1]\n",
    "gw_friend_visited = gw_checkins_merged[gw_checkins_merged['visited_friend'] == True].groupby(['user_id','to_id']).count().iloc[:,:1]\n"
   ]
  },
  {
   "cell_type": "code",
   "execution_count": 20,
   "metadata": {},
   "outputs": [],
   "source": [
    "bk_friend_visited['data'] = 'Brightkite'\n",
    "gw_friend_visited['data'] = 'Gowalla'\n",
    "\n",
    "bk_gw_friends = bk_friend_visited.append(gw_friend_visited)\n",
    "#gw_friend_visited.head()"
   ]
  },
  {
   "cell_type": "code",
   "execution_count": 21,
   "metadata": {},
   "outputs": [
    {
     "data": {
      "image/png": "[encoded data removed]",
      "text/plain": [
       "<Figure size 432x288 with 1 Axes>"
      ]
     },
     "metadata": {
      "needs_background": "light"
     },
     "output_type": "display_data"
    }
   ],
   "source": [
    "#sns.histplot(data = bk_gw_friends, x = 'checkin_time', hue = 'data', multiple=\"dodge\", bins = 30);\n",
    "sns.histplot(data = bk_gw_friends, x = 'checkin_time', hue = 'data',  multiple=\"dodge\", bins = 30);"
   ]
  },
  {
   "cell_type": "code",
   "execution_count": 22,
   "metadata": {},
   "outputs": [],
   "source": [
    "# Intermediately save the dataframes\n",
    "#bk_checkins_merged.to_pickle(\"B_checkins_merged.pickle\")\n",
    "#gw_checkins_merged.to_pickle(\"G_checkins_merged.pickle\")\n",
    "#bk_checkins.to_pickle(\"B_checkins_MS4.pickle\")\n",
    "#gw_checkins.to_pickle(\"G_checkins_MS4.pickle\")"
   ]
  },
  {
   "cell_type": "markdown",
   "metadata": {},
   "source": [
    "### Does it depend on whether they live in a city or not?"
   ]
  },
  {
   "cell_type": "code",
   "execution_count": 23,
   "metadata": {
    "scrolled": true
   },
   "outputs": [],
   "source": [
    "B_homes = B_homes[B_homes.index.isin(bk_checkins['user_id'])]#.isin()\n",
    "G_homes = G_homes[G_homes.index.isin(gw_checkins['user_id'])]#.isin()"
   ]
  },
  {
   "cell_type": "code",
   "execution_count": 24,
   "metadata": {},
   "outputs": [],
   "source": [
    "# Does user live in a city?\n",
    "B_merge = B_homes.merge(cities, left_on = 'country', right_on = 'iso2')\n",
    "B_merge['distance_to_city'] = B_merge.apply(lambda row: distance((row['latitude'], row['longitude']), (row['lat'],row['lng']) ).km, axis = 1)\n",
    "B_lives_urban = B_merge.groupby(\"user\").apply(lambda x: (x['distance_to_city'] < x['radius']).any()).to_frame()\n",
    "B_lives_urban = B_lives_urban.rename(columns = {0:'lives_urban'})\n",
    "B_homes = B_homes.merge(B_lives_urban, left_on = 'user', right_index = True)"
   ]
  },
  {
   "cell_type": "code",
   "execution_count": 25,
   "metadata": {},
   "outputs": [],
   "source": [
    "# Does user live in a city?\n",
    "G_merge = G_homes.merge(cities, left_on = 'country', right_on = 'iso2')\n",
    "G_merge['distance_to_city'] = G_merge.apply(lambda row: distance((row['latitude'], row['longitude']), (row['lat'],row['lng']) ).km, axis = 1)\n",
    "G_lives_urban = G_merge.groupby(\"user\").apply(lambda x: (x['distance_to_city'] < x['radius']).any()).to_frame()\n",
    "G_lives_urban = G_lives_urban.rename(columns = {0:'lives_urban'})\n",
    "G_homes = G_homes.merge(G_lives_urban, left_on = 'user', right_index = True)"
   ]
  },
  {
   "cell_type": "code",
   "execution_count": 26,
   "metadata": {},
   "outputs": [
    {
     "data": {
      "text/html": [
       "<div>\n",
       "<style scoped>\n",
       "    .dataframe tbody tr th:only-of-type {\n",
       "        vertical-align: middle;\n",
       "    }\n",
       "\n",
       "    .dataframe tbody tr th {\n",
       "        vertical-align: top;\n",
       "    }\n",
       "\n",
       "    .dataframe thead th {\n",
       "        text-align: right;\n",
       "    }\n",
       "</style>\n",
       "<table border=\"1\" class=\"dataframe\">\n",
       "  <thead>\n",
       "    <tr style=\"text-align: right;\">\n",
       "      <th></th>\n",
       "      <th></th>\n",
       "      <th>checkin_time</th>\n",
       "      <th>data</th>\n",
       "      <th>longitude</th>\n",
       "      <th>latitude</th>\n",
       "      <th>country</th>\n",
       "      <th>user</th>\n",
       "      <th>lives_urban</th>\n",
       "    </tr>\n",
       "    <tr>\n",
       "      <th>user_id</th>\n",
       "      <th>to_id</th>\n",
       "      <th></th>\n",
       "      <th></th>\n",
       "      <th></th>\n",
       "      <th></th>\n",
       "      <th></th>\n",
       "      <th></th>\n",
       "      <th></th>\n",
       "    </tr>\n",
       "  </thead>\n",
       "  <tbody>\n",
       "    <tr>\n",
       "      <th rowspan=\"3\" valign=\"top\">1</th>\n",
       "      <th>3</th>\n",
       "      <td>1110</td>\n",
       "      <td>Brightkite</td>\n",
       "      <td>-122.353819</td>\n",
       "      <td>37.581821</td>\n",
       "      <td>US</td>\n",
       "      <td>1</td>\n",
       "      <td>False</td>\n",
       "    </tr>\n",
       "    <tr>\n",
       "      <th>5</th>\n",
       "      <td>1112</td>\n",
       "      <td>Brightkite</td>\n",
       "      <td>-122.353819</td>\n",
       "      <td>37.581821</td>\n",
       "      <td>US</td>\n",
       "      <td>1</td>\n",
       "      <td>False</td>\n",
       "    </tr>\n",
       "    <tr>\n",
       "      <th>7</th>\n",
       "      <td>1121</td>\n",
       "      <td>Brightkite</td>\n",
       "      <td>-122.353819</td>\n",
       "      <td>37.581821</td>\n",
       "      <td>US</td>\n",
       "      <td>1</td>\n",
       "      <td>False</td>\n",
       "    </tr>\n",
       "  </tbody>\n",
       "</table>\n",
       "</div>"
      ],
      "text/plain": [
       "               checkin_time        data   longitude   latitude country  user  \\\n",
       "user_id to_id                                                                  \n",
       "1       3              1110  Brightkite -122.353819  37.581821      US     1   \n",
       "        5              1112  Brightkite -122.353819  37.581821      US     1   \n",
       "        7              1121  Brightkite -122.353819  37.581821      US     1   \n",
       "\n",
       "               lives_urban  \n",
       "user_id to_id               \n",
       "1       3            False  \n",
       "        5            False  \n",
       "        7            False  "
      ]
     },
     "execution_count": 26,
     "metadata": {},
     "output_type": "execute_result"
    }
   ],
   "source": [
    "# merge homes and check_ins\n",
    "bk_friend_city = bk_friend_visited.merge(B_homes, left_index = True, right_index = True)\n",
    "gw_friend_city = gw_friend_visited.merge(G_homes, left_index = True, right_index = True)\n",
    "bk_gw_friend_city = bk_friend_city.append(gw_friend_city)\n",
    "bk_gw_friend_city.head(3)"
   ]
  },
  {
   "cell_type": "code",
   "execution_count": 27,
   "metadata": {},
   "outputs": [],
   "source": [
    "#sns.histplot(data = bk_gw_friend_city, x = 'checkin_time', hue = 'lives_urban', bins = 30);"
   ]
  },
  {
   "cell_type": "code",
   "execution_count": 28,
   "metadata": {},
   "outputs": [
    {
     "data": {
      "text/plain": [
       "<seaborn.axisgrid.FacetGrid at 0x7f267a204130>"
      ]
     },
     "execution_count": 28,
     "metadata": {},
     "output_type": "execute_result"
    },
    {
     "data": {
      "image/png": "[encoded data removed]",
      "text/plain": [
       "<Figure size 497.25x216 with 2 Axes>"
      ]
     },
     "metadata": {
      "needs_background": "light"
     },
     "output_type": "display_data"
    }
   ],
   "source": [
    "g = sns.FacetGrid(bk_gw_friend_city, col=\"data\", hue = 'lives_urban')\n",
    "g.map(sns.histplot, 'checkin_time') #,  multiple=\"dodge\"\n",
    "g.add_legend();"
   ]
  },
  {
   "cell_type": "code",
   "execution_count": 32,
   "metadata": {},
   "outputs": [
    {
     "data": {
      "text/plain": [
       "1282"
      ]
     },
     "execution_count": 32,
     "metadata": {},
     "output_type": "execute_result"
    }
   ],
   "source": [
    "bk_gw_friend_city['lives_urban'].count()"
   ]
  },
  {
   "cell_type": "markdown",
   "metadata": {},
   "source": [
    "### Does it depend on the season of the year?"
   ]
  },
  {
   "cell_type": "code",
   "execution_count": 30,
   "metadata": {},
   "outputs": [],
   "source": [
    "# transform date to datetime\n",
    "# only take us samples, so seasons don't get confused\n",
    "# create a variable 'season', do the same plot as before"
   ]
  },
  {
   "cell_type": "code",
   "execution_count": null,
   "metadata": {},
   "outputs": [],
   "source": []
  },
  {
   "cell_type": "code",
   "execution_count": null,
   "metadata": {},
   "outputs": [],
   "source": []
  }
 ],
 "metadata": {
  "kernelspec": {
   "display_name": "Python 3",
   "language": "python",
   "name": "python3"
  },
  "language_info": {
   "codemirror_mode": {
    "name": "ipython",
    "version": 3
   },
   "file_extension": ".py",
   "mimetype": "text/x-python",
   "name": "python",
   "nbconvert_exporter": "python",
   "pygments_lexer": "ipython3",
   "version": "3.8.3"
  }
 },
 "nbformat": 4,
 "nbformat_minor": 4
}
