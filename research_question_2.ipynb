{
 "cells": [
  {
   "cell_type": "markdown",
   "metadata": {},
   "source": [
    "# Research question 2"
   ]
  },
  {
   "cell_type": "markdown",
   "metadata": {},
   "source": [
    "#### 2. How often do users visit each other? Does it depend on whether they live in a city or not or on the season of the year?"
   ]
  },
  {
   "cell_type": "markdown",
   "metadata": {},
   "source": [
    "### Concept"
   ]
  },
  {
   "cell_type": "markdown",
   "metadata": {},
   "source": [
    "### Libraries"
   ]
  },
  {
   "cell_type": "code",
   "execution_count": 1,
   "metadata": {},
   "outputs": [],
   "source": [
    "import pandas as pd\n",
    "import numpy as np\n",
    "import seaborn as sns\n",
    "import scipy.stats as stats\n",
    "import matplotlib.pyplot as plt\n",
    "from poisson_etest import poisson_etest\n",
    "from sklearn.linear_model import LinearRegression\n",
    "from geopy.distance import distance\n",
    "from functions import load_data, discretize_world, home_locations, lives_in_city\n",
    "\n",
    "\n",
    "#%load_ext autoreload\n",
    "#%autoreload 2\n",
    "#%reload_ext autoreload"
   ]
  },
  {
   "cell_type": "markdown",
   "metadata": {},
   "source": [
    "### Data"
   ]
  },
  {
   "cell_type": "code",
   "execution_count": 2,
   "metadata": {},
   "outputs": [
    {
     "name": "stdout",
     "output_type": "stream",
     "text": [
      "/home/mogan/Desktop/z_ada/ada-2020-project-milestone-p3-p3_/data\n"
     ]
    }
   ],
   "source": [
    "%cd \"/home/mogan/Desktop/z_ada/ada-2020-project-milestone-p3-p3_/data\"\n",
    "B_homes = pd.read_pickle(\"./B_homes.pickle\")\n",
    "G_homes = pd.read_pickle(\"./G_homes.pickle\")\n",
    "B_homes.columns = B_homes.columns.droplevel(1)\n",
    "G_homes.columns = G_homes.columns.droplevel(1)\n",
    "# Introduce a unique index per user\n",
    "B_homes['user'] = B_homes.index\n",
    "G_homes['user'] = G_homes.index"
   ]
  },
  {
   "cell_type": "code",
   "execution_count": 3,
   "metadata": {},
   "outputs": [],
   "source": [
    "# Make a variable for city and plot colored by city\n",
    "# Load cities\n",
    "us_cities = pd.read_pickle('us_cities.pickle')\n",
    "cities_non_US = pd.read_pickle('cities_non_US.pickle')"
   ]
  },
  {
   "cell_type": "code",
   "execution_count": 50,
   "metadata": {
    "scrolled": false
   },
   "outputs": [
    {
     "name": "stdout",
     "output_type": "stream",
     "text": [
      "/home/mogan/Desktop\n",
      "/home/mogan/Desktop/z_ada/ada-2020-project-milestone-p3-p3_/data\n"
     ]
    }
   ],
   "source": [
    "%cd \"/home/mogan/Desktop\"\n",
    "bk_checkins, bk_edges = load_data(\"Brightkite\")\n",
    "gw_checkins, gw_edges = load_data(\"Gowalla\")\n",
    "\n",
    "bk_checkins = bk_checkins.drop(columns=['location_id'], axis=1)\n",
    "gw_checkins = gw_checkins.drop(columns=['location_id'], axis=1)\n",
    "\n",
    "%cd \"/home/mogan/Desktop/z_ada/ada-2020-project-milestone-p3-p3_/data\"\n"
   ]
  },
  {
   "cell_type": "code",
   "execution_count": 51,
   "metadata": {},
   "outputs": [
    {
     "ename": "AttributeError",
     "evalue": "'Series' object has no attribute 'to_datetime'",
     "output_type": "error",
     "traceback": [
      "\u001b[0;31m---------------------------------------------------------------------------\u001b[0m",
      "\u001b[0;31mAttributeError\u001b[0m                            Traceback (most recent call last)",
      "\u001b[0;32m<ipython-input-51-219d0a981e25>\u001b[0m in \u001b[0;36m<module>\u001b[0;34m\u001b[0m\n\u001b[0;32m----> 1\u001b[0;31m \u001b[0mbk_checkins\u001b[0m\u001b[0;34m[\u001b[0m\u001b[0;34m'checkin_time'\u001b[0m\u001b[0;34m]\u001b[0m\u001b[0;34m.\u001b[0m\u001b[0mto_datetime\u001b[0m\u001b[0;34m(\u001b[0m\u001b[0;34m)\u001b[0m\u001b[0;34m\u001b[0m\u001b[0;34m\u001b[0m\u001b[0m\n\u001b[0m",
      "\u001b[0;32m~/anaconda3/lib/python3.8/site-packages/pandas/core/generic.py\u001b[0m in \u001b[0;36m__getattr__\u001b[0;34m(self, name)\u001b[0m\n\u001b[1;32m   5139\u001b[0m             \u001b[0;32mif\u001b[0m \u001b[0mself\u001b[0m\u001b[0;34m.\u001b[0m\u001b[0m_info_axis\u001b[0m\u001b[0;34m.\u001b[0m\u001b[0m_can_hold_identifiers_and_holds_name\u001b[0m\u001b[0;34m(\u001b[0m\u001b[0mname\u001b[0m\u001b[0;34m)\u001b[0m\u001b[0;34m:\u001b[0m\u001b[0;34m\u001b[0m\u001b[0;34m\u001b[0m\u001b[0m\n\u001b[1;32m   5140\u001b[0m                 \u001b[0;32mreturn\u001b[0m \u001b[0mself\u001b[0m\u001b[0;34m[\u001b[0m\u001b[0mname\u001b[0m\u001b[0;34m]\u001b[0m\u001b[0;34m\u001b[0m\u001b[0;34m\u001b[0m\u001b[0m\n\u001b[0;32m-> 5141\u001b[0;31m             \u001b[0;32mreturn\u001b[0m \u001b[0mobject\u001b[0m\u001b[0;34m.\u001b[0m\u001b[0m__getattribute__\u001b[0m\u001b[0;34m(\u001b[0m\u001b[0mself\u001b[0m\u001b[0;34m,\u001b[0m \u001b[0mname\u001b[0m\u001b[0;34m)\u001b[0m\u001b[0;34m\u001b[0m\u001b[0;34m\u001b[0m\u001b[0m\n\u001b[0m\u001b[1;32m   5142\u001b[0m \u001b[0;34m\u001b[0m\u001b[0m\n\u001b[1;32m   5143\u001b[0m     \u001b[0;32mdef\u001b[0m \u001b[0m__setattr__\u001b[0m\u001b[0;34m(\u001b[0m\u001b[0mself\u001b[0m\u001b[0;34m,\u001b[0m \u001b[0mname\u001b[0m\u001b[0;34m:\u001b[0m \u001b[0mstr\u001b[0m\u001b[0;34m,\u001b[0m \u001b[0mvalue\u001b[0m\u001b[0;34m)\u001b[0m \u001b[0;34m->\u001b[0m \u001b[0;32mNone\u001b[0m\u001b[0;34m:\u001b[0m\u001b[0;34m\u001b[0m\u001b[0;34m\u001b[0m\u001b[0m\n",
      "\u001b[0;31mAttributeError\u001b[0m: 'Series' object has no attribute 'to_datetime'"
     ]
    }
   ],
   "source": [
    "bk_checkins['checkin_time'].to_datetime()"
   ]
  },
  {
   "cell_type": "code",
   "execution_count": 5,
   "metadata": {},
   "outputs": [],
   "source": [
    "# number of users for analysis\n",
    "n = 25"
   ]
  },
  {
   "cell_type": "markdown",
   "metadata": {},
   "source": [
    "## Analysis for non-US cities"
   ]
  },
  {
   "cell_type": "code",
   "execution_count": 6,
   "metadata": {},
   "outputs": [],
   "source": [
    "# filter for non-us checkins\n",
    "B_homes = B_homes[B_homes['country'] != 'US']\n",
    "G_homes = G_homes[G_homes['country'] != 'US']\n",
    "\n",
    "B_homes = B_homes.rename(columns={'longitude':'home_longitude', 'latitude':'home_latitude'})#.drop(columns=['user'], axis=1)\n",
    "G_homes = G_homes.rename(columns={'longitude':'home_longitude', 'latitude':'home_latitude'})#.drop(columns=['user'], axis=1)\n",
    "\n",
    "bk_checkins = bk_checkins.merge(B_homes, left_on='user_id', right_index=True)\n",
    "gw_checkins = gw_checkins.merge(G_homes, left_on='user_id', right_index=True)"
   ]
  },
  {
   "cell_type": "code",
   "execution_count": 7,
   "metadata": {},
   "outputs": [],
   "source": [
    "# randomly sample users and take their checkins\n",
    "bk_user = bk_checkins['user_id'].sample(n, random_state=1)\n",
    "gw_user = gw_checkins['user_id'].sample(n, random_state=1)\n",
    "bk_checkins = bk_checkins[bk_checkins['user_id'].isin(bk_user.values)]\n",
    "gw_checkins = gw_checkins[gw_checkins['user_id'].isin(gw_user.values)]"
   ]
  },
  {
   "cell_type": "code",
   "execution_count": 8,
   "metadata": {},
   "outputs": [],
   "source": [
    "bk_checkins = bk_checkins.rename(columns={'home_longitude':'home_longitude_A', 'home_latitude':'home_latitude_A'})\n",
    "gw_checkins = gw_checkins.rename(columns={'home_longitude':'home_longitude_A', 'home_latitude':'home_latitude_A'})"
   ]
  },
  {
   "cell_type": "code",
   "execution_count": 9,
   "metadata": {},
   "outputs": [],
   "source": [
    "# Make a unique index for every check in, because there is no other unique variable\n",
    "bk_checkins['check-in'] = bk_checkins.index\n",
    "gw_checkins['check-in'] = gw_checkins.index"
   ]
  },
  {
   "cell_type": "code",
   "execution_count": 10,
   "metadata": {},
   "outputs": [],
   "source": [
    "# Merge check-in data with the friend network dataframe\n",
    "bk_checkins_merged = bk_checkins.merge(bk_edges, left_on = 'user_id', right_on = 'from_id').drop(columns = ['from_id'], axis = 1)\n",
    "gw_checkins_merged = gw_checkins.merge(gw_edges, left_on = 'user_id', right_on = 'from_id').drop(columns = ['from_id'], axis = 1)"
   ]
  },
  {
   "cell_type": "code",
   "execution_count": 11,
   "metadata": {},
   "outputs": [],
   "source": [
    "# Add each friend's B home location to the extended dataframe\n",
    "bk_checkins_merged = bk_checkins_merged.merge(B_homes, left_on='to_id', right_index=True)#.drop(columns=['home_longitude_y', 'home_latitude_y'], axis=1)\n",
    "gw_checkins_merged = gw_checkins_merged.merge(G_homes, left_on='to_id', right_index=True)#.drop(columns=['home_longitude_y', 'home_latitude_y'], axis=1)"
   ]
  },
  {
   "cell_type": "code",
   "execution_count": 12,
   "metadata": {
    "scrolled": true
   },
   "outputs": [],
   "source": [
    "# Calculate the distance between check-ins and friends home\n",
    "bk_checkins_merged['distances_to_friend'] = bk_checkins_merged.apply(lambda x: distance((x['latitude'], x['longitude']), (x['home_latitude'], x['home_longitude'])).km, axis = 1)\n",
    "gw_checkins_merged['distances_to_friend'] = gw_checkins_merged.apply(lambda x: distance((x['latitude'], x['longitude']), (x['home_latitude'], x['home_longitude'])).km, axis = 1)"
   ]
  },
  {
   "cell_type": "code",
   "execution_count": 13,
   "metadata": {},
   "outputs": [],
   "source": [
    "# Investigate if a check-in was a friends visit or not \n",
    "# by grouping by check-in id's and checking if any distance is smaller than r\n",
    "radius = 25\n",
    "bk_friend_visited = bk_checkins_merged.groupby(\"check-in\").apply(lambda x: (x['distances_to_friend'] < radius).any()).to_frame()\n",
    "gw_friend_visited = gw_checkins_merged.groupby(\"check-in\").apply(lambda x: (x['distances_to_friend'] < radius).any()).to_frame()"
   ]
  },
  {
   "cell_type": "code",
   "execution_count": 14,
   "metadata": {},
   "outputs": [],
   "source": [
    "bk_checkins_merged['visited_friend'] = bk_checkins_merged.apply(lambda x: (x['distances_to_friend'] < radius), axis = 1)\n",
    "gw_checkins_merged['visited_friend'] = gw_checkins_merged.apply(lambda x: (x['distances_to_friend'] < radius), axis = 1)"
   ]
  },
  {
   "cell_type": "markdown",
   "metadata": {},
   "source": [
    "### How often do friends visit each other?"
   ]
  },
  {
   "cell_type": "code",
   "execution_count": 15,
   "metadata": {},
   "outputs": [],
   "source": [
    "bk_friend_visited = bk_checkins_merged[bk_checkins_merged['visited_friend'] == True].groupby(['user_id','to_id']).count().iloc[:,:1]\n",
    "gw_friend_visited = gw_checkins_merged[gw_checkins_merged['visited_friend'] == True].groupby(['user_id','to_id']).count().iloc[:,:1]\n"
   ]
  },
  {
   "cell_type": "code",
   "execution_count": 16,
   "metadata": {},
   "outputs": [],
   "source": [
    "bk_friend_visited['data'] = 'Brightkite'\n",
    "gw_friend_visited['data'] = 'Gowalla'\n",
    "\n",
    "bk_gw_friends = bk_friend_visited.append(gw_friend_visited)\n",
    "#gw_friend_visited.head()"
   ]
  },
  {
   "cell_type": "code",
   "execution_count": 17,
   "metadata": {},
   "outputs": [
    {
     "data": {
      "image/png": "[encoded data removed]",
      "text/plain": [
       "<Figure size 432x288 with 1 Axes>"
      ]
     },
     "metadata": {
      "needs_background": "light"
     },
     "output_type": "display_data"
    }
   ],
   "source": [
    "#sns.histplot(data = bk_gw_friends, x = 'checkin_time', hue = 'data', multiple=\"dodge\", bins = 30);\n",
    "sns.histplot(data = bk_gw_friends, x = 'checkin_time', hue = 'data',  multiple=\"stack\");"
   ]
  },
  {
   "cell_type": "code",
   "execution_count": 18,
   "metadata": {},
   "outputs": [],
   "source": [
    "# Intermediately save the dataframes\n",
    "#bk_checkins_merged.to_pickle(\"B_checkins_merged.pickle\")\n",
    "#gw_checkins_merged.to_pickle(\"G_checkins_merged.pickle\")\n",
    "#bk_checkins.to_pickle(\"B_checkins_MS4.pickle\")\n",
    "#gw_checkins.to_pickle(\"G_checkins_MS4.pickle\")"
   ]
  },
  {
   "cell_type": "markdown",
   "metadata": {},
   "source": [
    "### Does it depend on whether they live in a city or not?"
   ]
  },
  {
   "cell_type": "code",
   "execution_count": 19,
   "metadata": {
    "scrolled": true
   },
   "outputs": [],
   "source": [
    "B_homes = B_homes[B_homes.index.isin(bk_checkins['user_id'])]\n",
    "G_homes = G_homes[G_homes.index.isin(gw_checkins['user_id'])]"
   ]
  },
  {
   "cell_type": "code",
   "execution_count": 20,
   "metadata": {},
   "outputs": [],
   "source": [
    "# Does user live in a city?\n",
    "B_merge = B_homes.merge(cities_non_US, left_on = 'country', right_on = 'iso2')\n",
    "B_merge['distance_to_city'] = B_merge.apply(lambda row: distance((row['home_latitude'], row['home_longitude']), (row['lat'],row['lng']) ).km, axis = 1)\n",
    "B_lives_urban = B_merge.groupby(\"user\").apply(lambda x: (x['distance_to_city'] < x['radius']).any()).to_frame()\n",
    "B_lives_urban = B_lives_urban.rename(columns = {0:'lives_urban'})\n",
    "B_homes = B_homes.merge(B_lives_urban, left_on = 'user', right_index = True)"
   ]
  },
  {
   "cell_type": "code",
   "execution_count": 21,
   "metadata": {},
   "outputs": [],
   "source": [
    "# Does user live in a city?\n",
    "G_merge = G_homes.merge(cities_non_US, left_on = 'country', right_on = 'iso2')\n",
    "G_merge['distance_to_city'] = G_merge.apply(lambda row: distance((row['home_latitude'], row['home_longitude']), (row['lat'],row['lng']) ).km, axis = 1)\n",
    "G_lives_urban = G_merge.groupby(\"user\").apply(lambda x: (x['distance_to_city'] < x['radius']).any()).to_frame()\n",
    "G_lives_urban = G_lives_urban.rename(columns = {0:'lives_urban'})\n",
    "G_homes = G_homes.merge(G_lives_urban, left_on = 'user', right_index = True)"
   ]
  },
  {
   "cell_type": "code",
   "execution_count": 22,
   "metadata": {},
   "outputs": [
    {
     "data": {
      "text/html": [
       "<div>\n",
       "<style scoped>\n",
       "    .dataframe tbody tr th:only-of-type {\n",
       "        vertical-align: middle;\n",
       "    }\n",
       "\n",
       "    .dataframe tbody tr th {\n",
       "        vertical-align: top;\n",
       "    }\n",
       "\n",
       "    .dataframe thead th {\n",
       "        text-align: right;\n",
       "    }\n",
       "</style>\n",
       "<table border=\"1\" class=\"dataframe\">\n",
       "  <thead>\n",
       "    <tr style=\"text-align: right;\">\n",
       "      <th></th>\n",
       "      <th>user_id</th>\n",
       "      <th>to_id</th>\n",
       "      <th>checkin_time</th>\n",
       "      <th>data</th>\n",
       "      <th>home_longitude</th>\n",
       "      <th>home_latitude</th>\n",
       "      <th>country</th>\n",
       "      <th>user</th>\n",
       "      <th>lives_urban</th>\n",
       "    </tr>\n",
       "  </thead>\n",
       "  <tbody>\n",
       "    <tr>\n",
       "      <th>0</th>\n",
       "      <td>2894</td>\n",
       "      <td>191</td>\n",
       "      <td>33</td>\n",
       "      <td>Brightkite</td>\n",
       "      <td>138.396103</td>\n",
       "      <td>34.972760</td>\n",
       "      <td>JP</td>\n",
       "      <td>2894</td>\n",
       "      <td>False</td>\n",
       "    </tr>\n",
       "    <tr>\n",
       "      <th>1</th>\n",
       "      <td>2894</td>\n",
       "      <td>241</td>\n",
       "      <td>8</td>\n",
       "      <td>Brightkite</td>\n",
       "      <td>138.396103</td>\n",
       "      <td>34.972760</td>\n",
       "      <td>JP</td>\n",
       "      <td>2894</td>\n",
       "      <td>False</td>\n",
       "    </tr>\n",
       "    <tr>\n",
       "      <th>2</th>\n",
       "      <td>2894</td>\n",
       "      <td>250</td>\n",
       "      <td>81</td>\n",
       "      <td>Brightkite</td>\n",
       "      <td>138.396103</td>\n",
       "      <td>34.972760</td>\n",
       "      <td>JP</td>\n",
       "      <td>2894</td>\n",
       "      <td>False</td>\n",
       "    </tr>\n",
       "    <tr>\n",
       "      <th>3</th>\n",
       "      <td>2894</td>\n",
       "      <td>634</td>\n",
       "      <td>102</td>\n",
       "      <td>Brightkite</td>\n",
       "      <td>138.396103</td>\n",
       "      <td>34.972760</td>\n",
       "      <td>JP</td>\n",
       "      <td>2894</td>\n",
       "      <td>False</td>\n",
       "    </tr>\n",
       "    <tr>\n",
       "      <th>4</th>\n",
       "      <td>2894</td>\n",
       "      <td>637</td>\n",
       "      <td>91</td>\n",
       "      <td>Brightkite</td>\n",
       "      <td>138.396103</td>\n",
       "      <td>34.972760</td>\n",
       "      <td>JP</td>\n",
       "      <td>2894</td>\n",
       "      <td>False</td>\n",
       "    </tr>\n",
       "    <tr>\n",
       "      <th>...</th>\n",
       "      <td>...</td>\n",
       "      <td>...</td>\n",
       "      <td>...</td>\n",
       "      <td>...</td>\n",
       "      <td>...</td>\n",
       "      <td>...</td>\n",
       "      <td>...</td>\n",
       "      <td>...</td>\n",
       "      <td>...</td>\n",
       "    </tr>\n",
       "    <tr>\n",
       "      <th>202</th>\n",
       "      <td>138369</td>\n",
       "      <td>146308</td>\n",
       "      <td>32</td>\n",
       "      <td>Gowalla</td>\n",
       "      <td>11.972109</td>\n",
       "      <td>57.705083</td>\n",
       "      <td>SE</td>\n",
       "      <td>138369</td>\n",
       "      <td>False</td>\n",
       "    </tr>\n",
       "    <tr>\n",
       "      <th>203</th>\n",
       "      <td>138369</td>\n",
       "      <td>148910</td>\n",
       "      <td>32</td>\n",
       "      <td>Gowalla</td>\n",
       "      <td>11.972109</td>\n",
       "      <td>57.705083</td>\n",
       "      <td>SE</td>\n",
       "      <td>138369</td>\n",
       "      <td>False</td>\n",
       "    </tr>\n",
       "    <tr>\n",
       "      <th>204</th>\n",
       "      <td>165860</td>\n",
       "      <td>89526</td>\n",
       "      <td>21</td>\n",
       "      <td>Gowalla</td>\n",
       "      <td>20.212330</td>\n",
       "      <td>63.832640</td>\n",
       "      <td>SE</td>\n",
       "      <td>165860</td>\n",
       "      <td>True</td>\n",
       "    </tr>\n",
       "    <tr>\n",
       "      <th>205</th>\n",
       "      <td>165860</td>\n",
       "      <td>115710</td>\n",
       "      <td>34</td>\n",
       "      <td>Gowalla</td>\n",
       "      <td>20.212330</td>\n",
       "      <td>63.832640</td>\n",
       "      <td>SE</td>\n",
       "      <td>165860</td>\n",
       "      <td>True</td>\n",
       "    </tr>\n",
       "    <tr>\n",
       "      <th>206</th>\n",
       "      <td>165860</td>\n",
       "      <td>138380</td>\n",
       "      <td>2</td>\n",
       "      <td>Gowalla</td>\n",
       "      <td>20.212330</td>\n",
       "      <td>63.832640</td>\n",
       "      <td>SE</td>\n",
       "      <td>165860</td>\n",
       "      <td>True</td>\n",
       "    </tr>\n",
       "  </tbody>\n",
       "</table>\n",
       "<p>612 rows × 9 columns</p>\n",
       "</div>"
      ],
      "text/plain": [
       "     user_id   to_id  checkin_time        data  home_longitude  home_latitude  \\\n",
       "0       2894     191            33  Brightkite      138.396103      34.972760   \n",
       "1       2894     241             8  Brightkite      138.396103      34.972760   \n",
       "2       2894     250            81  Brightkite      138.396103      34.972760   \n",
       "3       2894     634           102  Brightkite      138.396103      34.972760   \n",
       "4       2894     637            91  Brightkite      138.396103      34.972760   \n",
       "..       ...     ...           ...         ...             ...            ...   \n",
       "202   138369  146308            32     Gowalla       11.972109      57.705083   \n",
       "203   138369  148910            32     Gowalla       11.972109      57.705083   \n",
       "204   165860   89526            21     Gowalla       20.212330      63.832640   \n",
       "205   165860  115710            34     Gowalla       20.212330      63.832640   \n",
       "206   165860  138380             2     Gowalla       20.212330      63.832640   \n",
       "\n",
       "    country    user  lives_urban  \n",
       "0        JP    2894        False  \n",
       "1        JP    2894        False  \n",
       "2        JP    2894        False  \n",
       "3        JP    2894        False  \n",
       "4        JP    2894        False  \n",
       "..      ...     ...          ...  \n",
       "202      SE  138369        False  \n",
       "203      SE  138369        False  \n",
       "204      SE  165860         True  \n",
       "205      SE  165860         True  \n",
       "206      SE  165860         True  \n",
       "\n",
       "[612 rows x 9 columns]"
      ]
     },
     "execution_count": 22,
     "metadata": {},
     "output_type": "execute_result"
    }
   ],
   "source": [
    "# merge homes and check_ins\n",
    "bk_friend_city = bk_friend_visited.reset_index().merge(B_homes, left_on = 'user_id', right_index = True)\n",
    "gw_friend_city = gw_friend_visited.reset_index().merge(G_homes, left_on = 'user_id', right_index = True)\n",
    "bk_gw_friend_city = bk_friend_city.append(gw_friend_city)\n",
    "bk_gw_friend_city"
   ]
  },
  {
   "cell_type": "code",
   "execution_count": 23,
   "metadata": {
    "scrolled": true
   },
   "outputs": [
    {
     "data": {
      "image/png": "[encoded data removed]",
      "text/plain": [
       "<Figure size 432x288 with 1 Axes>"
      ]
     },
     "metadata": {
      "needs_background": "light"
     },
     "output_type": "display_data"
    }
   ],
   "source": [
    "sns.histplot(data = bk_gw_friend_city, x = 'checkin_time', hue = 'lives_urban', bins = 30);"
   ]
  },
  {
   "cell_type": "code",
   "execution_count": 24,
   "metadata": {},
   "outputs": [],
   "source": [
    "#g = sns.FacetGrid(bk_gw_friend_city, col=\"data\", hue = 'lives_urban')\n",
    "#g.map(sns.histplot, 'checkin_time') #,  multiple=\"dodge\"\n",
    "#g.add_legend();"
   ]
  },
  {
   "cell_type": "markdown",
   "metadata": {},
   "source": [
    "### Does it depend on the season of the year?"
   ]
  },
  {
   "cell_type": "code",
   "execution_count": 25,
   "metadata": {},
   "outputs": [],
   "source": [
    "# transform date to datetime\n",
    "# only take us samples, so seasons don't get confused\n",
    "# create a variable 'season', do the same plot as before"
   ]
  },
  {
   "cell_type": "code",
   "execution_count": null,
   "metadata": {},
   "outputs": [],
   "source": []
  },
  {
   "cell_type": "code",
   "execution_count": null,
   "metadata": {},
   "outputs": [],
   "source": []
  },
  {
   "cell_type": "markdown",
   "metadata": {},
   "source": [
    "# Analysis for US cities"
   ]
  },
  {
   "cell_type": "markdown",
   "metadata": {},
   "source": [
    "### Load data"
   ]
  },
  {
   "cell_type": "code",
   "execution_count": 26,
   "metadata": {},
   "outputs": [
    {
     "name": "stdout",
     "output_type": "stream",
     "text": [
      "/home/mogan/Desktop/z_ada/ada-2020-project-milestone-p3-p3_/data\n"
     ]
    }
   ],
   "source": [
    "%cd \"/home/mogan/Desktop/z_ada/ada-2020-project-milestone-p3-p3_/data\"\n",
    "B_homes = pd.read_pickle(\"B_homes.pickle\")\n",
    "G_homes = pd.read_pickle(\"G_homes.pickle\")\n",
    "\n",
    "B_homes.columns = B_homes.columns.droplevel(1)\n",
    "G_homes.columns = G_homes.columns.droplevel(1)\n",
    "\n",
    "B_homes = B_homes.rename(columns={'longitude':'home_longitude', 'latitude':'home_latitude'})#.drop(columns=['user'], axis=1)\n",
    "G_homes = G_homes.rename(columns={'longitude':'home_longitude', 'latitude':'home_latitude'})#.drop(columns=['user'], axis=1)\n",
    "\n",
    "# Introduce a unique index per user\n",
    "B_homes['user'] = B_homes.index\n",
    "G_homes['user'] = G_homes.index"
   ]
  },
  {
   "cell_type": "code",
   "execution_count": 27,
   "metadata": {},
   "outputs": [
    {
     "name": "stdout",
     "output_type": "stream",
     "text": [
      "/home/mogan/Desktop/z_ada/ada-2020-project-milestone-p3-p3_/data\n"
     ]
    }
   ],
   "source": [
    "# Make a variable for city and plot colored by city\n",
    "# Load cities\n",
    "%cd \"/home/mogan/Desktop/z_ada/ada-2020-project-milestone-p3-p3_/data\"\n",
    "\n",
    "us_cities = pd.read_pickle('us_cities.pickle')\n",
    "cities = pd.read_pickle('cities.pickle')"
   ]
  },
  {
   "cell_type": "code",
   "execution_count": 28,
   "metadata": {
    "scrolled": false
   },
   "outputs": [
    {
     "name": "stdout",
     "output_type": "stream",
     "text": [
      "/home/mogan/Desktop\n"
     ]
    }
   ],
   "source": [
    "%cd \"/home/mogan/Desktop\"\n",
    "bk_checkins_, bk_edges = load_data(\"Brightkite\")\n",
    "gw_checkins_, gw_edges = load_data(\"Gowalla\")\n",
    "bk_checkins = bk_checkins_.copy()\n",
    "gw_checkins = gw_checkins_.copy()"
   ]
  },
  {
   "cell_type": "code",
   "execution_count": 29,
   "metadata": {},
   "outputs": [],
   "source": [
    "# filter for us checkins\n",
    "B_homes = B_homes[B_homes['country'] == 'US']\n",
    "G_homes = G_homes[G_homes['country'] == 'US']\n",
    "\n",
    "bk_checkins = bk_checkins.merge(B_homes, left_on='user_id', right_index=True)\n",
    "gw_checkins = gw_checkins.merge(G_homes, left_on='user_id', right_index=True)"
   ]
  },
  {
   "cell_type": "code",
   "execution_count": 30,
   "metadata": {},
   "outputs": [],
   "source": [
    "# randomly sample users and take their checkins\n",
    "bk_user = bk_checkins['user_id'].sample(n, random_state=1)\n",
    "gw_user = gw_checkins['user_id'].sample(n, random_state=1)\n",
    "bk_checkins = bk_checkins[bk_checkins['user_id'].isin(bk_user.values)]\n",
    "gw_checkins = gw_checkins[gw_checkins['user_id'].isin(gw_user.values)]"
   ]
  },
  {
   "cell_type": "code",
   "execution_count": 31,
   "metadata": {},
   "outputs": [],
   "source": [
    "bk_checkins = bk_checkins.rename(columns={'home_longitude':'home_longitude_A', 'home_latitude':'home_latitude_A'})\n",
    "gw_checkins = gw_checkins.rename(columns={'home_longitude':'home_longitude_A', 'home_latitude':'home_latitude_A'})"
   ]
  },
  {
   "cell_type": "code",
   "execution_count": 32,
   "metadata": {},
   "outputs": [],
   "source": [
    "# Make a unique index for every check in, because there is no other unique variable\n",
    "bk_checkins['check-in'] = bk_checkins.index\n",
    "gw_checkins['check-in'] = gw_checkins.index"
   ]
  },
  {
   "cell_type": "code",
   "execution_count": 33,
   "metadata": {},
   "outputs": [],
   "source": [
    "# Merge check-in data with the friend network dataframe\n",
    "bk_checkins_merged = bk_checkins.merge(bk_edges, left_on = 'user_id', right_on = 'from_id').drop(columns = ['from_id'], axis = 1)\n",
    "gw_checkins_merged = gw_checkins.merge(gw_edges, left_on = 'user_id', right_on = 'from_id').drop(columns = ['from_id'], axis = 1)"
   ]
  },
  {
   "cell_type": "code",
   "execution_count": 34,
   "metadata": {},
   "outputs": [],
   "source": [
    "# Add each friend's B home location to the extended dataframe\n",
    "bk_checkins_merged = bk_checkins_merged.merge(B_homes, left_on='to_id', right_index=True)#.drop(columns=['home_longitude_y', 'home_latitude_y'], axis=1)\n",
    "gw_checkins_merged = gw_checkins_merged.merge(G_homes, left_on='to_id', right_index=True)#.drop(columns=['home_longitude_y', 'home_latitude_y'], axis=1)"
   ]
  },
  {
   "cell_type": "code",
   "execution_count": 35,
   "metadata": {
    "scrolled": true
   },
   "outputs": [],
   "source": [
    "# Calculate the distance between check-ins and friends home\n",
    "bk_checkins_merged['distances_to_friend'] = bk_checkins_merged.apply(lambda x: distance((x['latitude'], x['longitude']), (x['home_latitude'], x['home_longitude'])).km, axis = 1)\n",
    "gw_checkins_merged['distances_to_friend'] = gw_checkins_merged.apply(lambda x: distance((x['latitude'], x['longitude']), (x['home_latitude'], x['home_longitude'])).km, axis = 1)"
   ]
  },
  {
   "cell_type": "code",
   "execution_count": 36,
   "metadata": {},
   "outputs": [],
   "source": [
    "# Investigate if a check-in was a friends visit or not \n",
    "# by grouping by check-in id's and checking if any distance is smaller than r\n",
    "radius = 25\n",
    "bk_friend_visited = bk_checkins_merged.groupby(\"check-in\").apply(lambda x: (x['distances_to_friend'] < radius).any()).to_frame()\n",
    "gw_friend_visited = gw_checkins_merged.groupby(\"check-in\").apply(lambda x: (x['distances_to_friend'] < radius).any()).to_frame()"
   ]
  },
  {
   "cell_type": "code",
   "execution_count": 37,
   "metadata": {},
   "outputs": [],
   "source": [
    "bk_checkins_merged['visited_friend'] = bk_checkins_merged.apply(lambda x: (x['distances_to_friend'] < radius), axis = 1)\n",
    "gw_checkins_merged['visited_friend'] = gw_checkins_merged.apply(lambda x: (x['distances_to_friend'] < radius), axis = 1)"
   ]
  },
  {
   "cell_type": "markdown",
   "metadata": {},
   "source": [
    "### How often do friends visit each other?"
   ]
  },
  {
   "cell_type": "code",
   "execution_count": 38,
   "metadata": {},
   "outputs": [],
   "source": [
    "bk_friend_visited = bk_checkins_merged[bk_checkins_merged['visited_friend'] == True].groupby(['user_id','to_id']).count().iloc[:,:1]\n",
    "gw_friend_visited = gw_checkins_merged[gw_checkins_merged['visited_friend'] == True].groupby(['user_id','to_id']).count().iloc[:,:1]"
   ]
  },
  {
   "cell_type": "code",
   "execution_count": 39,
   "metadata": {},
   "outputs": [],
   "source": [
    "bk_friend_visited['data'] = 'Brightkite'\n",
    "gw_friend_visited['data'] = 'Gowalla'\n",
    "\n",
    "bk_gw_friends = bk_friend_visited.append(gw_friend_visited)"
   ]
  },
  {
   "cell_type": "code",
   "execution_count": 40,
   "metadata": {},
   "outputs": [
    {
     "data": {
      "image/png": "[encoded data removed]",
      "text/plain": [
       "<Figure size 432x288 with 1 Axes>"
      ]
     },
     "metadata": {
      "needs_background": "light"
     },
     "output_type": "display_data"
    }
   ],
   "source": [
    "#sns.histplot(data = bk_gw_friends, x = 'checkin_time', hue = 'data', multiple=\"dodge\", bins = 30);\n",
    "sns.histplot(data = bk_gw_friends, x = 'checkin_time', hue = 'data',  multiple=\"stack\");"
   ]
  },
  {
   "cell_type": "code",
   "execution_count": 41,
   "metadata": {},
   "outputs": [],
   "source": [
    "# Intermediately save the dataframes\n",
    "#bk_checkins_merged.to_pickle(\"B_checkins_merged.pickle\")\n",
    "#gw_checkins_merged.to_pickle(\"G_checkins_merged.pickle\")\n",
    "#bk_checkins.to_pickle(\"B_checkins_MS4.pickle\")\n",
    "#gw_checkins.to_pickle(\"G_checkins_MS4.pickle\")"
   ]
  },
  {
   "cell_type": "markdown",
   "metadata": {},
   "source": [
    "### Does it depend on whether they live in a city or not?"
   ]
  },
  {
   "cell_type": "code",
   "execution_count": 42,
   "metadata": {
    "scrolled": true
   },
   "outputs": [],
   "source": [
    "B_homes = B_homes[B_homes.index.isin(bk_checkins['user_id'])]\n",
    "G_homes = G_homes[G_homes.index.isin(gw_checkins['user_id'])]"
   ]
  },
  {
   "cell_type": "code",
   "execution_count": 44,
   "metadata": {},
   "outputs": [],
   "source": [
    "# Does user live in a city?\n",
    "B_merge = B_homes.merge(us_cities, left_on = 'country', right_on = 'iso2')\n",
    "B_merge['distance_to_city'] = B_merge.apply(lambda row: distance((row['home_latitude'], row['home_longitude']), (row['lat'],row['lng']) ).km, axis = 1)\n",
    "B_lives_urban = B_merge.groupby(\"user\").apply(lambda x: (x['distance_to_city'] < x['radius']).any()).to_frame()\n",
    "B_lives_urban = B_lives_urban.rename(columns = {0:'lives_urban'})\n",
    "B_homes = B_homes.merge(B_lives_urban, left_on = 'user', right_index = True)"
   ]
  },
  {
   "cell_type": "code",
   "execution_count": 45,
   "metadata": {},
   "outputs": [],
   "source": [
    "# Does user live in a city?\n",
    "G_merge = G_homes.merge(us_cities, left_on = 'country', right_on = 'iso2')\n",
    "G_merge['distance_to_city'] = G_merge.apply(lambda row: distance((row['home_latitude'], row['home_longitude']), (row['lat'],row['lng']) ).km, axis = 1)\n",
    "G_lives_urban = G_merge.groupby(\"user\").apply(lambda x: (x['distance_to_city'] < x['radius']).any()).to_frame()\n",
    "G_lives_urban = G_lives_urban.rename(columns = {0:'lives_urban'})\n",
    "G_homes = G_homes.merge(G_lives_urban, left_on = 'user', right_index = True)"
   ]
  },
  {
   "cell_type": "code",
   "execution_count": 46,
   "metadata": {},
   "outputs": [
    {
     "data": {
      "text/html": [
       "<div>\n",
       "<style scoped>\n",
       "    .dataframe tbody tr th:only-of-type {\n",
       "        vertical-align: middle;\n",
       "    }\n",
       "\n",
       "    .dataframe tbody tr th {\n",
       "        vertical-align: top;\n",
       "    }\n",
       "\n",
       "    .dataframe thead th {\n",
       "        text-align: right;\n",
       "    }\n",
       "</style>\n",
       "<table border=\"1\" class=\"dataframe\">\n",
       "  <thead>\n",
       "    <tr style=\"text-align: right;\">\n",
       "      <th></th>\n",
       "      <th>user_id</th>\n",
       "      <th>to_id</th>\n",
       "      <th>checkin_time</th>\n",
       "      <th>data</th>\n",
       "      <th>home_longitude</th>\n",
       "      <th>home_latitude</th>\n",
       "      <th>country</th>\n",
       "      <th>user</th>\n",
       "      <th>lives_urban</th>\n",
       "    </tr>\n",
       "  </thead>\n",
       "  <tbody>\n",
       "    <tr>\n",
       "      <th>0</th>\n",
       "      <td>37</td>\n",
       "      <td>0</td>\n",
       "      <td>1177</td>\n",
       "      <td>Brightkite</td>\n",
       "      <td>-105.218189</td>\n",
       "      <td>39.742397</td>\n",
       "      <td>US</td>\n",
       "      <td>37</td>\n",
       "      <td>False</td>\n",
       "    </tr>\n",
       "    <tr>\n",
       "      <th>1</th>\n",
       "      <td>37</td>\n",
       "      <td>13</td>\n",
       "      <td>1177</td>\n",
       "      <td>Brightkite</td>\n",
       "      <td>-105.218189</td>\n",
       "      <td>39.742397</td>\n",
       "      <td>US</td>\n",
       "      <td>37</td>\n",
       "      <td>False</td>\n",
       "    </tr>\n",
       "    <tr>\n",
       "      <th>2</th>\n",
       "      <td>37</td>\n",
       "      <td>17</td>\n",
       "      <td>136</td>\n",
       "      <td>Brightkite</td>\n",
       "      <td>-105.218189</td>\n",
       "      <td>39.742397</td>\n",
       "      <td>US</td>\n",
       "      <td>37</td>\n",
       "      <td>False</td>\n",
       "    </tr>\n",
       "    <tr>\n",
       "      <th>3</th>\n",
       "      <td>37</td>\n",
       "      <td>20</td>\n",
       "      <td>1178</td>\n",
       "      <td>Brightkite</td>\n",
       "      <td>-105.218189</td>\n",
       "      <td>39.742397</td>\n",
       "      <td>US</td>\n",
       "      <td>37</td>\n",
       "      <td>False</td>\n",
       "    </tr>\n",
       "    <tr>\n",
       "      <th>4</th>\n",
       "      <td>37</td>\n",
       "      <td>27</td>\n",
       "      <td>136</td>\n",
       "      <td>Brightkite</td>\n",
       "      <td>-105.218189</td>\n",
       "      <td>39.742397</td>\n",
       "      <td>US</td>\n",
       "      <td>37</td>\n",
       "      <td>False</td>\n",
       "    </tr>\n",
       "    <tr>\n",
       "      <th>...</th>\n",
       "      <td>...</td>\n",
       "      <td>...</td>\n",
       "      <td>...</td>\n",
       "      <td>...</td>\n",
       "      <td>...</td>\n",
       "      <td>...</td>\n",
       "      <td>...</td>\n",
       "      <td>...</td>\n",
       "      <td>...</td>\n",
       "    </tr>\n",
       "    <tr>\n",
       "      <th>374</th>\n",
       "      <td>143454</td>\n",
       "      <td>128475</td>\n",
       "      <td>68</td>\n",
       "      <td>Gowalla</td>\n",
       "      <td>-115.198871</td>\n",
       "      <td>36.110302</td>\n",
       "      <td>US</td>\n",
       "      <td>143454</td>\n",
       "      <td>False</td>\n",
       "    </tr>\n",
       "    <tr>\n",
       "      <th>375</th>\n",
       "      <td>143454</td>\n",
       "      <td>132721</td>\n",
       "      <td>68</td>\n",
       "      <td>Gowalla</td>\n",
       "      <td>-115.198871</td>\n",
       "      <td>36.110302</td>\n",
       "      <td>US</td>\n",
       "      <td>143454</td>\n",
       "      <td>False</td>\n",
       "    </tr>\n",
       "    <tr>\n",
       "      <th>376</th>\n",
       "      <td>143454</td>\n",
       "      <td>143451</td>\n",
       "      <td>68</td>\n",
       "      <td>Gowalla</td>\n",
       "      <td>-115.198871</td>\n",
       "      <td>36.110302</td>\n",
       "      <td>US</td>\n",
       "      <td>143454</td>\n",
       "      <td>False</td>\n",
       "    </tr>\n",
       "    <tr>\n",
       "      <th>377</th>\n",
       "      <td>143454</td>\n",
       "      <td>143452</td>\n",
       "      <td>68</td>\n",
       "      <td>Gowalla</td>\n",
       "      <td>-115.198871</td>\n",
       "      <td>36.110302</td>\n",
       "      <td>US</td>\n",
       "      <td>143454</td>\n",
       "      <td>False</td>\n",
       "    </tr>\n",
       "    <tr>\n",
       "      <th>378</th>\n",
       "      <td>143454</td>\n",
       "      <td>143453</td>\n",
       "      <td>68</td>\n",
       "      <td>Gowalla</td>\n",
       "      <td>-115.198871</td>\n",
       "      <td>36.110302</td>\n",
       "      <td>US</td>\n",
       "      <td>143454</td>\n",
       "      <td>False</td>\n",
       "    </tr>\n",
       "  </tbody>\n",
       "</table>\n",
       "<p>864 rows × 9 columns</p>\n",
       "</div>"
      ],
      "text/plain": [
       "     user_id   to_id  checkin_time        data  home_longitude  home_latitude  \\\n",
       "0         37       0          1177  Brightkite     -105.218189      39.742397   \n",
       "1         37      13          1177  Brightkite     -105.218189      39.742397   \n",
       "2         37      17           136  Brightkite     -105.218189      39.742397   \n",
       "3         37      20          1178  Brightkite     -105.218189      39.742397   \n",
       "4         37      27           136  Brightkite     -105.218189      39.742397   \n",
       "..       ...     ...           ...         ...             ...            ...   \n",
       "374   143454  128475            68     Gowalla     -115.198871      36.110302   \n",
       "375   143454  132721            68     Gowalla     -115.198871      36.110302   \n",
       "376   143454  143451            68     Gowalla     -115.198871      36.110302   \n",
       "377   143454  143452            68     Gowalla     -115.198871      36.110302   \n",
       "378   143454  143453            68     Gowalla     -115.198871      36.110302   \n",
       "\n",
       "    country    user  lives_urban  \n",
       "0        US      37        False  \n",
       "1        US      37        False  \n",
       "2        US      37        False  \n",
       "3        US      37        False  \n",
       "4        US      37        False  \n",
       "..      ...     ...          ...  \n",
       "374      US  143454        False  \n",
       "375      US  143454        False  \n",
       "376      US  143454        False  \n",
       "377      US  143454        False  \n",
       "378      US  143454        False  \n",
       "\n",
       "[864 rows x 9 columns]"
      ]
     },
     "execution_count": 46,
     "metadata": {},
     "output_type": "execute_result"
    }
   ],
   "source": [
    "# merge homes and check_ins\n",
    "bk_friend_city = bk_friend_visited.reset_index().merge(B_homes, left_on = 'user_id', right_index = True)\n",
    "gw_friend_city = gw_friend_visited.reset_index().merge(G_homes, left_on = 'user_id', right_index = True)\n",
    "bk_gw_friend_city = bk_friend_city.append(gw_friend_city)\n",
    "bk_gw_friend_city"
   ]
  },
  {
   "cell_type": "code",
   "execution_count": 47,
   "metadata": {
    "scrolled": true
   },
   "outputs": [
    {
     "data": {
      "image/png": "[encoded data removed]",
      "text/plain": [
       "<Figure size 432x288 with 1 Axes>"
      ]
     },
     "metadata": {
      "needs_background": "light"
     },
     "output_type": "display_data"
    }
   ],
   "source": [
    "sns.histplot(data = bk_gw_friend_city, x = 'checkin_time', hue = 'lives_urban');"
   ]
  },
  {
   "cell_type": "code",
   "execution_count": 48,
   "metadata": {},
   "outputs": [],
   "source": [
    "#g = sns.FacetGrid(bk_gw_friend_city, col=\"data\", hue = 'lives_urban')\n",
    "#g.map(sns.histplot, 'checkin_time') #,  multiple=\"dodge\"\n",
    "#g.add_legend();"
   ]
  },
  {
   "cell_type": "markdown",
   "metadata": {},
   "source": [
    "### Does it depend on the season of the year?"
   ]
  },
  {
   "cell_type": "code",
   "execution_count": null,
   "metadata": {},
   "outputs": [],
   "source": []
  },
  {
   "cell_type": "code",
   "execution_count": null,
   "metadata": {},
   "outputs": [],
   "source": []
  },
  {
   "cell_type": "code",
   "execution_count": null,
   "metadata": {},
   "outputs": [],
   "source": []
  }
 ],
 "metadata": {
  "kernelspec": {
   "display_name": "Python 3",
   "language": "python",
   "name": "python3"
  },
  "language_info": {
   "codemirror_mode": {
    "name": "ipython",
    "version": 3
   },
   "file_extension": ".py",
   "mimetype": "text/x-python",
   "name": "python",
   "nbconvert_exporter": "python",
   "pygments_lexer": "ipython3",
   "version": "3.8.3"
  }
 },
 "nbformat": 4,
 "nbformat_minor": 4
}
