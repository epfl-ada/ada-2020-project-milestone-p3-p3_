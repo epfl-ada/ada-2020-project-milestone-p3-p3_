{
 "cells": [
  {
   "cell_type": "markdown",
   "metadata": {},
   "source": [
    "# Research question 2"
   ]
  },
  {
   "cell_type": "markdown",
   "metadata": {},
   "source": [
    "#### 2. How often do users visit each other? Does it depend on whether they live in a city or not or on the season of the year?"
   ]
  },
  {
   "cell_type": "markdown",
   "metadata": {},
   "source": [
    "### Concept"
   ]
  },
  {
   "cell_type": "markdown",
   "metadata": {},
   "source": [
    "- for each user, check for friends check-ins in check-ins compared "
   ]
  },
  {
   "cell_type": "markdown",
   "metadata": {},
   "source": [
    "### Libraries"
   ]
  },
  {
   "cell_type": "code",
   "execution_count": 71,
   "metadata": {},
   "outputs": [],
   "source": [
    "import pandas as pd\n",
    "import numpy as np\n",
    "import seaborn as sns\n",
    "import scipy.stats as stats\n",
    "import matplotlib.pyplot as plt\n",
    "from poisson_etest import poisson_etest\n",
    "from sklearn.linear_model import LinearRegression\n",
    "from geopy.distance import distance\n",
    "from functions import load_data\n",
    "from obspy.geodetics import degrees2kilometers"
   ]
  },
  {
   "cell_type": "markdown",
   "metadata": {},
   "source": [
    "### Data"
   ]
  },
  {
   "cell_type": "code",
   "execution_count": 145,
   "metadata": {},
   "outputs": [
    {
     "name": "stdout",
     "output_type": "stream",
     "text": [
      "/home/mogan/Desktop\n"
     ]
    }
   ],
   "source": [
    "%cd \"/home/mogan/Desktop\"\n",
    "bk_checkins, bk_edges = load_data(\"Brightkite\")\n",
    "gw_checkins, gw_edges = load_data(\"Gowalla\")"
   ]
  },
  {
   "cell_type": "code",
   "execution_count": 146,
   "metadata": {},
   "outputs": [],
   "source": [
    "# Since the computations are quite heavy, take a representative subset \n",
    "# (Jupyter crashes for the whole datasets for my computer)\n",
    "n = 10000\n",
    "bk_checkins = bk_checkins.head(n)#sample(n, random_state=23)\n",
    "gw_checkins = gw_checkins.head(n)#sample(n, random_state=23)"
   ]
  },
  {
   "cell_type": "code",
   "execution_count": 147,
   "metadata": {},
   "outputs": [],
   "source": [
    "# Preprocess the data\n",
    "bk_checkins = bk_checkins[(bk_checkins.latitude < 90) & (bk_checkins.latitude > -90)]\n",
    "gw_checkins = gw_checkins[(gw_checkins.latitude < 90) & (gw_checkins.latitude > -90)]\n",
    "bk_checkins = bk_checkins.loc[~((bk_checkins['latitude'] == 0) & (bk_checkins['longitude'] == 0))]"
   ]
  },
  {
   "cell_type": "code",
   "execution_count": 148,
   "metadata": {},
   "outputs": [],
   "source": [
    "## 2. Discretise the world\n",
    "# How many degrees are 25 kilometers?\n",
    "km_25 = 25 / degrees2kilometers(1)\n",
    "\n",
    "bk_checkins[['check_in_lat', 'check_in_long']] = bk_checkins.loc[:, [\"latitude\", \"longitude\"]].div(km_25, axis=1).astype('int').mul(km_25)\n",
    "bk_checkins['cell'] = bk_checkins.apply(lambda x: (x['check_in_lat'], x['check_in_long']), axis = 1)\n",
    "gw_checkins[['check_in_lat', 'check_in_long']] = bk_checkins.loc[:, [\"latitude\", \"longitude\"]].div(km_25, axis=1).astype('int').mul(km_25)\n",
    "gw_checkins['cell'] = gw_checkins.apply(lambda x: (x['check_in_lat'], x['check_in_long']), axis = 1)"
   ]
  },
  {
   "cell_type": "code",
   "execution_count": 149,
   "metadata": {},
   "outputs": [],
   "source": [
    "## 3. Compute home location\n",
    "bk_loc_count = bk_checkins.groupby(by = ['user_id', 'cell'], as_index = False).count()\n",
    "bk_most_checked_in_locations = bk_loc_count.sort_values('latitude', ascending=False).drop_duplicates(['user_id']).sort_values('user_id').set_index('user_id')['cell']\n",
    "gw_loc_count = gw_checkins.groupby(by = ['user_id', 'cell'], as_index = False).count()\n",
    "gw_most_checked_in_locations = gw_loc_count.sort_values('latitude', ascending=False).drop_duplicates(['user_id']).sort_values('user_id').set_index('user_id')['cell']\n",
    "\n",
    "bk_checkins_temp = bk_checkins.copy().set_index('user_id')\n",
    "bk_home_locs = bk_checkins_temp.merge(bk_most_checked_in_locations, left_index = True, right_index = True)\n",
    "bk_home_locs = bk_home_locs[bk_home_locs.cell_x == bk_home_locs.cell_y].groupby('user_id')[['latitude','longitude']].agg('mean')\n",
    "bk_home_locs['location'] = list(zip(bk_home_locs.latitude, bk_home_locs.longitude))\n",
    "gw_checkins_temp = gw_checkins.copy().set_index('user_id')\n",
    "gw_home_locs = gw_checkins_temp.merge(gw_most_checked_in_locations, left_index = True, right_index = True)\n",
    "gw_home_locs = gw_home_locs[gw_home_locs.cell_x == gw_home_locs.cell_y].groupby('user_id')[['latitude','longitude']].agg('mean')\n",
    "gw_home_locs['location'] = list(zip(gw_home_locs.latitude, gw_home_locs.longitude))  "
   ]
  },
  {
   "cell_type": "code",
   "execution_count": 150,
   "metadata": {},
   "outputs": [],
   "source": [
    "# Make a unique index for every check in, because there is no other unique variable\n",
    "bk_checkins['check-in'] = bk_checkins.index\n",
    "gw_checkins['check-in'] = gw_checkins.index"
   ]
  },
  {
   "cell_type": "code",
   "execution_count": 151,
   "metadata": {},
   "outputs": [],
   "source": [
    "# Add home location for friend A\n",
    "bk_checkins = bk_checkins.merge(bk_home_locs['location'], left_on = 'user_id', right_index = True).rename(columns = {'location': 'home_location'})\n",
    "gw_checkins = gw_checkins.merge(gw_home_locs['location'], left_on = 'user_id', right_index = True).rename(columns = {'location': 'home_location'})"
   ]
  },
  {
   "cell_type": "code",
   "execution_count": 152,
   "metadata": {},
   "outputs": [],
   "source": [
    "# Merge check-in data with the friend network dataframe\n",
    "bk_checkins_merged = bk_checkins.merge(bk_edges, left_on = 'user_id', right_on = 'from_id').drop(columns = ['from_id'], axis = 1)\n",
    "gw_checkins_merged = gw_checkins.merge(gw_edges, left_on = 'user_id', right_on = 'from_id').drop(columns = ['from_id'], axis = 1)\n",
    "\n",
    "# Add each friend's B home location to the extended dataframe\n",
    "bk_checkins_merged = bk_checkins_merged.merge(bk_home_locs, left_on = \"to_id\", right_index = True).drop(columns=['location'], axis = 1)\n",
    "gw_checkins_merged = gw_checkins_merged.merge(gw_home_locs, left_on = \"to_id\", right_index = True).drop(columns=['location'], axis = 1)"
   ]
  },
  {
   "cell_type": "code",
   "execution_count": 153,
   "metadata": {},
   "outputs": [
    {
     "data": {
      "text/html": [
       "<div>\n",
       "<style scoped>\n",
       "    .dataframe tbody tr th:only-of-type {\n",
       "        vertical-align: middle;\n",
       "    }\n",
       "\n",
       "    .dataframe tbody tr th {\n",
       "        vertical-align: top;\n",
       "    }\n",
       "\n",
       "    .dataframe thead th {\n",
       "        text-align: right;\n",
       "    }\n",
       "</style>\n",
       "<table border=\"1\" class=\"dataframe\">\n",
       "  <thead>\n",
       "    <tr style=\"text-align: right;\">\n",
       "      <th></th>\n",
       "      <th>user_id</th>\n",
       "      <th>checkin_time</th>\n",
       "      <th>latitude_x</th>\n",
       "      <th>longitude_x</th>\n",
       "      <th>location_id</th>\n",
       "      <th>check_in_lat</th>\n",
       "      <th>check_in_long</th>\n",
       "      <th>cell</th>\n",
       "      <th>check-in</th>\n",
       "      <th>home_location</th>\n",
       "      <th>to_id</th>\n",
       "      <th>latitude_y</th>\n",
       "      <th>longitude_y</th>\n",
       "    </tr>\n",
       "  </thead>\n",
       "  <tbody>\n",
       "    <tr>\n",
       "      <th>0</th>\n",
       "      <td>0</td>\n",
       "      <td>2010-10-17T01:48:53Z</td>\n",
       "      <td>39.747652</td>\n",
       "      <td>-104.992510</td>\n",
       "      <td>88c46bf20db295831bd2d1718ad7e6f5</td>\n",
       "      <td>39.570151</td>\n",
       "      <td>-104.770967</td>\n",
       "      <td>(39.57015066042415, -104.7709670895321)</td>\n",
       "      <td>0</td>\n",
       "      <td>(39.74758051422567, -104.96297404320383)</td>\n",
       "      <td>1</td>\n",
       "      <td>37.603702</td>\n",
       "      <td>-122.383366</td>\n",
       "    </tr>\n",
       "    <tr>\n",
       "      <th>120</th>\n",
       "      <td>0</td>\n",
       "      <td>2010-10-16T06:02:04Z</td>\n",
       "      <td>39.891383</td>\n",
       "      <td>-105.070814</td>\n",
       "      <td>7a0f88982aa015062b95e3b4843f9ca2</td>\n",
       "      <td>39.794981</td>\n",
       "      <td>-104.995797</td>\n",
       "      <td>(39.794981061903826, -104.9957974910118)</td>\n",
       "      <td>1</td>\n",
       "      <td>(39.74758051422567, -104.96297404320383)</td>\n",
       "      <td>1</td>\n",
       "      <td>37.603702</td>\n",
       "      <td>-122.383366</td>\n",
       "    </tr>\n",
       "    <tr>\n",
       "      <th>240</th>\n",
       "      <td>0</td>\n",
       "      <td>2010-10-16T03:48:54Z</td>\n",
       "      <td>39.891077</td>\n",
       "      <td>-105.068532</td>\n",
       "      <td>dd7cd3d264c2d063832db506fba8bf79</td>\n",
       "      <td>39.794981</td>\n",
       "      <td>-104.995797</td>\n",
       "      <td>(39.794981061903826, -104.9957974910118)</td>\n",
       "      <td>2</td>\n",
       "      <td>(39.74758051422567, -104.96297404320383)</td>\n",
       "      <td>1</td>\n",
       "      <td>37.603702</td>\n",
       "      <td>-122.383366</td>\n",
       "    </tr>\n",
       "    <tr>\n",
       "      <th>360</th>\n",
       "      <td>0</td>\n",
       "      <td>2010-10-14T18:25:51Z</td>\n",
       "      <td>39.750469</td>\n",
       "      <td>-104.999073</td>\n",
       "      <td>9848afcc62e500a01cf6fbf24b797732f8963683</td>\n",
       "      <td>39.570151</td>\n",
       "      <td>-104.995797</td>\n",
       "      <td>(39.57015066042415, -104.9957974910118)</td>\n",
       "      <td>3</td>\n",
       "      <td>(39.74758051422567, -104.96297404320383)</td>\n",
       "      <td>1</td>\n",
       "      <td>37.603702</td>\n",
       "      <td>-122.383366</td>\n",
       "    </tr>\n",
       "    <tr>\n",
       "      <th>480</th>\n",
       "      <td>0</td>\n",
       "      <td>2010-10-14T00:21:47Z</td>\n",
       "      <td>39.752713</td>\n",
       "      <td>-104.996337</td>\n",
       "      <td>2ef143e12038c870038df53e0478cefc</td>\n",
       "      <td>39.570151</td>\n",
       "      <td>-104.995797</td>\n",
       "      <td>(39.57015066042415, -104.9957974910118)</td>\n",
       "      <td>4</td>\n",
       "      <td>(39.74758051422567, -104.96297404320383)</td>\n",
       "      <td>1</td>\n",
       "      <td>37.603702</td>\n",
       "      <td>-122.383366</td>\n",
       "    </tr>\n",
       "    <tr>\n",
       "      <th>...</th>\n",
       "      <td>...</td>\n",
       "      <td>...</td>\n",
       "      <td>...</td>\n",
       "      <td>...</td>\n",
       "      <td>...</td>\n",
       "      <td>...</td>\n",
       "      <td>...</td>\n",
       "      <td>...</td>\n",
       "      <td>...</td>\n",
       "      <td>...</td>\n",
       "      <td>...</td>\n",
       "      <td>...</td>\n",
       "      <td>...</td>\n",
       "    </tr>\n",
       "    <tr>\n",
       "      <th>1211863</th>\n",
       "      <td>7</td>\n",
       "      <td>2009-11-12T02:27:01Z</td>\n",
       "      <td>34.014676</td>\n",
       "      <td>-118.494960</td>\n",
       "      <td>a53ae51af4df300eaf0c99d7fd650e0f9703c32b</td>\n",
       "      <td>33.949391</td>\n",
       "      <td>-118.485622</td>\n",
       "      <td>(33.94939062343208, -118.48562157979275)</td>\n",
       "      <td>9995</td>\n",
       "      <td>(37.586887345454464, -122.35431428686843)</td>\n",
       "      <td>0</td>\n",
       "      <td>39.747581</td>\n",
       "      <td>-104.962974</td>\n",
       "    </tr>\n",
       "    <tr>\n",
       "      <th>1212093</th>\n",
       "      <td>7</td>\n",
       "      <td>2009-11-11T23:02:35Z</td>\n",
       "      <td>34.413329</td>\n",
       "      <td>-119.860972</td>\n",
       "      <td>ee75c1dea22411dda27d536123c3101a</td>\n",
       "      <td>34.399051</td>\n",
       "      <td>-119.834604</td>\n",
       "      <td>(34.399051426391445, -119.83460398867085)</td>\n",
       "      <td>9996</td>\n",
       "      <td>(37.586887345454464, -122.35431428686843)</td>\n",
       "      <td>0</td>\n",
       "      <td>39.747581</td>\n",
       "      <td>-104.962974</td>\n",
       "    </tr>\n",
       "    <tr>\n",
       "      <th>1212323</th>\n",
       "      <td>7</td>\n",
       "      <td>2009-11-11T21:59:25Z</td>\n",
       "      <td>34.413177</td>\n",
       "      <td>-119.856454</td>\n",
       "      <td>cbcf613ac726ef406a668cf4dda22639</td>\n",
       "      <td>34.399051</td>\n",
       "      <td>-119.834604</td>\n",
       "      <td>(34.399051426391445, -119.83460398867085)</td>\n",
       "      <td>9997</td>\n",
       "      <td>(37.586887345454464, -122.35431428686843)</td>\n",
       "      <td>0</td>\n",
       "      <td>39.747581</td>\n",
       "      <td>-104.962974</td>\n",
       "    </tr>\n",
       "    <tr>\n",
       "      <th>1212553</th>\n",
       "      <td>7</td>\n",
       "      <td>2009-11-11T17:01:32Z</td>\n",
       "      <td>37.618889</td>\n",
       "      <td>-122.375000</td>\n",
       "      <td>45a01a2904c944777766a2bf76f5948e</td>\n",
       "      <td>37.546677</td>\n",
       "      <td>-122.307738</td>\n",
       "      <td>(37.546677047107, -122.30773840494736)</td>\n",
       "      <td>9998</td>\n",
       "      <td>(37.586887345454464, -122.35431428686843)</td>\n",
       "      <td>0</td>\n",
       "      <td>39.747581</td>\n",
       "      <td>-104.962974</td>\n",
       "    </tr>\n",
       "    <tr>\n",
       "      <th>1212783</th>\n",
       "      <td>7</td>\n",
       "      <td>2009-11-11T05:25:42Z</td>\n",
       "      <td>37.584103</td>\n",
       "      <td>-122.366083</td>\n",
       "      <td>ee6b8534a22411dd96da6f185082f76e</td>\n",
       "      <td>37.546677</td>\n",
       "      <td>-122.307738</td>\n",
       "      <td>(37.546677047107, -122.30773840494736)</td>\n",
       "      <td>9999</td>\n",
       "      <td>(37.586887345454464, -122.35431428686843)</td>\n",
       "      <td>0</td>\n",
       "      <td>39.747581</td>\n",
       "      <td>-104.962974</td>\n",
       "    </tr>\n",
       "  </tbody>\n",
       "</table>\n",
       "<p>42525 rows × 13 columns</p>\n",
       "</div>"
      ],
      "text/plain": [
       "         user_id          checkin_time  latitude_x  longitude_x  \\\n",
       "0              0  2010-10-17T01:48:53Z   39.747652  -104.992510   \n",
       "120            0  2010-10-16T06:02:04Z   39.891383  -105.070814   \n",
       "240            0  2010-10-16T03:48:54Z   39.891077  -105.068532   \n",
       "360            0  2010-10-14T18:25:51Z   39.750469  -104.999073   \n",
       "480            0  2010-10-14T00:21:47Z   39.752713  -104.996337   \n",
       "...          ...                   ...         ...          ...   \n",
       "1211863        7  2009-11-12T02:27:01Z   34.014676  -118.494960   \n",
       "1212093        7  2009-11-11T23:02:35Z   34.413329  -119.860972   \n",
       "1212323        7  2009-11-11T21:59:25Z   34.413177  -119.856454   \n",
       "1212553        7  2009-11-11T17:01:32Z   37.618889  -122.375000   \n",
       "1212783        7  2009-11-11T05:25:42Z   37.584103  -122.366083   \n",
       "\n",
       "                                      location_id  check_in_lat  \\\n",
       "0                88c46bf20db295831bd2d1718ad7e6f5     39.570151   \n",
       "120              7a0f88982aa015062b95e3b4843f9ca2     39.794981   \n",
       "240              dd7cd3d264c2d063832db506fba8bf79     39.794981   \n",
       "360      9848afcc62e500a01cf6fbf24b797732f8963683     39.570151   \n",
       "480              2ef143e12038c870038df53e0478cefc     39.570151   \n",
       "...                                           ...           ...   \n",
       "1211863  a53ae51af4df300eaf0c99d7fd650e0f9703c32b     33.949391   \n",
       "1212093          ee75c1dea22411dda27d536123c3101a     34.399051   \n",
       "1212323          cbcf613ac726ef406a668cf4dda22639     34.399051   \n",
       "1212553          45a01a2904c944777766a2bf76f5948e     37.546677   \n",
       "1212783          ee6b8534a22411dd96da6f185082f76e     37.546677   \n",
       "\n",
       "         check_in_long                                       cell  check-in  \\\n",
       "0          -104.770967    (39.57015066042415, -104.7709670895321)         0   \n",
       "120        -104.995797   (39.794981061903826, -104.9957974910118)         1   \n",
       "240        -104.995797   (39.794981061903826, -104.9957974910118)         2   \n",
       "360        -104.995797    (39.57015066042415, -104.9957974910118)         3   \n",
       "480        -104.995797    (39.57015066042415, -104.9957974910118)         4   \n",
       "...                ...                                        ...       ...   \n",
       "1211863    -118.485622   (33.94939062343208, -118.48562157979275)      9995   \n",
       "1212093    -119.834604  (34.399051426391445, -119.83460398867085)      9996   \n",
       "1212323    -119.834604  (34.399051426391445, -119.83460398867085)      9997   \n",
       "1212553    -122.307738     (37.546677047107, -122.30773840494736)      9998   \n",
       "1212783    -122.307738     (37.546677047107, -122.30773840494736)      9999   \n",
       "\n",
       "                                     home_location  to_id  latitude_y  \\\n",
       "0         (39.74758051422567, -104.96297404320383)      1   37.603702   \n",
       "120       (39.74758051422567, -104.96297404320383)      1   37.603702   \n",
       "240       (39.74758051422567, -104.96297404320383)      1   37.603702   \n",
       "360       (39.74758051422567, -104.96297404320383)      1   37.603702   \n",
       "480       (39.74758051422567, -104.96297404320383)      1   37.603702   \n",
       "...                                            ...    ...         ...   \n",
       "1211863  (37.586887345454464, -122.35431428686843)      0   39.747581   \n",
       "1212093  (37.586887345454464, -122.35431428686843)      0   39.747581   \n",
       "1212323  (37.586887345454464, -122.35431428686843)      0   39.747581   \n",
       "1212553  (37.586887345454464, -122.35431428686843)      0   39.747581   \n",
       "1212783  (37.586887345454464, -122.35431428686843)      0   39.747581   \n",
       "\n",
       "         longitude_y  \n",
       "0        -122.383366  \n",
       "120      -122.383366  \n",
       "240      -122.383366  \n",
       "360      -122.383366  \n",
       "480      -122.383366  \n",
       "...              ...  \n",
       "1211863  -104.962974  \n",
       "1212093  -104.962974  \n",
       "1212323  -104.962974  \n",
       "1212553  -104.962974  \n",
       "1212783  -104.962974  \n",
       "\n",
       "[42525 rows x 13 columns]"
      ]
     },
     "execution_count": 153,
     "metadata": {},
     "output_type": "execute_result"
    }
   ],
   "source": [
    "bk_checkins_merged"
   ]
  },
  {
   "cell_type": "code",
   "execution_count": 154,
   "metadata": {
    "scrolled": true
   },
   "outputs": [],
   "source": [
    "# Calculate the distance between check-ins and friends home\n",
    "bk_checkins_merged['distances_to_friend'] = bk_checkins_merged.apply(lambda x: distance((x['latitude_x'], x['longitude_x']), (x['latitude_y'], x['longitude_y'])).km, axis = 1)\n",
    "gw_checkins_merged['distances_to_friend'] = gw_checkins_merged.apply(lambda x: distance((x['latitude_x'], x['longitude_x']), (x['latitude_y'], x['longitude_y'])).km, axis = 1)"
   ]
  },
  {
   "cell_type": "code",
   "execution_count": 155,
   "metadata": {},
   "outputs": [],
   "source": [
    "# Investigate if a check-in was a friends visit or not \n",
    "# by grouping by check-in id's and checking if any distance is smaller than r\n",
    "radius = 25\n",
    "bk_friend_visited = bk_checkins_merged.groupby(\"check-in\").apply(lambda x: (x['distances_to_friend'] < radius).any()).to_frame()\n",
    "gw_friend_visited = gw_checkins_merged.groupby(\"check-in\").apply(lambda x: (x['distances_to_friend'] < radius).any()).to_frame()"
   ]
  },
  {
   "cell_type": "code",
   "execution_count": 156,
   "metadata": {},
   "outputs": [],
   "source": [
    "bk_checkins_merged['visited_friend'] = bk_checkins_merged.apply(lambda x: (x['distances_to_friend'] < radius), axis = 1)\n",
    "gw_checkins_merged['visited_friend'] = gw_checkins_merged.apply(lambda x: (x['distances_to_friend'] < radius), axis = 1)"
   ]
  },
  {
   "cell_type": "markdown",
   "metadata": {},
   "source": [
    "### How often do friends visit each other?"
   ]
  },
  {
   "cell_type": "code",
   "execution_count": 157,
   "metadata": {},
   "outputs": [],
   "source": [
    "bk_friend_visited = bk_checkins_merged[bk_checkins_merged['visited_friend'] == True].groupby(['user_id','to_id']).count().iloc[:,:1]\n",
    "gw_friend_visited = gw_checkins_merged[gw_checkins_merged['visited_friend'] == True].groupby(['user_id','to_id']).count().iloc[:,:1]\n"
   ]
  },
  {
   "cell_type": "code",
   "execution_count": 158,
   "metadata": {},
   "outputs": [],
   "source": [
    "bk_friend_visited['data'] = 'Brightkite'\n",
    "gw_friend_visited['data'] = 'Gowalla'\n",
    "\n",
    "bk_gw_friends = bk_friend_visited.append(gw_friend_visited)\n",
    "#gw_friend_visited.head()"
   ]
  },
  {
   "cell_type": "code",
   "execution_count": 164,
   "metadata": {},
   "outputs": [
    {
     "data": {
      "image/png": "[encoded data removed]",
      "text/plain": [
       "<Figure size 432x288 with 1 Axes>"
      ]
     },
     "metadata": {
      "needs_background": "light"
     },
     "output_type": "display_data"
    }
   ],
   "source": [
    "sns.histplot(data = bk_gw_friends, x = 'checkin_time', hue = 'data', multiple=\"dodge\");"
   ]
  },
  {
   "cell_type": "code",
   "execution_count": 18,
   "metadata": {},
   "outputs": [],
   "source": [
    "# Intermediately save the dataframes\n",
    "#bk_checkins_merged.to_pickle(\"B_checkins_merged.pickle\")\n",
    "#gw_checkins_merged.to_pickle(\"G_checkins_merged.pickle\")\n",
    "#bk_checkins.to_pickle(\"B_checkins_MS4.pickle\")\n",
    "#gw_checkins.to_pickle(\"G_checkins_MS4.pickle\")"
   ]
  },
  {
   "cell_type": "markdown",
   "metadata": {},
   "source": [
    "### Does it depend on whether they live in a city or not or on the season of the year?"
   ]
  },
  {
   "cell_type": "code",
   "execution_count": null,
   "metadata": {},
   "outputs": [],
   "source": []
  },
  {
   "cell_type": "code",
   "execution_count": null,
   "metadata": {},
   "outputs": [],
   "source": []
  }
 ],
 "metadata": {
  "kernelspec": {
   "display_name": "Python 3",
   "language": "python",
   "name": "python3"
  },
  "language_info": {
   "codemirror_mode": {
    "name": "ipython",
    "version": 3
   },
   "file_extension": ".py",
   "mimetype": "text/x-python",
   "name": "python",
   "nbconvert_exporter": "python",
   "pygments_lexer": "ipython3",
   "version": "3.8.5"
  }
 },
 "nbformat": 4,
 "nbformat_minor": 4
}
