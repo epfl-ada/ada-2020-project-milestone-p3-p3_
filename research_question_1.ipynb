{
 "cells": [
  {
   "cell_type": "markdown",
   "metadata": {},
   "source": [
    "## Research question 1:"
   ]
  },
  {
   "cell_type": "markdown",
   "metadata": {},
   "source": [
    "1. Are inhabitants of cities more likely to have more friends than individuals living in rural areas?"
   ]
  },
  {
   "cell_type": "markdown",
   "metadata": {},
   "source": [
    "Plan to answer this question:\n",
    "\n",
    "- how many people define a city? Drop cities with less inhabitants, less population density\n",
    "- convert area to radius\n",
    "- for each country:\n",
    "    for each home location in that country:\n",
    "        is home location near city? calculate distance to city, \n",
    "        if distance < given radius, then yes\n",
    "- calculate # friends per user, group by rural/city and compare amount of friends\n",
    "- Do some statistical test to detect differences"
   ]
  },
  {
   "cell_type": "markdown",
   "metadata": {},
   "source": [
    "### Libraries"
   ]
  },
  {
   "cell_type": "code",
<<<<<<< Updated upstream
   "execution_count": 129,
   "metadata": {},
   "outputs": [],
   "source": [
=======
   "execution_count": 41,
   "metadata": {},
   "outputs": [],
   "source": [
    "import pylab\n",
>>>>>>> Stashed changes
    "import pandas as pd\n",
    "import numpy as np\n",
    "import seaborn as sns\n",
    "import matplotlib.pyplot as plt\n",
<<<<<<< Updated upstream
    "from geopy.distance import distance\n",
    "from functions import load_data"
=======
    "from scipy import stats \n",
    "from geopy.distance import distance\n",
    "from functions import load_data\n",
    "from scipy.stats import ttest_ind, levene, probplot"
>>>>>>> Stashed changes
   ]
  },
  {
   "cell_type": "markdown",
   "metadata": {},
   "source": [
    "### Load the data\n"
   ]
  },
  {
   "cell_type": "markdown",
   "metadata": {},
   "source": [
    "#### Load home locations"
   ]
  },
  {
   "cell_type": "code",
<<<<<<< Updated upstream
   "execution_count": 104,
=======
   "execution_count": 2,
>>>>>>> Stashed changes
   "metadata": {},
   "outputs": [],
   "source": [
    "B_homes = pd.read_pickle(\"B_homes.pickle\")\n",
    "G_homes = pd.read_pickle(\"G_homes.pickle\")\n",
    "\n",
    "B_homes.columns = B_homes.columns.droplevel(1)\n",
    "G_homes.columns = G_homes.columns.droplevel(1)"
   ]
  },
  {
   "cell_type": "code",
<<<<<<< Updated upstream
   "execution_count": 105,
=======
   "execution_count": 3,
>>>>>>> Stashed changes
   "metadata": {},
   "outputs": [],
   "source": [
    "# Introduce a unique index per user\n",
    "B_homes['user'] = B_homes.index\n",
    "G_homes['user'] = G_homes.index"
   ]
  },
  {
   "cell_type": "code",
<<<<<<< Updated upstream
   "execution_count": 106,
   "metadata": {
    "scrolled": true
=======
   "execution_count": null,
   "metadata": {
    "scrolled": true
   },
   "outputs": [],
   "source": [
    "B_homes.head()"
   ]
  },
  {
   "cell_type": "markdown",
   "metadata": {},
   "source": [
    "#### Load cities"
   ]
  },
  {
   "cell_type": "code",
   "execution_count": 4,
   "metadata": {},
   "outputs": [],
   "source": [
    "cities = pd.read_csv(\"city_and_area.csv\").drop(columns = ['Unnamed: 0'], axis = 1)"
   ]
  },
  {
   "cell_type": "code",
   "execution_count": null,
   "metadata": {
    "scrolled": false
   },
   "outputs": [],
   "source": [
    "cities.head()"
   ]
  },
  {
   "cell_type": "markdown",
   "metadata": {},
   "source": [
    "#### Load edges"
   ]
  },
  {
   "cell_type": "code",
   "execution_count": 5,
   "metadata": {},
   "outputs": [],
   "source": [
    "_, B_edges = load_data(\"Brightkite\")\n",
    "_, G_edges = load_data(\"Gowalla\")"
   ]
  },
  {
   "cell_type": "markdown",
   "metadata": {},
   "source": [
    "### Deal with the cities\n",
    "\n",
    "1. Calculate population density\n",
    "2. Drop cities with # inhabitants < 50.000 and population density < 1500 ([How we define cities](https://blogs.worldbank.org/sustainablecities/how-do-we-define-cities-towns-and-rural-areas))\n",
    "       The Degree of Urbanization identifies cities as cities, if they have a population of at least 50,000 inhabitants in contiguous dense grid cells (>1,500 inhabitants per km2);\n",
    "3. Calculate the radius for each city\n"
   ]
  },
  {
   "cell_type": "code",
   "execution_count": 6,
   "metadata": {},
   "outputs": [],
   "source": [
    "# 1. Calculate population density\n",
    "cities['density'] = cities['population'] / cities['area']"
   ]
  },
  {
   "cell_type": "code",
   "execution_count": 7,
   "metadata": {},
   "outputs": [],
   "source": [
    "# 2. Drop cities with # inhabitants < 50.000 and population density < 1500\n",
    "cities = cities[(cities['population'] > 50000) & (cities['density'] > 1500)]"
   ]
  },
  {
   "cell_type": "code",
   "execution_count": 8,
   "metadata": {},
   "outputs": [],
   "source": [
    "# 3. Calculate the radius for each city\n",
    "def radius(A):\n",
    "    return np.sqrt(A/np.pi)\n",
    "\n",
    "cities['radius'] = cities['area'].apply(lambda x: radius(x))"
   ]
  },
  {
   "cell_type": "code",
   "execution_count": null,
   "metadata": {},
   "outputs": [],
   "source": [
    "cities.head()"
   ]
  },
  {
   "cell_type": "markdown",
   "metadata": {},
   "source": [
    "### Does user live in rural or urban area?\n",
    "\n",
    "  for each country:\n",
    "  \n",
    "    for each home location in that country:\n",
    "        is home location near city? calculate distance to city, \n",
    "        if distance < given radius, then yes\n",
    "\n"
   ]
  },
  {
   "cell_type": "code",
   "execution_count": 67,
   "metadata": {},
   "outputs": [],
   "source": [
    "# Take a subset for now\n",
    "B_homes = B_homes.sample(500, random_state=1)\n",
    "G_homes = G_homes.sample(500, random_state=1)"
   ]
  },
  {
   "cell_type": "code",
   "execution_count": 68,
   "metadata": {},
   "outputs": [],
   "source": [
    "# Create a huge dataframe with all cities per country to then check if a home location is close to a city\n",
    "B_merge = B_homes.merge(cities, left_on = 'country', right_on = 'iso2')\n",
    "G_merge = G_homes.merge(cities, left_on = 'country', right_on = 'iso2')"
   ]
  },
  {
   "cell_type": "code",
   "execution_count": 69,
   "metadata": {},
   "outputs": [],
   "source": [
    "B_merge['distance_to_city'] = B_merge.apply(lambda row: distance((row['latitude'], row['longitude']), (row['lat'],row['lng']) ).km, axis = 1)\n",
    "G_merge['distance_to_city'] = G_merge.apply(lambda row: distance((row['latitude'], row['longitude']), (row['lat'],row['lng']) ).km, axis = 1)"
   ]
  },
  {
   "cell_type": "code",
   "execution_count": 12,
   "metadata": {
    "scrolled": true
>>>>>>> Stashed changes
   },
   "outputs": [
    {
     "data": {
      "text/html": [
       "<div>\n",
       "<style scoped>\n",
       "    .dataframe tbody tr th:only-of-type {\n",
       "        vertical-align: middle;\n",
       "    }\n",
       "\n",
       "    .dataframe tbody tr th {\n",
       "        vertical-align: top;\n",
       "    }\n",
       "\n",
       "    .dataframe thead th {\n",
       "        text-align: right;\n",
       "    }\n",
       "</style>\n",
       "<table border=\"1\" class=\"dataframe\">\n",
       "  <thead>\n",
       "    <tr style=\"text-align: right;\">\n",
       "      <th></th>\n",
       "      <th>longitude</th>\n",
       "      <th>latitude</th>\n",
<<<<<<< Updated upstream
       "      <th>country</th>\n",
       "      <th>user</th>\n",
       "    </tr>\n",
       "    <tr>\n",
       "      <th>user_id</th>\n",
       "      <th></th>\n",
       "      <th></th>\n",
       "      <th></th>\n",
       "      <th></th>\n",
=======
       "      <th>country_x</th>\n",
       "      <th>user</th>\n",
       "      <th>city</th>\n",
       "      <th>city_ascii</th>\n",
       "      <th>lat</th>\n",
       "      <th>lng</th>\n",
       "      <th>country_y</th>\n",
       "      <th>iso2</th>\n",
       "      <th>iso3</th>\n",
       "      <th>admin_name</th>\n",
       "      <th>capital</th>\n",
       "      <th>population</th>\n",
       "      <th>id</th>\n",
       "      <th>area</th>\n",
       "      <th>density</th>\n",
       "      <th>radius</th>\n",
       "      <th>distance_to_city</th>\n",
>>>>>>> Stashed changes
       "    </tr>\n",
       "  </thead>\n",
       "  <tbody>\n",
       "    <tr>\n",
       "      <th>0</th>\n",
       "      <td>-116.203451</td>\n",
       "      <td>43.6135</td>\n",
       "      <td>US</td>\n",
<<<<<<< Updated upstream
       "      <td>0</td>\n",
=======
       "      <td>18790</td>\n",
       "      <td>Los Angeles</td>\n",
       "      <td>Los Angeles</td>\n",
       "      <td>34.1139</td>\n",
       "      <td>-118.4068</td>\n",
       "      <td>United States</td>\n",
       "      <td>US</td>\n",
       "      <td>USA</td>\n",
       "      <td>California</td>\n",
       "      <td>NaN</td>\n",
       "      <td>12750807.0</td>\n",
       "      <td>1840020491</td>\n",
       "      <td>4850.00</td>\n",
       "      <td>2629.032371</td>\n",
       "      <td>39.291258</td>\n",
       "      <td>1071.665474</td>\n",
>>>>>>> Stashed changes
       "    </tr>\n",
       "    <tr>\n",
       "      <th>1</th>\n",
       "      <td>-116.203451</td>\n",
       "      <td>43.6135</td>\n",
       "      <td>US</td>\n",
       "      <td>18790</td>\n",
       "      <td>Dallas</td>\n",
       "      <td>Dallas</td>\n",
       "      <td>32.7936</td>\n",
       "      <td>-96.7662</td>\n",
       "      <td>United States</td>\n",
       "      <td>US</td>\n",
<<<<<<< Updated upstream
       "      <td>1</td>\n",
=======
       "      <td>USA</td>\n",
       "      <td>Texas</td>\n",
       "      <td>NaN</td>\n",
       "      <td>5743938.0</td>\n",
       "      <td>1840019440</td>\n",
       "      <td>1407.20</td>\n",
       "      <td>4081.820637</td>\n",
       "      <td>21.164255</td>\n",
       "      <td>2074.975030</td>\n",
>>>>>>> Stashed changes
       "    </tr>\n",
       "    <tr>\n",
       "      <th>2</th>\n",
       "      <td>-116.203451</td>\n",
       "      <td>43.6135</td>\n",
       "      <td>US</td>\n",
<<<<<<< Updated upstream
       "      <td>2</td>\n",
=======
       "      <td>18790</td>\n",
       "      <td>Philadelphia</td>\n",
       "      <td>Philadelphia</td>\n",
       "      <td>40.0077</td>\n",
       "      <td>-75.1339</td>\n",
       "      <td>United States</td>\n",
       "      <td>US</td>\n",
       "      <td>USA</td>\n",
       "      <td>Pennsylvania</td>\n",
       "      <td>NaN</td>\n",
       "      <td>5649300.0</td>\n",
       "      <td>1840000673</td>\n",
       "      <td>142.70</td>\n",
       "      <td>39588.647512</td>\n",
       "      <td>6.739645</td>\n",
       "      <td>3401.119974</td>\n",
>>>>>>> Stashed changes
       "    </tr>\n",
       "    <tr>\n",
       "      <th>3</th>\n",
       "      <td>-116.203451</td>\n",
       "      <td>43.6135</td>\n",
       "      <td>US</td>\n",
       "      <td>18790</td>\n",
       "      <td>Houston</td>\n",
       "      <td>Houston</td>\n",
       "      <td>29.7863</td>\n",
       "      <td>-95.3889</td>\n",
       "      <td>United States</td>\n",
       "      <td>US</td>\n",
<<<<<<< Updated upstream
       "      <td>3</td>\n",
       "    </tr>\n",
       "    <tr>\n",
       "      <th>4</th>\n",
       "      <td>24.937299</td>\n",
       "      <td>60.173985</td>\n",
       "      <td>FI</td>\n",
       "      <td>4</td>\n",
=======
       "      <td>USA</td>\n",
       "      <td>Texas</td>\n",
       "      <td>NaN</td>\n",
       "      <td>5464251.0</td>\n",
       "      <td>1840020925</td>\n",
       "      <td>1062.00</td>\n",
       "      <td>5145.245763</td>\n",
       "      <td>18.386003</td>\n",
       "      <td>2399.046326</td>\n",
       "    </tr>\n",
       "    <tr>\n",
       "      <th>4</th>\n",
       "      <td>-116.203451</td>\n",
       "      <td>43.6135</td>\n",
       "      <td>US</td>\n",
       "      <td>18790</td>\n",
       "      <td>San Diego</td>\n",
       "      <td>San Diego</td>\n",
       "      <td>32.8312</td>\n",
       "      <td>-117.1225</td>\n",
       "      <td>United States</td>\n",
       "      <td>US</td>\n",
       "      <td>USA</td>\n",
       "      <td>California</td>\n",
       "      <td>NaN</td>\n",
       "      <td>3220118.0</td>\n",
       "      <td>1840021990</td>\n",
       "      <td>372.42</td>\n",
       "      <td>8646.469040</td>\n",
       "      <td>10.887836</td>\n",
       "      <td>1199.531108</td>\n",
>>>>>>> Stashed changes
       "    </tr>\n",
       "  </tbody>\n",
       "</table>\n",
       "</div>"
      ],
      "text/plain": [
<<<<<<< Updated upstream
       "          longitude   latitude country  user\n",
       "user_id                                     \n",
       "0       -105.009140  39.756108      US     0\n",
       "1       -122.353819  37.581821      US     1\n",
       "2       -105.041977  39.771737      US     2\n",
       "3       -122.424280  37.765768      US     3\n",
       "4         24.937299  60.173985      FI     4"
      ]
     },
     "execution_count": 106,
=======
       "    longitude  latitude country_x   user          city    city_ascii      lat  \\\n",
       "0 -116.203451   43.6135        US  18790   Los Angeles   Los Angeles  34.1139   \n",
       "1 -116.203451   43.6135        US  18790        Dallas        Dallas  32.7936   \n",
       "2 -116.203451   43.6135        US  18790  Philadelphia  Philadelphia  40.0077   \n",
       "3 -116.203451   43.6135        US  18790       Houston       Houston  29.7863   \n",
       "4 -116.203451   43.6135        US  18790     San Diego     San Diego  32.8312   \n",
       "\n",
       "        lng      country_y iso2 iso3    admin_name capital  population  \\\n",
       "0 -118.4068  United States   US  USA    California     NaN  12750807.0   \n",
       "1  -96.7662  United States   US  USA         Texas     NaN   5743938.0   \n",
       "2  -75.1339  United States   US  USA  Pennsylvania     NaN   5649300.0   \n",
       "3  -95.3889  United States   US  USA         Texas     NaN   5464251.0   \n",
       "4 -117.1225  United States   US  USA    California     NaN   3220118.0   \n",
       "\n",
       "           id     area       density     radius  distance_to_city  \n",
       "0  1840020491  4850.00   2629.032371  39.291258       1071.665474  \n",
       "1  1840019440  1407.20   4081.820637  21.164255       2074.975030  \n",
       "2  1840000673   142.70  39588.647512   6.739645       3401.119974  \n",
       "3  1840020925  1062.00   5145.245763  18.386003       2399.046326  \n",
       "4  1840021990   372.42   8646.469040  10.887836       1199.531108  "
      ]
     },
     "execution_count": 12,
>>>>>>> Stashed changes
     "metadata": {},
     "output_type": "execute_result"
    }
   ],
   "source": [
    "B_merge.head()"
   ]
  },
  {
   "cell_type": "markdown",
   "metadata": {},
   "source": [
    "#### Load cities"
   ]
  },
  {
   "cell_type": "code",
   "execution_count": 14,
   "metadata": {},
   "outputs": [],
   "source": [
    "# Save home locations\n",
    "#B_merge.to_pickle(\"B_merge.pickle\")\n",
    "#G_merge.to_pickle(\"G_merge.pickle\")"
   ]
  },
  {
   "cell_type": "code",
   "execution_count": 70,
   "metadata": {},
   "outputs": [],
   "source": [
    "B_lives_urban = B_merge.groupby(\"user\").apply(lambda x: (x['distance_to_city'] < x['radius']).any()).to_frame()\n",
    "B_lives_urban = B_lives_urban.rename(columns = {0:'lives_urban'})\n",
    "\n",
    "G_lives_urban = G_merge.groupby(\"user\").apply(lambda x: (x['distance_to_city'] < x['radius']).any()).to_frame()\n",
    "G_lives_urban = G_lives_urban.rename(columns = {0:'lives_urban'})"
   ]
  },
  {
   "cell_type": "code",
   "execution_count": 15,
   "metadata": {},
   "outputs": [],
   "source": [
    "# Integrate the 'lives_urban' variable into the home location datasets\n",
    "B_homes = B_homes.merge(B_lives_urban, left_on = 'user', right_index = True)\n",
    "G_homes = G_homes.merge(G_lives_urban, left_on = 'user', right_index = True)"
   ]
  },
  {
   "cell_type": "code",
   "execution_count": 16,
   "metadata": {
    "scrolled": true
   },
   "outputs": [
    {
     "data": {
      "text/html": [
       "<div>\n",
       "<style scoped>\n",
       "    .dataframe tbody tr th:only-of-type {\n",
       "        vertical-align: middle;\n",
       "    }\n",
       "\n",
       "    .dataframe tbody tr th {\n",
       "        vertical-align: top;\n",
       "    }\n",
       "\n",
       "    .dataframe thead th {\n",
       "        text-align: right;\n",
       "    }\n",
       "</style>\n",
       "<table border=\"1\" class=\"dataframe\">\n",
       "  <thead>\n",
       "    <tr style=\"text-align: right;\">\n",
       "      <th></th>\n",
       "      <th>longitude</th>\n",
       "      <th>latitude</th>\n",
       "      <th>country</th>\n",
       "      <th>user</th>\n",
       "      <th>lives_urban</th>\n",
       "    </tr>\n",
       "    <tr>\n",
       "      <th>user_id</th>\n",
       "      <th></th>\n",
       "      <th></th>\n",
       "      <th></th>\n",
       "      <th></th>\n",
       "      <th></th>\n",
       "    </tr>\n",
       "  </thead>\n",
       "  <tbody>\n",
       "    <tr>\n",
       "      <th>76280</th>\n",
       "      <td>-117.886019</td>\n",
       "      <td>33.801853</td>\n",
       "      <td>US</td>\n",
       "      <td>76280</td>\n",
       "      <td>False</td>\n",
       "    </tr>\n",
       "    <tr>\n",
       "      <th>186772</th>\n",
       "      <td>17.227778</td>\n",
       "      <td>62.410301</td>\n",
       "      <td>SE</td>\n",
       "      <td>186772</td>\n",
       "      <td>False</td>\n",
       "    </tr>\n",
       "    <tr>\n",
       "      <th>55115</th>\n",
       "      <td>-121.305415</td>\n",
       "      <td>44.064791</td>\n",
       "      <td>US</td>\n",
       "      <td>55115</td>\n",
       "      <td>False</td>\n",
       "    </tr>\n",
       "    <tr>\n",
       "      <th>28361</th>\n",
       "      <td>-86.806300</td>\n",
       "      <td>33.482397</td>\n",
       "      <td>US</td>\n",
       "      <td>28361</td>\n",
       "      <td>True</td>\n",
       "    </tr>\n",
       "    <tr>\n",
       "      <th>132303</th>\n",
       "      <td>11.984316</td>\n",
       "      <td>57.693889</td>\n",
       "      <td>SE</td>\n",
       "      <td>132303</td>\n",
       "      <td>False</td>\n",
       "    </tr>\n",
       "  </tbody>\n",
       "</table>\n",
       "</div>"
      ],
      "text/plain": [
       "          longitude   latitude country    user  lives_urban\n",
       "user_id                                                    \n",
       "76280   -117.886019  33.801853      US   76280        False\n",
       "186772    17.227778  62.410301      SE  186772        False\n",
       "55115   -121.305415  44.064791      US   55115        False\n",
       "28361    -86.806300  33.482397      US   28361         True\n",
       "132303    11.984316  57.693889      SE  132303        False"
      ]
     },
     "execution_count": 16,
     "metadata": {},
     "output_type": "execute_result"
    }
   ],
   "source": [
    "B_homes.head()\n",
    "G_homes.head()"
   ]
  },
  {
   "cell_type": "code",
   "execution_count": 17,
   "metadata": {},
   "outputs": [],
   "source": [
    "# Save home locations\n",
    "#B_homes.to_pickle(\"B_homes_urban.pickle\")\n",
    "#G_homes.to_pickle(\"G_homes_urban.pickle\")"
   ]
  },
  {
   "cell_type": "markdown",
   "metadata": {},
   "source": [
<<<<<<< Updated upstream
    "#### Load edges"
   ]
  },
  {
   "cell_type": "code",
   "execution_count": 81,
   "metadata": {},
   "outputs": [],
   "source": [
    "_, B_edges = load_data(\"Brightkite\")\n",
    "_, G_edges = load_data(\"Gowalla\")"
   ]
  },
  {
   "cell_type": "markdown",
   "metadata": {},
   "source": [
    "### Deal with the cities\n",
    "\n",
    "1. Calculate population density\n",
    "2. Drop cities with # inhabitants < 50.000 and population density < 1500 ([How we define cities](https://blogs.worldbank.org/sustainablecities/how-do-we-define-cities-towns-and-rural-areas))\n",
    "       The Degree of Urbanization identifies cities as cities, if they have a population of at least 50,000 inhabitants in contiguous dense grid cells (>1,500 inhabitants per km2);\n",
    "3. Calculate the radius for each city\n"
=======
    "## Calculate # friends per user\n"
>>>>>>> Stashed changes
   ]
  },
  {
   "cell_type": "code",
   "execution_count": 71,
   "metadata": {},
   "outputs": [],
   "source": [
    "B_friends = B_edges.groupby('from_id').count()\n",
    "G_friends = G_edges.groupby('from_id').count()"
   ]
  },
  {
   "cell_type": "code",
   "execution_count": 72,
   "metadata": {},
   "outputs": [],
   "source": [
    "B_homes = B_homes.merge(B_friends, left_on = 'user', right_index = True).rename(columns = {'to_id':'#_friends'})\n",
    "G_homes = G_homes.merge(G_friends, left_on = 'user', right_index = True).rename(columns = {'to_id':'#_friends'})"
   ]
  },
  {
   "cell_type": "code",
   "execution_count": 39,
   "metadata": {},
   "outputs": [],
   "source": [
<<<<<<< Updated upstream
    "# 3. Calculate the radius for each city\n",
    "def radius(A):\n",
    "    return np.sqrt(A/np.pi)\n",
    "\n",
    "cities['radius'] = cities['area'].apply(lambda x: radius(x))"
   ]
  },
  {
   "cell_type": "code",
   "execution_count": 40,
   "metadata": {},
   "outputs": [
    {
     "data": {
      "text/html": [
       "<div>\n",
       "<style scoped>\n",
       "    .dataframe tbody tr th:only-of-type {\n",
       "        vertical-align: middle;\n",
       "    }\n",
       "\n",
       "    .dataframe tbody tr th {\n",
       "        vertical-align: top;\n",
       "    }\n",
       "\n",
       "    .dataframe thead th {\n",
       "        text-align: right;\n",
       "    }\n",
       "</style>\n",
       "<table border=\"1\" class=\"dataframe\">\n",
       "  <thead>\n",
       "    <tr style=\"text-align: right;\">\n",
       "      <th></th>\n",
       "      <th>city</th>\n",
       "      <th>city_ascii</th>\n",
       "      <th>lat</th>\n",
       "      <th>lng</th>\n",
       "      <th>country</th>\n",
       "      <th>iso2</th>\n",
       "      <th>iso3</th>\n",
       "      <th>admin_name</th>\n",
       "      <th>capital</th>\n",
       "      <th>population</th>\n",
       "      <th>id</th>\n",
       "      <th>area</th>\n",
       "      <th>density</th>\n",
       "      <th>radius</th>\n",
       "    </tr>\n",
       "  </thead>\n",
       "  <tbody>\n",
       "    <tr>\n",
       "      <th>0</th>\n",
       "      <td>Tokyo</td>\n",
       "      <td>Tokyo</td>\n",
       "      <td>35.6897</td>\n",
       "      <td>139.6922</td>\n",
       "      <td>Japan</td>\n",
       "      <td>JP</td>\n",
       "      <td>JPN</td>\n",
       "      <td>Tōkyō</td>\n",
       "      <td>primary</td>\n",
       "      <td>37977000.0</td>\n",
       "      <td>1392685764</td>\n",
       "      <td>2194.07</td>\n",
       "      <td>17308.928156</td>\n",
       "      <td>26.427148</td>\n",
       "    </tr>\n",
       "    <tr>\n",
       "      <th>1</th>\n",
       "      <td>Jakarta</td>\n",
       "      <td>Jakarta</td>\n",
       "      <td>-6.2146</td>\n",
       "      <td>106.8451</td>\n",
       "      <td>Indonesia</td>\n",
       "      <td>ID</td>\n",
       "      <td>IDN</td>\n",
       "      <td>Jakarta</td>\n",
       "      <td>primary</td>\n",
       "      <td>34540000.0</td>\n",
       "      <td>1360771077</td>\n",
       "      <td>7062.50</td>\n",
       "      <td>4890.619469</td>\n",
       "      <td>47.413749</td>\n",
       "    </tr>\n",
       "    <tr>\n",
       "      <th>2</th>\n",
       "      <td>Delhi</td>\n",
       "      <td>Delhi</td>\n",
       "      <td>28.6600</td>\n",
       "      <td>77.2300</td>\n",
       "      <td>India</td>\n",
       "      <td>IN</td>\n",
       "      <td>IND</td>\n",
       "      <td>Delhi</td>\n",
       "      <td>admin</td>\n",
       "      <td>29617000.0</td>\n",
       "      <td>1356872604</td>\n",
       "      <td>1484.00</td>\n",
       "      <td>19957.547170</td>\n",
       "      <td>21.734118</td>\n",
       "    </tr>\n",
       "    <tr>\n",
       "      <th>3</th>\n",
       "      <td>Mumbai</td>\n",
       "      <td>Mumbai</td>\n",
       "      <td>18.9667</td>\n",
       "      <td>72.8333</td>\n",
       "      <td>India</td>\n",
       "      <td>IN</td>\n",
       "      <td>IND</td>\n",
       "      <td>Mahārāshtra</td>\n",
       "      <td>admin</td>\n",
       "      <td>23355000.0</td>\n",
       "      <td>1356226629</td>\n",
       "      <td>4355.00</td>\n",
       "      <td>5362.801378</td>\n",
       "      <td>37.232238</td>\n",
       "    </tr>\n",
       "    <tr>\n",
       "      <th>4</th>\n",
       "      <td>Manila</td>\n",
       "      <td>Manila</td>\n",
       "      <td>14.5958</td>\n",
       "      <td>120.9772</td>\n",
       "      <td>Philippines</td>\n",
       "      <td>PH</td>\n",
       "      <td>PHL</td>\n",
       "      <td>Manila</td>\n",
       "      <td>primary</td>\n",
       "      <td>23088000.0</td>\n",
       "      <td>1608618140</td>\n",
       "      <td>1474.82</td>\n",
       "      <td>15654.791771</td>\n",
       "      <td>21.666790</td>\n",
       "    </tr>\n",
       "  </tbody>\n",
       "</table>\n",
       "</div>"
      ],
      "text/plain": [
       "      city city_ascii      lat       lng      country iso2 iso3   admin_name  \\\n",
       "0    Tokyo      Tokyo  35.6897  139.6922        Japan   JP  JPN        Tōkyō   \n",
       "1  Jakarta    Jakarta  -6.2146  106.8451    Indonesia   ID  IDN      Jakarta   \n",
       "2    Delhi      Delhi  28.6600   77.2300        India   IN  IND        Delhi   \n",
       "3   Mumbai     Mumbai  18.9667   72.8333        India   IN  IND  Mahārāshtra   \n",
       "4   Manila     Manila  14.5958  120.9772  Philippines   PH  PHL       Manila   \n",
       "\n",
       "   capital  population          id     area       density     radius  \n",
       "0  primary  37977000.0  1392685764  2194.07  17308.928156  26.427148  \n",
       "1  primary  34540000.0  1360771077  7062.50   4890.619469  47.413749  \n",
       "2    admin  29617000.0  1356872604  1484.00  19957.547170  21.734118  \n",
       "3    admin  23355000.0  1356226629  4355.00   5362.801378  37.232238  \n",
       "4  primary  23088000.0  1608618140  1474.82  15654.791771  21.666790  "
      ]
     },
     "execution_count": 40,
     "metadata": {},
     "output_type": "execute_result"
    }
   ],
   "source": [
    "cities.head()"
=======
    "B_homes.head()"
>>>>>>> Stashed changes
   ]
  },
  {
   "cell_type": "markdown",
   "metadata": {},
   "source": [
<<<<<<< Updated upstream
    "### Does user live in rural or urban area?\n",
    "\n",
    "  for each country:\n",
    "  \n",
    "    for each home location in that country:\n",
    "        is home location near city? calculate distance to city, \n",
    "        if distance < given radius, then yes\n",
    "\n"
   ]
  },
  {
   "cell_type": "code",
   "execution_count": 107,
   "metadata": {},
   "outputs": [],
   "source": [
    "# Take a subset for now\n",
    "B_homes = B_homes.sample(200, random_state=1)\n",
    "G_homes = G_homes.sample(200, random_state=1)"
   ]
  },
  {
   "cell_type": "code",
   "execution_count": 108,
   "metadata": {},
   "outputs": [],
   "source": [
    "# Create a huge dataframe with all cities per country to then check if a home location is close to a city\n",
    "B_merge = B_homes.merge(cities, left_on = 'country', right_on = 'iso2')\n",
    "G_merge = G_homes.merge(cities, left_on = 'country', right_on = 'iso2')"
   ]
  },
  {
   "cell_type": "code",
   "execution_count": 109,
   "metadata": {},
   "outputs": [],
   "source": [
    "B_merge['distance_to_city'] = B_merge.apply(lambda row: distance((row['latitude'], row['longitude']), (row['lat'],row['lng']) ).km, axis = 1)\n",
    "G_merge['distance_to_city'] = G_merge.apply(lambda row: distance((row['latitude'], row['longitude']), (row['lat'],row['lng']) ).km, axis = 1)\n"
=======
    "## Compare amount of friends for urban/ rural users"
>>>>>>> Stashed changes
   ]
  },
  {
   "cell_type": "code",
<<<<<<< Updated upstream
   "execution_count": 110,
   "metadata": {},
=======
   "execution_count": 73,
   "metadata": {
    "scrolled": true
   },
>>>>>>> Stashed changes
   "outputs": [
    {
     "data": {
      "text/html": [
       "<div>\n",
       "<style scoped>\n",
       "    .dataframe tbody tr th:only-of-type {\n",
       "        vertical-align: middle;\n",
       "    }\n",
       "\n",
       "    .dataframe tbody tr th {\n",
       "        vertical-align: top;\n",
       "    }\n",
       "\n",
       "    .dataframe thead th {\n",
       "        text-align: right;\n",
       "    }\n",
       "</style>\n",
       "<table border=\"1\" class=\"dataframe\">\n",
       "  <thead>\n",
       "    <tr style=\"text-align: right;\">\n",
       "      <th></th>\n",
<<<<<<< Updated upstream
       "      <th>longitude</th>\n",
       "      <th>latitude</th>\n",
       "      <th>country_x</th>\n",
       "      <th>user</th>\n",
       "      <th>city</th>\n",
       "      <th>city_ascii</th>\n",
       "      <th>lat</th>\n",
       "      <th>lng</th>\n",
       "      <th>country_y</th>\n",
       "      <th>iso2</th>\n",
       "      <th>iso3</th>\n",
       "      <th>admin_name</th>\n",
       "      <th>capital</th>\n",
       "      <th>population</th>\n",
       "      <th>id</th>\n",
       "      <th>area</th>\n",
       "      <th>density</th>\n",
       "      <th>radius</th>\n",
       "      <th>distance_to_city</th>\n",
=======
       "      <th colspan=\"16\" halign=\"left\">#_friends</th>\n",
       "    </tr>\n",
       "    <tr>\n",
       "      <th></th>\n",
       "      <th>count</th>\n",
       "      <th>mean</th>\n",
       "      <th>std</th>\n",
       "      <th>min</th>\n",
       "      <th>25%</th>\n",
       "      <th>50%</th>\n",
       "      <th>75%</th>\n",
       "      <th>max</th>\n",
       "      <th>count</th>\n",
       "      <th>mean</th>\n",
       "      <th>std</th>\n",
       "      <th>min</th>\n",
       "      <th>25%</th>\n",
       "      <th>50%</th>\n",
       "      <th>75%</th>\n",
       "      <th>max</th>\n",
       "    </tr>\n",
       "    <tr>\n",
       "      <th>lives_urban</th>\n",
       "      <th></th>\n",
       "      <th></th>\n",
       "      <th></th>\n",
       "      <th></th>\n",
       "      <th></th>\n",
       "      <th></th>\n",
       "      <th></th>\n",
       "      <th></th>\n",
       "      <th></th>\n",
       "      <th></th>\n",
       "      <th></th>\n",
       "      <th></th>\n",
       "      <th></th>\n",
       "      <th></th>\n",
       "      <th></th>\n",
       "      <th></th>\n",
>>>>>>> Stashed changes
       "    </tr>\n",
       "  </thead>\n",
       "  <tbody>\n",
       "    <tr>\n",
<<<<<<< Updated upstream
       "      <th>0</th>\n",
       "      <td>-116.203451</td>\n",
       "      <td>43.6135</td>\n",
       "      <td>US</td>\n",
       "      <td>18790</td>\n",
       "      <td>Los Angeles</td>\n",
       "      <td>Los Angeles</td>\n",
       "      <td>34.1139</td>\n",
       "      <td>-118.4068</td>\n",
       "      <td>United States</td>\n",
       "      <td>US</td>\n",
       "      <td>USA</td>\n",
       "      <td>California</td>\n",
       "      <td>NaN</td>\n",
       "      <td>12750807.0</td>\n",
       "      <td>1840020491</td>\n",
       "      <td>4850.00</td>\n",
       "      <td>2629.032371</td>\n",
       "      <td>39.291258</td>\n",
       "      <td>1071.665474</td>\n",
       "    </tr>\n",
       "    <tr>\n",
       "      <th>1</th>\n",
       "      <td>-116.203451</td>\n",
       "      <td>43.6135</td>\n",
       "      <td>US</td>\n",
       "      <td>18790</td>\n",
       "      <td>Dallas</td>\n",
       "      <td>Dallas</td>\n",
       "      <td>32.7936</td>\n",
       "      <td>-96.7662</td>\n",
       "      <td>United States</td>\n",
       "      <td>US</td>\n",
       "      <td>USA</td>\n",
       "      <td>Texas</td>\n",
       "      <td>NaN</td>\n",
       "      <td>5743938.0</td>\n",
       "      <td>1840019440</td>\n",
       "      <td>1407.20</td>\n",
       "      <td>4081.820637</td>\n",
       "      <td>21.164255</td>\n",
       "      <td>2074.975030</td>\n",
=======
       "      <th>False</th>\n",
       "      <td>345.0</td>\n",
       "      <td>7.539130</td>\n",
       "      <td>17.120276</td>\n",
       "      <td>1.0</td>\n",
       "      <td>1.0</td>\n",
       "      <td>2.0</td>\n",
       "      <td>6.0</td>\n",
       "      <td>142.0</td>\n",
       "      <td>345.0</td>\n",
       "      <td>7.539130</td>\n",
       "      <td>17.120276</td>\n",
       "      <td>1.0</td>\n",
       "      <td>1.0</td>\n",
       "      <td>2.0</td>\n",
       "      <td>6.0</td>\n",
       "      <td>142.0</td>\n",
       "    </tr>\n",
       "    <tr>\n",
       "      <th>True</th>\n",
       "      <td>155.0</td>\n",
       "      <td>7.748387</td>\n",
       "      <td>13.555367</td>\n",
       "      <td>1.0</td>\n",
       "      <td>1.0</td>\n",
       "      <td>2.0</td>\n",
       "      <td>8.0</td>\n",
       "      <td>85.0</td>\n",
       "      <td>155.0</td>\n",
       "      <td>7.748387</td>\n",
       "      <td>13.555367</td>\n",
       "      <td>1.0</td>\n",
       "      <td>1.0</td>\n",
       "      <td>2.0</td>\n",
       "      <td>8.0</td>\n",
       "      <td>85.0</td>\n",
>>>>>>> Stashed changes
       "    </tr>\n",
       "  </tbody>\n",
       "</table>\n",
       "</div>"
      ],
      "text/plain": [
       "            #_friends                                                         \\\n",
       "                count      mean        std  min  25%  50%  75%    max  count   \n",
       "lives_urban                                                                    \n",
       "False           345.0  7.539130  17.120276  1.0  1.0  2.0  6.0  142.0  345.0   \n",
       "True            155.0  7.748387  13.555367  1.0  1.0  2.0  8.0   85.0  155.0   \n",
       "\n",
       "                                                             \n",
       "                 mean        std  min  25%  50%  75%    max  \n",
       "lives_urban                                                  \n",
       "False        7.539130  17.120276  1.0  1.0  2.0  6.0  142.0  \n",
       "True         7.748387  13.555367  1.0  1.0  2.0  8.0   85.0  "
      ]
     },
     "execution_count": 73,
     "metadata": {},
     "output_type": "execute_result"
    }
   ],
   "source": [
    "B_homes.groupby('lives_urban')['#_friends'].describe()"
   ]
  },
  {
   "cell_type": "code",
   "execution_count": 74,
   "metadata": {},
   "outputs": [
    {
     "data": {
      "text/html": [
       "<div>\n",
       "<style scoped>\n",
       "    .dataframe tbody tr th:only-of-type {\n",
       "        vertical-align: middle;\n",
       "    }\n",
       "\n",
       "    .dataframe tbody tr th {\n",
       "        vertical-align: top;\n",
       "    }\n",
       "\n",
       "    .dataframe thead tr th {\n",
       "        text-align: left;\n",
       "    }\n",
       "\n",
       "    .dataframe thead tr:last-of-type th {\n",
       "        text-align: right;\n",
       "    }\n",
       "</style>\n",
       "<table border=\"1\" class=\"dataframe\">\n",
       "  <thead>\n",
       "    <tr>\n",
<<<<<<< Updated upstream
       "      <th>2</th>\n",
       "      <td>-116.203451</td>\n",
       "      <td>43.6135</td>\n",
       "      <td>US</td>\n",
       "      <td>18790</td>\n",
       "      <td>Philadelphia</td>\n",
       "      <td>Philadelphia</td>\n",
       "      <td>40.0077</td>\n",
       "      <td>-75.1339</td>\n",
       "      <td>United States</td>\n",
       "      <td>US</td>\n",
       "      <td>USA</td>\n",
       "      <td>Pennsylvania</td>\n",
       "      <td>NaN</td>\n",
       "      <td>5649300.0</td>\n",
       "      <td>1840000673</td>\n",
       "      <td>142.70</td>\n",
       "      <td>39588.647512</td>\n",
       "      <td>6.739645</td>\n",
       "      <td>3401.119974</td>\n",
       "    </tr>\n",
       "    <tr>\n",
       "      <th>3</th>\n",
       "      <td>-116.203451</td>\n",
       "      <td>43.6135</td>\n",
       "      <td>US</td>\n",
       "      <td>18790</td>\n",
       "      <td>Houston</td>\n",
       "      <td>Houston</td>\n",
       "      <td>29.7863</td>\n",
       "      <td>-95.3889</td>\n",
       "      <td>United States</td>\n",
       "      <td>US</td>\n",
       "      <td>USA</td>\n",
       "      <td>Texas</td>\n",
       "      <td>NaN</td>\n",
       "      <td>5464251.0</td>\n",
       "      <td>1840020925</td>\n",
       "      <td>1062.00</td>\n",
       "      <td>5145.245763</td>\n",
       "      <td>18.386003</td>\n",
       "      <td>2399.046326</td>\n",
       "    </tr>\n",
       "    <tr>\n",
       "      <th>4</th>\n",
       "      <td>-116.203451</td>\n",
       "      <td>43.6135</td>\n",
       "      <td>US</td>\n",
       "      <td>18790</td>\n",
       "      <td>San Diego</td>\n",
       "      <td>San Diego</td>\n",
       "      <td>32.8312</td>\n",
       "      <td>-117.1225</td>\n",
       "      <td>United States</td>\n",
       "      <td>US</td>\n",
       "      <td>USA</td>\n",
       "      <td>California</td>\n",
       "      <td>NaN</td>\n",
       "      <td>3220118.0</td>\n",
       "      <td>1840021990</td>\n",
       "      <td>372.42</td>\n",
       "      <td>8646.469040</td>\n",
       "      <td>10.887836</td>\n",
       "      <td>1199.531108</td>\n",
=======
       "      <th></th>\n",
       "      <th colspan=\"16\" halign=\"left\">#_friends</th>\n",
       "    </tr>\n",
       "    <tr>\n",
       "      <th></th>\n",
       "      <th>count</th>\n",
       "      <th>mean</th>\n",
       "      <th>std</th>\n",
       "      <th>min</th>\n",
       "      <th>25%</th>\n",
       "      <th>50%</th>\n",
       "      <th>75%</th>\n",
       "      <th>max</th>\n",
       "      <th>count</th>\n",
       "      <th>mean</th>\n",
       "      <th>std</th>\n",
       "      <th>min</th>\n",
       "      <th>25%</th>\n",
       "      <th>50%</th>\n",
       "      <th>75%</th>\n",
       "      <th>max</th>\n",
       "    </tr>\n",
       "    <tr>\n",
       "      <th>lives_urban</th>\n",
       "      <th></th>\n",
       "      <th></th>\n",
       "      <th></th>\n",
       "      <th></th>\n",
       "      <th></th>\n",
       "      <th></th>\n",
       "      <th></th>\n",
       "      <th></th>\n",
       "      <th></th>\n",
       "      <th></th>\n",
       "      <th></th>\n",
       "      <th></th>\n",
       "      <th></th>\n",
       "      <th></th>\n",
       "      <th></th>\n",
       "      <th></th>\n",
       "    </tr>\n",
       "  </thead>\n",
       "  <tbody>\n",
       "    <tr>\n",
       "      <th>False</th>\n",
       "      <td>354.0</td>\n",
       "      <td>10.771186</td>\n",
       "      <td>18.083569</td>\n",
       "      <td>1.0</td>\n",
       "      <td>2.0</td>\n",
       "      <td>4.5</td>\n",
       "      <td>10.0</td>\n",
       "      <td>146.0</td>\n",
       "      <td>354.0</td>\n",
       "      <td>10.771186</td>\n",
       "      <td>18.083569</td>\n",
       "      <td>1.0</td>\n",
       "      <td>2.0</td>\n",
       "      <td>4.5</td>\n",
       "      <td>10.0</td>\n",
       "      <td>146.0</td>\n",
       "    </tr>\n",
       "    <tr>\n",
       "      <th>True</th>\n",
       "      <td>146.0</td>\n",
       "      <td>11.219178</td>\n",
       "      <td>25.487115</td>\n",
       "      <td>1.0</td>\n",
       "      <td>2.0</td>\n",
       "      <td>4.0</td>\n",
       "      <td>9.0</td>\n",
       "      <td>252.0</td>\n",
       "      <td>146.0</td>\n",
       "      <td>11.219178</td>\n",
       "      <td>25.487115</td>\n",
       "      <td>1.0</td>\n",
       "      <td>2.0</td>\n",
       "      <td>4.0</td>\n",
       "      <td>9.0</td>\n",
       "      <td>252.0</td>\n",
>>>>>>> Stashed changes
       "    </tr>\n",
       "  </tbody>\n",
       "</table>\n",
       "</div>"
      ],
      "text/plain": [
<<<<<<< Updated upstream
       "    longitude  latitude country_x   user          city    city_ascii      lat  \\\n",
       "0 -116.203451   43.6135        US  18790   Los Angeles   Los Angeles  34.1139   \n",
       "1 -116.203451   43.6135        US  18790        Dallas        Dallas  32.7936   \n",
       "2 -116.203451   43.6135        US  18790  Philadelphia  Philadelphia  40.0077   \n",
       "3 -116.203451   43.6135        US  18790       Houston       Houston  29.7863   \n",
       "4 -116.203451   43.6135        US  18790     San Diego     San Diego  32.8312   \n",
       "\n",
       "        lng      country_y iso2 iso3    admin_name capital  population  \\\n",
       "0 -118.4068  United States   US  USA    California     NaN  12750807.0   \n",
       "1  -96.7662  United States   US  USA         Texas     NaN   5743938.0   \n",
       "2  -75.1339  United States   US  USA  Pennsylvania     NaN   5649300.0   \n",
       "3  -95.3889  United States   US  USA         Texas     NaN   5464251.0   \n",
       "4 -117.1225  United States   US  USA    California     NaN   3220118.0   \n",
       "\n",
       "           id     area       density     radius  distance_to_city  \n",
       "0  1840020491  4850.00   2629.032371  39.291258       1071.665474  \n",
       "1  1840019440  1407.20   4081.820637  21.164255       2074.975030  \n",
       "2  1840000673   142.70  39588.647512   6.739645       3401.119974  \n",
       "3  1840020925  1062.00   5145.245763  18.386003       2399.046326  \n",
       "4  1840021990   372.42   8646.469040  10.887836       1199.531108  "
      ]
     },
     "execution_count": 110,
=======
       "            #_friends                                                    \\\n",
       "                count       mean        std  min  25%  50%   75%    max   \n",
       "lives_urban                                                               \n",
       "False           354.0  10.771186  18.083569  1.0  2.0  4.5  10.0  146.0   \n",
       "True            146.0  11.219178  25.487115  1.0  2.0  4.0   9.0  252.0   \n",
       "\n",
       "                                                                      \n",
       "             count       mean        std  min  25%  50%   75%    max  \n",
       "lives_urban                                                           \n",
       "False        354.0  10.771186  18.083569  1.0  2.0  4.5  10.0  146.0  \n",
       "True         146.0  11.219178  25.487115  1.0  2.0  4.0   9.0  252.0  "
      ]
     },
     "execution_count": 74,
>>>>>>> Stashed changes
     "metadata": {},
     "output_type": "execute_result"
    }
   ],
   "source": [
<<<<<<< Updated upstream
    "B_merge.head()"
=======
    "G_homes.groupby('lives_urban')['#_friends'].describe()"
>>>>>>> Stashed changes
   ]
  },
  {
   "cell_type": "code",
<<<<<<< Updated upstream
   "execution_count": 111,
=======
   "execution_count": 75,
>>>>>>> Stashed changes
   "metadata": {},
   "outputs": [],
   "source": [
    "B_lives_urban = B_merge.groupby(\"user\").apply(lambda x: (x['distance_to_city'] < x['radius']).any()).to_frame()\n",
    "B_lives_urban = B_lives_urban.rename(columns = {0:'lives_urban'})\n",
    "\n",
    "G_lives_urban = G_merge.groupby(\"user\").apply(lambda x: (x['distance_to_city'] < x['radius']).any()).to_frame()\n",
    "G_lives_urban = G_lives_urban.rename(columns = {0:'lives_urban'})"
   ]
  },
  {
   "cell_type": "code",
   "execution_count": 112,
   "metadata": {},
   "outputs": [],
   "source": [
    "# Integrate the 'lives_urban' variable into the home location datasets\n",
    "B_homes = B_homes.merge(B_lives_urban, left_on = 'user', right_index = True)\n",
    "G_homes = G_homes.merge(G_lives_urban, left_on = 'user', right_index = True)"
   ]
  },
  {
   "cell_type": "code",
   "execution_count": 113,
   "metadata": {},
   "outputs": [
    {
     "data": {
<<<<<<< Updated upstream
      "text/html": [
       "<div>\n",
       "<style scoped>\n",
       "    .dataframe tbody tr th:only-of-type {\n",
       "        vertical-align: middle;\n",
       "    }\n",
       "\n",
       "    .dataframe tbody tr th {\n",
       "        vertical-align: top;\n",
       "    }\n",
       "\n",
       "    .dataframe thead th {\n",
       "        text-align: right;\n",
       "    }\n",
       "</style>\n",
       "<table border=\"1\" class=\"dataframe\">\n",
       "  <thead>\n",
       "    <tr style=\"text-align: right;\">\n",
       "      <th></th>\n",
       "      <th>longitude</th>\n",
       "      <th>latitude</th>\n",
       "      <th>country</th>\n",
       "      <th>user</th>\n",
       "      <th>lives_urban</th>\n",
       "    </tr>\n",
       "    <tr>\n",
       "      <th>user_id</th>\n",
       "      <th></th>\n",
       "      <th></th>\n",
       "      <th></th>\n",
       "      <th></th>\n",
       "      <th></th>\n",
       "    </tr>\n",
       "  </thead>\n",
       "  <tbody>\n",
       "    <tr>\n",
       "      <th>76280</th>\n",
       "      <td>-117.886019</td>\n",
       "      <td>33.801853</td>\n",
       "      <td>US</td>\n",
       "      <td>76280</td>\n",
       "      <td>False</td>\n",
       "    </tr>\n",
       "    <tr>\n",
       "      <th>186772</th>\n",
       "      <td>17.227778</td>\n",
       "      <td>62.410301</td>\n",
       "      <td>SE</td>\n",
       "      <td>186772</td>\n",
       "      <td>False</td>\n",
       "    </tr>\n",
       "    <tr>\n",
       "      <th>55115</th>\n",
       "      <td>-121.305415</td>\n",
       "      <td>44.064791</td>\n",
       "      <td>US</td>\n",
       "      <td>55115</td>\n",
       "      <td>False</td>\n",
       "    </tr>\n",
       "    <tr>\n",
       "      <th>28361</th>\n",
       "      <td>-86.806300</td>\n",
       "      <td>33.482397</td>\n",
       "      <td>US</td>\n",
       "      <td>28361</td>\n",
       "      <td>True</td>\n",
       "    </tr>\n",
       "    <tr>\n",
       "      <th>132303</th>\n",
       "      <td>11.984316</td>\n",
       "      <td>57.693889</td>\n",
       "      <td>SE</td>\n",
       "      <td>132303</td>\n",
       "      <td>False</td>\n",
       "    </tr>\n",
       "  </tbody>\n",
       "</table>\n",
       "</div>"
      ],
      "text/plain": [
       "          longitude   latitude country    user  lives_urban\n",
       "user_id                                                    \n",
       "76280   -117.886019  33.801853      US   76280        False\n",
       "186772    17.227778  62.410301      SE  186772        False\n",
       "55115   -121.305415  44.064791      US   55115        False\n",
       "28361    -86.806300  33.482397      US   28361         True\n",
       "132303    11.984316  57.693889      SE  132303        False"
      ]
     },
     "execution_count": 113,
     "metadata": {},
     "output_type": "execute_result"
    }
   ],
   "source": [
    "B_homes.head()\n",
    "G_homes.head()"
   ]
  },
  {
   "cell_type": "markdown",
   "metadata": {},
   "source": [
    "## calculate # friends per user, group by rural/city and compare amount of friends\n"
   ]
  },
  {
   "cell_type": "code",
   "execution_count": 114,
   "metadata": {},
   "outputs": [],
   "source": [
    "B_friends = B_edges.groupby('from_id').count()\n",
    "G_friends = G_edges.groupby('from_id').count()"
   ]
  },
  {
   "cell_type": "code",
   "execution_count": 115,
   "metadata": {},
   "outputs": [],
   "source": [
    "B_homes = B_homes.merge(B_friends, left_on = 'user', right_index = True).rename(columns = {'to_id':'#_friends'})\n",
    "G_homes = G_homes.merge(G_friends, left_on = 'user', right_index = True).rename(columns = {'to_id':'#_friends'})"
   ]
  },
  {
   "cell_type": "code",
   "execution_count": 116,
   "metadata": {},
   "outputs": [
    {
     "data": {
      "text/html": [
       "<div>\n",
       "<style scoped>\n",
       "    .dataframe tbody tr th:only-of-type {\n",
       "        vertical-align: middle;\n",
       "    }\n",
       "\n",
       "    .dataframe tbody tr th {\n",
       "        vertical-align: top;\n",
       "    }\n",
       "\n",
       "    .dataframe thead th {\n",
       "        text-align: right;\n",
       "    }\n",
       "</style>\n",
       "<table border=\"1\" class=\"dataframe\">\n",
       "  <thead>\n",
       "    <tr style=\"text-align: right;\">\n",
       "      <th></th>\n",
       "      <th>longitude</th>\n",
       "      <th>latitude</th>\n",
       "      <th>country</th>\n",
       "      <th>user</th>\n",
       "      <th>lives_urban</th>\n",
       "      <th>#_friends</th>\n",
       "    </tr>\n",
       "    <tr>\n",
       "      <th>user_id</th>\n",
       "      <th></th>\n",
       "      <th></th>\n",
       "      <th></th>\n",
       "      <th></th>\n",
       "      <th></th>\n",
       "      <th></th>\n",
       "    </tr>\n",
       "  </thead>\n",
       "  <tbody>\n",
       "    <tr>\n",
       "      <th>18790</th>\n",
       "      <td>-116.203451</td>\n",
       "      <td>43.613500</td>\n",
       "      <td>US</td>\n",
       "      <td>18790</td>\n",
       "      <td>True</td>\n",
       "      <td>1</td>\n",
       "    </tr>\n",
       "    <tr>\n",
       "      <th>50434</th>\n",
       "      <td>-2.966667</td>\n",
       "      <td>56.500000</td>\n",
       "      <td>GB</td>\n",
       "      <td>50434</td>\n",
       "      <td>False</td>\n",
       "      <td>2</td>\n",
       "    </tr>\n",
       "    <tr>\n",
       "      <th>52196</th>\n",
       "      <td>145.133333</td>\n",
       "      <td>-37.916667</td>\n",
       "      <td>AU</td>\n",
       "      <td>52196</td>\n",
       "      <td>False</td>\n",
       "      <td>1</td>\n",
       "    </tr>\n",
       "    <tr>\n",
       "      <th>26515</th>\n",
       "      <td>139.550000</td>\n",
       "      <td>35.683333</td>\n",
       "      <td>JP</td>\n",
       "      <td>26515</td>\n",
       "      <td>True</td>\n",
       "      <td>8</td>\n",
       "    </tr>\n",
       "    <tr>\n",
       "      <th>25999</th>\n",
       "      <td>139.678110</td>\n",
       "      <td>35.640909</td>\n",
       "      <td>JP</td>\n",
       "      <td>25999</td>\n",
       "      <td>True</td>\n",
       "      <td>10</td>\n",
       "    </tr>\n",
       "  </tbody>\n",
       "</table>\n",
       "</div>"
      ],
      "text/plain": [
       "          longitude   latitude country   user  lives_urban  #_friends\n",
       "user_id                                                              \n",
       "18790   -116.203451  43.613500      US  18790         True          1\n",
       "50434     -2.966667  56.500000      GB  50434        False          2\n",
       "52196    145.133333 -37.916667      AU  52196        False          1\n",
       "26515    139.550000  35.683333      JP  26515         True          8\n",
       "25999    139.678110  35.640909      JP  25999         True         10"
      ]
     },
     "execution_count": 116,
=======
      "image/png": "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\n",
      "text/plain": [
       "<Figure size 576x432 with 1 Axes>"
      ]
     },
     "metadata": {
      "needs_background": "light"
     },
     "output_type": "display_data"
    }
   ],
   "source": [
    "B_urban = B_homes[B_homes['lives_urban'] == True]\n",
    "B_rural = B_homes[B_homes['lives_urban'] == False]\n",
    "\n",
    "plt.figure(figsize=(8,6))\n",
    "sns.distplot(B_rural['#_friends'], label='rural')\n",
    "sns.distplot(B_urban['#_friends'], label='urban')\n",
    "plt.xlim(0,400)\n",
    "plt.legend();"
   ]
  },
  {
   "cell_type": "code",
   "execution_count": 76,
   "metadata": {},
   "outputs": [
    {
     "data": {
      "image/png": "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\n",
      "text/plain": [
       "<Figure size 576x432 with 1 Axes>"
      ]
     },
     "metadata": {
      "needs_background": "light"
     },
     "output_type": "display_data"
    }
   ],
   "source": [
    "G_urban = G_homes[G_homes['lives_urban'] == True]\n",
    "G_rural = G_homes[G_homes['lives_urban'] == False]\n",
    "\n",
    "plt.figure(figsize=(8,6))\n",
    "sns.distplot(G_rural['#_friends'], label='rural')\n",
    "sns.distplot(G_urban['#_friends'], label='urban')\n",
    "plt.xlim(0,400)\n",
    "plt.legend();"
   ]
  },
  {
   "cell_type": "markdown",
   "metadata": {},
   "source": [
    "# TODO"
   ]
  },
  {
   "cell_type": "markdown",
   "metadata": {},
   "source": [
    "## Test statistcally whether there is a difference in amount of friends\n",
    "\n",
    "- find out distribution\n",
    "- do GLM"
   ]
  },
  {
   "cell_type": "code",
   "execution_count": 48,
   "metadata": {},
   "outputs": [
    {
     "data": {
      "text/plain": [
       "8.663730306623751"
      ]
     },
     "execution_count": 48,
>>>>>>> Stashed changes
     "metadata": {},
     "output_type": "execute_result"
    }
   ],
   "source": [
<<<<<<< Updated upstream
    "B_homes.head()"
=======
    "# estimate mu for possibly poisson dist\n",
    "mus = B_homes.groupby('lives_urban')['#_friends'].mean()\n",
    "mus[1]"
>>>>>>> Stashed changes
   ]
  },
  {
   "cell_type": "code",
   "execution_count": 61,
   "metadata": {},
   "outputs": [
    {
     "data": {
      "image/png": "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\n",
      "text/plain": [
       "<Figure size 432x288 with 1 Axes>"
      ]
     },
     "metadata": {
      "needs_background": "light"
     },
     "output_type": "display_data"
    }
   ],
   "source": [
<<<<<<< Updated upstream
    "## Compare amount of friends for urban/ rural users"
   ]
  },
  {
   "cell_type": "code",
   "execution_count": 121,
   "metadata": {
    "scrolled": true
   },
   "outputs": [
    {
     "data": {
      "text/html": [
       "<div>\n",
       "<style scoped>\n",
       "    .dataframe tbody tr th:only-of-type {\n",
       "        vertical-align: middle;\n",
       "    }\n",
       "\n",
       "    .dataframe tbody tr th {\n",
       "        vertical-align: top;\n",
       "    }\n",
       "\n",
       "    .dataframe thead th {\n",
       "        text-align: right;\n",
       "    }\n",
       "</style>\n",
       "<table border=\"1\" class=\"dataframe\">\n",
       "  <thead>\n",
       "    <tr style=\"text-align: right;\">\n",
       "      <th></th>\n",
       "      <th>count</th>\n",
       "      <th>mean</th>\n",
       "      <th>std</th>\n",
       "      <th>min</th>\n",
       "      <th>25%</th>\n",
       "      <th>50%</th>\n",
       "      <th>75%</th>\n",
       "      <th>max</th>\n",
       "    </tr>\n",
       "    <tr>\n",
       "      <th>lives_urban</th>\n",
       "      <th></th>\n",
       "      <th></th>\n",
       "      <th></th>\n",
       "      <th></th>\n",
       "      <th></th>\n",
       "      <th></th>\n",
       "      <th></th>\n",
       "      <th></th>\n",
       "    </tr>\n",
       "  </thead>\n",
       "  <tbody>\n",
       "    <tr>\n",
       "      <th>False</th>\n",
       "      <td>124.0</td>\n",
       "      <td>7.766129</td>\n",
       "      <td>12.498526</td>\n",
       "      <td>1.0</td>\n",
       "      <td>1.0</td>\n",
       "      <td>3.0</td>\n",
       "      <td>8.0</td>\n",
       "      <td>80.0</td>\n",
       "    </tr>\n",
       "    <tr>\n",
       "      <th>True</th>\n",
       "      <td>70.0</td>\n",
       "      <td>10.514286</td>\n",
       "      <td>23.798516</td>\n",
       "      <td>1.0</td>\n",
       "      <td>1.0</td>\n",
       "      <td>2.0</td>\n",
       "      <td>8.0</td>\n",
       "      <td>138.0</td>\n",
       "    </tr>\n",
       "  </tbody>\n",
       "</table>\n",
       "</div>"
      ],
      "text/plain": [
       "             count       mean        std  min  25%  50%  75%    max\n",
       "lives_urban                                                        \n",
       "False        124.0   7.766129  12.498526  1.0  1.0  3.0  8.0   80.0\n",
       "True          70.0  10.514286  23.798516  1.0  1.0  2.0  8.0  138.0"
      ]
     },
     "execution_count": 121,
     "metadata": {},
     "output_type": "execute_result"
    }
   ],
   "source": [
    "B_homes.groupby('lives_urban')['#_friends'].describe()"
   ]
  },
  {
   "cell_type": "code",
   "execution_count": 134,
   "metadata": {},
   "outputs": [
    {
     "data": {
      "text/html": [
       "<div>\n",
       "<style scoped>\n",
       "    .dataframe tbody tr th:only-of-type {\n",
       "        vertical-align: middle;\n",
       "    }\n",
       "\n",
       "    .dataframe tbody tr th {\n",
       "        vertical-align: top;\n",
       "    }\n",
       "\n",
       "    .dataframe thead th {\n",
       "        text-align: right;\n",
       "    }\n",
       "</style>\n",
       "<table border=\"1\" class=\"dataframe\">\n",
       "  <thead>\n",
       "    <tr style=\"text-align: right;\">\n",
       "      <th></th>\n",
       "      <th>count</th>\n",
       "      <th>mean</th>\n",
       "      <th>std</th>\n",
       "      <th>min</th>\n",
       "      <th>25%</th>\n",
       "      <th>50%</th>\n",
       "      <th>75%</th>\n",
       "      <th>max</th>\n",
       "    </tr>\n",
       "    <tr>\n",
       "      <th>lives_urban</th>\n",
       "      <th></th>\n",
       "      <th></th>\n",
       "      <th></th>\n",
       "      <th></th>\n",
       "      <th></th>\n",
       "      <th></th>\n",
       "      <th></th>\n",
       "      <th></th>\n",
       "    </tr>\n",
       "  </thead>\n",
       "  <tbody>\n",
       "    <tr>\n",
       "      <th>False</th>\n",
       "      <td>135.0</td>\n",
       "      <td>9.496296</td>\n",
       "      <td>18.786258</td>\n",
       "      <td>1.0</td>\n",
       "      <td>2.0</td>\n",
       "      <td>4.0</td>\n",
       "      <td>9.0</td>\n",
       "      <td>150.0</td>\n",
       "    </tr>\n",
       "    <tr>\n",
       "      <th>True</th>\n",
       "      <td>54.0</td>\n",
       "      <td>17.685185</td>\n",
       "      <td>45.777074</td>\n",
       "      <td>1.0</td>\n",
       "      <td>2.0</td>\n",
       "      <td>5.0</td>\n",
       "      <td>10.0</td>\n",
       "      <td>317.0</td>\n",
       "    </tr>\n",
       "  </tbody>\n",
       "</table>\n",
       "</div>"
      ],
      "text/plain": [
       "             count       mean        std  min  25%  50%   75%    max\n",
       "lives_urban                                                         \n",
       "False        135.0   9.496296  18.786258  1.0  2.0  4.0   9.0  150.0\n",
       "True          54.0  17.685185  45.777074  1.0  2.0  5.0  10.0  317.0"
      ]
     },
     "execution_count": 134,
     "metadata": {},
     "output_type": "execute_result"
    }
   ],
   "source": [
    "G_homes.groupby('lives_urban')['#_friends'].describe()"
   ]
  },
  {
   "cell_type": "code",
   "execution_count": 133,
   "metadata": {},
   "outputs": [
    {
     "data": {
      "image/png": "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\n",
      "text/plain": [
       "<Figure size 576x432 with 1 Axes>"
      ]
     },
     "metadata": {
      "needs_background": "light"
     },
     "output_type": "display_data"
    }
   ],
   "source": [
    "B_urban = B_homes[B_homes['lives_urban'] == True]\n",
    "B_rural = B_homes[B_homes['lives_urban'] == False]\n",
    "\n",
    "plt.figure(figsize=(8,6))\n",
    "sns.distplot(B_rural['#_friends'], label='rural')\n",
    "sns.distplot(B_urban['#_friends'], label='urban')\n",
    "plt.legend();"
   ]
  },
  {
   "cell_type": "code",
   "execution_count": 135,
   "metadata": {},
   "outputs": [
    {
     "data": {
      "image/png": "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\n",
      "text/plain": [
       "<Figure size 576x432 with 1 Axes>"
      ]
     },
     "metadata": {
      "needs_background": "light"
     },
     "output_type": "display_data"
    }
   ],
   "source": [
    "G_urban = G_homes[G_homes['lives_urban'] == True]\n",
    "G_rural = G_homes[G_homes['lives_urban'] == False]\n",
    "\n",
    "plt.figure(figsize=(8,6))\n",
    "sns.distplot(G_rural['#_friends'], label='rural')\n",
    "sns.distplot(G_urban['#_friends'], label='urban')\n",
    "plt.legend();"
=======
    "# Check for normality with qq plots\n",
    "probplot(B_rural['#_friends'], dist=stats.expon, plot=pylab);\n",
    "probplot(B_urban['#_friends'], dist=stats.expon, plot=pylab);\n",
    "# No normality, but skewed distribution"
>>>>>>> Stashed changes
   ]
  },
  {
   "cell_type": "code",
   "execution_count": null,
   "metadata": {},
   "outputs": [],
   "source": []
  }
 ],
 "metadata": {
  "kernelspec": {
   "display_name": "Python 3",
   "language": "python",
   "name": "python3"
  },
  "language_info": {
   "codemirror_mode": {
    "name": "ipython",
    "version": 3
   },
   "file_extension": ".py",
   "mimetype": "text/x-python",
   "name": "python",
   "nbconvert_exporter": "python",
   "pygments_lexer": "ipython3",
   "version": "3.8.3"
  }
 },
 "nbformat": 4,
 "nbformat_minor": 4
}
