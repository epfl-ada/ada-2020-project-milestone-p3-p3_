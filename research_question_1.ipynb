{
 "cells": [
  {
   "cell_type": "markdown",
   "metadata": {},
   "source": [
    "## Research question 1:"
   ]
  },
  {
   "cell_type": "markdown",
   "metadata": {},
   "source": [
    "1. Are inhabitants of cities more likely to have more friends than individuals living in rural areas?"
   ]
  },
  {
   "cell_type": "markdown",
   "metadata": {},
   "source": [
    "Plan to answer this question:\n",
    "\n",
    "- how many people define a city? Drop cities with less inhabitants, less population density\n",
    "- convert area to radius\n",
    "- for each country:\n",
    "    for each home location in that country:\n",
    "        is home location near city? calculate distance to city, \n",
    "        if distance < given radius, then yes\n",
    "- calculate # friends per user, group by rural/city and compare amount of friends"
   ]
  },
  {
   "cell_type": "markdown",
   "metadata": {},
   "source": [
    "### Libraries"
   ]
  },
  {
   "cell_type": "code",
   "execution_count": 8,
   "metadata": {},
   "outputs": [],
   "source": [
    "import pandas as pd\n",
    "import numpy as np\n",
    "import seaborn as sns\n",
    "import scipy.stats as stats\n",
    "import matplotlib.pyplot as plt\n",
    "from poisson_etest import poisson_etest\n",
    "from sklearn.linear_model import LinearRegression\n",
    "from geopy.distance import distance\n",
    "from functions import load_data"
   ]
  },
  {
   "cell_type": "markdown",
   "metadata": {},
   "source": [
    "### Load the data\n"
   ]
  },
  {
   "cell_type": "markdown",
   "metadata": {},
   "source": [
    "#### Load home locations"
   ]
  },
  {
   "cell_type": "code",
   "execution_count": 38,
   "metadata": {},
   "outputs": [
    {
     "data": {
      "text/html": [
       "<div>\n",
       "<style scoped>\n",
       "    .dataframe tbody tr th:only-of-type {\n",
       "        vertical-align: middle;\n",
       "    }\n",
       "\n",
       "    .dataframe tbody tr th {\n",
       "        vertical-align: top;\n",
       "    }\n",
       "\n",
       "    .dataframe thead th {\n",
       "        text-align: right;\n",
       "    }\n",
       "</style>\n",
       "<table border=\"1\" class=\"dataframe\">\n",
       "  <thead>\n",
       "    <tr style=\"text-align: right;\">\n",
       "      <th></th>\n",
       "      <th>longitude</th>\n",
       "      <th>latitude</th>\n",
       "      <th>country</th>\n",
       "      <th>user</th>\n",
       "    </tr>\n",
       "    <tr>\n",
       "      <th>user_id</th>\n",
       "      <th></th>\n",
       "      <th></th>\n",
       "      <th></th>\n",
       "      <th></th>\n",
       "    </tr>\n",
       "  </thead>\n",
       "  <tbody>\n",
       "    <tr>\n",
       "      <th>18790</th>\n",
       "      <td>-116.203451</td>\n",
       "      <td>43.613500</td>\n",
       "      <td>US</td>\n",
       "      <td>18790</td>\n",
       "    </tr>\n",
       "    <tr>\n",
       "      <th>50434</th>\n",
       "      <td>-2.966667</td>\n",
       "      <td>56.500000</td>\n",
       "      <td>GB</td>\n",
       "      <td>50434</td>\n",
       "    </tr>\n",
       "    <tr>\n",
       "      <th>52196</th>\n",
       "      <td>145.133333</td>\n",
       "      <td>-37.916667</td>\n",
       "      <td>AU</td>\n",
       "      <td>52196</td>\n",
       "    </tr>\n",
       "    <tr>\n",
       "      <th>26515</th>\n",
       "      <td>139.550000</td>\n",
       "      <td>35.683333</td>\n",
       "      <td>JP</td>\n",
       "      <td>26515</td>\n",
       "    </tr>\n",
       "    <tr>\n",
       "      <th>25999</th>\n",
       "      <td>139.678110</td>\n",
       "      <td>35.640909</td>\n",
       "      <td>JP</td>\n",
       "      <td>25999</td>\n",
       "    </tr>\n",
       "    <tr>\n",
       "      <th>...</th>\n",
       "      <td>...</td>\n",
       "      <td>...</td>\n",
       "      <td>...</td>\n",
       "      <td>...</td>\n",
       "    </tr>\n",
       "    <tr>\n",
       "      <th>41351</th>\n",
       "      <td>2.173334</td>\n",
       "      <td>41.417957</td>\n",
       "      <td>ES</td>\n",
       "      <td>41351</td>\n",
       "    </tr>\n",
       "    <tr>\n",
       "      <th>45722</th>\n",
       "      <td>138.000000</td>\n",
       "      <td>36.000000</td>\n",
       "      <td>JP</td>\n",
       "      <td>45722</td>\n",
       "    </tr>\n",
       "    <tr>\n",
       "      <th>39982</th>\n",
       "      <td>-94.838368</td>\n",
       "      <td>29.287577</td>\n",
       "      <td>US</td>\n",
       "      <td>39982</td>\n",
       "    </tr>\n",
       "    <tr>\n",
       "      <th>53342</th>\n",
       "      <td>139.765592</td>\n",
       "      <td>35.672223</td>\n",
       "      <td>JP</td>\n",
       "      <td>53342</td>\n",
       "    </tr>\n",
       "    <tr>\n",
       "      <th>20558</th>\n",
       "      <td>-118.406602</td>\n",
       "      <td>34.123246</td>\n",
       "      <td>US</td>\n",
       "      <td>20558</td>\n",
       "    </tr>\n",
       "  </tbody>\n",
       "</table>\n",
       "<p>4000 rows × 4 columns</p>\n",
       "</div>"
      ],
      "text/plain": [
       "          longitude   latitude country   user\n",
       "user_id                                      \n",
       "18790   -116.203451  43.613500      US  18790\n",
       "50434     -2.966667  56.500000      GB  50434\n",
       "52196    145.133333 -37.916667      AU  52196\n",
       "26515    139.550000  35.683333      JP  26515\n",
       "25999    139.678110  35.640909      JP  25999\n",
       "...             ...        ...     ...    ...\n",
       "41351      2.173334  41.417957      ES  41351\n",
       "45722    138.000000  36.000000      JP  45722\n",
       "39982    -94.838368  29.287577      US  39982\n",
       "53342    139.765592  35.672223      JP  53342\n",
       "20558   -118.406602  34.123246      US  20558\n",
       "\n",
       "[4000 rows x 4 columns]"
      ]
     },
     "execution_count": 38,
     "metadata": {},
     "output_type": "execute_result"
    }
   ],
   "source": [
    "B_homes"
   ]
  },
  {
   "cell_type": "code",
   "execution_count": 9,
   "metadata": {},
   "outputs": [],
   "source": [
    "B_homes = pd.read_pickle(\"B_homes.pickle\")\n",
    "G_homes = pd.read_pickle(\"G_homes.pickle\")\n",
    "\n",
    "B_homes.columns = B_homes.columns.droplevel(1)\n",
    "G_homes.columns = G_homes.columns.droplevel(1)"
   ]
  },
  {
   "cell_type": "code",
   "execution_count": 10,
   "metadata": {},
   "outputs": [],
   "source": [
    "# Introduce a unique index per user\n",
    "B_homes['user'] = B_homes.index\n",
    "G_homes['user'] = G_homes.index"
   ]
  },
  {
   "cell_type": "code",
   "execution_count": 11,
   "metadata": {
    "scrolled": true
   },
   "outputs": [
    {
     "data": {
      "text/html": [
       "<div>\n",
       "<style scoped>\n",
       "    .dataframe tbody tr th:only-of-type {\n",
       "        vertical-align: middle;\n",
       "    }\n",
       "\n",
       "    .dataframe tbody tr th {\n",
       "        vertical-align: top;\n",
       "    }\n",
       "\n",
       "    .dataframe thead th {\n",
       "        text-align: right;\n",
       "    }\n",
       "</style>\n",
       "<table border=\"1\" class=\"dataframe\">\n",
       "  <thead>\n",
       "    <tr style=\"text-align: right;\">\n",
       "      <th></th>\n",
       "      <th>longitude</th>\n",
       "      <th>latitude</th>\n",
       "      <th>country</th>\n",
       "      <th>user</th>\n",
       "    </tr>\n",
       "    <tr>\n",
       "      <th>user_id</th>\n",
       "      <th></th>\n",
       "      <th></th>\n",
       "      <th></th>\n",
       "      <th></th>\n",
       "    </tr>\n",
       "  </thead>\n",
       "  <tbody>\n",
       "    <tr>\n",
       "      <th>0</th>\n",
       "      <td>-105.009140</td>\n",
       "      <td>39.756108</td>\n",
       "      <td>US</td>\n",
       "      <td>0</td>\n",
       "    </tr>\n",
       "    <tr>\n",
       "      <th>1</th>\n",
       "      <td>-122.353819</td>\n",
       "      <td>37.581821</td>\n",
       "      <td>US</td>\n",
       "      <td>1</td>\n",
       "    </tr>\n",
       "    <tr>\n",
       "      <th>2</th>\n",
       "      <td>-105.041977</td>\n",
       "      <td>39.771737</td>\n",
       "      <td>US</td>\n",
       "      <td>2</td>\n",
       "    </tr>\n",
       "    <tr>\n",
       "      <th>3</th>\n",
       "      <td>-122.424280</td>\n",
       "      <td>37.765768</td>\n",
       "      <td>US</td>\n",
       "      <td>3</td>\n",
       "    </tr>\n",
       "    <tr>\n",
       "      <th>4</th>\n",
       "      <td>24.937299</td>\n",
       "      <td>60.173985</td>\n",
       "      <td>FI</td>\n",
       "      <td>4</td>\n",
       "    </tr>\n",
       "  </tbody>\n",
       "</table>\n",
       "</div>"
      ],
      "text/plain": [
       "          longitude   latitude country  user\n",
       "user_id                                     \n",
       "0       -105.009140  39.756108      US     0\n",
       "1       -122.353819  37.581821      US     1\n",
       "2       -105.041977  39.771737      US     2\n",
       "3       -122.424280  37.765768      US     3\n",
       "4         24.937299  60.173985      FI     4"
      ]
     },
     "execution_count": 11,
     "metadata": {},
     "output_type": "execute_result"
    }
   ],
   "source": [
    "B_homes.head()"
   ]
  },
  {
   "cell_type": "markdown",
   "metadata": {},
   "source": [
    "#### Load cities"
   ]
  },
  {
   "cell_type": "code",
   "execution_count": 28,
   "metadata": {},
   "outputs": [],
   "source": [
    "cities = pd.read_csv(\"city_and_area.csv\").drop(columns = ['Unnamed: 0'], axis = 1)\n",
    "cities = cities.drop(columns = ['capital', 'admin_name'], axis = 1)"
   ]
  },
  {
   "cell_type": "code",
   "execution_count": 29,
   "metadata": {
    "scrolled": false
   },
   "outputs": [
    {
     "data": {
      "text/html": [
       "<div>\n",
       "<style scoped>\n",
       "    .dataframe tbody tr th:only-of-type {\n",
       "        vertical-align: middle;\n",
       "    }\n",
       "\n",
       "    .dataframe tbody tr th {\n",
       "        vertical-align: top;\n",
       "    }\n",
       "\n",
       "    .dataframe thead th {\n",
       "        text-align: right;\n",
       "    }\n",
       "</style>\n",
       "<table border=\"1\" class=\"dataframe\">\n",
       "  <thead>\n",
       "    <tr style=\"text-align: right;\">\n",
       "      <th></th>\n",
       "      <th>city</th>\n",
       "      <th>city_ascii</th>\n",
       "      <th>lat</th>\n",
       "      <th>lng</th>\n",
       "      <th>country</th>\n",
       "      <th>iso2</th>\n",
       "      <th>iso3</th>\n",
       "      <th>population</th>\n",
       "      <th>id</th>\n",
       "      <th>area</th>\n",
       "    </tr>\n",
       "  </thead>\n",
       "  <tbody>\n",
       "    <tr>\n",
       "      <th>0</th>\n",
       "      <td>Tokyo</td>\n",
       "      <td>Tokyo</td>\n",
       "      <td>35.6897</td>\n",
       "      <td>139.6922</td>\n",
       "      <td>Japan</td>\n",
       "      <td>JP</td>\n",
       "      <td>JPN</td>\n",
       "      <td>37977000.0</td>\n",
       "      <td>1392685764</td>\n",
       "      <td>2194.07</td>\n",
       "    </tr>\n",
       "    <tr>\n",
       "      <th>1</th>\n",
       "      <td>Jakarta</td>\n",
       "      <td>Jakarta</td>\n",
       "      <td>-6.2146</td>\n",
       "      <td>106.8451</td>\n",
       "      <td>Indonesia</td>\n",
       "      <td>ID</td>\n",
       "      <td>IDN</td>\n",
       "      <td>34540000.0</td>\n",
       "      <td>1360771077</td>\n",
       "      <td>7062.50</td>\n",
       "    </tr>\n",
       "    <tr>\n",
       "      <th>2</th>\n",
       "      <td>Delhi</td>\n",
       "      <td>Delhi</td>\n",
       "      <td>28.6600</td>\n",
       "      <td>77.2300</td>\n",
       "      <td>India</td>\n",
       "      <td>IN</td>\n",
       "      <td>IND</td>\n",
       "      <td>29617000.0</td>\n",
       "      <td>1356872604</td>\n",
       "      <td>1484.00</td>\n",
       "    </tr>\n",
       "    <tr>\n",
       "      <th>3</th>\n",
       "      <td>Mumbai</td>\n",
       "      <td>Mumbai</td>\n",
       "      <td>18.9667</td>\n",
       "      <td>72.8333</td>\n",
       "      <td>India</td>\n",
       "      <td>IN</td>\n",
       "      <td>IND</td>\n",
       "      <td>23355000.0</td>\n",
       "      <td>1356226629</td>\n",
       "      <td>4355.00</td>\n",
       "    </tr>\n",
       "    <tr>\n",
       "      <th>4</th>\n",
       "      <td>Manila</td>\n",
       "      <td>Manila</td>\n",
       "      <td>14.5958</td>\n",
       "      <td>120.9772</td>\n",
       "      <td>Philippines</td>\n",
       "      <td>PH</td>\n",
       "      <td>PHL</td>\n",
       "      <td>23088000.0</td>\n",
       "      <td>1608618140</td>\n",
       "      <td>1474.82</td>\n",
       "    </tr>\n",
       "  </tbody>\n",
       "</table>\n",
       "</div>"
      ],
      "text/plain": [
       "      city city_ascii      lat       lng      country iso2 iso3  population  \\\n",
       "0    Tokyo      Tokyo  35.6897  139.6922        Japan   JP  JPN  37977000.0   \n",
       "1  Jakarta    Jakarta  -6.2146  106.8451    Indonesia   ID  IDN  34540000.0   \n",
       "2    Delhi      Delhi  28.6600   77.2300        India   IN  IND  29617000.0   \n",
       "3   Mumbai     Mumbai  18.9667   72.8333        India   IN  IND  23355000.0   \n",
       "4   Manila     Manila  14.5958  120.9772  Philippines   PH  PHL  23088000.0   \n",
       "\n",
       "           id     area  \n",
       "0  1392685764  2194.07  \n",
       "1  1360771077  7062.50  \n",
       "2  1356872604  1484.00  \n",
       "3  1356226629  4355.00  \n",
       "4  1608618140  1474.82  "
      ]
     },
     "execution_count": 29,
     "metadata": {},
     "output_type": "execute_result"
    }
   ],
   "source": [
    "cities.head()"
   ]
  },
  {
   "cell_type": "markdown",
   "metadata": {},
   "source": [
    "#### Load edges"
   ]
  },
  {
   "cell_type": "code",
   "execution_count": 7,
   "metadata": {},
   "outputs": [],
   "source": [
    "_, B_edges = load_data(\"Brightkite\")\n",
    "_, G_edges = load_data(\"Gowalla\")"
   ]
  },
  {
   "cell_type": "markdown",
   "metadata": {},
   "source": [
    "### Deal with the cities\n",
    "\n",
    "1. Calculate population density\n",
    "2. Drop cities with # inhabitants < 50.000 and population density < 1500 ([How we define cities](https://blogs.worldbank.org/sustainablecities/how-do-we-define-cities-towns-and-rural-areas))\n",
    "       The Degree of Urbanization identifies cities as cities, if they have a population of at least 50,000 inhabitants in contiguous dense grid cells (>1,500 inhabitants per km2);\n",
    "3. Calculate the radius for each city\n"
   ]
  },
  {
   "cell_type": "code",
   "execution_count": 30,
   "metadata": {},
   "outputs": [
    {
     "data": {
      "text/plain": [
       "<AxesSubplot:xlabel='population', ylabel='area'>"
      ]
     },
     "execution_count": 30,
     "metadata": {},
     "output_type": "execute_result"
    },
    {
     "data": {
      "image/png": "[encoded data removed]",
      "text/plain": [
       "<Figure size 432x288 with 1 Axes>"
      ]
     },
     "metadata": {
      "needs_background": "light"
     },
     "output_type": "display_data"
    }
   ],
   "source": [
    "# Inspect data\n",
    "cities['density'] = cities['population'] / cities['area']\n",
    "plt_cities = cities[(cities['population'] > 50000) & (cities['density'] > 1500)]\n",
    "sns.scatterplot(data=plt_cities, x='population', y=\"area\")"
   ]
  },
  {
   "cell_type": "code",
   "execution_count": 31,
   "metadata": {},
   "outputs": [],
   "source": [
    "# 0. Estimate the missing areas for cities\n",
    "n_cities = cities[cities.isnull().any(axis=1)]\n",
    "n_cities = n_cities[n_cities['population'] > 50000]\n",
    "\n",
    "\n",
    "# Cannot predict for unknown population\n",
    "n_cities = n_cities[~n_cities['population'].isnull()]\n",
    "\n",
    "# Drop missing values for prediction\n",
    "cities = cities[cities['population'] > 50000]\n",
    "cities = cities[~cities['area'].isnull()]"
   ]
  },
  {
   "cell_type": "code",
   "execution_count": 32,
   "metadata": {},
   "outputs": [],
   "source": [
    "# 1. Construct a linear model to estimate the missing areas\n",
    "X = cities['population'].values.reshape(-1, 1)\n",
    "y = cities['area'].values\n",
    "reg = LinearRegression().fit(X, y)\n",
    "\n",
    "# Predict the missing areas\n",
    "pred_area = reg.predict(n_cities['population'].values.reshape(-1, 1))\n",
    "n_cities['area'] = pred_area\n",
    "\n",
    "# Merge city data\n",
    "cities = cities.append(n_cities)\n",
    "\n",
    "# 2. Calculate population density again for all data\n",
    "cities['density'] = cities['population'] / cities['area']"
   ]
  },
  {
   "cell_type": "code",
   "execution_count": 33,
   "metadata": {},
   "outputs": [],
   "source": [
    "# 3. Calculate the radius for each city\n",
    "def radius(A):\n",
    "    return np.sqrt(A/np.pi)\n",
    "\n",
    "cities['radius'] = cities['area'].apply(lambda x: radius(x))"
   ]
  },
  {
   "cell_type": "code",
   "execution_count": 34,
   "metadata": {
    "scrolled": true
   },
   "outputs": [
    {
     "data": {
      "text/html": [
       "<div>\n",
       "<style scoped>\n",
       "    .dataframe tbody tr th:only-of-type {\n",
       "        vertical-align: middle;\n",
       "    }\n",
       "\n",
       "    .dataframe tbody tr th {\n",
       "        vertical-align: top;\n",
       "    }\n",
       "\n",
       "    .dataframe thead th {\n",
       "        text-align: right;\n",
       "    }\n",
       "</style>\n",
       "<table border=\"1\" class=\"dataframe\">\n",
       "  <thead>\n",
       "    <tr style=\"text-align: right;\">\n",
       "      <th></th>\n",
       "      <th>city</th>\n",
       "      <th>city_ascii</th>\n",
       "      <th>lat</th>\n",
       "      <th>lng</th>\n",
       "      <th>country</th>\n",
       "      <th>iso2</th>\n",
       "      <th>iso3</th>\n",
       "      <th>population</th>\n",
       "      <th>id</th>\n",
       "      <th>area</th>\n",
       "      <th>density</th>\n",
       "      <th>radius</th>\n",
       "    </tr>\n",
       "  </thead>\n",
       "  <tbody>\n",
       "    <tr>\n",
       "      <th>0</th>\n",
       "      <td>Tokyo</td>\n",
       "      <td>Tokyo</td>\n",
       "      <td>35.6897</td>\n",
       "      <td>139.6922</td>\n",
       "      <td>Japan</td>\n",
       "      <td>JP</td>\n",
       "      <td>JPN</td>\n",
       "      <td>37977000.0</td>\n",
       "      <td>1392685764</td>\n",
       "      <td>2194.070000</td>\n",
       "      <td>17308.928156</td>\n",
       "      <td>26.427148</td>\n",
       "    </tr>\n",
       "    <tr>\n",
       "      <th>1</th>\n",
       "      <td>Jakarta</td>\n",
       "      <td>Jakarta</td>\n",
       "      <td>-6.2146</td>\n",
       "      <td>106.8451</td>\n",
       "      <td>Indonesia</td>\n",
       "      <td>ID</td>\n",
       "      <td>IDN</td>\n",
       "      <td>34540000.0</td>\n",
       "      <td>1360771077</td>\n",
       "      <td>7062.500000</td>\n",
       "      <td>4890.619469</td>\n",
       "      <td>47.413749</td>\n",
       "    </tr>\n",
       "    <tr>\n",
       "      <th>2</th>\n",
       "      <td>Delhi</td>\n",
       "      <td>Delhi</td>\n",
       "      <td>28.6600</td>\n",
       "      <td>77.2300</td>\n",
       "      <td>India</td>\n",
       "      <td>IN</td>\n",
       "      <td>IND</td>\n",
       "      <td>29617000.0</td>\n",
       "      <td>1356872604</td>\n",
       "      <td>1484.000000</td>\n",
       "      <td>19957.547170</td>\n",
       "      <td>21.734118</td>\n",
       "    </tr>\n",
       "    <tr>\n",
       "      <th>3</th>\n",
       "      <td>Mumbai</td>\n",
       "      <td>Mumbai</td>\n",
       "      <td>18.9667</td>\n",
       "      <td>72.8333</td>\n",
       "      <td>India</td>\n",
       "      <td>IN</td>\n",
       "      <td>IND</td>\n",
       "      <td>23355000.0</td>\n",
       "      <td>1356226629</td>\n",
       "      <td>4355.000000</td>\n",
       "      <td>5362.801378</td>\n",
       "      <td>37.232238</td>\n",
       "    </tr>\n",
       "    <tr>\n",
       "      <th>4</th>\n",
       "      <td>Manila</td>\n",
       "      <td>Manila</td>\n",
       "      <td>14.5958</td>\n",
       "      <td>120.9772</td>\n",
       "      <td>Philippines</td>\n",
       "      <td>PH</td>\n",
       "      <td>PHL</td>\n",
       "      <td>23088000.0</td>\n",
       "      <td>1608618140</td>\n",
       "      <td>1474.820000</td>\n",
       "      <td>15654.791771</td>\n",
       "      <td>21.666790</td>\n",
       "    </tr>\n",
       "    <tr>\n",
       "      <th>...</th>\n",
       "      <td>...</td>\n",
       "      <td>...</td>\n",
       "      <td>...</td>\n",
       "      <td>...</td>\n",
       "      <td>...</td>\n",
       "      <td>...</td>\n",
       "      <td>...</td>\n",
       "      <td>...</td>\n",
       "      <td>...</td>\n",
       "      <td>...</td>\n",
       "      <td>...</td>\n",
       "      <td>...</td>\n",
       "    </tr>\n",
       "    <tr>\n",
       "      <th>11190</th>\n",
       "      <td>Borovichi</td>\n",
       "      <td>Borovichi</td>\n",
       "      <td>58.4000</td>\n",
       "      <td>33.9167</td>\n",
       "      <td>Russia</td>\n",
       "      <td>RU</td>\n",
       "      <td>RUS</td>\n",
       "      <td>50144.0</td>\n",
       "      <td>1643059892</td>\n",
       "      <td>5037.289024</td>\n",
       "      <td>9.954561</td>\n",
       "      <td>40.042713</td>\n",
       "    </tr>\n",
       "    <tr>\n",
       "      <th>11193</th>\n",
       "      <td>Slonim</td>\n",
       "      <td>Slonim</td>\n",
       "      <td>53.0833</td>\n",
       "      <td>25.3167</td>\n",
       "      <td>Belarus</td>\n",
       "      <td>BY</td>\n",
       "      <td>BLR</td>\n",
       "      <td>50100.0</td>\n",
       "      <td>1112619287</td>\n",
       "      <td>5037.267292</td>\n",
       "      <td>9.945869</td>\n",
       "      <td>40.042627</td>\n",
       "    </tr>\n",
       "    <tr>\n",
       "      <th>11194</th>\n",
       "      <td>Roslavl</td>\n",
       "      <td>Roslavl</td>\n",
       "      <td>53.9492</td>\n",
       "      <td>32.8569</td>\n",
       "      <td>Russia</td>\n",
       "      <td>RU</td>\n",
       "      <td>RUS</td>\n",
       "      <td>50112.0</td>\n",
       "      <td>1643356591</td>\n",
       "      <td>5037.273219</td>\n",
       "      <td>9.948239</td>\n",
       "      <td>40.042651</td>\n",
       "    </tr>\n",
       "    <tr>\n",
       "      <th>11195</th>\n",
       "      <td>Gogrial</td>\n",
       "      <td>Gogrial</td>\n",
       "      <td>8.5337</td>\n",
       "      <td>28.1167</td>\n",
       "      <td>South Sudan</td>\n",
       "      <td>SS</td>\n",
       "      <td>SSD</td>\n",
       "      <td>50065.0</td>\n",
       "      <td>1728342889</td>\n",
       "      <td>5037.250005</td>\n",
       "      <td>9.938955</td>\n",
       "      <td>40.042558</td>\n",
       "    </tr>\n",
       "    <tr>\n",
       "      <th>11202</th>\n",
       "      <td>Severn</td>\n",
       "      <td>Severn</td>\n",
       "      <td>39.1355</td>\n",
       "      <td>-76.6958</td>\n",
       "      <td>United States</td>\n",
       "      <td>US</td>\n",
       "      <td>USA</td>\n",
       "      <td>50052.0</td>\n",
       "      <td>1840005925</td>\n",
       "      <td>5037.243584</td>\n",
       "      <td>9.936387</td>\n",
       "      <td>40.042533</td>\n",
       "    </tr>\n",
       "  </tbody>\n",
       "</table>\n",
       "<p>7166 rows × 12 columns</p>\n",
       "</div>"
      ],
      "text/plain": [
       "            city city_ascii      lat       lng        country iso2 iso3  \\\n",
       "0          Tokyo      Tokyo  35.6897  139.6922          Japan   JP  JPN   \n",
       "1        Jakarta    Jakarta  -6.2146  106.8451      Indonesia   ID  IDN   \n",
       "2          Delhi      Delhi  28.6600   77.2300          India   IN  IND   \n",
       "3         Mumbai     Mumbai  18.9667   72.8333          India   IN  IND   \n",
       "4         Manila     Manila  14.5958  120.9772    Philippines   PH  PHL   \n",
       "...          ...        ...      ...       ...            ...  ...  ...   \n",
       "11190  Borovichi  Borovichi  58.4000   33.9167         Russia   RU  RUS   \n",
       "11193     Slonim     Slonim  53.0833   25.3167        Belarus   BY  BLR   \n",
       "11194    Roslavl    Roslavl  53.9492   32.8569         Russia   RU  RUS   \n",
       "11195    Gogrial    Gogrial   8.5337   28.1167    South Sudan   SS  SSD   \n",
       "11202     Severn     Severn  39.1355  -76.6958  United States   US  USA   \n",
       "\n",
       "       population          id         area       density     radius  \n",
       "0      37977000.0  1392685764  2194.070000  17308.928156  26.427148  \n",
       "1      34540000.0  1360771077  7062.500000   4890.619469  47.413749  \n",
       "2      29617000.0  1356872604  1484.000000  19957.547170  21.734118  \n",
       "3      23355000.0  1356226629  4355.000000   5362.801378  37.232238  \n",
       "4      23088000.0  1608618140  1474.820000  15654.791771  21.666790  \n",
       "...           ...         ...          ...           ...        ...  \n",
       "11190     50144.0  1643059892  5037.289024      9.954561  40.042713  \n",
       "11193     50100.0  1112619287  5037.267292      9.945869  40.042627  \n",
       "11194     50112.0  1643356591  5037.273219      9.948239  40.042651  \n",
       "11195     50065.0  1728342889  5037.250005      9.938955  40.042558  \n",
       "11202     50052.0  1840005925  5037.243584      9.936387  40.042533  \n",
       "\n",
       "[7166 rows x 12 columns]"
      ]
     },
     "execution_count": 34,
     "metadata": {},
     "output_type": "execute_result"
    }
   ],
   "source": [
    "cities"
   ]
  },
  {
   "cell_type": "code",
   "execution_count": 13,
   "metadata": {},
   "outputs": [],
   "source": [
    "# 4. Drop cities with # inhabitants < 50.000 and population density < 1500\n",
    "#cities = cities[(cities['population'] > 50000) & (cities['density'] > 1500)]\n",
    "#cities = cities.drop_duplicates()"
   ]
  },
  {
   "cell_type": "code",
   "execution_count": 27,
   "metadata": {},
   "outputs": [],
   "source": [
    "# Save cities dataframe\n",
    "cities.to_pickle(\"cities.pickle\")"
   ]
  },
  {
   "cell_type": "markdown",
   "metadata": {},
   "source": [
    "### Does user live in rural or urban area?\n",
    "\n",
    "  for each country:\n",
    "  \n",
    "    for each home location in that country:\n",
    "        is home location near city? calculate distance to city, \n",
    "        if distance < given radius, then yes\n",
    "\n"
   ]
  },
  {
   "cell_type": "code",
   "execution_count": 35,
   "metadata": {},
   "outputs": [],
   "source": [
    "# Take a subset for now\n",
    "B_homes = B_homes.sample(4000, random_state=1)\n",
    "G_homes = G_homes.sample(4000, random_state=1)"
   ]
  },
  {
   "cell_type": "code",
   "execution_count": 36,
   "metadata": {},
   "outputs": [],
   "source": [
    "# Create a huge dataframe with all cities per country to then check if a home location is close to a city\n",
    "B_merge = B_homes.merge(cities, left_on = 'country', right_on = 'iso2')\n",
    "G_merge = G_homes.merge(cities, left_on = 'country', right_on = 'iso2')"
   ]
  },
  {
   "cell_type": "code",
   "execution_count": null,
   "metadata": {},
   "outputs": [],
   "source": [
    "B_merge['distance_to_city'] = B_merge.apply(lambda row: distance((row['latitude'], row['longitude']), (row['lat'],row['lng']) ).km, axis = 1)\n",
    "G_merge['distance_to_city'] = G_merge.apply(lambda row: distance((row['latitude'], row['longitude']), (row['lat'],row['lng']) ).km, axis = 1)"
   ]
  },
  {
   "cell_type": "code",
   "execution_count": null,
   "metadata": {},
   "outputs": [],
   "source": [
    "B_merge.head()"
   ]
  },
  {
   "cell_type": "code",
   "execution_count": null,
   "metadata": {},
   "outputs": [],
   "source": [
    "B_lives_urban = B_merge.groupby(\"user\").apply(lambda x: (x['distance_to_city'] < x['radius']).any()).to_frame()\n",
    "B_lives_urban = B_lives_urban.rename(columns = {0:'lives_urban'})\n",
    "\n",
    "G_lives_urban = G_merge.groupby(\"user\").apply(lambda x: (x['distance_to_city'] < x['radius']).any()).to_frame()\n",
    "G_lives_urban = G_lives_urban.rename(columns = {0:'lives_urban'})"
   ]
  },
  {
   "cell_type": "code",
   "execution_count": null,
   "metadata": {},
   "outputs": [],
   "source": [
    "# Integrate the 'lives_urban' variable into the home location datasets\n",
    "B_homes = B_homes.merge(B_lives_urban, left_on = 'user', right_index = True)\n",
    "G_homes = G_homes.merge(G_lives_urban, left_on = 'user', right_index = True)"
   ]
  },
  {
   "cell_type": "code",
   "execution_count": null,
   "metadata": {},
   "outputs": [],
   "source": [
    "B_homes.head()\n",
    "G_homes.head()"
   ]
  },
  {
   "cell_type": "code",
   "execution_count": 35,
   "metadata": {},
   "outputs": [],
   "source": [
    "# Save intermediate results\n",
    "# Save home locations\n",
    "B_merge.to_pickle(\"B_merge_.pickle\")\n",
    "G_merge.to_pickle(\"G_merge_.pickle\")"
   ]
  },
  {
   "cell_type": "markdown",
   "metadata": {},
   "source": [
    "### Calculate # friends per user, group by rural/city and compare amount of friends\n"
   ]
  },
  {
   "cell_type": "code",
   "execution_count": null,
   "metadata": {},
   "outputs": [],
   "source": [
    "B_friends = B_edges.groupby('from_id').count()\n",
    "G_friends = G_edges.groupby('from_id').count()"
   ]
  },
  {
   "cell_type": "code",
   "execution_count": null,
   "metadata": {},
   "outputs": [],
   "source": [
    "B_homes = B_homes.merge(B_friends, left_on = 'user', right_index = True).rename(columns = {'to_id':'#_friends'})\n",
    "G_homes = G_homes.merge(G_friends, left_on = 'user', right_index = True).rename(columns = {'to_id':'#_friends'})"
   ]
  },
  {
   "cell_type": "code",
   "execution_count": 23,
   "metadata": {},
   "outputs": [
    {
     "data": {
      "text/html": [
       "<div>\n",
       "<style scoped>\n",
       "    .dataframe tbody tr th:only-of-type {\n",
       "        vertical-align: middle;\n",
       "    }\n",
       "\n",
       "    .dataframe tbody tr th {\n",
       "        vertical-align: top;\n",
       "    }\n",
       "\n",
       "    .dataframe thead th {\n",
       "        text-align: right;\n",
       "    }\n",
       "</style>\n",
       "<table border=\"1\" class=\"dataframe\">\n",
       "  <thead>\n",
       "    <tr style=\"text-align: right;\">\n",
       "      <th></th>\n",
       "      <th>longitude</th>\n",
       "      <th>latitude</th>\n",
       "      <th>country</th>\n",
       "      <th>user</th>\n",
       "      <th>lives_urban</th>\n",
       "      <th>#_friends</th>\n",
       "    </tr>\n",
       "    <tr>\n",
       "      <th>user_id</th>\n",
       "      <th></th>\n",
       "      <th></th>\n",
       "      <th></th>\n",
       "      <th></th>\n",
       "      <th></th>\n",
       "      <th></th>\n",
       "    </tr>\n",
       "  </thead>\n",
       "  <tbody>\n",
       "    <tr>\n",
       "      <th>18790</th>\n",
       "      <td>-116.203451</td>\n",
       "      <td>43.613500</td>\n",
       "      <td>US</td>\n",
       "      <td>18790</td>\n",
       "      <td>True</td>\n",
       "      <td>1</td>\n",
       "    </tr>\n",
       "    <tr>\n",
       "      <th>50434</th>\n",
       "      <td>-2.966667</td>\n",
       "      <td>56.500000</td>\n",
       "      <td>GB</td>\n",
       "      <td>50434</td>\n",
       "      <td>False</td>\n",
       "      <td>2</td>\n",
       "    </tr>\n",
       "    <tr>\n",
       "      <th>52196</th>\n",
       "      <td>145.133333</td>\n",
       "      <td>-37.916667</td>\n",
       "      <td>AU</td>\n",
       "      <td>52196</td>\n",
       "      <td>False</td>\n",
       "      <td>1</td>\n",
       "    </tr>\n",
       "    <tr>\n",
       "      <th>26515</th>\n",
       "      <td>139.550000</td>\n",
       "      <td>35.683333</td>\n",
       "      <td>JP</td>\n",
       "      <td>26515</td>\n",
       "      <td>True</td>\n",
       "      <td>8</td>\n",
       "    </tr>\n",
       "    <tr>\n",
       "      <th>25999</th>\n",
       "      <td>139.678110</td>\n",
       "      <td>35.640909</td>\n",
       "      <td>JP</td>\n",
       "      <td>25999</td>\n",
       "      <td>True</td>\n",
       "      <td>10</td>\n",
       "    </tr>\n",
       "  </tbody>\n",
       "</table>\n",
       "</div>"
      ],
      "text/plain": [
       "          longitude   latitude country   user  lives_urban  #_friends\n",
       "user_id                                                              \n",
       "18790   -116.203451  43.613500      US  18790         True          1\n",
       "50434     -2.966667  56.500000      GB  50434        False          2\n",
       "52196    145.133333 -37.916667      AU  52196        False          1\n",
       "26515    139.550000  35.683333      JP  26515         True          8\n",
       "25999    139.678110  35.640909      JP  25999         True         10"
      ]
     },
     "execution_count": 23,
     "metadata": {},
     "output_type": "execute_result"
    }
   ],
   "source": [
    "B_homes.head()"
   ]
  },
  {
   "cell_type": "markdown",
   "metadata": {},
   "source": [
    "### Compare amount of friends for urban/ rural users"
   ]
  },
  {
   "cell_type": "code",
   "execution_count": null,
   "metadata": {
    "scrolled": true
   },
   "outputs": [],
   "source": [
    "B_homes.groupby('lives_urban')['#_friends'].describe()"
   ]
  },
  {
   "cell_type": "code",
   "execution_count": null,
   "metadata": {},
   "outputs": [],
   "source": [
    "G_homes.groupby('lives_urban')['#_friends'].describe()"
   ]
  },
  {
   "cell_type": "code",
   "execution_count": null,
   "metadata": {},
   "outputs": [],
   "source": [
    "B_urban = B_homes[B_homes['lives_urban'] == True]\n",
    "B_rural = B_homes[B_homes['lives_urban'] == False]\n",
    "\n",
    "plt.figure(figsize=(8,6))\n",
    "sns.distplot(B_rural['#_friends'], label='rural', hist=False)\n",
    "sns.distplot(B_urban['#_friends'], label='urban', hist=False)\n",
    "plt.legend();"
   ]
  },
  {
   "cell_type": "code",
   "execution_count": null,
   "metadata": {},
   "outputs": [],
   "source": [
    "G_urban = G_homes[G_homes['lives_urban'] == True]\n",
    "G_rural = G_homes[G_homes['lives_urban'] == False]\n",
    "\n",
    "plt.figure(figsize=(8,6))\n",
    "sns.distplot(G_rural['#_friends'], label='rural', hist=False)\n",
    "sns.distplot(G_urban['#_friends'], label='urban', hist=False)\n",
    "plt.legend();"
   ]
  },
  {
   "cell_type": "markdown",
   "metadata": {},
   "source": [
    "### Statistical Test to investigate significant effect"
   ]
  },
  {
   "cell_type": "markdown",
   "metadata": {},
   "source": [
    "We will perform a poisson-test to inspect whether the two samples stem from the same possion distribution. We assume $\\alpha = 0.05$.\n",
    "\n",
    "Check assumptions:\n",
    "1. Underlying distribution is a poisson\n",
    "2. estimate the four rates, $\\lambda_{bk-urban}, \\lambda_{bk-rural},\\lambda_{gw-urban},\\lambda_{gw-rural}$"
   ]
  },
  {
   "cell_type": "code",
   "execution_count": 55,
   "metadata": {
    "scrolled": true
   },
   "outputs": [
    {
     "name": "stdout",
     "output_type": "stream",
     "text": [
      "All four distributions seems to be a bit more skewed than expected for a poisson distribution.\n"
     ]
    },
    {
     "data": {
      "image/png": "[encoded data removed]",
      "text/plain": [
       "<Figure size 432x288 with 4 Axes>"
      ]
     },
     "metadata": {
      "needs_background": "light"
     },
     "output_type": "display_data"
    }
   ],
   "source": [
    "# 2. Inspect the distribution of the data\n",
    "fig, ((ax1, ax2), (ax3, ax4)) = plt.subplots(2,2)\n",
    "\n",
    "data = B_urban['#_friends']\n",
    "stats.probplot(B_urban['#_friends'], dist='poisson', sparams=(2.5,), plot=ax1)\n",
    "stats.probplot(B_rural['#_friends'], dist='poisson', sparams=(2.5,), plot=ax2)\n",
    "stats.probplot(G_urban['#_friends'], dist='poisson', sparams=(2.5,), plot=ax3)\n",
    "stats.probplot(G_rural['#_friends'], dist='poisson', sparams=(2.5,), plot=ax4)\n",
    "fig.tight_layout()\n",
    "\n",
    "print(\"All four distributions seems to be a bit more skewed than expected for a poisson distribution.\")"
   ]
  },
  {
   "cell_type": "code",
   "execution_count": 36,
   "metadata": {
    "scrolled": true
   },
   "outputs": [
    {
     "name": "stdout",
     "output_type": "stream",
     "text": [
      "Brighkite data does not come from the same poisson distribution given alpha = 0.05, and a p-value of 0.047074.\n"
     ]
    }
   ],
   "source": [
    "sample1_k, sample1_n = B_urban['#_friends'].mean(), len(B_urban)\n",
    "sample2_k, sample2_n = B_rural['#_friends'].mean(), len(B_rural)\n",
    "poiss_p_1 = poisson_etest(sample1_k, sample2_k, sample1_n, sample2_n)\n",
    "print(f\"Brighkite data does not come from the same poisson distribution given alpha = 0.05, and a p-value of {round(poiss_p_1,6)}.\")"
   ]
  },
  {
   "cell_type": "code",
   "execution_count": 34,
   "metadata": {
    "scrolled": true
   },
   "outputs": [
    {
     "name": "stdout",
     "output_type": "stream",
     "text": [
      "Gowalla data does not come from the same poisson distribution given alpha = 0.05, and a p-value of 0.042888.\n"
     ]
    }
   ],
   "source": [
    "sample1_k, sample1_n = G_urban['#_friends'].mean(), len(G_urban)\n",
    "sample2_k, sample2_n = G_rural['#_friends'].mean(), len(G_rural)\n",
    "poiss_p_2 = poisson_etest(sample1_k, sample2_k, sample1_n, sample2_n)\n",
    "print(f\"Gowalla data does not come from the same poisson distribution given alpha = 0.05, and a p-value of {round(poiss_p_2,6)}.\")"
   ]
  },
  {
   "cell_type": "markdown",
   "metadata": {},
   "source": [
    "TODO \n",
    "Do directional hypothesis"
   ]
  },
  {
   "cell_type": "markdown",
   "metadata": {},
   "source": [
    "## OLD"
   ]
  },
  {
   "cell_type": "code",
   "execution_count": 37,
   "metadata": {},
   "outputs": [],
   "source": [
    "# 1. Check for equal variances:\n",
    "# The Levene test tests the null hypothesis that all input samples are from populations with equal variances.\n",
    "\n",
    "#_, p1 = levene(B_urban['#_friends'], B_rural['#_friends'])\n",
    "#_, p2 = levene(G_urban['#_friends'], G_rural['#_friends'])\n",
    "\n",
    "#print(\" p-value Brightkite:\", p1, \"\\n\", \"p-value Gowalla:\", p2, \"\\n\")\n",
    "#print(\"We reject the null hypothesis that all input samples are from populations with equal variance for the Brightkite data, but not for the Gowalla data.\")"
   ]
  },
  {
   "cell_type": "code",
   "execution_count": 31,
   "metadata": {},
   "outputs": [
    {
     "data": {
      "text/plain": [
       "Ttest_indResult(statistic=1.8449063677581616, pvalue=0.06521400342208286)"
      ]
     },
     "execution_count": 31,
     "metadata": {},
     "output_type": "execute_result"
    }
   ],
   "source": [
    "stats.ttest_ind(B_urban['#_friends'],B_rural['#_friends'], equal_var = False)"
   ]
  },
  {
   "cell_type": "code",
   "execution_count": 32,
   "metadata": {
    "scrolled": true
   },
   "outputs": [
    {
     "data": {
      "text/plain": [
       "Ttest_indResult(statistic=0.6912586471195667, pvalue=0.4894449533512313)"
      ]
     },
     "execution_count": 32,
     "metadata": {},
     "output_type": "execute_result"
    }
   ],
   "source": [
    "##  Perform the t-test\n",
    "stats.ttest_ind(G_urban['#_friends'],G_rural['#_friends'], equal_var = True)"
   ]
  }
 ],
 "metadata": {
  "kernelspec": {
   "display_name": "Python 3",
   "language": "python",
   "name": "python3"
  },
  "language_info": {
   "codemirror_mode": {
    "name": "ipython",
    "version": 3
   },
   "file_extension": ".py",
   "mimetype": "text/x-python",
   "name": "python",
   "nbconvert_exporter": "python",
   "pygments_lexer": "ipython3",
   "version": "3.8.5"
  }
 },
 "nbformat": 4,
 "nbformat_minor": 4
}
