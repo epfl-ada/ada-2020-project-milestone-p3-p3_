{
 "cells": [
  {
   "cell_type": "markdown",
   "metadata": {},
   "source": [
    "## Research question 1:"
   ]
  },
  {
   "cell_type": "markdown",
   "metadata": {},
   "source": [
    "1. Are inhabitants of cities more likely to have more friends than individuals living in rural areas?"
   ]
  },
  {
   "cell_type": "markdown",
   "metadata": {},
   "source": [
    "Plan to answer this question:\n",
    "\n",
    "- how many people define a city? Drop cities with less inhabitants, less population density\n",
    "- convert area to radius\n",
    "- for each country:\n",
    "    for each home location in that country:\n",
    "        is home location near city? calculate distance to city, \n",
    "        if distance < given radius, then yes\n",
    "- calculate # friends per user, group by rural/city and compare amount of friends"
   ]
  },
  {
   "cell_type": "markdown",
   "metadata": {},
   "source": [
    "### Libraries"
   ]
  },
  {
   "cell_type": "code",
   "execution_count": 65,
   "metadata": {},
   "outputs": [],
   "source": [
    "import pandas as pd\n",
    "import numpy as np\n",
    "import seaborn as sns\n",
    "import scipy.stats as stats\n",
    "import matplotlib.pyplot as plt\n",
    "from poisson_etest import poisson_etest\n",
    "from sklearn.linear_model import LinearRegression\n",
    "from geopy.distance import distance\n",
    "from functions import load_data"
   ]
  },
  {
   "cell_type": "markdown",
   "metadata": {},
   "source": [
    "### Load the data\n"
   ]
  },
  {
   "cell_type": "markdown",
   "metadata": {},
   "source": [
    "#### Load home locations"
   ]
  },
  {
   "cell_type": "code",
   "execution_count": 67,
   "metadata": {},
   "outputs": [
    {
     "name": "stdout",
     "output_type": "stream",
     "text": [
      "/home/mogan/Desktop/z_ada/ada-2020-project-milestone-p3-p3_\n"
     ]
    }
   ],
   "source": [
    "%cd \"/home/mogan/Desktop/z_ada/ada-2020-project-milestone-p3-p3_\"\n",
    "B_homes = pd.read_pickle(\"B_homes.pickle\")\n",
    "G_homes = pd.read_pickle(\"G_homes.pickle\")\n",
    "\n",
    "B_homes.columns = B_homes.columns.droplevel(1)\n",
    "G_homes.columns = G_homes.columns.droplevel(1)"
   ]
  },
  {
   "cell_type": "code",
   "execution_count": 68,
   "metadata": {},
   "outputs": [],
   "source": [
    "# Introduce a unique index per user\n",
    "B_homes['user'] = B_homes.index\n",
    "G_homes['user'] = G_homes.index"
   ]
  },
  {
   "cell_type": "markdown",
   "metadata": {},
   "source": [
    "#### Load cities"
   ]
  },
  {
   "cell_type": "code",
   "execution_count": 4,
   "metadata": {},
   "outputs": [
    {
     "name": "stdout",
     "output_type": "stream",
     "text": [
      "/home/mogan/Desktop/z_ada/ada-2020-project-milestone-p3-p3_\n"
     ]
    }
   ],
   "source": [
    "%cd \"/home/mogan/Desktop/z_ada/ada-2020-project-milestone-p3-p3_\"\n",
    "cities = pd.read_csv(\"city_and_area.csv\").drop(columns = ['Unnamed: 0'], axis = 1)\n",
    "cities = cities.drop(columns = ['capital', 'admin_name'], axis = 1)"
   ]
  },
  {
   "cell_type": "code",
   "execution_count": 5,
   "metadata": {
    "scrolled": false
   },
   "outputs": [
    {
     "data": {
      "text/html": [
       "<div>\n",
       "<style scoped>\n",
       "    .dataframe tbody tr th:only-of-type {\n",
       "        vertical-align: middle;\n",
       "    }\n",
       "\n",
       "    .dataframe tbody tr th {\n",
       "        vertical-align: top;\n",
       "    }\n",
       "\n",
       "    .dataframe thead th {\n",
       "        text-align: right;\n",
       "    }\n",
       "</style>\n",
       "<table border=\"1\" class=\"dataframe\">\n",
       "  <thead>\n",
       "    <tr style=\"text-align: right;\">\n",
       "      <th></th>\n",
       "      <th>city</th>\n",
       "      <th>city_ascii</th>\n",
       "      <th>lat</th>\n",
       "      <th>lng</th>\n",
       "      <th>country</th>\n",
       "      <th>iso2</th>\n",
       "      <th>iso3</th>\n",
       "      <th>population</th>\n",
       "      <th>id</th>\n",
       "      <th>area</th>\n",
       "    </tr>\n",
       "  </thead>\n",
       "  <tbody>\n",
       "    <tr>\n",
       "      <th>0</th>\n",
       "      <td>Tokyo</td>\n",
       "      <td>Tokyo</td>\n",
       "      <td>35.6897</td>\n",
       "      <td>139.6922</td>\n",
       "      <td>Japan</td>\n",
       "      <td>JP</td>\n",
       "      <td>JPN</td>\n",
       "      <td>37977000.0</td>\n",
       "      <td>1392685764</td>\n",
       "      <td>2194.07</td>\n",
       "    </tr>\n",
       "    <tr>\n",
       "      <th>1</th>\n",
       "      <td>Jakarta</td>\n",
       "      <td>Jakarta</td>\n",
       "      <td>-6.2146</td>\n",
       "      <td>106.8451</td>\n",
       "      <td>Indonesia</td>\n",
       "      <td>ID</td>\n",
       "      <td>IDN</td>\n",
       "      <td>34540000.0</td>\n",
       "      <td>1360771077</td>\n",
       "      <td>7062.50</td>\n",
       "    </tr>\n",
       "    <tr>\n",
       "      <th>2</th>\n",
       "      <td>Delhi</td>\n",
       "      <td>Delhi</td>\n",
       "      <td>28.6600</td>\n",
       "      <td>77.2300</td>\n",
       "      <td>India</td>\n",
       "      <td>IN</td>\n",
       "      <td>IND</td>\n",
       "      <td>29617000.0</td>\n",
       "      <td>1356872604</td>\n",
       "      <td>1484.00</td>\n",
       "    </tr>\n",
       "    <tr>\n",
       "      <th>3</th>\n",
       "      <td>Mumbai</td>\n",
       "      <td>Mumbai</td>\n",
       "      <td>18.9667</td>\n",
       "      <td>72.8333</td>\n",
       "      <td>India</td>\n",
       "      <td>IN</td>\n",
       "      <td>IND</td>\n",
       "      <td>23355000.0</td>\n",
       "      <td>1356226629</td>\n",
       "      <td>4355.00</td>\n",
       "    </tr>\n",
       "    <tr>\n",
       "      <th>4</th>\n",
       "      <td>Manila</td>\n",
       "      <td>Manila</td>\n",
       "      <td>14.5958</td>\n",
       "      <td>120.9772</td>\n",
       "      <td>Philippines</td>\n",
       "      <td>PH</td>\n",
       "      <td>PHL</td>\n",
       "      <td>23088000.0</td>\n",
       "      <td>1608618140</td>\n",
       "      <td>1474.82</td>\n",
       "    </tr>\n",
       "  </tbody>\n",
       "</table>\n",
       "</div>"
      ],
      "text/plain": [
       "      city city_ascii      lat       lng      country iso2 iso3  population  \\\n",
       "0    Tokyo      Tokyo  35.6897  139.6922        Japan   JP  JPN  37977000.0   \n",
       "1  Jakarta    Jakarta  -6.2146  106.8451    Indonesia   ID  IDN  34540000.0   \n",
       "2    Delhi      Delhi  28.6600   77.2300        India   IN  IND  29617000.0   \n",
       "3   Mumbai     Mumbai  18.9667   72.8333        India   IN  IND  23355000.0   \n",
       "4   Manila     Manila  14.5958  120.9772  Philippines   PH  PHL  23088000.0   \n",
       "\n",
       "           id     area  \n",
       "0  1392685764  2194.07  \n",
       "1  1360771077  7062.50  \n",
       "2  1356872604  1484.00  \n",
       "3  1356226629  4355.00  \n",
       "4  1608618140  1474.82  "
      ]
     },
     "execution_count": 5,
     "metadata": {},
     "output_type": "execute_result"
    }
   ],
   "source": [
    "cities.head()"
   ]
  },
  {
   "cell_type": "markdown",
   "metadata": {},
   "source": [
    "#### Load edges"
   ]
  },
  {
   "cell_type": "code",
   "execution_count": 6,
   "metadata": {},
   "outputs": [
    {
     "name": "stdout",
     "output_type": "stream",
     "text": [
      "/home/mogan/Desktop\n"
     ]
    }
   ],
   "source": [
    "%cd \"/home/mogan/Desktop\"\n",
    "_, B_edges = load_data(\"Brightkite\")\n",
    "_, G_edges = load_data(\"Gowalla\")"
   ]
  },
  {
   "cell_type": "markdown",
   "metadata": {},
   "source": [
    "### Deal with the cities\n",
    "\n",
    "1. Calculate population density\n",
    "2. Drop cities with # inhabitants < 50.000 and population density < 1500 ([How we define cities](https://blogs.worldbank.org/sustainablecities/how-do-we-define-cities-towns-and-rural-areas))\n",
    "       The Degree of Urbanization identifies cities as cities, if they have a population of at least 50,000 inhabitants in contiguous dense grid cells (>1,500 inhabitants per km2);\n",
    "3. Calculate the radius for each city\n"
   ]
  },
  {
   "cell_type": "code",
   "execution_count": 7,
   "metadata": {},
   "outputs": [
    {
     "data": {
      "text/html": [
       "<div>\n",
       "<style scoped>\n",
       "    .dataframe tbody tr th:only-of-type {\n",
       "        vertical-align: middle;\n",
       "    }\n",
       "\n",
       "    .dataframe tbody tr th {\n",
       "        vertical-align: top;\n",
       "    }\n",
       "\n",
       "    .dataframe thead th {\n",
       "        text-align: right;\n",
       "    }\n",
       "</style>\n",
       "<table border=\"1\" class=\"dataframe\">\n",
       "  <thead>\n",
       "    <tr style=\"text-align: right;\">\n",
       "      <th></th>\n",
       "      <th>city</th>\n",
       "      <th>lat</th>\n",
       "      <th>lng</th>\n",
       "      <th>country</th>\n",
       "      <th>iso2</th>\n",
       "      <th>population</th>\n",
       "      <th>area</th>\n",
       "    </tr>\n",
       "  </thead>\n",
       "  <tbody>\n",
       "    <tr>\n",
       "      <th>0</th>\n",
       "      <td>Tokyo</td>\n",
       "      <td>35.6897</td>\n",
       "      <td>139.6922</td>\n",
       "      <td>Japan</td>\n",
       "      <td>JP</td>\n",
       "      <td>37977000.0</td>\n",
       "      <td>2194.07</td>\n",
       "    </tr>\n",
       "    <tr>\n",
       "      <th>1</th>\n",
       "      <td>Jakarta</td>\n",
       "      <td>-6.2146</td>\n",
       "      <td>106.8451</td>\n",
       "      <td>Indonesia</td>\n",
       "      <td>ID</td>\n",
       "      <td>34540000.0</td>\n",
       "      <td>7062.50</td>\n",
       "    </tr>\n",
       "    <tr>\n",
       "      <th>2</th>\n",
       "      <td>Delhi</td>\n",
       "      <td>28.6600</td>\n",
       "      <td>77.2300</td>\n",
       "      <td>India</td>\n",
       "      <td>IN</td>\n",
       "      <td>29617000.0</td>\n",
       "      <td>1484.00</td>\n",
       "    </tr>\n",
       "    <tr>\n",
       "      <th>3</th>\n",
       "      <td>Mumbai</td>\n",
       "      <td>18.9667</td>\n",
       "      <td>72.8333</td>\n",
       "      <td>India</td>\n",
       "      <td>IN</td>\n",
       "      <td>23355000.0</td>\n",
       "      <td>4355.00</td>\n",
       "    </tr>\n",
       "    <tr>\n",
       "      <th>4</th>\n",
       "      <td>Manila</td>\n",
       "      <td>14.5958</td>\n",
       "      <td>120.9772</td>\n",
       "      <td>Philippines</td>\n",
       "      <td>PH</td>\n",
       "      <td>23088000.0</td>\n",
       "      <td>1474.82</td>\n",
       "    </tr>\n",
       "  </tbody>\n",
       "</table>\n",
       "</div>"
      ],
      "text/plain": [
       "      city      lat       lng      country iso2  population     area\n",
       "0    Tokyo  35.6897  139.6922        Japan   JP  37977000.0  2194.07\n",
       "1  Jakarta  -6.2146  106.8451    Indonesia   ID  34540000.0  7062.50\n",
       "2    Delhi  28.6600   77.2300        India   IN  29617000.0  1484.00\n",
       "3   Mumbai  18.9667   72.8333        India   IN  23355000.0  4355.00\n",
       "4   Manila  14.5958  120.9772  Philippines   PH  23088000.0  1474.82"
      ]
     },
     "execution_count": 7,
     "metadata": {},
     "output_type": "execute_result"
    }
   ],
   "source": [
    "cities = cities.drop(columns=['city_ascii', 'iso3', 'id'], axis=1)\n",
    "cities.head()"
   ]
  },
  {
   "cell_type": "code",
   "execution_count": 8,
   "metadata": {},
   "outputs": [
    {
     "name": "stdout",
     "output_type": "stream",
     "text": [
      "/home/mogan/Desktop\n"
     ]
    },
    {
     "data": {
      "text/html": [
       "<div>\n",
       "<style scoped>\n",
       "    .dataframe tbody tr th:only-of-type {\n",
       "        vertical-align: middle;\n",
       "    }\n",
       "\n",
       "    .dataframe tbody tr th {\n",
       "        vertical-align: top;\n",
       "    }\n",
       "\n",
       "    .dataframe thead th {\n",
       "        text-align: right;\n",
       "    }\n",
       "</style>\n",
       "<table border=\"1\" class=\"dataframe\">\n",
       "  <thead>\n",
       "    <tr style=\"text-align: right;\">\n",
       "      <th></th>\n",
       "      <th>city</th>\n",
       "      <th>population</th>\n",
       "      <th>area</th>\n",
       "      <th>density</th>\n",
       "      <th>lat</th>\n",
       "      <th>lng</th>\n",
       "      <th>iso2</th>\n",
       "      <th>country</th>\n",
       "    </tr>\n",
       "  </thead>\n",
       "  <tbody>\n",
       "    <tr>\n",
       "      <th>0</th>\n",
       "      <td>New York City</td>\n",
       "      <td>8336817.0</td>\n",
       "      <td>780.9</td>\n",
       "      <td>10933.0</td>\n",
       "      <td>40.6635</td>\n",
       "      <td>73.9387</td>\n",
       "      <td>US</td>\n",
       "      <td>United States</td>\n",
       "    </tr>\n",
       "    <tr>\n",
       "      <th>1</th>\n",
       "      <td>Los Angeles</td>\n",
       "      <td>3979576.0</td>\n",
       "      <td>1213.9</td>\n",
       "      <td>3276.0</td>\n",
       "      <td>34.0194</td>\n",
       "      <td>118.4108</td>\n",
       "      <td>US</td>\n",
       "      <td>United States</td>\n",
       "    </tr>\n",
       "    <tr>\n",
       "      <th>2</th>\n",
       "      <td>Chicago</td>\n",
       "      <td>2693976.0</td>\n",
       "      <td>588.7</td>\n",
       "      <td>4600.0</td>\n",
       "      <td>41.8376</td>\n",
       "      <td>87.6818</td>\n",
       "      <td>US</td>\n",
       "      <td>United States</td>\n",
       "    </tr>\n",
       "    <tr>\n",
       "      <th>3</th>\n",
       "      <td>Houston</td>\n",
       "      <td>2320268.0</td>\n",
       "      <td>1651.1</td>\n",
       "      <td>1395.0</td>\n",
       "      <td>29.7866</td>\n",
       "      <td>95.3909</td>\n",
       "      <td>US</td>\n",
       "      <td>United States</td>\n",
       "    </tr>\n",
       "    <tr>\n",
       "      <th>4</th>\n",
       "      <td>Phoenix</td>\n",
       "      <td>1680992.0</td>\n",
       "      <td>1340.6</td>\n",
       "      <td>1200.0</td>\n",
       "      <td>33.5722</td>\n",
       "      <td>112.0901</td>\n",
       "      <td>US</td>\n",
       "      <td>United States</td>\n",
       "    </tr>\n",
       "    <tr>\n",
       "      <th>...</th>\n",
       "      <td>...</td>\n",
       "      <td>...</td>\n",
       "      <td>...</td>\n",
       "      <td>...</td>\n",
       "      <td>...</td>\n",
       "      <td>...</td>\n",
       "      <td>...</td>\n",
       "      <td>...</td>\n",
       "    </tr>\n",
       "    <tr>\n",
       "      <th>312</th>\n",
       "      <td>San Angelo</td>\n",
       "      <td>101004.0</td>\n",
       "      <td>155.1</td>\n",
       "      <td>649.0</td>\n",
       "      <td>31.4411</td>\n",
       "      <td>100.4505</td>\n",
       "      <td>US</td>\n",
       "      <td>United States</td>\n",
       "    </tr>\n",
       "    <tr>\n",
       "      <th>313</th>\n",
       "      <td>Vacaville</td>\n",
       "      <td>100670.0</td>\n",
       "      <td>75.1</td>\n",
       "      <td>1332.0</td>\n",
       "      <td>38.3539</td>\n",
       "      <td>121.9728</td>\n",
       "      <td>US</td>\n",
       "      <td>United States</td>\n",
       "    </tr>\n",
       "    <tr>\n",
       "      <th>314</th>\n",
       "      <td>Clinton</td>\n",
       "      <td>100471.0</td>\n",
       "      <td>72.8</td>\n",
       "      <td>1380.0</td>\n",
       "      <td>42.5903</td>\n",
       "      <td>82.9170</td>\n",
       "      <td>US</td>\n",
       "      <td>United States</td>\n",
       "    </tr>\n",
       "    <tr>\n",
       "      <th>315</th>\n",
       "      <td>Bend</td>\n",
       "      <td>100421.0</td>\n",
       "      <td>85.7</td>\n",
       "      <td>1171.0</td>\n",
       "      <td>44.0500</td>\n",
       "      <td>121.3000</td>\n",
       "      <td>US</td>\n",
       "      <td>United States</td>\n",
       "    </tr>\n",
       "    <tr>\n",
       "      <th>316</th>\n",
       "      <td>Woodbridge</td>\n",
       "      <td>100145.0</td>\n",
       "      <td>60.3</td>\n",
       "      <td>1680.0</td>\n",
       "      <td>40.5607</td>\n",
       "      <td>74.2927</td>\n",
       "      <td>US</td>\n",
       "      <td>United States</td>\n",
       "    </tr>\n",
       "  </tbody>\n",
       "</table>\n",
       "<p>317 rows × 8 columns</p>\n",
       "</div>"
      ],
      "text/plain": [
       "              city  population    area  density      lat       lng iso2  \\\n",
       "0    New York City   8336817.0   780.9  10933.0  40.6635   73.9387   US   \n",
       "1      Los Angeles   3979576.0  1213.9   3276.0  34.0194  118.4108   US   \n",
       "2          Chicago   2693976.0   588.7   4600.0  41.8376   87.6818   US   \n",
       "3          Houston   2320268.0  1651.1   1395.0  29.7866   95.3909   US   \n",
       "4          Phoenix   1680992.0  1340.6   1200.0  33.5722  112.0901   US   \n",
       "..             ...         ...     ...      ...      ...       ...  ...   \n",
       "312     San Angelo    101004.0   155.1    649.0  31.4411  100.4505   US   \n",
       "313      Vacaville    100670.0    75.1   1332.0  38.3539  121.9728   US   \n",
       "314        Clinton    100471.0    72.8   1380.0  42.5903   82.9170   US   \n",
       "315           Bend    100421.0    85.7   1171.0  44.0500  121.3000   US   \n",
       "316     Woodbridge    100145.0    60.3   1680.0  40.5607   74.2927   US   \n",
       "\n",
       "           country  \n",
       "0    United States  \n",
       "1    United States  \n",
       "2    United States  \n",
       "3    United States  \n",
       "4    United States  \n",
       "..             ...  \n",
       "312  United States  \n",
       "313  United States  \n",
       "314  United States  \n",
       "315  United States  \n",
       "316  United States  \n",
       "\n",
       "[317 rows x 8 columns]"
      ]
     },
     "execution_count": 8,
     "metadata": {},
     "output_type": "execute_result"
    }
   ],
   "source": [
    "# We had the impression that some US cities are missing in the cities data set, so we crawled another data set from wikipedia\n",
    "# Wrangle us cities to fit to other cities\n",
    "%cd \"/home/mogan/Desktop\"\n",
    "us_cities = pd.read_csv(\"./data/us_cities.csv\")\n",
    "us_cities = us_cities.drop(columns=['2019rank', 'State[c]', '2010Census', 'Change', '2016 land area','2016 population density'])\n",
    "us_cities = us_cities.rename(columns={'City':'city', '2019estimate':'population', '2016 land area.1':'area','2016 population density.1':'density' })\n",
    "us_cities['population'] = us_cities['population'].str.replace(',','.')#.astype('float64')\n",
    "us_cities['population'] = us_cities['population'].str.replace(r'\\.', '').astype(float)\n",
    "us_cities['city'] = us_cities['city'].str.replace(r'\\[\\w+\\]', '')\n",
    "us_cities['area'] = us_cities['area'].str.replace(r'\\s\\D+\\d', '')\n",
    "us_cities['area'] = us_cities['area'].str.replace(',','').astype(float)\n",
    "us_cities['density'] = us_cities['density'].str.replace(r'/\\D+\\d', '')\n",
    "us_cities['density'] = us_cities['density'].str.replace(',','').astype(float)\n",
    "us_cities['Location'] = us_cities['Location'].str.split(r'/', expand = True)[1]\n",
    "us_cities[['lat', 'lng']] = us_cities['Location'].str.split(r'\\s', expand = True)[[1,2]]\n",
    "us_cities = us_cities.drop(columns=['Location'], axis=1)\n",
    "us_cities['lat'] = us_cities['lat'].str.replace('°N','').str.replace('\\ufeff','').astype(float)\n",
    "us_cities['lng'] = us_cities['lng'].str.replace('°W','').str.replace('\\ufeff','').astype(float)\n",
    "us_cities['iso2'] = 'US'\n",
    "us_cities['country'] = 'United States'\n",
    "us_cities"
   ]
  },
  {
   "cell_type": "code",
   "execution_count": 9,
   "metadata": {},
   "outputs": [],
   "source": [
    "# 0. Estimate the missing areas for cities\n",
    "n_cities = cities[cities['area'].isna()]\n",
    "n_cities = n_cities[n_cities['population'] > 50000]\n",
    "\n",
    "# Cannot predict for unknown population\n",
    "n_cities = n_cities[~n_cities['population'].isnull()]\n",
    "\n",
    "# Drop missing values for prediction\n",
    "cities = cities[cities['population'] > 50000]\n",
    "cities = cities[~cities['area'].isnull()]"
   ]
  },
  {
   "cell_type": "code",
   "execution_count": 10,
   "metadata": {},
   "outputs": [],
   "source": [
    "# 1. Construct a linear model to estimate the missing areas\n",
    "X = cities['population'].values.reshape(-1, 1)\n",
    "y = cities['area'].values\n",
    "reg = LinearRegression().fit(X, y)\n",
    "\n",
    "# Predict the missing areas\n",
    "pred_area = reg.predict(n_cities['population'].values.reshape(-1, 1))\n",
    "n_cities['area'] = pred_area\n",
    "\n",
    "# Merge city data\n",
    "cities = cities.append(n_cities)\n",
    "\n",
    "# 2. Calculate population density again for all data\n",
    "cities['density'] = cities['population'] / cities['area']"
   ]
  },
  {
   "cell_type": "code",
   "execution_count": 11,
   "metadata": {},
   "outputs": [],
   "source": [
    "# merge the city data\n",
    "cities = cities.append(us_cities)\n",
    "cities = cities[cities['population'] > 50000]"
   ]
  },
  {
   "cell_type": "code",
   "execution_count": 12,
   "metadata": {},
   "outputs": [],
   "source": [
    "# 3. Calculate the radius for each city\n",
    "def radius(A):\n",
    "    return np.sqrt(A/np.pi)\n",
    "\n",
    "cities['radius'] = cities['area'].apply(lambda x: radius(x))"
   ]
  },
  {
   "cell_type": "code",
   "execution_count": 13,
   "metadata": {
    "scrolled": true
   },
   "outputs": [
    {
     "data": {
      "text/html": [
       "<div>\n",
       "<style scoped>\n",
       "    .dataframe tbody tr th:only-of-type {\n",
       "        vertical-align: middle;\n",
       "    }\n",
       "\n",
       "    .dataframe tbody tr th {\n",
       "        vertical-align: top;\n",
       "    }\n",
       "\n",
       "    .dataframe thead th {\n",
       "        text-align: right;\n",
       "    }\n",
       "</style>\n",
       "<table border=\"1\" class=\"dataframe\">\n",
       "  <thead>\n",
       "    <tr style=\"text-align: right;\">\n",
       "      <th></th>\n",
       "      <th>city</th>\n",
       "      <th>lat</th>\n",
       "      <th>lng</th>\n",
       "      <th>country</th>\n",
       "      <th>iso2</th>\n",
       "      <th>population</th>\n",
       "      <th>area</th>\n",
       "      <th>density</th>\n",
       "      <th>radius</th>\n",
       "    </tr>\n",
       "  </thead>\n",
       "  <tbody>\n",
       "    <tr>\n",
       "      <th>0</th>\n",
       "      <td>Tokyo</td>\n",
       "      <td>35.6897</td>\n",
       "      <td>139.6922</td>\n",
       "      <td>Japan</td>\n",
       "      <td>JP</td>\n",
       "      <td>37977000.0</td>\n",
       "      <td>2194.07</td>\n",
       "      <td>17308.928156</td>\n",
       "      <td>26.427148</td>\n",
       "    </tr>\n",
       "    <tr>\n",
       "      <th>1</th>\n",
       "      <td>Jakarta</td>\n",
       "      <td>-6.2146</td>\n",
       "      <td>106.8451</td>\n",
       "      <td>Indonesia</td>\n",
       "      <td>ID</td>\n",
       "      <td>34540000.0</td>\n",
       "      <td>7062.50</td>\n",
       "      <td>4890.619469</td>\n",
       "      <td>47.413749</td>\n",
       "    </tr>\n",
       "    <tr>\n",
       "      <th>2</th>\n",
       "      <td>Delhi</td>\n",
       "      <td>28.6600</td>\n",
       "      <td>77.2300</td>\n",
       "      <td>India</td>\n",
       "      <td>IN</td>\n",
       "      <td>29617000.0</td>\n",
       "      <td>1484.00</td>\n",
       "      <td>19957.547170</td>\n",
       "      <td>21.734118</td>\n",
       "    </tr>\n",
       "    <tr>\n",
       "      <th>3</th>\n",
       "      <td>Mumbai</td>\n",
       "      <td>18.9667</td>\n",
       "      <td>72.8333</td>\n",
       "      <td>India</td>\n",
       "      <td>IN</td>\n",
       "      <td>23355000.0</td>\n",
       "      <td>4355.00</td>\n",
       "      <td>5362.801378</td>\n",
       "      <td>37.232238</td>\n",
       "    </tr>\n",
       "    <tr>\n",
       "      <th>4</th>\n",
       "      <td>Manila</td>\n",
       "      <td>14.5958</td>\n",
       "      <td>120.9772</td>\n",
       "      <td>Philippines</td>\n",
       "      <td>PH</td>\n",
       "      <td>23088000.0</td>\n",
       "      <td>1474.82</td>\n",
       "      <td>15654.791771</td>\n",
       "      <td>21.666790</td>\n",
       "    </tr>\n",
       "    <tr>\n",
       "      <th>...</th>\n",
       "      <td>...</td>\n",
       "      <td>...</td>\n",
       "      <td>...</td>\n",
       "      <td>...</td>\n",
       "      <td>...</td>\n",
       "      <td>...</td>\n",
       "      <td>...</td>\n",
       "      <td>...</td>\n",
       "      <td>...</td>\n",
       "    </tr>\n",
       "    <tr>\n",
       "      <th>312</th>\n",
       "      <td>San Angelo</td>\n",
       "      <td>31.4411</td>\n",
       "      <td>100.4505</td>\n",
       "      <td>United States</td>\n",
       "      <td>US</td>\n",
       "      <td>101004.0</td>\n",
       "      <td>155.10</td>\n",
       "      <td>649.000000</td>\n",
       "      <td>7.026369</td>\n",
       "    </tr>\n",
       "    <tr>\n",
       "      <th>313</th>\n",
       "      <td>Vacaville</td>\n",
       "      <td>38.3539</td>\n",
       "      <td>121.9728</td>\n",
       "      <td>United States</td>\n",
       "      <td>US</td>\n",
       "      <td>100670.0</td>\n",
       "      <td>75.10</td>\n",
       "      <td>1332.000000</td>\n",
       "      <td>4.889281</td>\n",
       "    </tr>\n",
       "    <tr>\n",
       "      <th>314</th>\n",
       "      <td>Clinton</td>\n",
       "      <td>42.5903</td>\n",
       "      <td>82.9170</td>\n",
       "      <td>United States</td>\n",
       "      <td>US</td>\n",
       "      <td>100471.0</td>\n",
       "      <td>72.80</td>\n",
       "      <td>1380.000000</td>\n",
       "      <td>4.813830</td>\n",
       "    </tr>\n",
       "    <tr>\n",
       "      <th>315</th>\n",
       "      <td>Bend</td>\n",
       "      <td>44.0500</td>\n",
       "      <td>121.3000</td>\n",
       "      <td>United States</td>\n",
       "      <td>US</td>\n",
       "      <td>100421.0</td>\n",
       "      <td>85.70</td>\n",
       "      <td>1171.000000</td>\n",
       "      <td>5.222945</td>\n",
       "    </tr>\n",
       "    <tr>\n",
       "      <th>316</th>\n",
       "      <td>Woodbridge</td>\n",
       "      <td>40.5607</td>\n",
       "      <td>74.2927</td>\n",
       "      <td>United States</td>\n",
       "      <td>US</td>\n",
       "      <td>100145.0</td>\n",
       "      <td>60.30</td>\n",
       "      <td>1680.000000</td>\n",
       "      <td>4.381106</td>\n",
       "    </tr>\n",
       "  </tbody>\n",
       "</table>\n",
       "<p>7481 rows × 9 columns</p>\n",
       "</div>"
      ],
      "text/plain": [
       "           city      lat       lng        country iso2  population     area  \\\n",
       "0         Tokyo  35.6897  139.6922          Japan   JP  37977000.0  2194.07   \n",
       "1       Jakarta  -6.2146  106.8451      Indonesia   ID  34540000.0  7062.50   \n",
       "2         Delhi  28.6600   77.2300          India   IN  29617000.0  1484.00   \n",
       "3        Mumbai  18.9667   72.8333          India   IN  23355000.0  4355.00   \n",
       "4        Manila  14.5958  120.9772    Philippines   PH  23088000.0  1474.82   \n",
       "..          ...      ...       ...            ...  ...         ...      ...   \n",
       "312  San Angelo  31.4411  100.4505  United States   US    101004.0   155.10   \n",
       "313   Vacaville  38.3539  121.9728  United States   US    100670.0    75.10   \n",
       "314     Clinton  42.5903   82.9170  United States   US    100471.0    72.80   \n",
       "315        Bend  44.0500  121.3000  United States   US    100421.0    85.70   \n",
       "316  Woodbridge  40.5607   74.2927  United States   US    100145.0    60.30   \n",
       "\n",
       "          density     radius  \n",
       "0    17308.928156  26.427148  \n",
       "1     4890.619469  47.413749  \n",
       "2    19957.547170  21.734118  \n",
       "3     5362.801378  37.232238  \n",
       "4    15654.791771  21.666790  \n",
       "..            ...        ...  \n",
       "312    649.000000   7.026369  \n",
       "313   1332.000000   4.889281  \n",
       "314   1380.000000   4.813830  \n",
       "315   1171.000000   5.222945  \n",
       "316   1680.000000   4.381106  \n",
       "\n",
       "[7481 rows x 9 columns]"
      ]
     },
     "execution_count": 13,
     "metadata": {},
     "output_type": "execute_result"
    }
   ],
   "source": [
    "cities"
   ]
  },
  {
   "cell_type": "code",
   "execution_count": 14,
   "metadata": {},
   "outputs": [],
   "source": [
    "# 4. Drop cities with # inhabitants < 50.000 and population density < 1500\n",
    "cities = cities[(cities['population'] > 50000) & (cities['density'] > 1500)]\n",
    "cities = cities.drop_duplicates()"
   ]
  },
  {
   "cell_type": "code",
   "execution_count": 15,
   "metadata": {},
   "outputs": [],
   "source": [
    "# Save cities dataframe\n",
    "cities.to_pickle(\"cities.pickle\")"
   ]
  },
  {
   "cell_type": "markdown",
   "metadata": {},
   "source": [
    "### Does user live in rural or urban area?\n",
    "\n",
    "  for each country:\n",
    "  \n",
    "    for each home location in that country:\n",
    "        is home location near city? calculate distance to city, \n",
    "        if distance < given radius, then yes\n",
    "\n"
   ]
  },
  {
   "cell_type": "code",
   "execution_count": 77,
   "metadata": {},
   "outputs": [],
   "source": [
    "# Take a subset for now\n",
    "B_homes[(B_homes['country'] == 'US')]\n",
    "G_homes[(G_homes['country'] == 'US')]\n",
    "\n",
    "B_homes = B_homes.sample(4000, random_state=1)\n",
    "G_homes = G_homes.sample(4000, random_state=1)"
   ]
  },
  {
   "cell_type": "code",
   "execution_count": 17,
   "metadata": {},
   "outputs": [],
   "source": [
    "# Create a huge dataframe with all cities per country to then check if a home location is close to a city\n",
    "B_merge = B_homes.merge(cities, left_on = 'country', right_on = 'iso2')\n",
    "G_merge = G_homes.merge(cities, left_on = 'country', right_on = 'iso2')"
   ]
  },
  {
   "cell_type": "code",
   "execution_count": 18,
   "metadata": {},
   "outputs": [],
   "source": [
    "B_merge['distance_to_city'] = B_merge.apply(lambda row: distance((row['latitude'], row['longitude']), (row['lat'],row['lng']) ).km, axis = 1)\n",
    "G_merge['distance_to_city'] = G_merge.apply(lambda row: distance((row['latitude'], row['longitude']), (row['lat'],row['lng']) ).km, axis = 1)"
   ]
  },
  {
   "cell_type": "code",
   "execution_count": 19,
   "metadata": {},
   "outputs": [
    {
     "data": {
      "text/html": [
       "<div>\n",
       "<style scoped>\n",
       "    .dataframe tbody tr th:only-of-type {\n",
       "        vertical-align: middle;\n",
       "    }\n",
       "\n",
       "    .dataframe tbody tr th {\n",
       "        vertical-align: top;\n",
       "    }\n",
       "\n",
       "    .dataframe thead th {\n",
       "        text-align: right;\n",
       "    }\n",
       "</style>\n",
       "<table border=\"1\" class=\"dataframe\">\n",
       "  <thead>\n",
       "    <tr style=\"text-align: right;\">\n",
       "      <th></th>\n",
       "      <th>longitude</th>\n",
       "      <th>latitude</th>\n",
       "      <th>country_x</th>\n",
       "      <th>user</th>\n",
       "      <th>city</th>\n",
       "      <th>lat</th>\n",
       "      <th>lng</th>\n",
       "      <th>country_y</th>\n",
       "      <th>iso2</th>\n",
       "      <th>population</th>\n",
       "      <th>area</th>\n",
       "      <th>density</th>\n",
       "      <th>radius</th>\n",
       "      <th>distance_to_city</th>\n",
       "    </tr>\n",
       "  </thead>\n",
       "  <tbody>\n",
       "    <tr>\n",
       "      <th>0</th>\n",
       "      <td>-116.203451</td>\n",
       "      <td>43.6135</td>\n",
       "      <td>US</td>\n",
       "      <td>18790</td>\n",
       "      <td>Los Angeles</td>\n",
       "      <td>34.1139</td>\n",
       "      <td>-118.4068</td>\n",
       "      <td>United States</td>\n",
       "      <td>US</td>\n",
       "      <td>12750807.0</td>\n",
       "      <td>4850.00</td>\n",
       "      <td>2629.032371</td>\n",
       "      <td>39.291258</td>\n",
       "      <td>1071.665474</td>\n",
       "    </tr>\n",
       "    <tr>\n",
       "      <th>1</th>\n",
       "      <td>-116.203451</td>\n",
       "      <td>43.6135</td>\n",
       "      <td>US</td>\n",
       "      <td>18790</td>\n",
       "      <td>Dallas</td>\n",
       "      <td>32.7936</td>\n",
       "      <td>-96.7662</td>\n",
       "      <td>United States</td>\n",
       "      <td>US</td>\n",
       "      <td>5743938.0</td>\n",
       "      <td>1407.20</td>\n",
       "      <td>4081.820637</td>\n",
       "      <td>21.164255</td>\n",
       "      <td>2074.975030</td>\n",
       "    </tr>\n",
       "    <tr>\n",
       "      <th>2</th>\n",
       "      <td>-116.203451</td>\n",
       "      <td>43.6135</td>\n",
       "      <td>US</td>\n",
       "      <td>18790</td>\n",
       "      <td>Philadelphia</td>\n",
       "      <td>40.0077</td>\n",
       "      <td>-75.1339</td>\n",
       "      <td>United States</td>\n",
       "      <td>US</td>\n",
       "      <td>5649300.0</td>\n",
       "      <td>142.70</td>\n",
       "      <td>39588.647512</td>\n",
       "      <td>6.739645</td>\n",
       "      <td>3401.119974</td>\n",
       "    </tr>\n",
       "    <tr>\n",
       "      <th>3</th>\n",
       "      <td>-116.203451</td>\n",
       "      <td>43.6135</td>\n",
       "      <td>US</td>\n",
       "      <td>18790</td>\n",
       "      <td>Houston</td>\n",
       "      <td>29.7863</td>\n",
       "      <td>-95.3889</td>\n",
       "      <td>United States</td>\n",
       "      <td>US</td>\n",
       "      <td>5464251.0</td>\n",
       "      <td>1062.00</td>\n",
       "      <td>5145.245763</td>\n",
       "      <td>18.386003</td>\n",
       "      <td>2399.046326</td>\n",
       "    </tr>\n",
       "    <tr>\n",
       "      <th>4</th>\n",
       "      <td>-116.203451</td>\n",
       "      <td>43.6135</td>\n",
       "      <td>US</td>\n",
       "      <td>18790</td>\n",
       "      <td>San Diego</td>\n",
       "      <td>32.8312</td>\n",
       "      <td>-117.1225</td>\n",
       "      <td>United States</td>\n",
       "      <td>US</td>\n",
       "      <td>3220118.0</td>\n",
       "      <td>372.42</td>\n",
       "      <td>8646.469040</td>\n",
       "      <td>10.887836</td>\n",
       "      <td>1199.531108</td>\n",
       "    </tr>\n",
       "  </tbody>\n",
       "</table>\n",
       "</div>"
      ],
      "text/plain": [
       "    longitude  latitude country_x   user          city      lat       lng  \\\n",
       "0 -116.203451   43.6135        US  18790   Los Angeles  34.1139 -118.4068   \n",
       "1 -116.203451   43.6135        US  18790        Dallas  32.7936  -96.7662   \n",
       "2 -116.203451   43.6135        US  18790  Philadelphia  40.0077  -75.1339   \n",
       "3 -116.203451   43.6135        US  18790       Houston  29.7863  -95.3889   \n",
       "4 -116.203451   43.6135        US  18790     San Diego  32.8312 -117.1225   \n",
       "\n",
       "       country_y iso2  population     area       density     radius  \\\n",
       "0  United States   US  12750807.0  4850.00   2629.032371  39.291258   \n",
       "1  United States   US   5743938.0  1407.20   4081.820637  21.164255   \n",
       "2  United States   US   5649300.0   142.70  39588.647512   6.739645   \n",
       "3  United States   US   5464251.0  1062.00   5145.245763  18.386003   \n",
       "4  United States   US   3220118.0   372.42   8646.469040  10.887836   \n",
       "\n",
       "   distance_to_city  \n",
       "0       1071.665474  \n",
       "1       2074.975030  \n",
       "2       3401.119974  \n",
       "3       2399.046326  \n",
       "4       1199.531108  "
      ]
     },
     "execution_count": 19,
     "metadata": {},
     "output_type": "execute_result"
    }
   ],
   "source": [
    "B_merge.head()"
   ]
  },
  {
   "cell_type": "code",
   "execution_count": 20,
   "metadata": {},
   "outputs": [],
   "source": [
    "B_lives_urban = B_merge.groupby(\"user\").apply(lambda x: (x['distance_to_city'] < x['radius']).any()).to_frame()\n",
    "B_lives_urban = B_lives_urban.rename(columns = {0:'lives_urban'})\n",
    "\n",
    "G_lives_urban = G_merge.groupby(\"user\").apply(lambda x: (x['distance_to_city'] < x['radius']).any()).to_frame()\n",
    "G_lives_urban = G_lives_urban.rename(columns = {0:'lives_urban'})"
   ]
  },
  {
   "cell_type": "code",
   "execution_count": 21,
   "metadata": {},
   "outputs": [],
   "source": [
    "# Integrate the 'lives_urban' variable into the home location datasets\n",
    "B_homes = B_homes.merge(B_lives_urban, left_on = 'user', right_index = True)\n",
    "G_homes = G_homes.merge(G_lives_urban, left_on = 'user', right_index = True)"
   ]
  },
  {
   "cell_type": "code",
   "execution_count": 22,
   "metadata": {},
   "outputs": [
    {
     "data": {
      "text/html": [
       "<div>\n",
       "<style scoped>\n",
       "    .dataframe tbody tr th:only-of-type {\n",
       "        vertical-align: middle;\n",
       "    }\n",
       "\n",
       "    .dataframe tbody tr th {\n",
       "        vertical-align: top;\n",
       "    }\n",
       "\n",
       "    .dataframe thead th {\n",
       "        text-align: right;\n",
       "    }\n",
       "</style>\n",
       "<table border=\"1\" class=\"dataframe\">\n",
       "  <thead>\n",
       "    <tr style=\"text-align: right;\">\n",
       "      <th></th>\n",
       "      <th>longitude</th>\n",
       "      <th>latitude</th>\n",
       "      <th>country</th>\n",
       "      <th>user</th>\n",
       "      <th>lives_urban</th>\n",
       "    </tr>\n",
       "    <tr>\n",
       "      <th>user_id</th>\n",
       "      <th></th>\n",
       "      <th></th>\n",
       "      <th></th>\n",
       "      <th></th>\n",
       "      <th></th>\n",
       "    </tr>\n",
       "  </thead>\n",
       "  <tbody>\n",
       "    <tr>\n",
       "      <th>76280</th>\n",
       "      <td>-117.886019</td>\n",
       "      <td>33.801853</td>\n",
       "      <td>US</td>\n",
       "      <td>76280</td>\n",
       "      <td>False</td>\n",
       "    </tr>\n",
       "    <tr>\n",
       "      <th>186772</th>\n",
       "      <td>17.227778</td>\n",
       "      <td>62.410301</td>\n",
       "      <td>SE</td>\n",
       "      <td>186772</td>\n",
       "      <td>False</td>\n",
       "    </tr>\n",
       "    <tr>\n",
       "      <th>55115</th>\n",
       "      <td>-121.305415</td>\n",
       "      <td>44.064791</td>\n",
       "      <td>US</td>\n",
       "      <td>55115</td>\n",
       "      <td>False</td>\n",
       "    </tr>\n",
       "    <tr>\n",
       "      <th>28361</th>\n",
       "      <td>-86.806300</td>\n",
       "      <td>33.482397</td>\n",
       "      <td>US</td>\n",
       "      <td>28361</td>\n",
       "      <td>True</td>\n",
       "    </tr>\n",
       "    <tr>\n",
       "      <th>132303</th>\n",
       "      <td>11.984316</td>\n",
       "      <td>57.693889</td>\n",
       "      <td>SE</td>\n",
       "      <td>132303</td>\n",
       "      <td>False</td>\n",
       "    </tr>\n",
       "  </tbody>\n",
       "</table>\n",
       "</div>"
      ],
      "text/plain": [
       "          longitude   latitude country    user  lives_urban\n",
       "user_id                                                    \n",
       "76280   -117.886019  33.801853      US   76280        False\n",
       "186772    17.227778  62.410301      SE  186772        False\n",
       "55115   -121.305415  44.064791      US   55115        False\n",
       "28361    -86.806300  33.482397      US   28361         True\n",
       "132303    11.984316  57.693889      SE  132303        False"
      ]
     },
     "execution_count": 22,
     "metadata": {},
     "output_type": "execute_result"
    }
   ],
   "source": [
    "B_homes.head()\n",
    "G_homes.head()"
   ]
  },
  {
   "cell_type": "code",
   "execution_count": 23,
   "metadata": {},
   "outputs": [],
   "source": [
    "# Save intermediate results\n",
    "# Save home locations\n",
    "B_merge.to_pickle(\"B_merge_.pickle\")\n",
    "G_merge.to_pickle(\"G_merge_.pickle\")"
   ]
  },
  {
   "cell_type": "markdown",
   "metadata": {},
   "source": [
    "### Calculate # friends per user, group by rural/city and compare amount of friends\n"
   ]
  },
  {
   "cell_type": "code",
   "execution_count": 24,
   "metadata": {},
   "outputs": [],
   "source": [
    "B_friends = B_edges.groupby('from_id').count()\n",
    "G_friends = G_edges.groupby('from_id').count()"
   ]
  },
  {
   "cell_type": "code",
   "execution_count": 25,
   "metadata": {},
   "outputs": [],
   "source": [
    "B_homes = B_homes.merge(B_friends, left_on = 'user', right_index = True).rename(columns = {'to_id':'#_friends'})\n",
    "G_homes = G_homes.merge(G_friends, left_on = 'user', right_index = True).rename(columns = {'to_id':'#_friends'})"
   ]
  },
  {
   "cell_type": "code",
   "execution_count": 26,
   "metadata": {},
   "outputs": [
    {
     "data": {
      "text/html": [
       "<div>\n",
       "<style scoped>\n",
       "    .dataframe tbody tr th:only-of-type {\n",
       "        vertical-align: middle;\n",
       "    }\n",
       "\n",
       "    .dataframe tbody tr th {\n",
       "        vertical-align: top;\n",
       "    }\n",
       "\n",
       "    .dataframe thead th {\n",
       "        text-align: right;\n",
       "    }\n",
       "</style>\n",
       "<table border=\"1\" class=\"dataframe\">\n",
       "  <thead>\n",
       "    <tr style=\"text-align: right;\">\n",
       "      <th></th>\n",
       "      <th>longitude</th>\n",
       "      <th>latitude</th>\n",
       "      <th>country</th>\n",
       "      <th>user</th>\n",
       "      <th>lives_urban</th>\n",
       "      <th>#_friends</th>\n",
       "    </tr>\n",
       "    <tr>\n",
       "      <th>user_id</th>\n",
       "      <th></th>\n",
       "      <th></th>\n",
       "      <th></th>\n",
       "      <th></th>\n",
       "      <th></th>\n",
       "      <th></th>\n",
       "    </tr>\n",
       "  </thead>\n",
       "  <tbody>\n",
       "    <tr>\n",
       "      <th>18790</th>\n",
       "      <td>-116.203451</td>\n",
       "      <td>43.613500</td>\n",
       "      <td>US</td>\n",
       "      <td>18790</td>\n",
       "      <td>True</td>\n",
       "      <td>1</td>\n",
       "    </tr>\n",
       "    <tr>\n",
       "      <th>50434</th>\n",
       "      <td>-2.966667</td>\n",
       "      <td>56.500000</td>\n",
       "      <td>GB</td>\n",
       "      <td>50434</td>\n",
       "      <td>False</td>\n",
       "      <td>2</td>\n",
       "    </tr>\n",
       "    <tr>\n",
       "      <th>52196</th>\n",
       "      <td>145.133333</td>\n",
       "      <td>-37.916667</td>\n",
       "      <td>AU</td>\n",
       "      <td>52196</td>\n",
       "      <td>False</td>\n",
       "      <td>1</td>\n",
       "    </tr>\n",
       "    <tr>\n",
       "      <th>26515</th>\n",
       "      <td>139.550000</td>\n",
       "      <td>35.683333</td>\n",
       "      <td>JP</td>\n",
       "      <td>26515</td>\n",
       "      <td>True</td>\n",
       "      <td>8</td>\n",
       "    </tr>\n",
       "    <tr>\n",
       "      <th>25999</th>\n",
       "      <td>139.678110</td>\n",
       "      <td>35.640909</td>\n",
       "      <td>JP</td>\n",
       "      <td>25999</td>\n",
       "      <td>True</td>\n",
       "      <td>10</td>\n",
       "    </tr>\n",
       "  </tbody>\n",
       "</table>\n",
       "</div>"
      ],
      "text/plain": [
       "          longitude   latitude country   user  lives_urban  #_friends\n",
       "user_id                                                              \n",
       "18790   -116.203451  43.613500      US  18790         True          1\n",
       "50434     -2.966667  56.500000      GB  50434        False          2\n",
       "52196    145.133333 -37.916667      AU  52196        False          1\n",
       "26515    139.550000  35.683333      JP  26515         True          8\n",
       "25999    139.678110  35.640909      JP  25999         True         10"
      ]
     },
     "execution_count": 26,
     "metadata": {},
     "output_type": "execute_result"
    }
   ],
   "source": [
    "B_homes.head()"
   ]
  },
  {
   "cell_type": "markdown",
   "metadata": {},
   "source": [
    "### Compare amount of friends for urban/ rural users"
   ]
  },
  {
   "cell_type": "code",
   "execution_count": 27,
   "metadata": {
    "scrolled": true
   },
   "outputs": [
    {
     "data": {
      "text/html": [
       "<div>\n",
       "<style scoped>\n",
       "    .dataframe tbody tr th:only-of-type {\n",
       "        vertical-align: middle;\n",
       "    }\n",
       "\n",
       "    .dataframe tbody tr th {\n",
       "        vertical-align: top;\n",
       "    }\n",
       "\n",
       "    .dataframe thead th {\n",
       "        text-align: right;\n",
       "    }\n",
       "</style>\n",
       "<table border=\"1\" class=\"dataframe\">\n",
       "  <thead>\n",
       "    <tr style=\"text-align: right;\">\n",
       "      <th></th>\n",
       "      <th>count</th>\n",
       "      <th>mean</th>\n",
       "      <th>std</th>\n",
       "      <th>min</th>\n",
       "      <th>25%</th>\n",
       "      <th>50%</th>\n",
       "      <th>75%</th>\n",
       "      <th>max</th>\n",
       "    </tr>\n",
       "    <tr>\n",
       "      <th>lives_urban</th>\n",
       "      <th></th>\n",
       "      <th></th>\n",
       "      <th></th>\n",
       "      <th></th>\n",
       "      <th></th>\n",
       "      <th></th>\n",
       "      <th></th>\n",
       "      <th></th>\n",
       "    </tr>\n",
       "  </thead>\n",
       "  <tbody>\n",
       "    <tr>\n",
       "      <th>False</th>\n",
       "      <td>2729.0</td>\n",
       "      <td>7.913155</td>\n",
       "      <td>27.909445</td>\n",
       "      <td>1.0</td>\n",
       "      <td>1.0</td>\n",
       "      <td>3.0</td>\n",
       "      <td>7.0</td>\n",
       "      <td>854.0</td>\n",
       "    </tr>\n",
       "    <tr>\n",
       "      <th>True</th>\n",
       "      <td>1178.0</td>\n",
       "      <td>10.084041</td>\n",
       "      <td>35.983696</td>\n",
       "      <td>1.0</td>\n",
       "      <td>1.0</td>\n",
       "      <td>3.0</td>\n",
       "      <td>8.0</td>\n",
       "      <td>1055.0</td>\n",
       "    </tr>\n",
       "  </tbody>\n",
       "</table>\n",
       "</div>"
      ],
      "text/plain": [
       "              count       mean        std  min  25%  50%  75%     max\n",
       "lives_urban                                                          \n",
       "False        2729.0   7.913155  27.909445  1.0  1.0  3.0  7.0   854.0\n",
       "True         1178.0  10.084041  35.983696  1.0  1.0  3.0  8.0  1055.0"
      ]
     },
     "execution_count": 27,
     "metadata": {},
     "output_type": "execute_result"
    }
   ],
   "source": [
    "B_homes.groupby('lives_urban')['#_friends'].describe()"
   ]
  },
  {
   "cell_type": "code",
   "execution_count": 28,
   "metadata": {},
   "outputs": [
    {
     "data": {
      "text/html": [
       "<div>\n",
       "<style scoped>\n",
       "    .dataframe tbody tr th:only-of-type {\n",
       "        vertical-align: middle;\n",
       "    }\n",
       "\n",
       "    .dataframe tbody tr th {\n",
       "        vertical-align: top;\n",
       "    }\n",
       "\n",
       "    .dataframe thead th {\n",
       "        text-align: right;\n",
       "    }\n",
       "</style>\n",
       "<table border=\"1\" class=\"dataframe\">\n",
       "  <thead>\n",
       "    <tr style=\"text-align: right;\">\n",
       "      <th></th>\n",
       "      <th>count</th>\n",
       "      <th>mean</th>\n",
       "      <th>std</th>\n",
       "      <th>min</th>\n",
       "      <th>25%</th>\n",
       "      <th>50%</th>\n",
       "      <th>75%</th>\n",
       "      <th>max</th>\n",
       "    </tr>\n",
       "    <tr>\n",
       "      <th>lives_urban</th>\n",
       "      <th></th>\n",
       "      <th></th>\n",
       "      <th></th>\n",
       "      <th></th>\n",
       "      <th></th>\n",
       "      <th></th>\n",
       "      <th></th>\n",
       "      <th></th>\n",
       "    </tr>\n",
       "  </thead>\n",
       "  <tbody>\n",
       "    <tr>\n",
       "      <th>False</th>\n",
       "      <td>2723.0</td>\n",
       "      <td>12.518546</td>\n",
       "      <td>39.994672</td>\n",
       "      <td>1.0</td>\n",
       "      <td>2.0</td>\n",
       "      <td>5.0</td>\n",
       "      <td>11.0</td>\n",
       "      <td>941.0</td>\n",
       "    </tr>\n",
       "    <tr>\n",
       "      <th>True</th>\n",
       "      <td>1105.0</td>\n",
       "      <td>13.542986</td>\n",
       "      <td>45.154728</td>\n",
       "      <td>1.0</td>\n",
       "      <td>2.0</td>\n",
       "      <td>4.0</td>\n",
       "      <td>10.0</td>\n",
       "      <td>942.0</td>\n",
       "    </tr>\n",
       "  </tbody>\n",
       "</table>\n",
       "</div>"
      ],
      "text/plain": [
       "              count       mean        std  min  25%  50%   75%    max\n",
       "lives_urban                                                          \n",
       "False        2723.0  12.518546  39.994672  1.0  2.0  5.0  11.0  941.0\n",
       "True         1105.0  13.542986  45.154728  1.0  2.0  4.0  10.0  942.0"
      ]
     },
     "execution_count": 28,
     "metadata": {},
     "output_type": "execute_result"
    }
   ],
   "source": [
    "G_homes.groupby('lives_urban')['#_friends'].describe()"
   ]
  },
  {
   "cell_type": "code",
   "execution_count": 29,
   "metadata": {},
   "outputs": [
    {
     "name": "stderr",
     "output_type": "stream",
     "text": [
      "/home/mogan/anaconda3/lib/python3.8/site-packages/seaborn/distributions.py:2551: FutureWarning: `distplot` is a deprecated function and will be removed in a future version. Please adapt your code to use either `displot` (a figure-level function with similar flexibility) or `kdeplot` (an axes-level function for kernel density plots).\n",
      "  warnings.warn(msg, FutureWarning)\n",
      "/home/mogan/anaconda3/lib/python3.8/site-packages/seaborn/distributions.py:2551: FutureWarning: `distplot` is a deprecated function and will be removed in a future version. Please adapt your code to use either `displot` (a figure-level function with similar flexibility) or `kdeplot` (an axes-level function for kernel density plots).\n",
      "  warnings.warn(msg, FutureWarning)\n"
     ]
    },
    {
     "data": {
      "image/png": "[encoded data removed]",
      "text/plain": [
       "<Figure size 576x432 with 1 Axes>"
      ]
     },
     "metadata": {
      "needs_background": "light"
     },
     "output_type": "display_data"
    }
   ],
   "source": [
    "B_urban = B_homes[B_homes['lives_urban'] == True]\n",
    "B_rural = B_homes[B_homes['lives_urban'] == False]\n",
    "\n",
    "plt.figure(figsize=(8,6))\n",
    "sns.distplot(B_rural['#_friends'], label='rural', hist=False)\n",
    "sns.distplot(B_urban['#_friends'], label='urban', hist=False)\n",
    "plt.legend();"
   ]
  },
  {
   "cell_type": "code",
   "execution_count": 54,
   "metadata": {},
   "outputs": [
    {
     "data": {
      "text/html": [
       "<div>\n",
       "<style scoped>\n",
       "    .dataframe tbody tr th:only-of-type {\n",
       "        vertical-align: middle;\n",
       "    }\n",
       "\n",
       "    .dataframe tbody tr th {\n",
       "        vertical-align: top;\n",
       "    }\n",
       "\n",
       "    .dataframe thead th {\n",
       "        text-align: right;\n",
       "    }\n",
       "</style>\n",
       "<table border=\"1\" class=\"dataframe\">\n",
       "  <thead>\n",
       "    <tr style=\"text-align: right;\">\n",
       "      <th></th>\n",
       "      <th>longitude</th>\n",
       "      <th>latitude</th>\n",
       "      <th>country</th>\n",
       "      <th>user</th>\n",
       "      <th>lives_urban</th>\n",
       "      <th>#_friends</th>\n",
       "    </tr>\n",
       "    <tr>\n",
       "      <th>user_id</th>\n",
       "      <th></th>\n",
       "      <th></th>\n",
       "      <th></th>\n",
       "      <th></th>\n",
       "      <th></th>\n",
       "      <th></th>\n",
       "    </tr>\n",
       "  </thead>\n",
       "  <tbody>\n",
       "    <tr>\n",
       "      <th>76280</th>\n",
       "      <td>-117.886019</td>\n",
       "      <td>33.801853</td>\n",
       "      <td>US</td>\n",
       "      <td>76280</td>\n",
       "      <td>False</td>\n",
       "      <td>1</td>\n",
       "    </tr>\n",
       "    <tr>\n",
       "      <th>186772</th>\n",
       "      <td>17.227778</td>\n",
       "      <td>62.410301</td>\n",
       "      <td>SE</td>\n",
       "      <td>186772</td>\n",
       "      <td>False</td>\n",
       "      <td>2</td>\n",
       "    </tr>\n",
       "    <tr>\n",
       "      <th>55115</th>\n",
       "      <td>-121.305415</td>\n",
       "      <td>44.064791</td>\n",
       "      <td>US</td>\n",
       "      <td>55115</td>\n",
       "      <td>False</td>\n",
       "      <td>11</td>\n",
       "    </tr>\n",
       "    <tr>\n",
       "      <th>28361</th>\n",
       "      <td>-86.806300</td>\n",
       "      <td>33.482397</td>\n",
       "      <td>US</td>\n",
       "      <td>28361</td>\n",
       "      <td>True</td>\n",
       "      <td>47</td>\n",
       "    </tr>\n",
       "    <tr>\n",
       "      <th>132303</th>\n",
       "      <td>11.984316</td>\n",
       "      <td>57.693889</td>\n",
       "      <td>SE</td>\n",
       "      <td>132303</td>\n",
       "      <td>False</td>\n",
       "      <td>5</td>\n",
       "    </tr>\n",
       "    <tr>\n",
       "      <th>...</th>\n",
       "      <td>...</td>\n",
       "      <td>...</td>\n",
       "      <td>...</td>\n",
       "      <td>...</td>\n",
       "      <td>...</td>\n",
       "      <td>...</td>\n",
       "    </tr>\n",
       "    <tr>\n",
       "      <th>112421</th>\n",
       "      <td>14.534028</td>\n",
       "      <td>61.006525</td>\n",
       "      <td>SE</td>\n",
       "      <td>112421</td>\n",
       "      <td>False</td>\n",
       "      <td>3</td>\n",
       "    </tr>\n",
       "    <tr>\n",
       "      <th>121558</th>\n",
       "      <td>-84.211276</td>\n",
       "      <td>40.037755</td>\n",
       "      <td>US</td>\n",
       "      <td>121558</td>\n",
       "      <td>False</td>\n",
       "      <td>3</td>\n",
       "    </tr>\n",
       "    <tr>\n",
       "      <th>146310</th>\n",
       "      <td>11.926609</td>\n",
       "      <td>57.657156</td>\n",
       "      <td>SE</td>\n",
       "      <td>146310</td>\n",
       "      <td>False</td>\n",
       "      <td>2</td>\n",
       "    </tr>\n",
       "    <tr>\n",
       "      <th>153357</th>\n",
       "      <td>14.681753</td>\n",
       "      <td>63.167345</td>\n",
       "      <td>SE</td>\n",
       "      <td>153357</td>\n",
       "      <td>False</td>\n",
       "      <td>3</td>\n",
       "    </tr>\n",
       "    <tr>\n",
       "      <th>24753</th>\n",
       "      <td>-83.034740</td>\n",
       "      <td>39.987322</td>\n",
       "      <td>US</td>\n",
       "      <td>24753</td>\n",
       "      <td>False</td>\n",
       "      <td>14</td>\n",
       "    </tr>\n",
       "  </tbody>\n",
       "</table>\n",
       "<p>3828 rows × 6 columns</p>\n",
       "</div>"
      ],
      "text/plain": [
       "          longitude   latitude country    user  lives_urban  #_friends\n",
       "user_id                                                               \n",
       "76280   -117.886019  33.801853      US   76280        False          1\n",
       "186772    17.227778  62.410301      SE  186772        False          2\n",
       "55115   -121.305415  44.064791      US   55115        False         11\n",
       "28361    -86.806300  33.482397      US   28361         True         47\n",
       "132303    11.984316  57.693889      SE  132303        False          5\n",
       "...             ...        ...     ...     ...          ...        ...\n",
       "112421    14.534028  61.006525      SE  112421        False          3\n",
       "121558   -84.211276  40.037755      US  121558        False          3\n",
       "146310    11.926609  57.657156      SE  146310        False          2\n",
       "153357    14.681753  63.167345      SE  153357        False          3\n",
       "24753    -83.034740  39.987322      US   24753        False         14\n",
       "\n",
       "[3828 rows x 6 columns]"
      ]
     },
     "execution_count": 54,
     "metadata": {},
     "output_type": "execute_result"
    }
   ],
   "source": [
    "G_homes"
   ]
  },
  {
   "cell_type": "code",
   "execution_count": 62,
   "metadata": {},
   "outputs": [
    {
     "data": {
      "text/plain": [
       "<seaborn.axisgrid.FacetGrid at 0x7fc91554faf0>"
      ]
     },
     "execution_count": 62,
     "metadata": {},
     "output_type": "execute_result"
    },
    {
     "data": {
      "text/plain": [
       "<Figure size 576x432 with 0 Axes>"
      ]
     },
     "metadata": {},
     "output_type": "display_data"
    },
    {
     "data": {
      "image/png": "[encoded data removed]",
      "text/plain": [
       "<Figure size 425.25x360 with 1 Axes>"
      ]
     },
     "metadata": {
      "needs_background": "light"
     },
     "output_type": "display_data"
    }
   ],
   "source": [
    "G_urban = G_homes[G_homes['lives_urban'] == True]\n",
    "G_rural = G_homes[G_homes['lives_urban'] == False]\n",
    "\n",
    "plt.figure(figsize=(8,6))\n",
    "sns.displot(data = G_homes, x = '#_friends', hue='lives_urban', kind=\"hist\", bins = 30)\n",
    "#sns.displot(G_urban['#_friends'], label='urban', kind=\"hist\")\n",
    "#plt.legend();"
   ]
  },
  {
   "cell_type": "markdown",
   "metadata": {},
   "source": [
    "### Statistical Test to investigate significant effect"
   ]
  },
  {
   "cell_type": "markdown",
   "metadata": {},
   "source": [
    "We will perform a poisson-test to inspect whether the two samples stem from the same possion distribution. We assume $\\alpha = 0.05$.\n",
    "\n",
    "Check assumptions:\n",
    "1. Underlying distribution is a poisson\n",
    "2. estimate the four rates, $\\lambda_{bk-urban}, \\lambda_{bk-rural},\\lambda_{gw-urban},\\lambda_{gw-rural}$"
   ]
  },
  {
   "cell_type": "code",
   "execution_count": 31,
   "metadata": {
    "scrolled": true
   },
   "outputs": [
    {
     "name": "stdout",
     "output_type": "stream",
     "text": [
      "All four distributions seems to be a bit more skewed than expected for a poisson distribution.\n"
     ]
    },
    {
     "data": {
      "image/png": "[encoded data removed]",
      "text/plain": [
       "<Figure size 432x288 with 4 Axes>"
      ]
     },
     "metadata": {
      "needs_background": "light"
     },
     "output_type": "display_data"
    }
   ],
   "source": [
    "# 2. Inspect the distribution of the data\n",
    "fig, ((ax1, ax2), (ax3, ax4)) = plt.subplots(2,2)\n",
    "\n",
    "data = B_urban['#_friends']\n",
    "stats.probplot(B_urban['#_friends'], dist='poisson', sparams=(2.5,), plot=ax1)\n",
    "stats.probplot(B_rural['#_friends'], dist='poisson', sparams=(2.5,), plot=ax2)\n",
    "stats.probplot(G_urban['#_friends'], dist='poisson', sparams=(2.5,), plot=ax3)\n",
    "stats.probplot(G_rural['#_friends'], dist='poisson', sparams=(2.5,), plot=ax4)\n",
    "fig.tight_layout()\n",
    "\n",
    "print(\"All four distributions seems to be a bit more skewed than expected for a poisson distribution.\")"
   ]
  },
  {
   "cell_type": "code",
   "execution_count": 32,
   "metadata": {
    "scrolled": true
   },
   "outputs": [
    {
     "name": "stdout",
     "output_type": "stream",
     "text": [
      "Brighkite data does not come from the same poisson distribution given alpha = 0.05, and a p-value of 0.047074.\n"
     ]
    }
   ],
   "source": [
    "sample1_k, sample1_n = B_urban['#_friends'].mean(), len(B_urban)\n",
    "sample2_k, sample2_n = B_rural['#_friends'].mean(), len(B_rural)\n",
    "poiss_p_1 = poisson_etest(sample1_k, sample2_k, sample1_n, sample2_n)\n",
    "print(f\"Brighkite data does not come from the same poisson distribution given alpha = 0.05, and a p-value of {round(poiss_p_1,6)}.\")"
   ]
  },
  {
   "cell_type": "code",
   "execution_count": 33,
   "metadata": {
    "scrolled": true
   },
   "outputs": [
    {
     "name": "stdout",
     "output_type": "stream",
     "text": [
      "Gowalla data does not come from the same poisson distribution given alpha = 0.05, and a p-value of 0.042888.\n"
     ]
    }
   ],
   "source": [
    "sample1_k, sample1_n = G_urban['#_friends'].mean(), len(G_urban)\n",
    "sample2_k, sample2_n = G_rural['#_friends'].mean(), len(G_rural)\n",
    "poiss_p_2 = poisson_etest(sample1_k, sample2_k, sample1_n, sample2_n)\n",
    "print(f\"Gowalla data does not come from the same poisson distribution given alpha = 0.05, and a p-value of {round(poiss_p_2,6)}.\")"
   ]
  },
  {
   "cell_type": "markdown",
   "metadata": {},
   "source": [
    "TODO \n",
    "Do directional hypothesis"
   ]
  },
  {
   "cell_type": "markdown",
   "metadata": {},
   "source": [
    "## OLD"
   ]
  },
  {
   "cell_type": "code",
   "execution_count": 34,
   "metadata": {},
   "outputs": [],
   "source": [
    "# 1. Check for equal variances:\n",
    "# The Levene test tests the null hypothesis that all input samples are from populations with equal variances.\n",
    "\n",
    "#_, p1 = levene(B_urban['#_friends'], B_rural['#_friends'])\n",
    "#_, p2 = levene(G_urban['#_friends'], G_rural['#_friends'])\n",
    "\n",
    "#print(\" p-value Brightkite:\", p1, \"\\n\", \"p-value Gowalla:\", p2, \"\\n\")\n",
    "#print(\"We reject the null hypothesis that all input samples are from populations with equal variance for the Brightkite data, but not for the Gowalla data.\")"
   ]
  },
  {
   "cell_type": "code",
   "execution_count": 35,
   "metadata": {},
   "outputs": [
    {
     "data": {
      "text/plain": [
       "Ttest_indResult(statistic=1.8449063677581616, pvalue=0.065214003422082861)"
      ]
     },
     "execution_count": 35,
     "metadata": {},
     "output_type": "execute_result"
    }
   ],
   "source": [
    "stats.ttest_ind(B_urban['#_friends'],B_rural['#_friends'], equal_var = False)"
   ]
  },
  {
   "cell_type": "code",
   "execution_count": 36,
   "metadata": {
    "scrolled": true
   },
   "outputs": [
    {
     "data": {
      "text/plain": [
       "Ttest_indResult(statistic=0.69125864711956675, pvalue=0.48944495335123128)"
      ]
     },
     "execution_count": 36,
     "metadata": {},
     "output_type": "execute_result"
    }
   ],
   "source": [
    "##  Perform the t-test\n",
    "stats.ttest_ind(G_urban['#_friends'],G_rural['#_friends'], equal_var = True)"
   ]
  }
 ],
 "metadata": {
  "kernelspec": {
   "display_name": "Python 3",
   "language": "python",
   "name": "python3"
  },
  "language_info": {
   "codemirror_mode": {
    "name": "ipython",
    "version": 3
   },
   "file_extension": ".py",
   "mimetype": "text/x-python",
   "name": "python",
   "nbconvert_exporter": "python",
   "pygments_lexer": "ipython3",
   "version": "3.8.3"
  }
 },
 "nbformat": 4,
 "nbformat_minor": 4
}
