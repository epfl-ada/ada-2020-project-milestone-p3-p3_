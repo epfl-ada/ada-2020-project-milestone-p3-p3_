{
 "cells": [
  {
   "cell_type": "code",
   "execution_count": 10,
   "metadata": {},
   "outputs": [],
   "source": [
    "import pandas as pd"
   ]
  },
  {
   "cell_type": "code",
   "execution_count": 13,
   "metadata": {},
   "outputs": [
    {
     "name": "stdout",
     "output_type": "stream",
     "text": [
      "/home/mogan/Desktop/z_ada/ada-2020-project-milestone-p3-p3_/data\n"
     ]
    },
    {
     "data": {
      "text/html": [
       "<div>\n",
       "<style scoped>\n",
       "    .dataframe tbody tr th:only-of-type {\n",
       "        vertical-align: middle;\n",
       "    }\n",
       "\n",
       "    .dataframe tbody tr th {\n",
       "        vertical-align: top;\n",
       "    }\n",
       "\n",
       "    .dataframe thead th {\n",
       "        text-align: right;\n",
       "    }\n",
       "</style>\n",
       "<table border=\"1\" class=\"dataframe\">\n",
       "  <thead>\n",
       "    <tr style=\"text-align: right;\">\n",
       "      <th></th>\n",
       "      <th>name</th>\n",
       "      <th>alpha_2</th>\n",
       "      <th>alpha_3</th>\n",
       "      <th>languages</th>\n",
       "      <th>main_religion</th>\n",
       "    </tr>\n",
       "  </thead>\n",
       "  <tbody>\n",
       "    <tr>\n",
       "      <th>0</th>\n",
       "      <td>Afghanistan</td>\n",
       "      <td>AF</td>\n",
       "      <td>AFG</td>\n",
       "      <td>Afghan</td>\n",
       "      <td>Islam</td>\n",
       "    </tr>\n",
       "    <tr>\n",
       "      <th>1</th>\n",
       "      <td>Albania</td>\n",
       "      <td>AL</td>\n",
       "      <td>ALB</td>\n",
       "      <td>Albanian</td>\n",
       "      <td>Islam</td>\n",
       "    </tr>\n",
       "    <tr>\n",
       "      <th>2</th>\n",
       "      <td>Algeria</td>\n",
       "      <td>DZ</td>\n",
       "      <td>DZA</td>\n",
       "      <td>Arabic</td>\n",
       "      <td>Islam</td>\n",
       "    </tr>\n",
       "    <tr>\n",
       "      <th>3</th>\n",
       "      <td>Andorra</td>\n",
       "      <td>AD</td>\n",
       "      <td>AND</td>\n",
       "      <td>Catalan</td>\n",
       "      <td>Roman Catholic</td>\n",
       "    </tr>\n",
       "    <tr>\n",
       "      <th>4</th>\n",
       "      <td>Angola</td>\n",
       "      <td>AO</td>\n",
       "      <td>AGO</td>\n",
       "      <td>Portuguese</td>\n",
       "      <td>Christianity</td>\n",
       "    </tr>\n",
       "    <tr>\n",
       "      <th>...</th>\n",
       "      <td>...</td>\n",
       "      <td>...</td>\n",
       "      <td>...</td>\n",
       "      <td>...</td>\n",
       "      <td>...</td>\n",
       "    </tr>\n",
       "    <tr>\n",
       "      <th>192</th>\n",
       "      <td>Korea, Democratic People's Republic of</td>\n",
       "      <td>KP</td>\n",
       "      <td>PRK</td>\n",
       "      <td>Korean</td>\n",
       "      <td>Buddhism</td>\n",
       "    </tr>\n",
       "    <tr>\n",
       "      <th>193</th>\n",
       "      <td>Korea, Republic of</td>\n",
       "      <td>KR</td>\n",
       "      <td>KOR</td>\n",
       "      <td>Korean</td>\n",
       "      <td>Christianity</td>\n",
       "    </tr>\n",
       "    <tr>\n",
       "      <th>194</th>\n",
       "      <td>Lao People's Democratic Republic</td>\n",
       "      <td>LA</td>\n",
       "      <td>LAO</td>\n",
       "      <td>Lao</td>\n",
       "      <td>Buddhism</td>\n",
       "    </tr>\n",
       "    <tr>\n",
       "      <th>195</th>\n",
       "      <td>Palestine, State of</td>\n",
       "      <td>PS</td>\n",
       "      <td>PSE</td>\n",
       "      <td>Palauan</td>\n",
       "      <td>Islam</td>\n",
       "    </tr>\n",
       "    <tr>\n",
       "      <th>196</th>\n",
       "      <td>Sao Tome and Principe</td>\n",
       "      <td>ST</td>\n",
       "      <td>STP</td>\n",
       "      <td>Portuguese</td>\n",
       "      <td>Christianity</td>\n",
       "    </tr>\n",
       "  </tbody>\n",
       "</table>\n",
       "<p>197 rows × 5 columns</p>\n",
       "</div>"
      ],
      "text/plain": [
       "                                       name alpha_2 alpha_3   languages  \\\n",
       "0                               Afghanistan      AF     AFG      Afghan   \n",
       "1                                   Albania      AL     ALB    Albanian   \n",
       "2                                   Algeria      DZ     DZA      Arabic   \n",
       "3                                   Andorra      AD     AND     Catalan   \n",
       "4                                    Angola      AO     AGO  Portuguese   \n",
       "..                                      ...     ...     ...         ...   \n",
       "192  Korea, Democratic People's Republic of      KP     PRK      Korean   \n",
       "193                      Korea, Republic of      KR     KOR      Korean   \n",
       "194        Lao People's Democratic Republic      LA     LAO         Lao   \n",
       "195                     Palestine, State of      PS     PSE     Palauan   \n",
       "196                   Sao Tome and Principe      ST     STP  Portuguese   \n",
       "\n",
       "      main_religion  \n",
       "0             Islam  \n",
       "1             Islam  \n",
       "2             Islam  \n",
       "3    Roman Catholic  \n",
       "4      Christianity  \n",
       "..              ...  \n",
       "192        Buddhism  \n",
       "193    Christianity  \n",
       "194        Buddhism  \n",
       "195           Islam  \n",
       "196    Christianity  \n",
       "\n",
       "[197 rows x 5 columns]"
      ]
     },
     "execution_count": 13,
     "metadata": {},
     "output_type": "execute_result"
    }
   ],
   "source": [
    "%cd \"/home/mogan/Desktop/z_ada/ada-2020-project-milestone-p3-p3_/data\"\n",
    "\n",
    "countries = pd.read_pickle(\"countries.pkl\")\n",
    "\n",
    "countries"
   ]
  },
  {
   "cell_type": "code",
   "execution_count": 35,
   "metadata": {
    "scrolled": true
   },
   "outputs": [
    {
     "data": {
      "application/vnd.plotly.v1+json": {
       "config": {
        "plotlyServerURL": "https://plot.ly"
       },
       "data": [
        {
         "colorscale": [
          [
           0,
           "rgb(133, 92, 117)"
          ],
          [
           1,
           "rgb(133, 92, 117)"
          ]
         ],
         "geo": "geo",
         "hovertemplate": "<b>%{hovertext}</b><br><br>languages=Afghan<br>alpha_3=%{location}<extra></extra>",
         "hovertext": [
          "Afghanistan"
         ],
         "locations": [
          "AFG"
         ],
         "name": "Afghan",
         "showlegend": true,
         "showscale": false,
         "type": "choropleth",
         "z": [
          1
         ]
        },
        {
         "colorscale": [
          [
           0,
           "rgb(217, 175, 107)"
          ],
          [
           1,
           "rgb(217, 175, 107)"
          ]
         ],
         "geo": "geo",
         "hovertemplate": "<b>%{hovertext}</b><br><br>languages=Albanian<br>alpha_3=%{location}<extra></extra>",
         "hovertext": [
          "Albania"
         ],
         "locations": [
          "ALB"
         ],
         "name": "Albanian",
         "showlegend": true,
         "showscale": false,
         "type": "choropleth",
         "z": [
          1
         ]
        },
        {
         "colorscale": [
          [
           0,
           "rgb(175, 100, 88)"
          ],
          [
           1,
           "rgb(175, 100, 88)"
          ]
         ],
         "geo": "geo",
         "hovertemplate": "<b>%{hovertext}</b><br><br>languages=Arabic<br>alpha_3=%{location}<extra></extra>",
         "hovertext": [
          "Algeria",
          "Bahrain",
          "Comoros",
          "Egypt",
          "Iraq",
          "Jordan",
          "Kuwait",
          "Lebanon",
          "Libya",
          "Mauritania",
          "Morocco",
          "Oman",
          "Qatar",
          "Saudi Arabia",
          "Sudan",
          "Syrian Arab Republic",
          "Tunisia",
          "United Arab Emirates",
          "Yemen"
         ],
         "locations": [
          "DZA",
          "BHR",
          "COM",
          "EGY",
          "IRQ",
          "JOR",
          "KWT",
          "LBN",
          "LBY",
          "MRT",
          "MAR",
          "OMN",
          "QAT",
          "SAU",
          "SDN",
          "SYR",
          "TUN",
          "ARE",
          "YEM"
         ],
         "name": "Arabic",
         "showlegend": true,
         "showscale": false,
         "type": "choropleth",
         "z": [
          1,
          1,
          1,
          1,
          1,
          1,
          1,
          1,
          1,
          1,
          1,
          1,
          1,
          1,
          1,
          1,
          1,
          1,
          1
         ]
        },
        {
         "colorscale": [
          [
           0,
           "rgb(115, 111, 76)"
          ],
          [
           1,
           "rgb(115, 111, 76)"
          ]
         ],
         "geo": "geo",
         "hovertemplate": "<b>%{hovertext}</b><br><br>languages=Catalan<br>alpha_3=%{location}<extra></extra>",
         "hovertext": [
          "Andorra"
         ],
         "locations": [
          "AND"
         ],
         "name": "Catalan",
         "showlegend": true,
         "showscale": false,
         "type": "choropleth",
         "z": [
          1
         ]
        },
        {
         "colorscale": [
          [
           0,
           "rgb(82, 106, 131)"
          ],
          [
           1,
           "rgb(82, 106, 131)"
          ]
         ],
         "geo": "geo",
         "hovertemplate": "<b>%{hovertext}</b><br><br>languages=Portuguese<br>alpha_3=%{location}<extra></extra>",
         "hovertext": [
          "Angola",
          "Brazil",
          "Portugal",
          "Sao Tome and Principe"
         ],
         "locations": [
          "AGO",
          "BRA",
          "PRT",
          "STP"
         ],
         "name": "Portuguese",
         "showlegend": true,
         "showscale": false,
         "type": "choropleth",
         "z": [
          1,
          1,
          1,
          1
         ]
        },
        {
         "colorscale": [
          [
           0,
           "rgb(98, 83, 119)"
          ],
          [
           1,
           "rgb(98, 83, 119)"
          ]
         ],
         "geo": "geo",
         "hovertemplate": "<b>%{hovertext}</b><br><br>languages=English<br>alpha_3=%{location}<extra></extra>",
         "hovertext": [
          "Antigua and Barbuda",
          "Australia",
          "Barbados",
          "Belize",
          "Cameroon",
          "Canada",
          "Dominica",
          "Eswatini",
          "Fiji",
          "Grenada",
          "Guyana",
          "Ireland",
          "Jamaica",
          "Kenya",
          "Liberia",
          "Malawi",
          "New Zealand",
          "Nigeria",
          "Sierra Leone",
          "Singapore",
          "South Sudan",
          "Trinidad and Tobago",
          "Uganda",
          "United Kingdom",
          "United States",
          "Cabo Verde"
         ],
         "locations": [
          "ATG",
          "AUS",
          "BRB",
          "BLZ",
          "CMR",
          "CAN",
          "DMA",
          "SWZ",
          "FJI",
          "GRD",
          "GUY",
          "IRL",
          "JAM",
          "KEN",
          "LBR",
          "MWI",
          "NZL",
          "NGA",
          "SLE",
          "SGP",
          "SSD",
          "TTO",
          "UGA",
          "GBR",
          "USA",
          "CPV"
         ],
         "name": "English",
         "showlegend": true,
         "showscale": false,
         "type": "choropleth",
         "z": [
          1,
          1,
          1,
          1,
          1,
          1,
          1,
          1,
          1,
          1,
          1,
          1,
          1,
          1,
          1,
          1,
          1,
          1,
          1,
          1,
          1,
          1,
          1,
          1,
          1,
          1
         ]
        },
        {
         "colorscale": [
          [
           0,
           "rgb(104, 133, 92)"
          ],
          [
           1,
           "rgb(104, 133, 92)"
          ]
         ],
         "geo": "geo",
         "hovertemplate": "<b>%{hovertext}</b><br><br>languages=Spanish<br>alpha_3=%{location}<extra></extra>",
         "hovertext": [
          "Argentina",
          "Bolivia, Plurinational State of",
          "Chile",
          "Colombia",
          "Costa Rica",
          "Cuba",
          "Dominican Republic",
          "Ecuador",
          "El Salvador",
          "Equatorial Guinea",
          "Guatemala",
          "Honduras",
          "Mexico",
          "Micronesia, Federated States of",
          "Nicaragua",
          "Panama",
          "Paraguay",
          "Peru",
          "Uruguay",
          "Venezuela, Bolivarian Republic of",
          "Timor-Leste"
         ],
         "locations": [
          "ARG",
          "BOL",
          "CHL",
          "COL",
          "CRI",
          "CUB",
          "DOM",
          "ECU",
          "SLV",
          "GNQ",
          "GTM",
          "HND",
          "MEX",
          "FSM",
          "NIC",
          "PAN",
          "PRY",
          "PER",
          "URY",
          "VEN",
          "TLS"
         ],
         "name": "Spanish",
         "showlegend": true,
         "showscale": false,
         "type": "choropleth",
         "z": [
          1,
          1,
          1,
          1,
          1,
          1,
          1,
          1,
          1,
          1,
          1,
          1,
          1,
          1,
          1,
          1,
          1,
          1,
          1,
          1,
          1
         ]
        },
        {
         "colorscale": [
          [
           0,
           "rgb(156, 156, 94)"
          ],
          [
           1,
           "rgb(156, 156, 94)"
          ]
         ],
         "geo": "geo",
         "hovertemplate": "<b>%{hovertext}</b><br><br>languages=Armenian<br>alpha_3=%{location}<extra></extra>",
         "hovertext": [
          "Armenia"
         ],
         "locations": [
          "ARM"
         ],
         "name": "Armenian",
         "showlegend": true,
         "showscale": false,
         "type": "choropleth",
         "z": [
          1
         ]
        },
        {
         "colorscale": [
          [
           0,
           "rgb(160, 97, 119)"
          ],
          [
           1,
           "rgb(160, 97, 119)"
          ]
         ],
         "geo": "geo",
         "hovertemplate": "<b>%{hovertext}</b><br><br>languages=German<br>alpha_3=%{location}<extra></extra>",
         "hovertext": [
          "Austria",
          "Germany",
          "Liechtenstein",
          "Switzerland"
         ],
         "locations": [
          "AUT",
          "DEU",
          "LIE",
          "CHE"
         ],
         "name": "German",
         "showlegend": true,
         "showscale": false,
         "type": "choropleth",
         "z": [
          1,
          1,
          1,
          1
         ]
        },
        {
         "colorscale": [
          [
           0,
           "rgb(140, 120, 93)"
          ],
          [
           1,
           "rgb(140, 120, 93)"
          ]
         ],
         "geo": "geo",
         "hovertemplate": "<b>%{hovertext}</b><br><br>languages=Azerbaijani<br>alpha_3=%{location}<extra></extra>",
         "hovertext": [
          "Azerbaijan",
          "Bahamas"
         ],
         "locations": [
          "AZE",
          "BHS"
         ],
         "name": "Azerbaijani",
         "showlegend": true,
         "showscale": false,
         "type": "choropleth",
         "z": [
          1,
          1
         ]
        },
        {
         "colorscale": [
          [
           0,
           "rgb(124, 124, 124)"
          ],
          [
           1,
           "rgb(124, 124, 124)"
          ]
         ],
         "geo": "geo",
         "hovertemplate": "<b>%{hovertext}</b><br><br>languages=Bangla<br>alpha_3=%{location}<extra></extra>",
         "hovertext": [
          "Bangladesh"
         ],
         "locations": [
          "BGD"
         ],
         "name": "Bangla",
         "showlegend": true,
         "showscale": false,
         "type": "choropleth",
         "z": [
          1
         ]
        },
        {
         "colorscale": [
          [
           0,
           "rgb(133, 92, 117)"
          ],
          [
           1,
           "rgb(133, 92, 117)"
          ]
         ],
         "geo": "geo",
         "hovertemplate": "<b>%{hovertext}</b><br><br>languages=Russian<br>alpha_3=%{location}<extra></extra>",
         "hovertext": [
          "Belarus",
          "Russian Federation"
         ],
         "locations": [
          "BLR",
          "RUS"
         ],
         "name": "Russian",
         "showlegend": true,
         "showscale": false,
         "type": "choropleth",
         "z": [
          1,
          1
         ]
        },
        {
         "colorscale": [
          [
           0,
           "rgb(217, 175, 107)"
          ],
          [
           1,
           "rgb(217, 175, 107)"
          ]
         ],
         "geo": "geo",
         "hovertemplate": "<b>%{hovertext}</b><br><br>languages=Dutch<br>alpha_3=%{location}<extra></extra>",
         "hovertext": [
          "Belgium",
          "Netherlands",
          "Suriname"
         ],
         "locations": [
          "BEL",
          "NLD",
          "SUR"
         ],
         "name": "Dutch",
         "showlegend": true,
         "showscale": false,
         "type": "choropleth",
         "z": [
          1,
          1,
          1
         ]
        },
        {
         "colorscale": [
          [
           0,
           "rgb(175, 100, 88)"
          ],
          [
           1,
           "rgb(175, 100, 88)"
          ]
         ],
         "geo": "geo",
         "hovertemplate": "<b>%{hovertext}</b><br><br>languages=French<br>alpha_3=%{location}<extra></extra>",
         "hovertext": [
          "Benin",
          "Burkina Faso",
          "Central African Republic",
          "Chad",
          "Djibouti",
          "France",
          "Gabon",
          "Gambia",
          "Guinea",
          "Haiti",
          "Madagascar",
          "Mali",
          "Monaco",
          "Nigeria",
          "Senegal",
          "Togo",
          "Congo, The Democratic Republic of the",
          "Congo",
          "Côte d'Ivoire"
         ],
         "locations": [
          "BEN",
          "BFA",
          "CAF",
          "TCD",
          "DJI",
          "FRA",
          "GAB",
          "GMB",
          "GIN",
          "HTI",
          "MDG",
          "MLI",
          "MCO",
          "NGA",
          "SEN",
          "TGO",
          "COD",
          "COG",
          "CIV"
         ],
         "name": "French",
         "showlegend": true,
         "showscale": false,
         "type": "choropleth",
         "z": [
          1,
          1,
          1,
          1,
          1,
          1,
          1,
          1,
          1,
          1,
          1,
          1,
          1,
          1,
          1,
          1,
          1,
          1,
          1
         ]
        },
        {
         "colorscale": [
          [
           0,
           "rgb(115, 111, 76)"
          ],
          [
           1,
           "rgb(115, 111, 76)"
          ]
         ],
         "geo": "geo",
         "hovertemplate": "<b>%{hovertext}</b><br><br>languages=Sharchhopka<br>alpha_3=%{location}<extra></extra>",
         "hovertext": [
          "Bhutan"
         ],
         "locations": [
          "BTN"
         ],
         "name": "Sharchhopka",
         "showlegend": true,
         "showscale": false,
         "type": "choropleth",
         "z": [
          1
         ]
        },
        {
         "colorscale": [
          [
           0,
           "rgb(82, 106, 131)"
          ],
          [
           1,
           "rgb(82, 106, 131)"
          ]
         ],
         "geo": "geo",
         "hovertemplate": "<b>%{hovertext}</b><br><br>languages=Bosnian<br>alpha_3=%{location}<extra></extra>",
         "hovertext": [
          "Bosnia and Herzegovina"
         ],
         "locations": [
          "BIH"
         ],
         "name": "Bosnian",
         "showlegend": true,
         "showscale": false,
         "type": "choropleth",
         "z": [
          1
         ]
        },
        {
         "colorscale": [
          [
           0,
           "rgb(98, 83, 119)"
          ],
          [
           1,
           "rgb(98, 83, 119)"
          ]
         ],
         "geo": "geo",
         "hovertemplate": "<b>%{hovertext}</b><br><br>languages=Setswana<br>alpha_3=%{location}<extra></extra>",
         "hovertext": [
          "Botswana"
         ],
         "locations": [
          "BWA"
         ],
         "name": "Setswana",
         "showlegend": true,
         "showscale": false,
         "type": "choropleth",
         "z": [
          1
         ]
        },
        {
         "colorscale": [
          [
           0,
           "rgb(104, 133, 92)"
          ],
          [
           1,
           "rgb(104, 133, 92)"
          ]
         ],
         "geo": "geo",
         "hovertemplate": "<b>%{hovertext}</b><br><br>languages=Malay<br>alpha_3=%{location}<extra></extra>",
         "hovertext": [
          "Brunei Darussalam"
         ],
         "locations": [
          "BRN"
         ],
         "name": "Malay",
         "showlegend": true,
         "showscale": false,
         "type": "choropleth",
         "z": [
          1
         ]
        },
        {
         "colorscale": [
          [
           0,
           "rgb(156, 156, 94)"
          ],
          [
           1,
           "rgb(156, 156, 94)"
          ]
         ],
         "geo": "geo",
         "hovertemplate": "<b>%{hovertext}</b><br><br>languages=Bulgarian<br>alpha_3=%{location}<extra></extra>",
         "hovertext": [
          "Bulgaria"
         ],
         "locations": [
          "BGR"
         ],
         "name": "Bulgarian",
         "showlegend": true,
         "showscale": false,
         "type": "choropleth",
         "z": [
          1
         ]
        },
        {
         "colorscale": [
          [
           0,
           "rgb(160, 97, 119)"
          ],
          [
           1,
           "rgb(160, 97, 119)"
          ]
         ],
         "geo": "geo",
         "hovertemplate": "<b>%{hovertext}</b><br><br>languages=Kirundi<br>alpha_3=%{location}<extra></extra>",
         "hovertext": [
          "Burundi"
         ],
         "locations": [
          "BDI"
         ],
         "name": "Kirundi",
         "showlegend": true,
         "showscale": false,
         "type": "choropleth",
         "z": [
          1
         ]
        },
        {
         "colorscale": [
          [
           0,
           "rgb(140, 120, 93)"
          ],
          [
           1,
           "rgb(140, 120, 93)"
          ]
         ],
         "geo": "geo",
         "hovertemplate": "<b>%{hovertext}</b><br><br>languages=Khmer<br>alpha_3=%{location}<extra></extra>",
         "hovertext": [
          "Cambodia"
         ],
         "locations": [
          "KHM"
         ],
         "name": "Khmer",
         "showlegend": true,
         "showscale": false,
         "type": "choropleth",
         "z": [
          1
         ]
        },
        {
         "colorscale": [
          [
           0,
           "rgb(124, 124, 124)"
          ],
          [
           1,
           "rgb(124, 124, 124)"
          ]
         ],
         "geo": "geo",
         "hovertemplate": "<b>%{hovertext}</b><br><br>languages=Yue<br>alpha_3=%{location}<extra></extra>",
         "hovertext": [
          "China"
         ],
         "locations": [
          "CHN"
         ],
         "name": "Yue",
         "showlegend": true,
         "showscale": false,
         "type": "choropleth",
         "z": [
          1
         ]
        },
        {
         "colorscale": [
          [
           0,
           "rgb(133, 92, 117)"
          ],
          [
           1,
           "rgb(133, 92, 117)"
          ]
         ],
         "geo": "geo",
         "hovertemplate": "<b>%{hovertext}</b><br><br>languages=Croatian<br>alpha_3=%{location}<extra></extra>",
         "hovertext": [
          "Croatia"
         ],
         "locations": [
          "HRV"
         ],
         "name": "Croatian",
         "showlegend": true,
         "showscale": false,
         "type": "choropleth",
         "z": [
          1
         ]
        },
        {
         "colorscale": [
          [
           0,
           "rgb(217, 175, 107)"
          ],
          [
           1,
           "rgb(217, 175, 107)"
          ]
         ],
         "geo": "geo",
         "hovertemplate": "<b>%{hovertext}</b><br><br>languages=Greek<br>alpha_3=%{location}<extra></extra>",
         "hovertext": [
          "Cyprus",
          "Czechia",
          "Greece"
         ],
         "locations": [
          "CYP",
          "CZE",
          "GRC"
         ],
         "name": "Greek",
         "showlegend": true,
         "showscale": false,
         "type": "choropleth",
         "z": [
          1,
          1,
          1
         ]
        },
        {
         "colorscale": [
          [
           0,
           "rgb(175, 100, 88)"
          ],
          [
           1,
           "rgb(175, 100, 88)"
          ]
         ],
         "geo": "geo",
         "hovertemplate": "<b>%{hovertext}</b><br><br>languages=Danish<br>alpha_3=%{location}<extra></extra>",
         "hovertext": [
          "Denmark"
         ],
         "locations": [
          "DNK"
         ],
         "name": "Danish",
         "showlegend": true,
         "showscale": false,
         "type": "choropleth",
         "z": [
          1
         ]
        },
        {
         "colorscale": [
          [
           0,
           "rgb(115, 111, 76)"
          ],
          [
           1,
           "rgb(115, 111, 76)"
          ]
         ],
         "geo": "geo",
         "hovertemplate": "<b>%{hovertext}</b><br><br>languages=Tigrinya<br>alpha_3=%{location}<extra></extra>",
         "hovertext": [
          "Eritrea"
         ],
         "locations": [
          "ERI"
         ],
         "name": "Tigrinya",
         "showlegend": true,
         "showscale": false,
         "type": "choropleth",
         "z": [
          1
         ]
        },
        {
         "colorscale": [
          [
           0,
           "rgb(82, 106, 131)"
          ],
          [
           1,
           "rgb(82, 106, 131)"
          ]
         ],
         "geo": "geo",
         "hovertemplate": "<b>%{hovertext}</b><br><br>languages=Estonian<br>alpha_3=%{location}<extra></extra>",
         "hovertext": [
          "Estonia"
         ],
         "locations": [
          "EST"
         ],
         "name": "Estonian",
         "showlegend": true,
         "showscale": false,
         "type": "choropleth",
         "z": [
          1
         ]
        },
        {
         "colorscale": [
          [
           0,
           "rgb(98, 83, 119)"
          ],
          [
           1,
           "rgb(98, 83, 119)"
          ]
         ],
         "geo": "geo",
         "hovertemplate": "<b>%{hovertext}</b><br><br>languages=Oromo<br>alpha_3=%{location}<extra></extra>",
         "hovertext": [
          "Ethiopia"
         ],
         "locations": [
          "ETH"
         ],
         "name": "Oromo",
         "showlegend": true,
         "showscale": false,
         "type": "choropleth",
         "z": [
          1
         ]
        },
        {
         "colorscale": [
          [
           0,
           "rgb(104, 133, 92)"
          ],
          [
           1,
           "rgb(104, 133, 92)"
          ]
         ],
         "geo": "geo",
         "hovertemplate": "<b>%{hovertext}</b><br><br>languages=Finnish<br>alpha_3=%{location}<extra></extra>",
         "hovertext": [
          "Finland"
         ],
         "locations": [
          "FIN"
         ],
         "name": "Finnish",
         "showlegend": true,
         "showscale": false,
         "type": "choropleth",
         "z": [
          1
         ]
        },
        {
         "colorscale": [
          [
           0,
           "rgb(156, 156, 94)"
          ],
          [
           1,
           "rgb(156, 156, 94)"
          ]
         ],
         "geo": "geo",
         "hovertemplate": "<b>%{hovertext}</b><br><br>languages=Georgian<br>alpha_3=%{location}<extra></extra>",
         "hovertext": [
          "Georgia"
         ],
         "locations": [
          "GEO"
         ],
         "name": "Georgian",
         "showlegend": true,
         "showscale": false,
         "type": "choropleth",
         "z": [
          1
         ]
        },
        {
         "colorscale": [
          [
           0,
           "rgb(160, 97, 119)"
          ],
          [
           1,
           "rgb(160, 97, 119)"
          ]
         ],
         "geo": "geo",
         "hovertemplate": "<b>%{hovertext}</b><br><br>languages=Asante<br>alpha_3=%{location}<extra></extra>",
         "hovertext": [
          "Ghana"
         ],
         "locations": [
          "GHA"
         ],
         "name": "Asante",
         "showlegend": true,
         "showscale": false,
         "type": "choropleth",
         "z": [
          1
         ]
        },
        {
         "colorscale": [
          [
           0,
           "rgb(140, 120, 93)"
          ],
          [
           1,
           "rgb(140, 120, 93)"
          ]
         ],
         "geo": "geo",
         "hovertemplate": "<b>%{hovertext}</b><br><br>languages=Crioulo<br>alpha_3=%{location}<extra></extra>",
         "hovertext": [
          "Guinea-Bissau"
         ],
         "locations": [
          "GNB"
         ],
         "name": "Crioulo",
         "showlegend": true,
         "showscale": false,
         "type": "choropleth",
         "z": [
          1
         ]
        },
        {
         "colorscale": [
          [
           0,
           "rgb(124, 124, 124)"
          ],
          [
           1,
           "rgb(124, 124, 124)"
          ]
         ],
         "geo": "geo",
         "hovertemplate": "<b>%{hovertext}</b><br><br>languages=Hungarian<br>alpha_3=%{location}<extra></extra>",
         "hovertext": [
          "Hungary"
         ],
         "locations": [
          "HUN"
         ],
         "name": "Hungarian",
         "showlegend": true,
         "showscale": false,
         "type": "choropleth",
         "z": [
          1
         ]
        },
        {
         "colorscale": [
          [
           0,
           "rgb(133, 92, 117)"
          ],
          [
           1,
           "rgb(133, 92, 117)"
          ]
         ],
         "geo": "geo",
         "hovertemplate": "<b>%{hovertext}</b><br><br>languages=Icelandic<br>alpha_3=%{location}<extra></extra>",
         "hovertext": [
          "Iceland"
         ],
         "locations": [
          "ISL"
         ],
         "name": "Icelandic",
         "showlegend": true,
         "showscale": false,
         "type": "choropleth",
         "z": [
          1
         ]
        },
        {
         "colorscale": [
          [
           0,
           "rgb(217, 175, 107)"
          ],
          [
           1,
           "rgb(217, 175, 107)"
          ]
         ],
         "geo": "geo",
         "hovertemplate": "<b>%{hovertext}</b><br><br>languages=Hindi<br>alpha_3=%{location}<extra></extra>",
         "hovertext": [
          "India"
         ],
         "locations": [
          "IND"
         ],
         "name": "Hindi",
         "showlegend": true,
         "showscale": false,
         "type": "choropleth",
         "z": [
          1
         ]
        },
        {
         "colorscale": [
          [
           0,
           "rgb(175, 100, 88)"
          ],
          [
           1,
           "rgb(175, 100, 88)"
          ]
         ],
         "geo": "geo",
         "hovertemplate": "<b>%{hovertext}</b><br><br>languages=Bahasa<br>alpha_3=%{location}<extra></extra>",
         "hovertext": [
          "Indonesia",
          "Malaysia"
         ],
         "locations": [
          "IDN",
          "MYS"
         ],
         "name": "Bahasa",
         "showlegend": true,
         "showscale": false,
         "type": "choropleth",
         "z": [
          1,
          1
         ]
        },
        {
         "colorscale": [
          [
           0,
           "rgb(115, 111, 76)"
          ],
          [
           1,
           "rgb(115, 111, 76)"
          ]
         ],
         "geo": "geo",
         "hovertemplate": "<b>%{hovertext}</b><br><br>languages=Persian<br>alpha_3=%{location}<extra></extra>",
         "hovertext": [
          "Iran, Islamic Republic of"
         ],
         "locations": [
          "IRN"
         ],
         "name": "Persian",
         "showlegend": true,
         "showscale": false,
         "type": "choropleth",
         "z": [
          1
         ]
        },
        {
         "colorscale": [
          [
           0,
           "rgb(82, 106, 131)"
          ],
          [
           1,
           "rgb(82, 106, 131)"
          ]
         ],
         "geo": "geo",
         "hovertemplate": "<b>%{hovertext}</b><br><br>languages=Hebrew<br>alpha_3=%{location}<extra></extra>",
         "hovertext": [
          "Israel"
         ],
         "locations": [
          "ISR"
         ],
         "name": "Hebrew",
         "showlegend": true,
         "showscale": false,
         "type": "choropleth",
         "z": [
          1
         ]
        },
        {
         "colorscale": [
          [
           0,
           "rgb(98, 83, 119)"
          ],
          [
           1,
           "rgb(98, 83, 119)"
          ]
         ],
         "geo": "geo",
         "hovertemplate": "<b>%{hovertext}</b><br><br>languages=Italian<br>alpha_3=%{location}<extra></extra>",
         "hovertext": [
          "Italy",
          "San Marino",
          "Holy See (Vatican City State)"
         ],
         "locations": [
          "ITA",
          "SMR",
          "VAT"
         ],
         "name": "Italian",
         "showlegend": true,
         "showscale": false,
         "type": "choropleth",
         "z": [
          1,
          1,
          1
         ]
        },
        {
         "colorscale": [
          [
           0,
           "rgb(104, 133, 92)"
          ],
          [
           1,
           "rgb(104, 133, 92)"
          ]
         ],
         "geo": "geo",
         "hovertemplate": "<b>%{hovertext}</b><br><br>languages=Japanese<br>alpha_3=%{location}<extra></extra>",
         "hovertext": [
          "Japan"
         ],
         "locations": [
          "JPN"
         ],
         "name": "Japanese",
         "showlegend": true,
         "showscale": false,
         "type": "choropleth",
         "z": [
          1
         ]
        },
        {
         "colorscale": [
          [
           0,
           "rgb(156, 156, 94)"
          ],
          [
           1,
           "rgb(156, 156, 94)"
          ]
         ],
         "geo": "geo",
         "hovertemplate": "<b>%{hovertext}</b><br><br>languages=Kazakh<br>alpha_3=%{location}<extra></extra>",
         "hovertext": [
          "Kazakhstan"
         ],
         "locations": [
          "KAZ"
         ],
         "name": "Kazakh",
         "showlegend": true,
         "showscale": false,
         "type": "choropleth",
         "z": [
          1
         ]
        },
        {
         "colorscale": [
          [
           0,
           "rgb(160, 97, 119)"
          ],
          [
           1,
           "rgb(160, 97, 119)"
          ]
         ],
         "geo": "geo",
         "hovertemplate": "<b>%{hovertext}</b><br><br>languages=I-Kiribati<br>alpha_3=%{location}<extra></extra>",
         "hovertext": [
          "Kiribati"
         ],
         "locations": [
          "KIR"
         ],
         "name": "I-Kiribati",
         "showlegend": true,
         "showscale": false,
         "type": "choropleth",
         "z": [
          1
         ]
        },
        {
         "colorscale": [
          [
           0,
           "rgb(140, 120, 93)"
          ],
          [
           1,
           "rgb(140, 120, 93)"
          ]
         ],
         "geo": "geo",
         "hovertemplate": "<b>%{hovertext}</b><br><br>languages=Kyrgyz<br>alpha_3=%{location}<extra></extra>",
         "hovertext": [
          "Kyrgyzstan"
         ],
         "locations": [
          "KGZ"
         ],
         "name": "Kyrgyz",
         "showlegend": true,
         "showscale": false,
         "type": "choropleth",
         "z": [
          1
         ]
        },
        {
         "colorscale": [
          [
           0,
           "rgb(124, 124, 124)"
          ],
          [
           1,
           "rgb(124, 124, 124)"
          ]
         ],
         "geo": "geo",
         "hovertemplate": "<b>%{hovertext}</b><br><br>languages=Latvian<br>alpha_3=%{location}<extra></extra>",
         "hovertext": [
          "Latvia"
         ],
         "locations": [
          "LVA"
         ],
         "name": "Latvian",
         "showlegend": true,
         "showscale": false,
         "type": "choropleth",
         "z": [
          1
         ]
        },
        {
         "colorscale": [
          [
           0,
           "rgb(133, 92, 117)"
          ],
          [
           1,
           "rgb(133, 92, 117)"
          ]
         ],
         "geo": "geo",
         "hovertemplate": "<b>%{hovertext}</b><br><br>languages=Sesotho<br>alpha_3=%{location}<extra></extra>",
         "hovertext": [
          "Lesotho"
         ],
         "locations": [
          "LSO"
         ],
         "name": "Sesotho",
         "showlegend": true,
         "showscale": false,
         "type": "choropleth",
         "z": [
          1
         ]
        },
        {
         "colorscale": [
          [
           0,
           "rgb(217, 175, 107)"
          ],
          [
           1,
           "rgb(217, 175, 107)"
          ]
         ],
         "geo": "geo",
         "hovertemplate": "<b>%{hovertext}</b><br><br>languages=Lithuanian<br>alpha_3=%{location}<extra></extra>",
         "hovertext": [
          "Lithuania"
         ],
         "locations": [
          "LTU"
         ],
         "name": "Lithuanian",
         "showlegend": true,
         "showscale": false,
         "type": "choropleth",
         "z": [
          1
         ]
        },
        {
         "colorscale": [
          [
           0,
           "rgb(175, 100, 88)"
          ],
          [
           1,
           "rgb(175, 100, 88)"
          ]
         ],
         "geo": "geo",
         "hovertemplate": "<b>%{hovertext}</b><br><br>languages=Luxembourgish<br>alpha_3=%{location}<extra></extra>",
         "hovertext": [
          "Luxembourg"
         ],
         "locations": [
          "LUX"
         ],
         "name": "Luxembourgish",
         "showlegend": true,
         "showscale": false,
         "type": "choropleth",
         "z": [
          1
         ]
        },
        {
         "colorscale": [
          [
           0,
           "rgb(115, 111, 76)"
          ],
          [
           1,
           "rgb(115, 111, 76)"
          ]
         ],
         "geo": "geo",
         "hovertemplate": "<b>%{hovertext}</b><br><br>languages=Dhivehi<br>alpha_3=%{location}<extra></extra>",
         "hovertext": [
          "Maldives"
         ],
         "locations": [
          "MDV"
         ],
         "name": "Dhivehi",
         "showlegend": true,
         "showscale": false,
         "type": "choropleth",
         "z": [
          1
         ]
        },
        {
         "colorscale": [
          [
           0,
           "rgb(82, 106, 131)"
          ],
          [
           1,
           "rgb(82, 106, 131)"
          ]
         ],
         "geo": "geo",
         "hovertemplate": "<b>%{hovertext}</b><br><br>languages=Maltese<br>alpha_3=%{location}<extra></extra>",
         "hovertext": [
          "Malta"
         ],
         "locations": [
          "MLT"
         ],
         "name": "Maltese",
         "showlegend": true,
         "showscale": false,
         "type": "choropleth",
         "z": [
          1
         ]
        },
        {
         "colorscale": [
          [
           0,
           "rgb(98, 83, 119)"
          ],
          [
           1,
           "rgb(98, 83, 119)"
          ]
         ],
         "geo": "geo",
         "hovertemplate": "<b>%{hovertext}</b><br><br>languages=Marshallese<br>alpha_3=%{location}<extra></extra>",
         "hovertext": [
          "Marshall Islands"
         ],
         "locations": [
          "MHL"
         ],
         "name": "Marshallese",
         "showlegend": true,
         "showscale": false,
         "type": "choropleth",
         "z": [
          1
         ]
        },
        {
         "colorscale": [
          [
           0,
           "rgb(104, 133, 92)"
          ],
          [
           1,
           "rgb(104, 133, 92)"
          ]
         ],
         "geo": "geo",
         "hovertemplate": "<b>%{hovertext}</b><br><br>languages=Creole<br>alpha_3=%{location}<extra></extra>",
         "hovertext": [
          "Mauritius"
         ],
         "locations": [
          "MUS"
         ],
         "name": "Creole",
         "showlegend": true,
         "showscale": false,
         "type": "choropleth",
         "z": [
          1
         ]
        },
        {
         "colorscale": [
          [
           0,
           "rgb(156, 156, 94)"
          ],
          [
           1,
           "rgb(156, 156, 94)"
          ]
         ],
         "geo": "geo",
         "hovertemplate": "<b>%{hovertext}</b><br><br>languages=Moldovan/Romanian<br>alpha_3=%{location}<extra></extra>",
         "hovertext": [
          "Moldova, Republic of"
         ],
         "locations": [
          "MDA"
         ],
         "name": "Moldovan/Romanian",
         "showlegend": true,
         "showscale": false,
         "type": "choropleth",
         "z": [
          1
         ]
        },
        {
         "colorscale": [
          [
           0,
           "rgb(160, 97, 119)"
          ],
          [
           1,
           "rgb(160, 97, 119)"
          ]
         ],
         "geo": "geo",
         "hovertemplate": "<b>%{hovertext}</b><br><br>languages=Mongolian<br>alpha_3=%{location}<extra></extra>",
         "hovertext": [
          "Mongolia"
         ],
         "locations": [
          "MNG"
         ],
         "name": "Mongolian",
         "showlegend": true,
         "showscale": false,
         "type": "choropleth",
         "z": [
          1
         ]
        },
        {
         "colorscale": [
          [
           0,
           "rgb(140, 120, 93)"
          ],
          [
           1,
           "rgb(140, 120, 93)"
          ]
         ],
         "geo": "geo",
         "hovertemplate": "<b>%{hovertext}</b><br><br>languages=Serbian<br>alpha_3=%{location}<extra></extra>",
         "hovertext": [
          "Montenegro",
          "Serbia"
         ],
         "locations": [
          "MNE",
          "SRB"
         ],
         "name": "Serbian",
         "showlegend": true,
         "showscale": false,
         "type": "choropleth",
         "z": [
          1,
          1
         ]
        },
        {
         "colorscale": [
          [
           0,
           "rgb(124, 124, 124)"
          ],
          [
           1,
           "rgb(124, 124, 124)"
          ]
         ],
         "geo": "geo",
         "hovertemplate": "<b>%{hovertext}</b><br><br>languages=Makhuwa<br>alpha_3=%{location}<extra></extra>",
         "hovertext": [
          "Mozambique",
          "Myanmar"
         ],
         "locations": [
          "MOZ",
          "MMR"
         ],
         "name": "Makhuwa",
         "showlegend": true,
         "showscale": false,
         "type": "choropleth",
         "z": [
          1,
          1
         ]
        },
        {
         "colorscale": [
          [
           0,
           "rgb(133, 92, 117)"
          ],
          [
           1,
           "rgb(133, 92, 117)"
          ]
         ],
         "geo": "geo",
         "hovertemplate": "<b>%{hovertext}</b><br><br>languages=Oshiwambo<br>alpha_3=%{location}<extra></extra>",
         "hovertext": [
          "Namibia"
         ],
         "locations": [
          "NAM"
         ],
         "name": "Oshiwambo",
         "showlegend": true,
         "showscale": false,
         "type": "choropleth",
         "z": [
          1
         ]
        },
        {
         "colorscale": [
          [
           0,
           "rgb(217, 175, 107)"
          ],
          [
           1,
           "rgb(217, 175, 107)"
          ]
         ],
         "geo": "geo",
         "hovertemplate": "<b>%{hovertext}</b><br><br>languages=Nauruan<br>alpha_3=%{location}<extra></extra>",
         "hovertext": [
          "Nauru"
         ],
         "locations": [
          "NRU"
         ],
         "name": "Nauruan",
         "showlegend": true,
         "showscale": false,
         "type": "choropleth",
         "z": [
          1
         ]
        },
        {
         "colorscale": [
          [
           0,
           "rgb(175, 100, 88)"
          ],
          [
           1,
           "rgb(175, 100, 88)"
          ]
         ],
         "geo": "geo",
         "hovertemplate": "<b>%{hovertext}</b><br><br>languages=Nepali<br>alpha_3=%{location}<extra></extra>",
         "hovertext": [
          "Nepal"
         ],
         "locations": [
          "NPL"
         ],
         "name": "Nepali",
         "showlegend": true,
         "showscale": false,
         "type": "choropleth",
         "z": [
          1
         ]
        },
        {
         "colorscale": [
          [
           0,
           "rgb(115, 111, 76)"
          ],
          [
           1,
           "rgb(115, 111, 76)"
          ]
         ],
         "geo": "geo",
         "hovertemplate": "<b>%{hovertext}</b><br><br>languages=Macedonian<br>alpha_3=%{location}<extra></extra>",
         "hovertext": [
          "North Macedonia"
         ],
         "locations": [
          "MKD"
         ],
         "name": "Macedonian",
         "showlegend": true,
         "showscale": false,
         "type": "choropleth",
         "z": [
          1
         ]
        },
        {
         "colorscale": [
          [
           0,
           "rgb(82, 106, 131)"
          ],
          [
           1,
           "rgb(82, 106, 131)"
          ]
         ],
         "geo": "geo",
         "hovertemplate": "<b>%{hovertext}</b><br><br>languages=Bokmal<br>alpha_3=%{location}<extra></extra>",
         "hovertext": [
          "Norway"
         ],
         "locations": [
          "NOR"
         ],
         "name": "Bokmal",
         "showlegend": true,
         "showscale": false,
         "type": "choropleth",
         "z": [
          1
         ]
        },
        {
         "colorscale": [
          [
           0,
           "rgb(98, 83, 119)"
          ],
          [
           1,
           "rgb(98, 83, 119)"
          ]
         ],
         "geo": "geo",
         "hovertemplate": "<b>%{hovertext}</b><br><br>languages=Punjabi<br>alpha_3=%{location}<extra></extra>",
         "hovertext": [
          "Pakistan"
         ],
         "locations": [
          "PAK"
         ],
         "name": "Punjabi",
         "showlegend": true,
         "showscale": false,
         "type": "choropleth",
         "z": [
          1
         ]
        },
        {
         "colorscale": [
          [
           0,
           "rgb(104, 133, 92)"
          ],
          [
           1,
           "rgb(104, 133, 92)"
          ]
         ],
         "geo": "geo",
         "hovertemplate": "<b>%{hovertext}</b><br><br>languages=Palauan<br>alpha_3=%{location}<extra></extra>",
         "hovertext": [
          "Palau",
          "Palestine, State of"
         ],
         "locations": [
          "PLW",
          "PSE"
         ],
         "name": "Palauan",
         "showlegend": true,
         "showscale": false,
         "type": "choropleth",
         "z": [
          1,
          1
         ]
        },
        {
         "colorscale": [
          [
           0,
           "rgb(156, 156, 94)"
          ],
          [
           1,
           "rgb(156, 156, 94)"
          ]
         ],
         "geo": "geo",
         "hovertemplate": "<b>%{hovertext}</b><br><br>languages=Tok<br>alpha_3=%{location}<extra></extra>",
         "hovertext": [
          "Papua New Guinea"
         ],
         "locations": [
          "PNG"
         ],
         "name": "Tok",
         "showlegend": true,
         "showscale": false,
         "type": "choropleth",
         "z": [
          1
         ]
        },
        {
         "colorscale": [
          [
           0,
           "rgb(160, 97, 119)"
          ],
          [
           1,
           "rgb(160, 97, 119)"
          ]
         ],
         "geo": "geo",
         "hovertemplate": "<b>%{hovertext}</b><br><br>languages=Cebuano<br>alpha_3=%{location}<extra></extra>",
         "hovertext": [
          "Philippines"
         ],
         "locations": [
          "PHL"
         ],
         "name": "Cebuano",
         "showlegend": true,
         "showscale": false,
         "type": "choropleth",
         "z": [
          1
         ]
        },
        {
         "colorscale": [
          [
           0,
           "rgb(140, 120, 93)"
          ],
          [
           1,
           "rgb(140, 120, 93)"
          ]
         ],
         "geo": "geo",
         "hovertemplate": "<b>%{hovertext}</b><br><br>languages=Polish<br>alpha_3=%{location}<extra></extra>",
         "hovertext": [
          "Poland"
         ],
         "locations": [
          "POL"
         ],
         "name": "Polish",
         "showlegend": true,
         "showscale": false,
         "type": "choropleth",
         "z": [
          1
         ]
        },
        {
         "colorscale": [
          [
           0,
           "rgb(124, 124, 124)"
          ],
          [
           1,
           "rgb(124, 124, 124)"
          ]
         ],
         "geo": "geo",
         "hovertemplate": "<b>%{hovertext}</b><br><br>languages=Romanian<br>alpha_3=%{location}<extra></extra>",
         "hovertext": [
          "Romania"
         ],
         "locations": [
          "ROU"
         ],
         "name": "Romanian",
         "showlegend": true,
         "showscale": false,
         "type": "choropleth",
         "z": [
          1
         ]
        },
        {
         "colorscale": [
          [
           0,
           "rgb(133, 92, 117)"
          ],
          [
           1,
           "rgb(133, 92, 117)"
          ]
         ],
         "geo": "geo",
         "hovertemplate": "<b>%{hovertext}</b><br><br>languages=Kinyarwanda<br>alpha_3=%{location}<extra></extra>",
         "hovertext": [
          "Rwanda"
         ],
         "locations": [
          "RWA"
         ],
         "name": "Kinyarwanda",
         "showlegend": true,
         "showscale": false,
         "type": "choropleth",
         "z": [
          1
         ]
        },
        {
         "colorscale": [
          [
           0,
           "rgb(217, 175, 107)"
          ],
          [
           1,
           "rgb(217, 175, 107)"
          ]
         ],
         "geo": "geo",
         "hovertemplate": "<b>%{hovertext}</b><br><br>languages=Sinhala<br>alpha_3=%{location}<extra></extra>",
         "hovertext": [
          "Saint Kitts and Nevis",
          "Saint Lucia",
          "Saint Vincent and the Grenadines",
          "Sri Lanka"
         ],
         "locations": [
          "KNA",
          "LCA",
          "VCT",
          "LKA"
         ],
         "name": "Sinhala",
         "showlegend": true,
         "showscale": false,
         "type": "choropleth",
         "z": [
          1,
          1,
          1,
          1
         ]
        },
        {
         "colorscale": [
          [
           0,
           "rgb(175, 100, 88)"
          ],
          [
           1,
           "rgb(175, 100, 88)"
          ]
         ],
         "geo": "geo",
         "hovertemplate": "<b>%{hovertext}</b><br><br>languages=Samoan<br>alpha_3=%{location}<extra></extra>",
         "hovertext": [
          "Samoa"
         ],
         "locations": [
          "WSM"
         ],
         "name": "Samoan",
         "showlegend": true,
         "showscale": false,
         "type": "choropleth",
         "z": [
          1
         ]
        },
        {
         "colorscale": [
          [
           0,
           "rgb(115, 111, 76)"
          ],
          [
           1,
           "rgb(115, 111, 76)"
          ]
         ],
         "geo": "geo",
         "hovertemplate": "<b>%{hovertext}</b><br><br>languages=Seychellois<br>alpha_3=%{location}<extra></extra>",
         "hovertext": [
          "Seychelles"
         ],
         "locations": [
          "SYC"
         ],
         "name": "Seychellois",
         "showlegend": true,
         "showscale": false,
         "type": "choropleth",
         "z": [
          1
         ]
        },
        {
         "colorscale": [
          [
           0,
           "rgb(82, 106, 131)"
          ],
          [
           1,
           "rgb(82, 106, 131)"
          ]
         ],
         "geo": "geo",
         "hovertemplate": "<b>%{hovertext}</b><br><br>languages=Slovak<br>alpha_3=%{location}<extra></extra>",
         "hovertext": [
          "Slovakia"
         ],
         "locations": [
          "SVK"
         ],
         "name": "Slovak",
         "showlegend": true,
         "showscale": false,
         "type": "choropleth",
         "z": [
          1
         ]
        },
        {
         "colorscale": [
          [
           0,
           "rgb(98, 83, 119)"
          ],
          [
           1,
           "rgb(98, 83, 119)"
          ]
         ],
         "geo": "geo",
         "hovertemplate": "<b>%{hovertext}</b><br><br>languages=Slovene<br>alpha_3=%{location}<extra></extra>",
         "hovertext": [
          "Slovenia"
         ],
         "locations": [
          "SVN"
         ],
         "name": "Slovene",
         "showlegend": true,
         "showscale": false,
         "type": "choropleth",
         "z": [
          1
         ]
        },
        {
         "colorscale": [
          [
           0,
           "rgb(104, 133, 92)"
          ],
          [
           1,
           "rgb(104, 133, 92)"
          ]
         ],
         "geo": "geo",
         "hovertemplate": "<b>%{hovertext}</b><br><br>languages=Melanesian<br>alpha_3=%{location}<extra></extra>",
         "hovertext": [
          "Solomon Islands"
         ],
         "locations": [
          "SLB"
         ],
         "name": "Melanesian",
         "showlegend": true,
         "showscale": false,
         "type": "choropleth",
         "z": [
          1
         ]
        },
        {
         "colorscale": [
          [
           0,
           "rgb(156, 156, 94)"
          ],
          [
           1,
           "rgb(156, 156, 94)"
          ]
         ],
         "geo": "geo",
         "hovertemplate": "<b>%{hovertext}</b><br><br>languages=Somali<br>alpha_3=%{location}<extra></extra>",
         "hovertext": [
          "Somalia"
         ],
         "locations": [
          "SOM"
         ],
         "name": "Somali",
         "showlegend": true,
         "showscale": false,
         "type": "choropleth",
         "z": [
          1
         ]
        },
        {
         "colorscale": [
          [
           0,
           "rgb(160, 97, 119)"
          ],
          [
           1,
           "rgb(160, 97, 119)"
          ]
         ],
         "geo": "geo",
         "hovertemplate": "<b>%{hovertext}</b><br><br>languages=isiZulu<br>alpha_3=%{location}<extra></extra>",
         "hovertext": [
          "South Africa"
         ],
         "locations": [
          "ZAF"
         ],
         "name": "isiZulu",
         "showlegend": true,
         "showscale": false,
         "type": "choropleth",
         "z": [
          1
         ]
        },
        {
         "colorscale": [
          [
           0,
           "rgb(140, 120, 93)"
          ],
          [
           1,
           "rgb(140, 120, 93)"
          ]
         ],
         "geo": "geo",
         "hovertemplate": "<b>%{hovertext}</b><br><br>languages=Castilian<br>alpha_3=%{location}<extra></extra>",
         "hovertext": [
          "Spain"
         ],
         "locations": [
          "ESP"
         ],
         "name": "Castilian",
         "showlegend": true,
         "showscale": false,
         "type": "choropleth",
         "z": [
          1
         ]
        },
        {
         "colorscale": [
          [
           0,
           "rgb(124, 124, 124)"
          ],
          [
           1,
           "rgb(124, 124, 124)"
          ]
         ],
         "geo": "geo",
         "hovertemplate": "<b>%{hovertext}</b><br><br>languages=Swedish<br>alpha_3=%{location}<extra></extra>",
         "hovertext": [
          "Sweden"
         ],
         "locations": [
          "SWE"
         ],
         "name": "Swedish",
         "showlegend": true,
         "showscale": false,
         "type": "choropleth",
         "z": [
          1
         ]
        },
        {
         "colorscale": [
          [
           0,
           "rgb(133, 92, 117)"
          ],
          [
           1,
           "rgb(133, 92, 117)"
          ]
         ],
         "geo": "geo",
         "hovertemplate": "<b>%{hovertext}</b><br><br>languages=Mandarin<br>alpha_3=%{location}<extra></extra>",
         "hovertext": [
          "Taiwan, Province of China"
         ],
         "locations": [
          "TWN"
         ],
         "name": "Mandarin",
         "showlegend": true,
         "showscale": false,
         "type": "choropleth",
         "z": [
          1
         ]
        },
        {
         "colorscale": [
          [
           0,
           "rgb(217, 175, 107)"
          ],
          [
           1,
           "rgb(217, 175, 107)"
          ]
         ],
         "geo": "geo",
         "hovertemplate": "<b>%{hovertext}</b><br><br>languages=Tajik<br>alpha_3=%{location}<extra></extra>",
         "hovertext": [
          "Tajikistan"
         ],
         "locations": [
          "TJK"
         ],
         "name": "Tajik",
         "showlegend": true,
         "showscale": false,
         "type": "choropleth",
         "z": [
          1
         ]
        },
        {
         "colorscale": [
          [
           0,
           "rgb(175, 100, 88)"
          ],
          [
           1,
           "rgb(175, 100, 88)"
          ]
         ],
         "geo": "geo",
         "hovertemplate": "<b>%{hovertext}</b><br><br>languages=Kiswahili<br>alpha_3=%{location}<extra></extra>",
         "hovertext": [
          "Tanzania, United Republic of"
         ],
         "locations": [
          "TZA"
         ],
         "name": "Kiswahili",
         "showlegend": true,
         "showscale": false,
         "type": "choropleth",
         "z": [
          1
         ]
        },
        {
         "colorscale": [
          [
           0,
           "rgb(115, 111, 76)"
          ],
          [
           1,
           "rgb(115, 111, 76)"
          ]
         ],
         "geo": "geo",
         "hovertemplate": "<b>%{hovertext}</b><br><br>languages=Thai<br>alpha_3=%{location}<extra></extra>",
         "hovertext": [
          "Thailand"
         ],
         "locations": [
          "THA"
         ],
         "name": "Thai",
         "showlegend": true,
         "showscale": false,
         "type": "choropleth",
         "z": [
          1
         ]
        },
        {
         "colorscale": [
          [
           0,
           "rgb(82, 106, 131)"
          ],
          [
           1,
           "rgb(82, 106, 131)"
          ]
         ],
         "geo": "geo",
         "hovertemplate": "<b>%{hovertext}</b><br><br>languages=Tongan<br>alpha_3=%{location}<extra></extra>",
         "hovertext": [
          "Tonga"
         ],
         "locations": [
          "TON"
         ],
         "name": "Tongan",
         "showlegend": true,
         "showscale": false,
         "type": "choropleth",
         "z": [
          1
         ]
        },
        {
         "colorscale": [
          [
           0,
           "rgb(98, 83, 119)"
          ],
          [
           1,
           "rgb(98, 83, 119)"
          ]
         ],
         "geo": "geo",
         "hovertemplate": "<b>%{hovertext}</b><br><br>languages=Turkish<br>alpha_3=%{location}<extra></extra>",
         "hovertext": [
          "Turkey"
         ],
         "locations": [
          "TUR"
         ],
         "name": "Turkish",
         "showlegend": true,
         "showscale": false,
         "type": "choropleth",
         "z": [
          1
         ]
        },
        {
         "colorscale": [
          [
           0,
           "rgb(104, 133, 92)"
          ],
          [
           1,
           "rgb(104, 133, 92)"
          ]
         ],
         "geo": "geo",
         "hovertemplate": "<b>%{hovertext}</b><br><br>languages=Turkmen<br>alpha_3=%{location}<extra></extra>",
         "hovertext": [
          "Turkmenistan"
         ],
         "locations": [
          "TKM"
         ],
         "name": "Turkmen",
         "showlegend": true,
         "showscale": false,
         "type": "choropleth",
         "z": [
          1
         ]
        },
        {
         "colorscale": [
          [
           0,
           "rgb(156, 156, 94)"
          ],
          [
           1,
           "rgb(156, 156, 94)"
          ]
         ],
         "geo": "geo",
         "hovertemplate": "<b>%{hovertext}</b><br><br>languages=Tuvaluan<br>alpha_3=%{location}<extra></extra>",
         "hovertext": [
          "Tuvalu"
         ],
         "locations": [
          "TUV"
         ],
         "name": "Tuvaluan",
         "showlegend": true,
         "showscale": false,
         "type": "choropleth",
         "z": [
          1
         ]
        },
        {
         "colorscale": [
          [
           0,
           "rgb(160, 97, 119)"
          ],
          [
           1,
           "rgb(160, 97, 119)"
          ]
         ],
         "geo": "geo",
         "hovertemplate": "<b>%{hovertext}</b><br><br>languages=Ukrainian<br>alpha_3=%{location}<extra></extra>",
         "hovertext": [
          "Ukraine"
         ],
         "locations": [
          "UKR"
         ],
         "name": "Ukrainian",
         "showlegend": true,
         "showscale": false,
         "type": "choropleth",
         "z": [
          1
         ]
        },
        {
         "colorscale": [
          [
           0,
           "rgb(140, 120, 93)"
          ],
          [
           1,
           "rgb(140, 120, 93)"
          ]
         ],
         "geo": "geo",
         "hovertemplate": "<b>%{hovertext}</b><br><br>languages=Uzbek<br>alpha_3=%{location}<extra></extra>",
         "hovertext": [
          "Uzbekistan"
         ],
         "locations": [
          "UZB"
         ],
         "name": "Uzbek",
         "showlegend": true,
         "showscale": false,
         "type": "choropleth",
         "z": [
          1
         ]
        },
        {
         "colorscale": [
          [
           0,
           "rgb(124, 124, 124)"
          ],
          [
           1,
           "rgb(124, 124, 124)"
          ]
         ],
         "geo": "geo",
         "hovertemplate": "<b>%{hovertext}</b><br><br>languages=Bislama<br>alpha_3=%{location}<extra></extra>",
         "hovertext": [
          "Vanuatu"
         ],
         "locations": [
          "VUT"
         ],
         "name": "Bislama",
         "showlegend": true,
         "showscale": false,
         "type": "choropleth",
         "z": [
          1
         ]
        },
        {
         "colorscale": [
          [
           0,
           "rgb(133, 92, 117)"
          ],
          [
           1,
           "rgb(133, 92, 117)"
          ]
         ],
         "geo": "geo",
         "hovertemplate": "<b>%{hovertext}</b><br><br>languages=Vietnamese<br>alpha_3=%{location}<extra></extra>",
         "hovertext": [
          "Viet Nam"
         ],
         "locations": [
          "VNM"
         ],
         "name": "Vietnamese",
         "showlegend": true,
         "showscale": false,
         "type": "choropleth",
         "z": [
          1
         ]
        },
        {
         "colorscale": [
          [
           0,
           "rgb(217, 175, 107)"
          ],
          [
           1,
           "rgb(217, 175, 107)"
          ]
         ],
         "geo": "geo",
         "hovertemplate": "<b>%{hovertext}</b><br><br>languages=Hassaniya<br>alpha_3=%{location}<extra></extra>",
         "hovertext": [
          "Western Sahara"
         ],
         "locations": [
          "ESH"
         ],
         "name": "Hassaniya",
         "showlegend": true,
         "showscale": false,
         "type": "choropleth",
         "z": [
          1
         ]
        },
        {
         "colorscale": [
          [
           0,
           "rgb(175, 100, 88)"
          ],
          [
           1,
           "rgb(175, 100, 88)"
          ]
         ],
         "geo": "geo",
         "hovertemplate": "<b>%{hovertext}</b><br><br>languages=Bemba<br>alpha_3=%{location}<extra></extra>",
         "hovertext": [
          "Zambia"
         ],
         "locations": [
          "ZMB"
         ],
         "name": "Bemba",
         "showlegend": true,
         "showscale": false,
         "type": "choropleth",
         "z": [
          1
         ]
        },
        {
         "colorscale": [
          [
           0,
           "rgb(115, 111, 76)"
          ],
          [
           1,
           "rgb(115, 111, 76)"
          ]
         ],
         "geo": "geo",
         "hovertemplate": "<b>%{hovertext}</b><br><br>languages=Shona<br>alpha_3=%{location}<extra></extra>",
         "hovertext": [
          "Zimbabwe"
         ],
         "locations": [
          "ZWE"
         ],
         "name": "Shona",
         "showlegend": true,
         "showscale": false,
         "type": "choropleth",
         "z": [
          1
         ]
        },
        {
         "colorscale": [
          [
           0,
           "rgb(82, 106, 131)"
          ],
          [
           1,
           "rgb(82, 106, 131)"
          ]
         ],
         "geo": "geo",
         "hovertemplate": "<b>%{hovertext}</b><br><br>languages=Korean<br>alpha_3=%{location}<extra></extra>",
         "hovertext": [
          "Korea, Democratic People's Republic of",
          "Korea, Republic of"
         ],
         "locations": [
          "PRK",
          "KOR"
         ],
         "name": "Korean",
         "showlegend": true,
         "showscale": false,
         "type": "choropleth",
         "z": [
          1,
          1
         ]
        },
        {
         "colorscale": [
          [
           0,
           "rgb(98, 83, 119)"
          ],
          [
           1,
           "rgb(98, 83, 119)"
          ]
         ],
         "geo": "geo",
         "hovertemplate": "<b>%{hovertext}</b><br><br>languages=Lao<br>alpha_3=%{location}<extra></extra>",
         "hovertext": [
          "Lao People's Democratic Republic"
         ],
         "locations": [
          "LAO"
         ],
         "name": "Lao",
         "showlegend": true,
         "showscale": false,
         "type": "choropleth",
         "z": [
          1
         ]
        }
       ],
       "layout": {
        "geo": {
         "bgcolor": "seashell",
         "center": {},
         "domain": {
          "x": [
           0,
           1
          ],
          "y": [
           0,
           1
          ]
         }
        },
        "legend": {
         "title": {
          "text": "Languages"
         },
         "tracegroupgap": 0
        },
        "margin": {
         "t": 60
        },
        "template": {
         "data": {
          "bar": [
           {
            "error_x": {
             "color": "#2a3f5f"
            },
            "error_y": {
             "color": "#2a3f5f"
            },
            "marker": {
             "line": {
              "color": "#E5ECF6",
              "width": 0.5
             }
            },
            "type": "bar"
           }
          ],
          "barpolar": [
           {
            "marker": {
             "line": {
              "color": "#E5ECF6",
              "width": 0.5
             }
            },
            "type": "barpolar"
           }
          ],
          "carpet": [
           {
            "aaxis": {
             "endlinecolor": "#2a3f5f",
             "gridcolor": "white",
             "linecolor": "white",
             "minorgridcolor": "white",
             "startlinecolor": "#2a3f5f"
            },
            "baxis": {
             "endlinecolor": "#2a3f5f",
             "gridcolor": "white",
             "linecolor": "white",
             "minorgridcolor": "white",
             "startlinecolor": "#2a3f5f"
            },
            "type": "carpet"
           }
          ],
          "choropleth": [
           {
            "colorbar": {
             "outlinewidth": 0,
             "ticks": ""
            },
            "type": "choropleth"
           }
          ],
          "contour": [
           {
            "colorbar": {
             "outlinewidth": 0,
             "ticks": ""
            },
            "colorscale": [
             [
              0,
              "#0d0887"
             ],
             [
              0.1111111111111111,
              "#46039f"
             ],
             [
              0.2222222222222222,
              "#7201a8"
             ],
             [
              0.3333333333333333,
              "#9c179e"
             ],
             [
              0.4444444444444444,
              "#bd3786"
             ],
             [
              0.5555555555555556,
              "#d8576b"
             ],
             [
              0.6666666666666666,
              "#ed7953"
             ],
             [
              0.7777777777777778,
              "#fb9f3a"
             ],
             [
              0.8888888888888888,
              "#fdca26"
             ],
             [
              1,
              "#f0f921"
             ]
            ],
            "type": "contour"
           }
          ],
          "contourcarpet": [
           {
            "colorbar": {
             "outlinewidth": 0,
             "ticks": ""
            },
            "type": "contourcarpet"
           }
          ],
          "heatmap": [
           {
            "colorbar": {
             "outlinewidth": 0,
             "ticks": ""
            },
            "colorscale": [
             [
              0,
              "#0d0887"
             ],
             [
              0.1111111111111111,
              "#46039f"
             ],
             [
              0.2222222222222222,
              "#7201a8"
             ],
             [
              0.3333333333333333,
              "#9c179e"
             ],
             [
              0.4444444444444444,
              "#bd3786"
             ],
             [
              0.5555555555555556,
              "#d8576b"
             ],
             [
              0.6666666666666666,
              "#ed7953"
             ],
             [
              0.7777777777777778,
              "#fb9f3a"
             ],
             [
              0.8888888888888888,
              "#fdca26"
             ],
             [
              1,
              "#f0f921"
             ]
            ],
            "type": "heatmap"
           }
          ],
          "heatmapgl": [
           {
            "colorbar": {
             "outlinewidth": 0,
             "ticks": ""
            },
            "colorscale": [
             [
              0,
              "#0d0887"
             ],
             [
              0.1111111111111111,
              "#46039f"
             ],
             [
              0.2222222222222222,
              "#7201a8"
             ],
             [
              0.3333333333333333,
              "#9c179e"
             ],
             [
              0.4444444444444444,
              "#bd3786"
             ],
             [
              0.5555555555555556,
              "#d8576b"
             ],
             [
              0.6666666666666666,
              "#ed7953"
             ],
             [
              0.7777777777777778,
              "#fb9f3a"
             ],
             [
              0.8888888888888888,
              "#fdca26"
             ],
             [
              1,
              "#f0f921"
             ]
            ],
            "type": "heatmapgl"
           }
          ],
          "histogram": [
           {
            "marker": {
             "colorbar": {
              "outlinewidth": 0,
              "ticks": ""
             }
            },
            "type": "histogram"
           }
          ],
          "histogram2d": [
           {
            "colorbar": {
             "outlinewidth": 0,
             "ticks": ""
            },
            "colorscale": [
             [
              0,
              "#0d0887"
             ],
             [
              0.1111111111111111,
              "#46039f"
             ],
             [
              0.2222222222222222,
              "#7201a8"
             ],
             [
              0.3333333333333333,
              "#9c179e"
             ],
             [
              0.4444444444444444,
              "#bd3786"
             ],
             [
              0.5555555555555556,
              "#d8576b"
             ],
             [
              0.6666666666666666,
              "#ed7953"
             ],
             [
              0.7777777777777778,
              "#fb9f3a"
             ],
             [
              0.8888888888888888,
              "#fdca26"
             ],
             [
              1,
              "#f0f921"
             ]
            ],
            "type": "histogram2d"
           }
          ],
          "histogram2dcontour": [
           {
            "colorbar": {
             "outlinewidth": 0,
             "ticks": ""
            },
            "colorscale": [
             [
              0,
              "#0d0887"
             ],
             [
              0.1111111111111111,
              "#46039f"
             ],
             [
              0.2222222222222222,
              "#7201a8"
             ],
             [
              0.3333333333333333,
              "#9c179e"
             ],
             [
              0.4444444444444444,
              "#bd3786"
             ],
             [
              0.5555555555555556,
              "#d8576b"
             ],
             [
              0.6666666666666666,
              "#ed7953"
             ],
             [
              0.7777777777777778,
              "#fb9f3a"
             ],
             [
              0.8888888888888888,
              "#fdca26"
             ],
             [
              1,
              "#f0f921"
             ]
            ],
            "type": "histogram2dcontour"
           }
          ],
          "mesh3d": [
           {
            "colorbar": {
             "outlinewidth": 0,
             "ticks": ""
            },
            "type": "mesh3d"
           }
          ],
          "parcoords": [
           {
            "line": {
             "colorbar": {
              "outlinewidth": 0,
              "ticks": ""
             }
            },
            "type": "parcoords"
           }
          ],
          "pie": [
           {
            "automargin": true,
            "type": "pie"
           }
          ],
          "scatter": [
           {
            "marker": {
             "colorbar": {
              "outlinewidth": 0,
              "ticks": ""
             }
            },
            "type": "scatter"
           }
          ],
          "scatter3d": [
           {
            "line": {
             "colorbar": {
              "outlinewidth": 0,
              "ticks": ""
             }
            },
            "marker": {
             "colorbar": {
              "outlinewidth": 0,
              "ticks": ""
             }
            },
            "type": "scatter3d"
           }
          ],
          "scattercarpet": [
           {
            "marker": {
             "colorbar": {
              "outlinewidth": 0,
              "ticks": ""
             }
            },
            "type": "scattercarpet"
           }
          ],
          "scattergeo": [
           {
            "marker": {
             "colorbar": {
              "outlinewidth": 0,
              "ticks": ""
             }
            },
            "type": "scattergeo"
           }
          ],
          "scattergl": [
           {
            "marker": {
             "colorbar": {
              "outlinewidth": 0,
              "ticks": ""
             }
            },
            "type": "scattergl"
           }
          ],
          "scattermapbox": [
           {
            "marker": {
             "colorbar": {
              "outlinewidth": 0,
              "ticks": ""
             }
            },
            "type": "scattermapbox"
           }
          ],
          "scatterpolar": [
           {
            "marker": {
             "colorbar": {
              "outlinewidth": 0,
              "ticks": ""
             }
            },
            "type": "scatterpolar"
           }
          ],
          "scatterpolargl": [
           {
            "marker": {
             "colorbar": {
              "outlinewidth": 0,
              "ticks": ""
             }
            },
            "type": "scatterpolargl"
           }
          ],
          "scatterternary": [
           {
            "marker": {
             "colorbar": {
              "outlinewidth": 0,
              "ticks": ""
             }
            },
            "type": "scatterternary"
           }
          ],
          "surface": [
           {
            "colorbar": {
             "outlinewidth": 0,
             "ticks": ""
            },
            "colorscale": [
             [
              0,
              "#0d0887"
             ],
             [
              0.1111111111111111,
              "#46039f"
             ],
             [
              0.2222222222222222,
              "#7201a8"
             ],
             [
              0.3333333333333333,
              "#9c179e"
             ],
             [
              0.4444444444444444,
              "#bd3786"
             ],
             [
              0.5555555555555556,
              "#d8576b"
             ],
             [
              0.6666666666666666,
              "#ed7953"
             ],
             [
              0.7777777777777778,
              "#fb9f3a"
             ],
             [
              0.8888888888888888,
              "#fdca26"
             ],
             [
              1,
              "#f0f921"
             ]
            ],
            "type": "surface"
           }
          ],
          "table": [
           {
            "cells": {
             "fill": {
              "color": "#EBF0F8"
             },
             "line": {
              "color": "white"
             }
            },
            "header": {
             "fill": {
              "color": "#C8D4E3"
             },
             "line": {
              "color": "white"
             }
            },
            "type": "table"
           }
          ]
         },
         "layout": {
          "annotationdefaults": {
           "arrowcolor": "#2a3f5f",
           "arrowhead": 0,
           "arrowwidth": 1
          },
          "autotypenumbers": "strict",
          "coloraxis": {
           "colorbar": {
            "outlinewidth": 0,
            "ticks": ""
           }
          },
          "colorscale": {
           "diverging": [
            [
             0,
             "#8e0152"
            ],
            [
             0.1,
             "#c51b7d"
            ],
            [
             0.2,
             "#de77ae"
            ],
            [
             0.3,
             "#f1b6da"
            ],
            [
             0.4,
             "#fde0ef"
            ],
            [
             0.5,
             "#f7f7f7"
            ],
            [
             0.6,
             "#e6f5d0"
            ],
            [
             0.7,
             "#b8e186"
            ],
            [
             0.8,
             "#7fbc41"
            ],
            [
             0.9,
             "#4d9221"
            ],
            [
             1,
             "#276419"
            ]
           ],
           "sequential": [
            [
             0,
             "#0d0887"
            ],
            [
             0.1111111111111111,
             "#46039f"
            ],
            [
             0.2222222222222222,
             "#7201a8"
            ],
            [
             0.3333333333333333,
             "#9c179e"
            ],
            [
             0.4444444444444444,
             "#bd3786"
            ],
            [
             0.5555555555555556,
             "#d8576b"
            ],
            [
             0.6666666666666666,
             "#ed7953"
            ],
            [
             0.7777777777777778,
             "#fb9f3a"
            ],
            [
             0.8888888888888888,
             "#fdca26"
            ],
            [
             1,
             "#f0f921"
            ]
           ],
           "sequentialminus": [
            [
             0,
             "#0d0887"
            ],
            [
             0.1111111111111111,
             "#46039f"
            ],
            [
             0.2222222222222222,
             "#7201a8"
            ],
            [
             0.3333333333333333,
             "#9c179e"
            ],
            [
             0.4444444444444444,
             "#bd3786"
            ],
            [
             0.5555555555555556,
             "#d8576b"
            ],
            [
             0.6666666666666666,
             "#ed7953"
            ],
            [
             0.7777777777777778,
             "#fb9f3a"
            ],
            [
             0.8888888888888888,
             "#fdca26"
            ],
            [
             1,
             "#f0f921"
            ]
           ]
          },
          "colorway": [
           "#636efa",
           "#EF553B",
           "#00cc96",
           "#ab63fa",
           "#FFA15A",
           "#19d3f3",
           "#FF6692",
           "#B6E880",
           "#FF97FF",
           "#FECB52"
          ],
          "font": {
           "color": "#2a3f5f"
          },
          "geo": {
           "bgcolor": "white",
           "lakecolor": "white",
           "landcolor": "#E5ECF6",
           "showlakes": true,
           "showland": true,
           "subunitcolor": "white"
          },
          "hoverlabel": {
           "align": "left"
          },
          "hovermode": "closest",
          "mapbox": {
           "style": "light"
          },
          "paper_bgcolor": "white",
          "plot_bgcolor": "#E5ECF6",
          "polar": {
           "angularaxis": {
            "gridcolor": "white",
            "linecolor": "white",
            "ticks": ""
           },
           "bgcolor": "#E5ECF6",
           "radialaxis": {
            "gridcolor": "white",
            "linecolor": "white",
            "ticks": ""
           }
          },
          "scene": {
           "xaxis": {
            "backgroundcolor": "#E5ECF6",
            "gridcolor": "white",
            "gridwidth": 2,
            "linecolor": "white",
            "showbackground": true,
            "ticks": "",
            "zerolinecolor": "white"
           },
           "yaxis": {
            "backgroundcolor": "#E5ECF6",
            "gridcolor": "white",
            "gridwidth": 2,
            "linecolor": "white",
            "showbackground": true,
            "ticks": "",
            "zerolinecolor": "white"
           },
           "zaxis": {
            "backgroundcolor": "#E5ECF6",
            "gridcolor": "white",
            "gridwidth": 2,
            "linecolor": "white",
            "showbackground": true,
            "ticks": "",
            "zerolinecolor": "white"
           }
          },
          "shapedefaults": {
           "line": {
            "color": "#2a3f5f"
           }
          },
          "ternary": {
           "aaxis": {
            "gridcolor": "white",
            "linecolor": "white",
            "ticks": ""
           },
           "baxis": {
            "gridcolor": "white",
            "linecolor": "white",
            "ticks": ""
           },
           "bgcolor": "#E5ECF6",
           "caxis": {
            "gridcolor": "white",
            "linecolor": "white",
            "ticks": ""
           }
          },
          "title": {
           "x": 0.05
          },
          "xaxis": {
           "automargin": true,
           "gridcolor": "white",
           "linecolor": "white",
           "ticks": "",
           "title": {
            "standoff": 15
           },
           "zerolinecolor": "white",
           "zerolinewidth": 2
          },
          "yaxis": {
           "automargin": true,
           "gridcolor": "white",
           "linecolor": "white",
           "ticks": "",
           "title": {
            "standoff": 15
           },
           "zerolinecolor": "white",
           "zerolinewidth": 2
          }
         }
        },
        "title": {
         "text": "Main languages spoken per country"
        }
       }
      },
      "text/html": [
       "<div>                            <div id=\"ba899f2d-f2c4-434f-9967-be9866250f08\" class=\"plotly-graph-div\" style=\"height:525px; width:100%;\"></div>            <script type=\"text/javascript\">                require([\"plotly\"], function(Plotly) {                    window.PLOTLYENV=window.PLOTLYENV || {};                                    if (document.getElementById(\"ba899f2d-f2c4-434f-9967-be9866250f08\")) {                    Plotly.newPlot(                        \"ba899f2d-f2c4-434f-9967-be9866250f08\",                        [{\"colorscale\": [[0.0, \"rgb(133, 92, 117)\"], [1.0, \"rgb(133, 92, 117)\"]], \"geo\": \"geo\", \"hovertemplate\": \"<b>%{hovertext}</b><br><br>languages=Afghan<br>alpha_3=%{location}<extra></extra>\", \"hovertext\": [\"Afghanistan\"], \"locations\": [\"AFG\"], \"name\": \"Afghan\", \"showlegend\": true, \"showscale\": false, \"type\": \"choropleth\", \"z\": [1]}, {\"colorscale\": [[0.0, \"rgb(217, 175, 107)\"], [1.0, \"rgb(217, 175, 107)\"]], \"geo\": \"geo\", \"hovertemplate\": \"<b>%{hovertext}</b><br><br>languages=Albanian<br>alpha_3=%{location}<extra></extra>\", \"hovertext\": [\"Albania\"], \"locations\": [\"ALB\"], \"name\": \"Albanian\", \"showlegend\": true, \"showscale\": false, \"type\": \"choropleth\", \"z\": [1]}, {\"colorscale\": [[0.0, \"rgb(175, 100, 88)\"], [1.0, \"rgb(175, 100, 88)\"]], \"geo\": \"geo\", \"hovertemplate\": \"<b>%{hovertext}</b><br><br>languages=Arabic<br>alpha_3=%{location}<extra></extra>\", \"hovertext\": [\"Algeria\", \"Bahrain\", \"Comoros\", \"Egypt\", \"Iraq\", \"Jordan\", \"Kuwait\", \"Lebanon\", \"Libya\", \"Mauritania\", \"Morocco\", \"Oman\", \"Qatar\", \"Saudi Arabia\", \"Sudan\", \"Syrian Arab Republic\", \"Tunisia\", \"United Arab Emirates\", \"Yemen\"], \"locations\": [\"DZA\", \"BHR\", \"COM\", \"EGY\", \"IRQ\", \"JOR\", \"KWT\", \"LBN\", \"LBY\", \"MRT\", \"MAR\", \"OMN\", \"QAT\", \"SAU\", \"SDN\", \"SYR\", \"TUN\", \"ARE\", \"YEM\"], \"name\": \"Arabic\", \"showlegend\": true, \"showscale\": false, \"type\": \"choropleth\", \"z\": [1, 1, 1, 1, 1, 1, 1, 1, 1, 1, 1, 1, 1, 1, 1, 1, 1, 1, 1]}, {\"colorscale\": [[0.0, \"rgb(115, 111, 76)\"], [1.0, \"rgb(115, 111, 76)\"]], \"geo\": \"geo\", \"hovertemplate\": \"<b>%{hovertext}</b><br><br>languages=Catalan<br>alpha_3=%{location}<extra></extra>\", \"hovertext\": [\"Andorra\"], \"locations\": [\"AND\"], \"name\": \"Catalan\", \"showlegend\": true, \"showscale\": false, \"type\": \"choropleth\", \"z\": [1]}, {\"colorscale\": [[0.0, \"rgb(82, 106, 131)\"], [1.0, \"rgb(82, 106, 131)\"]], \"geo\": \"geo\", \"hovertemplate\": \"<b>%{hovertext}</b><br><br>languages=Portuguese<br>alpha_3=%{location}<extra></extra>\", \"hovertext\": [\"Angola\", \"Brazil\", \"Portugal\", \"Sao Tome and Principe\"], \"locations\": [\"AGO\", \"BRA\", \"PRT\", \"STP\"], \"name\": \"Portuguese\", \"showlegend\": true, \"showscale\": false, \"type\": \"choropleth\", \"z\": [1, 1, 1, 1]}, {\"colorscale\": [[0.0, \"rgb(98, 83, 119)\"], [1.0, \"rgb(98, 83, 119)\"]], \"geo\": \"geo\", \"hovertemplate\": \"<b>%{hovertext}</b><br><br>languages=English<br>alpha_3=%{location}<extra></extra>\", \"hovertext\": [\"Antigua and Barbuda\", \"Australia\", \"Barbados\", \"Belize\", \"Cameroon\", \"Canada\", \"Dominica\", \"Eswatini\", \"Fiji\", \"Grenada\", \"Guyana\", \"Ireland\", \"Jamaica\", \"Kenya\", \"Liberia\", \"Malawi\", \"New Zealand\", \"Nigeria\", \"Sierra Leone\", \"Singapore\", \"South Sudan\", \"Trinidad and Tobago\", \"Uganda\", \"United Kingdom\", \"United States\", \"Cabo Verde\"], \"locations\": [\"ATG\", \"AUS\", \"BRB\", \"BLZ\", \"CMR\", \"CAN\", \"DMA\", \"SWZ\", \"FJI\", \"GRD\", \"GUY\", \"IRL\", \"JAM\", \"KEN\", \"LBR\", \"MWI\", \"NZL\", \"NGA\", \"SLE\", \"SGP\", \"SSD\", \"TTO\", \"UGA\", \"GBR\", \"USA\", \"CPV\"], \"name\": \"English\", \"showlegend\": true, \"showscale\": false, \"type\": \"choropleth\", \"z\": [1, 1, 1, 1, 1, 1, 1, 1, 1, 1, 1, 1, 1, 1, 1, 1, 1, 1, 1, 1, 1, 1, 1, 1, 1, 1]}, {\"colorscale\": [[0.0, \"rgb(104, 133, 92)\"], [1.0, \"rgb(104, 133, 92)\"]], \"geo\": \"geo\", \"hovertemplate\": \"<b>%{hovertext}</b><br><br>languages=Spanish<br>alpha_3=%{location}<extra></extra>\", \"hovertext\": [\"Argentina\", \"Bolivia, Plurinational State of\", \"Chile\", \"Colombia\", \"Costa Rica\", \"Cuba\", \"Dominican Republic\", \"Ecuador\", \"El Salvador\", \"Equatorial Guinea\", \"Guatemala\", \"Honduras\", \"Mexico\", \"Micronesia, Federated States of\", \"Nicaragua\", \"Panama\", \"Paraguay\", \"Peru\", \"Uruguay\", \"Venezuela, Bolivarian Republic of\", \"Timor-Leste\"], \"locations\": [\"ARG\", \"BOL\", \"CHL\", \"COL\", \"CRI\", \"CUB\", \"DOM\", \"ECU\", \"SLV\", \"GNQ\", \"GTM\", \"HND\", \"MEX\", \"FSM\", \"NIC\", \"PAN\", \"PRY\", \"PER\", \"URY\", \"VEN\", \"TLS\"], \"name\": \"Spanish\", \"showlegend\": true, \"showscale\": false, \"type\": \"choropleth\", \"z\": [1, 1, 1, 1, 1, 1, 1, 1, 1, 1, 1, 1, 1, 1, 1, 1, 1, 1, 1, 1, 1]}, {\"colorscale\": [[0.0, \"rgb(156, 156, 94)\"], [1.0, \"rgb(156, 156, 94)\"]], \"geo\": \"geo\", \"hovertemplate\": \"<b>%{hovertext}</b><br><br>languages=Armenian<br>alpha_3=%{location}<extra></extra>\", \"hovertext\": [\"Armenia\"], \"locations\": [\"ARM\"], \"name\": \"Armenian\", \"showlegend\": true, \"showscale\": false, \"type\": \"choropleth\", \"z\": [1]}, {\"colorscale\": [[0.0, \"rgb(160, 97, 119)\"], [1.0, \"rgb(160, 97, 119)\"]], \"geo\": \"geo\", \"hovertemplate\": \"<b>%{hovertext}</b><br><br>languages=German<br>alpha_3=%{location}<extra></extra>\", \"hovertext\": [\"Austria\", \"Germany\", \"Liechtenstein\", \"Switzerland\"], \"locations\": [\"AUT\", \"DEU\", \"LIE\", \"CHE\"], \"name\": \"German\", \"showlegend\": true, \"showscale\": false, \"type\": \"choropleth\", \"z\": [1, 1, 1, 1]}, {\"colorscale\": [[0.0, \"rgb(140, 120, 93)\"], [1.0, \"rgb(140, 120, 93)\"]], \"geo\": \"geo\", \"hovertemplate\": \"<b>%{hovertext}</b><br><br>languages=Azerbaijani<br>alpha_3=%{location}<extra></extra>\", \"hovertext\": [\"Azerbaijan\", \"Bahamas\"], \"locations\": [\"AZE\", \"BHS\"], \"name\": \"Azerbaijani\", \"showlegend\": true, \"showscale\": false, \"type\": \"choropleth\", \"z\": [1, 1]}, {\"colorscale\": [[0.0, \"rgb(124, 124, 124)\"], [1.0, \"rgb(124, 124, 124)\"]], \"geo\": \"geo\", \"hovertemplate\": \"<b>%{hovertext}</b><br><br>languages=Bangla<br>alpha_3=%{location}<extra></extra>\", \"hovertext\": [\"Bangladesh\"], \"locations\": [\"BGD\"], \"name\": \"Bangla\", \"showlegend\": true, \"showscale\": false, \"type\": \"choropleth\", \"z\": [1]}, {\"colorscale\": [[0.0, \"rgb(133, 92, 117)\"], [1.0, \"rgb(133, 92, 117)\"]], \"geo\": \"geo\", \"hovertemplate\": \"<b>%{hovertext}</b><br><br>languages=Russian<br>alpha_3=%{location}<extra></extra>\", \"hovertext\": [\"Belarus\", \"Russian Federation\"], \"locations\": [\"BLR\", \"RUS\"], \"name\": \"Russian\", \"showlegend\": true, \"showscale\": false, \"type\": \"choropleth\", \"z\": [1, 1]}, {\"colorscale\": [[0.0, \"rgb(217, 175, 107)\"], [1.0, \"rgb(217, 175, 107)\"]], \"geo\": \"geo\", \"hovertemplate\": \"<b>%{hovertext}</b><br><br>languages=Dutch<br>alpha_3=%{location}<extra></extra>\", \"hovertext\": [\"Belgium\", \"Netherlands\", \"Suriname\"], \"locations\": [\"BEL\", \"NLD\", \"SUR\"], \"name\": \"Dutch\", \"showlegend\": true, \"showscale\": false, \"type\": \"choropleth\", \"z\": [1, 1, 1]}, {\"colorscale\": [[0.0, \"rgb(175, 100, 88)\"], [1.0, \"rgb(175, 100, 88)\"]], \"geo\": \"geo\", \"hovertemplate\": \"<b>%{hovertext}</b><br><br>languages=French<br>alpha_3=%{location}<extra></extra>\", \"hovertext\": [\"Benin\", \"Burkina Faso\", \"Central African Republic\", \"Chad\", \"Djibouti\", \"France\", \"Gabon\", \"Gambia\", \"Guinea\", \"Haiti\", \"Madagascar\", \"Mali\", \"Monaco\", \"Nigeria\", \"Senegal\", \"Togo\", \"Congo, The Democratic Republic of the\", \"Congo\", \"C\\u00f4te d'Ivoire\"], \"locations\": [\"BEN\", \"BFA\", \"CAF\", \"TCD\", \"DJI\", \"FRA\", \"GAB\", \"GMB\", \"GIN\", \"HTI\", \"MDG\", \"MLI\", \"MCO\", \"NGA\", \"SEN\", \"TGO\", \"COD\", \"COG\", \"CIV\"], \"name\": \"French\", \"showlegend\": true, \"showscale\": false, \"type\": \"choropleth\", \"z\": [1, 1, 1, 1, 1, 1, 1, 1, 1, 1, 1, 1, 1, 1, 1, 1, 1, 1, 1]}, {\"colorscale\": [[0.0, \"rgb(115, 111, 76)\"], [1.0, \"rgb(115, 111, 76)\"]], \"geo\": \"geo\", \"hovertemplate\": \"<b>%{hovertext}</b><br><br>languages=Sharchhopka<br>alpha_3=%{location}<extra></extra>\", \"hovertext\": [\"Bhutan\"], \"locations\": [\"BTN\"], \"name\": \"Sharchhopka\", \"showlegend\": true, \"showscale\": false, \"type\": \"choropleth\", \"z\": [1]}, {\"colorscale\": [[0.0, \"rgb(82, 106, 131)\"], [1.0, \"rgb(82, 106, 131)\"]], \"geo\": \"geo\", \"hovertemplate\": \"<b>%{hovertext}</b><br><br>languages=Bosnian<br>alpha_3=%{location}<extra></extra>\", \"hovertext\": [\"Bosnia and Herzegovina\"], \"locations\": [\"BIH\"], \"name\": \"Bosnian\", \"showlegend\": true, \"showscale\": false, \"type\": \"choropleth\", \"z\": [1]}, {\"colorscale\": [[0.0, \"rgb(98, 83, 119)\"], [1.0, \"rgb(98, 83, 119)\"]], \"geo\": \"geo\", \"hovertemplate\": \"<b>%{hovertext}</b><br><br>languages=Setswana<br>alpha_3=%{location}<extra></extra>\", \"hovertext\": [\"Botswana\"], \"locations\": [\"BWA\"], \"name\": \"Setswana\", \"showlegend\": true, \"showscale\": false, \"type\": \"choropleth\", \"z\": [1]}, {\"colorscale\": [[0.0, \"rgb(104, 133, 92)\"], [1.0, \"rgb(104, 133, 92)\"]], \"geo\": \"geo\", \"hovertemplate\": \"<b>%{hovertext}</b><br><br>languages=Malay<br>alpha_3=%{location}<extra></extra>\", \"hovertext\": [\"Brunei Darussalam\"], \"locations\": [\"BRN\"], \"name\": \"Malay\", \"showlegend\": true, \"showscale\": false, \"type\": \"choropleth\", \"z\": [1]}, {\"colorscale\": [[0.0, \"rgb(156, 156, 94)\"], [1.0, \"rgb(156, 156, 94)\"]], \"geo\": \"geo\", \"hovertemplate\": \"<b>%{hovertext}</b><br><br>languages=Bulgarian<br>alpha_3=%{location}<extra></extra>\", \"hovertext\": [\"Bulgaria\"], \"locations\": [\"BGR\"], \"name\": \"Bulgarian\", \"showlegend\": true, \"showscale\": false, \"type\": \"choropleth\", \"z\": [1]}, {\"colorscale\": [[0.0, \"rgb(160, 97, 119)\"], [1.0, \"rgb(160, 97, 119)\"]], \"geo\": \"geo\", \"hovertemplate\": \"<b>%{hovertext}</b><br><br>languages=Kirundi<br>alpha_3=%{location}<extra></extra>\", \"hovertext\": [\"Burundi\"], \"locations\": [\"BDI\"], \"name\": \"Kirundi\", \"showlegend\": true, \"showscale\": false, \"type\": \"choropleth\", \"z\": [1]}, {\"colorscale\": [[0.0, \"rgb(140, 120, 93)\"], [1.0, \"rgb(140, 120, 93)\"]], \"geo\": \"geo\", \"hovertemplate\": \"<b>%{hovertext}</b><br><br>languages=Khmer<br>alpha_3=%{location}<extra></extra>\", \"hovertext\": [\"Cambodia\"], \"locations\": [\"KHM\"], \"name\": \"Khmer\", \"showlegend\": true, \"showscale\": false, \"type\": \"choropleth\", \"z\": [1]}, {\"colorscale\": [[0.0, \"rgb(124, 124, 124)\"], [1.0, \"rgb(124, 124, 124)\"]], \"geo\": \"geo\", \"hovertemplate\": \"<b>%{hovertext}</b><br><br>languages=Yue<br>alpha_3=%{location}<extra></extra>\", \"hovertext\": [\"China\"], \"locations\": [\"CHN\"], \"name\": \"Yue\", \"showlegend\": true, \"showscale\": false, \"type\": \"choropleth\", \"z\": [1]}, {\"colorscale\": [[0.0, \"rgb(133, 92, 117)\"], [1.0, \"rgb(133, 92, 117)\"]], \"geo\": \"geo\", \"hovertemplate\": \"<b>%{hovertext}</b><br><br>languages=Croatian<br>alpha_3=%{location}<extra></extra>\", \"hovertext\": [\"Croatia\"], \"locations\": [\"HRV\"], \"name\": \"Croatian\", \"showlegend\": true, \"showscale\": false, \"type\": \"choropleth\", \"z\": [1]}, {\"colorscale\": [[0.0, \"rgb(217, 175, 107)\"], [1.0, \"rgb(217, 175, 107)\"]], \"geo\": \"geo\", \"hovertemplate\": \"<b>%{hovertext}</b><br><br>languages=Greek<br>alpha_3=%{location}<extra></extra>\", \"hovertext\": [\"Cyprus\", \"Czechia\", \"Greece\"], \"locations\": [\"CYP\", \"CZE\", \"GRC\"], \"name\": \"Greek\", \"showlegend\": true, \"showscale\": false, \"type\": \"choropleth\", \"z\": [1, 1, 1]}, {\"colorscale\": [[0.0, \"rgb(175, 100, 88)\"], [1.0, \"rgb(175, 100, 88)\"]], \"geo\": \"geo\", \"hovertemplate\": \"<b>%{hovertext}</b><br><br>languages=Danish<br>alpha_3=%{location}<extra></extra>\", \"hovertext\": [\"Denmark\"], \"locations\": [\"DNK\"], \"name\": \"Danish\", \"showlegend\": true, \"showscale\": false, \"type\": \"choropleth\", \"z\": [1]}, {\"colorscale\": [[0.0, \"rgb(115, 111, 76)\"], [1.0, \"rgb(115, 111, 76)\"]], \"geo\": \"geo\", \"hovertemplate\": \"<b>%{hovertext}</b><br><br>languages=Tigrinya<br>alpha_3=%{location}<extra></extra>\", \"hovertext\": [\"Eritrea\"], \"locations\": [\"ERI\"], \"name\": \"Tigrinya\", \"showlegend\": true, \"showscale\": false, \"type\": \"choropleth\", \"z\": [1]}, {\"colorscale\": [[0.0, \"rgb(82, 106, 131)\"], [1.0, \"rgb(82, 106, 131)\"]], \"geo\": \"geo\", \"hovertemplate\": \"<b>%{hovertext}</b><br><br>languages=Estonian<br>alpha_3=%{location}<extra></extra>\", \"hovertext\": [\"Estonia\"], \"locations\": [\"EST\"], \"name\": \"Estonian\", \"showlegend\": true, \"showscale\": false, \"type\": \"choropleth\", \"z\": [1]}, {\"colorscale\": [[0.0, \"rgb(98, 83, 119)\"], [1.0, \"rgb(98, 83, 119)\"]], \"geo\": \"geo\", \"hovertemplate\": \"<b>%{hovertext}</b><br><br>languages=Oromo<br>alpha_3=%{location}<extra></extra>\", \"hovertext\": [\"Ethiopia\"], \"locations\": [\"ETH\"], \"name\": \"Oromo\", \"showlegend\": true, \"showscale\": false, \"type\": \"choropleth\", \"z\": [1]}, {\"colorscale\": [[0.0, \"rgb(104, 133, 92)\"], [1.0, \"rgb(104, 133, 92)\"]], \"geo\": \"geo\", \"hovertemplate\": \"<b>%{hovertext}</b><br><br>languages=Finnish<br>alpha_3=%{location}<extra></extra>\", \"hovertext\": [\"Finland\"], \"locations\": [\"FIN\"], \"name\": \"Finnish\", \"showlegend\": true, \"showscale\": false, \"type\": \"choropleth\", \"z\": [1]}, {\"colorscale\": [[0.0, \"rgb(156, 156, 94)\"], [1.0, \"rgb(156, 156, 94)\"]], \"geo\": \"geo\", \"hovertemplate\": \"<b>%{hovertext}</b><br><br>languages=Georgian<br>alpha_3=%{location}<extra></extra>\", \"hovertext\": [\"Georgia\"], \"locations\": [\"GEO\"], \"name\": \"Georgian\", \"showlegend\": true, \"showscale\": false, \"type\": \"choropleth\", \"z\": [1]}, {\"colorscale\": [[0.0, \"rgb(160, 97, 119)\"], [1.0, \"rgb(160, 97, 119)\"]], \"geo\": \"geo\", \"hovertemplate\": \"<b>%{hovertext}</b><br><br>languages=Asante<br>alpha_3=%{location}<extra></extra>\", \"hovertext\": [\"Ghana\"], \"locations\": [\"GHA\"], \"name\": \"Asante\", \"showlegend\": true, \"showscale\": false, \"type\": \"choropleth\", \"z\": [1]}, {\"colorscale\": [[0.0, \"rgb(140, 120, 93)\"], [1.0, \"rgb(140, 120, 93)\"]], \"geo\": \"geo\", \"hovertemplate\": \"<b>%{hovertext}</b><br><br>languages=Crioulo<br>alpha_3=%{location}<extra></extra>\", \"hovertext\": [\"Guinea-Bissau\"], \"locations\": [\"GNB\"], \"name\": \"Crioulo\", \"showlegend\": true, \"showscale\": false, \"type\": \"choropleth\", \"z\": [1]}, {\"colorscale\": [[0.0, \"rgb(124, 124, 124)\"], [1.0, \"rgb(124, 124, 124)\"]], \"geo\": \"geo\", \"hovertemplate\": \"<b>%{hovertext}</b><br><br>languages=Hungarian<br>alpha_3=%{location}<extra></extra>\", \"hovertext\": [\"Hungary\"], \"locations\": [\"HUN\"], \"name\": \"Hungarian\", \"showlegend\": true, \"showscale\": false, \"type\": \"choropleth\", \"z\": [1]}, {\"colorscale\": [[0.0, \"rgb(133, 92, 117)\"], [1.0, \"rgb(133, 92, 117)\"]], \"geo\": \"geo\", \"hovertemplate\": \"<b>%{hovertext}</b><br><br>languages=Icelandic<br>alpha_3=%{location}<extra></extra>\", \"hovertext\": [\"Iceland\"], \"locations\": [\"ISL\"], \"name\": \"Icelandic\", \"showlegend\": true, \"showscale\": false, \"type\": \"choropleth\", \"z\": [1]}, {\"colorscale\": [[0.0, \"rgb(217, 175, 107)\"], [1.0, \"rgb(217, 175, 107)\"]], \"geo\": \"geo\", \"hovertemplate\": \"<b>%{hovertext}</b><br><br>languages=Hindi<br>alpha_3=%{location}<extra></extra>\", \"hovertext\": [\"India\"], \"locations\": [\"IND\"], \"name\": \"Hindi\", \"showlegend\": true, \"showscale\": false, \"type\": \"choropleth\", \"z\": [1]}, {\"colorscale\": [[0.0, \"rgb(175, 100, 88)\"], [1.0, \"rgb(175, 100, 88)\"]], \"geo\": \"geo\", \"hovertemplate\": \"<b>%{hovertext}</b><br><br>languages=Bahasa<br>alpha_3=%{location}<extra></extra>\", \"hovertext\": [\"Indonesia\", \"Malaysia\"], \"locations\": [\"IDN\", \"MYS\"], \"name\": \"Bahasa\", \"showlegend\": true, \"showscale\": false, \"type\": \"choropleth\", \"z\": [1, 1]}, {\"colorscale\": [[0.0, \"rgb(115, 111, 76)\"], [1.0, \"rgb(115, 111, 76)\"]], \"geo\": \"geo\", \"hovertemplate\": \"<b>%{hovertext}</b><br><br>languages=Persian<br>alpha_3=%{location}<extra></extra>\", \"hovertext\": [\"Iran, Islamic Republic of\"], \"locations\": [\"IRN\"], \"name\": \"Persian\", \"showlegend\": true, \"showscale\": false, \"type\": \"choropleth\", \"z\": [1]}, {\"colorscale\": [[0.0, \"rgb(82, 106, 131)\"], [1.0, \"rgb(82, 106, 131)\"]], \"geo\": \"geo\", \"hovertemplate\": \"<b>%{hovertext}</b><br><br>languages=Hebrew<br>alpha_3=%{location}<extra></extra>\", \"hovertext\": [\"Israel\"], \"locations\": [\"ISR\"], \"name\": \"Hebrew\", \"showlegend\": true, \"showscale\": false, \"type\": \"choropleth\", \"z\": [1]}, {\"colorscale\": [[0.0, \"rgb(98, 83, 119)\"], [1.0, \"rgb(98, 83, 119)\"]], \"geo\": \"geo\", \"hovertemplate\": \"<b>%{hovertext}</b><br><br>languages=Italian<br>alpha_3=%{location}<extra></extra>\", \"hovertext\": [\"Italy\", \"San Marino\", \"Holy See (Vatican City State)\"], \"locations\": [\"ITA\", \"SMR\", \"VAT\"], \"name\": \"Italian\", \"showlegend\": true, \"showscale\": false, \"type\": \"choropleth\", \"z\": [1, 1, 1]}, {\"colorscale\": [[0.0, \"rgb(104, 133, 92)\"], [1.0, \"rgb(104, 133, 92)\"]], \"geo\": \"geo\", \"hovertemplate\": \"<b>%{hovertext}</b><br><br>languages=Japanese<br>alpha_3=%{location}<extra></extra>\", \"hovertext\": [\"Japan\"], \"locations\": [\"JPN\"], \"name\": \"Japanese\", \"showlegend\": true, \"showscale\": false, \"type\": \"choropleth\", \"z\": [1]}, {\"colorscale\": [[0.0, \"rgb(156, 156, 94)\"], [1.0, \"rgb(156, 156, 94)\"]], \"geo\": \"geo\", \"hovertemplate\": \"<b>%{hovertext}</b><br><br>languages=Kazakh<br>alpha_3=%{location}<extra></extra>\", \"hovertext\": [\"Kazakhstan\"], \"locations\": [\"KAZ\"], \"name\": \"Kazakh\", \"showlegend\": true, \"showscale\": false, \"type\": \"choropleth\", \"z\": [1]}, {\"colorscale\": [[0.0, \"rgb(160, 97, 119)\"], [1.0, \"rgb(160, 97, 119)\"]], \"geo\": \"geo\", \"hovertemplate\": \"<b>%{hovertext}</b><br><br>languages=I-Kiribati<br>alpha_3=%{location}<extra></extra>\", \"hovertext\": [\"Kiribati\"], \"locations\": [\"KIR\"], \"name\": \"I-Kiribati\", \"showlegend\": true, \"showscale\": false, \"type\": \"choropleth\", \"z\": [1]}, {\"colorscale\": [[0.0, \"rgb(140, 120, 93)\"], [1.0, \"rgb(140, 120, 93)\"]], \"geo\": \"geo\", \"hovertemplate\": \"<b>%{hovertext}</b><br><br>languages=Kyrgyz<br>alpha_3=%{location}<extra></extra>\", \"hovertext\": [\"Kyrgyzstan\"], \"locations\": [\"KGZ\"], \"name\": \"Kyrgyz\", \"showlegend\": true, \"showscale\": false, \"type\": \"choropleth\", \"z\": [1]}, {\"colorscale\": [[0.0, \"rgb(124, 124, 124)\"], [1.0, \"rgb(124, 124, 124)\"]], \"geo\": \"geo\", \"hovertemplate\": \"<b>%{hovertext}</b><br><br>languages=Latvian<br>alpha_3=%{location}<extra></extra>\", \"hovertext\": [\"Latvia\"], \"locations\": [\"LVA\"], \"name\": \"Latvian\", \"showlegend\": true, \"showscale\": false, \"type\": \"choropleth\", \"z\": [1]}, {\"colorscale\": [[0.0, \"rgb(133, 92, 117)\"], [1.0, \"rgb(133, 92, 117)\"]], \"geo\": \"geo\", \"hovertemplate\": \"<b>%{hovertext}</b><br><br>languages=Sesotho<br>alpha_3=%{location}<extra></extra>\", \"hovertext\": [\"Lesotho\"], \"locations\": [\"LSO\"], \"name\": \"Sesotho\", \"showlegend\": true, \"showscale\": false, \"type\": \"choropleth\", \"z\": [1]}, {\"colorscale\": [[0.0, \"rgb(217, 175, 107)\"], [1.0, \"rgb(217, 175, 107)\"]], \"geo\": \"geo\", \"hovertemplate\": \"<b>%{hovertext}</b><br><br>languages=Lithuanian<br>alpha_3=%{location}<extra></extra>\", \"hovertext\": [\"Lithuania\"], \"locations\": [\"LTU\"], \"name\": \"Lithuanian\", \"showlegend\": true, \"showscale\": false, \"type\": \"choropleth\", \"z\": [1]}, {\"colorscale\": [[0.0, \"rgb(175, 100, 88)\"], [1.0, \"rgb(175, 100, 88)\"]], \"geo\": \"geo\", \"hovertemplate\": \"<b>%{hovertext}</b><br><br>languages=Luxembourgish<br>alpha_3=%{location}<extra></extra>\", \"hovertext\": [\"Luxembourg\"], \"locations\": [\"LUX\"], \"name\": \"Luxembourgish\", \"showlegend\": true, \"showscale\": false, \"type\": \"choropleth\", \"z\": [1]}, {\"colorscale\": [[0.0, \"rgb(115, 111, 76)\"], [1.0, \"rgb(115, 111, 76)\"]], \"geo\": \"geo\", \"hovertemplate\": \"<b>%{hovertext}</b><br><br>languages=Dhivehi<br>alpha_3=%{location}<extra></extra>\", \"hovertext\": [\"Maldives\"], \"locations\": [\"MDV\"], \"name\": \"Dhivehi\", \"showlegend\": true, \"showscale\": false, \"type\": \"choropleth\", \"z\": [1]}, {\"colorscale\": [[0.0, \"rgb(82, 106, 131)\"], [1.0, \"rgb(82, 106, 131)\"]], \"geo\": \"geo\", \"hovertemplate\": \"<b>%{hovertext}</b><br><br>languages=Maltese<br>alpha_3=%{location}<extra></extra>\", \"hovertext\": [\"Malta\"], \"locations\": [\"MLT\"], \"name\": \"Maltese\", \"showlegend\": true, \"showscale\": false, \"type\": \"choropleth\", \"z\": [1]}, {\"colorscale\": [[0.0, \"rgb(98, 83, 119)\"], [1.0, \"rgb(98, 83, 119)\"]], \"geo\": \"geo\", \"hovertemplate\": \"<b>%{hovertext}</b><br><br>languages=Marshallese<br>alpha_3=%{location}<extra></extra>\", \"hovertext\": [\"Marshall Islands\"], \"locations\": [\"MHL\"], \"name\": \"Marshallese\", \"showlegend\": true, \"showscale\": false, \"type\": \"choropleth\", \"z\": [1]}, {\"colorscale\": [[0.0, \"rgb(104, 133, 92)\"], [1.0, \"rgb(104, 133, 92)\"]], \"geo\": \"geo\", \"hovertemplate\": \"<b>%{hovertext}</b><br><br>languages=Creole<br>alpha_3=%{location}<extra></extra>\", \"hovertext\": [\"Mauritius\"], \"locations\": [\"MUS\"], \"name\": \"Creole\", \"showlegend\": true, \"showscale\": false, \"type\": \"choropleth\", \"z\": [1]}, {\"colorscale\": [[0.0, \"rgb(156, 156, 94)\"], [1.0, \"rgb(156, 156, 94)\"]], \"geo\": \"geo\", \"hovertemplate\": \"<b>%{hovertext}</b><br><br>languages=Moldovan/Romanian<br>alpha_3=%{location}<extra></extra>\", \"hovertext\": [\"Moldova, Republic of\"], \"locations\": [\"MDA\"], \"name\": \"Moldovan/Romanian\", \"showlegend\": true, \"showscale\": false, \"type\": \"choropleth\", \"z\": [1]}, {\"colorscale\": [[0.0, \"rgb(160, 97, 119)\"], [1.0, \"rgb(160, 97, 119)\"]], \"geo\": \"geo\", \"hovertemplate\": \"<b>%{hovertext}</b><br><br>languages=Mongolian<br>alpha_3=%{location}<extra></extra>\", \"hovertext\": [\"Mongolia\"], \"locations\": [\"MNG\"], \"name\": \"Mongolian\", \"showlegend\": true, \"showscale\": false, \"type\": \"choropleth\", \"z\": [1]}, {\"colorscale\": [[0.0, \"rgb(140, 120, 93)\"], [1.0, \"rgb(140, 120, 93)\"]], \"geo\": \"geo\", \"hovertemplate\": \"<b>%{hovertext}</b><br><br>languages=Serbian<br>alpha_3=%{location}<extra></extra>\", \"hovertext\": [\"Montenegro\", \"Serbia\"], \"locations\": [\"MNE\", \"SRB\"], \"name\": \"Serbian\", \"showlegend\": true, \"showscale\": false, \"type\": \"choropleth\", \"z\": [1, 1]}, {\"colorscale\": [[0.0, \"rgb(124, 124, 124)\"], [1.0, \"rgb(124, 124, 124)\"]], \"geo\": \"geo\", \"hovertemplate\": \"<b>%{hovertext}</b><br><br>languages=Makhuwa<br>alpha_3=%{location}<extra></extra>\", \"hovertext\": [\"Mozambique\", \"Myanmar\"], \"locations\": [\"MOZ\", \"MMR\"], \"name\": \"Makhuwa\", \"showlegend\": true, \"showscale\": false, \"type\": \"choropleth\", \"z\": [1, 1]}, {\"colorscale\": [[0.0, \"rgb(133, 92, 117)\"], [1.0, \"rgb(133, 92, 117)\"]], \"geo\": \"geo\", \"hovertemplate\": \"<b>%{hovertext}</b><br><br>languages=Oshiwambo<br>alpha_3=%{location}<extra></extra>\", \"hovertext\": [\"Namibia\"], \"locations\": [\"NAM\"], \"name\": \"Oshiwambo\", \"showlegend\": true, \"showscale\": false, \"type\": \"choropleth\", \"z\": [1]}, {\"colorscale\": [[0.0, \"rgb(217, 175, 107)\"], [1.0, \"rgb(217, 175, 107)\"]], \"geo\": \"geo\", \"hovertemplate\": \"<b>%{hovertext}</b><br><br>languages=Nauruan<br>alpha_3=%{location}<extra></extra>\", \"hovertext\": [\"Nauru\"], \"locations\": [\"NRU\"], \"name\": \"Nauruan\", \"showlegend\": true, \"showscale\": false, \"type\": \"choropleth\", \"z\": [1]}, {\"colorscale\": [[0.0, \"rgb(175, 100, 88)\"], [1.0, \"rgb(175, 100, 88)\"]], \"geo\": \"geo\", \"hovertemplate\": \"<b>%{hovertext}</b><br><br>languages=Nepali<br>alpha_3=%{location}<extra></extra>\", \"hovertext\": [\"Nepal\"], \"locations\": [\"NPL\"], \"name\": \"Nepali\", \"showlegend\": true, \"showscale\": false, \"type\": \"choropleth\", \"z\": [1]}, {\"colorscale\": [[0.0, \"rgb(115, 111, 76)\"], [1.0, \"rgb(115, 111, 76)\"]], \"geo\": \"geo\", \"hovertemplate\": \"<b>%{hovertext}</b><br><br>languages=Macedonian<br>alpha_3=%{location}<extra></extra>\", \"hovertext\": [\"North Macedonia\"], \"locations\": [\"MKD\"], \"name\": \"Macedonian\", \"showlegend\": true, \"showscale\": false, \"type\": \"choropleth\", \"z\": [1]}, {\"colorscale\": [[0.0, \"rgb(82, 106, 131)\"], [1.0, \"rgb(82, 106, 131)\"]], \"geo\": \"geo\", \"hovertemplate\": \"<b>%{hovertext}</b><br><br>languages=Bokmal<br>alpha_3=%{location}<extra></extra>\", \"hovertext\": [\"Norway\"], \"locations\": [\"NOR\"], \"name\": \"Bokmal\", \"showlegend\": true, \"showscale\": false, \"type\": \"choropleth\", \"z\": [1]}, {\"colorscale\": [[0.0, \"rgb(98, 83, 119)\"], [1.0, \"rgb(98, 83, 119)\"]], \"geo\": \"geo\", \"hovertemplate\": \"<b>%{hovertext}</b><br><br>languages=Punjabi<br>alpha_3=%{location}<extra></extra>\", \"hovertext\": [\"Pakistan\"], \"locations\": [\"PAK\"], \"name\": \"Punjabi\", \"showlegend\": true, \"showscale\": false, \"type\": \"choropleth\", \"z\": [1]}, {\"colorscale\": [[0.0, \"rgb(104, 133, 92)\"], [1.0, \"rgb(104, 133, 92)\"]], \"geo\": \"geo\", \"hovertemplate\": \"<b>%{hovertext}</b><br><br>languages=Palauan<br>alpha_3=%{location}<extra></extra>\", \"hovertext\": [\"Palau\", \"Palestine, State of\"], \"locations\": [\"PLW\", \"PSE\"], \"name\": \"Palauan\", \"showlegend\": true, \"showscale\": false, \"type\": \"choropleth\", \"z\": [1, 1]}, {\"colorscale\": [[0.0, \"rgb(156, 156, 94)\"], [1.0, \"rgb(156, 156, 94)\"]], \"geo\": \"geo\", \"hovertemplate\": \"<b>%{hovertext}</b><br><br>languages=Tok<br>alpha_3=%{location}<extra></extra>\", \"hovertext\": [\"Papua New Guinea\"], \"locations\": [\"PNG\"], \"name\": \"Tok\", \"showlegend\": true, \"showscale\": false, \"type\": \"choropleth\", \"z\": [1]}, {\"colorscale\": [[0.0, \"rgb(160, 97, 119)\"], [1.0, \"rgb(160, 97, 119)\"]], \"geo\": \"geo\", \"hovertemplate\": \"<b>%{hovertext}</b><br><br>languages=Cebuano<br>alpha_3=%{location}<extra></extra>\", \"hovertext\": [\"Philippines\"], \"locations\": [\"PHL\"], \"name\": \"Cebuano\", \"showlegend\": true, \"showscale\": false, \"type\": \"choropleth\", \"z\": [1]}, {\"colorscale\": [[0.0, \"rgb(140, 120, 93)\"], [1.0, \"rgb(140, 120, 93)\"]], \"geo\": \"geo\", \"hovertemplate\": \"<b>%{hovertext}</b><br><br>languages=Polish<br>alpha_3=%{location}<extra></extra>\", \"hovertext\": [\"Poland\"], \"locations\": [\"POL\"], \"name\": \"Polish\", \"showlegend\": true, \"showscale\": false, \"type\": \"choropleth\", \"z\": [1]}, {\"colorscale\": [[0.0, \"rgb(124, 124, 124)\"], [1.0, \"rgb(124, 124, 124)\"]], \"geo\": \"geo\", \"hovertemplate\": \"<b>%{hovertext}</b><br><br>languages=Romanian<br>alpha_3=%{location}<extra></extra>\", \"hovertext\": [\"Romania\"], \"locations\": [\"ROU\"], \"name\": \"Romanian\", \"showlegend\": true, \"showscale\": false, \"type\": \"choropleth\", \"z\": [1]}, {\"colorscale\": [[0.0, \"rgb(133, 92, 117)\"], [1.0, \"rgb(133, 92, 117)\"]], \"geo\": \"geo\", \"hovertemplate\": \"<b>%{hovertext}</b><br><br>languages=Kinyarwanda<br>alpha_3=%{location}<extra></extra>\", \"hovertext\": [\"Rwanda\"], \"locations\": [\"RWA\"], \"name\": \"Kinyarwanda\", \"showlegend\": true, \"showscale\": false, \"type\": \"choropleth\", \"z\": [1]}, {\"colorscale\": [[0.0, \"rgb(217, 175, 107)\"], [1.0, \"rgb(217, 175, 107)\"]], \"geo\": \"geo\", \"hovertemplate\": \"<b>%{hovertext}</b><br><br>languages=Sinhala<br>alpha_3=%{location}<extra></extra>\", \"hovertext\": [\"Saint Kitts and Nevis\", \"Saint Lucia\", \"Saint Vincent and the Grenadines\", \"Sri Lanka\"], \"locations\": [\"KNA\", \"LCA\", \"VCT\", \"LKA\"], \"name\": \"Sinhala\", \"showlegend\": true, \"showscale\": false, \"type\": \"choropleth\", \"z\": [1, 1, 1, 1]}, {\"colorscale\": [[0.0, \"rgb(175, 100, 88)\"], [1.0, \"rgb(175, 100, 88)\"]], \"geo\": \"geo\", \"hovertemplate\": \"<b>%{hovertext}</b><br><br>languages=Samoan<br>alpha_3=%{location}<extra></extra>\", \"hovertext\": [\"Samoa\"], \"locations\": [\"WSM\"], \"name\": \"Samoan\", \"showlegend\": true, \"showscale\": false, \"type\": \"choropleth\", \"z\": [1]}, {\"colorscale\": [[0.0, \"rgb(115, 111, 76)\"], [1.0, \"rgb(115, 111, 76)\"]], \"geo\": \"geo\", \"hovertemplate\": \"<b>%{hovertext}</b><br><br>languages=Seychellois<br>alpha_3=%{location}<extra></extra>\", \"hovertext\": [\"Seychelles\"], \"locations\": [\"SYC\"], \"name\": \"Seychellois\", \"showlegend\": true, \"showscale\": false, \"type\": \"choropleth\", \"z\": [1]}, {\"colorscale\": [[0.0, \"rgb(82, 106, 131)\"], [1.0, \"rgb(82, 106, 131)\"]], \"geo\": \"geo\", \"hovertemplate\": \"<b>%{hovertext}</b><br><br>languages=Slovak<br>alpha_3=%{location}<extra></extra>\", \"hovertext\": [\"Slovakia\"], \"locations\": [\"SVK\"], \"name\": \"Slovak\", \"showlegend\": true, \"showscale\": false, \"type\": \"choropleth\", \"z\": [1]}, {\"colorscale\": [[0.0, \"rgb(98, 83, 119)\"], [1.0, \"rgb(98, 83, 119)\"]], \"geo\": \"geo\", \"hovertemplate\": \"<b>%{hovertext}</b><br><br>languages=Slovene<br>alpha_3=%{location}<extra></extra>\", \"hovertext\": [\"Slovenia\"], \"locations\": [\"SVN\"], \"name\": \"Slovene\", \"showlegend\": true, \"showscale\": false, \"type\": \"choropleth\", \"z\": [1]}, {\"colorscale\": [[0.0, \"rgb(104, 133, 92)\"], [1.0, \"rgb(104, 133, 92)\"]], \"geo\": \"geo\", \"hovertemplate\": \"<b>%{hovertext}</b><br><br>languages=Melanesian<br>alpha_3=%{location}<extra></extra>\", \"hovertext\": [\"Solomon Islands\"], \"locations\": [\"SLB\"], \"name\": \"Melanesian\", \"showlegend\": true, \"showscale\": false, \"type\": \"choropleth\", \"z\": [1]}, {\"colorscale\": [[0.0, \"rgb(156, 156, 94)\"], [1.0, \"rgb(156, 156, 94)\"]], \"geo\": \"geo\", \"hovertemplate\": \"<b>%{hovertext}</b><br><br>languages=Somali<br>alpha_3=%{location}<extra></extra>\", \"hovertext\": [\"Somalia\"], \"locations\": [\"SOM\"], \"name\": \"Somali\", \"showlegend\": true, \"showscale\": false, \"type\": \"choropleth\", \"z\": [1]}, {\"colorscale\": [[0.0, \"rgb(160, 97, 119)\"], [1.0, \"rgb(160, 97, 119)\"]], \"geo\": \"geo\", \"hovertemplate\": \"<b>%{hovertext}</b><br><br>languages=isiZulu<br>alpha_3=%{location}<extra></extra>\", \"hovertext\": [\"South Africa\"], \"locations\": [\"ZAF\"], \"name\": \"isiZulu\", \"showlegend\": true, \"showscale\": false, \"type\": \"choropleth\", \"z\": [1]}, {\"colorscale\": [[0.0, \"rgb(140, 120, 93)\"], [1.0, \"rgb(140, 120, 93)\"]], \"geo\": \"geo\", \"hovertemplate\": \"<b>%{hovertext}</b><br><br>languages=Castilian<br>alpha_3=%{location}<extra></extra>\", \"hovertext\": [\"Spain\"], \"locations\": [\"ESP\"], \"name\": \"Castilian\", \"showlegend\": true, \"showscale\": false, \"type\": \"choropleth\", \"z\": [1]}, {\"colorscale\": [[0.0, \"rgb(124, 124, 124)\"], [1.0, \"rgb(124, 124, 124)\"]], \"geo\": \"geo\", \"hovertemplate\": \"<b>%{hovertext}</b><br><br>languages=Swedish<br>alpha_3=%{location}<extra></extra>\", \"hovertext\": [\"Sweden\"], \"locations\": [\"SWE\"], \"name\": \"Swedish\", \"showlegend\": true, \"showscale\": false, \"type\": \"choropleth\", \"z\": [1]}, {\"colorscale\": [[0.0, \"rgb(133, 92, 117)\"], [1.0, \"rgb(133, 92, 117)\"]], \"geo\": \"geo\", \"hovertemplate\": \"<b>%{hovertext}</b><br><br>languages=Mandarin<br>alpha_3=%{location}<extra></extra>\", \"hovertext\": [\"Taiwan, Province of China\"], \"locations\": [\"TWN\"], \"name\": \"Mandarin\", \"showlegend\": true, \"showscale\": false, \"type\": \"choropleth\", \"z\": [1]}, {\"colorscale\": [[0.0, \"rgb(217, 175, 107)\"], [1.0, \"rgb(217, 175, 107)\"]], \"geo\": \"geo\", \"hovertemplate\": \"<b>%{hovertext}</b><br><br>languages=Tajik<br>alpha_3=%{location}<extra></extra>\", \"hovertext\": [\"Tajikistan\"], \"locations\": [\"TJK\"], \"name\": \"Tajik\", \"showlegend\": true, \"showscale\": false, \"type\": \"choropleth\", \"z\": [1]}, {\"colorscale\": [[0.0, \"rgb(175, 100, 88)\"], [1.0, \"rgb(175, 100, 88)\"]], \"geo\": \"geo\", \"hovertemplate\": \"<b>%{hovertext}</b><br><br>languages=Kiswahili<br>alpha_3=%{location}<extra></extra>\", \"hovertext\": [\"Tanzania, United Republic of\"], \"locations\": [\"TZA\"], \"name\": \"Kiswahili\", \"showlegend\": true, \"showscale\": false, \"type\": \"choropleth\", \"z\": [1]}, {\"colorscale\": [[0.0, \"rgb(115, 111, 76)\"], [1.0, \"rgb(115, 111, 76)\"]], \"geo\": \"geo\", \"hovertemplate\": \"<b>%{hovertext}</b><br><br>languages=Thai<br>alpha_3=%{location}<extra></extra>\", \"hovertext\": [\"Thailand\"], \"locations\": [\"THA\"], \"name\": \"Thai\", \"showlegend\": true, \"showscale\": false, \"type\": \"choropleth\", \"z\": [1]}, {\"colorscale\": [[0.0, \"rgb(82, 106, 131)\"], [1.0, \"rgb(82, 106, 131)\"]], \"geo\": \"geo\", \"hovertemplate\": \"<b>%{hovertext}</b><br><br>languages=Tongan<br>alpha_3=%{location}<extra></extra>\", \"hovertext\": [\"Tonga\"], \"locations\": [\"TON\"], \"name\": \"Tongan\", \"showlegend\": true, \"showscale\": false, \"type\": \"choropleth\", \"z\": [1]}, {\"colorscale\": [[0.0, \"rgb(98, 83, 119)\"], [1.0, \"rgb(98, 83, 119)\"]], \"geo\": \"geo\", \"hovertemplate\": \"<b>%{hovertext}</b><br><br>languages=Turkish<br>alpha_3=%{location}<extra></extra>\", \"hovertext\": [\"Turkey\"], \"locations\": [\"TUR\"], \"name\": \"Turkish\", \"showlegend\": true, \"showscale\": false, \"type\": \"choropleth\", \"z\": [1]}, {\"colorscale\": [[0.0, \"rgb(104, 133, 92)\"], [1.0, \"rgb(104, 133, 92)\"]], \"geo\": \"geo\", \"hovertemplate\": \"<b>%{hovertext}</b><br><br>languages=Turkmen<br>alpha_3=%{location}<extra></extra>\", \"hovertext\": [\"Turkmenistan\"], \"locations\": [\"TKM\"], \"name\": \"Turkmen\", \"showlegend\": true, \"showscale\": false, \"type\": \"choropleth\", \"z\": [1]}, {\"colorscale\": [[0.0, \"rgb(156, 156, 94)\"], [1.0, \"rgb(156, 156, 94)\"]], \"geo\": \"geo\", \"hovertemplate\": \"<b>%{hovertext}</b><br><br>languages=Tuvaluan<br>alpha_3=%{location}<extra></extra>\", \"hovertext\": [\"Tuvalu\"], \"locations\": [\"TUV\"], \"name\": \"Tuvaluan\", \"showlegend\": true, \"showscale\": false, \"type\": \"choropleth\", \"z\": [1]}, {\"colorscale\": [[0.0, \"rgb(160, 97, 119)\"], [1.0, \"rgb(160, 97, 119)\"]], \"geo\": \"geo\", \"hovertemplate\": \"<b>%{hovertext}</b><br><br>languages=Ukrainian<br>alpha_3=%{location}<extra></extra>\", \"hovertext\": [\"Ukraine\"], \"locations\": [\"UKR\"], \"name\": \"Ukrainian\", \"showlegend\": true, \"showscale\": false, \"type\": \"choropleth\", \"z\": [1]}, {\"colorscale\": [[0.0, \"rgb(140, 120, 93)\"], [1.0, \"rgb(140, 120, 93)\"]], \"geo\": \"geo\", \"hovertemplate\": \"<b>%{hovertext}</b><br><br>languages=Uzbek<br>alpha_3=%{location}<extra></extra>\", \"hovertext\": [\"Uzbekistan\"], \"locations\": [\"UZB\"], \"name\": \"Uzbek\", \"showlegend\": true, \"showscale\": false, \"type\": \"choropleth\", \"z\": [1]}, {\"colorscale\": [[0.0, \"rgb(124, 124, 124)\"], [1.0, \"rgb(124, 124, 124)\"]], \"geo\": \"geo\", \"hovertemplate\": \"<b>%{hovertext}</b><br><br>languages=Bislama<br>alpha_3=%{location}<extra></extra>\", \"hovertext\": [\"Vanuatu\"], \"locations\": [\"VUT\"], \"name\": \"Bislama\", \"showlegend\": true, \"showscale\": false, \"type\": \"choropleth\", \"z\": [1]}, {\"colorscale\": [[0.0, \"rgb(133, 92, 117)\"], [1.0, \"rgb(133, 92, 117)\"]], \"geo\": \"geo\", \"hovertemplate\": \"<b>%{hovertext}</b><br><br>languages=Vietnamese<br>alpha_3=%{location}<extra></extra>\", \"hovertext\": [\"Viet Nam\"], \"locations\": [\"VNM\"], \"name\": \"Vietnamese\", \"showlegend\": true, \"showscale\": false, \"type\": \"choropleth\", \"z\": [1]}, {\"colorscale\": [[0.0, \"rgb(217, 175, 107)\"], [1.0, \"rgb(217, 175, 107)\"]], \"geo\": \"geo\", \"hovertemplate\": \"<b>%{hovertext}</b><br><br>languages=Hassaniya<br>alpha_3=%{location}<extra></extra>\", \"hovertext\": [\"Western Sahara\"], \"locations\": [\"ESH\"], \"name\": \"Hassaniya\", \"showlegend\": true, \"showscale\": false, \"type\": \"choropleth\", \"z\": [1]}, {\"colorscale\": [[0.0, \"rgb(175, 100, 88)\"], [1.0, \"rgb(175, 100, 88)\"]], \"geo\": \"geo\", \"hovertemplate\": \"<b>%{hovertext}</b><br><br>languages=Bemba<br>alpha_3=%{location}<extra></extra>\", \"hovertext\": [\"Zambia\"], \"locations\": [\"ZMB\"], \"name\": \"Bemba\", \"showlegend\": true, \"showscale\": false, \"type\": \"choropleth\", \"z\": [1]}, {\"colorscale\": [[0.0, \"rgb(115, 111, 76)\"], [1.0, \"rgb(115, 111, 76)\"]], \"geo\": \"geo\", \"hovertemplate\": \"<b>%{hovertext}</b><br><br>languages=Shona<br>alpha_3=%{location}<extra></extra>\", \"hovertext\": [\"Zimbabwe\"], \"locations\": [\"ZWE\"], \"name\": \"Shona\", \"showlegend\": true, \"showscale\": false, \"type\": \"choropleth\", \"z\": [1]}, {\"colorscale\": [[0.0, \"rgb(82, 106, 131)\"], [1.0, \"rgb(82, 106, 131)\"]], \"geo\": \"geo\", \"hovertemplate\": \"<b>%{hovertext}</b><br><br>languages=Korean<br>alpha_3=%{location}<extra></extra>\", \"hovertext\": [\"Korea, Democratic People's Republic of\", \"Korea, Republic of\"], \"locations\": [\"PRK\", \"KOR\"], \"name\": \"Korean\", \"showlegend\": true, \"showscale\": false, \"type\": \"choropleth\", \"z\": [1, 1]}, {\"colorscale\": [[0.0, \"rgb(98, 83, 119)\"], [1.0, \"rgb(98, 83, 119)\"]], \"geo\": \"geo\", \"hovertemplate\": \"<b>%{hovertext}</b><br><br>languages=Lao<br>alpha_3=%{location}<extra></extra>\", \"hovertext\": [\"Lao People's Democratic Republic\"], \"locations\": [\"LAO\"], \"name\": \"Lao\", \"showlegend\": true, \"showscale\": false, \"type\": \"choropleth\", \"z\": [1]}],                        {\"geo\": {\"bgcolor\": \"seashell\", \"center\": {}, \"domain\": {\"x\": [0.0, 1.0], \"y\": [0.0, 1.0]}}, \"legend\": {\"title\": {\"text\": \"Languages\"}, \"tracegroupgap\": 0}, \"margin\": {\"t\": 60}, \"template\": {\"data\": {\"bar\": [{\"error_x\": {\"color\": \"#2a3f5f\"}, \"error_y\": {\"color\": \"#2a3f5f\"}, \"marker\": {\"line\": {\"color\": \"#E5ECF6\", \"width\": 0.5}}, \"type\": \"bar\"}], \"barpolar\": [{\"marker\": {\"line\": {\"color\": \"#E5ECF6\", \"width\": 0.5}}, \"type\": \"barpolar\"}], \"carpet\": [{\"aaxis\": {\"endlinecolor\": \"#2a3f5f\", \"gridcolor\": \"white\", \"linecolor\": \"white\", \"minorgridcolor\": \"white\", \"startlinecolor\": \"#2a3f5f\"}, \"baxis\": {\"endlinecolor\": \"#2a3f5f\", \"gridcolor\": \"white\", \"linecolor\": \"white\", \"minorgridcolor\": \"white\", \"startlinecolor\": \"#2a3f5f\"}, \"type\": \"carpet\"}], \"choropleth\": [{\"colorbar\": {\"outlinewidth\": 0, \"ticks\": \"\"}, \"type\": \"choropleth\"}], \"contour\": [{\"colorbar\": {\"outlinewidth\": 0, \"ticks\": \"\"}, \"colorscale\": [[0.0, \"#0d0887\"], [0.1111111111111111, \"#46039f\"], [0.2222222222222222, \"#7201a8\"], [0.3333333333333333, \"#9c179e\"], [0.4444444444444444, \"#bd3786\"], [0.5555555555555556, \"#d8576b\"], [0.6666666666666666, \"#ed7953\"], [0.7777777777777778, \"#fb9f3a\"], [0.8888888888888888, \"#fdca26\"], [1.0, \"#f0f921\"]], \"type\": \"contour\"}], \"contourcarpet\": [{\"colorbar\": {\"outlinewidth\": 0, \"ticks\": \"\"}, \"type\": \"contourcarpet\"}], \"heatmap\": [{\"colorbar\": {\"outlinewidth\": 0, \"ticks\": \"\"}, \"colorscale\": [[0.0, \"#0d0887\"], [0.1111111111111111, \"#46039f\"], [0.2222222222222222, \"#7201a8\"], [0.3333333333333333, \"#9c179e\"], [0.4444444444444444, \"#bd3786\"], [0.5555555555555556, \"#d8576b\"], [0.6666666666666666, \"#ed7953\"], [0.7777777777777778, \"#fb9f3a\"], [0.8888888888888888, \"#fdca26\"], [1.0, \"#f0f921\"]], \"type\": \"heatmap\"}], \"heatmapgl\": [{\"colorbar\": {\"outlinewidth\": 0, \"ticks\": \"\"}, \"colorscale\": [[0.0, \"#0d0887\"], [0.1111111111111111, \"#46039f\"], [0.2222222222222222, \"#7201a8\"], [0.3333333333333333, \"#9c179e\"], [0.4444444444444444, \"#bd3786\"], [0.5555555555555556, \"#d8576b\"], [0.6666666666666666, \"#ed7953\"], [0.7777777777777778, \"#fb9f3a\"], [0.8888888888888888, \"#fdca26\"], [1.0, \"#f0f921\"]], \"type\": \"heatmapgl\"}], \"histogram\": [{\"marker\": {\"colorbar\": {\"outlinewidth\": 0, \"ticks\": \"\"}}, \"type\": \"histogram\"}], \"histogram2d\": [{\"colorbar\": {\"outlinewidth\": 0, \"ticks\": \"\"}, \"colorscale\": [[0.0, \"#0d0887\"], [0.1111111111111111, \"#46039f\"], [0.2222222222222222, \"#7201a8\"], [0.3333333333333333, \"#9c179e\"], [0.4444444444444444, \"#bd3786\"], [0.5555555555555556, \"#d8576b\"], [0.6666666666666666, \"#ed7953\"], [0.7777777777777778, \"#fb9f3a\"], [0.8888888888888888, \"#fdca26\"], [1.0, \"#f0f921\"]], \"type\": \"histogram2d\"}], \"histogram2dcontour\": [{\"colorbar\": {\"outlinewidth\": 0, \"ticks\": \"\"}, \"colorscale\": [[0.0, \"#0d0887\"], [0.1111111111111111, \"#46039f\"], [0.2222222222222222, \"#7201a8\"], [0.3333333333333333, \"#9c179e\"], [0.4444444444444444, \"#bd3786\"], [0.5555555555555556, \"#d8576b\"], [0.6666666666666666, \"#ed7953\"], [0.7777777777777778, \"#fb9f3a\"], [0.8888888888888888, \"#fdca26\"], [1.0, \"#f0f921\"]], \"type\": \"histogram2dcontour\"}], \"mesh3d\": [{\"colorbar\": {\"outlinewidth\": 0, \"ticks\": \"\"}, \"type\": \"mesh3d\"}], \"parcoords\": [{\"line\": {\"colorbar\": {\"outlinewidth\": 0, \"ticks\": \"\"}}, \"type\": \"parcoords\"}], \"pie\": [{\"automargin\": true, \"type\": \"pie\"}], \"scatter\": [{\"marker\": {\"colorbar\": {\"outlinewidth\": 0, \"ticks\": \"\"}}, \"type\": \"scatter\"}], \"scatter3d\": [{\"line\": {\"colorbar\": {\"outlinewidth\": 0, \"ticks\": \"\"}}, \"marker\": {\"colorbar\": {\"outlinewidth\": 0, \"ticks\": \"\"}}, \"type\": \"scatter3d\"}], \"scattercarpet\": [{\"marker\": {\"colorbar\": {\"outlinewidth\": 0, \"ticks\": \"\"}}, \"type\": \"scattercarpet\"}], \"scattergeo\": [{\"marker\": {\"colorbar\": {\"outlinewidth\": 0, \"ticks\": \"\"}}, \"type\": \"scattergeo\"}], \"scattergl\": [{\"marker\": {\"colorbar\": {\"outlinewidth\": 0, \"ticks\": \"\"}}, \"type\": \"scattergl\"}], \"scattermapbox\": [{\"marker\": {\"colorbar\": {\"outlinewidth\": 0, \"ticks\": \"\"}}, \"type\": \"scattermapbox\"}], \"scatterpolar\": [{\"marker\": {\"colorbar\": {\"outlinewidth\": 0, \"ticks\": \"\"}}, \"type\": \"scatterpolar\"}], \"scatterpolargl\": [{\"marker\": {\"colorbar\": {\"outlinewidth\": 0, \"ticks\": \"\"}}, \"type\": \"scatterpolargl\"}], \"scatterternary\": [{\"marker\": {\"colorbar\": {\"outlinewidth\": 0, \"ticks\": \"\"}}, \"type\": \"scatterternary\"}], \"surface\": [{\"colorbar\": {\"outlinewidth\": 0, \"ticks\": \"\"}, \"colorscale\": [[0.0, \"#0d0887\"], [0.1111111111111111, \"#46039f\"], [0.2222222222222222, \"#7201a8\"], [0.3333333333333333, \"#9c179e\"], [0.4444444444444444, \"#bd3786\"], [0.5555555555555556, \"#d8576b\"], [0.6666666666666666, \"#ed7953\"], [0.7777777777777778, \"#fb9f3a\"], [0.8888888888888888, \"#fdca26\"], [1.0, \"#f0f921\"]], \"type\": \"surface\"}], \"table\": [{\"cells\": {\"fill\": {\"color\": \"#EBF0F8\"}, \"line\": {\"color\": \"white\"}}, \"header\": {\"fill\": {\"color\": \"#C8D4E3\"}, \"line\": {\"color\": \"white\"}}, \"type\": \"table\"}]}, \"layout\": {\"annotationdefaults\": {\"arrowcolor\": \"#2a3f5f\", \"arrowhead\": 0, \"arrowwidth\": 1}, \"autotypenumbers\": \"strict\", \"coloraxis\": {\"colorbar\": {\"outlinewidth\": 0, \"ticks\": \"\"}}, \"colorscale\": {\"diverging\": [[0, \"#8e0152\"], [0.1, \"#c51b7d\"], [0.2, \"#de77ae\"], [0.3, \"#f1b6da\"], [0.4, \"#fde0ef\"], [0.5, \"#f7f7f7\"], [0.6, \"#e6f5d0\"], [0.7, \"#b8e186\"], [0.8, \"#7fbc41\"], [0.9, \"#4d9221\"], [1, \"#276419\"]], \"sequential\": [[0.0, \"#0d0887\"], [0.1111111111111111, \"#46039f\"], [0.2222222222222222, \"#7201a8\"], [0.3333333333333333, \"#9c179e\"], [0.4444444444444444, \"#bd3786\"], [0.5555555555555556, \"#d8576b\"], [0.6666666666666666, \"#ed7953\"], [0.7777777777777778, \"#fb9f3a\"], [0.8888888888888888, \"#fdca26\"], [1.0, \"#f0f921\"]], \"sequentialminus\": [[0.0, \"#0d0887\"], [0.1111111111111111, \"#46039f\"], [0.2222222222222222, \"#7201a8\"], [0.3333333333333333, \"#9c179e\"], [0.4444444444444444, \"#bd3786\"], [0.5555555555555556, \"#d8576b\"], [0.6666666666666666, \"#ed7953\"], [0.7777777777777778, \"#fb9f3a\"], [0.8888888888888888, \"#fdca26\"], [1.0, \"#f0f921\"]]}, \"colorway\": [\"#636efa\", \"#EF553B\", \"#00cc96\", \"#ab63fa\", \"#FFA15A\", \"#19d3f3\", \"#FF6692\", \"#B6E880\", \"#FF97FF\", \"#FECB52\"], \"font\": {\"color\": \"#2a3f5f\"}, \"geo\": {\"bgcolor\": \"white\", \"lakecolor\": \"white\", \"landcolor\": \"#E5ECF6\", \"showlakes\": true, \"showland\": true, \"subunitcolor\": \"white\"}, \"hoverlabel\": {\"align\": \"left\"}, \"hovermode\": \"closest\", \"mapbox\": {\"style\": \"light\"}, \"paper_bgcolor\": \"white\", \"plot_bgcolor\": \"#E5ECF6\", \"polar\": {\"angularaxis\": {\"gridcolor\": \"white\", \"linecolor\": \"white\", \"ticks\": \"\"}, \"bgcolor\": \"#E5ECF6\", \"radialaxis\": {\"gridcolor\": \"white\", \"linecolor\": \"white\", \"ticks\": \"\"}}, \"scene\": {\"xaxis\": {\"backgroundcolor\": \"#E5ECF6\", \"gridcolor\": \"white\", \"gridwidth\": 2, \"linecolor\": \"white\", \"showbackground\": true, \"ticks\": \"\", \"zerolinecolor\": \"white\"}, \"yaxis\": {\"backgroundcolor\": \"#E5ECF6\", \"gridcolor\": \"white\", \"gridwidth\": 2, \"linecolor\": \"white\", \"showbackground\": true, \"ticks\": \"\", \"zerolinecolor\": \"white\"}, \"zaxis\": {\"backgroundcolor\": \"#E5ECF6\", \"gridcolor\": \"white\", \"gridwidth\": 2, \"linecolor\": \"white\", \"showbackground\": true, \"ticks\": \"\", \"zerolinecolor\": \"white\"}}, \"shapedefaults\": {\"line\": {\"color\": \"#2a3f5f\"}}, \"ternary\": {\"aaxis\": {\"gridcolor\": \"white\", \"linecolor\": \"white\", \"ticks\": \"\"}, \"baxis\": {\"gridcolor\": \"white\", \"linecolor\": \"white\", \"ticks\": \"\"}, \"bgcolor\": \"#E5ECF6\", \"caxis\": {\"gridcolor\": \"white\", \"linecolor\": \"white\", \"ticks\": \"\"}}, \"title\": {\"x\": 0.05}, \"xaxis\": {\"automargin\": true, \"gridcolor\": \"white\", \"linecolor\": \"white\", \"ticks\": \"\", \"title\": {\"standoff\": 15}, \"zerolinecolor\": \"white\", \"zerolinewidth\": 2}, \"yaxis\": {\"automargin\": true, \"gridcolor\": \"white\", \"linecolor\": \"white\", \"ticks\": \"\", \"title\": {\"standoff\": 15}, \"zerolinecolor\": \"white\", \"zerolinewidth\": 2}}}, \"title\": {\"text\": \"Main languages spoken per country\"}},                        {\"responsive\": true}                    ).then(function(){\n",
       "                            \n",
       "var gd = document.getElementById('ba899f2d-f2c4-434f-9967-be9866250f08');\n",
       "var x = new MutationObserver(function (mutations, observer) {{\n",
       "        var display = window.getComputedStyle(gd).display;\n",
       "        if (!display || display === 'none') {{\n",
       "            console.log([gd, 'removed!']);\n",
       "            Plotly.purge(gd);\n",
       "            observer.disconnect();\n",
       "        }}\n",
       "}});\n",
       "\n",
       "// Listen for the removal of the full notebook cells\n",
       "var notebookContainer = gd.closest('#notebook-container');\n",
       "if (notebookContainer) {{\n",
       "    x.observe(notebookContainer, {childList: true});\n",
       "}}\n",
       "\n",
       "// Listen for the clearing of the current output cell\n",
       "var outputEl = gd.closest('.output');\n",
       "if (outputEl) {{\n",
       "    x.observe(outputEl, {childList: true});\n",
       "}}\n",
       "\n",
       "                        })                };                });            </script>        </div>"
      ]
     },
     "metadata": {},
     "output_type": "display_data"
    },
    {
     "name": "stdout",
     "output_type": "stream",
     "text": [
      "/home/mogan/Desktop/z_ada/ada-2020-project-milestone-p3-p3_/plots\n"
     ]
    },
    {
     "ename": "NameError",
     "evalue": "name 'plot' is not defined",
     "output_type": "error",
     "traceback": [
      "\u001b[0;31m---------------------------------------------------------------------------\u001b[0m",
      "\u001b[0;31mNameError\u001b[0m                                 Traceback (most recent call last)",
      "\u001b[0;32m<ipython-input-35-f5c3d9ffd22e>\u001b[0m in \u001b[0;36m<module>\u001b[0;34m\u001b[0m\n\u001b[1;32m     17\u001b[0m \u001b[0mget_ipython\u001b[0m\u001b[0;34m(\u001b[0m\u001b[0;34m)\u001b[0m\u001b[0;34m.\u001b[0m\u001b[0mrun_line_magic\u001b[0m\u001b[0;34m(\u001b[0m\u001b[0;34m'cd'\u001b[0m\u001b[0;34m,\u001b[0m \u001b[0;34m'\"/home/mogan/Desktop/z_ada/ada-2020-project-milestone-p3-p3_/plots\"'\u001b[0m\u001b[0;34m)\u001b[0m\u001b[0;34m\u001b[0m\u001b[0;34m\u001b[0m\u001b[0m\n\u001b[1;32m     18\u001b[0m \u001b[0;34m\u001b[0m\u001b[0m\n\u001b[0;32m---> 19\u001b[0;31m \u001b[0mhtml\u001b[0m \u001b[0;34m=\u001b[0m \u001b[0mplot\u001b[0m\u001b[0;34m(\u001b[0m\u001b[0mfig\u001b[0m\u001b[0;34m,\u001b[0m \u001b[0mauto_open\u001b[0m\u001b[0;34m=\u001b[0m\u001b[0;32mFalse\u001b[0m\u001b[0;34m,\u001b[0m \u001b[0moutput_type\u001b[0m\u001b[0;34m=\u001b[0m\u001b[0;34m'div'\u001b[0m\u001b[0;34m)\u001b[0m\u001b[0;34m\u001b[0m\u001b[0;34m\u001b[0m\u001b[0m\n\u001b[0m\u001b[1;32m     20\u001b[0m \u001b[0;32mwith\u001b[0m \u001b[0mopen\u001b[0m\u001b[0;34m(\u001b[0m\u001b[0;34m\"world_languages.html\"\u001b[0m\u001b[0;34m,\u001b[0m \u001b[0;34m'w'\u001b[0m\u001b[0;34m)\u001b[0m \u001b[0;32mas\u001b[0m \u001b[0mfile\u001b[0m\u001b[0;34m:\u001b[0m\u001b[0;34m\u001b[0m\u001b[0;34m\u001b[0m\u001b[0m\n\u001b[1;32m     21\u001b[0m     \u001b[0mfile\u001b[0m\u001b[0;34m.\u001b[0m\u001b[0mwrite\u001b[0m\u001b[0;34m(\u001b[0m\u001b[0mhtml\u001b[0m\u001b[0;34m)\u001b[0m\u001b[0;34m\u001b[0m\u001b[0;34m\u001b[0m\u001b[0m\n",
      "\u001b[0;31mNameError\u001b[0m: name 'plot' is not defined"
     ]
    }
   ],
   "source": [
    "import plotly.express as px\n",
    "\n",
    "df = px.data.gapminder().query(\"year==2007\")\n",
    "fig = px.choropleth(countries, locations=\"alpha_3\",\n",
    "                    color=\"languages\", # lifeExp is a column of gapminder\n",
    "                    hover_name=\"name\",\n",
    "                    color_discrete_sequence=px.colors.qualitative.Antique,)\n",
    "\n",
    "#fig.update_layout(plot_bgcolor='seashell')\n",
    "fig.update_layout(geo=dict(bgcolor= 'seashell'))\n",
    "fig.update_layout(\n",
    "    title=\"Main languages spoken per country\",\n",
    "    legend_title=\"Languages\"\n",
    "    )\n",
    "fig.show()\n",
    "\n",
    "%cd \"/home/mogan/Desktop/z_ada/ada-2020-project-milestone-p3-p3_/plots\"\n",
    "\n",
    "html = plot(fig, auto_open=False, output_type='div')\n",
    "with open(\"world_languages.html\", 'w') as file:\n",
    "    file.write(html)"
   ]
  },
  {
   "cell_type": "code",
   "execution_count": 36,
   "metadata": {},
   "outputs": [
    {
     "data": {
      "application/vnd.plotly.v1+json": {
       "config": {
        "plotlyServerURL": "https://plot.ly"
       },
       "data": [
        {
         "colorscale": [
          [
           0,
           "rgb(133, 92, 117)"
          ],
          [
           1,
           "rgb(133, 92, 117)"
          ]
         ],
         "geo": "geo",
         "hovertemplate": "<b>%{hovertext}</b><br><br>main_religion=Islam<br>alpha_3=%{location}<extra></extra>",
         "hovertext": [
          "Afghanistan",
          "Albania",
          "Algeria",
          "Azerbaijan",
          "Bahrain",
          "Bangladesh",
          "Bosnia and Herzegovina",
          "Brunei Darussalam",
          "Burkina Faso",
          "Chad",
          "Djibouti",
          "Egypt",
          "Eritrea",
          "Ethiopia",
          "Gambia",
          "Guinea",
          "Guinea-Bissau",
          "Indonesia",
          "Iran, Islamic Republic of",
          "Iraq",
          "Jordan",
          "Kazakhstan",
          "Kuwait",
          "Kyrgyzstan",
          "Lebanon",
          "Libya",
          "Maldives",
          "Mali",
          "Mauritania",
          "Morocco",
          "Mozambique",
          "Nigeria",
          "Nigeria",
          "Oman",
          "Pakistan",
          "Qatar",
          "Saudi Arabia",
          "Senegal",
          "Sierra Leone",
          "Somalia",
          "Sudan",
          "Syrian Arab Republic",
          "Tajikistan",
          "Tunisia",
          "Turkey",
          "Turkmenistan",
          "United Arab Emirates",
          "Uzbekistan",
          "Western Sahara",
          "Yemen",
          "Côte d'Ivoire",
          "Palestine, State of"
         ],
         "locations": [
          "AFG",
          "ALB",
          "DZA",
          "AZE",
          "BHR",
          "BGD",
          "BIH",
          "BRN",
          "BFA",
          "TCD",
          "DJI",
          "EGY",
          "ERI",
          "ETH",
          "GMB",
          "GIN",
          "GNB",
          "IDN",
          "IRN",
          "IRQ",
          "JOR",
          "KAZ",
          "KWT",
          "KGZ",
          "LBN",
          "LBY",
          "MDV",
          "MLI",
          "MRT",
          "MAR",
          "MOZ",
          "NGA",
          "NGA",
          "OMN",
          "PAK",
          "QAT",
          "SAU",
          "SEN",
          "SLE",
          "SOM",
          "SDN",
          "SYR",
          "TJK",
          "TUN",
          "TUR",
          "TKM",
          "ARE",
          "UZB",
          "ESH",
          "YEM",
          "CIV",
          "PSE"
         ],
         "name": "Islam",
         "showlegend": true,
         "showscale": false,
         "type": "choropleth",
         "z": [
          1,
          1,
          1,
          1,
          1,
          1,
          1,
          1,
          1,
          1,
          1,
          1,
          1,
          1,
          1,
          1,
          1,
          1,
          1,
          1,
          1,
          1,
          1,
          1,
          1,
          1,
          1,
          1,
          1,
          1,
          1,
          1,
          1,
          1,
          1,
          1,
          1,
          1,
          1,
          1,
          1,
          1,
          1,
          1,
          1,
          1,
          1,
          1,
          1,
          1,
          1,
          1
         ]
        },
        {
         "colorscale": [
          [
           0,
           "rgb(217, 175, 107)"
          ],
          [
           1,
           "rgb(217, 175, 107)"
          ]
         ],
         "geo": "geo",
         "hovertemplate": "<b>%{hovertext}</b><br><br>main_religion=Roman Catholic<br>alpha_3=%{location}<extra></extra>",
         "hovertext": [
          "Andorra",
          "Antigua and Barbuda",
          "Cuba",
          "Equatorial Guinea",
          "Guatemala",
          "Latvia",
          "Montenegro",
          "Nauru",
          "Saint Kitts and Nevis",
          "San Marino",
          "Serbia",
          "Holy See (Vatican City State)",
          "Cabo Verde"
         ],
         "locations": [
          "AND",
          "ATG",
          "CUB",
          "GNQ",
          "GTM",
          "LVA",
          "MNE",
          "NRU",
          "KNA",
          "SMR",
          "SRB",
          "VAT",
          "CPV"
         ],
         "name": "Roman Catholic",
         "showlegend": true,
         "showscale": false,
         "type": "choropleth",
         "z": [
          1,
          1,
          1,
          1,
          1,
          1,
          1,
          1,
          1,
          1,
          1,
          1,
          1
         ]
        },
        {
         "colorscale": [
          [
           0,
           "rgb(175, 100, 88)"
          ],
          [
           1,
           "rgb(175, 100, 88)"
          ]
         ],
         "geo": "geo",
         "hovertemplate": "<b>%{hovertext}</b><br><br>main_religion=Christianity<br>alpha_3=%{location}<extra></extra>",
         "hovertext": [
          "Angola",
          "Argentina",
          "Armenia",
          "Australia",
          "Austria",
          "Bahamas",
          "Barbados",
          "Belarus",
          "Belgium",
          "Belize",
          "Benin",
          "Bolivia, Plurinational State of",
          "Botswana",
          "Brazil",
          "Bulgaria",
          "Burundi",
          "Cameroon",
          "Canada",
          "Central African Republic",
          "Chile",
          "Colombia",
          "Comoros",
          "Costa Rica",
          "Croatia",
          "Cyprus",
          "Czechia",
          "Denmark",
          "Dominica",
          "Dominican Republic",
          "Ecuador",
          "El Salvador",
          "Estonia",
          "Eswatini",
          "Fiji",
          "Finland",
          "France",
          "Gabon",
          "Georgia",
          "Germany",
          "Ghana",
          "Greece",
          "Grenada",
          "Guyana",
          "Haiti",
          "Honduras",
          "Hungary",
          "Iceland",
          "Ireland",
          "Israel",
          "Italy",
          "Jamaica",
          "Kenya",
          "Kiribati",
          "Lesotho",
          "Liberia",
          "Liechtenstein",
          "Lithuania",
          "Luxembourg",
          "Madagascar",
          "Malawi",
          "Malta",
          "Marshall Islands",
          "Mexico",
          "Micronesia, Federated States of",
          "Moldova, Republic of",
          "Monaco",
          "Namibia",
          "Netherlands",
          "New Zealand",
          "Nicaragua",
          "North Macedonia",
          "Norway",
          "Palau",
          "Panama",
          "Papua New Guinea",
          "Paraguay",
          "Peru",
          "Philippines",
          "Poland",
          "Portugal",
          "Romania",
          "Russian Federation",
          "Rwanda",
          "Saint Lucia",
          "Saint Vincent and the Grenadines",
          "Samoa",
          "Seychelles",
          "Slovakia",
          "Slovenia",
          "Solomon Islands",
          "South Africa",
          "South Sudan",
          "Spain",
          "Sweden",
          "Switzerland",
          "Tanzania, United Republic of",
          "Togo",
          "Tonga",
          "Trinidad and Tobago",
          "Tuvalu",
          "Uganda",
          "Ukraine",
          "United Kingdom",
          "United States",
          "Uruguay",
          "Vanuatu",
          "Venezuela, Bolivarian Republic of",
          "Zambia",
          "Zimbabwe",
          "Congo, The Democratic Republic of the",
          "Congo",
          "Timor-Leste",
          "Korea, Republic of",
          "Sao Tome and Principe"
         ],
         "locations": [
          "AGO",
          "ARG",
          "ARM",
          "AUS",
          "AUT",
          "BHS",
          "BRB",
          "BLR",
          "BEL",
          "BLZ",
          "BEN",
          "BOL",
          "BWA",
          "BRA",
          "BGR",
          "BDI",
          "CMR",
          "CAN",
          "CAF",
          "CHL",
          "COL",
          "COM",
          "CRI",
          "HRV",
          "CYP",
          "CZE",
          "DNK",
          "DMA",
          "DOM",
          "ECU",
          "SLV",
          "EST",
          "SWZ",
          "FJI",
          "FIN",
          "FRA",
          "GAB",
          "GEO",
          "DEU",
          "GHA",
          "GRC",
          "GRD",
          "GUY",
          "HTI",
          "HND",
          "HUN",
          "ISL",
          "IRL",
          "ISR",
          "ITA",
          "JAM",
          "KEN",
          "KIR",
          "LSO",
          "LBR",
          "LIE",
          "LTU",
          "LUX",
          "MDG",
          "MWI",
          "MLT",
          "MHL",
          "MEX",
          "FSM",
          "MDA",
          "MCO",
          "NAM",
          "NLD",
          "NZL",
          "NIC",
          "MKD",
          "NOR",
          "PLW",
          "PAN",
          "PNG",
          "PRY",
          "PER",
          "PHL",
          "POL",
          "PRT",
          "ROU",
          "RUS",
          "RWA",
          "LCA",
          "VCT",
          "WSM",
          "SYC",
          "SVK",
          "SVN",
          "SLB",
          "ZAF",
          "SSD",
          "ESP",
          "SWE",
          "CHE",
          "TZA",
          "TGO",
          "TON",
          "TTO",
          "TUV",
          "UGA",
          "UKR",
          "GBR",
          "USA",
          "URY",
          "VUT",
          "VEN",
          "ZMB",
          "ZWE",
          "COD",
          "COG",
          "TLS",
          "KOR",
          "STP"
         ],
         "name": "Christianity",
         "showlegend": true,
         "showscale": false,
         "type": "choropleth",
         "z": [
          1,
          1,
          1,
          1,
          1,
          1,
          1,
          1,
          1,
          1,
          1,
          1,
          1,
          1,
          1,
          1,
          1,
          1,
          1,
          1,
          1,
          1,
          1,
          1,
          1,
          1,
          1,
          1,
          1,
          1,
          1,
          1,
          1,
          1,
          1,
          1,
          1,
          1,
          1,
          1,
          1,
          1,
          1,
          1,
          1,
          1,
          1,
          1,
          1,
          1,
          1,
          1,
          1,
          1,
          1,
          1,
          1,
          1,
          1,
          1,
          1,
          1,
          1,
          1,
          1,
          1,
          1,
          1,
          1,
          1,
          1,
          1,
          1,
          1,
          1,
          1,
          1,
          1,
          1,
          1,
          1,
          1,
          1,
          1,
          1,
          1,
          1,
          1,
          1,
          1,
          1,
          1,
          1,
          1,
          1,
          1,
          1,
          1,
          1,
          1,
          1,
          1,
          1,
          1,
          1,
          1,
          1,
          1,
          1,
          1,
          1,
          1,
          1,
          1
         ]
        },
        {
         "colorscale": [
          [
           0,
           "rgb(115, 111, 76)"
          ],
          [
           1,
           "rgb(115, 111, 76)"
          ]
         ],
         "geo": "geo",
         "hovertemplate": "<b>%{hovertext}</b><br><br>main_religion=Buddhism<br>alpha_3=%{location}<extra></extra>",
         "hovertext": [
          "Bhutan",
          "Cambodia",
          "China",
          "Japan",
          "Mongolia",
          "Myanmar",
          "Singapore",
          "Sri Lanka",
          "Taiwan, Province of China",
          "Thailand",
          "Viet Nam",
          "Korea, Democratic People's Republic of",
          "Lao People's Democratic Republic"
         ],
         "locations": [
          "BTN",
          "KHM",
          "CHN",
          "JPN",
          "MNG",
          "MMR",
          "SGP",
          "LKA",
          "TWN",
          "THA",
          "VNM",
          "PRK",
          "LAO"
         ],
         "name": "Buddhism",
         "showlegend": true,
         "showscale": false,
         "type": "choropleth",
         "z": [
          1,
          1,
          1,
          1,
          1,
          1,
          1,
          1,
          1,
          1,
          1,
          1,
          1
         ]
        },
        {
         "colorscale": [
          [
           0,
           "rgb(82, 106, 131)"
          ],
          [
           1,
           "rgb(82, 106, 131)"
          ]
         ],
         "geo": "geo",
         "hovertemplate": "<b>%{hovertext}</b><br><br>main_religion=Hinduism<br>alpha_3=%{location}<extra></extra>",
         "hovertext": [
          "India",
          "Mauritius",
          "Nepal",
          "Suriname"
         ],
         "locations": [
          "IND",
          "MUS",
          "NPL",
          "SUR"
         ],
         "name": "Hinduism",
         "showlegend": true,
         "showscale": false,
         "type": "choropleth",
         "z": [
          1,
          1,
          1,
          1
         ]
        },
        {
         "colorscale": [
          [
           0,
           "rgb(98, 83, 119)"
          ],
          [
           1,
           "rgb(98, 83, 119)"
          ]
         ],
         "geo": "geo",
         "hovertemplate": "<b>%{hovertext}</b><br><br>main_religion=Buddhist<br>alpha_3=%{location}<extra></extra>",
         "hovertext": [
          "Malaysia"
         ],
         "locations": [
          "MYS"
         ],
         "name": "Buddhist",
         "showlegend": true,
         "showscale": false,
         "type": "choropleth",
         "z": [
          1
         ]
        }
       ],
       "layout": {
        "geo": {
         "bgcolor": "seashell",
         "center": {},
         "domain": {
          "x": [
           0,
           1
          ],
          "y": [
           0,
           1
          ]
         }
        },
        "legend": {
         "title": {
          "text": "Religion"
         },
         "tracegroupgap": 0
        },
        "margin": {
         "t": 60
        },
        "template": {
         "data": {
          "bar": [
           {
            "error_x": {
             "color": "#2a3f5f"
            },
            "error_y": {
             "color": "#2a3f5f"
            },
            "marker": {
             "line": {
              "color": "#E5ECF6",
              "width": 0.5
             }
            },
            "type": "bar"
           }
          ],
          "barpolar": [
           {
            "marker": {
             "line": {
              "color": "#E5ECF6",
              "width": 0.5
             }
            },
            "type": "barpolar"
           }
          ],
          "carpet": [
           {
            "aaxis": {
             "endlinecolor": "#2a3f5f",
             "gridcolor": "white",
             "linecolor": "white",
             "minorgridcolor": "white",
             "startlinecolor": "#2a3f5f"
            },
            "baxis": {
             "endlinecolor": "#2a3f5f",
             "gridcolor": "white",
             "linecolor": "white",
             "minorgridcolor": "white",
             "startlinecolor": "#2a3f5f"
            },
            "type": "carpet"
           }
          ],
          "choropleth": [
           {
            "colorbar": {
             "outlinewidth": 0,
             "ticks": ""
            },
            "type": "choropleth"
           }
          ],
          "contour": [
           {
            "colorbar": {
             "outlinewidth": 0,
             "ticks": ""
            },
            "colorscale": [
             [
              0,
              "#0d0887"
             ],
             [
              0.1111111111111111,
              "#46039f"
             ],
             [
              0.2222222222222222,
              "#7201a8"
             ],
             [
              0.3333333333333333,
              "#9c179e"
             ],
             [
              0.4444444444444444,
              "#bd3786"
             ],
             [
              0.5555555555555556,
              "#d8576b"
             ],
             [
              0.6666666666666666,
              "#ed7953"
             ],
             [
              0.7777777777777778,
              "#fb9f3a"
             ],
             [
              0.8888888888888888,
              "#fdca26"
             ],
             [
              1,
              "#f0f921"
             ]
            ],
            "type": "contour"
           }
          ],
          "contourcarpet": [
           {
            "colorbar": {
             "outlinewidth": 0,
             "ticks": ""
            },
            "type": "contourcarpet"
           }
          ],
          "heatmap": [
           {
            "colorbar": {
             "outlinewidth": 0,
             "ticks": ""
            },
            "colorscale": [
             [
              0,
              "#0d0887"
             ],
             [
              0.1111111111111111,
              "#46039f"
             ],
             [
              0.2222222222222222,
              "#7201a8"
             ],
             [
              0.3333333333333333,
              "#9c179e"
             ],
             [
              0.4444444444444444,
              "#bd3786"
             ],
             [
              0.5555555555555556,
              "#d8576b"
             ],
             [
              0.6666666666666666,
              "#ed7953"
             ],
             [
              0.7777777777777778,
              "#fb9f3a"
             ],
             [
              0.8888888888888888,
              "#fdca26"
             ],
             [
              1,
              "#f0f921"
             ]
            ],
            "type": "heatmap"
           }
          ],
          "heatmapgl": [
           {
            "colorbar": {
             "outlinewidth": 0,
             "ticks": ""
            },
            "colorscale": [
             [
              0,
              "#0d0887"
             ],
             [
              0.1111111111111111,
              "#46039f"
             ],
             [
              0.2222222222222222,
              "#7201a8"
             ],
             [
              0.3333333333333333,
              "#9c179e"
             ],
             [
              0.4444444444444444,
              "#bd3786"
             ],
             [
              0.5555555555555556,
              "#d8576b"
             ],
             [
              0.6666666666666666,
              "#ed7953"
             ],
             [
              0.7777777777777778,
              "#fb9f3a"
             ],
             [
              0.8888888888888888,
              "#fdca26"
             ],
             [
              1,
              "#f0f921"
             ]
            ],
            "type": "heatmapgl"
           }
          ],
          "histogram": [
           {
            "marker": {
             "colorbar": {
              "outlinewidth": 0,
              "ticks": ""
             }
            },
            "type": "histogram"
           }
          ],
          "histogram2d": [
           {
            "colorbar": {
             "outlinewidth": 0,
             "ticks": ""
            },
            "colorscale": [
             [
              0,
              "#0d0887"
             ],
             [
              0.1111111111111111,
              "#46039f"
             ],
             [
              0.2222222222222222,
              "#7201a8"
             ],
             [
              0.3333333333333333,
              "#9c179e"
             ],
             [
              0.4444444444444444,
              "#bd3786"
             ],
             [
              0.5555555555555556,
              "#d8576b"
             ],
             [
              0.6666666666666666,
              "#ed7953"
             ],
             [
              0.7777777777777778,
              "#fb9f3a"
             ],
             [
              0.8888888888888888,
              "#fdca26"
             ],
             [
              1,
              "#f0f921"
             ]
            ],
            "type": "histogram2d"
           }
          ],
          "histogram2dcontour": [
           {
            "colorbar": {
             "outlinewidth": 0,
             "ticks": ""
            },
            "colorscale": [
             [
              0,
              "#0d0887"
             ],
             [
              0.1111111111111111,
              "#46039f"
             ],
             [
              0.2222222222222222,
              "#7201a8"
             ],
             [
              0.3333333333333333,
              "#9c179e"
             ],
             [
              0.4444444444444444,
              "#bd3786"
             ],
             [
              0.5555555555555556,
              "#d8576b"
             ],
             [
              0.6666666666666666,
              "#ed7953"
             ],
             [
              0.7777777777777778,
              "#fb9f3a"
             ],
             [
              0.8888888888888888,
              "#fdca26"
             ],
             [
              1,
              "#f0f921"
             ]
            ],
            "type": "histogram2dcontour"
           }
          ],
          "mesh3d": [
           {
            "colorbar": {
             "outlinewidth": 0,
             "ticks": ""
            },
            "type": "mesh3d"
           }
          ],
          "parcoords": [
           {
            "line": {
             "colorbar": {
              "outlinewidth": 0,
              "ticks": ""
             }
            },
            "type": "parcoords"
           }
          ],
          "pie": [
           {
            "automargin": true,
            "type": "pie"
           }
          ],
          "scatter": [
           {
            "marker": {
             "colorbar": {
              "outlinewidth": 0,
              "ticks": ""
             }
            },
            "type": "scatter"
           }
          ],
          "scatter3d": [
           {
            "line": {
             "colorbar": {
              "outlinewidth": 0,
              "ticks": ""
             }
            },
            "marker": {
             "colorbar": {
              "outlinewidth": 0,
              "ticks": ""
             }
            },
            "type": "scatter3d"
           }
          ],
          "scattercarpet": [
           {
            "marker": {
             "colorbar": {
              "outlinewidth": 0,
              "ticks": ""
             }
            },
            "type": "scattercarpet"
           }
          ],
          "scattergeo": [
           {
            "marker": {
             "colorbar": {
              "outlinewidth": 0,
              "ticks": ""
             }
            },
            "type": "scattergeo"
           }
          ],
          "scattergl": [
           {
            "marker": {
             "colorbar": {
              "outlinewidth": 0,
              "ticks": ""
             }
            },
            "type": "scattergl"
           }
          ],
          "scattermapbox": [
           {
            "marker": {
             "colorbar": {
              "outlinewidth": 0,
              "ticks": ""
             }
            },
            "type": "scattermapbox"
           }
          ],
          "scatterpolar": [
           {
            "marker": {
             "colorbar": {
              "outlinewidth": 0,
              "ticks": ""
             }
            },
            "type": "scatterpolar"
           }
          ],
          "scatterpolargl": [
           {
            "marker": {
             "colorbar": {
              "outlinewidth": 0,
              "ticks": ""
             }
            },
            "type": "scatterpolargl"
           }
          ],
          "scatterternary": [
           {
            "marker": {
             "colorbar": {
              "outlinewidth": 0,
              "ticks": ""
             }
            },
            "type": "scatterternary"
           }
          ],
          "surface": [
           {
            "colorbar": {
             "outlinewidth": 0,
             "ticks": ""
            },
            "colorscale": [
             [
              0,
              "#0d0887"
             ],
             [
              0.1111111111111111,
              "#46039f"
             ],
             [
              0.2222222222222222,
              "#7201a8"
             ],
             [
              0.3333333333333333,
              "#9c179e"
             ],
             [
              0.4444444444444444,
              "#bd3786"
             ],
             [
              0.5555555555555556,
              "#d8576b"
             ],
             [
              0.6666666666666666,
              "#ed7953"
             ],
             [
              0.7777777777777778,
              "#fb9f3a"
             ],
             [
              0.8888888888888888,
              "#fdca26"
             ],
             [
              1,
              "#f0f921"
             ]
            ],
            "type": "surface"
           }
          ],
          "table": [
           {
            "cells": {
             "fill": {
              "color": "#EBF0F8"
             },
             "line": {
              "color": "white"
             }
            },
            "header": {
             "fill": {
              "color": "#C8D4E3"
             },
             "line": {
              "color": "white"
             }
            },
            "type": "table"
           }
          ]
         },
         "layout": {
          "annotationdefaults": {
           "arrowcolor": "#2a3f5f",
           "arrowhead": 0,
           "arrowwidth": 1
          },
          "autotypenumbers": "strict",
          "coloraxis": {
           "colorbar": {
            "outlinewidth": 0,
            "ticks": ""
           }
          },
          "colorscale": {
           "diverging": [
            [
             0,
             "#8e0152"
            ],
            [
             0.1,
             "#c51b7d"
            ],
            [
             0.2,
             "#de77ae"
            ],
            [
             0.3,
             "#f1b6da"
            ],
            [
             0.4,
             "#fde0ef"
            ],
            [
             0.5,
             "#f7f7f7"
            ],
            [
             0.6,
             "#e6f5d0"
            ],
            [
             0.7,
             "#b8e186"
            ],
            [
             0.8,
             "#7fbc41"
            ],
            [
             0.9,
             "#4d9221"
            ],
            [
             1,
             "#276419"
            ]
           ],
           "sequential": [
            [
             0,
             "#0d0887"
            ],
            [
             0.1111111111111111,
             "#46039f"
            ],
            [
             0.2222222222222222,
             "#7201a8"
            ],
            [
             0.3333333333333333,
             "#9c179e"
            ],
            [
             0.4444444444444444,
             "#bd3786"
            ],
            [
             0.5555555555555556,
             "#d8576b"
            ],
            [
             0.6666666666666666,
             "#ed7953"
            ],
            [
             0.7777777777777778,
             "#fb9f3a"
            ],
            [
             0.8888888888888888,
             "#fdca26"
            ],
            [
             1,
             "#f0f921"
            ]
           ],
           "sequentialminus": [
            [
             0,
             "#0d0887"
            ],
            [
             0.1111111111111111,
             "#46039f"
            ],
            [
             0.2222222222222222,
             "#7201a8"
            ],
            [
             0.3333333333333333,
             "#9c179e"
            ],
            [
             0.4444444444444444,
             "#bd3786"
            ],
            [
             0.5555555555555556,
             "#d8576b"
            ],
            [
             0.6666666666666666,
             "#ed7953"
            ],
            [
             0.7777777777777778,
             "#fb9f3a"
            ],
            [
             0.8888888888888888,
             "#fdca26"
            ],
            [
             1,
             "#f0f921"
            ]
           ]
          },
          "colorway": [
           "#636efa",
           "#EF553B",
           "#00cc96",
           "#ab63fa",
           "#FFA15A",
           "#19d3f3",
           "#FF6692",
           "#B6E880",
           "#FF97FF",
           "#FECB52"
          ],
          "font": {
           "color": "#2a3f5f"
          },
          "geo": {
           "bgcolor": "white",
           "lakecolor": "white",
           "landcolor": "#E5ECF6",
           "showlakes": true,
           "showland": true,
           "subunitcolor": "white"
          },
          "hoverlabel": {
           "align": "left"
          },
          "hovermode": "closest",
          "mapbox": {
           "style": "light"
          },
          "paper_bgcolor": "white",
          "plot_bgcolor": "#E5ECF6",
          "polar": {
           "angularaxis": {
            "gridcolor": "white",
            "linecolor": "white",
            "ticks": ""
           },
           "bgcolor": "#E5ECF6",
           "radialaxis": {
            "gridcolor": "white",
            "linecolor": "white",
            "ticks": ""
           }
          },
          "scene": {
           "xaxis": {
            "backgroundcolor": "#E5ECF6",
            "gridcolor": "white",
            "gridwidth": 2,
            "linecolor": "white",
            "showbackground": true,
            "ticks": "",
            "zerolinecolor": "white"
           },
           "yaxis": {
            "backgroundcolor": "#E5ECF6",
            "gridcolor": "white",
            "gridwidth": 2,
            "linecolor": "white",
            "showbackground": true,
            "ticks": "",
            "zerolinecolor": "white"
           },
           "zaxis": {
            "backgroundcolor": "#E5ECF6",
            "gridcolor": "white",
            "gridwidth": 2,
            "linecolor": "white",
            "showbackground": true,
            "ticks": "",
            "zerolinecolor": "white"
           }
          },
          "shapedefaults": {
           "line": {
            "color": "#2a3f5f"
           }
          },
          "ternary": {
           "aaxis": {
            "gridcolor": "white",
            "linecolor": "white",
            "ticks": ""
           },
           "baxis": {
            "gridcolor": "white",
            "linecolor": "white",
            "ticks": ""
           },
           "bgcolor": "#E5ECF6",
           "caxis": {
            "gridcolor": "white",
            "linecolor": "white",
            "ticks": ""
           }
          },
          "title": {
           "x": 0.05
          },
          "xaxis": {
           "automargin": true,
           "gridcolor": "white",
           "linecolor": "white",
           "ticks": "",
           "title": {
            "standoff": 15
           },
           "zerolinecolor": "white",
           "zerolinewidth": 2
          },
          "yaxis": {
           "automargin": true,
           "gridcolor": "white",
           "linecolor": "white",
           "ticks": "",
           "title": {
            "standoff": 15
           },
           "zerolinecolor": "white",
           "zerolinewidth": 2
          }
         }
        },
        "title": {
         "text": "Main religion per country"
        }
       }
      },
      "text/html": [
       "<div>                            <div id=\"9dc8b2f3-9727-44fb-b311-6ee98cb3feae\" class=\"plotly-graph-div\" style=\"height:525px; width:100%;\"></div>            <script type=\"text/javascript\">                require([\"plotly\"], function(Plotly) {                    window.PLOTLYENV=window.PLOTLYENV || {};                                    if (document.getElementById(\"9dc8b2f3-9727-44fb-b311-6ee98cb3feae\")) {                    Plotly.newPlot(                        \"9dc8b2f3-9727-44fb-b311-6ee98cb3feae\",                        [{\"colorscale\": [[0.0, \"rgb(133, 92, 117)\"], [1.0, \"rgb(133, 92, 117)\"]], \"geo\": \"geo\", \"hovertemplate\": \"<b>%{hovertext}</b><br><br>main_religion=Islam<br>alpha_3=%{location}<extra></extra>\", \"hovertext\": [\"Afghanistan\", \"Albania\", \"Algeria\", \"Azerbaijan\", \"Bahrain\", \"Bangladesh\", \"Bosnia and Herzegovina\", \"Brunei Darussalam\", \"Burkina Faso\", \"Chad\", \"Djibouti\", \"Egypt\", \"Eritrea\", \"Ethiopia\", \"Gambia\", \"Guinea\", \"Guinea-Bissau\", \"Indonesia\", \"Iran, Islamic Republic of\", \"Iraq\", \"Jordan\", \"Kazakhstan\", \"Kuwait\", \"Kyrgyzstan\", \"Lebanon\", \"Libya\", \"Maldives\", \"Mali\", \"Mauritania\", \"Morocco\", \"Mozambique\", \"Nigeria\", \"Nigeria\", \"Oman\", \"Pakistan\", \"Qatar\", \"Saudi Arabia\", \"Senegal\", \"Sierra Leone\", \"Somalia\", \"Sudan\", \"Syrian Arab Republic\", \"Tajikistan\", \"Tunisia\", \"Turkey\", \"Turkmenistan\", \"United Arab Emirates\", \"Uzbekistan\", \"Western Sahara\", \"Yemen\", \"C\\u00f4te d'Ivoire\", \"Palestine, State of\"], \"locations\": [\"AFG\", \"ALB\", \"DZA\", \"AZE\", \"BHR\", \"BGD\", \"BIH\", \"BRN\", \"BFA\", \"TCD\", \"DJI\", \"EGY\", \"ERI\", \"ETH\", \"GMB\", \"GIN\", \"GNB\", \"IDN\", \"IRN\", \"IRQ\", \"JOR\", \"KAZ\", \"KWT\", \"KGZ\", \"LBN\", \"LBY\", \"MDV\", \"MLI\", \"MRT\", \"MAR\", \"MOZ\", \"NGA\", \"NGA\", \"OMN\", \"PAK\", \"QAT\", \"SAU\", \"SEN\", \"SLE\", \"SOM\", \"SDN\", \"SYR\", \"TJK\", \"TUN\", \"TUR\", \"TKM\", \"ARE\", \"UZB\", \"ESH\", \"YEM\", \"CIV\", \"PSE\"], \"name\": \"Islam\", \"showlegend\": true, \"showscale\": false, \"type\": \"choropleth\", \"z\": [1, 1, 1, 1, 1, 1, 1, 1, 1, 1, 1, 1, 1, 1, 1, 1, 1, 1, 1, 1, 1, 1, 1, 1, 1, 1, 1, 1, 1, 1, 1, 1, 1, 1, 1, 1, 1, 1, 1, 1, 1, 1, 1, 1, 1, 1, 1, 1, 1, 1, 1, 1]}, {\"colorscale\": [[0.0, \"rgb(217, 175, 107)\"], [1.0, \"rgb(217, 175, 107)\"]], \"geo\": \"geo\", \"hovertemplate\": \"<b>%{hovertext}</b><br><br>main_religion=Roman Catholic<br>alpha_3=%{location}<extra></extra>\", \"hovertext\": [\"Andorra\", \"Antigua and Barbuda\", \"Cuba\", \"Equatorial Guinea\", \"Guatemala\", \"Latvia\", \"Montenegro\", \"Nauru\", \"Saint Kitts and Nevis\", \"San Marino\", \"Serbia\", \"Holy See (Vatican City State)\", \"Cabo Verde\"], \"locations\": [\"AND\", \"ATG\", \"CUB\", \"GNQ\", \"GTM\", \"LVA\", \"MNE\", \"NRU\", \"KNA\", \"SMR\", \"SRB\", \"VAT\", \"CPV\"], \"name\": \"Roman Catholic\", \"showlegend\": true, \"showscale\": false, \"type\": \"choropleth\", \"z\": [1, 1, 1, 1, 1, 1, 1, 1, 1, 1, 1, 1, 1]}, {\"colorscale\": [[0.0, \"rgb(175, 100, 88)\"], [1.0, \"rgb(175, 100, 88)\"]], \"geo\": \"geo\", \"hovertemplate\": \"<b>%{hovertext}</b><br><br>main_religion=Christianity<br>alpha_3=%{location}<extra></extra>\", \"hovertext\": [\"Angola\", \"Argentina\", \"Armenia\", \"Australia\", \"Austria\", \"Bahamas\", \"Barbados\", \"Belarus\", \"Belgium\", \"Belize\", \"Benin\", \"Bolivia, Plurinational State of\", \"Botswana\", \"Brazil\", \"Bulgaria\", \"Burundi\", \"Cameroon\", \"Canada\", \"Central African Republic\", \"Chile\", \"Colombia\", \"Comoros\", \"Costa Rica\", \"Croatia\", \"Cyprus\", \"Czechia\", \"Denmark\", \"Dominica\", \"Dominican Republic\", \"Ecuador\", \"El Salvador\", \"Estonia\", \"Eswatini\", \"Fiji\", \"Finland\", \"France\", \"Gabon\", \"Georgia\", \"Germany\", \"Ghana\", \"Greece\", \"Grenada\", \"Guyana\", \"Haiti\", \"Honduras\", \"Hungary\", \"Iceland\", \"Ireland\", \"Israel\", \"Italy\", \"Jamaica\", \"Kenya\", \"Kiribati\", \"Lesotho\", \"Liberia\", \"Liechtenstein\", \"Lithuania\", \"Luxembourg\", \"Madagascar\", \"Malawi\", \"Malta\", \"Marshall Islands\", \"Mexico\", \"Micronesia, Federated States of\", \"Moldova, Republic of\", \"Monaco\", \"Namibia\", \"Netherlands\", \"New Zealand\", \"Nicaragua\", \"North Macedonia\", \"Norway\", \"Palau\", \"Panama\", \"Papua New Guinea\", \"Paraguay\", \"Peru\", \"Philippines\", \"Poland\", \"Portugal\", \"Romania\", \"Russian Federation\", \"Rwanda\", \"Saint Lucia\", \"Saint Vincent and the Grenadines\", \"Samoa\", \"Seychelles\", \"Slovakia\", \"Slovenia\", \"Solomon Islands\", \"South Africa\", \"South Sudan\", \"Spain\", \"Sweden\", \"Switzerland\", \"Tanzania, United Republic of\", \"Togo\", \"Tonga\", \"Trinidad and Tobago\", \"Tuvalu\", \"Uganda\", \"Ukraine\", \"United Kingdom\", \"United States\", \"Uruguay\", \"Vanuatu\", \"Venezuela, Bolivarian Republic of\", \"Zambia\", \"Zimbabwe\", \"Congo, The Democratic Republic of the\", \"Congo\", \"Timor-Leste\", \"Korea, Republic of\", \"Sao Tome and Principe\"], \"locations\": [\"AGO\", \"ARG\", \"ARM\", \"AUS\", \"AUT\", \"BHS\", \"BRB\", \"BLR\", \"BEL\", \"BLZ\", \"BEN\", \"BOL\", \"BWA\", \"BRA\", \"BGR\", \"BDI\", \"CMR\", \"CAN\", \"CAF\", \"CHL\", \"COL\", \"COM\", \"CRI\", \"HRV\", \"CYP\", \"CZE\", \"DNK\", \"DMA\", \"DOM\", \"ECU\", \"SLV\", \"EST\", \"SWZ\", \"FJI\", \"FIN\", \"FRA\", \"GAB\", \"GEO\", \"DEU\", \"GHA\", \"GRC\", \"GRD\", \"GUY\", \"HTI\", \"HND\", \"HUN\", \"ISL\", \"IRL\", \"ISR\", \"ITA\", \"JAM\", \"KEN\", \"KIR\", \"LSO\", \"LBR\", \"LIE\", \"LTU\", \"LUX\", \"MDG\", \"MWI\", \"MLT\", \"MHL\", \"MEX\", \"FSM\", \"MDA\", \"MCO\", \"NAM\", \"NLD\", \"NZL\", \"NIC\", \"MKD\", \"NOR\", \"PLW\", \"PAN\", \"PNG\", \"PRY\", \"PER\", \"PHL\", \"POL\", \"PRT\", \"ROU\", \"RUS\", \"RWA\", \"LCA\", \"VCT\", \"WSM\", \"SYC\", \"SVK\", \"SVN\", \"SLB\", \"ZAF\", \"SSD\", \"ESP\", \"SWE\", \"CHE\", \"TZA\", \"TGO\", \"TON\", \"TTO\", \"TUV\", \"UGA\", \"UKR\", \"GBR\", \"USA\", \"URY\", \"VUT\", \"VEN\", \"ZMB\", \"ZWE\", \"COD\", \"COG\", \"TLS\", \"KOR\", \"STP\"], \"name\": \"Christianity\", \"showlegend\": true, \"showscale\": false, \"type\": \"choropleth\", \"z\": [1, 1, 1, 1, 1, 1, 1, 1, 1, 1, 1, 1, 1, 1, 1, 1, 1, 1, 1, 1, 1, 1, 1, 1, 1, 1, 1, 1, 1, 1, 1, 1, 1, 1, 1, 1, 1, 1, 1, 1, 1, 1, 1, 1, 1, 1, 1, 1, 1, 1, 1, 1, 1, 1, 1, 1, 1, 1, 1, 1, 1, 1, 1, 1, 1, 1, 1, 1, 1, 1, 1, 1, 1, 1, 1, 1, 1, 1, 1, 1, 1, 1, 1, 1, 1, 1, 1, 1, 1, 1, 1, 1, 1, 1, 1, 1, 1, 1, 1, 1, 1, 1, 1, 1, 1, 1, 1, 1, 1, 1, 1, 1, 1, 1]}, {\"colorscale\": [[0.0, \"rgb(115, 111, 76)\"], [1.0, \"rgb(115, 111, 76)\"]], \"geo\": \"geo\", \"hovertemplate\": \"<b>%{hovertext}</b><br><br>main_religion=Buddhism<br>alpha_3=%{location}<extra></extra>\", \"hovertext\": [\"Bhutan\", \"Cambodia\", \"China\", \"Japan\", \"Mongolia\", \"Myanmar\", \"Singapore\", \"Sri Lanka\", \"Taiwan, Province of China\", \"Thailand\", \"Viet Nam\", \"Korea, Democratic People's Republic of\", \"Lao People's Democratic Republic\"], \"locations\": [\"BTN\", \"KHM\", \"CHN\", \"JPN\", \"MNG\", \"MMR\", \"SGP\", \"LKA\", \"TWN\", \"THA\", \"VNM\", \"PRK\", \"LAO\"], \"name\": \"Buddhism\", \"showlegend\": true, \"showscale\": false, \"type\": \"choropleth\", \"z\": [1, 1, 1, 1, 1, 1, 1, 1, 1, 1, 1, 1, 1]}, {\"colorscale\": [[0.0, \"rgb(82, 106, 131)\"], [1.0, \"rgb(82, 106, 131)\"]], \"geo\": \"geo\", \"hovertemplate\": \"<b>%{hovertext}</b><br><br>main_religion=Hinduism<br>alpha_3=%{location}<extra></extra>\", \"hovertext\": [\"India\", \"Mauritius\", \"Nepal\", \"Suriname\"], \"locations\": [\"IND\", \"MUS\", \"NPL\", \"SUR\"], \"name\": \"Hinduism\", \"showlegend\": true, \"showscale\": false, \"type\": \"choropleth\", \"z\": [1, 1, 1, 1]}, {\"colorscale\": [[0.0, \"rgb(98, 83, 119)\"], [1.0, \"rgb(98, 83, 119)\"]], \"geo\": \"geo\", \"hovertemplate\": \"<b>%{hovertext}</b><br><br>main_religion=Buddhist<br>alpha_3=%{location}<extra></extra>\", \"hovertext\": [\"Malaysia\"], \"locations\": [\"MYS\"], \"name\": \"Buddhist\", \"showlegend\": true, \"showscale\": false, \"type\": \"choropleth\", \"z\": [1]}],                        {\"geo\": {\"bgcolor\": \"seashell\", \"center\": {}, \"domain\": {\"x\": [0.0, 1.0], \"y\": [0.0, 1.0]}}, \"legend\": {\"title\": {\"text\": \"Religion\"}, \"tracegroupgap\": 0}, \"margin\": {\"t\": 60}, \"template\": {\"data\": {\"bar\": [{\"error_x\": {\"color\": \"#2a3f5f\"}, \"error_y\": {\"color\": \"#2a3f5f\"}, \"marker\": {\"line\": {\"color\": \"#E5ECF6\", \"width\": 0.5}}, \"type\": \"bar\"}], \"barpolar\": [{\"marker\": {\"line\": {\"color\": \"#E5ECF6\", \"width\": 0.5}}, \"type\": \"barpolar\"}], \"carpet\": [{\"aaxis\": {\"endlinecolor\": \"#2a3f5f\", \"gridcolor\": \"white\", \"linecolor\": \"white\", \"minorgridcolor\": \"white\", \"startlinecolor\": \"#2a3f5f\"}, \"baxis\": {\"endlinecolor\": \"#2a3f5f\", \"gridcolor\": \"white\", \"linecolor\": \"white\", \"minorgridcolor\": \"white\", \"startlinecolor\": \"#2a3f5f\"}, \"type\": \"carpet\"}], \"choropleth\": [{\"colorbar\": {\"outlinewidth\": 0, \"ticks\": \"\"}, \"type\": \"choropleth\"}], \"contour\": [{\"colorbar\": {\"outlinewidth\": 0, \"ticks\": \"\"}, \"colorscale\": [[0.0, \"#0d0887\"], [0.1111111111111111, \"#46039f\"], [0.2222222222222222, \"#7201a8\"], [0.3333333333333333, \"#9c179e\"], [0.4444444444444444, \"#bd3786\"], [0.5555555555555556, \"#d8576b\"], [0.6666666666666666, \"#ed7953\"], [0.7777777777777778, \"#fb9f3a\"], [0.8888888888888888, \"#fdca26\"], [1.0, \"#f0f921\"]], \"type\": \"contour\"}], \"contourcarpet\": [{\"colorbar\": {\"outlinewidth\": 0, \"ticks\": \"\"}, \"type\": \"contourcarpet\"}], \"heatmap\": [{\"colorbar\": {\"outlinewidth\": 0, \"ticks\": \"\"}, \"colorscale\": [[0.0, \"#0d0887\"], [0.1111111111111111, \"#46039f\"], [0.2222222222222222, \"#7201a8\"], [0.3333333333333333, \"#9c179e\"], [0.4444444444444444, \"#bd3786\"], [0.5555555555555556, \"#d8576b\"], [0.6666666666666666, \"#ed7953\"], [0.7777777777777778, \"#fb9f3a\"], [0.8888888888888888, \"#fdca26\"], [1.0, \"#f0f921\"]], \"type\": \"heatmap\"}], \"heatmapgl\": [{\"colorbar\": {\"outlinewidth\": 0, \"ticks\": \"\"}, \"colorscale\": [[0.0, \"#0d0887\"], [0.1111111111111111, \"#46039f\"], [0.2222222222222222, \"#7201a8\"], [0.3333333333333333, \"#9c179e\"], [0.4444444444444444, \"#bd3786\"], [0.5555555555555556, \"#d8576b\"], [0.6666666666666666, \"#ed7953\"], [0.7777777777777778, \"#fb9f3a\"], [0.8888888888888888, \"#fdca26\"], [1.0, \"#f0f921\"]], \"type\": \"heatmapgl\"}], \"histogram\": [{\"marker\": {\"colorbar\": {\"outlinewidth\": 0, \"ticks\": \"\"}}, \"type\": \"histogram\"}], \"histogram2d\": [{\"colorbar\": {\"outlinewidth\": 0, \"ticks\": \"\"}, \"colorscale\": [[0.0, \"#0d0887\"], [0.1111111111111111, \"#46039f\"], [0.2222222222222222, \"#7201a8\"], [0.3333333333333333, \"#9c179e\"], [0.4444444444444444, \"#bd3786\"], [0.5555555555555556, \"#d8576b\"], [0.6666666666666666, \"#ed7953\"], [0.7777777777777778, \"#fb9f3a\"], [0.8888888888888888, \"#fdca26\"], [1.0, \"#f0f921\"]], \"type\": \"histogram2d\"}], \"histogram2dcontour\": [{\"colorbar\": {\"outlinewidth\": 0, \"ticks\": \"\"}, \"colorscale\": [[0.0, \"#0d0887\"], [0.1111111111111111, \"#46039f\"], [0.2222222222222222, \"#7201a8\"], [0.3333333333333333, \"#9c179e\"], [0.4444444444444444, \"#bd3786\"], [0.5555555555555556, \"#d8576b\"], [0.6666666666666666, \"#ed7953\"], [0.7777777777777778, \"#fb9f3a\"], [0.8888888888888888, \"#fdca26\"], [1.0, \"#f0f921\"]], \"type\": \"histogram2dcontour\"}], \"mesh3d\": [{\"colorbar\": {\"outlinewidth\": 0, \"ticks\": \"\"}, \"type\": \"mesh3d\"}], \"parcoords\": [{\"line\": {\"colorbar\": {\"outlinewidth\": 0, \"ticks\": \"\"}}, \"type\": \"parcoords\"}], \"pie\": [{\"automargin\": true, \"type\": \"pie\"}], \"scatter\": [{\"marker\": {\"colorbar\": {\"outlinewidth\": 0, \"ticks\": \"\"}}, \"type\": \"scatter\"}], \"scatter3d\": [{\"line\": {\"colorbar\": {\"outlinewidth\": 0, \"ticks\": \"\"}}, \"marker\": {\"colorbar\": {\"outlinewidth\": 0, \"ticks\": \"\"}}, \"type\": \"scatter3d\"}], \"scattercarpet\": [{\"marker\": {\"colorbar\": {\"outlinewidth\": 0, \"ticks\": \"\"}}, \"type\": \"scattercarpet\"}], \"scattergeo\": [{\"marker\": {\"colorbar\": {\"outlinewidth\": 0, \"ticks\": \"\"}}, \"type\": \"scattergeo\"}], \"scattergl\": [{\"marker\": {\"colorbar\": {\"outlinewidth\": 0, \"ticks\": \"\"}}, \"type\": \"scattergl\"}], \"scattermapbox\": [{\"marker\": {\"colorbar\": {\"outlinewidth\": 0, \"ticks\": \"\"}}, \"type\": \"scattermapbox\"}], \"scatterpolar\": [{\"marker\": {\"colorbar\": {\"outlinewidth\": 0, \"ticks\": \"\"}}, \"type\": \"scatterpolar\"}], \"scatterpolargl\": [{\"marker\": {\"colorbar\": {\"outlinewidth\": 0, \"ticks\": \"\"}}, \"type\": \"scatterpolargl\"}], \"scatterternary\": [{\"marker\": {\"colorbar\": {\"outlinewidth\": 0, \"ticks\": \"\"}}, \"type\": \"scatterternary\"}], \"surface\": [{\"colorbar\": {\"outlinewidth\": 0, \"ticks\": \"\"}, \"colorscale\": [[0.0, \"#0d0887\"], [0.1111111111111111, \"#46039f\"], [0.2222222222222222, \"#7201a8\"], [0.3333333333333333, \"#9c179e\"], [0.4444444444444444, \"#bd3786\"], [0.5555555555555556, \"#d8576b\"], [0.6666666666666666, \"#ed7953\"], [0.7777777777777778, \"#fb9f3a\"], [0.8888888888888888, \"#fdca26\"], [1.0, \"#f0f921\"]], \"type\": \"surface\"}], \"table\": [{\"cells\": {\"fill\": {\"color\": \"#EBF0F8\"}, \"line\": {\"color\": \"white\"}}, \"header\": {\"fill\": {\"color\": \"#C8D4E3\"}, \"line\": {\"color\": \"white\"}}, \"type\": \"table\"}]}, \"layout\": {\"annotationdefaults\": {\"arrowcolor\": \"#2a3f5f\", \"arrowhead\": 0, \"arrowwidth\": 1}, \"autotypenumbers\": \"strict\", \"coloraxis\": {\"colorbar\": {\"outlinewidth\": 0, \"ticks\": \"\"}}, \"colorscale\": {\"diverging\": [[0, \"#8e0152\"], [0.1, \"#c51b7d\"], [0.2, \"#de77ae\"], [0.3, \"#f1b6da\"], [0.4, \"#fde0ef\"], [0.5, \"#f7f7f7\"], [0.6, \"#e6f5d0\"], [0.7, \"#b8e186\"], [0.8, \"#7fbc41\"], [0.9, \"#4d9221\"], [1, \"#276419\"]], \"sequential\": [[0.0, \"#0d0887\"], [0.1111111111111111, \"#46039f\"], [0.2222222222222222, \"#7201a8\"], [0.3333333333333333, \"#9c179e\"], [0.4444444444444444, \"#bd3786\"], [0.5555555555555556, \"#d8576b\"], [0.6666666666666666, \"#ed7953\"], [0.7777777777777778, \"#fb9f3a\"], [0.8888888888888888, \"#fdca26\"], [1.0, \"#f0f921\"]], \"sequentialminus\": [[0.0, \"#0d0887\"], [0.1111111111111111, \"#46039f\"], [0.2222222222222222, \"#7201a8\"], [0.3333333333333333, \"#9c179e\"], [0.4444444444444444, \"#bd3786\"], [0.5555555555555556, \"#d8576b\"], [0.6666666666666666, \"#ed7953\"], [0.7777777777777778, \"#fb9f3a\"], [0.8888888888888888, \"#fdca26\"], [1.0, \"#f0f921\"]]}, \"colorway\": [\"#636efa\", \"#EF553B\", \"#00cc96\", \"#ab63fa\", \"#FFA15A\", \"#19d3f3\", \"#FF6692\", \"#B6E880\", \"#FF97FF\", \"#FECB52\"], \"font\": {\"color\": \"#2a3f5f\"}, \"geo\": {\"bgcolor\": \"white\", \"lakecolor\": \"white\", \"landcolor\": \"#E5ECF6\", \"showlakes\": true, \"showland\": true, \"subunitcolor\": \"white\"}, \"hoverlabel\": {\"align\": \"left\"}, \"hovermode\": \"closest\", \"mapbox\": {\"style\": \"light\"}, \"paper_bgcolor\": \"white\", \"plot_bgcolor\": \"#E5ECF6\", \"polar\": {\"angularaxis\": {\"gridcolor\": \"white\", \"linecolor\": \"white\", \"ticks\": \"\"}, \"bgcolor\": \"#E5ECF6\", \"radialaxis\": {\"gridcolor\": \"white\", \"linecolor\": \"white\", \"ticks\": \"\"}}, \"scene\": {\"xaxis\": {\"backgroundcolor\": \"#E5ECF6\", \"gridcolor\": \"white\", \"gridwidth\": 2, \"linecolor\": \"white\", \"showbackground\": true, \"ticks\": \"\", \"zerolinecolor\": \"white\"}, \"yaxis\": {\"backgroundcolor\": \"#E5ECF6\", \"gridcolor\": \"white\", \"gridwidth\": 2, \"linecolor\": \"white\", \"showbackground\": true, \"ticks\": \"\", \"zerolinecolor\": \"white\"}, \"zaxis\": {\"backgroundcolor\": \"#E5ECF6\", \"gridcolor\": \"white\", \"gridwidth\": 2, \"linecolor\": \"white\", \"showbackground\": true, \"ticks\": \"\", \"zerolinecolor\": \"white\"}}, \"shapedefaults\": {\"line\": {\"color\": \"#2a3f5f\"}}, \"ternary\": {\"aaxis\": {\"gridcolor\": \"white\", \"linecolor\": \"white\", \"ticks\": \"\"}, \"baxis\": {\"gridcolor\": \"white\", \"linecolor\": \"white\", \"ticks\": \"\"}, \"bgcolor\": \"#E5ECF6\", \"caxis\": {\"gridcolor\": \"white\", \"linecolor\": \"white\", \"ticks\": \"\"}}, \"title\": {\"x\": 0.05}, \"xaxis\": {\"automargin\": true, \"gridcolor\": \"white\", \"linecolor\": \"white\", \"ticks\": \"\", \"title\": {\"standoff\": 15}, \"zerolinecolor\": \"white\", \"zerolinewidth\": 2}, \"yaxis\": {\"automargin\": true, \"gridcolor\": \"white\", \"linecolor\": \"white\", \"ticks\": \"\", \"title\": {\"standoff\": 15}, \"zerolinecolor\": \"white\", \"zerolinewidth\": 2}}}, \"title\": {\"text\": \"Main religion per country\"}},                        {\"responsive\": true}                    ).then(function(){\n",
       "                            \n",
       "var gd = document.getElementById('9dc8b2f3-9727-44fb-b311-6ee98cb3feae');\n",
       "var x = new MutationObserver(function (mutations, observer) {{\n",
       "        var display = window.getComputedStyle(gd).display;\n",
       "        if (!display || display === 'none') {{\n",
       "            console.log([gd, 'removed!']);\n",
       "            Plotly.purge(gd);\n",
       "            observer.disconnect();\n",
       "        }}\n",
       "}});\n",
       "\n",
       "// Listen for the removal of the full notebook cells\n",
       "var notebookContainer = gd.closest('#notebook-container');\n",
       "if (notebookContainer) {{\n",
       "    x.observe(notebookContainer, {childList: true});\n",
       "}}\n",
       "\n",
       "// Listen for the clearing of the current output cell\n",
       "var outputEl = gd.closest('.output');\n",
       "if (outputEl) {{\n",
       "    x.observe(outputEl, {childList: true});\n",
       "}}\n",
       "\n",
       "                        })                };                });            </script>        </div>"
      ]
     },
     "metadata": {},
     "output_type": "display_data"
    },
    {
     "ename": "NameError",
     "evalue": "name 'plot' is not defined",
     "output_type": "error",
     "traceback": [
      "\u001b[0;31m---------------------------------------------------------------------------\u001b[0m",
      "\u001b[0;31mNameError\u001b[0m                                 Traceback (most recent call last)",
      "\u001b[0;32m<ipython-input-36-1f58926201f7>\u001b[0m in \u001b[0;36m<module>\u001b[0;34m\u001b[0m\n\u001b[1;32m     14\u001b[0m \u001b[0mfig\u001b[0m\u001b[0;34m.\u001b[0m\u001b[0mshow\u001b[0m\u001b[0;34m(\u001b[0m\u001b[0;34m)\u001b[0m\u001b[0;34m\u001b[0m\u001b[0;34m\u001b[0m\u001b[0m\n\u001b[1;32m     15\u001b[0m \u001b[0;34m\u001b[0m\u001b[0m\n\u001b[0;32m---> 16\u001b[0;31m \u001b[0mhtml\u001b[0m \u001b[0;34m=\u001b[0m \u001b[0mplot\u001b[0m\u001b[0;34m(\u001b[0m\u001b[0mfig\u001b[0m\u001b[0;34m,\u001b[0m \u001b[0mauto_open\u001b[0m\u001b[0;34m=\u001b[0m\u001b[0;32mFalse\u001b[0m\u001b[0;34m,\u001b[0m \u001b[0moutput_type\u001b[0m\u001b[0;34m=\u001b[0m\u001b[0;34m'div'\u001b[0m\u001b[0;34m)\u001b[0m\u001b[0;34m\u001b[0m\u001b[0;34m\u001b[0m\u001b[0m\n\u001b[0m\u001b[1;32m     17\u001b[0m \u001b[0;32mwith\u001b[0m \u001b[0mopen\u001b[0m\u001b[0;34m(\u001b[0m\u001b[0;34m\"world_religions.html\"\u001b[0m\u001b[0;34m,\u001b[0m \u001b[0;34m'w'\u001b[0m\u001b[0;34m)\u001b[0m \u001b[0;32mas\u001b[0m \u001b[0mfile\u001b[0m\u001b[0;34m:\u001b[0m\u001b[0;34m\u001b[0m\u001b[0;34m\u001b[0m\u001b[0m\n\u001b[1;32m     18\u001b[0m     \u001b[0mfile\u001b[0m\u001b[0;34m.\u001b[0m\u001b[0mwrite\u001b[0m\u001b[0;34m(\u001b[0m\u001b[0mhtml\u001b[0m\u001b[0;34m)\u001b[0m\u001b[0;34m\u001b[0m\u001b[0;34m\u001b[0m\u001b[0m\n",
      "\u001b[0;31mNameError\u001b[0m: name 'plot' is not defined"
     ]
    }
   ],
   "source": [
    "import plotly.express as px\n",
    "\n",
    "fig = px.choropleth(countries, locations=\"alpha_3\",\n",
    "                    color=\"main_religion\", \n",
    "                    hover_name=\"name\",\n",
    "                    color_discrete_sequence=px.colors.qualitative.Antique,)\n",
    "\n",
    "\n",
    "fig.update_layout(geo=dict(bgcolor= 'seashell'))\n",
    "fig.update_layout(\n",
    "    title=\"Main religion per country\",\n",
    "    legend_title=\"Religion\"\n",
    "    )\n",
    "fig.show()\n",
    "\n",
    "html = plot(fig, auto_open=False, output_type='div')\n",
    "with open(\"world_religions.html\", 'w') as file:\n",
    "    file.write(html)"
   ]
  },
  {
   "cell_type": "code",
   "execution_count": null,
   "metadata": {},
   "outputs": [],
   "source": []
  },
  {
   "cell_type": "code",
   "execution_count": null,
   "metadata": {},
   "outputs": [],
   "source": []
  },
  {
   "cell_type": "code",
   "execution_count": null,
   "metadata": {},
   "outputs": [],
   "source": []
  }
 ],
 "metadata": {
  "kernelspec": {
   "display_name": "Python 3",
   "language": "python",
   "name": "python3"
  },
  "language_info": {
   "codemirror_mode": {
    "name": "ipython",
    "version": 3
   },
   "file_extension": ".py",
   "mimetype": "text/x-python",
   "name": "python",
   "nbconvert_exporter": "python",
   "pygments_lexer": "ipython3",
   "version": "3.8.3"
  }
 },
 "nbformat": 4,
 "nbformat_minor": 4
}
